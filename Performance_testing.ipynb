{
 "cells": [
  {
   "cell_type": "code",
   "execution_count": 374,
   "metadata": {},
   "outputs": [],
   "source": [
    "import random\n",
    "import numpy as np\n",
    "import math\n",
    "import itertools\n",
    "import matplotlib.pyplot as plt"
   ]
  },
  {
   "cell_type": "markdown",
   "metadata": {},
   "source": [
    "## Creating random locations"
   ]
  },
  {
   "cell_type": "code",
   "execution_count": 375,
   "metadata": {},
   "outputs": [
    {
     "data": {
      "text/plain": [
       "[[16.532057703187842, 13.602683254353408],\n",
       " [5.615856246870697, 16.153229595831693],\n",
       " [20.257269485307543, 10.319718507091],\n",
       " [13.691047272944466, 12.20424014318959],\n",
       " [2.9871827076205806, 14.153646504534743]]"
      ]
     },
     "execution_count": 375,
     "metadata": {},
     "output_type": "execute_result"
    }
   ],
   "source": [
    "def Create_locations(x,y,n):\n",
    "    locations= []\n",
    "    for i in range(n):\n",
    "        loc_x = random.uniform(0,x)\n",
    "        loc_y = random.uniform(0,y)\n",
    "        locations.append([loc_x,loc_y])\n",
    "    return locations\n",
    "\n",
    "Create_locations(30,20,5)"
   ]
  },
  {
   "cell_type": "markdown",
   "metadata": {},
   "source": [
    "## Distance Calculation"
   ]
  },
  {
   "cell_type": "code",
   "execution_count": 376,
   "metadata": {},
   "outputs": [],
   "source": [
    "def calculate_euclidean_distance(pt1, pt2):\n",
    "    pt1 = np.array(pt1)\n",
    "    pt2 = np.array(pt2)\n",
    "    return np.sqrt(np.sum((pt2 - pt1)**2))\n",
    "\n",
    "def calculate_manhattan_distance(point1, point2):\n",
    "    \n",
    "    return abs(point1[0] - point2[0]) + abs(point1[1] - point2[1])"
   ]
  },
  {
   "cell_type": "code",
   "execution_count": 377,
   "metadata": {},
   "outputs": [],
   "source": [
    "def calculate_total_distance(DP_candidate, delivery_locations, k):\n",
    "    k = k[0][0]\n",
    "    total_euclidean_distance = 0\n",
    "    total_manhattan_distance = 0\n",
    "    if DP_candidate[0]<=k:\n",
    "        for delivery_location in delivery_locations:\n",
    "            if delivery_location[0] <= k:\n",
    "                total_euclidean_distance += calculate_euclidean_distance(DP_candidate, delivery_location)\n",
    "            else:\n",
    "                total_euclidean_distance += calculate_euclidean_distance(DP_candidate, (k,delivery_location[1]))\n",
    "                total_manhattan_distance += calculate_manhattan_distance((k,delivery_location[1]), delivery_location)\n",
    "\n",
    "    \n",
    "    else:\n",
    "        for delivery_location in delivery_locations:\n",
    "            if delivery_location[0] > k:\n",
    "                total_manhattan_distance += calculate_manhattan_distance(DP_candidate, delivery_location)\n",
    "            else:\n",
    "                total_manhattan_distance += calculate_manhattan_distance(DP_candidate, (k,DP_candidate[1]))\n",
    "                total_euclidean_distance += calculate_euclidean_distance((k, DP_candidate[1]), delivery_location)\n",
    "    \n",
    "    \n",
    "    return total_euclidean_distance + total_manhattan_distance"
   ]
  },
  {
   "cell_type": "markdown",
   "metadata": {},
   "source": [
    "## DP Creation algorithms"
   ]
  },
  {
   "cell_type": "code",
   "execution_count": 378,
   "metadata": {},
   "outputs": [],
   "source": [
    "def gec(coordinates):\n",
    "    x_sum = sum(loc[0] for loc in coordinates)\n",
    "    y_sum = sum(loc[1] for loc in coordinates)\n",
    "    x_cord = x_sum / len(coordinates)\n",
    "    y_cord = y_sum / len(coordinates)\n",
    "\n",
    "    return x_cord, y_cord\n",
    "\n",
    "def gmm(coordinate):\n",
    "    x_axis = []\n",
    "    y_axis = []\n",
    "    centroid = []\n",
    "\n",
    "    for i in coordinate:\n",
    "        x_axis.append(i[0])\n",
    "        y_axis.append(i[1])\n",
    "\n",
    "    centroid.append(np.median(x_axis))\n",
    "    centroid.append(np.median(y_axis))\n",
    "\n",
    "    return centroid"
   ]
  },
  {
   "cell_type": "code",
   "execution_count": 379,
   "metadata": {},
   "outputs": [],
   "source": [
    "def ecmb(coordinate, border):\n",
    "    longitude = 0\n",
    "    latitude = 0\n",
    "    k=border[0][0]\n",
    "    # test = gec(coordinate)\n",
    "    for loc in coordinate:\n",
    "        if loc[0] <= k:\n",
    "            longitude+= loc[0]\n",
    "        else:\n",
    "            longitude+= k\n",
    "        latitude+= loc[1]\n",
    "    x_axis = longitude/len(coordinate)\n",
    "    y_axis = latitude/len(coordinate)\n",
    "    return x_axis, y_axis"
   ]
  },
  {
   "cell_type": "code",
   "execution_count": 380,
   "metadata": {},
   "outputs": [],
   "source": [
    "def calculate_manhattan_median(centroids):\n",
    "    x = [i for i,j in centroids]\n",
    "    y = [j for i,j in centroids]\n",
    "\n",
    "    loc_x = np.median(x)\n",
    "    loc_y = np.median(y)\n",
    "\n",
    "    return loc_x, loc_y\n",
    "\n",
    "def mmeb(customer_locations, border_position):\n",
    "    R = border_position[0][0]\n",
    "\n",
    "    euclidean_locations = [(x, y) for x, y in customer_locations if x <= R]\n",
    "    manhattan_locations = [(x, y) for x, y in customer_locations if x > R]\n",
    "\n",
    "    best_median_row = None\n",
    "    best_median_column = None\n",
    "    best_total_cost = math.inf\n",
    "\n",
    "    possible_positions = np.linspace(border_position[0][1], border_position[1][1], num=100)\n",
    "\n",
    "    # Iterate over possible distinct positions on the border\n",
    "    for i in possible_positions:\n",
    "\n",
    "        projected_euclidean = [(R, i) for _, _ in euclidean_locations]\n",
    "\n",
    "        combined_customers = projected_euclidean + manhattan_locations\n",
    "\n",
    "        median_row, median_column = calculate_manhattan_median(combined_customers)\n",
    "\n",
    "        total_cost = sum(math.sqrt((x-R)**2 + (y-i)**2) for x,y in euclidean_locations) #cost from euclidian to border\n",
    "        total_cost += sum(abs(x-median_row) + abs(y-median_column) for x,y in combined_customers) #cost from border to manhattan\n",
    "\n",
    "        # Update the best result if the current position is better\n",
    "        if total_cost < best_total_cost:\n",
    "            # best_border_point = projected_euclidean[0]\n",
    "            best_total_cost = total_cost\n",
    "            best_median_row = median_row\n",
    "            best_median_column = median_column\n",
    "\n",
    "    return [best_median_row, best_median_column],best_total_cost"
   ]
  },
  {
   "cell_type": "markdown",
   "metadata": {},
   "source": [
    "## Exhaustive Search"
   ]
  },
  {
   "cell_type": "code",
   "execution_count": 381,
   "metadata": {},
   "outputs": [],
   "source": [
    "def frange(start, stop, step):\n",
    "    while start < stop:\n",
    "        yield round(start, 4)\n",
    "        start += step"
   ]
  },
  {
   "cell_type": "code",
   "execution_count": 382,
   "metadata": {},
   "outputs": [],
   "source": [
    "def exhaustive_search(delivery_locations, k, x, y):\n",
    "    x = [i for i,j in delivery_locations]\n",
    "    y = [j for i,j in delivery_locations]\n",
    "\n",
    "    min_x = min(x)\n",
    "    max_x = max(x)\n",
    "    min_y = min(y)\n",
    "    max_y = max(y)\n",
    "\n",
    "    min_distance = float('inf')\n",
    "    optimal_DP = None\n",
    "    \n",
    "    for x in frange(min_x,max_x,0.1):\n",
    "        for y in frange(min_y, max_y,0.1):\n",
    "\n",
    "            total_distance = calculate_total_distance((x,y), delivery_locations, k)\n",
    "        \n",
    "            if total_distance < min_distance:\n",
    "                min_distance = total_distance\n",
    "                optimal_DP = (x,y)\n",
    "    \n",
    "    return optimal_DP, 2*min_distance"
   ]
  },
  {
   "cell_type": "markdown",
   "metadata": {},
   "source": [
    "## Main"
   ]
  },
  {
   "cell_type": "code",
   "execution_count": 383,
   "metadata": {},
   "outputs": [
    {
     "data": {
      "text/plain": [
       "[[3.9820344601436384, 3.4592032073571435],\n",
       " [8.146209915308049, 7.138736622101157],\n",
       " [7.589708077292427, 1.832042923996996],\n",
       " [0.5214169582996608, 4.92138013276616],\n",
       " [0.04697790602510743, 7.7940426393101045]]"
      ]
     },
     "execution_count": 383,
     "metadata": {},
     "output_type": "execute_result"
    }
   ],
   "source": [
    "n = 5\n",
    "x = 10.0\n",
    "y = 10.0\n",
    "border = [[5.0,0.0],[5.0,10.0]]\n",
    "\n",
    "delivary_locations = Create_locations(x,y,n)\n",
    "\n",
    "delivary_locations"
   ]
  },
  {
   "cell_type": "code",
   "execution_count": 384,
   "metadata": {},
   "outputs": [
    {
     "data": {
      "text/plain": [
       "(3, 2)"
      ]
     },
     "execution_count": 384,
     "metadata": {},
     "output_type": "execute_result"
    }
   ],
   "source": [
    "euclidean_count = sum(1 for loc in delivary_locations if loc[0] <= border[0][0])\n",
    "manhattan_count = len(delivary_locations) - euclidean_count\n",
    "\n",
    "euclidean_count, manhattan_count"
   ]
  },
  {
   "cell_type": "code",
   "execution_count": 385,
   "metadata": {},
   "outputs": [
    {
     "name": "stdout",
     "output_type": "stream",
     "text": [
      "(4.0572694634137765, 5.029081105106313)\n",
      "[3.9820344601436384, 4.92138013276616]\n",
      "(2.910085864893681, 5.029081105106313)\n",
      "[5.0, 4.444444444444445]\n",
      "(3.247, 4.532)\n"
     ]
    }
   ],
   "source": [
    "gec_dp = gec(delivary_locations)\n",
    "gmm_dp = gmm(delivary_locations)\n",
    "ecmb_dp = ecmb(delivary_locations, border)\n",
    "mmeb_dp, mmeb_distance = mmeb(delivary_locations, border)\n",
    "optimal_dp, optimal_distance = exhaustive_search(delivary_locations,border,x,y)\n",
    "\n",
    "print(gec_dp)\n",
    "print(gmm_dp)\n",
    "print(ecmb_dp)\n",
    "print(mmeb_dp)\n",
    "print(optimal_dp)"
   ]
  },
  {
   "cell_type": "code",
   "execution_count": 386,
   "metadata": {},
   "outputs": [
    {
     "name": "stdout",
     "output_type": "stream",
     "text": [
      "42.720040650479405,42.446707104173626,41.59462896378619,45.88501123781633,41.43936283081425\n"
     ]
    }
   ],
   "source": [
    "gec_distance = 2*calculate_total_distance(gec_dp,delivary_locations,border)\n",
    "gmm_distance = 2*calculate_total_distance(gmm_dp,delivary_locations,border)\n",
    "ecmb_distance = 2*calculate_total_distance(ecmb_dp,delivary_locations,border)\n",
    "mmeb_distance = 2 * mmeb_distance\n",
    "\n",
    "print(gec_distance,',',gmm_distance,',',ecmb_distance,',',mmeb_distance,',',optimal_distance,sep=\"\")"
   ]
  },
  {
   "cell_type": "code",
   "execution_count": 387,
   "metadata": {},
   "outputs": [
    {
     "data": {
      "image/png": "[encoded data removed]",
      "text/plain": [
       "<Figure size 640x480 with 1 Axes>"
      ]
     },
     "metadata": {},
     "output_type": "display_data"
    }
   ],
   "source": [
    "delivary_locations = np.array(delivary_locations)\n",
    "border = np.array(border)\n",
    "\n",
    "plt.scatter(delivary_locations[:,0],delivary_locations[:,1])\n",
    "plt.plot((border[0][0],border[1,0]),(border[0][1],border[1][1]),c='black')\n",
    "plt.scatter(gec_dp[0],gec_dp[1],marker='x',c='red',label=\"gec dp\")\n",
    "plt.scatter(gec_dp[0],gec_dp[1],marker='x',c='red',label=\"gec dp\")\n",
    "plt.scatter(gmm_dp[0],gmm_dp[1],marker='x',c='green',label=\"gmm dp\")\n",
    "plt.scatter(ecmb_dp[0],ecmb_dp[1],marker='x',c='yellow',label=\"ecmb dp\")\n",
    "plt.scatter(mmeb_dp[0],mmeb_dp[1],marker='x',c='black',label=\"mmeb dp\")\n",
    "plt.scatter(optimal_dp[0],optimal_dp[1],marker='x',c='purple',label=\"optimal dp\")\n",
    "plt.legend()\n",
    "plt.show()"
   ]
  }
 ],
 "metadata": {
  "kernelspec": {
   "display_name": "Python 3",
   "language": "python",
   "name": "python3"
  },
  "language_info": {
   "codemirror_mode": {
    "name": "ipython",
    "version": 3
   },
   "file_extension": ".py",
   "mimetype": "text/x-python",
   "name": "python",
   "nbconvert_exporter": "python",
   "pygments_lexer": "ipython3",
   "version": "3.11.3"
  }
 },
 "nbformat": 4,
 "nbformat_minor": 2
}
