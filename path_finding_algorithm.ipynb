{
 "cells": [
  {
   "cell_type": "code",
   "execution_count": 63,
   "metadata": {},
   "outputs": [],
   "source": [
    "import networkx as nx\n",
    "from shapely.geometry import Polygon,LineString,Point\n",
    "from shapely.ops import split\n",
    "import numpy as np\n",
    "import matplotlib.pyplot as plt"
   ]
  },
  {
   "cell_type": "code",
   "execution_count": 64,
   "metadata": {},
   "outputs": [],
   "source": [
    "def make_graph(point_1, point_2, obstacles, path = False):\n",
    "    plt.scatter(point_1[0], point_1[1], c=\"blue\")\n",
    "    plt.scatter(point_2[0], point_2[1], c=\"blue\")\n",
    "    plt.plot([point_1[0], point_2[0]],[point_1[1], point_2[1]], c=\"gray\")\n",
    "    for obstacle_id, point in obstacles.items():\n",
    "        points = point.exterior.coords\n",
    "        x = [i for i,j in points]\n",
    "        y = [j for i,j in points]\n",
    "\n",
    "        plt.fill(x,y,color=\"red\", alpha = 0.7)\n",
    "    if path:\n",
    "        for i in range(len(path) - 1):\n",
    "            plt.plot([path[i][0],path[i+1][0]],[path[i][1],path[i+1][1]],c=\"green\")\n",
    "    plt.grid(True)\n",
    "    plt.show()"
   ]
  },
  {
   "cell_type": "code",
   "execution_count": 65,
   "metadata": {},
   "outputs": [],
   "source": [
    "def line_intersect(line, obstacle):\n",
    "    parts = split(obstacle, line)\n",
    "\n",
    "    count = len([geoms for geoms in parts.geoms])\n",
    "\n",
    "    return count != 1"
   ]
  },
  {
   "cell_type": "code",
   "execution_count": 66,
   "metadata": {},
   "outputs": [],
   "source": [
    "def calculate_distance(point1, point2):\n",
    "    point1 = np.array(point1)\n",
    "    point2 = np.array(point2)\n",
    "    return np.sqrt(np.sum((point1 - point2)**2))"
   ]
  },
  {
   "cell_type": "code",
   "execution_count": 67,
   "metadata": {},
   "outputs": [],
   "source": [
    "def create_shortest_path(point_1, point_2, obstacle):\n",
    "    intersections = obstacle.exterior.coords\n",
    "\n",
    "    # Create a graph\n",
    "    G = nx.Graph()\n",
    "\n",
    "    # Add nodes for each point in the space\n",
    "    G.add_node(tuple(point_1))\n",
    "\n",
    "    for inter_point in intersections:\n",
    "        G.add_node(tuple(inter_point))\n",
    "    \n",
    "    G.add_node(tuple(point_2))\n",
    "\n",
    "    # Add edges between adjacent points\n",
    "    for cur in G.nodes():\n",
    "        for next in G.nodes():\n",
    "            if cur == next:\n",
    "                continue\n",
    "            line = LineString([cur, next])\n",
    "            if not line_intersect(line, obstacle):\n",
    "                G.add_edge(cur, next)\n",
    "\n",
    "    # Find the shortest path using A*\n",
    "    start = tuple(point_1)\n",
    "    goal = tuple(point_2)\n",
    "    path = nx.astar_path(G, start, goal, heuristic=calculate_distance)\n",
    "\n",
    "    # graphical representation\n",
    "    pos = {node: node for node in G.nodes()}\n",
    "    nx.draw(G, pos, node_color='lightgray', with_labels=True)\n",
    "    nx.draw_networkx_nodes(G, pos, nodelist=[start], node_color='green')\n",
    "    nx.draw_networkx_nodes(G, pos, nodelist=[goal], node_color='red')\n",
    "    nx.draw_networkx_edges(G, pos, edgelist=[(path[i], path[i+1]) for i in range(len(path)-1)], edge_color='blue', width=2)\n",
    "    plt.title('Path Planning with Obstacle Avoidance')\n",
    "    plt.show()\n",
    "\n",
    "    return path"
   ]
  },
  {
   "cell_type": "code",
   "execution_count": 68,
   "metadata": {},
   "outputs": [],
   "source": [
    "def create_path(source, destination, obstacles):\n",
    "    line = LineString([source, destination])\n",
    "    obstacle_free_path = True\n",
    "\n",
    "    # Check for obstacle intersection\n",
    "    for obs_id, obstacle in obstacles.items():\n",
    "        if line_intersect(line, obstacle):\n",
    "            obstacle_free_path = False\n",
    "            # Recursively find path around the obstacle\n",
    "            path_around_obstacle = create_shortest_path(source, destination, obstacle)\n",
    "            make_graph(source, destination, obstacles, path=path_around_obstacle)\n",
    "            # Concatenate the paths\n",
    "            path = []\n",
    "            for i in range(len(path_around_obstacle) - 1):\n",
    "                path.extend(create_path(path_around_obstacle[i], path_around_obstacle[i + 1], obstacles))\n",
    "            return path\n",
    "\n",
    "    # Base case: no obstacle in the line\n",
    "    if obstacle_free_path:\n",
    "        return [source, destination]\n",
    "\n",
    "    return []\n"
   ]
  },
  {
   "cell_type": "code",
   "execution_count": 69,
   "metadata": {},
   "outputs": [],
   "source": [
    "def create_shortest_path(source, dest, obstacles):\n",
    "    G = nx.Graph()\n",
    "\n",
    "    # connecting nodes\n",
    "    G.add_node(tuple(source))\n",
    "\n",
    "    for i in dest:\n",
    "        G.add_node(tuple(i))\n",
    "\n",
    "    for obs_id, obstacle in obstacles.items():\n",
    "        for i in obstacle.exterior.coords:\n",
    "            G.add_node(tuple(i))\n",
    "\n",
    "    nodes = list(G.nodes())\n",
    "\n",
    "    # connecting edges\n",
    "    for i in range(0,len(nodes)-1):\n",
    "        for j in range(i+1,len(nodes)):\n",
    "            intersect = False\n",
    "            for obs_id, obstacle in obstacles.items():\n",
    "                if line_intersect(LineString([nodes[i],nodes[j]]),obstacle):\n",
    "                    intersect = True\n",
    "                    break\n",
    "            if not intersect:\n",
    "                G.add_edge(nodes[i],nodes[j], weight = calculate_distance(nodes[i],nodes[j]))\n",
    "\n",
    "    dijkstra_paths = nx.all_pairs_dijkstra(G)\n",
    "\n",
    "    matrix = list(dijkstra_paths)\n",
    "    print(\"=\"*50)\n",
    "    print(matrix[0])\n",
    "    print(\"=\"*50)\n",
    "    print(matrix[0][0])\n",
    "    print(\"=\"*50)\n",
    "    print(matrix[0][1])\n",
    "\n",
    "    paths = []\n",
    "    \n",
    "    for target_node, (distances, path) in dijkstra_paths:\n",
    "        if target_node == tuple(source):\n",
    "            for loc_node in dest:\n",
    "                paths.append(path[loc_node])\n",
    "\n",
    "    print(paths)\n",
    "\n",
    "    for id,path in enumerate(paths):\n",
    "        pos = {node: node for node in G.nodes()}\n",
    "        nx.draw(G, pos, node_color='lightgray', with_labels=False)\n",
    "        nx.draw_networkx_nodes(G, pos, nodelist=[tuple(source)], node_color='green')\n",
    "        nx.draw_networkx_nodes(G, pos, nodelist=[tuple(dest[id])], node_color='red')\n",
    "        nx.draw_networkx_edges(G, pos, edgelist=[(path[i], path[i+1]) for i in range(len(path)-1)], edge_color='blue', width=2)\n",
    "        plt.title('Path Planning with Obstacle Avoidance')\n",
    "        plt.show()\n",
    "\n",
    "    return 0"
   ]
  },
  {
   "cell_type": "markdown",
   "metadata": {},
   "source": [
    "## Input"
   ]
  },
  {
   "cell_type": "code",
   "execution_count": 70,
   "metadata": {},
   "outputs": [
    {
     "name": "stdout",
     "output_type": "stream",
     "text": [
      "==================================================\n",
      "((1, 6), ({(1, 6): 0, (2.0, 6.1): 1.004987562112089, (2.0, 5.9): 1.004987562112089, (2.0, 6.4): 1.077032961426901, (2.0, 5.6): 1.077032961426901, (3.0, 6.1): 2.0024984394500787, (3.0, 5.9): 2.0024984394500787, (3.0, 6.4): 2.0770329614269007, (3.0, 5.6): 2.0770329614269007, (4.0, 6.5): 3.07953140087698, (4.0, 5.5): 3.07953140087698, (6.0, 6.5): 5.07953140087698, (6.0, 5.5): 5.07953140087698, (6.5, 5.8): 5.66262659036151, (7.0, 6.4): 6.084518962989069, (7.0, 5.6): 6.084518962989069, (7.0, 6.1): 6.156564362303881, (7.0, 5.9): 6.156564362303881, (8.0, 6.4): 7.082029840327058, (8.0, 5.6): 7.082029840327058, (8.0, 6.1): 7.156564362303881, (8.0, 5.9): 7.156564362303881, (9, 6): 8.15906280175396}, {(1, 6): [(1, 6)], (2.0, 6.1): [(1, 6), (2.0, 6.1)], (3.0, 6.1): [(1, 6), (3.0, 6.1)], (2.0, 6.4): [(1, 6), (2.0, 6.4)], (2.0, 5.6): [(1, 6), (2.0, 5.6)], (3.0, 5.9): [(1, 6), (3.0, 5.9)], (2.0, 5.9): [(1, 6), (2.0, 5.9)], (4.0, 6.5): [(1, 6), (2.0, 6.4), (4.0, 6.5)], (3.0, 6.4): [(1, 6), (2.0, 6.4), (3.0, 6.4)], (4.0, 5.5): [(1, 6), (2.0, 5.6), (4.0, 5.5)], (3.0, 5.6): [(1, 6), (2.0, 5.6), (3.0, 5.6)], (6.0, 6.5): [(1, 6), (2.0, 6.4), (4.0, 6.5), (6.0, 6.5)], (6.0, 5.5): [(1, 6), (2.0, 5.6), (4.0, 5.5), (6.0, 5.5)], (6.5, 5.8): [(1, 6), (2.0, 5.6), (4.0, 5.5), (6.0, 5.5), (6.5, 5.8)], (7.0, 6.1): [(1, 6), (2.0, 6.4), (4.0, 6.5), (6.0, 6.5), (7.0, 6.1)], (8.0, 6.4): [(1, 6), (2.0, 6.4), (4.0, 6.5), (6.0, 6.5), (8.0, 6.4)], (7.0, 6.4): [(1, 6), (2.0, 6.4), (4.0, 6.5), (6.0, 6.5), (7.0, 6.4)], (7.0, 5.6): [(1, 6), (2.0, 5.6), (4.0, 5.5), (6.0, 5.5), (7.0, 5.6)], (7.0, 5.9): [(1, 6), (2.0, 5.6), (4.0, 5.5), (6.0, 5.5), (7.0, 5.9)], (8.0, 5.6): [(1, 6), (2.0, 5.6), (4.0, 5.5), (6.0, 5.5), (8.0, 5.6)], (8.0, 6.1): [(1, 6), (2.0, 6.4), (4.0, 6.5), (6.0, 6.5), (7.0, 6.1), (8.0, 6.1)], (9, 6): [(1, 6), (2.0, 6.4), (4.0, 6.5), (6.0, 6.5), (7.0, 6.1), (9, 6)], (8.0, 5.9): [(1, 6), (2.0, 5.6), (4.0, 5.5), (6.0, 5.5), (7.0, 5.9), (8.0, 5.9)]}))\n",
      "==================================================\n",
      "(1, 6)\n",
      "==================================================\n",
      "({(1, 6): 0, (2.0, 6.1): 1.004987562112089, (2.0, 5.9): 1.004987562112089, (2.0, 6.4): 1.077032961426901, (2.0, 5.6): 1.077032961426901, (3.0, 6.1): 2.0024984394500787, (3.0, 5.9): 2.0024984394500787, (3.0, 6.4): 2.0770329614269007, (3.0, 5.6): 2.0770329614269007, (4.0, 6.5): 3.07953140087698, (4.0, 5.5): 3.07953140087698, (6.0, 6.5): 5.07953140087698, (6.0, 5.5): 5.07953140087698, (6.5, 5.8): 5.66262659036151, (7.0, 6.4): 6.084518962989069, (7.0, 5.6): 6.084518962989069, (7.0, 6.1): 6.156564362303881, (7.0, 5.9): 6.156564362303881, (8.0, 6.4): 7.082029840327058, (8.0, 5.6): 7.082029840327058, (8.0, 6.1): 7.156564362303881, (8.0, 5.9): 7.156564362303881, (9, 6): 8.15906280175396}, {(1, 6): [(1, 6)], (2.0, 6.1): [(1, 6), (2.0, 6.1)], (3.0, 6.1): [(1, 6), (3.0, 6.1)], (2.0, 6.4): [(1, 6), (2.0, 6.4)], (2.0, 5.6): [(1, 6), (2.0, 5.6)], (3.0, 5.9): [(1, 6), (3.0, 5.9)], (2.0, 5.9): [(1, 6), (2.0, 5.9)], (4.0, 6.5): [(1, 6), (2.0, 6.4), (4.0, 6.5)], (3.0, 6.4): [(1, 6), (2.0, 6.4), (3.0, 6.4)], (4.0, 5.5): [(1, 6), (2.0, 5.6), (4.0, 5.5)], (3.0, 5.6): [(1, 6), (2.0, 5.6), (3.0, 5.6)], (6.0, 6.5): [(1, 6), (2.0, 6.4), (4.0, 6.5), (6.0, 6.5)], (6.0, 5.5): [(1, 6), (2.0, 5.6), (4.0, 5.5), (6.0, 5.5)], (6.5, 5.8): [(1, 6), (2.0, 5.6), (4.0, 5.5), (6.0, 5.5), (6.5, 5.8)], (7.0, 6.1): [(1, 6), (2.0, 6.4), (4.0, 6.5), (6.0, 6.5), (7.0, 6.1)], (8.0, 6.4): [(1, 6), (2.0, 6.4), (4.0, 6.5), (6.0, 6.5), (8.0, 6.4)], (7.0, 6.4): [(1, 6), (2.0, 6.4), (4.0, 6.5), (6.0, 6.5), (7.0, 6.4)], (7.0, 5.6): [(1, 6), (2.0, 5.6), (4.0, 5.5), (6.0, 5.5), (7.0, 5.6)], (7.0, 5.9): [(1, 6), (2.0, 5.6), (4.0, 5.5), (6.0, 5.5), (7.0, 5.9)], (8.0, 5.6): [(1, 6), (2.0, 5.6), (4.0, 5.5), (6.0, 5.5), (8.0, 5.6)], (8.0, 6.1): [(1, 6), (2.0, 6.4), (4.0, 6.5), (6.0, 6.5), (7.0, 6.1), (8.0, 6.1)], (9, 6): [(1, 6), (2.0, 6.4), (4.0, 6.5), (6.0, 6.5), (7.0, 6.1), (9, 6)], (8.0, 5.9): [(1, 6), (2.0, 5.6), (4.0, 5.5), (6.0, 5.5), (7.0, 5.9), (8.0, 5.9)]})\n",
      "[]\n"
     ]
    }
   ],
   "source": [
    "point_1 = [1,6]\n",
    "point_2 = [(9,6),(6.5, 5.8)]\n",
    "\n",
    "obstacles = {\n",
    "    0: Polygon([(4,5.5),(6,5.5),(6,6.5),(4,6.5),(4,5.5)]),\n",
    "    1: Polygon([(2,6.1),(3,6.1),(3,6.4),(2,6.4),(2,6.1)]),\n",
    "    2: Polygon([(2,5.6),(3,5.6),(3,5.9),(2,5.9),(2,5.6)]),\n",
    "    3: Polygon([(7,6.1),(8,6.1),(8,6.4),(7,6.4),(7,6.1)]),\n",
    "    4: Polygon([(7,5.6),(8,5.6),(8,5.9),(7,5.9),(7,5.6)]),\n",
    "}\n",
    "\n",
    "# make_graph(point_1, point_2, obstacles)\n",
    "\n",
    "# path = create_path(point_1, point_2, obstacles)\n",
    "path = create_shortest_path(point_1, point_2, obstacles)\n",
    "\n",
    "# make_graph(point_1, point_2, obstacles, path)"
   ]
  },
  {
   "cell_type": "code",
   "execution_count": 80,
   "metadata": {},
   "outputs": [
    {
     "data": {
      "text/plain": [
       "False"
      ]
     },
     "execution_count": 80,
     "metadata": {},
     "output_type": "execute_result"
    }
   ],
   "source": [
    "extra = {\n",
    "    1 : \"hi\",\n",
    "    2 : \"hello\"\n",
    "}\n",
    "\n",
    "1 not in extra and 2 not in extra"
   ]
  }
 ],
 "metadata": {
  "kernelspec": {
   "display_name": "Python 3",
   "language": "python",
   "name": "python3"
  },
  "language_info": {
   "codemirror_mode": {
    "name": "ipython",
    "version": 3
   },
   "file_extension": ".py",
   "mimetype": "text/x-python",
   "name": "python",
   "nbconvert_exporter": "python",
   "pygments_lexer": "ipython3",
   "version": "3.11.3"
  }
 },
 "nbformat": 4,
 "nbformat_minor": 2
}
