{
 "cells": [
  {
   "cell_type": "code",
   "execution_count": 84,
   "metadata": {},
   "outputs": [],
   "source": [
    "import matplotlib.pyplot as plt\n",
    "from mpl_toolkits.mplot3d import Axes3D\n",
    "from mpl_toolkits.mplot3d.art3d import Poly3DCollection\n",
    "import numpy as np\n",
    "import random\n",
    "from shapely.geometry import LineString,Polygon,Point, MultiPolygon, GeometryCollection, MultiLineString\n",
    "import networkx as nx\n",
    "from shapely.ops import split,nearest_points\n",
    "\n",
    "import plotly.graph_objects as go\n",
    "from scipy.spatial import Delaunay\n",
    "# %matplotlib widget"
   ]
  },
  {
   "cell_type": "markdown",
   "metadata": {},
   "source": [
    "## Visualization Algorithms"
   ]
  },
  {
   "cell_type": "markdown",
   "metadata": {},
   "source": [
    "Plotting dp"
   ]
  },
  {
   "cell_type": "code",
   "execution_count": 85,
   "metadata": {},
   "outputs": [],
   "source": [
    "def triangulate_polygon(x, y):\n",
    "    points2D = np.vstack([x, y]).T\n",
    "    tri = Delaunay(points2D)\n",
    "    return tri.simplices\n",
    "\n",
    "def initial_plot(delivary_locations, obstacles, dp=None, route=None):\n",
    "    fig = go.Figure()\n",
    "\n",
    "    # Plot each building\n",
    "    for building in obstacles.values():\n",
    "        x = [point[0] for point in building]\n",
    "        y = [point[1] for point in building]\n",
    "        z = [point[2] for point in building]\n",
    "\n",
    "        # Triangulate top and bottom faces\n",
    "        if len(x) > 2:  # Need at least 3 points to form a polygon\n",
    "            triangles = triangulate_polygon(x, y)\n",
    "        else:\n",
    "            triangles = [[0, 1, 2]]\n",
    "\n",
    "        # Side faces\n",
    "        for i in range(len(x)):\n",
    "            j = (i + 1) % len(x)\n",
    "            fig.add_trace(go.Mesh3d(\n",
    "                x=[x[i], x[j], x[j], x[i]],\n",
    "                y=[y[i], y[j], y[j], y[i]],\n",
    "                z=[0, 0, z[j], z[i]],\n",
    "                i=[0, 0],\n",
    "                j=[1, 2],\n",
    "                k=[2, 3],\n",
    "                color='red',\n",
    "                opacity=0.50\n",
    "            ))\n",
    "\n",
    "        # Add borders for the top face\n",
    "        fig.add_trace(go.Scatter3d(\n",
    "            x=x + [x[0]],\n",
    "            y=y + [y[0]],\n",
    "            z=z + [z[0]],\n",
    "            mode='lines',\n",
    "            line=dict(color='black', width=3)\n",
    "        ))\n",
    "\n",
    "        # Add borders for the bottom face\n",
    "        fig.add_trace(go.Scatter3d(\n",
    "            x=x + [x[0]],\n",
    "            y=y + [y[0]],\n",
    "            z=[0] * (len(x) + 1),\n",
    "            mode='lines',\n",
    "            line=dict(color='black', width=3)\n",
    "        ))\n",
    "\n",
    "        # Add borders for the sides\n",
    "        for i in range(len(x)):\n",
    "            j = (i + 1) % len(x)\n",
    "            fig.add_trace(go.Scatter3d(\n",
    "                x=[x[i], x[i], x[j], x[j], x[i]],\n",
    "                y=[y[i], y[i], y[j], y[j], y[i]],\n",
    "                z=[0, z[i], z[j], 0, 0],\n",
    "                mode='lines',\n",
    "                line=dict(color='black', width=3)\n",
    "            ))\n",
    "\n",
    "    # Delivery points\n",
    "    loc_x = [i for i, j, k in delivary_locations]\n",
    "    loc_y = [j for i, j, k in delivary_locations]\n",
    "    loc_z = [k for i, j, k in delivary_locations]\n",
    "\n",
    "    fig.add_trace(go.Scatter3d(\n",
    "        x=loc_x,\n",
    "        y=loc_y,\n",
    "        z=loc_z,\n",
    "        mode='markers',\n",
    "        marker=dict(size=5, color='blue')\n",
    "    ))\n",
    "\n",
    "    # Plot dp\n",
    "    if dp:\n",
    "        fig.add_trace(go.Scatter3d(\n",
    "            x=[dp[0]],\n",
    "            y=[dp[1]],\n",
    "            z=[dp[2]],\n",
    "            mode='markers',\n",
    "            marker=dict(size=8, color='orange')\n",
    "        ))\n",
    "\n",
    "    # Plotting route\n",
    "    if route:\n",
    "        x_axis = [i for i, j, k in route]\n",
    "        y_axis = [j for i, j, k in route]\n",
    "        z_axis = [k for i, j, k in route]\n",
    "\n",
    "        fig.add_trace(go.Scatter3d(\n",
    "            x=x_axis,\n",
    "            y=y_axis,\n",
    "            z=z_axis,\n",
    "            mode='lines',\n",
    "            line=dict(color='gray', width=5)\n",
    "        ))\n",
    "\n",
    "    # Update layout for better view\n",
    "    fig.update_layout(\n",
    "        width = 800,\n",
    "        height = 800,\n",
    "        scene=dict(\n",
    "            xaxis_title='X',\n",
    "            yaxis_title='Y',\n",
    "            zaxis_title='Height',\n",
    "            aspectmode='cube'\n",
    "    ))\n",
    "\n",
    "    # Show plot\n",
    "    fig.show()"
   ]
  },
  {
   "cell_type": "markdown",
   "metadata": {},
   "source": [
    "Plotting route"
   ]
  },
  {
   "cell_type": "code",
   "execution_count": 86,
   "metadata": {},
   "outputs": [],
   "source": [
    "def visualize_graph(G, path=None):\n",
    "    # Create a 3D plot\n",
    "    fig = plt.figure()\n",
    "    ax = fig.add_subplot(111, projection='3d')\n",
    "    \n",
    "    # Extract node positions for plotting\n",
    "    node_positions = {node: (node[0], node[1], node[2]) for node in G.nodes()}\n",
    "    \n",
    "    # Plot nodes\n",
    "    xs, ys, zs = zip(*node_positions.values())\n",
    "    ax.scatter(xs, ys, zs, c='b', marker='o')\n",
    "    \n",
    "    # Plot edges\n",
    "    for edge in G.edges():\n",
    "        x_vals = [node_positions[edge[0]][0], node_positions[edge[1]][0]]\n",
    "        y_vals = [node_positions[edge[0]][1], node_positions[edge[1]][1]]\n",
    "        z_vals = [node_positions[edge[0]][2], node_positions[edge[1]][2]]\n",
    "        ax.plot(x_vals, y_vals, z_vals, c='k')\n",
    "    \n",
    "    # Highlight the shortest path if provided\n",
    "    if path:\n",
    "        path_x = [node[0] for node in path]\n",
    "        path_y = [node[1] for node in path]\n",
    "        path_z = [node[2] for node in path]\n",
    "        ax.plot(path_x, path_y, path_z, c='r', linewidth=2)\n",
    "    \n",
    "    ax.set_xlabel('X Coordinate')\n",
    "    ax.set_ylabel('Y Coordinate')\n",
    "    ax.set_zlabel('Z Coordinate')\n",
    "    plt.show()"
   ]
  },
  {
   "cell_type": "markdown",
   "metadata": {},
   "source": [
    "## Obstacle Modifications"
   ]
  },
  {
   "cell_type": "code",
   "execution_count": 87,
   "metadata": {},
   "outputs": [],
   "source": [
    "def create_polygon(points, height = 0):\n",
    "    coords = []\n",
    "\n",
    "    for pt in points:\n",
    "        coords.append([pt[0],pt[1],height])\n",
    "\n",
    "    obs_polygon = Polygon(coords)\n",
    "    return obs_polygon"
   ]
  },
  {
   "cell_type": "code",
   "execution_count": 88,
   "metadata": {},
   "outputs": [],
   "source": [
    "def build_3d_polygon(coords):\n",
    "    # Add z coordinate to each point\n",
    "    polygon_coords = [(x, y, z) for x, y, z in coords]\n",
    "    \n",
    "    # Create the top and bottom polygons\n",
    "    top_polygon = Polygon(polygon_coords)\n",
    "    bottom_polygon = Polygon([(x, y, 0) for x, y, _ in polygon_coords])\n",
    "    \n",
    "    # Create the side polygons\n",
    "    side_polygons = []\n",
    "    for i in range(len(coords) - 1):\n",
    "        side_polygon_coords = [\n",
    "            polygon_coords[i],\n",
    "            polygon_coords[i+1],\n",
    "            (coords[i+1][0], coords[i+1][1], 0),\n",
    "            (coords[i][0], coords[i][1], 0),\n",
    "            polygon_coords[i]\n",
    "        ]\n",
    "        side_polygon = Polygon(side_polygon_coords)\n",
    "        side_polygons.append(side_polygon)\n",
    "    \n",
    "    # Combine all polygons into a MultiPolygon\n",
    "    all_polygons = [top_polygon, bottom_polygon] + side_polygons\n",
    "    return MultiPolygon(all_polygons)"
   ]
  },
  {
   "cell_type": "code",
   "execution_count": 89,
   "metadata": {},
   "outputs": [],
   "source": [
    "def line_intersect(line, obstacle):\n",
    "    parts = split(obstacle, line)\n",
    "\n",
    "    count = len([geoms for geoms in parts.geoms])\n",
    "\n",
    "    return count != 1"
   ]
  },
  {
   "cell_type": "code",
   "execution_count": 90,
   "metadata": {},
   "outputs": [],
   "source": [
    "def get_intersection_coordinate(intersection):\n",
    "    points = []\n",
    "    if intersection.geom_type == \"LineString\" or intersection.geom_type == \"Point\":\n",
    "        coord = list(intersection.coords)\n",
    "        for cord in coord:\n",
    "            points.append(cord)\n",
    "    elif intersection.geom_type == \"GeometryCollection\" or intersection.geom_type == \"MultiLineString\":\n",
    "        for subgeom in intersection.geoms:\n",
    "            if subgeom.geom_type == 'Point' or subgeom.geom_type == 'LineString':\n",
    "                coord = list(subgeom.coords)\n",
    "                for cord in coord:\n",
    "                    points.append(cord)\n",
    "    return points"
   ]
  },
  {
   "cell_type": "code",
   "execution_count": 91,
   "metadata": {},
   "outputs": [],
   "source": [
    "def get_z_coordinate(intersection):\n",
    "    z_points = []\n",
    "    if intersection.geom_type == \"LineString\" or intersection.geom_type == \"Point\":\n",
    "        coord = list(intersection.coords)\n",
    "        for cord in coord:\n",
    "            z_points.append(cord[2])\n",
    "    elif intersection.geom_type == \"GeometryCollection\" or intersection.geom_type == \"MultiLineString\":\n",
    "        for subgeom in intersection.geoms:\n",
    "            if subgeom.geom_type == 'Point' or subgeom.geom_type == 'LineString':\n",
    "                coord = list(subgeom.coords)\n",
    "                for cord in coord:\n",
    "                    z_points.append(cord[2])\n",
    "    return z_points\n"
   ]
  },
  {
   "cell_type": "code",
   "execution_count": 92,
   "metadata": {},
   "outputs": [],
   "source": [
    "def has_2d_intersection(line, polygon):\n",
    "    intersect = line_intersect(line, polygon)\n",
    "    if not intersect:\n",
    "        return False\n",
    "\n",
    "    intersection = line.intersection(polygon)\n",
    "    # Check if z-coordinate of intersection is within tolerance of both line and polygon\n",
    "    z_line_1, z_line_2 = line.coords[0][2], line.coords[1][2]\n",
    "    z_intersection = max(z for x,y,z in list(polygon.exterior.coords))\n",
    "    result = (z_intersection >= z_line_1) or (z_intersection >= z_line_2)\n",
    "    \n",
    "    return result if not result else intersection"
   ]
  },
  {
   "cell_type": "markdown",
   "metadata": {},
   "source": [
    "## Delivery Points modification"
   ]
  },
  {
   "cell_type": "code",
   "execution_count": 93,
   "metadata": {},
   "outputs": [],
   "source": [
    "def create_delivary(x,y,n, seed_value = None):\n",
    "    if seed_value != None:\n",
    "        random.seed(seed_value)\n",
    "\n",
    "    x_range = [x[0], y[0]]\n",
    "    y_range = [x[1], y[1]]\n",
    "    loc = []\n",
    "\n",
    "    for _ in range(n):\n",
    "        x_loc = random.uniform(x_range[0], x_range[1])\n",
    "        y_loc = random.uniform(y_range[0], y_range[1])\n",
    "        loc.append(tuple([x_loc, y_loc, 0]))\n",
    "\n",
    "    return loc"
   ]
  },
  {
   "cell_type": "code",
   "execution_count": 94,
   "metadata": {},
   "outputs": [],
   "source": [
    "def remove_obstacle(delivary_loc, obstacles):\n",
    "    obstacle_polygon = {obs_id : create_polygon(obs, 0) for obs_id, obs in obstacles.items()}\n",
    "    delivary_point = [Point([a,b,c]) for a,b,c in delivary_loc]\n",
    "    final_point = []\n",
    "    \n",
    "    for point in delivary_point:\n",
    "        flag = True\n",
    "        for obs_id, obs in obstacle_polygon.items():\n",
    "            if (point.intersects(obs)):\n",
    "                flag = False\n",
    "                break\n",
    "        if flag:\n",
    "            final_point.append(tuple([point.x, point.y, 0]))\n",
    "    return final_point"
   ]
  },
  {
   "cell_type": "code",
   "execution_count": 95,
   "metadata": {},
   "outputs": [],
   "source": [
    "def calculate_dp(delivary_loc):\n",
    "    x = [i for i,j,k in delivary_loc]\n",
    "    y = [j for i,j,k in delivary_loc]\n",
    "\n",
    "    dp = tuple([np.mean(x), np.mean(y), 0])\n",
    "\n",
    "    return dp"
   ]
  },
  {
   "cell_type": "code",
   "execution_count": 96,
   "metadata": {},
   "outputs": [],
   "source": [
    "def get_closest_intersection_point(line, polygon, height):\n",
    "    intersection = line.intersection(polygon)\n",
    "\n",
    "    intersections = get_intersection_coordinate(intersection)\n",
    "\n",
    "    A = intersections[0]\n",
    "    B = intersections[-1]\n",
    "\n",
    "    # Step 2: Calculate direction vectors\n",
    "    def direction_vector(point, ref_point):\n",
    "        return (ref_point[0] - point[0], ref_point[1] - point[1])\n",
    "\n",
    "    d = 0.001  # Small distance to move outside the polygon\n",
    "\n",
    "    # Calculate new points dA and dB\n",
    "    def move_point_outside(point, direction, distance):\n",
    "        dx, dy = direction\n",
    "        length = (dx**2 + dy**2) ** 0.5\n",
    "        unit_vector = (dx / length, dy / length)\n",
    "        return (point[0] + unit_vector[0] * distance, point[1] + unit_vector[1] * distance)\n",
    "\n",
    "    # Step 3: Move a small distance outside\n",
    "    direction_A = direction_vector(A, line.coords[0])  # Direction from A to M\n",
    "    direction_B = direction_vector(B, line.coords[-1]) # Direction from B to N\n",
    "\n",
    "    dA_coords = move_point_outside(A, direction_A, d)\n",
    "    dB_coords = move_point_outside(B, direction_B, d)\n",
    "\n",
    "    return [(dA_coords[0], dA_coords[1], height), (dB_coords[0], dB_coords[1], height)]"
   ]
  },
  {
   "cell_type": "code",
   "execution_count": 97,
   "metadata": {},
   "outputs": [],
   "source": [
    "def calculate_drone_height_median(obstacles):\n",
    "    z_axises = []\n",
    "\n",
    "    for obs_id, obs in obstacles.items():\n",
    "        max_z = max([z for x,y,z in obs])\n",
    "        z_axises.append(max_z)\n",
    "\n",
    "    return np.median(z_axises)"
   ]
  },
  {
   "cell_type": "markdown",
   "metadata": {},
   "source": [
    "#### routing modifications"
   ]
  },
  {
   "cell_type": "code",
   "execution_count": 98,
   "metadata": {},
   "outputs": [],
   "source": [
    "def create_obstacle_free_route(delivary_loc, dp, height):\n",
    "    route = []\n",
    "    for loc in delivary_loc:\n",
    "        route.append(dp)\n",
    "        route.append(tuple([dp[0],dp[1],height]))\n",
    "        route.append(tuple([loc[0],loc[1],height]))\n",
    "        route.append(loc)\n",
    "        route.append(tuple([loc[0],loc[1],height]))\n",
    "        route.append(tuple([dp[0],dp[1],height]))\n",
    "\n",
    "    route.append(dp)\n",
    "\n",
    "    return route"
   ]
  },
  {
   "cell_type": "code",
   "execution_count": 99,
   "metadata": {},
   "outputs": [],
   "source": [
    "def euclidean_distance(pt_1, pt_2):\n",
    "    distance = np.sqrt((pt_2[0]-pt_1[0])**2 + (pt_2[1]-pt_1[1])**2 + (pt_2[2]-pt_1[2])**2)\n",
    "\n",
    "    return distance"
   ]
  },
  {
   "cell_type": "code",
   "execution_count": 100,
   "metadata": {},
   "outputs": [],
   "source": [
    "def calculate_route_distance(route) :\n",
    "    distance = 0\n",
    "    for i in range(len(route)-1):\n",
    "        distance += euclidean_distance(route[i],route[i+1])\n",
    "\n",
    "    return distance"
   ]
  },
  {
   "cell_type": "code",
   "execution_count": 101,
   "metadata": {},
   "outputs": [],
   "source": [
    "def generate_intermediate_points(x1, y1, x2, y2, interval):\n",
    "    # Calculate the Euclidean distance between (x1, y1) and (x2, y2)\n",
    "    distance = np.sqrt((x2 - x1)**2 + (y2 - y1)**2)\n",
    "    \n",
    "    # Determine the number of points\n",
    "    num_points = int(np.ceil(distance / interval)) + 1\n",
    "    \n",
    "    # Generate the points\n",
    "    x_points = np.linspace(x1, x2, num_points)\n",
    "    y_points = np.linspace(y1, y2, num_points)\n",
    "    \n",
    "    return np.column_stack((x_points, y_points))"
   ]
  },
  {
   "cell_type": "code",
   "execution_count": 102,
   "metadata": {},
   "outputs": [],
   "source": [
    "def frange(start, stop, step):\n",
    "    while start <= stop:\n",
    "        yield start\n",
    "        start += step"
   ]
  },
  {
   "cell_type": "code",
   "execution_count": 103,
   "metadata": {},
   "outputs": [],
   "source": [
    "def create_shortest_dijkstra_path(source, dest, obstacles, drone_height, max_height):\n",
    "\n",
    "    # creating obstacle polygons\n",
    "    obstacle_polygon = {ob_id : create_polygon(obs, height=obs[0][2]) for ob_id, obs in obstacles.items()}\n",
    "    const = 0.005\n",
    "    v_space = 1.0\n",
    "    h_space = 1.0\n",
    "    # drone_height_median = calculate_drone_height_median(obstacles) + const\n",
    "\n",
    "    G = nx.Graph()\n",
    "\n",
    "    # connecting nodes\n",
    "    G.add_node(tuple([source[0], source[1], drone_height]))\n",
    "\n",
    "    for i in dest:\n",
    "        G.add_node(tuple([i[0], i[1], drone_height]))\n",
    "\n",
    "    # if height of an obstacle is less than drone height then ignore that obstacle\n",
    "    for obs_id, obstacle in obstacles.items():\n",
    "        obstacle_height = max([z for x,y,z in obstacle])\n",
    "        if obstacle_height > drone_height:\n",
    "            start_height = drone_height + const\n",
    "            end_height = max_height if obstacle_height > max_height else obstacle_height+const\n",
    "\n",
    "            for i in frange(start_height, end_height+v_space, v_space):\n",
    "                for obs in obstacle:\n",
    "                    G.add_node(tuple([obs[0],obs[1],i]))\n",
    "\n",
    "            # top most points\n",
    "            for obs in obstacle:\n",
    "                    G.add_node(tuple([obs[0],obs[1],end_height]))\n",
    "\n",
    "            # setting horizontal points (try)\n",
    "            for i in range(len(obstacle)-1):\n",
    "                points = generate_intermediate_points(obstacle[i][0], obstacle[i][1], obstacle[i+1][0], obstacle[i+1][1],h_space)\n",
    "                \n",
    "                for point in points:\n",
    "                    G.add_node(tuple([point[0],point[1],end_height]))\n",
    "\n",
    "    # for loc in dest:\n",
    "    #     line = LineString([[source[0], source[1], drone_height],[loc[0],loc[1],drone_height]])\n",
    "    #     for obs_id, obs in obstacle_polygon.items():\n",
    "    #         intersection = has_2d_intersection(line,obs)\n",
    "    #         if intersection:\n",
    "    #             z_axis = max([z for x,y,z in obstacles[obs_id]]) + const\n",
    "\n",
    "    #             if z_axis <= max_height:\n",
    "    #                 collision_points = get_closest_intersection_point(line, obs, z_axis)\n",
    "                \n",
    "    #                 for i in range (len(collision_points)):\n",
    "    #                     G.add_node(tuple([collision_points[i][0], collision_points[i][1], z_axis]))\n",
    "\n",
    "    nodes = list(G.nodes())\n",
    "\n",
    "    # connecting edges\n",
    "    for i in range(0,len(nodes)-1):\n",
    "        for j in range(i+1,len(nodes)):\n",
    "            intersect = False\n",
    "            for obs_id, obstacle in obstacle_polygon.items():\n",
    "                if has_2d_intersection(LineString([nodes[i],nodes[j]]),obstacle):\n",
    "                    intersect = True\n",
    "                    break\n",
    "            if not intersect:\n",
    "                G.add_edge(nodes[i],nodes[j], weight = euclidean_distance(nodes[i],nodes[j]))\n",
    "\n",
    "    dijkstra_paths = nx.all_pairs_dijkstra(G)\n",
    "    paths = []\n",
    "    \n",
    "    # creating the path\n",
    "    for target_node, (distances, path) in dijkstra_paths:\n",
    "        if target_node == tuple([source[0], source[1], drone_height]):\n",
    "            for loc_node in dest:\n",
    "                cur_path = path[tuple([loc_node[0],loc_node[1], drone_height])]\n",
    "                route = cur_path.copy()\n",
    "                route.insert(0, tuple([source[0], source[1], 0]))\n",
    "                route.append(tuple([route[-1][0], route[-1][1], 0]))\n",
    "                route.append(tuple([route[-1][0], route[-1][1], drone_height]))\n",
    "\n",
    "                for i in range(len(cur_path)-2,0,-1):\n",
    "                    route.append(cur_path[i])\n",
    "                route.append(tuple([source[0], source[1], drone_height]))\n",
    "                route.append(source)\n",
    "                paths.extend(route)\n",
    "\n",
    "    # visualize_graph(G, paths)\n",
    "\n",
    "    return paths, \"pass\""
   ]
  },
  {
   "cell_type": "code",
   "execution_count": 104,
   "metadata": {},
   "outputs": [],
   "source": [
    "def route_refinement_2D(route, dp, drone_height):\n",
    "    final_route = []\n",
    "\n",
    "    final_route.append(dp)\n",
    "    for i in route:\n",
    "        final_route.append(tuple([i[0], i[1], drone_height]))\n",
    "    final_route.append(dp)\n",
    "\n",
    "    return final_route"
   ]
  },
  {
   "cell_type": "markdown",
   "metadata": {},
   "source": [
    "## Main"
   ]
  },
  {
   "cell_type": "code",
   "execution_count": 105,
   "metadata": {},
   "outputs": [],
   "source": [
    "# pre-assumptions\n",
    "x = [22.21, 88.45]\n",
    "y = [34.45, 98.67]\n",
    "drone_height = 9.5\n",
    "drone_max_height = 12\n",
    "seed_value = 11\n",
    "\n",
    "# creating obstacles\n",
    "obstacles = {\n",
    "    0 : [[27.81, 90.75,3],[28.74, 91.42, 3],[27.80, 93.15, 3], [26.81, 92.53,3], [27.81, 90.75,3]],\n",
    "    1 : [[23.11, 91.25,3], [24.81, 92.40,3], [24.21, 93.45, 3], [22.51, 92.35, 3],[23.11, 91.25, 3]],\n",
    "    2 : [[24.55, 88.60,10],[25.96, 89.55,10],[25.01, 91.35, 10],[23.61, 90.32, 10],[24.55, 88.60, 10]],\n",
    "    3 : [[25.60, 88.45,10], [27.42, 88.45,10],[26.92, 89.35,10],[25.60, 88.45,10]],\n",
    "    4 : [[27.61, 88.45,10], [28.81, 88.45,10],[29.12, 88.66,10],[28.02, 90.45,10],[26.90, 89.57,10],[27.61, 88.45,10]],\n",
    "    5 : [[25.33, 92.62,10], [25.86, 92.95,10], [25.21, 94.15,10], [24.69, 93.78,10], [25.33, 92.63,10]],\n",
    "    6 : [[26.11, 93.05,3], [26.62, 93.35,3], [25.81, 94.65,3], [25.39, 94.35,3], [26.11, 93.05,3]],\n",
    "    7 : [[26.72, 93.65,10], [27.32, 94.05,10], [26.69, 95.18,10], [26.10, 94.83,10], [26.72, 93.65,10]],\n",
    "    8 : [[25.81, 95.40,10],[26.29, 95.70,10],[26.01, 96.20,10],[26.25, 96.37,10],[25.93, 96.94,10],[25.80, 96.84,10], [25.69, 97.01,10],[25.11, 96.65,10],[25.81, 95.40,10]],\n",
    "    9 : [[23.90, 94.15,3], [24.91, 94.81,3], [24.48, 95.57,3],[23.48, 94.95,3],[23.90, 94.15,3]],\n",
    "    10 : [[23.71, 98.67,10], [23.91, 98.26,10], [24.41, 98.67,10],[23.71, 98.67,10]],\n",
    "    11 : [[31.81, 90.35,10], [32.51, 90.85,10], [32.21, 91.55,10], [32.03, 91.85,10], [34.31, 93.45,10], [32.69, 96.27,10],[30.99, 95.15,10], [32.21, 92.93,10],[30.89, 91.97,10],[31.81, 90.35,10]],\n",
    "    12 : [[30.21, 96.00,10],[31.85, 97.11,10], [31.02, 98.55,10], [30.50, 98.26,10], [30.31, 98.53,10], [30.51, 98.67,10],[27.81, 98.67,10], [27.21, 98.28,10], [27.73, 97.43,10],[28.95, 98.25,10],[30.21, 96.00,10]]\n",
    "}"
   ]
  },
  {
   "cell_type": "code",
   "execution_count": 106,
   "metadata": {},
   "outputs": [
    {
     "name": "stdout",
     "output_type": "stream",
     "text": [
      "34\n",
      "50\n"
     ]
    }
   ],
   "source": [
    "# creating delivary locations\n",
    "\n",
    "n = 50\n",
    "\n",
    "# answers\n",
    "optimal_dp = []\n",
    "optimal_route = []\n",
    "\n",
    "delivary_loc = create_delivary(x,y,n,seed_value=seed_value)\n",
    "\n",
    "delivary_loc = remove_obstacle(delivary_loc, obstacles)\n",
    "\n",
    "print(len(delivary_loc))\n",
    "\n",
    "extra_loc = []\n",
    "\n",
    "while (len(extra_loc) != n - len(delivary_loc)):\n",
    "    extra_loc = create_delivary(x,y,n - len(delivary_loc))\n",
    "    extra_loc = remove_obstacle(extra_loc, obstacles)\n",
    "delivary_loc.extend(extra_loc)\n",
    "\n",
    "print(len(delivary_loc))"
   ]
  },
  {
   "cell_type": "code",
   "execution_count": 107,
   "metadata": {},
   "outputs": [
    {
     "data": {
      "application/vnd.plotly.v1+json": {
       "config": {
        "plotlyServerURL": "https://plot.ly"
       },
       "data": [
        {
         "color": "red",
         "i": [
          0,
          0
         ],
         "j": [
          1,
          2
         ],
         "k": [
          2,
          3
         ],
         "opacity": 0.5,
         "type": "mesh3d",
         "x": [
          27.81,
          28.74,
          28.74,
          27.81
         ],
         "y": [
          90.75,
          91.42,
          91.42,
          90.75
         ],
         "z": [
          0,
          0,
          3,
          3
         ]
        },
        {
         "color": "red",
         "i": [
          0,
          0
         ],
         "j": [
          1,
          2
         ],
         "k": [
          2,
          3
         ],
         "opacity": 0.5,
         "type": "mesh3d",
         "x": [
          28.74,
          27.8,
          27.8,
          28.74
         ],
         "y": [
          91.42,
          93.15,
          93.15,
          91.42
         ],
         "z": [
          0,
          0,
          3,
          3
         ]
        },
        {
         "color": "red",
         "i": [
          0,
          0
         ],
         "j": [
          1,
          2
         ],
         "k": [
          2,
          3
         ],
         "opacity": 0.5,
         "type": "mesh3d",
         "x": [
          27.8,
          26.81,
          26.81,
          27.8
         ],
         "y": [
          93.15,
          92.53,
          92.53,
          93.15
         ],
         "z": [
          0,
          0,
          3,
          3
         ]
        },
        {
         "color": "red",
         "i": [
          0,
          0
         ],
         "j": [
          1,
          2
         ],
         "k": [
          2,
          3
         ],
         "opacity": 0.5,
         "type": "mesh3d",
         "x": [
          26.81,
          27.81,
          27.81,
          26.81
         ],
         "y": [
          92.53,
          90.75,
          90.75,
          92.53
         ],
         "z": [
          0,
          0,
          3,
          3
         ]
        },
        {
         "color": "red",
         "i": [
          0,
          0
         ],
         "j": [
          1,
          2
         ],
         "k": [
          2,
          3
         ],
         "opacity": 0.5,
         "type": "mesh3d",
         "x": [
          27.81,
          27.81,
          27.81,
          27.81
         ],
         "y": [
          90.75,
          90.75,
          90.75,
          90.75
         ],
         "z": [
          0,
          0,
          3,
          3
         ]
        },
        {
         "line": {
          "color": "black",
          "width": 3
         },
         "mode": "lines",
         "type": "scatter3d",
         "x": [
          27.81,
          28.74,
          27.8,
          26.81,
          27.81,
          27.81
         ],
         "y": [
          90.75,
          91.42,
          93.15,
          92.53,
          90.75,
          90.75
         ],
         "z": [
          3,
          3,
          3,
          3,
          3,
          3
         ]
        },
        {
         "line": {
          "color": "black",
          "width": 3
         },
         "mode": "lines",
         "type": "scatter3d",
         "x": [
          27.81,
          28.74,
          27.8,
          26.81,
          27.81,
          27.81
         ],
         "y": [
          90.75,
          91.42,
          93.15,
          92.53,
          90.75,
          90.75
         ],
         "z": [
          0,
          0,
          0,
          0,
          0,
          0
         ]
        },
        {
         "line": {
          "color": "black",
          "width": 3
         },
         "mode": "lines",
         "type": "scatter3d",
         "x": [
          27.81,
          27.81,
          28.74,
          28.74,
          27.81
         ],
         "y": [
          90.75,
          90.75,
          91.42,
          91.42,
          90.75
         ],
         "z": [
          0,
          3,
          3,
          0,
          0
         ]
        },
        {
         "line": {
          "color": "black",
          "width": 3
         },
         "mode": "lines",
         "type": "scatter3d",
         "x": [
          28.74,
          28.74,
          27.8,
          27.8,
          28.74
         ],
         "y": [
          91.42,
          91.42,
          93.15,
          93.15,
          91.42
         ],
         "z": [
          0,
          3,
          3,
          0,
          0
         ]
        },
        {
         "line": {
          "color": "black",
          "width": 3
         },
         "mode": "lines",
         "type": "scatter3d",
         "x": [
          27.8,
          27.8,
          26.81,
          26.81,
          27.8
         ],
         "y": [
          93.15,
          93.15,
          92.53,
          92.53,
          93.15
         ],
         "z": [
          0,
          3,
          3,
          0,
          0
         ]
        },
        {
         "line": {
          "color": "black",
          "width": 3
         },
         "mode": "lines",
         "type": "scatter3d",
         "x": [
          26.81,
          26.81,
          27.81,
          27.81,
          26.81
         ],
         "y": [
          92.53,
          92.53,
          90.75,
          90.75,
          92.53
         ],
         "z": [
          0,
          3,
          3,
          0,
          0
         ]
        },
        {
         "line": {
          "color": "black",
          "width": 3
         },
         "mode": "lines",
         "type": "scatter3d",
         "x": [
          27.81,
          27.81,
          27.81,
          27.81,
          27.81
         ],
         "y": [
          90.75,
          90.75,
          90.75,
          90.75,
          90.75
         ],
         "z": [
          0,
          3,
          3,
          0,
          0
         ]
        },
        {
         "color": "red",
         "i": [
          0,
          0
         ],
         "j": [
          1,
          2
         ],
         "k": [
          2,
          3
         ],
         "opacity": 0.5,
         "type": "mesh3d",
         "x": [
          23.11,
          24.81,
          24.81,
          23.11
         ],
         "y": [
          91.25,
          92.4,
          92.4,
          91.25
         ],
         "z": [
          0,
          0,
          3,
          3
         ]
        },
        {
         "color": "red",
         "i": [
          0,
          0
         ],
         "j": [
          1,
          2
         ],
         "k": [
          2,
          3
         ],
         "opacity": 0.5,
         "type": "mesh3d",
         "x": [
          24.81,
          24.21,
          24.21,
          24.81
         ],
         "y": [
          92.4,
          93.45,
          93.45,
          92.4
         ],
         "z": [
          0,
          0,
          3,
          3
         ]
        },
        {
         "color": "red",
         "i": [
          0,
          0
         ],
         "j": [
          1,
          2
         ],
         "k": [
          2,
          3
         ],
         "opacity": 0.5,
         "type": "mesh3d",
         "x": [
          24.21,
          22.51,
          22.51,
          24.21
         ],
         "y": [
          93.45,
          92.35,
          92.35,
          93.45
         ],
         "z": [
          0,
          0,
          3,
          3
         ]
        },
        {
         "color": "red",
         "i": [
          0,
          0
         ],
         "j": [
          1,
          2
         ],
         "k": [
          2,
          3
         ],
         "opacity": 0.5,
         "type": "mesh3d",
         "x": [
          22.51,
          23.11,
          23.11,
          22.51
         ],
         "y": [
          92.35,
          91.25,
          91.25,
          92.35
         ],
         "z": [
          0,
          0,
          3,
          3
         ]
        },
        {
         "color": "red",
         "i": [
          0,
          0
         ],
         "j": [
          1,
          2
         ],
         "k": [
          2,
          3
         ],
         "opacity": 0.5,
         "type": "mesh3d",
         "x": [
          23.11,
          23.11,
          23.11,
          23.11
         ],
         "y": [
          91.25,
          91.25,
          91.25,
          91.25
         ],
         "z": [
          0,
          0,
          3,
          3
         ]
        },
        {
         "line": {
          "color": "black",
          "width": 3
         },
         "mode": "lines",
         "type": "scatter3d",
         "x": [
          23.11,
          24.81,
          24.21,
          22.51,
          23.11,
          23.11
         ],
         "y": [
          91.25,
          92.4,
          93.45,
          92.35,
          91.25,
          91.25
         ],
         "z": [
          3,
          3,
          3,
          3,
          3,
          3
         ]
        },
        {
         "line": {
          "color": "black",
          "width": 3
         },
         "mode": "lines",
         "type": "scatter3d",
         "x": [
          23.11,
          24.81,
          24.21,
          22.51,
          23.11,
          23.11
         ],
         "y": [
          91.25,
          92.4,
          93.45,
          92.35,
          91.25,
          91.25
         ],
         "z": [
          0,
          0,
          0,
          0,
          0,
          0
         ]
        },
        {
         "line": {
          "color": "black",
          "width": 3
         },
         "mode": "lines",
         "type": "scatter3d",
         "x": [
          23.11,
          23.11,
          24.81,
          24.81,
          23.11
         ],
         "y": [
          91.25,
          91.25,
          92.4,
          92.4,
          91.25
         ],
         "z": [
          0,
          3,
          3,
          0,
          0
         ]
        },
        {
         "line": {
          "color": "black",
          "width": 3
         },
         "mode": "lines",
         "type": "scatter3d",
         "x": [
          24.81,
          24.81,
          24.21,
          24.21,
          24.81
         ],
         "y": [
          92.4,
          92.4,
          93.45,
          93.45,
          92.4
         ],
         "z": [
          0,
          3,
          3,
          0,
          0
         ]
        },
        {
         "line": {
          "color": "black",
          "width": 3
         },
         "mode": "lines",
         "type": "scatter3d",
         "x": [
          24.21,
          24.21,
          22.51,
          22.51,
          24.21
         ],
         "y": [
          93.45,
          93.45,
          92.35,
          92.35,
          93.45
         ],
         "z": [
          0,
          3,
          3,
          0,
          0
         ]
        },
        {
         "line": {
          "color": "black",
          "width": 3
         },
         "mode": "lines",
         "type": "scatter3d",
         "x": [
          22.51,
          22.51,
          23.11,
          23.11,
          22.51
         ],
         "y": [
          92.35,
          92.35,
          91.25,
          91.25,
          92.35
         ],
         "z": [
          0,
          3,
          3,
          0,
          0
         ]
        },
        {
         "line": {
          "color": "black",
          "width": 3
         },
         "mode": "lines",
         "type": "scatter3d",
         "x": [
          23.11,
          23.11,
          23.11,
          23.11,
          23.11
         ],
         "y": [
          91.25,
          91.25,
          91.25,
          91.25,
          91.25
         ],
         "z": [
          0,
          3,
          3,
          0,
          0
         ]
        },
        {
         "color": "red",
         "i": [
          0,
          0
         ],
         "j": [
          1,
          2
         ],
         "k": [
          2,
          3
         ],
         "opacity": 0.5,
         "type": "mesh3d",
         "x": [
          24.55,
          25.96,
          25.96,
          24.55
         ],
         "y": [
          88.6,
          89.55,
          89.55,
          88.6
         ],
         "z": [
          0,
          0,
          10,
          10
         ]
        },
        {
         "color": "red",
         "i": [
          0,
          0
         ],
         "j": [
          1,
          2
         ],
         "k": [
          2,
          3
         ],
         "opacity": 0.5,
         "type": "mesh3d",
         "x": [
          25.96,
          25.01,
          25.01,
          25.96
         ],
         "y": [
          89.55,
          91.35,
          91.35,
          89.55
         ],
         "z": [
          0,
          0,
          10,
          10
         ]
        },
        {
         "color": "red",
         "i": [
          0,
          0
         ],
         "j": [
          1,
          2
         ],
         "k": [
          2,
          3
         ],
         "opacity": 0.5,
         "type": "mesh3d",
         "x": [
          25.01,
          23.61,
          23.61,
          25.01
         ],
         "y": [
          91.35,
          90.32,
          90.32,
          91.35
         ],
         "z": [
          0,
          0,
          10,
          10
         ]
        },
        {
         "color": "red",
         "i": [
          0,
          0
         ],
         "j": [
          1,
          2
         ],
         "k": [
          2,
          3
         ],
         "opacity": 0.5,
         "type": "mesh3d",
         "x": [
          23.61,
          24.55,
          24.55,
          23.61
         ],
         "y": [
          90.32,
          88.6,
          88.6,
          90.32
         ],
         "z": [
          0,
          0,
          10,
          10
         ]
        },
        {
         "color": "red",
         "i": [
          0,
          0
         ],
         "j": [
          1,
          2
         ],
         "k": [
          2,
          3
         ],
         "opacity": 0.5,
         "type": "mesh3d",
         "x": [
          24.55,
          24.55,
          24.55,
          24.55
         ],
         "y": [
          88.6,
          88.6,
          88.6,
          88.6
         ],
         "z": [
          0,
          0,
          10,
          10
         ]
        },
        {
         "line": {
          "color": "black",
          "width": 3
         },
         "mode": "lines",
         "type": "scatter3d",
         "x": [
          24.55,
          25.96,
          25.01,
          23.61,
          24.55,
          24.55
         ],
         "y": [
          88.6,
          89.55,
          91.35,
          90.32,
          88.6,
          88.6
         ],
         "z": [
          10,
          10,
          10,
          10,
          10,
          10
         ]
        },
        {
         "line": {
          "color": "black",
          "width": 3
         },
         "mode": "lines",
         "type": "scatter3d",
         "x": [
          24.55,
          25.96,
          25.01,
          23.61,
          24.55,
          24.55
         ],
         "y": [
          88.6,
          89.55,
          91.35,
          90.32,
          88.6,
          88.6
         ],
         "z": [
          0,
          0,
          0,
          0,
          0,
          0
         ]
        },
        {
         "line": {
          "color": "black",
          "width": 3
         },
         "mode": "lines",
         "type": "scatter3d",
         "x": [
          24.55,
          24.55,
          25.96,
          25.96,
          24.55
         ],
         "y": [
          88.6,
          88.6,
          89.55,
          89.55,
          88.6
         ],
         "z": [
          0,
          10,
          10,
          0,
          0
         ]
        },
        {
         "line": {
          "color": "black",
          "width": 3
         },
         "mode": "lines",
         "type": "scatter3d",
         "x": [
          25.96,
          25.96,
          25.01,
          25.01,
          25.96
         ],
         "y": [
          89.55,
          89.55,
          91.35,
          91.35,
          89.55
         ],
         "z": [
          0,
          10,
          10,
          0,
          0
         ]
        },
        {
         "line": {
          "color": "black",
          "width": 3
         },
         "mode": "lines",
         "type": "scatter3d",
         "x": [
          25.01,
          25.01,
          23.61,
          23.61,
          25.01
         ],
         "y": [
          91.35,
          91.35,
          90.32,
          90.32,
          91.35
         ],
         "z": [
          0,
          10,
          10,
          0,
          0
         ]
        },
        {
         "line": {
          "color": "black",
          "width": 3
         },
         "mode": "lines",
         "type": "scatter3d",
         "x": [
          23.61,
          23.61,
          24.55,
          24.55,
          23.61
         ],
         "y": [
          90.32,
          90.32,
          88.6,
          88.6,
          90.32
         ],
         "z": [
          0,
          10,
          10,
          0,
          0
         ]
        },
        {
         "line": {
          "color": "black",
          "width": 3
         },
         "mode": "lines",
         "type": "scatter3d",
         "x": [
          24.55,
          24.55,
          24.55,
          24.55,
          24.55
         ],
         "y": [
          88.6,
          88.6,
          88.6,
          88.6,
          88.6
         ],
         "z": [
          0,
          10,
          10,
          0,
          0
         ]
        },
        {
         "color": "red",
         "i": [
          0,
          0
         ],
         "j": [
          1,
          2
         ],
         "k": [
          2,
          3
         ],
         "opacity": 0.5,
         "type": "mesh3d",
         "x": [
          25.6,
          27.42,
          27.42,
          25.6
         ],
         "y": [
          88.45,
          88.45,
          88.45,
          88.45
         ],
         "z": [
          0,
          0,
          10,
          10
         ]
        },
        {
         "color": "red",
         "i": [
          0,
          0
         ],
         "j": [
          1,
          2
         ],
         "k": [
          2,
          3
         ],
         "opacity": 0.5,
         "type": "mesh3d",
         "x": [
          27.42,
          26.92,
          26.92,
          27.42
         ],
         "y": [
          88.45,
          89.35,
          89.35,
          88.45
         ],
         "z": [
          0,
          0,
          10,
          10
         ]
        },
        {
         "color": "red",
         "i": [
          0,
          0
         ],
         "j": [
          1,
          2
         ],
         "k": [
          2,
          3
         ],
         "opacity": 0.5,
         "type": "mesh3d",
         "x": [
          26.92,
          25.6,
          25.6,
          26.92
         ],
         "y": [
          89.35,
          88.45,
          88.45,
          89.35
         ],
         "z": [
          0,
          0,
          10,
          10
         ]
        },
        {
         "color": "red",
         "i": [
          0,
          0
         ],
         "j": [
          1,
          2
         ],
         "k": [
          2,
          3
         ],
         "opacity": 0.5,
         "type": "mesh3d",
         "x": [
          25.6,
          25.6,
          25.6,
          25.6
         ],
         "y": [
          88.45,
          88.45,
          88.45,
          88.45
         ],
         "z": [
          0,
          0,
          10,
          10
         ]
        },
        {
         "line": {
          "color": "black",
          "width": 3
         },
         "mode": "lines",
         "type": "scatter3d",
         "x": [
          25.6,
          27.42,
          26.92,
          25.6,
          25.6
         ],
         "y": [
          88.45,
          88.45,
          89.35,
          88.45,
          88.45
         ],
         "z": [
          10,
          10,
          10,
          10,
          10
         ]
        },
        {
         "line": {
          "color": "black",
          "width": 3
         },
         "mode": "lines",
         "type": "scatter3d",
         "x": [
          25.6,
          27.42,
          26.92,
          25.6,
          25.6
         ],
         "y": [
          88.45,
          88.45,
          89.35,
          88.45,
          88.45
         ],
         "z": [
          0,
          0,
          0,
          0,
          0
         ]
        },
        {
         "line": {
          "color": "black",
          "width": 3
         },
         "mode": "lines",
         "type": "scatter3d",
         "x": [
          25.6,
          25.6,
          27.42,
          27.42,
          25.6
         ],
         "y": [
          88.45,
          88.45,
          88.45,
          88.45,
          88.45
         ],
         "z": [
          0,
          10,
          10,
          0,
          0
         ]
        },
        {
         "line": {
          "color": "black",
          "width": 3
         },
         "mode": "lines",
         "type": "scatter3d",
         "x": [
          27.42,
          27.42,
          26.92,
          26.92,
          27.42
         ],
         "y": [
          88.45,
          88.45,
          89.35,
          89.35,
          88.45
         ],
         "z": [
          0,
          10,
          10,
          0,
          0
         ]
        },
        {
         "line": {
          "color": "black",
          "width": 3
         },
         "mode": "lines",
         "type": "scatter3d",
         "x": [
          26.92,
          26.92,
          25.6,
          25.6,
          26.92
         ],
         "y": [
          89.35,
          89.35,
          88.45,
          88.45,
          89.35
         ],
         "z": [
          0,
          10,
          10,
          0,
          0
         ]
        },
        {
         "line": {
          "color": "black",
          "width": 3
         },
         "mode": "lines",
         "type": "scatter3d",
         "x": [
          25.6,
          25.6,
          25.6,
          25.6,
          25.6
         ],
         "y": [
          88.45,
          88.45,
          88.45,
          88.45,
          88.45
         ],
         "z": [
          0,
          10,
          10,
          0,
          0
         ]
        },
        {
         "color": "red",
         "i": [
          0,
          0
         ],
         "j": [
          1,
          2
         ],
         "k": [
          2,
          3
         ],
         "opacity": 0.5,
         "type": "mesh3d",
         "x": [
          27.61,
          28.81,
          28.81,
          27.61
         ],
         "y": [
          88.45,
          88.45,
          88.45,
          88.45
         ],
         "z": [
          0,
          0,
          10,
          10
         ]
        },
        {
         "color": "red",
         "i": [
          0,
          0
         ],
         "j": [
          1,
          2
         ],
         "k": [
          2,
          3
         ],
         "opacity": 0.5,
         "type": "mesh3d",
         "x": [
          28.81,
          29.12,
          29.12,
          28.81
         ],
         "y": [
          88.45,
          88.66,
          88.66,
          88.45
         ],
         "z": [
          0,
          0,
          10,
          10
         ]
        },
        {
         "color": "red",
         "i": [
          0,
          0
         ],
         "j": [
          1,
          2
         ],
         "k": [
          2,
          3
         ],
         "opacity": 0.5,
         "type": "mesh3d",
         "x": [
          29.12,
          28.02,
          28.02,
          29.12
         ],
         "y": [
          88.66,
          90.45,
          90.45,
          88.66
         ],
         "z": [
          0,
          0,
          10,
          10
         ]
        },
        {
         "color": "red",
         "i": [
          0,
          0
         ],
         "j": [
          1,
          2
         ],
         "k": [
          2,
          3
         ],
         "opacity": 0.5,
         "type": "mesh3d",
         "x": [
          28.02,
          26.9,
          26.9,
          28.02
         ],
         "y": [
          90.45,
          89.57,
          89.57,
          90.45
         ],
         "z": [
          0,
          0,
          10,
          10
         ]
        },
        {
         "color": "red",
         "i": [
          0,
          0
         ],
         "j": [
          1,
          2
         ],
         "k": [
          2,
          3
         ],
         "opacity": 0.5,
         "type": "mesh3d",
         "x": [
          26.9,
          27.61,
          27.61,
          26.9
         ],
         "y": [
          89.57,
          88.45,
          88.45,
          89.57
         ],
         "z": [
          0,
          0,
          10,
          10
         ]
        },
        {
         "color": "red",
         "i": [
          0,
          0
         ],
         "j": [
          1,
          2
         ],
         "k": [
          2,
          3
         ],
         "opacity": 0.5,
         "type": "mesh3d",
         "x": [
          27.61,
          27.61,
          27.61,
          27.61
         ],
         "y": [
          88.45,
          88.45,
          88.45,
          88.45
         ],
         "z": [
          0,
          0,
          10,
          10
         ]
        },
        {
         "line": {
          "color": "black",
          "width": 3
         },
         "mode": "lines",
         "type": "scatter3d",
         "x": [
          27.61,
          28.81,
          29.12,
          28.02,
          26.9,
          27.61,
          27.61
         ],
         "y": [
          88.45,
          88.45,
          88.66,
          90.45,
          89.57,
          88.45,
          88.45
         ],
         "z": [
          10,
          10,
          10,
          10,
          10,
          10,
          10
         ]
        },
        {
         "line": {
          "color": "black",
          "width": 3
         },
         "mode": "lines",
         "type": "scatter3d",
         "x": [
          27.61,
          28.81,
          29.12,
          28.02,
          26.9,
          27.61,
          27.61
         ],
         "y": [
          88.45,
          88.45,
          88.66,
          90.45,
          89.57,
          88.45,
          88.45
         ],
         "z": [
          0,
          0,
          0,
          0,
          0,
          0,
          0
         ]
        },
        {
         "line": {
          "color": "black",
          "width": 3
         },
         "mode": "lines",
         "type": "scatter3d",
         "x": [
          27.61,
          27.61,
          28.81,
          28.81,
          27.61
         ],
         "y": [
          88.45,
          88.45,
          88.45,
          88.45,
          88.45
         ],
         "z": [
          0,
          10,
          10,
          0,
          0
         ]
        },
        {
         "line": {
          "color": "black",
          "width": 3
         },
         "mode": "lines",
         "type": "scatter3d",
         "x": [
          28.81,
          28.81,
          29.12,
          29.12,
          28.81
         ],
         "y": [
          88.45,
          88.45,
          88.66,
          88.66,
          88.45
         ],
         "z": [
          0,
          10,
          10,
          0,
          0
         ]
        },
        {
         "line": {
          "color": "black",
          "width": 3
         },
         "mode": "lines",
         "type": "scatter3d",
         "x": [
          29.12,
          29.12,
          28.02,
          28.02,
          29.12
         ],
         "y": [
          88.66,
          88.66,
          90.45,
          90.45,
          88.66
         ],
         "z": [
          0,
          10,
          10,
          0,
          0
         ]
        },
        {
         "line": {
          "color": "black",
          "width": 3
         },
         "mode": "lines",
         "type": "scatter3d",
         "x": [
          28.02,
          28.02,
          26.9,
          26.9,
          28.02
         ],
         "y": [
          90.45,
          90.45,
          89.57,
          89.57,
          90.45
         ],
         "z": [
          0,
          10,
          10,
          0,
          0
         ]
        },
        {
         "line": {
          "color": "black",
          "width": 3
         },
         "mode": "lines",
         "type": "scatter3d",
         "x": [
          26.9,
          26.9,
          27.61,
          27.61,
          26.9
         ],
         "y": [
          89.57,
          89.57,
          88.45,
          88.45,
          89.57
         ],
         "z": [
          0,
          10,
          10,
          0,
          0
         ]
        },
        {
         "line": {
          "color": "black",
          "width": 3
         },
         "mode": "lines",
         "type": "scatter3d",
         "x": [
          27.61,
          27.61,
          27.61,
          27.61,
          27.61
         ],
         "y": [
          88.45,
          88.45,
          88.45,
          88.45,
          88.45
         ],
         "z": [
          0,
          10,
          10,
          0,
          0
         ]
        },
        {
         "color": "red",
         "i": [
          0,
          0
         ],
         "j": [
          1,
          2
         ],
         "k": [
          2,
          3
         ],
         "opacity": 0.5,
         "type": "mesh3d",
         "x": [
          25.33,
          25.86,
          25.86,
          25.33
         ],
         "y": [
          92.62,
          92.95,
          92.95,
          92.62
         ],
         "z": [
          0,
          0,
          10,
          10
         ]
        },
        {
         "color": "red",
         "i": [
          0,
          0
         ],
         "j": [
          1,
          2
         ],
         "k": [
          2,
          3
         ],
         "opacity": 0.5,
         "type": "mesh3d",
         "x": [
          25.86,
          25.21,
          25.21,
          25.86
         ],
         "y": [
          92.95,
          94.15,
          94.15,
          92.95
         ],
         "z": [
          0,
          0,
          10,
          10
         ]
        },
        {
         "color": "red",
         "i": [
          0,
          0
         ],
         "j": [
          1,
          2
         ],
         "k": [
          2,
          3
         ],
         "opacity": 0.5,
         "type": "mesh3d",
         "x": [
          25.21,
          24.69,
          24.69,
          25.21
         ],
         "y": [
          94.15,
          93.78,
          93.78,
          94.15
         ],
         "z": [
          0,
          0,
          10,
          10
         ]
        },
        {
         "color": "red",
         "i": [
          0,
          0
         ],
         "j": [
          1,
          2
         ],
         "k": [
          2,
          3
         ],
         "opacity": 0.5,
         "type": "mesh3d",
         "x": [
          24.69,
          25.33,
          25.33,
          24.69
         ],
         "y": [
          93.78,
          92.63,
          92.63,
          93.78
         ],
         "z": [
          0,
          0,
          10,
          10
         ]
        },
        {
         "color": "red",
         "i": [
          0,
          0
         ],
         "j": [
          1,
          2
         ],
         "k": [
          2,
          3
         ],
         "opacity": 0.5,
         "type": "mesh3d",
         "x": [
          25.33,
          25.33,
          25.33,
          25.33
         ],
         "y": [
          92.63,
          92.62,
          92.62,
          92.63
         ],
         "z": [
          0,
          0,
          10,
          10
         ]
        },
        {
         "line": {
          "color": "black",
          "width": 3
         },
         "mode": "lines",
         "type": "scatter3d",
         "x": [
          25.33,
          25.86,
          25.21,
          24.69,
          25.33,
          25.33
         ],
         "y": [
          92.62,
          92.95,
          94.15,
          93.78,
          92.63,
          92.62
         ],
         "z": [
          10,
          10,
          10,
          10,
          10,
          10
         ]
        },
        {
         "line": {
          "color": "black",
          "width": 3
         },
         "mode": "lines",
         "type": "scatter3d",
         "x": [
          25.33,
          25.86,
          25.21,
          24.69,
          25.33,
          25.33
         ],
         "y": [
          92.62,
          92.95,
          94.15,
          93.78,
          92.63,
          92.62
         ],
         "z": [
          0,
          0,
          0,
          0,
          0,
          0
         ]
        },
        {
         "line": {
          "color": "black",
          "width": 3
         },
         "mode": "lines",
         "type": "scatter3d",
         "x": [
          25.33,
          25.33,
          25.86,
          25.86,
          25.33
         ],
         "y": [
          92.62,
          92.62,
          92.95,
          92.95,
          92.62
         ],
         "z": [
          0,
          10,
          10,
          0,
          0
         ]
        },
        {
         "line": {
          "color": "black",
          "width": 3
         },
         "mode": "lines",
         "type": "scatter3d",
         "x": [
          25.86,
          25.86,
          25.21,
          25.21,
          25.86
         ],
         "y": [
          92.95,
          92.95,
          94.15,
          94.15,
          92.95
         ],
         "z": [
          0,
          10,
          10,
          0,
          0
         ]
        },
        {
         "line": {
          "color": "black",
          "width": 3
         },
         "mode": "lines",
         "type": "scatter3d",
         "x": [
          25.21,
          25.21,
          24.69,
          24.69,
          25.21
         ],
         "y": [
          94.15,
          94.15,
          93.78,
          93.78,
          94.15
         ],
         "z": [
          0,
          10,
          10,
          0,
          0
         ]
        },
        {
         "line": {
          "color": "black",
          "width": 3
         },
         "mode": "lines",
         "type": "scatter3d",
         "x": [
          24.69,
          24.69,
          25.33,
          25.33,
          24.69
         ],
         "y": [
          93.78,
          93.78,
          92.63,
          92.63,
          93.78
         ],
         "z": [
          0,
          10,
          10,
          0,
          0
         ]
        },
        {
         "line": {
          "color": "black",
          "width": 3
         },
         "mode": "lines",
         "type": "scatter3d",
         "x": [
          25.33,
          25.33,
          25.33,
          25.33,
          25.33
         ],
         "y": [
          92.63,
          92.63,
          92.62,
          92.62,
          92.63
         ],
         "z": [
          0,
          10,
          10,
          0,
          0
         ]
        },
        {
         "color": "red",
         "i": [
          0,
          0
         ],
         "j": [
          1,
          2
         ],
         "k": [
          2,
          3
         ],
         "opacity": 0.5,
         "type": "mesh3d",
         "x": [
          26.11,
          26.62,
          26.62,
          26.11
         ],
         "y": [
          93.05,
          93.35,
          93.35,
          93.05
         ],
         "z": [
          0,
          0,
          3,
          3
         ]
        },
        {
         "color": "red",
         "i": [
          0,
          0
         ],
         "j": [
          1,
          2
         ],
         "k": [
          2,
          3
         ],
         "opacity": 0.5,
         "type": "mesh3d",
         "x": [
          26.62,
          25.81,
          25.81,
          26.62
         ],
         "y": [
          93.35,
          94.65,
          94.65,
          93.35
         ],
         "z": [
          0,
          0,
          3,
          3
         ]
        },
        {
         "color": "red",
         "i": [
          0,
          0
         ],
         "j": [
          1,
          2
         ],
         "k": [
          2,
          3
         ],
         "opacity": 0.5,
         "type": "mesh3d",
         "x": [
          25.81,
          25.39,
          25.39,
          25.81
         ],
         "y": [
          94.65,
          94.35,
          94.35,
          94.65
         ],
         "z": [
          0,
          0,
          3,
          3
         ]
        },
        {
         "color": "red",
         "i": [
          0,
          0
         ],
         "j": [
          1,
          2
         ],
         "k": [
          2,
          3
         ],
         "opacity": 0.5,
         "type": "mesh3d",
         "x": [
          25.39,
          26.11,
          26.11,
          25.39
         ],
         "y": [
          94.35,
          93.05,
          93.05,
          94.35
         ],
         "z": [
          0,
          0,
          3,
          3
         ]
        },
        {
         "color": "red",
         "i": [
          0,
          0
         ],
         "j": [
          1,
          2
         ],
         "k": [
          2,
          3
         ],
         "opacity": 0.5,
         "type": "mesh3d",
         "x": [
          26.11,
          26.11,
          26.11,
          26.11
         ],
         "y": [
          93.05,
          93.05,
          93.05,
          93.05
         ],
         "z": [
          0,
          0,
          3,
          3
         ]
        },
        {
         "line": {
          "color": "black",
          "width": 3
         },
         "mode": "lines",
         "type": "scatter3d",
         "x": [
          26.11,
          26.62,
          25.81,
          25.39,
          26.11,
          26.11
         ],
         "y": [
          93.05,
          93.35,
          94.65,
          94.35,
          93.05,
          93.05
         ],
         "z": [
          3,
          3,
          3,
          3,
          3,
          3
         ]
        },
        {
         "line": {
          "color": "black",
          "width": 3
         },
         "mode": "lines",
         "type": "scatter3d",
         "x": [
          26.11,
          26.62,
          25.81,
          25.39,
          26.11,
          26.11
         ],
         "y": [
          93.05,
          93.35,
          94.65,
          94.35,
          93.05,
          93.05
         ],
         "z": [
          0,
          0,
          0,
          0,
          0,
          0
         ]
        },
        {
         "line": {
          "color": "black",
          "width": 3
         },
         "mode": "lines",
         "type": "scatter3d",
         "x": [
          26.11,
          26.11,
          26.62,
          26.62,
          26.11
         ],
         "y": [
          93.05,
          93.05,
          93.35,
          93.35,
          93.05
         ],
         "z": [
          0,
          3,
          3,
          0,
          0
         ]
        },
        {
         "line": {
          "color": "black",
          "width": 3
         },
         "mode": "lines",
         "type": "scatter3d",
         "x": [
          26.62,
          26.62,
          25.81,
          25.81,
          26.62
         ],
         "y": [
          93.35,
          93.35,
          94.65,
          94.65,
          93.35
         ],
         "z": [
          0,
          3,
          3,
          0,
          0
         ]
        },
        {
         "line": {
          "color": "black",
          "width": 3
         },
         "mode": "lines",
         "type": "scatter3d",
         "x": [
          25.81,
          25.81,
          25.39,
          25.39,
          25.81
         ],
         "y": [
          94.65,
          94.65,
          94.35,
          94.35,
          94.65
         ],
         "z": [
          0,
          3,
          3,
          0,
          0
         ]
        },
        {
         "line": {
          "color": "black",
          "width": 3
         },
         "mode": "lines",
         "type": "scatter3d",
         "x": [
          25.39,
          25.39,
          26.11,
          26.11,
          25.39
         ],
         "y": [
          94.35,
          94.35,
          93.05,
          93.05,
          94.35
         ],
         "z": [
          0,
          3,
          3,
          0,
          0
         ]
        },
        {
         "line": {
          "color": "black",
          "width": 3
         },
         "mode": "lines",
         "type": "scatter3d",
         "x": [
          26.11,
          26.11,
          26.11,
          26.11,
          26.11
         ],
         "y": [
          93.05,
          93.05,
          93.05,
          93.05,
          93.05
         ],
         "z": [
          0,
          3,
          3,
          0,
          0
         ]
        },
        {
         "color": "red",
         "i": [
          0,
          0
         ],
         "j": [
          1,
          2
         ],
         "k": [
          2,
          3
         ],
         "opacity": 0.5,
         "type": "mesh3d",
         "x": [
          26.72,
          27.32,
          27.32,
          26.72
         ],
         "y": [
          93.65,
          94.05,
          94.05,
          93.65
         ],
         "z": [
          0,
          0,
          10,
          10
         ]
        },
        {
         "color": "red",
         "i": [
          0,
          0
         ],
         "j": [
          1,
          2
         ],
         "k": [
          2,
          3
         ],
         "opacity": 0.5,
         "type": "mesh3d",
         "x": [
          27.32,
          26.69,
          26.69,
          27.32
         ],
         "y": [
          94.05,
          95.18,
          95.18,
          94.05
         ],
         "z": [
          0,
          0,
          10,
          10
         ]
        },
        {
         "color": "red",
         "i": [
          0,
          0
         ],
         "j": [
          1,
          2
         ],
         "k": [
          2,
          3
         ],
         "opacity": 0.5,
         "type": "mesh3d",
         "x": [
          26.69,
          26.1,
          26.1,
          26.69
         ],
         "y": [
          95.18,
          94.83,
          94.83,
          95.18
         ],
         "z": [
          0,
          0,
          10,
          10
         ]
        },
        {
         "color": "red",
         "i": [
          0,
          0
         ],
         "j": [
          1,
          2
         ],
         "k": [
          2,
          3
         ],
         "opacity": 0.5,
         "type": "mesh3d",
         "x": [
          26.1,
          26.72,
          26.72,
          26.1
         ],
         "y": [
          94.83,
          93.65,
          93.65,
          94.83
         ],
         "z": [
          0,
          0,
          10,
          10
         ]
        },
        {
         "color": "red",
         "i": [
          0,
          0
         ],
         "j": [
          1,
          2
         ],
         "k": [
          2,
          3
         ],
         "opacity": 0.5,
         "type": "mesh3d",
         "x": [
          26.72,
          26.72,
          26.72,
          26.72
         ],
         "y": [
          93.65,
          93.65,
          93.65,
          93.65
         ],
         "z": [
          0,
          0,
          10,
          10
         ]
        },
        {
         "line": {
          "color": "black",
          "width": 3
         },
         "mode": "lines",
         "type": "scatter3d",
         "x": [
          26.72,
          27.32,
          26.69,
          26.1,
          26.72,
          26.72
         ],
         "y": [
          93.65,
          94.05,
          95.18,
          94.83,
          93.65,
          93.65
         ],
         "z": [
          10,
          10,
          10,
          10,
          10,
          10
         ]
        },
        {
         "line": {
          "color": "black",
          "width": 3
         },
         "mode": "lines",
         "type": "scatter3d",
         "x": [
          26.72,
          27.32,
          26.69,
          26.1,
          26.72,
          26.72
         ],
         "y": [
          93.65,
          94.05,
          95.18,
          94.83,
          93.65,
          93.65
         ],
         "z": [
          0,
          0,
          0,
          0,
          0,
          0
         ]
        },
        {
         "line": {
          "color": "black",
          "width": 3
         },
         "mode": "lines",
         "type": "scatter3d",
         "x": [
          26.72,
          26.72,
          27.32,
          27.32,
          26.72
         ],
         "y": [
          93.65,
          93.65,
          94.05,
          94.05,
          93.65
         ],
         "z": [
          0,
          10,
          10,
          0,
          0
         ]
        },
        {
         "line": {
          "color": "black",
          "width": 3
         },
         "mode": "lines",
         "type": "scatter3d",
         "x": [
          27.32,
          27.32,
          26.69,
          26.69,
          27.32
         ],
         "y": [
          94.05,
          94.05,
          95.18,
          95.18,
          94.05
         ],
         "z": [
          0,
          10,
          10,
          0,
          0
         ]
        },
        {
         "line": {
          "color": "black",
          "width": 3
         },
         "mode": "lines",
         "type": "scatter3d",
         "x": [
          26.69,
          26.69,
          26.1,
          26.1,
          26.69
         ],
         "y": [
          95.18,
          95.18,
          94.83,
          94.83,
          95.18
         ],
         "z": [
          0,
          10,
          10,
          0,
          0
         ]
        },
        {
         "line": {
          "color": "black",
          "width": 3
         },
         "mode": "lines",
         "type": "scatter3d",
         "x": [
          26.1,
          26.1,
          26.72,
          26.72,
          26.1
         ],
         "y": [
          94.83,
          94.83,
          93.65,
          93.65,
          94.83
         ],
         "z": [
          0,
          10,
          10,
          0,
          0
         ]
        },
        {
         "line": {
          "color": "black",
          "width": 3
         },
         "mode": "lines",
         "type": "scatter3d",
         "x": [
          26.72,
          26.72,
          26.72,
          26.72,
          26.72
         ],
         "y": [
          93.65,
          93.65,
          93.65,
          93.65,
          93.65
         ],
         "z": [
          0,
          10,
          10,
          0,
          0
         ]
        },
        {
         "color": "red",
         "i": [
          0,
          0
         ],
         "j": [
          1,
          2
         ],
         "k": [
          2,
          3
         ],
         "opacity": 0.5,
         "type": "mesh3d",
         "x": [
          25.81,
          26.29,
          26.29,
          25.81
         ],
         "y": [
          95.4,
          95.7,
          95.7,
          95.4
         ],
         "z": [
          0,
          0,
          10,
          10
         ]
        },
        {
         "color": "red",
         "i": [
          0,
          0
         ],
         "j": [
          1,
          2
         ],
         "k": [
          2,
          3
         ],
         "opacity": 0.5,
         "type": "mesh3d",
         "x": [
          26.29,
          26.01,
          26.01,
          26.29
         ],
         "y": [
          95.7,
          96.2,
          96.2,
          95.7
         ],
         "z": [
          0,
          0,
          10,
          10
         ]
        },
        {
         "color": "red",
         "i": [
          0,
          0
         ],
         "j": [
          1,
          2
         ],
         "k": [
          2,
          3
         ],
         "opacity": 0.5,
         "type": "mesh3d",
         "x": [
          26.01,
          26.25,
          26.25,
          26.01
         ],
         "y": [
          96.2,
          96.37,
          96.37,
          96.2
         ],
         "z": [
          0,
          0,
          10,
          10
         ]
        },
        {
         "color": "red",
         "i": [
          0,
          0
         ],
         "j": [
          1,
          2
         ],
         "k": [
          2,
          3
         ],
         "opacity": 0.5,
         "type": "mesh3d",
         "x": [
          26.25,
          25.93,
          25.93,
          26.25
         ],
         "y": [
          96.37,
          96.94,
          96.94,
          96.37
         ],
         "z": [
          0,
          0,
          10,
          10
         ]
        },
        {
         "color": "red",
         "i": [
          0,
          0
         ],
         "j": [
          1,
          2
         ],
         "k": [
          2,
          3
         ],
         "opacity": 0.5,
         "type": "mesh3d",
         "x": [
          25.93,
          25.8,
          25.8,
          25.93
         ],
         "y": [
          96.94,
          96.84,
          96.84,
          96.94
         ],
         "z": [
          0,
          0,
          10,
          10
         ]
        },
        {
         "color": "red",
         "i": [
          0,
          0
         ],
         "j": [
          1,
          2
         ],
         "k": [
          2,
          3
         ],
         "opacity": 0.5,
         "type": "mesh3d",
         "x": [
          25.8,
          25.69,
          25.69,
          25.8
         ],
         "y": [
          96.84,
          97.01,
          97.01,
          96.84
         ],
         "z": [
          0,
          0,
          10,
          10
         ]
        },
        {
         "color": "red",
         "i": [
          0,
          0
         ],
         "j": [
          1,
          2
         ],
         "k": [
          2,
          3
         ],
         "opacity": 0.5,
         "type": "mesh3d",
         "x": [
          25.69,
          25.11,
          25.11,
          25.69
         ],
         "y": [
          97.01,
          96.65,
          96.65,
          97.01
         ],
         "z": [
          0,
          0,
          10,
          10
         ]
        },
        {
         "color": "red",
         "i": [
          0,
          0
         ],
         "j": [
          1,
          2
         ],
         "k": [
          2,
          3
         ],
         "opacity": 0.5,
         "type": "mesh3d",
         "x": [
          25.11,
          25.81,
          25.81,
          25.11
         ],
         "y": [
          96.65,
          95.4,
          95.4,
          96.65
         ],
         "z": [
          0,
          0,
          10,
          10
         ]
        },
        {
         "color": "red",
         "i": [
          0,
          0
         ],
         "j": [
          1,
          2
         ],
         "k": [
          2,
          3
         ],
         "opacity": 0.5,
         "type": "mesh3d",
         "x": [
          25.81,
          25.81,
          25.81,
          25.81
         ],
         "y": [
          95.4,
          95.4,
          95.4,
          95.4
         ],
         "z": [
          0,
          0,
          10,
          10
         ]
        },
        {
         "line": {
          "color": "black",
          "width": 3
         },
         "mode": "lines",
         "type": "scatter3d",
         "x": [
          25.81,
          26.29,
          26.01,
          26.25,
          25.93,
          25.8,
          25.69,
          25.11,
          25.81,
          25.81
         ],
         "y": [
          95.4,
          95.7,
          96.2,
          96.37,
          96.94,
          96.84,
          97.01,
          96.65,
          95.4,
          95.4
         ],
         "z": [
          10,
          10,
          10,
          10,
          10,
          10,
          10,
          10,
          10,
          10
         ]
        },
        {
         "line": {
          "color": "black",
          "width": 3
         },
         "mode": "lines",
         "type": "scatter3d",
         "x": [
          25.81,
          26.29,
          26.01,
          26.25,
          25.93,
          25.8,
          25.69,
          25.11,
          25.81,
          25.81
         ],
         "y": [
          95.4,
          95.7,
          96.2,
          96.37,
          96.94,
          96.84,
          97.01,
          96.65,
          95.4,
          95.4
         ],
         "z": [
          0,
          0,
          0,
          0,
          0,
          0,
          0,
          0,
          0,
          0
         ]
        },
        {
         "line": {
          "color": "black",
          "width": 3
         },
         "mode": "lines",
         "type": "scatter3d",
         "x": [
          25.81,
          25.81,
          26.29,
          26.29,
          25.81
         ],
         "y": [
          95.4,
          95.4,
          95.7,
          95.7,
          95.4
         ],
         "z": [
          0,
          10,
          10,
          0,
          0
         ]
        },
        {
         "line": {
          "color": "black",
          "width": 3
         },
         "mode": "lines",
         "type": "scatter3d",
         "x": [
          26.29,
          26.29,
          26.01,
          26.01,
          26.29
         ],
         "y": [
          95.7,
          95.7,
          96.2,
          96.2,
          95.7
         ],
         "z": [
          0,
          10,
          10,
          0,
          0
         ]
        },
        {
         "line": {
          "color": "black",
          "width": 3
         },
         "mode": "lines",
         "type": "scatter3d",
         "x": [
          26.01,
          26.01,
          26.25,
          26.25,
          26.01
         ],
         "y": [
          96.2,
          96.2,
          96.37,
          96.37,
          96.2
         ],
         "z": [
          0,
          10,
          10,
          0,
          0
         ]
        },
        {
         "line": {
          "color": "black",
          "width": 3
         },
         "mode": "lines",
         "type": "scatter3d",
         "x": [
          26.25,
          26.25,
          25.93,
          25.93,
          26.25
         ],
         "y": [
          96.37,
          96.37,
          96.94,
          96.94,
          96.37
         ],
         "z": [
          0,
          10,
          10,
          0,
          0
         ]
        },
        {
         "line": {
          "color": "black",
          "width": 3
         },
         "mode": "lines",
         "type": "scatter3d",
         "x": [
          25.93,
          25.93,
          25.8,
          25.8,
          25.93
         ],
         "y": [
          96.94,
          96.94,
          96.84,
          96.84,
          96.94
         ],
         "z": [
          0,
          10,
          10,
          0,
          0
         ]
        },
        {
         "line": {
          "color": "black",
          "width": 3
         },
         "mode": "lines",
         "type": "scatter3d",
         "x": [
          25.8,
          25.8,
          25.69,
          25.69,
          25.8
         ],
         "y": [
          96.84,
          96.84,
          97.01,
          97.01,
          96.84
         ],
         "z": [
          0,
          10,
          10,
          0,
          0
         ]
        },
        {
         "line": {
          "color": "black",
          "width": 3
         },
         "mode": "lines",
         "type": "scatter3d",
         "x": [
          25.69,
          25.69,
          25.11,
          25.11,
          25.69
         ],
         "y": [
          97.01,
          97.01,
          96.65,
          96.65,
          97.01
         ],
         "z": [
          0,
          10,
          10,
          0,
          0
         ]
        },
        {
         "line": {
          "color": "black",
          "width": 3
         },
         "mode": "lines",
         "type": "scatter3d",
         "x": [
          25.11,
          25.11,
          25.81,
          25.81,
          25.11
         ],
         "y": [
          96.65,
          96.65,
          95.4,
          95.4,
          96.65
         ],
         "z": [
          0,
          10,
          10,
          0,
          0
         ]
        },
        {
         "line": {
          "color": "black",
          "width": 3
         },
         "mode": "lines",
         "type": "scatter3d",
         "x": [
          25.81,
          25.81,
          25.81,
          25.81,
          25.81
         ],
         "y": [
          95.4,
          95.4,
          95.4,
          95.4,
          95.4
         ],
         "z": [
          0,
          10,
          10,
          0,
          0
         ]
        },
        {
         "color": "red",
         "i": [
          0,
          0
         ],
         "j": [
          1,
          2
         ],
         "k": [
          2,
          3
         ],
         "opacity": 0.5,
         "type": "mesh3d",
         "x": [
          23.9,
          24.91,
          24.91,
          23.9
         ],
         "y": [
          94.15,
          94.81,
          94.81,
          94.15
         ],
         "z": [
          0,
          0,
          3,
          3
         ]
        },
        {
         "color": "red",
         "i": [
          0,
          0
         ],
         "j": [
          1,
          2
         ],
         "k": [
          2,
          3
         ],
         "opacity": 0.5,
         "type": "mesh3d",
         "x": [
          24.91,
          24.48,
          24.48,
          24.91
         ],
         "y": [
          94.81,
          95.57,
          95.57,
          94.81
         ],
         "z": [
          0,
          0,
          3,
          3
         ]
        },
        {
         "color": "red",
         "i": [
          0,
          0
         ],
         "j": [
          1,
          2
         ],
         "k": [
          2,
          3
         ],
         "opacity": 0.5,
         "type": "mesh3d",
         "x": [
          24.48,
          23.48,
          23.48,
          24.48
         ],
         "y": [
          95.57,
          94.95,
          94.95,
          95.57
         ],
         "z": [
          0,
          0,
          3,
          3
         ]
        },
        {
         "color": "red",
         "i": [
          0,
          0
         ],
         "j": [
          1,
          2
         ],
         "k": [
          2,
          3
         ],
         "opacity": 0.5,
         "type": "mesh3d",
         "x": [
          23.48,
          23.9,
          23.9,
          23.48
         ],
         "y": [
          94.95,
          94.15,
          94.15,
          94.95
         ],
         "z": [
          0,
          0,
          3,
          3
         ]
        },
        {
         "color": "red",
         "i": [
          0,
          0
         ],
         "j": [
          1,
          2
         ],
         "k": [
          2,
          3
         ],
         "opacity": 0.5,
         "type": "mesh3d",
         "x": [
          23.9,
          23.9,
          23.9,
          23.9
         ],
         "y": [
          94.15,
          94.15,
          94.15,
          94.15
         ],
         "z": [
          0,
          0,
          3,
          3
         ]
        },
        {
         "line": {
          "color": "black",
          "width": 3
         },
         "mode": "lines",
         "type": "scatter3d",
         "x": [
          23.9,
          24.91,
          24.48,
          23.48,
          23.9,
          23.9
         ],
         "y": [
          94.15,
          94.81,
          95.57,
          94.95,
          94.15,
          94.15
         ],
         "z": [
          3,
          3,
          3,
          3,
          3,
          3
         ]
        },
        {
         "line": {
          "color": "black",
          "width": 3
         },
         "mode": "lines",
         "type": "scatter3d",
         "x": [
          23.9,
          24.91,
          24.48,
          23.48,
          23.9,
          23.9
         ],
         "y": [
          94.15,
          94.81,
          95.57,
          94.95,
          94.15,
          94.15
         ],
         "z": [
          0,
          0,
          0,
          0,
          0,
          0
         ]
        },
        {
         "line": {
          "color": "black",
          "width": 3
         },
         "mode": "lines",
         "type": "scatter3d",
         "x": [
          23.9,
          23.9,
          24.91,
          24.91,
          23.9
         ],
         "y": [
          94.15,
          94.15,
          94.81,
          94.81,
          94.15
         ],
         "z": [
          0,
          3,
          3,
          0,
          0
         ]
        },
        {
         "line": {
          "color": "black",
          "width": 3
         },
         "mode": "lines",
         "type": "scatter3d",
         "x": [
          24.91,
          24.91,
          24.48,
          24.48,
          24.91
         ],
         "y": [
          94.81,
          94.81,
          95.57,
          95.57,
          94.81
         ],
         "z": [
          0,
          3,
          3,
          0,
          0
         ]
        },
        {
         "line": {
          "color": "black",
          "width": 3
         },
         "mode": "lines",
         "type": "scatter3d",
         "x": [
          24.48,
          24.48,
          23.48,
          23.48,
          24.48
         ],
         "y": [
          95.57,
          95.57,
          94.95,
          94.95,
          95.57
         ],
         "z": [
          0,
          3,
          3,
          0,
          0
         ]
        },
        {
         "line": {
          "color": "black",
          "width": 3
         },
         "mode": "lines",
         "type": "scatter3d",
         "x": [
          23.48,
          23.48,
          23.9,
          23.9,
          23.48
         ],
         "y": [
          94.95,
          94.95,
          94.15,
          94.15,
          94.95
         ],
         "z": [
          0,
          3,
          3,
          0,
          0
         ]
        },
        {
         "line": {
          "color": "black",
          "width": 3
         },
         "mode": "lines",
         "type": "scatter3d",
         "x": [
          23.9,
          23.9,
          23.9,
          23.9,
          23.9
         ],
         "y": [
          94.15,
          94.15,
          94.15,
          94.15,
          94.15
         ],
         "z": [
          0,
          3,
          3,
          0,
          0
         ]
        },
        {
         "color": "red",
         "i": [
          0,
          0
         ],
         "j": [
          1,
          2
         ],
         "k": [
          2,
          3
         ],
         "opacity": 0.5,
         "type": "mesh3d",
         "x": [
          23.71,
          23.91,
          23.91,
          23.71
         ],
         "y": [
          98.67,
          98.26,
          98.26,
          98.67
         ],
         "z": [
          0,
          0,
          10,
          10
         ]
        },
        {
         "color": "red",
         "i": [
          0,
          0
         ],
         "j": [
          1,
          2
         ],
         "k": [
          2,
          3
         ],
         "opacity": 0.5,
         "type": "mesh3d",
         "x": [
          23.91,
          24.41,
          24.41,
          23.91
         ],
         "y": [
          98.26,
          98.67,
          98.67,
          98.26
         ],
         "z": [
          0,
          0,
          10,
          10
         ]
        },
        {
         "color": "red",
         "i": [
          0,
          0
         ],
         "j": [
          1,
          2
         ],
         "k": [
          2,
          3
         ],
         "opacity": 0.5,
         "type": "mesh3d",
         "x": [
          24.41,
          23.71,
          23.71,
          24.41
         ],
         "y": [
          98.67,
          98.67,
          98.67,
          98.67
         ],
         "z": [
          0,
          0,
          10,
          10
         ]
        },
        {
         "color": "red",
         "i": [
          0,
          0
         ],
         "j": [
          1,
          2
         ],
         "k": [
          2,
          3
         ],
         "opacity": 0.5,
         "type": "mesh3d",
         "x": [
          23.71,
          23.71,
          23.71,
          23.71
         ],
         "y": [
          98.67,
          98.67,
          98.67,
          98.67
         ],
         "z": [
          0,
          0,
          10,
          10
         ]
        },
        {
         "line": {
          "color": "black",
          "width": 3
         },
         "mode": "lines",
         "type": "scatter3d",
         "x": [
          23.71,
          23.91,
          24.41,
          23.71,
          23.71
         ],
         "y": [
          98.67,
          98.26,
          98.67,
          98.67,
          98.67
         ],
         "z": [
          10,
          10,
          10,
          10,
          10
         ]
        },
        {
         "line": {
          "color": "black",
          "width": 3
         },
         "mode": "lines",
         "type": "scatter3d",
         "x": [
          23.71,
          23.91,
          24.41,
          23.71,
          23.71
         ],
         "y": [
          98.67,
          98.26,
          98.67,
          98.67,
          98.67
         ],
         "z": [
          0,
          0,
          0,
          0,
          0
         ]
        },
        {
         "line": {
          "color": "black",
          "width": 3
         },
         "mode": "lines",
         "type": "scatter3d",
         "x": [
          23.71,
          23.71,
          23.91,
          23.91,
          23.71
         ],
         "y": [
          98.67,
          98.67,
          98.26,
          98.26,
          98.67
         ],
         "z": [
          0,
          10,
          10,
          0,
          0
         ]
        },
        {
         "line": {
          "color": "black",
          "width": 3
         },
         "mode": "lines",
         "type": "scatter3d",
         "x": [
          23.91,
          23.91,
          24.41,
          24.41,
          23.91
         ],
         "y": [
          98.26,
          98.26,
          98.67,
          98.67,
          98.26
         ],
         "z": [
          0,
          10,
          10,
          0,
          0
         ]
        },
        {
         "line": {
          "color": "black",
          "width": 3
         },
         "mode": "lines",
         "type": "scatter3d",
         "x": [
          24.41,
          24.41,
          23.71,
          23.71,
          24.41
         ],
         "y": [
          98.67,
          98.67,
          98.67,
          98.67,
          98.67
         ],
         "z": [
          0,
          10,
          10,
          0,
          0
         ]
        },
        {
         "line": {
          "color": "black",
          "width": 3
         },
         "mode": "lines",
         "type": "scatter3d",
         "x": [
          23.71,
          23.71,
          23.71,
          23.71,
          23.71
         ],
         "y": [
          98.67,
          98.67,
          98.67,
          98.67,
          98.67
         ],
         "z": [
          0,
          10,
          10,
          0,
          0
         ]
        },
        {
         "color": "red",
         "i": [
          0,
          0
         ],
         "j": [
          1,
          2
         ],
         "k": [
          2,
          3
         ],
         "opacity": 0.5,
         "type": "mesh3d",
         "x": [
          31.81,
          32.51,
          32.51,
          31.81
         ],
         "y": [
          90.35,
          90.85,
          90.85,
          90.35
         ],
         "z": [
          0,
          0,
          10,
          10
         ]
        },
        {
         "color": "red",
         "i": [
          0,
          0
         ],
         "j": [
          1,
          2
         ],
         "k": [
          2,
          3
         ],
         "opacity": 0.5,
         "type": "mesh3d",
         "x": [
          32.51,
          32.21,
          32.21,
          32.51
         ],
         "y": [
          90.85,
          91.55,
          91.55,
          90.85
         ],
         "z": [
          0,
          0,
          10,
          10
         ]
        },
        {
         "color": "red",
         "i": [
          0,
          0
         ],
         "j": [
          1,
          2
         ],
         "k": [
          2,
          3
         ],
         "opacity": 0.5,
         "type": "mesh3d",
         "x": [
          32.21,
          32.03,
          32.03,
          32.21
         ],
         "y": [
          91.55,
          91.85,
          91.85,
          91.55
         ],
         "z": [
          0,
          0,
          10,
          10
         ]
        },
        {
         "color": "red",
         "i": [
          0,
          0
         ],
         "j": [
          1,
          2
         ],
         "k": [
          2,
          3
         ],
         "opacity": 0.5,
         "type": "mesh3d",
         "x": [
          32.03,
          34.31,
          34.31,
          32.03
         ],
         "y": [
          91.85,
          93.45,
          93.45,
          91.85
         ],
         "z": [
          0,
          0,
          10,
          10
         ]
        },
        {
         "color": "red",
         "i": [
          0,
          0
         ],
         "j": [
          1,
          2
         ],
         "k": [
          2,
          3
         ],
         "opacity": 0.5,
         "type": "mesh3d",
         "x": [
          34.31,
          32.69,
          32.69,
          34.31
         ],
         "y": [
          93.45,
          96.27,
          96.27,
          93.45
         ],
         "z": [
          0,
          0,
          10,
          10
         ]
        },
        {
         "color": "red",
         "i": [
          0,
          0
         ],
         "j": [
          1,
          2
         ],
         "k": [
          2,
          3
         ],
         "opacity": 0.5,
         "type": "mesh3d",
         "x": [
          32.69,
          30.99,
          30.99,
          32.69
         ],
         "y": [
          96.27,
          95.15,
          95.15,
          96.27
         ],
         "z": [
          0,
          0,
          10,
          10
         ]
        },
        {
         "color": "red",
         "i": [
          0,
          0
         ],
         "j": [
          1,
          2
         ],
         "k": [
          2,
          3
         ],
         "opacity": 0.5,
         "type": "mesh3d",
         "x": [
          30.99,
          32.21,
          32.21,
          30.99
         ],
         "y": [
          95.15,
          92.93,
          92.93,
          95.15
         ],
         "z": [
          0,
          0,
          10,
          10
         ]
        },
        {
         "color": "red",
         "i": [
          0,
          0
         ],
         "j": [
          1,
          2
         ],
         "k": [
          2,
          3
         ],
         "opacity": 0.5,
         "type": "mesh3d",
         "x": [
          32.21,
          30.89,
          30.89,
          32.21
         ],
         "y": [
          92.93,
          91.97,
          91.97,
          92.93
         ],
         "z": [
          0,
          0,
          10,
          10
         ]
        },
        {
         "color": "red",
         "i": [
          0,
          0
         ],
         "j": [
          1,
          2
         ],
         "k": [
          2,
          3
         ],
         "opacity": 0.5,
         "type": "mesh3d",
         "x": [
          30.89,
          31.81,
          31.81,
          30.89
         ],
         "y": [
          91.97,
          90.35,
          90.35,
          91.97
         ],
         "z": [
          0,
          0,
          10,
          10
         ]
        },
        {
         "color": "red",
         "i": [
          0,
          0
         ],
         "j": [
          1,
          2
         ],
         "k": [
          2,
          3
         ],
         "opacity": 0.5,
         "type": "mesh3d",
         "x": [
          31.81,
          31.81,
          31.81,
          31.81
         ],
         "y": [
          90.35,
          90.35,
          90.35,
          90.35
         ],
         "z": [
          0,
          0,
          10,
          10
         ]
        },
        {
         "line": {
          "color": "black",
          "width": 3
         },
         "mode": "lines",
         "type": "scatter3d",
         "x": [
          31.81,
          32.51,
          32.21,
          32.03,
          34.31,
          32.69,
          30.99,
          32.21,
          30.89,
          31.81,
          31.81
         ],
         "y": [
          90.35,
          90.85,
          91.55,
          91.85,
          93.45,
          96.27,
          95.15,
          92.93,
          91.97,
          90.35,
          90.35
         ],
         "z": [
          10,
          10,
          10,
          10,
          10,
          10,
          10,
          10,
          10,
          10,
          10
         ]
        },
        {
         "line": {
          "color": "black",
          "width": 3
         },
         "mode": "lines",
         "type": "scatter3d",
         "x": [
          31.81,
          32.51,
          32.21,
          32.03,
          34.31,
          32.69,
          30.99,
          32.21,
          30.89,
          31.81,
          31.81
         ],
         "y": [
          90.35,
          90.85,
          91.55,
          91.85,
          93.45,
          96.27,
          95.15,
          92.93,
          91.97,
          90.35,
          90.35
         ],
         "z": [
          0,
          0,
          0,
          0,
          0,
          0,
          0,
          0,
          0,
          0,
          0
         ]
        },
        {
         "line": {
          "color": "black",
          "width": 3
         },
         "mode": "lines",
         "type": "scatter3d",
         "x": [
          31.81,
          31.81,
          32.51,
          32.51,
          31.81
         ],
         "y": [
          90.35,
          90.35,
          90.85,
          90.85,
          90.35
         ],
         "z": [
          0,
          10,
          10,
          0,
          0
         ]
        },
        {
         "line": {
          "color": "black",
          "width": 3
         },
         "mode": "lines",
         "type": "scatter3d",
         "x": [
          32.51,
          32.51,
          32.21,
          32.21,
          32.51
         ],
         "y": [
          90.85,
          90.85,
          91.55,
          91.55,
          90.85
         ],
         "z": [
          0,
          10,
          10,
          0,
          0
         ]
        },
        {
         "line": {
          "color": "black",
          "width": 3
         },
         "mode": "lines",
         "type": "scatter3d",
         "x": [
          32.21,
          32.21,
          32.03,
          32.03,
          32.21
         ],
         "y": [
          91.55,
          91.55,
          91.85,
          91.85,
          91.55
         ],
         "z": [
          0,
          10,
          10,
          0,
          0
         ]
        },
        {
         "line": {
          "color": "black",
          "width": 3
         },
         "mode": "lines",
         "type": "scatter3d",
         "x": [
          32.03,
          32.03,
          34.31,
          34.31,
          32.03
         ],
         "y": [
          91.85,
          91.85,
          93.45,
          93.45,
          91.85
         ],
         "z": [
          0,
          10,
          10,
          0,
          0
         ]
        },
        {
         "line": {
          "color": "black",
          "width": 3
         },
         "mode": "lines",
         "type": "scatter3d",
         "x": [
          34.31,
          34.31,
          32.69,
          32.69,
          34.31
         ],
         "y": [
          93.45,
          93.45,
          96.27,
          96.27,
          93.45
         ],
         "z": [
          0,
          10,
          10,
          0,
          0
         ]
        },
        {
         "line": {
          "color": "black",
          "width": 3
         },
         "mode": "lines",
         "type": "scatter3d",
         "x": [
          32.69,
          32.69,
          30.99,
          30.99,
          32.69
         ],
         "y": [
          96.27,
          96.27,
          95.15,
          95.15,
          96.27
         ],
         "z": [
          0,
          10,
          10,
          0,
          0
         ]
        },
        {
         "line": {
          "color": "black",
          "width": 3
         },
         "mode": "lines",
         "type": "scatter3d",
         "x": [
          30.99,
          30.99,
          32.21,
          32.21,
          30.99
         ],
         "y": [
          95.15,
          95.15,
          92.93,
          92.93,
          95.15
         ],
         "z": [
          0,
          10,
          10,
          0,
          0
         ]
        },
        {
         "line": {
          "color": "black",
          "width": 3
         },
         "mode": "lines",
         "type": "scatter3d",
         "x": [
          32.21,
          32.21,
          30.89,
          30.89,
          32.21
         ],
         "y": [
          92.93,
          92.93,
          91.97,
          91.97,
          92.93
         ],
         "z": [
          0,
          10,
          10,
          0,
          0
         ]
        },
        {
         "line": {
          "color": "black",
          "width": 3
         },
         "mode": "lines",
         "type": "scatter3d",
         "x": [
          30.89,
          30.89,
          31.81,
          31.81,
          30.89
         ],
         "y": [
          91.97,
          91.97,
          90.35,
          90.35,
          91.97
         ],
         "z": [
          0,
          10,
          10,
          0,
          0
         ]
        },
        {
         "line": {
          "color": "black",
          "width": 3
         },
         "mode": "lines",
         "type": "scatter3d",
         "x": [
          31.81,
          31.81,
          31.81,
          31.81,
          31.81
         ],
         "y": [
          90.35,
          90.35,
          90.35,
          90.35,
          90.35
         ],
         "z": [
          0,
          10,
          10,
          0,
          0
         ]
        },
        {
         "color": "red",
         "i": [
          0,
          0
         ],
         "j": [
          1,
          2
         ],
         "k": [
          2,
          3
         ],
         "opacity": 0.5,
         "type": "mesh3d",
         "x": [
          30.21,
          31.85,
          31.85,
          30.21
         ],
         "y": [
          96,
          97.11,
          97.11,
          96
         ],
         "z": [
          0,
          0,
          10,
          10
         ]
        },
        {
         "color": "red",
         "i": [
          0,
          0
         ],
         "j": [
          1,
          2
         ],
         "k": [
          2,
          3
         ],
         "opacity": 0.5,
         "type": "mesh3d",
         "x": [
          31.85,
          31.02,
          31.02,
          31.85
         ],
         "y": [
          97.11,
          98.55,
          98.55,
          97.11
         ],
         "z": [
          0,
          0,
          10,
          10
         ]
        },
        {
         "color": "red",
         "i": [
          0,
          0
         ],
         "j": [
          1,
          2
         ],
         "k": [
          2,
          3
         ],
         "opacity": 0.5,
         "type": "mesh3d",
         "x": [
          31.02,
          30.5,
          30.5,
          31.02
         ],
         "y": [
          98.55,
          98.26,
          98.26,
          98.55
         ],
         "z": [
          0,
          0,
          10,
          10
         ]
        },
        {
         "color": "red",
         "i": [
          0,
          0
         ],
         "j": [
          1,
          2
         ],
         "k": [
          2,
          3
         ],
         "opacity": 0.5,
         "type": "mesh3d",
         "x": [
          30.5,
          30.31,
          30.31,
          30.5
         ],
         "y": [
          98.26,
          98.53,
          98.53,
          98.26
         ],
         "z": [
          0,
          0,
          10,
          10
         ]
        },
        {
         "color": "red",
         "i": [
          0,
          0
         ],
         "j": [
          1,
          2
         ],
         "k": [
          2,
          3
         ],
         "opacity": 0.5,
         "type": "mesh3d",
         "x": [
          30.31,
          30.51,
          30.51,
          30.31
         ],
         "y": [
          98.53,
          98.67,
          98.67,
          98.53
         ],
         "z": [
          0,
          0,
          10,
          10
         ]
        },
        {
         "color": "red",
         "i": [
          0,
          0
         ],
         "j": [
          1,
          2
         ],
         "k": [
          2,
          3
         ],
         "opacity": 0.5,
         "type": "mesh3d",
         "x": [
          30.51,
          27.81,
          27.81,
          30.51
         ],
         "y": [
          98.67,
          98.67,
          98.67,
          98.67
         ],
         "z": [
          0,
          0,
          10,
          10
         ]
        },
        {
         "color": "red",
         "i": [
          0,
          0
         ],
         "j": [
          1,
          2
         ],
         "k": [
          2,
          3
         ],
         "opacity": 0.5,
         "type": "mesh3d",
         "x": [
          27.81,
          27.21,
          27.21,
          27.81
         ],
         "y": [
          98.67,
          98.28,
          98.28,
          98.67
         ],
         "z": [
          0,
          0,
          10,
          10
         ]
        },
        {
         "color": "red",
         "i": [
          0,
          0
         ],
         "j": [
          1,
          2
         ],
         "k": [
          2,
          3
         ],
         "opacity": 0.5,
         "type": "mesh3d",
         "x": [
          27.21,
          27.73,
          27.73,
          27.21
         ],
         "y": [
          98.28,
          97.43,
          97.43,
          98.28
         ],
         "z": [
          0,
          0,
          10,
          10
         ]
        },
        {
         "color": "red",
         "i": [
          0,
          0
         ],
         "j": [
          1,
          2
         ],
         "k": [
          2,
          3
         ],
         "opacity": 0.5,
         "type": "mesh3d",
         "x": [
          27.73,
          28.95,
          28.95,
          27.73
         ],
         "y": [
          97.43,
          98.25,
          98.25,
          97.43
         ],
         "z": [
          0,
          0,
          10,
          10
         ]
        },
        {
         "color": "red",
         "i": [
          0,
          0
         ],
         "j": [
          1,
          2
         ],
         "k": [
          2,
          3
         ],
         "opacity": 0.5,
         "type": "mesh3d",
         "x": [
          28.95,
          30.21,
          30.21,
          28.95
         ],
         "y": [
          98.25,
          96,
          96,
          98.25
         ],
         "z": [
          0,
          0,
          10,
          10
         ]
        },
        {
         "color": "red",
         "i": [
          0,
          0
         ],
         "j": [
          1,
          2
         ],
         "k": [
          2,
          3
         ],
         "opacity": 0.5,
         "type": "mesh3d",
         "x": [
          30.21,
          30.21,
          30.21,
          30.21
         ],
         "y": [
          96,
          96,
          96,
          96
         ],
         "z": [
          0,
          0,
          10,
          10
         ]
        },
        {
         "line": {
          "color": "black",
          "width": 3
         },
         "mode": "lines",
         "type": "scatter3d",
         "x": [
          30.21,
          31.85,
          31.02,
          30.5,
          30.31,
          30.51,
          27.81,
          27.21,
          27.73,
          28.95,
          30.21,
          30.21
         ],
         "y": [
          96,
          97.11,
          98.55,
          98.26,
          98.53,
          98.67,
          98.67,
          98.28,
          97.43,
          98.25,
          96,
          96
         ],
         "z": [
          10,
          10,
          10,
          10,
          10,
          10,
          10,
          10,
          10,
          10,
          10,
          10
         ]
        },
        {
         "line": {
          "color": "black",
          "width": 3
         },
         "mode": "lines",
         "type": "scatter3d",
         "x": [
          30.21,
          31.85,
          31.02,
          30.5,
          30.31,
          30.51,
          27.81,
          27.21,
          27.73,
          28.95,
          30.21,
          30.21
         ],
         "y": [
          96,
          97.11,
          98.55,
          98.26,
          98.53,
          98.67,
          98.67,
          98.28,
          97.43,
          98.25,
          96,
          96
         ],
         "z": [
          0,
          0,
          0,
          0,
          0,
          0,
          0,
          0,
          0,
          0,
          0,
          0
         ]
        },
        {
         "line": {
          "color": "black",
          "width": 3
         },
         "mode": "lines",
         "type": "scatter3d",
         "x": [
          30.21,
          30.21,
          31.85,
          31.85,
          30.21
         ],
         "y": [
          96,
          96,
          97.11,
          97.11,
          96
         ],
         "z": [
          0,
          10,
          10,
          0,
          0
         ]
        },
        {
         "line": {
          "color": "black",
          "width": 3
         },
         "mode": "lines",
         "type": "scatter3d",
         "x": [
          31.85,
          31.85,
          31.02,
          31.02,
          31.85
         ],
         "y": [
          97.11,
          97.11,
          98.55,
          98.55,
          97.11
         ],
         "z": [
          0,
          10,
          10,
          0,
          0
         ]
        },
        {
         "line": {
          "color": "black",
          "width": 3
         },
         "mode": "lines",
         "type": "scatter3d",
         "x": [
          31.02,
          31.02,
          30.5,
          30.5,
          31.02
         ],
         "y": [
          98.55,
          98.55,
          98.26,
          98.26,
          98.55
         ],
         "z": [
          0,
          10,
          10,
          0,
          0
         ]
        },
        {
         "line": {
          "color": "black",
          "width": 3
         },
         "mode": "lines",
         "type": "scatter3d",
         "x": [
          30.5,
          30.5,
          30.31,
          30.31,
          30.5
         ],
         "y": [
          98.26,
          98.26,
          98.53,
          98.53,
          98.26
         ],
         "z": [
          0,
          10,
          10,
          0,
          0
         ]
        },
        {
         "line": {
          "color": "black",
          "width": 3
         },
         "mode": "lines",
         "type": "scatter3d",
         "x": [
          30.31,
          30.31,
          30.51,
          30.51,
          30.31
         ],
         "y": [
          98.53,
          98.53,
          98.67,
          98.67,
          98.53
         ],
         "z": [
          0,
          10,
          10,
          0,
          0
         ]
        },
        {
         "line": {
          "color": "black",
          "width": 3
         },
         "mode": "lines",
         "type": "scatter3d",
         "x": [
          30.51,
          30.51,
          27.81,
          27.81,
          30.51
         ],
         "y": [
          98.67,
          98.67,
          98.67,
          98.67,
          98.67
         ],
         "z": [
          0,
          10,
          10,
          0,
          0
         ]
        },
        {
         "line": {
          "color": "black",
          "width": 3
         },
         "mode": "lines",
         "type": "scatter3d",
         "x": [
          27.81,
          27.81,
          27.21,
          27.21,
          27.81
         ],
         "y": [
          98.67,
          98.67,
          98.28,
          98.28,
          98.67
         ],
         "z": [
          0,
          10,
          10,
          0,
          0
         ]
        },
        {
         "line": {
          "color": "black",
          "width": 3
         },
         "mode": "lines",
         "type": "scatter3d",
         "x": [
          27.21,
          27.21,
          27.73,
          27.73,
          27.21
         ],
         "y": [
          98.28,
          98.28,
          97.43,
          97.43,
          98.28
         ],
         "z": [
          0,
          10,
          10,
          0,
          0
         ]
        },
        {
         "line": {
          "color": "black",
          "width": 3
         },
         "mode": "lines",
         "type": "scatter3d",
         "x": [
          27.73,
          27.73,
          28.95,
          28.95,
          27.73
         ],
         "y": [
          97.43,
          97.43,
          98.25,
          98.25,
          97.43
         ],
         "z": [
          0,
          10,
          10,
          0,
          0
         ]
        },
        {
         "line": {
          "color": "black",
          "width": 3
         },
         "mode": "lines",
         "type": "scatter3d",
         "x": [
          28.95,
          28.95,
          30.21,
          30.21,
          28.95
         ],
         "y": [
          98.25,
          98.25,
          96,
          96,
          98.25
         ],
         "z": [
          0,
          10,
          10,
          0,
          0
         ]
        },
        {
         "line": {
          "color": "black",
          "width": 3
         },
         "mode": "lines",
         "type": "scatter3d",
         "x": [
          30.21,
          30.21,
          30.21,
          30.21,
          30.21
         ],
         "y": [
          96,
          96,
          96,
          96,
          96
         ],
         "z": [
          0,
          10,
          10,
          0,
          0
         ]
        },
        {
         "marker": {
          "color": "blue",
          "size": 5
         },
         "mode": "markers",
         "type": "scatter3d",
         "x": [
          27.747125734960182,
          28.4259771822822,
          24.470242608783693,
          23.319807378900116,
          30.69768702630477,
          34.23204747057705,
          30.21401181045421,
          24.13772772451559,
          22.578210892111414,
          27.602100867877482,
          28.5640791647123,
          28.32722338301113,
          34.421311893668154,
          26.068993136270333,
          25.747848955125836,
          31.589363729663383,
          33.93643877183452,
          22.216670029560184,
          34.20959343997334,
          23.103989328524463,
          34.010292891107675,
          23.654218156095304,
          23.44680682163007,
          31.965543304970247,
          29.055772533311234,
          24.54397724315408,
          24.815475837631254,
          34.094171648116784,
          25.932736634420912,
          24.78909311035754,
          23.43807288673073,
          25.837015094211104,
          23.313034197054026,
          25.184478142483766,
          29.851405995522367,
          23.855648653289272,
          28.457006509641264,
          34.21685436985902,
          23.066511255757323,
          25.388712235427327,
          25.913093797237618,
          26.124550753608457,
          33.29107540190555,
          33.09093599323694,
          25.308681945812534,
          23.308749704270774,
          23.1348753707346,
          33.82264795025609,
          30.988501936463116,
          22.224897890240893
         ],
         "y": [
          94.17087378574267,
          94.45307295084595,
          93.68170629100726,
          96.72456714123255,
          88.87801703769983,
          98.30982452310329,
          94.741050840793,
          88.60330753162496,
          93.19141019370197,
          97.0596052534594,
          94.99378125493399,
          95.22023421591956,
          98.62596857772635,
          90.7971855144328,
          89.16768416550245,
          92.54208600626698,
          97.10950588315467,
          90.59331197853663,
          92.51167724617025,
          94.88302920303173,
          96.19717408367622,
          90.9680848376878,
          89.06211057805781,
          90.26587047018731,
          93.02268224806045,
          95.92995888460067,
          91.20730466688792,
          96.66086556149877,
          97.49332145229448,
          92.4794867908764,
          98.56066334855396,
          89.20013321562969,
          94.40554963727239,
          94.59512088140741,
          94.62984709022406,
          98.34749196435357,
          91.19687937428749,
          92.38248947770259,
          95.28853347549571,
          90.67938036697294,
          94.65478721833412,
          95.24262911794256,
          98.57642352713984,
          97.86719617561488,
          96.87140453394655,
          94.39572733477696,
          89.4633817422264,
          89.74629707922509,
          93.83729674500599,
          96.55621124418023
         ],
         "z": [
          0,
          0,
          0,
          0,
          0,
          0,
          0,
          0,
          0,
          0,
          0,
          0,
          0,
          0,
          0,
          0,
          0,
          0,
          0,
          0,
          0,
          0,
          0,
          0,
          0,
          0,
          0,
          0,
          0,
          0,
          0,
          0,
          0,
          0,
          0,
          0,
          0,
          0,
          0,
          0,
          0,
          0,
          0,
          0,
          0,
          0,
          0,
          0,
          0,
          0
         ]
        }
       ],
       "layout": {
        "height": 800,
        "scene": {
         "aspectmode": "cube",
         "xaxis": {
          "title": {
           "text": "X"
          }
         },
         "yaxis": {
          "title": {
           "text": "Y"
          }
         },
         "zaxis": {
          "title": {
           "text": "Height"
          }
         }
        },
        "template": {
         "data": {
          "bar": [
           {
            "error_x": {
             "color": "#2a3f5f"
            },
            "error_y": {
             "color": "#2a3f5f"
            },
            "marker": {
             "line": {
              "color": "#E5ECF6",
              "width": 0.5
             },
             "pattern": {
              "fillmode": "overlay",
              "size": 10,
              "solidity": 0.2
             }
            },
            "type": "bar"
           }
          ],
          "barpolar": [
           {
            "marker": {
             "line": {
              "color": "#E5ECF6",
              "width": 0.5
             },
             "pattern": {
              "fillmode": "overlay",
              "size": 10,
              "solidity": 0.2
             }
            },
            "type": "barpolar"
           }
          ],
          "carpet": [
           {
            "aaxis": {
             "endlinecolor": "#2a3f5f",
             "gridcolor": "white",
             "linecolor": "white",
             "minorgridcolor": "white",
             "startlinecolor": "#2a3f5f"
            },
            "baxis": {
             "endlinecolor": "#2a3f5f",
             "gridcolor": "white",
             "linecolor": "white",
             "minorgridcolor": "white",
             "startlinecolor": "#2a3f5f"
            },
            "type": "carpet"
           }
          ],
          "choropleth": [
           {
            "colorbar": {
             "outlinewidth": 0,
             "ticks": ""
            },
            "type": "choropleth"
           }
          ],
          "contour": [
           {
            "colorbar": {
             "outlinewidth": 0,
             "ticks": ""
            },
            "colorscale": [
             [
              0,
              "#0d0887"
             ],
             [
              0.1111111111111111,
              "#46039f"
             ],
             [
              0.2222222222222222,
              "#7201a8"
             ],
             [
              0.3333333333333333,
              "#9c179e"
             ],
             [
              0.4444444444444444,
              "#bd3786"
             ],
             [
              0.5555555555555556,
              "#d8576b"
             ],
             [
              0.6666666666666666,
              "#ed7953"
             ],
             [
              0.7777777777777778,
              "#fb9f3a"
             ],
             [
              0.8888888888888888,
              "#fdca26"
             ],
             [
              1,
              "#f0f921"
             ]
            ],
            "type": "contour"
           }
          ],
          "contourcarpet": [
           {
            "colorbar": {
             "outlinewidth": 0,
             "ticks": ""
            },
            "type": "contourcarpet"
           }
          ],
          "heatmap": [
           {
            "colorbar": {
             "outlinewidth": 0,
             "ticks": ""
            },
            "colorscale": [
             [
              0,
              "#0d0887"
             ],
             [
              0.1111111111111111,
              "#46039f"
             ],
             [
              0.2222222222222222,
              "#7201a8"
             ],
             [
              0.3333333333333333,
              "#9c179e"
             ],
             [
              0.4444444444444444,
              "#bd3786"
             ],
             [
              0.5555555555555556,
              "#d8576b"
             ],
             [
              0.6666666666666666,
              "#ed7953"
             ],
             [
              0.7777777777777778,
              "#fb9f3a"
             ],
             [
              0.8888888888888888,
              "#fdca26"
             ],
             [
              1,
              "#f0f921"
             ]
            ],
            "type": "heatmap"
           }
          ],
          "heatmapgl": [
           {
            "colorbar": {
             "outlinewidth": 0,
             "ticks": ""
            },
            "colorscale": [
             [
              0,
              "#0d0887"
             ],
             [
              0.1111111111111111,
              "#46039f"
             ],
             [
              0.2222222222222222,
              "#7201a8"
             ],
             [
              0.3333333333333333,
              "#9c179e"
             ],
             [
              0.4444444444444444,
              "#bd3786"
             ],
             [
              0.5555555555555556,
              "#d8576b"
             ],
             [
              0.6666666666666666,
              "#ed7953"
             ],
             [
              0.7777777777777778,
              "#fb9f3a"
             ],
             [
              0.8888888888888888,
              "#fdca26"
             ],
             [
              1,
              "#f0f921"
             ]
            ],
            "type": "heatmapgl"
           }
          ],
          "histogram": [
           {
            "marker": {
             "pattern": {
              "fillmode": "overlay",
              "size": 10,
              "solidity": 0.2
             }
            },
            "type": "histogram"
           }
          ],
          "histogram2d": [
           {
            "colorbar": {
             "outlinewidth": 0,
             "ticks": ""
            },
            "colorscale": [
             [
              0,
              "#0d0887"
             ],
             [
              0.1111111111111111,
              "#46039f"
             ],
             [
              0.2222222222222222,
              "#7201a8"
             ],
             [
              0.3333333333333333,
              "#9c179e"
             ],
             [
              0.4444444444444444,
              "#bd3786"
             ],
             [
              0.5555555555555556,
              "#d8576b"
             ],
             [
              0.6666666666666666,
              "#ed7953"
             ],
             [
              0.7777777777777778,
              "#fb9f3a"
             ],
             [
              0.8888888888888888,
              "#fdca26"
             ],
             [
              1,
              "#f0f921"
             ]
            ],
            "type": "histogram2d"
           }
          ],
          "histogram2dcontour": [
           {
            "colorbar": {
             "outlinewidth": 0,
             "ticks": ""
            },
            "colorscale": [
             [
              0,
              "#0d0887"
             ],
             [
              0.1111111111111111,
              "#46039f"
             ],
             [
              0.2222222222222222,
              "#7201a8"
             ],
             [
              0.3333333333333333,
              "#9c179e"
             ],
             [
              0.4444444444444444,
              "#bd3786"
             ],
             [
              0.5555555555555556,
              "#d8576b"
             ],
             [
              0.6666666666666666,
              "#ed7953"
             ],
             [
              0.7777777777777778,
              "#fb9f3a"
             ],
             [
              0.8888888888888888,
              "#fdca26"
             ],
             [
              1,
              "#f0f921"
             ]
            ],
            "type": "histogram2dcontour"
           }
          ],
          "mesh3d": [
           {
            "colorbar": {
             "outlinewidth": 0,
             "ticks": ""
            },
            "type": "mesh3d"
           }
          ],
          "parcoords": [
           {
            "line": {
             "colorbar": {
              "outlinewidth": 0,
              "ticks": ""
             }
            },
            "type": "parcoords"
           }
          ],
          "pie": [
           {
            "automargin": true,
            "type": "pie"
           }
          ],
          "scatter": [
           {
            "fillpattern": {
             "fillmode": "overlay",
             "size": 10,
             "solidity": 0.2
            },
            "type": "scatter"
           }
          ],
          "scatter3d": [
           {
            "line": {
             "colorbar": {
              "outlinewidth": 0,
              "ticks": ""
             }
            },
            "marker": {
             "colorbar": {
              "outlinewidth": 0,
              "ticks": ""
             }
            },
            "type": "scatter3d"
           }
          ],
          "scattercarpet": [
           {
            "marker": {
             "colorbar": {
              "outlinewidth": 0,
              "ticks": ""
             }
            },
            "type": "scattercarpet"
           }
          ],
          "scattergeo": [
           {
            "marker": {
             "colorbar": {
              "outlinewidth": 0,
              "ticks": ""
             }
            },
            "type": "scattergeo"
           }
          ],
          "scattergl": [
           {
            "marker": {
             "colorbar": {
              "outlinewidth": 0,
              "ticks": ""
             }
            },
            "type": "scattergl"
           }
          ],
          "scattermapbox": [
           {
            "marker": {
             "colorbar": {
              "outlinewidth": 0,
              "ticks": ""
             }
            },
            "type": "scattermapbox"
           }
          ],
          "scatterpolar": [
           {
            "marker": {
             "colorbar": {
              "outlinewidth": 0,
              "ticks": ""
             }
            },
            "type": "scatterpolar"
           }
          ],
          "scatterpolargl": [
           {
            "marker": {
             "colorbar": {
              "outlinewidth": 0,
              "ticks": ""
             }
            },
            "type": "scatterpolargl"
           }
          ],
          "scatterternary": [
           {
            "marker": {
             "colorbar": {
              "outlinewidth": 0,
              "ticks": ""
             }
            },
            "type": "scatterternary"
           }
          ],
          "surface": [
           {
            "colorbar": {
             "outlinewidth": 0,
             "ticks": ""
            },
            "colorscale": [
             [
              0,
              "#0d0887"
             ],
             [
              0.1111111111111111,
              "#46039f"
             ],
             [
              0.2222222222222222,
              "#7201a8"
             ],
             [
              0.3333333333333333,
              "#9c179e"
             ],
             [
              0.4444444444444444,
              "#bd3786"
             ],
             [
              0.5555555555555556,
              "#d8576b"
             ],
             [
              0.6666666666666666,
              "#ed7953"
             ],
             [
              0.7777777777777778,
              "#fb9f3a"
             ],
             [
              0.8888888888888888,
              "#fdca26"
             ],
             [
              1,
              "#f0f921"
             ]
            ],
            "type": "surface"
           }
          ],
          "table": [
           {
            "cells": {
             "fill": {
              "color": "#EBF0F8"
             },
             "line": {
              "color": "white"
             }
            },
            "header": {
             "fill": {
              "color": "#C8D4E3"
             },
             "line": {
              "color": "white"
             }
            },
            "type": "table"
           }
          ]
         },
         "layout": {
          "annotationdefaults": {
           "arrowcolor": "#2a3f5f",
           "arrowhead": 0,
           "arrowwidth": 1
          },
          "autotypenumbers": "strict",
          "coloraxis": {
           "colorbar": {
            "outlinewidth": 0,
            "ticks": ""
           }
          },
          "colorscale": {
           "diverging": [
            [
             0,
             "#8e0152"
            ],
            [
             0.1,
             "#c51b7d"
            ],
            [
             0.2,
             "#de77ae"
            ],
            [
             0.3,
             "#f1b6da"
            ],
            [
             0.4,
             "#fde0ef"
            ],
            [
             0.5,
             "#f7f7f7"
            ],
            [
             0.6,
             "#e6f5d0"
            ],
            [
             0.7,
             "#b8e186"
            ],
            [
             0.8,
             "#7fbc41"
            ],
            [
             0.9,
             "#4d9221"
            ],
            [
             1,
             "#276419"
            ]
           ],
           "sequential": [
            [
             0,
             "#0d0887"
            ],
            [
             0.1111111111111111,
             "#46039f"
            ],
            [
             0.2222222222222222,
             "#7201a8"
            ],
            [
             0.3333333333333333,
             "#9c179e"
            ],
            [
             0.4444444444444444,
             "#bd3786"
            ],
            [
             0.5555555555555556,
             "#d8576b"
            ],
            [
             0.6666666666666666,
             "#ed7953"
            ],
            [
             0.7777777777777778,
             "#fb9f3a"
            ],
            [
             0.8888888888888888,
             "#fdca26"
            ],
            [
             1,
             "#f0f921"
            ]
           ],
           "sequentialminus": [
            [
             0,
             "#0d0887"
            ],
            [
             0.1111111111111111,
             "#46039f"
            ],
            [
             0.2222222222222222,
             "#7201a8"
            ],
            [
             0.3333333333333333,
             "#9c179e"
            ],
            [
             0.4444444444444444,
             "#bd3786"
            ],
            [
             0.5555555555555556,
             "#d8576b"
            ],
            [
             0.6666666666666666,
             "#ed7953"
            ],
            [
             0.7777777777777778,
             "#fb9f3a"
            ],
            [
             0.8888888888888888,
             "#fdca26"
            ],
            [
             1,
             "#f0f921"
            ]
           ]
          },
          "colorway": [
           "#636efa",
           "#EF553B",
           "#00cc96",
           "#ab63fa",
           "#FFA15A",
           "#19d3f3",
           "#FF6692",
           "#B6E880",
           "#FF97FF",
           "#FECB52"
          ],
          "font": {
           "color": "#2a3f5f"
          },
          "geo": {
           "bgcolor": "white",
           "lakecolor": "white",
           "landcolor": "#E5ECF6",
           "showlakes": true,
           "showland": true,
           "subunitcolor": "white"
          },
          "hoverlabel": {
           "align": "left"
          },
          "hovermode": "closest",
          "mapbox": {
           "style": "light"
          },
          "paper_bgcolor": "white",
          "plot_bgcolor": "#E5ECF6",
          "polar": {
           "angularaxis": {
            "gridcolor": "white",
            "linecolor": "white",
            "ticks": ""
           },
           "bgcolor": "#E5ECF6",
           "radialaxis": {
            "gridcolor": "white",
            "linecolor": "white",
            "ticks": ""
           }
          },
          "scene": {
           "xaxis": {
            "backgroundcolor": "#E5ECF6",
            "gridcolor": "white",
            "gridwidth": 2,
            "linecolor": "white",
            "showbackground": true,
            "ticks": "",
            "zerolinecolor": "white"
           },
           "yaxis": {
            "backgroundcolor": "#E5ECF6",
            "gridcolor": "white",
            "gridwidth": 2,
            "linecolor": "white",
            "showbackground": true,
            "ticks": "",
            "zerolinecolor": "white"
           },
           "zaxis": {
            "backgroundcolor": "#E5ECF6",
            "gridcolor": "white",
            "gridwidth": 2,
            "linecolor": "white",
            "showbackground": true,
            "ticks": "",
            "zerolinecolor": "white"
           }
          },
          "shapedefaults": {
           "line": {
            "color": "#2a3f5f"
           }
          },
          "ternary": {
           "aaxis": {
            "gridcolor": "white",
            "linecolor": "white",
            "ticks": ""
           },
           "baxis": {
            "gridcolor": "white",
            "linecolor": "white",
            "ticks": ""
           },
           "bgcolor": "#E5ECF6",
           "caxis": {
            "gridcolor": "white",
            "linecolor": "white",
            "ticks": ""
           }
          },
          "title": {
           "x": 0.05
          },
          "xaxis": {
           "automargin": true,
           "gridcolor": "white",
           "linecolor": "white",
           "ticks": "",
           "title": {
            "standoff": 15
           },
           "zerolinecolor": "white",
           "zerolinewidth": 2
          },
          "yaxis": {
           "automargin": true,
           "gridcolor": "white",
           "linecolor": "white",
           "ticks": "",
           "title": {
            "standoff": 15
           },
           "zerolinecolor": "white",
           "zerolinewidth": 2
          }
         }
        },
        "width": 800
       }
      }
     },
     "metadata": {},
     "output_type": "display_data"
    }
   ],
   "source": [
    "initial_plot(delivary_locations=delivary_loc, obstacles=obstacles)"
   ]
  },
  {
   "cell_type": "code",
   "execution_count": 108,
   "metadata": {},
   "outputs": [
    {
     "data": {
      "text/plain": [
       "(27.55470577587296, 93.92084405438013, 0)"
      ]
     },
     "execution_count": 108,
     "metadata": {},
     "output_type": "execute_result"
    }
   ],
   "source": [
    "# creating initial dp\n",
    "\n",
    "initial_dp = calculate_dp(delivary_loc)\n",
    "\n",
    "initial_dp"
   ]
  },
  {
   "cell_type": "code",
   "execution_count": 109,
   "metadata": {},
   "outputs": [],
   "source": [
    "# delivary_loc = [[34.21685, 92.38249, 0]]\n",
    "# initial_dp = [27.55470577587296, 93.92084405438013, 0]"
   ]
  },
  {
   "cell_type": "code",
   "execution_count": 110,
   "metadata": {},
   "outputs": [
    {
     "data": {
      "application/vnd.plotly.v1+json": {
       "config": {
        "plotlyServerURL": "https://plot.ly"
       },
       "data": [
        {
         "color": "red",
         "i": [
          0,
          0
         ],
         "j": [
          1,
          2
         ],
         "k": [
          2,
          3
         ],
         "opacity": 0.5,
         "type": "mesh3d",
         "x": [
          27.81,
          28.74,
          28.74,
          27.81
         ],
         "y": [
          90.75,
          91.42,
          91.42,
          90.75
         ],
         "z": [
          0,
          0,
          3,
          3
         ]
        },
        {
         "color": "red",
         "i": [
          0,
          0
         ],
         "j": [
          1,
          2
         ],
         "k": [
          2,
          3
         ],
         "opacity": 0.5,
         "type": "mesh3d",
         "x": [
          28.74,
          27.8,
          27.8,
          28.74
         ],
         "y": [
          91.42,
          93.15,
          93.15,
          91.42
         ],
         "z": [
          0,
          0,
          3,
          3
         ]
        },
        {
         "color": "red",
         "i": [
          0,
          0
         ],
         "j": [
          1,
          2
         ],
         "k": [
          2,
          3
         ],
         "opacity": 0.5,
         "type": "mesh3d",
         "x": [
          27.8,
          26.81,
          26.81,
          27.8
         ],
         "y": [
          93.15,
          92.53,
          92.53,
          93.15
         ],
         "z": [
          0,
          0,
          3,
          3
         ]
        },
        {
         "color": "red",
         "i": [
          0,
          0
         ],
         "j": [
          1,
          2
         ],
         "k": [
          2,
          3
         ],
         "opacity": 0.5,
         "type": "mesh3d",
         "x": [
          26.81,
          27.81,
          27.81,
          26.81
         ],
         "y": [
          92.53,
          90.75,
          90.75,
          92.53
         ],
         "z": [
          0,
          0,
          3,
          3
         ]
        },
        {
         "color": "red",
         "i": [
          0,
          0
         ],
         "j": [
          1,
          2
         ],
         "k": [
          2,
          3
         ],
         "opacity": 0.5,
         "type": "mesh3d",
         "x": [
          27.81,
          27.81,
          27.81,
          27.81
         ],
         "y": [
          90.75,
          90.75,
          90.75,
          90.75
         ],
         "z": [
          0,
          0,
          3,
          3
         ]
        },
        {
         "line": {
          "color": "black",
          "width": 3
         },
         "mode": "lines",
         "type": "scatter3d",
         "x": [
          27.81,
          28.74,
          27.8,
          26.81,
          27.81,
          27.81
         ],
         "y": [
          90.75,
          91.42,
          93.15,
          92.53,
          90.75,
          90.75
         ],
         "z": [
          3,
          3,
          3,
          3,
          3,
          3
         ]
        },
        {
         "line": {
          "color": "black",
          "width": 3
         },
         "mode": "lines",
         "type": "scatter3d",
         "x": [
          27.81,
          28.74,
          27.8,
          26.81,
          27.81,
          27.81
         ],
         "y": [
          90.75,
          91.42,
          93.15,
          92.53,
          90.75,
          90.75
         ],
         "z": [
          0,
          0,
          0,
          0,
          0,
          0
         ]
        },
        {
         "line": {
          "color": "black",
          "width": 3
         },
         "mode": "lines",
         "type": "scatter3d",
         "x": [
          27.81,
          27.81,
          28.74,
          28.74,
          27.81
         ],
         "y": [
          90.75,
          90.75,
          91.42,
          91.42,
          90.75
         ],
         "z": [
          0,
          3,
          3,
          0,
          0
         ]
        },
        {
         "line": {
          "color": "black",
          "width": 3
         },
         "mode": "lines",
         "type": "scatter3d",
         "x": [
          28.74,
          28.74,
          27.8,
          27.8,
          28.74
         ],
         "y": [
          91.42,
          91.42,
          93.15,
          93.15,
          91.42
         ],
         "z": [
          0,
          3,
          3,
          0,
          0
         ]
        },
        {
         "line": {
          "color": "black",
          "width": 3
         },
         "mode": "lines",
         "type": "scatter3d",
         "x": [
          27.8,
          27.8,
          26.81,
          26.81,
          27.8
         ],
         "y": [
          93.15,
          93.15,
          92.53,
          92.53,
          93.15
         ],
         "z": [
          0,
          3,
          3,
          0,
          0
         ]
        },
        {
         "line": {
          "color": "black",
          "width": 3
         },
         "mode": "lines",
         "type": "scatter3d",
         "x": [
          26.81,
          26.81,
          27.81,
          27.81,
          26.81
         ],
         "y": [
          92.53,
          92.53,
          90.75,
          90.75,
          92.53
         ],
         "z": [
          0,
          3,
          3,
          0,
          0
         ]
        },
        {
         "line": {
          "color": "black",
          "width": 3
         },
         "mode": "lines",
         "type": "scatter3d",
         "x": [
          27.81,
          27.81,
          27.81,
          27.81,
          27.81
         ],
         "y": [
          90.75,
          90.75,
          90.75,
          90.75,
          90.75
         ],
         "z": [
          0,
          3,
          3,
          0,
          0
         ]
        },
        {
         "color": "red",
         "i": [
          0,
          0
         ],
         "j": [
          1,
          2
         ],
         "k": [
          2,
          3
         ],
         "opacity": 0.5,
         "type": "mesh3d",
         "x": [
          23.11,
          24.81,
          24.81,
          23.11
         ],
         "y": [
          91.25,
          92.4,
          92.4,
          91.25
         ],
         "z": [
          0,
          0,
          3,
          3
         ]
        },
        {
         "color": "red",
         "i": [
          0,
          0
         ],
         "j": [
          1,
          2
         ],
         "k": [
          2,
          3
         ],
         "opacity": 0.5,
         "type": "mesh3d",
         "x": [
          24.81,
          24.21,
          24.21,
          24.81
         ],
         "y": [
          92.4,
          93.45,
          93.45,
          92.4
         ],
         "z": [
          0,
          0,
          3,
          3
         ]
        },
        {
         "color": "red",
         "i": [
          0,
          0
         ],
         "j": [
          1,
          2
         ],
         "k": [
          2,
          3
         ],
         "opacity": 0.5,
         "type": "mesh3d",
         "x": [
          24.21,
          22.51,
          22.51,
          24.21
         ],
         "y": [
          93.45,
          92.35,
          92.35,
          93.45
         ],
         "z": [
          0,
          0,
          3,
          3
         ]
        },
        {
         "color": "red",
         "i": [
          0,
          0
         ],
         "j": [
          1,
          2
         ],
         "k": [
          2,
          3
         ],
         "opacity": 0.5,
         "type": "mesh3d",
         "x": [
          22.51,
          23.11,
          23.11,
          22.51
         ],
         "y": [
          92.35,
          91.25,
          91.25,
          92.35
         ],
         "z": [
          0,
          0,
          3,
          3
         ]
        },
        {
         "color": "red",
         "i": [
          0,
          0
         ],
         "j": [
          1,
          2
         ],
         "k": [
          2,
          3
         ],
         "opacity": 0.5,
         "type": "mesh3d",
         "x": [
          23.11,
          23.11,
          23.11,
          23.11
         ],
         "y": [
          91.25,
          91.25,
          91.25,
          91.25
         ],
         "z": [
          0,
          0,
          3,
          3
         ]
        },
        {
         "line": {
          "color": "black",
          "width": 3
         },
         "mode": "lines",
         "type": "scatter3d",
         "x": [
          23.11,
          24.81,
          24.21,
          22.51,
          23.11,
          23.11
         ],
         "y": [
          91.25,
          92.4,
          93.45,
          92.35,
          91.25,
          91.25
         ],
         "z": [
          3,
          3,
          3,
          3,
          3,
          3
         ]
        },
        {
         "line": {
          "color": "black",
          "width": 3
         },
         "mode": "lines",
         "type": "scatter3d",
         "x": [
          23.11,
          24.81,
          24.21,
          22.51,
          23.11,
          23.11
         ],
         "y": [
          91.25,
          92.4,
          93.45,
          92.35,
          91.25,
          91.25
         ],
         "z": [
          0,
          0,
          0,
          0,
          0,
          0
         ]
        },
        {
         "line": {
          "color": "black",
          "width": 3
         },
         "mode": "lines",
         "type": "scatter3d",
         "x": [
          23.11,
          23.11,
          24.81,
          24.81,
          23.11
         ],
         "y": [
          91.25,
          91.25,
          92.4,
          92.4,
          91.25
         ],
         "z": [
          0,
          3,
          3,
          0,
          0
         ]
        },
        {
         "line": {
          "color": "black",
          "width": 3
         },
         "mode": "lines",
         "type": "scatter3d",
         "x": [
          24.81,
          24.81,
          24.21,
          24.21,
          24.81
         ],
         "y": [
          92.4,
          92.4,
          93.45,
          93.45,
          92.4
         ],
         "z": [
          0,
          3,
          3,
          0,
          0
         ]
        },
        {
         "line": {
          "color": "black",
          "width": 3
         },
         "mode": "lines",
         "type": "scatter3d",
         "x": [
          24.21,
          24.21,
          22.51,
          22.51,
          24.21
         ],
         "y": [
          93.45,
          93.45,
          92.35,
          92.35,
          93.45
         ],
         "z": [
          0,
          3,
          3,
          0,
          0
         ]
        },
        {
         "line": {
          "color": "black",
          "width": 3
         },
         "mode": "lines",
         "type": "scatter3d",
         "x": [
          22.51,
          22.51,
          23.11,
          23.11,
          22.51
         ],
         "y": [
          92.35,
          92.35,
          91.25,
          91.25,
          92.35
         ],
         "z": [
          0,
          3,
          3,
          0,
          0
         ]
        },
        {
         "line": {
          "color": "black",
          "width": 3
         },
         "mode": "lines",
         "type": "scatter3d",
         "x": [
          23.11,
          23.11,
          23.11,
          23.11,
          23.11
         ],
         "y": [
          91.25,
          91.25,
          91.25,
          91.25,
          91.25
         ],
         "z": [
          0,
          3,
          3,
          0,
          0
         ]
        },
        {
         "color": "red",
         "i": [
          0,
          0
         ],
         "j": [
          1,
          2
         ],
         "k": [
          2,
          3
         ],
         "opacity": 0.5,
         "type": "mesh3d",
         "x": [
          24.55,
          25.96,
          25.96,
          24.55
         ],
         "y": [
          88.6,
          89.55,
          89.55,
          88.6
         ],
         "z": [
          0,
          0,
          10,
          10
         ]
        },
        {
         "color": "red",
         "i": [
          0,
          0
         ],
         "j": [
          1,
          2
         ],
         "k": [
          2,
          3
         ],
         "opacity": 0.5,
         "type": "mesh3d",
         "x": [
          25.96,
          25.01,
          25.01,
          25.96
         ],
         "y": [
          89.55,
          91.35,
          91.35,
          89.55
         ],
         "z": [
          0,
          0,
          10,
          10
         ]
        },
        {
         "color": "red",
         "i": [
          0,
          0
         ],
         "j": [
          1,
          2
         ],
         "k": [
          2,
          3
         ],
         "opacity": 0.5,
         "type": "mesh3d",
         "x": [
          25.01,
          23.61,
          23.61,
          25.01
         ],
         "y": [
          91.35,
          90.32,
          90.32,
          91.35
         ],
         "z": [
          0,
          0,
          10,
          10
         ]
        },
        {
         "color": "red",
         "i": [
          0,
          0
         ],
         "j": [
          1,
          2
         ],
         "k": [
          2,
          3
         ],
         "opacity": 0.5,
         "type": "mesh3d",
         "x": [
          23.61,
          24.55,
          24.55,
          23.61
         ],
         "y": [
          90.32,
          88.6,
          88.6,
          90.32
         ],
         "z": [
          0,
          0,
          10,
          10
         ]
        },
        {
         "color": "red",
         "i": [
          0,
          0
         ],
         "j": [
          1,
          2
         ],
         "k": [
          2,
          3
         ],
         "opacity": 0.5,
         "type": "mesh3d",
         "x": [
          24.55,
          24.55,
          24.55,
          24.55
         ],
         "y": [
          88.6,
          88.6,
          88.6,
          88.6
         ],
         "z": [
          0,
          0,
          10,
          10
         ]
        },
        {
         "line": {
          "color": "black",
          "width": 3
         },
         "mode": "lines",
         "type": "scatter3d",
         "x": [
          24.55,
          25.96,
          25.01,
          23.61,
          24.55,
          24.55
         ],
         "y": [
          88.6,
          89.55,
          91.35,
          90.32,
          88.6,
          88.6
         ],
         "z": [
          10,
          10,
          10,
          10,
          10,
          10
         ]
        },
        {
         "line": {
          "color": "black",
          "width": 3
         },
         "mode": "lines",
         "type": "scatter3d",
         "x": [
          24.55,
          25.96,
          25.01,
          23.61,
          24.55,
          24.55
         ],
         "y": [
          88.6,
          89.55,
          91.35,
          90.32,
          88.6,
          88.6
         ],
         "z": [
          0,
          0,
          0,
          0,
          0,
          0
         ]
        },
        {
         "line": {
          "color": "black",
          "width": 3
         },
         "mode": "lines",
         "type": "scatter3d",
         "x": [
          24.55,
          24.55,
          25.96,
          25.96,
          24.55
         ],
         "y": [
          88.6,
          88.6,
          89.55,
          89.55,
          88.6
         ],
         "z": [
          0,
          10,
          10,
          0,
          0
         ]
        },
        {
         "line": {
          "color": "black",
          "width": 3
         },
         "mode": "lines",
         "type": "scatter3d",
         "x": [
          25.96,
          25.96,
          25.01,
          25.01,
          25.96
         ],
         "y": [
          89.55,
          89.55,
          91.35,
          91.35,
          89.55
         ],
         "z": [
          0,
          10,
          10,
          0,
          0
         ]
        },
        {
         "line": {
          "color": "black",
          "width": 3
         },
         "mode": "lines",
         "type": "scatter3d",
         "x": [
          25.01,
          25.01,
          23.61,
          23.61,
          25.01
         ],
         "y": [
          91.35,
          91.35,
          90.32,
          90.32,
          91.35
         ],
         "z": [
          0,
          10,
          10,
          0,
          0
         ]
        },
        {
         "line": {
          "color": "black",
          "width": 3
         },
         "mode": "lines",
         "type": "scatter3d",
         "x": [
          23.61,
          23.61,
          24.55,
          24.55,
          23.61
         ],
         "y": [
          90.32,
          90.32,
          88.6,
          88.6,
          90.32
         ],
         "z": [
          0,
          10,
          10,
          0,
          0
         ]
        },
        {
         "line": {
          "color": "black",
          "width": 3
         },
         "mode": "lines",
         "type": "scatter3d",
         "x": [
          24.55,
          24.55,
          24.55,
          24.55,
          24.55
         ],
         "y": [
          88.6,
          88.6,
          88.6,
          88.6,
          88.6
         ],
         "z": [
          0,
          10,
          10,
          0,
          0
         ]
        },
        {
         "color": "red",
         "i": [
          0,
          0
         ],
         "j": [
          1,
          2
         ],
         "k": [
          2,
          3
         ],
         "opacity": 0.5,
         "type": "mesh3d",
         "x": [
          25.6,
          27.42,
          27.42,
          25.6
         ],
         "y": [
          88.45,
          88.45,
          88.45,
          88.45
         ],
         "z": [
          0,
          0,
          10,
          10
         ]
        },
        {
         "color": "red",
         "i": [
          0,
          0
         ],
         "j": [
          1,
          2
         ],
         "k": [
          2,
          3
         ],
         "opacity": 0.5,
         "type": "mesh3d",
         "x": [
          27.42,
          26.92,
          26.92,
          27.42
         ],
         "y": [
          88.45,
          89.35,
          89.35,
          88.45
         ],
         "z": [
          0,
          0,
          10,
          10
         ]
        },
        {
         "color": "red",
         "i": [
          0,
          0
         ],
         "j": [
          1,
          2
         ],
         "k": [
          2,
          3
         ],
         "opacity": 0.5,
         "type": "mesh3d",
         "x": [
          26.92,
          25.6,
          25.6,
          26.92
         ],
         "y": [
          89.35,
          88.45,
          88.45,
          89.35
         ],
         "z": [
          0,
          0,
          10,
          10
         ]
        },
        {
         "color": "red",
         "i": [
          0,
          0
         ],
         "j": [
          1,
          2
         ],
         "k": [
          2,
          3
         ],
         "opacity": 0.5,
         "type": "mesh3d",
         "x": [
          25.6,
          25.6,
          25.6,
          25.6
         ],
         "y": [
          88.45,
          88.45,
          88.45,
          88.45
         ],
         "z": [
          0,
          0,
          10,
          10
         ]
        },
        {
         "line": {
          "color": "black",
          "width": 3
         },
         "mode": "lines",
         "type": "scatter3d",
         "x": [
          25.6,
          27.42,
          26.92,
          25.6,
          25.6
         ],
         "y": [
          88.45,
          88.45,
          89.35,
          88.45,
          88.45
         ],
         "z": [
          10,
          10,
          10,
          10,
          10
         ]
        },
        {
         "line": {
          "color": "black",
          "width": 3
         },
         "mode": "lines",
         "type": "scatter3d",
         "x": [
          25.6,
          27.42,
          26.92,
          25.6,
          25.6
         ],
         "y": [
          88.45,
          88.45,
          89.35,
          88.45,
          88.45
         ],
         "z": [
          0,
          0,
          0,
          0,
          0
         ]
        },
        {
         "line": {
          "color": "black",
          "width": 3
         },
         "mode": "lines",
         "type": "scatter3d",
         "x": [
          25.6,
          25.6,
          27.42,
          27.42,
          25.6
         ],
         "y": [
          88.45,
          88.45,
          88.45,
          88.45,
          88.45
         ],
         "z": [
          0,
          10,
          10,
          0,
          0
         ]
        },
        {
         "line": {
          "color": "black",
          "width": 3
         },
         "mode": "lines",
         "type": "scatter3d",
         "x": [
          27.42,
          27.42,
          26.92,
          26.92,
          27.42
         ],
         "y": [
          88.45,
          88.45,
          89.35,
          89.35,
          88.45
         ],
         "z": [
          0,
          10,
          10,
          0,
          0
         ]
        },
        {
         "line": {
          "color": "black",
          "width": 3
         },
         "mode": "lines",
         "type": "scatter3d",
         "x": [
          26.92,
          26.92,
          25.6,
          25.6,
          26.92
         ],
         "y": [
          89.35,
          89.35,
          88.45,
          88.45,
          89.35
         ],
         "z": [
          0,
          10,
          10,
          0,
          0
         ]
        },
        {
         "line": {
          "color": "black",
          "width": 3
         },
         "mode": "lines",
         "type": "scatter3d",
         "x": [
          25.6,
          25.6,
          25.6,
          25.6,
          25.6
         ],
         "y": [
          88.45,
          88.45,
          88.45,
          88.45,
          88.45
         ],
         "z": [
          0,
          10,
          10,
          0,
          0
         ]
        },
        {
         "color": "red",
         "i": [
          0,
          0
         ],
         "j": [
          1,
          2
         ],
         "k": [
          2,
          3
         ],
         "opacity": 0.5,
         "type": "mesh3d",
         "x": [
          27.61,
          28.81,
          28.81,
          27.61
         ],
         "y": [
          88.45,
          88.45,
          88.45,
          88.45
         ],
         "z": [
          0,
          0,
          10,
          10
         ]
        },
        {
         "color": "red",
         "i": [
          0,
          0
         ],
         "j": [
          1,
          2
         ],
         "k": [
          2,
          3
         ],
         "opacity": 0.5,
         "type": "mesh3d",
         "x": [
          28.81,
          29.12,
          29.12,
          28.81
         ],
         "y": [
          88.45,
          88.66,
          88.66,
          88.45
         ],
         "z": [
          0,
          0,
          10,
          10
         ]
        },
        {
         "color": "red",
         "i": [
          0,
          0
         ],
         "j": [
          1,
          2
         ],
         "k": [
          2,
          3
         ],
         "opacity": 0.5,
         "type": "mesh3d",
         "x": [
          29.12,
          28.02,
          28.02,
          29.12
         ],
         "y": [
          88.66,
          90.45,
          90.45,
          88.66
         ],
         "z": [
          0,
          0,
          10,
          10
         ]
        },
        {
         "color": "red",
         "i": [
          0,
          0
         ],
         "j": [
          1,
          2
         ],
         "k": [
          2,
          3
         ],
         "opacity": 0.5,
         "type": "mesh3d",
         "x": [
          28.02,
          26.9,
          26.9,
          28.02
         ],
         "y": [
          90.45,
          89.57,
          89.57,
          90.45
         ],
         "z": [
          0,
          0,
          10,
          10
         ]
        },
        {
         "color": "red",
         "i": [
          0,
          0
         ],
         "j": [
          1,
          2
         ],
         "k": [
          2,
          3
         ],
         "opacity": 0.5,
         "type": "mesh3d",
         "x": [
          26.9,
          27.61,
          27.61,
          26.9
         ],
         "y": [
          89.57,
          88.45,
          88.45,
          89.57
         ],
         "z": [
          0,
          0,
          10,
          10
         ]
        },
        {
         "color": "red",
         "i": [
          0,
          0
         ],
         "j": [
          1,
          2
         ],
         "k": [
          2,
          3
         ],
         "opacity": 0.5,
         "type": "mesh3d",
         "x": [
          27.61,
          27.61,
          27.61,
          27.61
         ],
         "y": [
          88.45,
          88.45,
          88.45,
          88.45
         ],
         "z": [
          0,
          0,
          10,
          10
         ]
        },
        {
         "line": {
          "color": "black",
          "width": 3
         },
         "mode": "lines",
         "type": "scatter3d",
         "x": [
          27.61,
          28.81,
          29.12,
          28.02,
          26.9,
          27.61,
          27.61
         ],
         "y": [
          88.45,
          88.45,
          88.66,
          90.45,
          89.57,
          88.45,
          88.45
         ],
         "z": [
          10,
          10,
          10,
          10,
          10,
          10,
          10
         ]
        },
        {
         "line": {
          "color": "black",
          "width": 3
         },
         "mode": "lines",
         "type": "scatter3d",
         "x": [
          27.61,
          28.81,
          29.12,
          28.02,
          26.9,
          27.61,
          27.61
         ],
         "y": [
          88.45,
          88.45,
          88.66,
          90.45,
          89.57,
          88.45,
          88.45
         ],
         "z": [
          0,
          0,
          0,
          0,
          0,
          0,
          0
         ]
        },
        {
         "line": {
          "color": "black",
          "width": 3
         },
         "mode": "lines",
         "type": "scatter3d",
         "x": [
          27.61,
          27.61,
          28.81,
          28.81,
          27.61
         ],
         "y": [
          88.45,
          88.45,
          88.45,
          88.45,
          88.45
         ],
         "z": [
          0,
          10,
          10,
          0,
          0
         ]
        },
        {
         "line": {
          "color": "black",
          "width": 3
         },
         "mode": "lines",
         "type": "scatter3d",
         "x": [
          28.81,
          28.81,
          29.12,
          29.12,
          28.81
         ],
         "y": [
          88.45,
          88.45,
          88.66,
          88.66,
          88.45
         ],
         "z": [
          0,
          10,
          10,
          0,
          0
         ]
        },
        {
         "line": {
          "color": "black",
          "width": 3
         },
         "mode": "lines",
         "type": "scatter3d",
         "x": [
          29.12,
          29.12,
          28.02,
          28.02,
          29.12
         ],
         "y": [
          88.66,
          88.66,
          90.45,
          90.45,
          88.66
         ],
         "z": [
          0,
          10,
          10,
          0,
          0
         ]
        },
        {
         "line": {
          "color": "black",
          "width": 3
         },
         "mode": "lines",
         "type": "scatter3d",
         "x": [
          28.02,
          28.02,
          26.9,
          26.9,
          28.02
         ],
         "y": [
          90.45,
          90.45,
          89.57,
          89.57,
          90.45
         ],
         "z": [
          0,
          10,
          10,
          0,
          0
         ]
        },
        {
         "line": {
          "color": "black",
          "width": 3
         },
         "mode": "lines",
         "type": "scatter3d",
         "x": [
          26.9,
          26.9,
          27.61,
          27.61,
          26.9
         ],
         "y": [
          89.57,
          89.57,
          88.45,
          88.45,
          89.57
         ],
         "z": [
          0,
          10,
          10,
          0,
          0
         ]
        },
        {
         "line": {
          "color": "black",
          "width": 3
         },
         "mode": "lines",
         "type": "scatter3d",
         "x": [
          27.61,
          27.61,
          27.61,
          27.61,
          27.61
         ],
         "y": [
          88.45,
          88.45,
          88.45,
          88.45,
          88.45
         ],
         "z": [
          0,
          10,
          10,
          0,
          0
         ]
        },
        {
         "color": "red",
         "i": [
          0,
          0
         ],
         "j": [
          1,
          2
         ],
         "k": [
          2,
          3
         ],
         "opacity": 0.5,
         "type": "mesh3d",
         "x": [
          25.33,
          25.86,
          25.86,
          25.33
         ],
         "y": [
          92.62,
          92.95,
          92.95,
          92.62
         ],
         "z": [
          0,
          0,
          10,
          10
         ]
        },
        {
         "color": "red",
         "i": [
          0,
          0
         ],
         "j": [
          1,
          2
         ],
         "k": [
          2,
          3
         ],
         "opacity": 0.5,
         "type": "mesh3d",
         "x": [
          25.86,
          25.21,
          25.21,
          25.86
         ],
         "y": [
          92.95,
          94.15,
          94.15,
          92.95
         ],
         "z": [
          0,
          0,
          10,
          10
         ]
        },
        {
         "color": "red",
         "i": [
          0,
          0
         ],
         "j": [
          1,
          2
         ],
         "k": [
          2,
          3
         ],
         "opacity": 0.5,
         "type": "mesh3d",
         "x": [
          25.21,
          24.69,
          24.69,
          25.21
         ],
         "y": [
          94.15,
          93.78,
          93.78,
          94.15
         ],
         "z": [
          0,
          0,
          10,
          10
         ]
        },
        {
         "color": "red",
         "i": [
          0,
          0
         ],
         "j": [
          1,
          2
         ],
         "k": [
          2,
          3
         ],
         "opacity": 0.5,
         "type": "mesh3d",
         "x": [
          24.69,
          25.33,
          25.33,
          24.69
         ],
         "y": [
          93.78,
          92.63,
          92.63,
          93.78
         ],
         "z": [
          0,
          0,
          10,
          10
         ]
        },
        {
         "color": "red",
         "i": [
          0,
          0
         ],
         "j": [
          1,
          2
         ],
         "k": [
          2,
          3
         ],
         "opacity": 0.5,
         "type": "mesh3d",
         "x": [
          25.33,
          25.33,
          25.33,
          25.33
         ],
         "y": [
          92.63,
          92.62,
          92.62,
          92.63
         ],
         "z": [
          0,
          0,
          10,
          10
         ]
        },
        {
         "line": {
          "color": "black",
          "width": 3
         },
         "mode": "lines",
         "type": "scatter3d",
         "x": [
          25.33,
          25.86,
          25.21,
          24.69,
          25.33,
          25.33
         ],
         "y": [
          92.62,
          92.95,
          94.15,
          93.78,
          92.63,
          92.62
         ],
         "z": [
          10,
          10,
          10,
          10,
          10,
          10
         ]
        },
        {
         "line": {
          "color": "black",
          "width": 3
         },
         "mode": "lines",
         "type": "scatter3d",
         "x": [
          25.33,
          25.86,
          25.21,
          24.69,
          25.33,
          25.33
         ],
         "y": [
          92.62,
          92.95,
          94.15,
          93.78,
          92.63,
          92.62
         ],
         "z": [
          0,
          0,
          0,
          0,
          0,
          0
         ]
        },
        {
         "line": {
          "color": "black",
          "width": 3
         },
         "mode": "lines",
         "type": "scatter3d",
         "x": [
          25.33,
          25.33,
          25.86,
          25.86,
          25.33
         ],
         "y": [
          92.62,
          92.62,
          92.95,
          92.95,
          92.62
         ],
         "z": [
          0,
          10,
          10,
          0,
          0
         ]
        },
        {
         "line": {
          "color": "black",
          "width": 3
         },
         "mode": "lines",
         "type": "scatter3d",
         "x": [
          25.86,
          25.86,
          25.21,
          25.21,
          25.86
         ],
         "y": [
          92.95,
          92.95,
          94.15,
          94.15,
          92.95
         ],
         "z": [
          0,
          10,
          10,
          0,
          0
         ]
        },
        {
         "line": {
          "color": "black",
          "width": 3
         },
         "mode": "lines",
         "type": "scatter3d",
         "x": [
          25.21,
          25.21,
          24.69,
          24.69,
          25.21
         ],
         "y": [
          94.15,
          94.15,
          93.78,
          93.78,
          94.15
         ],
         "z": [
          0,
          10,
          10,
          0,
          0
         ]
        },
        {
         "line": {
          "color": "black",
          "width": 3
         },
         "mode": "lines",
         "type": "scatter3d",
         "x": [
          24.69,
          24.69,
          25.33,
          25.33,
          24.69
         ],
         "y": [
          93.78,
          93.78,
          92.63,
          92.63,
          93.78
         ],
         "z": [
          0,
          10,
          10,
          0,
          0
         ]
        },
        {
         "line": {
          "color": "black",
          "width": 3
         },
         "mode": "lines",
         "type": "scatter3d",
         "x": [
          25.33,
          25.33,
          25.33,
          25.33,
          25.33
         ],
         "y": [
          92.63,
          92.63,
          92.62,
          92.62,
          92.63
         ],
         "z": [
          0,
          10,
          10,
          0,
          0
         ]
        },
        {
         "color": "red",
         "i": [
          0,
          0
         ],
         "j": [
          1,
          2
         ],
         "k": [
          2,
          3
         ],
         "opacity": 0.5,
         "type": "mesh3d",
         "x": [
          26.11,
          26.62,
          26.62,
          26.11
         ],
         "y": [
          93.05,
          93.35,
          93.35,
          93.05
         ],
         "z": [
          0,
          0,
          3,
          3
         ]
        },
        {
         "color": "red",
         "i": [
          0,
          0
         ],
         "j": [
          1,
          2
         ],
         "k": [
          2,
          3
         ],
         "opacity": 0.5,
         "type": "mesh3d",
         "x": [
          26.62,
          25.81,
          25.81,
          26.62
         ],
         "y": [
          93.35,
          94.65,
          94.65,
          93.35
         ],
         "z": [
          0,
          0,
          3,
          3
         ]
        },
        {
         "color": "red",
         "i": [
          0,
          0
         ],
         "j": [
          1,
          2
         ],
         "k": [
          2,
          3
         ],
         "opacity": 0.5,
         "type": "mesh3d",
         "x": [
          25.81,
          25.39,
          25.39,
          25.81
         ],
         "y": [
          94.65,
          94.35,
          94.35,
          94.65
         ],
         "z": [
          0,
          0,
          3,
          3
         ]
        },
        {
         "color": "red",
         "i": [
          0,
          0
         ],
         "j": [
          1,
          2
         ],
         "k": [
          2,
          3
         ],
         "opacity": 0.5,
         "type": "mesh3d",
         "x": [
          25.39,
          26.11,
          26.11,
          25.39
         ],
         "y": [
          94.35,
          93.05,
          93.05,
          94.35
         ],
         "z": [
          0,
          0,
          3,
          3
         ]
        },
        {
         "color": "red",
         "i": [
          0,
          0
         ],
         "j": [
          1,
          2
         ],
         "k": [
          2,
          3
         ],
         "opacity": 0.5,
         "type": "mesh3d",
         "x": [
          26.11,
          26.11,
          26.11,
          26.11
         ],
         "y": [
          93.05,
          93.05,
          93.05,
          93.05
         ],
         "z": [
          0,
          0,
          3,
          3
         ]
        },
        {
         "line": {
          "color": "black",
          "width": 3
         },
         "mode": "lines",
         "type": "scatter3d",
         "x": [
          26.11,
          26.62,
          25.81,
          25.39,
          26.11,
          26.11
         ],
         "y": [
          93.05,
          93.35,
          94.65,
          94.35,
          93.05,
          93.05
         ],
         "z": [
          3,
          3,
          3,
          3,
          3,
          3
         ]
        },
        {
         "line": {
          "color": "black",
          "width": 3
         },
         "mode": "lines",
         "type": "scatter3d",
         "x": [
          26.11,
          26.62,
          25.81,
          25.39,
          26.11,
          26.11
         ],
         "y": [
          93.05,
          93.35,
          94.65,
          94.35,
          93.05,
          93.05
         ],
         "z": [
          0,
          0,
          0,
          0,
          0,
          0
         ]
        },
        {
         "line": {
          "color": "black",
          "width": 3
         },
         "mode": "lines",
         "type": "scatter3d",
         "x": [
          26.11,
          26.11,
          26.62,
          26.62,
          26.11
         ],
         "y": [
          93.05,
          93.05,
          93.35,
          93.35,
          93.05
         ],
         "z": [
          0,
          3,
          3,
          0,
          0
         ]
        },
        {
         "line": {
          "color": "black",
          "width": 3
         },
         "mode": "lines",
         "type": "scatter3d",
         "x": [
          26.62,
          26.62,
          25.81,
          25.81,
          26.62
         ],
         "y": [
          93.35,
          93.35,
          94.65,
          94.65,
          93.35
         ],
         "z": [
          0,
          3,
          3,
          0,
          0
         ]
        },
        {
         "line": {
          "color": "black",
          "width": 3
         },
         "mode": "lines",
         "type": "scatter3d",
         "x": [
          25.81,
          25.81,
          25.39,
          25.39,
          25.81
         ],
         "y": [
          94.65,
          94.65,
          94.35,
          94.35,
          94.65
         ],
         "z": [
          0,
          3,
          3,
          0,
          0
         ]
        },
        {
         "line": {
          "color": "black",
          "width": 3
         },
         "mode": "lines",
         "type": "scatter3d",
         "x": [
          25.39,
          25.39,
          26.11,
          26.11,
          25.39
         ],
         "y": [
          94.35,
          94.35,
          93.05,
          93.05,
          94.35
         ],
         "z": [
          0,
          3,
          3,
          0,
          0
         ]
        },
        {
         "line": {
          "color": "black",
          "width": 3
         },
         "mode": "lines",
         "type": "scatter3d",
         "x": [
          26.11,
          26.11,
          26.11,
          26.11,
          26.11
         ],
         "y": [
          93.05,
          93.05,
          93.05,
          93.05,
          93.05
         ],
         "z": [
          0,
          3,
          3,
          0,
          0
         ]
        },
        {
         "color": "red",
         "i": [
          0,
          0
         ],
         "j": [
          1,
          2
         ],
         "k": [
          2,
          3
         ],
         "opacity": 0.5,
         "type": "mesh3d",
         "x": [
          26.72,
          27.32,
          27.32,
          26.72
         ],
         "y": [
          93.65,
          94.05,
          94.05,
          93.65
         ],
         "z": [
          0,
          0,
          10,
          10
         ]
        },
        {
         "color": "red",
         "i": [
          0,
          0
         ],
         "j": [
          1,
          2
         ],
         "k": [
          2,
          3
         ],
         "opacity": 0.5,
         "type": "mesh3d",
         "x": [
          27.32,
          26.69,
          26.69,
          27.32
         ],
         "y": [
          94.05,
          95.18,
          95.18,
          94.05
         ],
         "z": [
          0,
          0,
          10,
          10
         ]
        },
        {
         "color": "red",
         "i": [
          0,
          0
         ],
         "j": [
          1,
          2
         ],
         "k": [
          2,
          3
         ],
         "opacity": 0.5,
         "type": "mesh3d",
         "x": [
          26.69,
          26.1,
          26.1,
          26.69
         ],
         "y": [
          95.18,
          94.83,
          94.83,
          95.18
         ],
         "z": [
          0,
          0,
          10,
          10
         ]
        },
        {
         "color": "red",
         "i": [
          0,
          0
         ],
         "j": [
          1,
          2
         ],
         "k": [
          2,
          3
         ],
         "opacity": 0.5,
         "type": "mesh3d",
         "x": [
          26.1,
          26.72,
          26.72,
          26.1
         ],
         "y": [
          94.83,
          93.65,
          93.65,
          94.83
         ],
         "z": [
          0,
          0,
          10,
          10
         ]
        },
        {
         "color": "red",
         "i": [
          0,
          0
         ],
         "j": [
          1,
          2
         ],
         "k": [
          2,
          3
         ],
         "opacity": 0.5,
         "type": "mesh3d",
         "x": [
          26.72,
          26.72,
          26.72,
          26.72
         ],
         "y": [
          93.65,
          93.65,
          93.65,
          93.65
         ],
         "z": [
          0,
          0,
          10,
          10
         ]
        },
        {
         "line": {
          "color": "black",
          "width": 3
         },
         "mode": "lines",
         "type": "scatter3d",
         "x": [
          26.72,
          27.32,
          26.69,
          26.1,
          26.72,
          26.72
         ],
         "y": [
          93.65,
          94.05,
          95.18,
          94.83,
          93.65,
          93.65
         ],
         "z": [
          10,
          10,
          10,
          10,
          10,
          10
         ]
        },
        {
         "line": {
          "color": "black",
          "width": 3
         },
         "mode": "lines",
         "type": "scatter3d",
         "x": [
          26.72,
          27.32,
          26.69,
          26.1,
          26.72,
          26.72
         ],
         "y": [
          93.65,
          94.05,
          95.18,
          94.83,
          93.65,
          93.65
         ],
         "z": [
          0,
          0,
          0,
          0,
          0,
          0
         ]
        },
        {
         "line": {
          "color": "black",
          "width": 3
         },
         "mode": "lines",
         "type": "scatter3d",
         "x": [
          26.72,
          26.72,
          27.32,
          27.32,
          26.72
         ],
         "y": [
          93.65,
          93.65,
          94.05,
          94.05,
          93.65
         ],
         "z": [
          0,
          10,
          10,
          0,
          0
         ]
        },
        {
         "line": {
          "color": "black",
          "width": 3
         },
         "mode": "lines",
         "type": "scatter3d",
         "x": [
          27.32,
          27.32,
          26.69,
          26.69,
          27.32
         ],
         "y": [
          94.05,
          94.05,
          95.18,
          95.18,
          94.05
         ],
         "z": [
          0,
          10,
          10,
          0,
          0
         ]
        },
        {
         "line": {
          "color": "black",
          "width": 3
         },
         "mode": "lines",
         "type": "scatter3d",
         "x": [
          26.69,
          26.69,
          26.1,
          26.1,
          26.69
         ],
         "y": [
          95.18,
          95.18,
          94.83,
          94.83,
          95.18
         ],
         "z": [
          0,
          10,
          10,
          0,
          0
         ]
        },
        {
         "line": {
          "color": "black",
          "width": 3
         },
         "mode": "lines",
         "type": "scatter3d",
         "x": [
          26.1,
          26.1,
          26.72,
          26.72,
          26.1
         ],
         "y": [
          94.83,
          94.83,
          93.65,
          93.65,
          94.83
         ],
         "z": [
          0,
          10,
          10,
          0,
          0
         ]
        },
        {
         "line": {
          "color": "black",
          "width": 3
         },
         "mode": "lines",
         "type": "scatter3d",
         "x": [
          26.72,
          26.72,
          26.72,
          26.72,
          26.72
         ],
         "y": [
          93.65,
          93.65,
          93.65,
          93.65,
          93.65
         ],
         "z": [
          0,
          10,
          10,
          0,
          0
         ]
        },
        {
         "color": "red",
         "i": [
          0,
          0
         ],
         "j": [
          1,
          2
         ],
         "k": [
          2,
          3
         ],
         "opacity": 0.5,
         "type": "mesh3d",
         "x": [
          25.81,
          26.29,
          26.29,
          25.81
         ],
         "y": [
          95.4,
          95.7,
          95.7,
          95.4
         ],
         "z": [
          0,
          0,
          10,
          10
         ]
        },
        {
         "color": "red",
         "i": [
          0,
          0
         ],
         "j": [
          1,
          2
         ],
         "k": [
          2,
          3
         ],
         "opacity": 0.5,
         "type": "mesh3d",
         "x": [
          26.29,
          26.01,
          26.01,
          26.29
         ],
         "y": [
          95.7,
          96.2,
          96.2,
          95.7
         ],
         "z": [
          0,
          0,
          10,
          10
         ]
        },
        {
         "color": "red",
         "i": [
          0,
          0
         ],
         "j": [
          1,
          2
         ],
         "k": [
          2,
          3
         ],
         "opacity": 0.5,
         "type": "mesh3d",
         "x": [
          26.01,
          26.25,
          26.25,
          26.01
         ],
         "y": [
          96.2,
          96.37,
          96.37,
          96.2
         ],
         "z": [
          0,
          0,
          10,
          10
         ]
        },
        {
         "color": "red",
         "i": [
          0,
          0
         ],
         "j": [
          1,
          2
         ],
         "k": [
          2,
          3
         ],
         "opacity": 0.5,
         "type": "mesh3d",
         "x": [
          26.25,
          25.93,
          25.93,
          26.25
         ],
         "y": [
          96.37,
          96.94,
          96.94,
          96.37
         ],
         "z": [
          0,
          0,
          10,
          10
         ]
        },
        {
         "color": "red",
         "i": [
          0,
          0
         ],
         "j": [
          1,
          2
         ],
         "k": [
          2,
          3
         ],
         "opacity": 0.5,
         "type": "mesh3d",
         "x": [
          25.93,
          25.8,
          25.8,
          25.93
         ],
         "y": [
          96.94,
          96.84,
          96.84,
          96.94
         ],
         "z": [
          0,
          0,
          10,
          10
         ]
        },
        {
         "color": "red",
         "i": [
          0,
          0
         ],
         "j": [
          1,
          2
         ],
         "k": [
          2,
          3
         ],
         "opacity": 0.5,
         "type": "mesh3d",
         "x": [
          25.8,
          25.69,
          25.69,
          25.8
         ],
         "y": [
          96.84,
          97.01,
          97.01,
          96.84
         ],
         "z": [
          0,
          0,
          10,
          10
         ]
        },
        {
         "color": "red",
         "i": [
          0,
          0
         ],
         "j": [
          1,
          2
         ],
         "k": [
          2,
          3
         ],
         "opacity": 0.5,
         "type": "mesh3d",
         "x": [
          25.69,
          25.11,
          25.11,
          25.69
         ],
         "y": [
          97.01,
          96.65,
          96.65,
          97.01
         ],
         "z": [
          0,
          0,
          10,
          10
         ]
        },
        {
         "color": "red",
         "i": [
          0,
          0
         ],
         "j": [
          1,
          2
         ],
         "k": [
          2,
          3
         ],
         "opacity": 0.5,
         "type": "mesh3d",
         "x": [
          25.11,
          25.81,
          25.81,
          25.11
         ],
         "y": [
          96.65,
          95.4,
          95.4,
          96.65
         ],
         "z": [
          0,
          0,
          10,
          10
         ]
        },
        {
         "color": "red",
         "i": [
          0,
          0
         ],
         "j": [
          1,
          2
         ],
         "k": [
          2,
          3
         ],
         "opacity": 0.5,
         "type": "mesh3d",
         "x": [
          25.81,
          25.81,
          25.81,
          25.81
         ],
         "y": [
          95.4,
          95.4,
          95.4,
          95.4
         ],
         "z": [
          0,
          0,
          10,
          10
         ]
        },
        {
         "line": {
          "color": "black",
          "width": 3
         },
         "mode": "lines",
         "type": "scatter3d",
         "x": [
          25.81,
          26.29,
          26.01,
          26.25,
          25.93,
          25.8,
          25.69,
          25.11,
          25.81,
          25.81
         ],
         "y": [
          95.4,
          95.7,
          96.2,
          96.37,
          96.94,
          96.84,
          97.01,
          96.65,
          95.4,
          95.4
         ],
         "z": [
          10,
          10,
          10,
          10,
          10,
          10,
          10,
          10,
          10,
          10
         ]
        },
        {
         "line": {
          "color": "black",
          "width": 3
         },
         "mode": "lines",
         "type": "scatter3d",
         "x": [
          25.81,
          26.29,
          26.01,
          26.25,
          25.93,
          25.8,
          25.69,
          25.11,
          25.81,
          25.81
         ],
         "y": [
          95.4,
          95.7,
          96.2,
          96.37,
          96.94,
          96.84,
          97.01,
          96.65,
          95.4,
          95.4
         ],
         "z": [
          0,
          0,
          0,
          0,
          0,
          0,
          0,
          0,
          0,
          0
         ]
        },
        {
         "line": {
          "color": "black",
          "width": 3
         },
         "mode": "lines",
         "type": "scatter3d",
         "x": [
          25.81,
          25.81,
          26.29,
          26.29,
          25.81
         ],
         "y": [
          95.4,
          95.4,
          95.7,
          95.7,
          95.4
         ],
         "z": [
          0,
          10,
          10,
          0,
          0
         ]
        },
        {
         "line": {
          "color": "black",
          "width": 3
         },
         "mode": "lines",
         "type": "scatter3d",
         "x": [
          26.29,
          26.29,
          26.01,
          26.01,
          26.29
         ],
         "y": [
          95.7,
          95.7,
          96.2,
          96.2,
          95.7
         ],
         "z": [
          0,
          10,
          10,
          0,
          0
         ]
        },
        {
         "line": {
          "color": "black",
          "width": 3
         },
         "mode": "lines",
         "type": "scatter3d",
         "x": [
          26.01,
          26.01,
          26.25,
          26.25,
          26.01
         ],
         "y": [
          96.2,
          96.2,
          96.37,
          96.37,
          96.2
         ],
         "z": [
          0,
          10,
          10,
          0,
          0
         ]
        },
        {
         "line": {
          "color": "black",
          "width": 3
         },
         "mode": "lines",
         "type": "scatter3d",
         "x": [
          26.25,
          26.25,
          25.93,
          25.93,
          26.25
         ],
         "y": [
          96.37,
          96.37,
          96.94,
          96.94,
          96.37
         ],
         "z": [
          0,
          10,
          10,
          0,
          0
         ]
        },
        {
         "line": {
          "color": "black",
          "width": 3
         },
         "mode": "lines",
         "type": "scatter3d",
         "x": [
          25.93,
          25.93,
          25.8,
          25.8,
          25.93
         ],
         "y": [
          96.94,
          96.94,
          96.84,
          96.84,
          96.94
         ],
         "z": [
          0,
          10,
          10,
          0,
          0
         ]
        },
        {
         "line": {
          "color": "black",
          "width": 3
         },
         "mode": "lines",
         "type": "scatter3d",
         "x": [
          25.8,
          25.8,
          25.69,
          25.69,
          25.8
         ],
         "y": [
          96.84,
          96.84,
          97.01,
          97.01,
          96.84
         ],
         "z": [
          0,
          10,
          10,
          0,
          0
         ]
        },
        {
         "line": {
          "color": "black",
          "width": 3
         },
         "mode": "lines",
         "type": "scatter3d",
         "x": [
          25.69,
          25.69,
          25.11,
          25.11,
          25.69
         ],
         "y": [
          97.01,
          97.01,
          96.65,
          96.65,
          97.01
         ],
         "z": [
          0,
          10,
          10,
          0,
          0
         ]
        },
        {
         "line": {
          "color": "black",
          "width": 3
         },
         "mode": "lines",
         "type": "scatter3d",
         "x": [
          25.11,
          25.11,
          25.81,
          25.81,
          25.11
         ],
         "y": [
          96.65,
          96.65,
          95.4,
          95.4,
          96.65
         ],
         "z": [
          0,
          10,
          10,
          0,
          0
         ]
        },
        {
         "line": {
          "color": "black",
          "width": 3
         },
         "mode": "lines",
         "type": "scatter3d",
         "x": [
          25.81,
          25.81,
          25.81,
          25.81,
          25.81
         ],
         "y": [
          95.4,
          95.4,
          95.4,
          95.4,
          95.4
         ],
         "z": [
          0,
          10,
          10,
          0,
          0
         ]
        },
        {
         "color": "red",
         "i": [
          0,
          0
         ],
         "j": [
          1,
          2
         ],
         "k": [
          2,
          3
         ],
         "opacity": 0.5,
         "type": "mesh3d",
         "x": [
          23.9,
          24.91,
          24.91,
          23.9
         ],
         "y": [
          94.15,
          94.81,
          94.81,
          94.15
         ],
         "z": [
          0,
          0,
          3,
          3
         ]
        },
        {
         "color": "red",
         "i": [
          0,
          0
         ],
         "j": [
          1,
          2
         ],
         "k": [
          2,
          3
         ],
         "opacity": 0.5,
         "type": "mesh3d",
         "x": [
          24.91,
          24.48,
          24.48,
          24.91
         ],
         "y": [
          94.81,
          95.57,
          95.57,
          94.81
         ],
         "z": [
          0,
          0,
          3,
          3
         ]
        },
        {
         "color": "red",
         "i": [
          0,
          0
         ],
         "j": [
          1,
          2
         ],
         "k": [
          2,
          3
         ],
         "opacity": 0.5,
         "type": "mesh3d",
         "x": [
          24.48,
          23.48,
          23.48,
          24.48
         ],
         "y": [
          95.57,
          94.95,
          94.95,
          95.57
         ],
         "z": [
          0,
          0,
          3,
          3
         ]
        },
        {
         "color": "red",
         "i": [
          0,
          0
         ],
         "j": [
          1,
          2
         ],
         "k": [
          2,
          3
         ],
         "opacity": 0.5,
         "type": "mesh3d",
         "x": [
          23.48,
          23.9,
          23.9,
          23.48
         ],
         "y": [
          94.95,
          94.15,
          94.15,
          94.95
         ],
         "z": [
          0,
          0,
          3,
          3
         ]
        },
        {
         "color": "red",
         "i": [
          0,
          0
         ],
         "j": [
          1,
          2
         ],
         "k": [
          2,
          3
         ],
         "opacity": 0.5,
         "type": "mesh3d",
         "x": [
          23.9,
          23.9,
          23.9,
          23.9
         ],
         "y": [
          94.15,
          94.15,
          94.15,
          94.15
         ],
         "z": [
          0,
          0,
          3,
          3
         ]
        },
        {
         "line": {
          "color": "black",
          "width": 3
         },
         "mode": "lines",
         "type": "scatter3d",
         "x": [
          23.9,
          24.91,
          24.48,
          23.48,
          23.9,
          23.9
         ],
         "y": [
          94.15,
          94.81,
          95.57,
          94.95,
          94.15,
          94.15
         ],
         "z": [
          3,
          3,
          3,
          3,
          3,
          3
         ]
        },
        {
         "line": {
          "color": "black",
          "width": 3
         },
         "mode": "lines",
         "type": "scatter3d",
         "x": [
          23.9,
          24.91,
          24.48,
          23.48,
          23.9,
          23.9
         ],
         "y": [
          94.15,
          94.81,
          95.57,
          94.95,
          94.15,
          94.15
         ],
         "z": [
          0,
          0,
          0,
          0,
          0,
          0
         ]
        },
        {
         "line": {
          "color": "black",
          "width": 3
         },
         "mode": "lines",
         "type": "scatter3d",
         "x": [
          23.9,
          23.9,
          24.91,
          24.91,
          23.9
         ],
         "y": [
          94.15,
          94.15,
          94.81,
          94.81,
          94.15
         ],
         "z": [
          0,
          3,
          3,
          0,
          0
         ]
        },
        {
         "line": {
          "color": "black",
          "width": 3
         },
         "mode": "lines",
         "type": "scatter3d",
         "x": [
          24.91,
          24.91,
          24.48,
          24.48,
          24.91
         ],
         "y": [
          94.81,
          94.81,
          95.57,
          95.57,
          94.81
         ],
         "z": [
          0,
          3,
          3,
          0,
          0
         ]
        },
        {
         "line": {
          "color": "black",
          "width": 3
         },
         "mode": "lines",
         "type": "scatter3d",
         "x": [
          24.48,
          24.48,
          23.48,
          23.48,
          24.48
         ],
         "y": [
          95.57,
          95.57,
          94.95,
          94.95,
          95.57
         ],
         "z": [
          0,
          3,
          3,
          0,
          0
         ]
        },
        {
         "line": {
          "color": "black",
          "width": 3
         },
         "mode": "lines",
         "type": "scatter3d",
         "x": [
          23.48,
          23.48,
          23.9,
          23.9,
          23.48
         ],
         "y": [
          94.95,
          94.95,
          94.15,
          94.15,
          94.95
         ],
         "z": [
          0,
          3,
          3,
          0,
          0
         ]
        },
        {
         "line": {
          "color": "black",
          "width": 3
         },
         "mode": "lines",
         "type": "scatter3d",
         "x": [
          23.9,
          23.9,
          23.9,
          23.9,
          23.9
         ],
         "y": [
          94.15,
          94.15,
          94.15,
          94.15,
          94.15
         ],
         "z": [
          0,
          3,
          3,
          0,
          0
         ]
        },
        {
         "color": "red",
         "i": [
          0,
          0
         ],
         "j": [
          1,
          2
         ],
         "k": [
          2,
          3
         ],
         "opacity": 0.5,
         "type": "mesh3d",
         "x": [
          23.71,
          23.91,
          23.91,
          23.71
         ],
         "y": [
          98.67,
          98.26,
          98.26,
          98.67
         ],
         "z": [
          0,
          0,
          10,
          10
         ]
        },
        {
         "color": "red",
         "i": [
          0,
          0
         ],
         "j": [
          1,
          2
         ],
         "k": [
          2,
          3
         ],
         "opacity": 0.5,
         "type": "mesh3d",
         "x": [
          23.91,
          24.41,
          24.41,
          23.91
         ],
         "y": [
          98.26,
          98.67,
          98.67,
          98.26
         ],
         "z": [
          0,
          0,
          10,
          10
         ]
        },
        {
         "color": "red",
         "i": [
          0,
          0
         ],
         "j": [
          1,
          2
         ],
         "k": [
          2,
          3
         ],
         "opacity": 0.5,
         "type": "mesh3d",
         "x": [
          24.41,
          23.71,
          23.71,
          24.41
         ],
         "y": [
          98.67,
          98.67,
          98.67,
          98.67
         ],
         "z": [
          0,
          0,
          10,
          10
         ]
        },
        {
         "color": "red",
         "i": [
          0,
          0
         ],
         "j": [
          1,
          2
         ],
         "k": [
          2,
          3
         ],
         "opacity": 0.5,
         "type": "mesh3d",
         "x": [
          23.71,
          23.71,
          23.71,
          23.71
         ],
         "y": [
          98.67,
          98.67,
          98.67,
          98.67
         ],
         "z": [
          0,
          0,
          10,
          10
         ]
        },
        {
         "line": {
          "color": "black",
          "width": 3
         },
         "mode": "lines",
         "type": "scatter3d",
         "x": [
          23.71,
          23.91,
          24.41,
          23.71,
          23.71
         ],
         "y": [
          98.67,
          98.26,
          98.67,
          98.67,
          98.67
         ],
         "z": [
          10,
          10,
          10,
          10,
          10
         ]
        },
        {
         "line": {
          "color": "black",
          "width": 3
         },
         "mode": "lines",
         "type": "scatter3d",
         "x": [
          23.71,
          23.91,
          24.41,
          23.71,
          23.71
         ],
         "y": [
          98.67,
          98.26,
          98.67,
          98.67,
          98.67
         ],
         "z": [
          0,
          0,
          0,
          0,
          0
         ]
        },
        {
         "line": {
          "color": "black",
          "width": 3
         },
         "mode": "lines",
         "type": "scatter3d",
         "x": [
          23.71,
          23.71,
          23.91,
          23.91,
          23.71
         ],
         "y": [
          98.67,
          98.67,
          98.26,
          98.26,
          98.67
         ],
         "z": [
          0,
          10,
          10,
          0,
          0
         ]
        },
        {
         "line": {
          "color": "black",
          "width": 3
         },
         "mode": "lines",
         "type": "scatter3d",
         "x": [
          23.91,
          23.91,
          24.41,
          24.41,
          23.91
         ],
         "y": [
          98.26,
          98.26,
          98.67,
          98.67,
          98.26
         ],
         "z": [
          0,
          10,
          10,
          0,
          0
         ]
        },
        {
         "line": {
          "color": "black",
          "width": 3
         },
         "mode": "lines",
         "type": "scatter3d",
         "x": [
          24.41,
          24.41,
          23.71,
          23.71,
          24.41
         ],
         "y": [
          98.67,
          98.67,
          98.67,
          98.67,
          98.67
         ],
         "z": [
          0,
          10,
          10,
          0,
          0
         ]
        },
        {
         "line": {
          "color": "black",
          "width": 3
         },
         "mode": "lines",
         "type": "scatter3d",
         "x": [
          23.71,
          23.71,
          23.71,
          23.71,
          23.71
         ],
         "y": [
          98.67,
          98.67,
          98.67,
          98.67,
          98.67
         ],
         "z": [
          0,
          10,
          10,
          0,
          0
         ]
        },
        {
         "color": "red",
         "i": [
          0,
          0
         ],
         "j": [
          1,
          2
         ],
         "k": [
          2,
          3
         ],
         "opacity": 0.5,
         "type": "mesh3d",
         "x": [
          31.81,
          32.51,
          32.51,
          31.81
         ],
         "y": [
          90.35,
          90.85,
          90.85,
          90.35
         ],
         "z": [
          0,
          0,
          10,
          10
         ]
        },
        {
         "color": "red",
         "i": [
          0,
          0
         ],
         "j": [
          1,
          2
         ],
         "k": [
          2,
          3
         ],
         "opacity": 0.5,
         "type": "mesh3d",
         "x": [
          32.51,
          32.21,
          32.21,
          32.51
         ],
         "y": [
          90.85,
          91.55,
          91.55,
          90.85
         ],
         "z": [
          0,
          0,
          10,
          10
         ]
        },
        {
         "color": "red",
         "i": [
          0,
          0
         ],
         "j": [
          1,
          2
         ],
         "k": [
          2,
          3
         ],
         "opacity": 0.5,
         "type": "mesh3d",
         "x": [
          32.21,
          32.03,
          32.03,
          32.21
         ],
         "y": [
          91.55,
          91.85,
          91.85,
          91.55
         ],
         "z": [
          0,
          0,
          10,
          10
         ]
        },
        {
         "color": "red",
         "i": [
          0,
          0
         ],
         "j": [
          1,
          2
         ],
         "k": [
          2,
          3
         ],
         "opacity": 0.5,
         "type": "mesh3d",
         "x": [
          32.03,
          34.31,
          34.31,
          32.03
         ],
         "y": [
          91.85,
          93.45,
          93.45,
          91.85
         ],
         "z": [
          0,
          0,
          10,
          10
         ]
        },
        {
         "color": "red",
         "i": [
          0,
          0
         ],
         "j": [
          1,
          2
         ],
         "k": [
          2,
          3
         ],
         "opacity": 0.5,
         "type": "mesh3d",
         "x": [
          34.31,
          32.69,
          32.69,
          34.31
         ],
         "y": [
          93.45,
          96.27,
          96.27,
          93.45
         ],
         "z": [
          0,
          0,
          10,
          10
         ]
        },
        {
         "color": "red",
         "i": [
          0,
          0
         ],
         "j": [
          1,
          2
         ],
         "k": [
          2,
          3
         ],
         "opacity": 0.5,
         "type": "mesh3d",
         "x": [
          32.69,
          30.99,
          30.99,
          32.69
         ],
         "y": [
          96.27,
          95.15,
          95.15,
          96.27
         ],
         "z": [
          0,
          0,
          10,
          10
         ]
        },
        {
         "color": "red",
         "i": [
          0,
          0
         ],
         "j": [
          1,
          2
         ],
         "k": [
          2,
          3
         ],
         "opacity": 0.5,
         "type": "mesh3d",
         "x": [
          30.99,
          32.21,
          32.21,
          30.99
         ],
         "y": [
          95.15,
          92.93,
          92.93,
          95.15
         ],
         "z": [
          0,
          0,
          10,
          10
         ]
        },
        {
         "color": "red",
         "i": [
          0,
          0
         ],
         "j": [
          1,
          2
         ],
         "k": [
          2,
          3
         ],
         "opacity": 0.5,
         "type": "mesh3d",
         "x": [
          32.21,
          30.89,
          30.89,
          32.21
         ],
         "y": [
          92.93,
          91.97,
          91.97,
          92.93
         ],
         "z": [
          0,
          0,
          10,
          10
         ]
        },
        {
         "color": "red",
         "i": [
          0,
          0
         ],
         "j": [
          1,
          2
         ],
         "k": [
          2,
          3
         ],
         "opacity": 0.5,
         "type": "mesh3d",
         "x": [
          30.89,
          31.81,
          31.81,
          30.89
         ],
         "y": [
          91.97,
          90.35,
          90.35,
          91.97
         ],
         "z": [
          0,
          0,
          10,
          10
         ]
        },
        {
         "color": "red",
         "i": [
          0,
          0
         ],
         "j": [
          1,
          2
         ],
         "k": [
          2,
          3
         ],
         "opacity": 0.5,
         "type": "mesh3d",
         "x": [
          31.81,
          31.81,
          31.81,
          31.81
         ],
         "y": [
          90.35,
          90.35,
          90.35,
          90.35
         ],
         "z": [
          0,
          0,
          10,
          10
         ]
        },
        {
         "line": {
          "color": "black",
          "width": 3
         },
         "mode": "lines",
         "type": "scatter3d",
         "x": [
          31.81,
          32.51,
          32.21,
          32.03,
          34.31,
          32.69,
          30.99,
          32.21,
          30.89,
          31.81,
          31.81
         ],
         "y": [
          90.35,
          90.85,
          91.55,
          91.85,
          93.45,
          96.27,
          95.15,
          92.93,
          91.97,
          90.35,
          90.35
         ],
         "z": [
          10,
          10,
          10,
          10,
          10,
          10,
          10,
          10,
          10,
          10,
          10
         ]
        },
        {
         "line": {
          "color": "black",
          "width": 3
         },
         "mode": "lines",
         "type": "scatter3d",
         "x": [
          31.81,
          32.51,
          32.21,
          32.03,
          34.31,
          32.69,
          30.99,
          32.21,
          30.89,
          31.81,
          31.81
         ],
         "y": [
          90.35,
          90.85,
          91.55,
          91.85,
          93.45,
          96.27,
          95.15,
          92.93,
          91.97,
          90.35,
          90.35
         ],
         "z": [
          0,
          0,
          0,
          0,
          0,
          0,
          0,
          0,
          0,
          0,
          0
         ]
        },
        {
         "line": {
          "color": "black",
          "width": 3
         },
         "mode": "lines",
         "type": "scatter3d",
         "x": [
          31.81,
          31.81,
          32.51,
          32.51,
          31.81
         ],
         "y": [
          90.35,
          90.35,
          90.85,
          90.85,
          90.35
         ],
         "z": [
          0,
          10,
          10,
          0,
          0
         ]
        },
        {
         "line": {
          "color": "black",
          "width": 3
         },
         "mode": "lines",
         "type": "scatter3d",
         "x": [
          32.51,
          32.51,
          32.21,
          32.21,
          32.51
         ],
         "y": [
          90.85,
          90.85,
          91.55,
          91.55,
          90.85
         ],
         "z": [
          0,
          10,
          10,
          0,
          0
         ]
        },
        {
         "line": {
          "color": "black",
          "width": 3
         },
         "mode": "lines",
         "type": "scatter3d",
         "x": [
          32.21,
          32.21,
          32.03,
          32.03,
          32.21
         ],
         "y": [
          91.55,
          91.55,
          91.85,
          91.85,
          91.55
         ],
         "z": [
          0,
          10,
          10,
          0,
          0
         ]
        },
        {
         "line": {
          "color": "black",
          "width": 3
         },
         "mode": "lines",
         "type": "scatter3d",
         "x": [
          32.03,
          32.03,
          34.31,
          34.31,
          32.03
         ],
         "y": [
          91.85,
          91.85,
          93.45,
          93.45,
          91.85
         ],
         "z": [
          0,
          10,
          10,
          0,
          0
         ]
        },
        {
         "line": {
          "color": "black",
          "width": 3
         },
         "mode": "lines",
         "type": "scatter3d",
         "x": [
          34.31,
          34.31,
          32.69,
          32.69,
          34.31
         ],
         "y": [
          93.45,
          93.45,
          96.27,
          96.27,
          93.45
         ],
         "z": [
          0,
          10,
          10,
          0,
          0
         ]
        },
        {
         "line": {
          "color": "black",
          "width": 3
         },
         "mode": "lines",
         "type": "scatter3d",
         "x": [
          32.69,
          32.69,
          30.99,
          30.99,
          32.69
         ],
         "y": [
          96.27,
          96.27,
          95.15,
          95.15,
          96.27
         ],
         "z": [
          0,
          10,
          10,
          0,
          0
         ]
        },
        {
         "line": {
          "color": "black",
          "width": 3
         },
         "mode": "lines",
         "type": "scatter3d",
         "x": [
          30.99,
          30.99,
          32.21,
          32.21,
          30.99
         ],
         "y": [
          95.15,
          95.15,
          92.93,
          92.93,
          95.15
         ],
         "z": [
          0,
          10,
          10,
          0,
          0
         ]
        },
        {
         "line": {
          "color": "black",
          "width": 3
         },
         "mode": "lines",
         "type": "scatter3d",
         "x": [
          32.21,
          32.21,
          30.89,
          30.89,
          32.21
         ],
         "y": [
          92.93,
          92.93,
          91.97,
          91.97,
          92.93
         ],
         "z": [
          0,
          10,
          10,
          0,
          0
         ]
        },
        {
         "line": {
          "color": "black",
          "width": 3
         },
         "mode": "lines",
         "type": "scatter3d",
         "x": [
          30.89,
          30.89,
          31.81,
          31.81,
          30.89
         ],
         "y": [
          91.97,
          91.97,
          90.35,
          90.35,
          91.97
         ],
         "z": [
          0,
          10,
          10,
          0,
          0
         ]
        },
        {
         "line": {
          "color": "black",
          "width": 3
         },
         "mode": "lines",
         "type": "scatter3d",
         "x": [
          31.81,
          31.81,
          31.81,
          31.81,
          31.81
         ],
         "y": [
          90.35,
          90.35,
          90.35,
          90.35,
          90.35
         ],
         "z": [
          0,
          10,
          10,
          0,
          0
         ]
        },
        {
         "color": "red",
         "i": [
          0,
          0
         ],
         "j": [
          1,
          2
         ],
         "k": [
          2,
          3
         ],
         "opacity": 0.5,
         "type": "mesh3d",
         "x": [
          30.21,
          31.85,
          31.85,
          30.21
         ],
         "y": [
          96,
          97.11,
          97.11,
          96
         ],
         "z": [
          0,
          0,
          10,
          10
         ]
        },
        {
         "color": "red",
         "i": [
          0,
          0
         ],
         "j": [
          1,
          2
         ],
         "k": [
          2,
          3
         ],
         "opacity": 0.5,
         "type": "mesh3d",
         "x": [
          31.85,
          31.02,
          31.02,
          31.85
         ],
         "y": [
          97.11,
          98.55,
          98.55,
          97.11
         ],
         "z": [
          0,
          0,
          10,
          10
         ]
        },
        {
         "color": "red",
         "i": [
          0,
          0
         ],
         "j": [
          1,
          2
         ],
         "k": [
          2,
          3
         ],
         "opacity": 0.5,
         "type": "mesh3d",
         "x": [
          31.02,
          30.5,
          30.5,
          31.02
         ],
         "y": [
          98.55,
          98.26,
          98.26,
          98.55
         ],
         "z": [
          0,
          0,
          10,
          10
         ]
        },
        {
         "color": "red",
         "i": [
          0,
          0
         ],
         "j": [
          1,
          2
         ],
         "k": [
          2,
          3
         ],
         "opacity": 0.5,
         "type": "mesh3d",
         "x": [
          30.5,
          30.31,
          30.31,
          30.5
         ],
         "y": [
          98.26,
          98.53,
          98.53,
          98.26
         ],
         "z": [
          0,
          0,
          10,
          10
         ]
        },
        {
         "color": "red",
         "i": [
          0,
          0
         ],
         "j": [
          1,
          2
         ],
         "k": [
          2,
          3
         ],
         "opacity": 0.5,
         "type": "mesh3d",
         "x": [
          30.31,
          30.51,
          30.51,
          30.31
         ],
         "y": [
          98.53,
          98.67,
          98.67,
          98.53
         ],
         "z": [
          0,
          0,
          10,
          10
         ]
        },
        {
         "color": "red",
         "i": [
          0,
          0
         ],
         "j": [
          1,
          2
         ],
         "k": [
          2,
          3
         ],
         "opacity": 0.5,
         "type": "mesh3d",
         "x": [
          30.51,
          27.81,
          27.81,
          30.51
         ],
         "y": [
          98.67,
          98.67,
          98.67,
          98.67
         ],
         "z": [
          0,
          0,
          10,
          10
         ]
        },
        {
         "color": "red",
         "i": [
          0,
          0
         ],
         "j": [
          1,
          2
         ],
         "k": [
          2,
          3
         ],
         "opacity": 0.5,
         "type": "mesh3d",
         "x": [
          27.81,
          27.21,
          27.21,
          27.81
         ],
         "y": [
          98.67,
          98.28,
          98.28,
          98.67
         ],
         "z": [
          0,
          0,
          10,
          10
         ]
        },
        {
         "color": "red",
         "i": [
          0,
          0
         ],
         "j": [
          1,
          2
         ],
         "k": [
          2,
          3
         ],
         "opacity": 0.5,
         "type": "mesh3d",
         "x": [
          27.21,
          27.73,
          27.73,
          27.21
         ],
         "y": [
          98.28,
          97.43,
          97.43,
          98.28
         ],
         "z": [
          0,
          0,
          10,
          10
         ]
        },
        {
         "color": "red",
         "i": [
          0,
          0
         ],
         "j": [
          1,
          2
         ],
         "k": [
          2,
          3
         ],
         "opacity": 0.5,
         "type": "mesh3d",
         "x": [
          27.73,
          28.95,
          28.95,
          27.73
         ],
         "y": [
          97.43,
          98.25,
          98.25,
          97.43
         ],
         "z": [
          0,
          0,
          10,
          10
         ]
        },
        {
         "color": "red",
         "i": [
          0,
          0
         ],
         "j": [
          1,
          2
         ],
         "k": [
          2,
          3
         ],
         "opacity": 0.5,
         "type": "mesh3d",
         "x": [
          28.95,
          30.21,
          30.21,
          28.95
         ],
         "y": [
          98.25,
          96,
          96,
          98.25
         ],
         "z": [
          0,
          0,
          10,
          10
         ]
        },
        {
         "color": "red",
         "i": [
          0,
          0
         ],
         "j": [
          1,
          2
         ],
         "k": [
          2,
          3
         ],
         "opacity": 0.5,
         "type": "mesh3d",
         "x": [
          30.21,
          30.21,
          30.21,
          30.21
         ],
         "y": [
          96,
          96,
          96,
          96
         ],
         "z": [
          0,
          0,
          10,
          10
         ]
        },
        {
         "line": {
          "color": "black",
          "width": 3
         },
         "mode": "lines",
         "type": "scatter3d",
         "x": [
          30.21,
          31.85,
          31.02,
          30.5,
          30.31,
          30.51,
          27.81,
          27.21,
          27.73,
          28.95,
          30.21,
          30.21
         ],
         "y": [
          96,
          97.11,
          98.55,
          98.26,
          98.53,
          98.67,
          98.67,
          98.28,
          97.43,
          98.25,
          96,
          96
         ],
         "z": [
          10,
          10,
          10,
          10,
          10,
          10,
          10,
          10,
          10,
          10,
          10,
          10
         ]
        },
        {
         "line": {
          "color": "black",
          "width": 3
         },
         "mode": "lines",
         "type": "scatter3d",
         "x": [
          30.21,
          31.85,
          31.02,
          30.5,
          30.31,
          30.51,
          27.81,
          27.21,
          27.73,
          28.95,
          30.21,
          30.21
         ],
         "y": [
          96,
          97.11,
          98.55,
          98.26,
          98.53,
          98.67,
          98.67,
          98.28,
          97.43,
          98.25,
          96,
          96
         ],
         "z": [
          0,
          0,
          0,
          0,
          0,
          0,
          0,
          0,
          0,
          0,
          0,
          0
         ]
        },
        {
         "line": {
          "color": "black",
          "width": 3
         },
         "mode": "lines",
         "type": "scatter3d",
         "x": [
          30.21,
          30.21,
          31.85,
          31.85,
          30.21
         ],
         "y": [
          96,
          96,
          97.11,
          97.11,
          96
         ],
         "z": [
          0,
          10,
          10,
          0,
          0
         ]
        },
        {
         "line": {
          "color": "black",
          "width": 3
         },
         "mode": "lines",
         "type": "scatter3d",
         "x": [
          31.85,
          31.85,
          31.02,
          31.02,
          31.85
         ],
         "y": [
          97.11,
          97.11,
          98.55,
          98.55,
          97.11
         ],
         "z": [
          0,
          10,
          10,
          0,
          0
         ]
        },
        {
         "line": {
          "color": "black",
          "width": 3
         },
         "mode": "lines",
         "type": "scatter3d",
         "x": [
          31.02,
          31.02,
          30.5,
          30.5,
          31.02
         ],
         "y": [
          98.55,
          98.55,
          98.26,
          98.26,
          98.55
         ],
         "z": [
          0,
          10,
          10,
          0,
          0
         ]
        },
        {
         "line": {
          "color": "black",
          "width": 3
         },
         "mode": "lines",
         "type": "scatter3d",
         "x": [
          30.5,
          30.5,
          30.31,
          30.31,
          30.5
         ],
         "y": [
          98.26,
          98.26,
          98.53,
          98.53,
          98.26
         ],
         "z": [
          0,
          10,
          10,
          0,
          0
         ]
        },
        {
         "line": {
          "color": "black",
          "width": 3
         },
         "mode": "lines",
         "type": "scatter3d",
         "x": [
          30.31,
          30.31,
          30.51,
          30.51,
          30.31
         ],
         "y": [
          98.53,
          98.53,
          98.67,
          98.67,
          98.53
         ],
         "z": [
          0,
          10,
          10,
          0,
          0
         ]
        },
        {
         "line": {
          "color": "black",
          "width": 3
         },
         "mode": "lines",
         "type": "scatter3d",
         "x": [
          30.51,
          30.51,
          27.81,
          27.81,
          30.51
         ],
         "y": [
          98.67,
          98.67,
          98.67,
          98.67,
          98.67
         ],
         "z": [
          0,
          10,
          10,
          0,
          0
         ]
        },
        {
         "line": {
          "color": "black",
          "width": 3
         },
         "mode": "lines",
         "type": "scatter3d",
         "x": [
          27.81,
          27.81,
          27.21,
          27.21,
          27.81
         ],
         "y": [
          98.67,
          98.67,
          98.28,
          98.28,
          98.67
         ],
         "z": [
          0,
          10,
          10,
          0,
          0
         ]
        },
        {
         "line": {
          "color": "black",
          "width": 3
         },
         "mode": "lines",
         "type": "scatter3d",
         "x": [
          27.21,
          27.21,
          27.73,
          27.73,
          27.21
         ],
         "y": [
          98.28,
          98.28,
          97.43,
          97.43,
          98.28
         ],
         "z": [
          0,
          10,
          10,
          0,
          0
         ]
        },
        {
         "line": {
          "color": "black",
          "width": 3
         },
         "mode": "lines",
         "type": "scatter3d",
         "x": [
          27.73,
          27.73,
          28.95,
          28.95,
          27.73
         ],
         "y": [
          97.43,
          97.43,
          98.25,
          98.25,
          97.43
         ],
         "z": [
          0,
          10,
          10,
          0,
          0
         ]
        },
        {
         "line": {
          "color": "black",
          "width": 3
         },
         "mode": "lines",
         "type": "scatter3d",
         "x": [
          28.95,
          28.95,
          30.21,
          30.21,
          28.95
         ],
         "y": [
          98.25,
          98.25,
          96,
          96,
          98.25
         ],
         "z": [
          0,
          10,
          10,
          0,
          0
         ]
        },
        {
         "line": {
          "color": "black",
          "width": 3
         },
         "mode": "lines",
         "type": "scatter3d",
         "x": [
          30.21,
          30.21,
          30.21,
          30.21,
          30.21
         ],
         "y": [
          96,
          96,
          96,
          96,
          96
         ],
         "z": [
          0,
          10,
          10,
          0,
          0
         ]
        },
        {
         "marker": {
          "color": "blue",
          "size": 5
         },
         "mode": "markers",
         "type": "scatter3d",
         "x": [
          27.747125734960182,
          28.4259771822822,
          24.470242608783693,
          23.319807378900116,
          30.69768702630477,
          34.23204747057705,
          30.21401181045421,
          24.13772772451559,
          22.578210892111414,
          27.602100867877482,
          28.5640791647123,
          28.32722338301113,
          34.421311893668154,
          26.068993136270333,
          25.747848955125836,
          31.589363729663383,
          33.93643877183452,
          22.216670029560184,
          34.20959343997334,
          23.103989328524463,
          34.010292891107675,
          23.654218156095304,
          23.44680682163007,
          31.965543304970247,
          29.055772533311234,
          24.54397724315408,
          24.815475837631254,
          34.094171648116784,
          25.932736634420912,
          24.78909311035754,
          23.43807288673073,
          25.837015094211104,
          23.313034197054026,
          25.184478142483766,
          29.851405995522367,
          23.855648653289272,
          28.457006509641264,
          34.21685436985902,
          23.066511255757323,
          25.388712235427327,
          25.913093797237618,
          26.124550753608457,
          33.29107540190555,
          33.09093599323694,
          25.308681945812534,
          23.308749704270774,
          23.1348753707346,
          33.82264795025609,
          30.988501936463116,
          22.224897890240893
         ],
         "y": [
          94.17087378574267,
          94.45307295084595,
          93.68170629100726,
          96.72456714123255,
          88.87801703769983,
          98.30982452310329,
          94.741050840793,
          88.60330753162496,
          93.19141019370197,
          97.0596052534594,
          94.99378125493399,
          95.22023421591956,
          98.62596857772635,
          90.7971855144328,
          89.16768416550245,
          92.54208600626698,
          97.10950588315467,
          90.59331197853663,
          92.51167724617025,
          94.88302920303173,
          96.19717408367622,
          90.9680848376878,
          89.06211057805781,
          90.26587047018731,
          93.02268224806045,
          95.92995888460067,
          91.20730466688792,
          96.66086556149877,
          97.49332145229448,
          92.4794867908764,
          98.56066334855396,
          89.20013321562969,
          94.40554963727239,
          94.59512088140741,
          94.62984709022406,
          98.34749196435357,
          91.19687937428749,
          92.38248947770259,
          95.28853347549571,
          90.67938036697294,
          94.65478721833412,
          95.24262911794256,
          98.57642352713984,
          97.86719617561488,
          96.87140453394655,
          94.39572733477696,
          89.4633817422264,
          89.74629707922509,
          93.83729674500599,
          96.55621124418023
         ],
         "z": [
          0,
          0,
          0,
          0,
          0,
          0,
          0,
          0,
          0,
          0,
          0,
          0,
          0,
          0,
          0,
          0,
          0,
          0,
          0,
          0,
          0,
          0,
          0,
          0,
          0,
          0,
          0,
          0,
          0,
          0,
          0,
          0,
          0,
          0,
          0,
          0,
          0,
          0,
          0,
          0,
          0,
          0,
          0,
          0,
          0,
          0,
          0,
          0,
          0,
          0
         ]
        },
        {
         "marker": {
          "color": "orange",
          "size": 8
         },
         "mode": "markers",
         "type": "scatter3d",
         "x": [
          27.55470577587296
         ],
         "y": [
          93.92084405438013
         ],
         "z": [
          0
         ]
        }
       ],
       "layout": {
        "height": 800,
        "scene": {
         "aspectmode": "cube",
         "xaxis": {
          "title": {
           "text": "X"
          }
         },
         "yaxis": {
          "title": {
           "text": "Y"
          }
         },
         "zaxis": {
          "title": {
           "text": "Height"
          }
         }
        },
        "template": {
         "data": {
          "bar": [
           {
            "error_x": {
             "color": "#2a3f5f"
            },
            "error_y": {
             "color": "#2a3f5f"
            },
            "marker": {
             "line": {
              "color": "#E5ECF6",
              "width": 0.5
             },
             "pattern": {
              "fillmode": "overlay",
              "size": 10,
              "solidity": 0.2
             }
            },
            "type": "bar"
           }
          ],
          "barpolar": [
           {
            "marker": {
             "line": {
              "color": "#E5ECF6",
              "width": 0.5
             },
             "pattern": {
              "fillmode": "overlay",
              "size": 10,
              "solidity": 0.2
             }
            },
            "type": "barpolar"
           }
          ],
          "carpet": [
           {
            "aaxis": {
             "endlinecolor": "#2a3f5f",
             "gridcolor": "white",
             "linecolor": "white",
             "minorgridcolor": "white",
             "startlinecolor": "#2a3f5f"
            },
            "baxis": {
             "endlinecolor": "#2a3f5f",
             "gridcolor": "white",
             "linecolor": "white",
             "minorgridcolor": "white",
             "startlinecolor": "#2a3f5f"
            },
            "type": "carpet"
           }
          ],
          "choropleth": [
           {
            "colorbar": {
             "outlinewidth": 0,
             "ticks": ""
            },
            "type": "choropleth"
           }
          ],
          "contour": [
           {
            "colorbar": {
             "outlinewidth": 0,
             "ticks": ""
            },
            "colorscale": [
             [
              0,
              "#0d0887"
             ],
             [
              0.1111111111111111,
              "#46039f"
             ],
             [
              0.2222222222222222,
              "#7201a8"
             ],
             [
              0.3333333333333333,
              "#9c179e"
             ],
             [
              0.4444444444444444,
              "#bd3786"
             ],
             [
              0.5555555555555556,
              "#d8576b"
             ],
             [
              0.6666666666666666,
              "#ed7953"
             ],
             [
              0.7777777777777778,
              "#fb9f3a"
             ],
             [
              0.8888888888888888,
              "#fdca26"
             ],
             [
              1,
              "#f0f921"
             ]
            ],
            "type": "contour"
           }
          ],
          "contourcarpet": [
           {
            "colorbar": {
             "outlinewidth": 0,
             "ticks": ""
            },
            "type": "contourcarpet"
           }
          ],
          "heatmap": [
           {
            "colorbar": {
             "outlinewidth": 0,
             "ticks": ""
            },
            "colorscale": [
             [
              0,
              "#0d0887"
             ],
             [
              0.1111111111111111,
              "#46039f"
             ],
             [
              0.2222222222222222,
              "#7201a8"
             ],
             [
              0.3333333333333333,
              "#9c179e"
             ],
             [
              0.4444444444444444,
              "#bd3786"
             ],
             [
              0.5555555555555556,
              "#d8576b"
             ],
             [
              0.6666666666666666,
              "#ed7953"
             ],
             [
              0.7777777777777778,
              "#fb9f3a"
             ],
             [
              0.8888888888888888,
              "#fdca26"
             ],
             [
              1,
              "#f0f921"
             ]
            ],
            "type": "heatmap"
           }
          ],
          "heatmapgl": [
           {
            "colorbar": {
             "outlinewidth": 0,
             "ticks": ""
            },
            "colorscale": [
             [
              0,
              "#0d0887"
             ],
             [
              0.1111111111111111,
              "#46039f"
             ],
             [
              0.2222222222222222,
              "#7201a8"
             ],
             [
              0.3333333333333333,
              "#9c179e"
             ],
             [
              0.4444444444444444,
              "#bd3786"
             ],
             [
              0.5555555555555556,
              "#d8576b"
             ],
             [
              0.6666666666666666,
              "#ed7953"
             ],
             [
              0.7777777777777778,
              "#fb9f3a"
             ],
             [
              0.8888888888888888,
              "#fdca26"
             ],
             [
              1,
              "#f0f921"
             ]
            ],
            "type": "heatmapgl"
           }
          ],
          "histogram": [
           {
            "marker": {
             "pattern": {
              "fillmode": "overlay",
              "size": 10,
              "solidity": 0.2
             }
            },
            "type": "histogram"
           }
          ],
          "histogram2d": [
           {
            "colorbar": {
             "outlinewidth": 0,
             "ticks": ""
            },
            "colorscale": [
             [
              0,
              "#0d0887"
             ],
             [
              0.1111111111111111,
              "#46039f"
             ],
             [
              0.2222222222222222,
              "#7201a8"
             ],
             [
              0.3333333333333333,
              "#9c179e"
             ],
             [
              0.4444444444444444,
              "#bd3786"
             ],
             [
              0.5555555555555556,
              "#d8576b"
             ],
             [
              0.6666666666666666,
              "#ed7953"
             ],
             [
              0.7777777777777778,
              "#fb9f3a"
             ],
             [
              0.8888888888888888,
              "#fdca26"
             ],
             [
              1,
              "#f0f921"
             ]
            ],
            "type": "histogram2d"
           }
          ],
          "histogram2dcontour": [
           {
            "colorbar": {
             "outlinewidth": 0,
             "ticks": ""
            },
            "colorscale": [
             [
              0,
              "#0d0887"
             ],
             [
              0.1111111111111111,
              "#46039f"
             ],
             [
              0.2222222222222222,
              "#7201a8"
             ],
             [
              0.3333333333333333,
              "#9c179e"
             ],
             [
              0.4444444444444444,
              "#bd3786"
             ],
             [
              0.5555555555555556,
              "#d8576b"
             ],
             [
              0.6666666666666666,
              "#ed7953"
             ],
             [
              0.7777777777777778,
              "#fb9f3a"
             ],
             [
              0.8888888888888888,
              "#fdca26"
             ],
             [
              1,
              "#f0f921"
             ]
            ],
            "type": "histogram2dcontour"
           }
          ],
          "mesh3d": [
           {
            "colorbar": {
             "outlinewidth": 0,
             "ticks": ""
            },
            "type": "mesh3d"
           }
          ],
          "parcoords": [
           {
            "line": {
             "colorbar": {
              "outlinewidth": 0,
              "ticks": ""
             }
            },
            "type": "parcoords"
           }
          ],
          "pie": [
           {
            "automargin": true,
            "type": "pie"
           }
          ],
          "scatter": [
           {
            "fillpattern": {
             "fillmode": "overlay",
             "size": 10,
             "solidity": 0.2
            },
            "type": "scatter"
           }
          ],
          "scatter3d": [
           {
            "line": {
             "colorbar": {
              "outlinewidth": 0,
              "ticks": ""
             }
            },
            "marker": {
             "colorbar": {
              "outlinewidth": 0,
              "ticks": ""
             }
            },
            "type": "scatter3d"
           }
          ],
          "scattercarpet": [
           {
            "marker": {
             "colorbar": {
              "outlinewidth": 0,
              "ticks": ""
             }
            },
            "type": "scattercarpet"
           }
          ],
          "scattergeo": [
           {
            "marker": {
             "colorbar": {
              "outlinewidth": 0,
              "ticks": ""
             }
            },
            "type": "scattergeo"
           }
          ],
          "scattergl": [
           {
            "marker": {
             "colorbar": {
              "outlinewidth": 0,
              "ticks": ""
             }
            },
            "type": "scattergl"
           }
          ],
          "scattermapbox": [
           {
            "marker": {
             "colorbar": {
              "outlinewidth": 0,
              "ticks": ""
             }
            },
            "type": "scattermapbox"
           }
          ],
          "scatterpolar": [
           {
            "marker": {
             "colorbar": {
              "outlinewidth": 0,
              "ticks": ""
             }
            },
            "type": "scatterpolar"
           }
          ],
          "scatterpolargl": [
           {
            "marker": {
             "colorbar": {
              "outlinewidth": 0,
              "ticks": ""
             }
            },
            "type": "scatterpolargl"
           }
          ],
          "scatterternary": [
           {
            "marker": {
             "colorbar": {
              "outlinewidth": 0,
              "ticks": ""
             }
            },
            "type": "scatterternary"
           }
          ],
          "surface": [
           {
            "colorbar": {
             "outlinewidth": 0,
             "ticks": ""
            },
            "colorscale": [
             [
              0,
              "#0d0887"
             ],
             [
              0.1111111111111111,
              "#46039f"
             ],
             [
              0.2222222222222222,
              "#7201a8"
             ],
             [
              0.3333333333333333,
              "#9c179e"
             ],
             [
              0.4444444444444444,
              "#bd3786"
             ],
             [
              0.5555555555555556,
              "#d8576b"
             ],
             [
              0.6666666666666666,
              "#ed7953"
             ],
             [
              0.7777777777777778,
              "#fb9f3a"
             ],
             [
              0.8888888888888888,
              "#fdca26"
             ],
             [
              1,
              "#f0f921"
             ]
            ],
            "type": "surface"
           }
          ],
          "table": [
           {
            "cells": {
             "fill": {
              "color": "#EBF0F8"
             },
             "line": {
              "color": "white"
             }
            },
            "header": {
             "fill": {
              "color": "#C8D4E3"
             },
             "line": {
              "color": "white"
             }
            },
            "type": "table"
           }
          ]
         },
         "layout": {
          "annotationdefaults": {
           "arrowcolor": "#2a3f5f",
           "arrowhead": 0,
           "arrowwidth": 1
          },
          "autotypenumbers": "strict",
          "coloraxis": {
           "colorbar": {
            "outlinewidth": 0,
            "ticks": ""
           }
          },
          "colorscale": {
           "diverging": [
            [
             0,
             "#8e0152"
            ],
            [
             0.1,
             "#c51b7d"
            ],
            [
             0.2,
             "#de77ae"
            ],
            [
             0.3,
             "#f1b6da"
            ],
            [
             0.4,
             "#fde0ef"
            ],
            [
             0.5,
             "#f7f7f7"
            ],
            [
             0.6,
             "#e6f5d0"
            ],
            [
             0.7,
             "#b8e186"
            ],
            [
             0.8,
             "#7fbc41"
            ],
            [
             0.9,
             "#4d9221"
            ],
            [
             1,
             "#276419"
            ]
           ],
           "sequential": [
            [
             0,
             "#0d0887"
            ],
            [
             0.1111111111111111,
             "#46039f"
            ],
            [
             0.2222222222222222,
             "#7201a8"
            ],
            [
             0.3333333333333333,
             "#9c179e"
            ],
            [
             0.4444444444444444,
             "#bd3786"
            ],
            [
             0.5555555555555556,
             "#d8576b"
            ],
            [
             0.6666666666666666,
             "#ed7953"
            ],
            [
             0.7777777777777778,
             "#fb9f3a"
            ],
            [
             0.8888888888888888,
             "#fdca26"
            ],
            [
             1,
             "#f0f921"
            ]
           ],
           "sequentialminus": [
            [
             0,
             "#0d0887"
            ],
            [
             0.1111111111111111,
             "#46039f"
            ],
            [
             0.2222222222222222,
             "#7201a8"
            ],
            [
             0.3333333333333333,
             "#9c179e"
            ],
            [
             0.4444444444444444,
             "#bd3786"
            ],
            [
             0.5555555555555556,
             "#d8576b"
            ],
            [
             0.6666666666666666,
             "#ed7953"
            ],
            [
             0.7777777777777778,
             "#fb9f3a"
            ],
            [
             0.8888888888888888,
             "#fdca26"
            ],
            [
             1,
             "#f0f921"
            ]
           ]
          },
          "colorway": [
           "#636efa",
           "#EF553B",
           "#00cc96",
           "#ab63fa",
           "#FFA15A",
           "#19d3f3",
           "#FF6692",
           "#B6E880",
           "#FF97FF",
           "#FECB52"
          ],
          "font": {
           "color": "#2a3f5f"
          },
          "geo": {
           "bgcolor": "white",
           "lakecolor": "white",
           "landcolor": "#E5ECF6",
           "showlakes": true,
           "showland": true,
           "subunitcolor": "white"
          },
          "hoverlabel": {
           "align": "left"
          },
          "hovermode": "closest",
          "mapbox": {
           "style": "light"
          },
          "paper_bgcolor": "white",
          "plot_bgcolor": "#E5ECF6",
          "polar": {
           "angularaxis": {
            "gridcolor": "white",
            "linecolor": "white",
            "ticks": ""
           },
           "bgcolor": "#E5ECF6",
           "radialaxis": {
            "gridcolor": "white",
            "linecolor": "white",
            "ticks": ""
           }
          },
          "scene": {
           "xaxis": {
            "backgroundcolor": "#E5ECF6",
            "gridcolor": "white",
            "gridwidth": 2,
            "linecolor": "white",
            "showbackground": true,
            "ticks": "",
            "zerolinecolor": "white"
           },
           "yaxis": {
            "backgroundcolor": "#E5ECF6",
            "gridcolor": "white",
            "gridwidth": 2,
            "linecolor": "white",
            "showbackground": true,
            "ticks": "",
            "zerolinecolor": "white"
           },
           "zaxis": {
            "backgroundcolor": "#E5ECF6",
            "gridcolor": "white",
            "gridwidth": 2,
            "linecolor": "white",
            "showbackground": true,
            "ticks": "",
            "zerolinecolor": "white"
           }
          },
          "shapedefaults": {
           "line": {
            "color": "#2a3f5f"
           }
          },
          "ternary": {
           "aaxis": {
            "gridcolor": "white",
            "linecolor": "white",
            "ticks": ""
           },
           "baxis": {
            "gridcolor": "white",
            "linecolor": "white",
            "ticks": ""
           },
           "bgcolor": "#E5ECF6",
           "caxis": {
            "gridcolor": "white",
            "linecolor": "white",
            "ticks": ""
           }
          },
          "title": {
           "x": 0.05
          },
          "xaxis": {
           "automargin": true,
           "gridcolor": "white",
           "linecolor": "white",
           "ticks": "",
           "title": {
            "standoff": 15
           },
           "zerolinecolor": "white",
           "zerolinewidth": 2
          },
          "yaxis": {
           "automargin": true,
           "gridcolor": "white",
           "linecolor": "white",
           "ticks": "",
           "title": {
            "standoff": 15
           },
           "zerolinecolor": "white",
           "zerolinewidth": 2
          }
         }
        },
        "width": 800
       }
      }
     },
     "metadata": {},
     "output_type": "display_data"
    }
   ],
   "source": [
    "# plot dp\n",
    "\n",
    "initial_plot(delivary_locations=delivary_loc, obstacles=obstacles, dp=initial_dp)"
   ]
  },
  {
   "cell_type": "markdown",
   "metadata": {},
   "source": [
    "#### Obstacle free route"
   ]
  },
  {
   "cell_type": "code",
   "execution_count": 111,
   "metadata": {},
   "outputs": [
    {
     "data": {
      "text/plain": [
       "[(27.55470577587296, 93.92084405438013, 0),\n",
       " (27.55470577587296, 93.92084405438013, 9.5),\n",
       " (27.747125734960182, 94.17087378574267, 9.5),\n",
       " (27.747125734960182, 94.17087378574267, 0),\n",
       " (27.747125734960182, 94.17087378574267, 9.5),\n",
       " (27.55470577587296, 93.92084405438013, 9.5),\n",
       " (27.55470577587296, 93.92084405438013, 0),\n",
       " (27.55470577587296, 93.92084405438013, 9.5),\n",
       " (28.4259771822822, 94.45307295084595, 9.5),\n",
       " (28.4259771822822, 94.45307295084595, 0),\n",
       " (28.4259771822822, 94.45307295084595, 9.5),\n",
       " (27.55470577587296, 93.92084405438013, 9.5),\n",
       " (27.55470577587296, 93.92084405438013, 0),\n",
       " (27.55470577587296, 93.92084405438013, 9.5),\n",
       " (24.470242608783693, 93.68170629100726, 9.5),\n",
       " (24.470242608783693, 93.68170629100726, 0),\n",
       " (24.470242608783693, 93.68170629100726, 9.5),\n",
       " (27.55470577587296, 93.92084405438013, 9.5),\n",
       " (27.55470577587296, 93.92084405438013, 0),\n",
       " (27.55470577587296, 93.92084405438013, 9.5),\n",
       " (23.319807378900116, 96.72456714123255, 9.5),\n",
       " (23.319807378900116, 96.72456714123255, 0),\n",
       " (23.319807378900116, 96.72456714123255, 9.5),\n",
       " (27.55470577587296, 93.92084405438013, 9.5),\n",
       " (27.55470577587296, 93.92084405438013, 0),\n",
       " (27.55470577587296, 93.92084405438013, 9.5),\n",
       " (30.69768702630477, 88.87801703769983, 9.5),\n",
       " (30.69768702630477, 88.87801703769983, 0),\n",
       " (30.69768702630477, 88.87801703769983, 9.5),\n",
       " (27.55470577587296, 93.92084405438013, 9.5),\n",
       " (27.55470577587296, 93.92084405438013, 0),\n",
       " (27.55470577587296, 93.92084405438013, 9.5),\n",
       " (34.23204747057705, 98.30982452310329, 9.5),\n",
       " (34.23204747057705, 98.30982452310329, 0),\n",
       " (34.23204747057705, 98.30982452310329, 9.5),\n",
       " (27.55470577587296, 93.92084405438013, 9.5),\n",
       " (27.55470577587296, 93.92084405438013, 0),\n",
       " (27.55470577587296, 93.92084405438013, 9.5),\n",
       " (30.21401181045421, 94.741050840793, 9.5),\n",
       " (30.21401181045421, 94.741050840793, 0),\n",
       " (30.21401181045421, 94.741050840793, 9.5),\n",
       " (27.55470577587296, 93.92084405438013, 9.5),\n",
       " (27.55470577587296, 93.92084405438013, 0),\n",
       " (27.55470577587296, 93.92084405438013, 9.5),\n",
       " (24.13772772451559, 88.60330753162496, 9.5),\n",
       " (24.13772772451559, 88.60330753162496, 0),\n",
       " (24.13772772451559, 88.60330753162496, 9.5),\n",
       " (27.55470577587296, 93.92084405438013, 9.5),\n",
       " (27.55470577587296, 93.92084405438013, 0),\n",
       " (27.55470577587296, 93.92084405438013, 9.5),\n",
       " (22.578210892111414, 93.19141019370197, 9.5),\n",
       " (22.578210892111414, 93.19141019370197, 0),\n",
       " (22.578210892111414, 93.19141019370197, 9.5),\n",
       " (27.55470577587296, 93.92084405438013, 9.5),\n",
       " (27.55470577587296, 93.92084405438013, 0),\n",
       " (27.55470577587296, 93.92084405438013, 9.5),\n",
       " (27.602100867877482, 97.0596052534594, 9.5),\n",
       " (27.602100867877482, 97.0596052534594, 0),\n",
       " (27.602100867877482, 97.0596052534594, 9.5),\n",
       " (27.55470577587296, 93.92084405438013, 9.5),\n",
       " (27.55470577587296, 93.92084405438013, 0),\n",
       " (27.55470577587296, 93.92084405438013, 9.5),\n",
       " (28.5640791647123, 94.99378125493399, 9.5),\n",
       " (28.5640791647123, 94.99378125493399, 0),\n",
       " (28.5640791647123, 94.99378125493399, 9.5),\n",
       " (27.55470577587296, 93.92084405438013, 9.5),\n",
       " (27.55470577587296, 93.92084405438013, 0),\n",
       " (27.55470577587296, 93.92084405438013, 9.5),\n",
       " (28.32722338301113, 95.22023421591956, 9.5),\n",
       " (28.32722338301113, 95.22023421591956, 0),\n",
       " (28.32722338301113, 95.22023421591956, 9.5),\n",
       " (27.55470577587296, 93.92084405438013, 9.5),\n",
       " (27.55470577587296, 93.92084405438013, 0),\n",
       " (27.55470577587296, 93.92084405438013, 9.5),\n",
       " (34.421311893668154, 98.62596857772635, 9.5),\n",
       " (34.421311893668154, 98.62596857772635, 0),\n",
       " (34.421311893668154, 98.62596857772635, 9.5),\n",
       " (27.55470577587296, 93.92084405438013, 9.5),\n",
       " (27.55470577587296, 93.92084405438013, 0),\n",
       " (27.55470577587296, 93.92084405438013, 9.5),\n",
       " (26.068993136270333, 90.7971855144328, 9.5),\n",
       " (26.068993136270333, 90.7971855144328, 0),\n",
       " (26.068993136270333, 90.7971855144328, 9.5),\n",
       " (27.55470577587296, 93.92084405438013, 9.5),\n",
       " (27.55470577587296, 93.92084405438013, 0),\n",
       " (27.55470577587296, 93.92084405438013, 9.5),\n",
       " (25.747848955125836, 89.16768416550245, 9.5),\n",
       " (25.747848955125836, 89.16768416550245, 0),\n",
       " (25.747848955125836, 89.16768416550245, 9.5),\n",
       " (27.55470577587296, 93.92084405438013, 9.5),\n",
       " (27.55470577587296, 93.92084405438013, 0),\n",
       " (27.55470577587296, 93.92084405438013, 9.5),\n",
       " (31.589363729663383, 92.54208600626698, 9.5),\n",
       " (31.589363729663383, 92.54208600626698, 0),\n",
       " (31.589363729663383, 92.54208600626698, 9.5),\n",
       " (27.55470577587296, 93.92084405438013, 9.5),\n",
       " (27.55470577587296, 93.92084405438013, 0),\n",
       " (27.55470577587296, 93.92084405438013, 9.5),\n",
       " (33.93643877183452, 97.10950588315467, 9.5),\n",
       " (33.93643877183452, 97.10950588315467, 0),\n",
       " (33.93643877183452, 97.10950588315467, 9.5),\n",
       " (27.55470577587296, 93.92084405438013, 9.5),\n",
       " (27.55470577587296, 93.92084405438013, 0),\n",
       " (27.55470577587296, 93.92084405438013, 9.5),\n",
       " (22.216670029560184, 90.59331197853663, 9.5),\n",
       " (22.216670029560184, 90.59331197853663, 0),\n",
       " (22.216670029560184, 90.59331197853663, 9.5),\n",
       " (27.55470577587296, 93.92084405438013, 9.5),\n",
       " (27.55470577587296, 93.92084405438013, 0),\n",
       " (27.55470577587296, 93.92084405438013, 9.5),\n",
       " (34.20959343997334, 92.51167724617025, 9.5),\n",
       " (34.20959343997334, 92.51167724617025, 0),\n",
       " (34.20959343997334, 92.51167724617025, 9.5),\n",
       " (27.55470577587296, 93.92084405438013, 9.5),\n",
       " (27.55470577587296, 93.92084405438013, 0),\n",
       " (27.55470577587296, 93.92084405438013, 9.5),\n",
       " (23.103989328524463, 94.88302920303173, 9.5),\n",
       " (23.103989328524463, 94.88302920303173, 0),\n",
       " (23.103989328524463, 94.88302920303173, 9.5),\n",
       " (27.55470577587296, 93.92084405438013, 9.5),\n",
       " (27.55470577587296, 93.92084405438013, 0),\n",
       " (27.55470577587296, 93.92084405438013, 9.5),\n",
       " (34.010292891107675, 96.19717408367622, 9.5),\n",
       " (34.010292891107675, 96.19717408367622, 0),\n",
       " (34.010292891107675, 96.19717408367622, 9.5),\n",
       " (27.55470577587296, 93.92084405438013, 9.5),\n",
       " (27.55470577587296, 93.92084405438013, 0),\n",
       " (27.55470577587296, 93.92084405438013, 9.5),\n",
       " (23.654218156095304, 90.9680848376878, 9.5),\n",
       " (23.654218156095304, 90.9680848376878, 0),\n",
       " (23.654218156095304, 90.9680848376878, 9.5),\n",
       " (27.55470577587296, 93.92084405438013, 9.5),\n",
       " (27.55470577587296, 93.92084405438013, 0),\n",
       " (27.55470577587296, 93.92084405438013, 9.5),\n",
       " (23.44680682163007, 89.06211057805781, 9.5),\n",
       " (23.44680682163007, 89.06211057805781, 0),\n",
       " (23.44680682163007, 89.06211057805781, 9.5),\n",
       " (27.55470577587296, 93.92084405438013, 9.5),\n",
       " (27.55470577587296, 93.92084405438013, 0),\n",
       " (27.55470577587296, 93.92084405438013, 9.5),\n",
       " (31.965543304970247, 90.26587047018731, 9.5),\n",
       " (31.965543304970247, 90.26587047018731, 0),\n",
       " (31.965543304970247, 90.26587047018731, 9.5),\n",
       " (27.55470577587296, 93.92084405438013, 9.5),\n",
       " (27.55470577587296, 93.92084405438013, 0),\n",
       " (27.55470577587296, 93.92084405438013, 9.5),\n",
       " (29.055772533311234, 93.02268224806045, 9.5),\n",
       " (29.055772533311234, 93.02268224806045, 0),\n",
       " (29.055772533311234, 93.02268224806045, 9.5),\n",
       " (27.55470577587296, 93.92084405438013, 9.5),\n",
       " (27.55470577587296, 93.92084405438013, 0),\n",
       " (27.55470577587296, 93.92084405438013, 9.5),\n",
       " (24.54397724315408, 95.92995888460067, 9.5),\n",
       " (24.54397724315408, 95.92995888460067, 0),\n",
       " (24.54397724315408, 95.92995888460067, 9.5),\n",
       " (27.55470577587296, 93.92084405438013, 9.5),\n",
       " (27.55470577587296, 93.92084405438013, 0),\n",
       " (27.55470577587296, 93.92084405438013, 9.5),\n",
       " (24.815475837631254, 91.20730466688792, 9.5),\n",
       " (24.815475837631254, 91.20730466688792, 0),\n",
       " (24.815475837631254, 91.20730466688792, 9.5),\n",
       " (27.55470577587296, 93.92084405438013, 9.5),\n",
       " (27.55470577587296, 93.92084405438013, 0),\n",
       " (27.55470577587296, 93.92084405438013, 9.5),\n",
       " (34.094171648116784, 96.66086556149877, 9.5),\n",
       " (34.094171648116784, 96.66086556149877, 0),\n",
       " (34.094171648116784, 96.66086556149877, 9.5),\n",
       " (27.55470577587296, 93.92084405438013, 9.5),\n",
       " (27.55470577587296, 93.92084405438013, 0),\n",
       " (27.55470577587296, 93.92084405438013, 9.5),\n",
       " (25.932736634420912, 97.49332145229448, 9.5),\n",
       " (25.932736634420912, 97.49332145229448, 0),\n",
       " (25.932736634420912, 97.49332145229448, 9.5),\n",
       " (27.55470577587296, 93.92084405438013, 9.5),\n",
       " (27.55470577587296, 93.92084405438013, 0),\n",
       " (27.55470577587296, 93.92084405438013, 9.5),\n",
       " (24.78909311035754, 92.4794867908764, 9.5),\n",
       " (24.78909311035754, 92.4794867908764, 0),\n",
       " (24.78909311035754, 92.4794867908764, 9.5),\n",
       " (27.55470577587296, 93.92084405438013, 9.5),\n",
       " (27.55470577587296, 93.92084405438013, 0),\n",
       " (27.55470577587296, 93.92084405438013, 9.5),\n",
       " (23.43807288673073, 98.56066334855396, 9.5),\n",
       " (23.43807288673073, 98.56066334855396, 0),\n",
       " (23.43807288673073, 98.56066334855396, 9.5),\n",
       " (27.55470577587296, 93.92084405438013, 9.5),\n",
       " (27.55470577587296, 93.92084405438013, 0),\n",
       " (27.55470577587296, 93.92084405438013, 9.5),\n",
       " (25.837015094211104, 89.20013321562969, 9.5),\n",
       " (25.837015094211104, 89.20013321562969, 0),\n",
       " (25.837015094211104, 89.20013321562969, 9.5),\n",
       " (27.55470577587296, 93.92084405438013, 9.5),\n",
       " (27.55470577587296, 93.92084405438013, 0),\n",
       " (27.55470577587296, 93.92084405438013, 9.5),\n",
       " (23.313034197054026, 94.40554963727239, 9.5),\n",
       " (23.313034197054026, 94.40554963727239, 0),\n",
       " (23.313034197054026, 94.40554963727239, 9.5),\n",
       " (27.55470577587296, 93.92084405438013, 9.5),\n",
       " (27.55470577587296, 93.92084405438013, 0),\n",
       " (27.55470577587296, 93.92084405438013, 9.5),\n",
       " (25.184478142483766, 94.59512088140741, 9.5),\n",
       " (25.184478142483766, 94.59512088140741, 0),\n",
       " (25.184478142483766, 94.59512088140741, 9.5),\n",
       " (27.55470577587296, 93.92084405438013, 9.5),\n",
       " (27.55470577587296, 93.92084405438013, 0),\n",
       " (27.55470577587296, 93.92084405438013, 9.5),\n",
       " (29.851405995522367, 94.62984709022406, 9.5),\n",
       " (29.851405995522367, 94.62984709022406, 0),\n",
       " (29.851405995522367, 94.62984709022406, 9.5),\n",
       " (27.55470577587296, 93.92084405438013, 9.5),\n",
       " (27.55470577587296, 93.92084405438013, 0),\n",
       " (27.55470577587296, 93.92084405438013, 9.5),\n",
       " (23.855648653289272, 98.34749196435357, 9.5),\n",
       " (23.855648653289272, 98.34749196435357, 0),\n",
       " (23.855648653289272, 98.34749196435357, 9.5),\n",
       " (27.55470577587296, 93.92084405438013, 9.5),\n",
       " (27.55470577587296, 93.92084405438013, 0),\n",
       " (27.55470577587296, 93.92084405438013, 9.5),\n",
       " (28.457006509641264, 91.19687937428749, 9.5),\n",
       " (28.457006509641264, 91.19687937428749, 0),\n",
       " (28.457006509641264, 91.19687937428749, 9.5),\n",
       " (27.55470577587296, 93.92084405438013, 9.5),\n",
       " (27.55470577587296, 93.92084405438013, 0),\n",
       " (27.55470577587296, 93.92084405438013, 9.5),\n",
       " (34.21685436985902, 92.38248947770259, 9.5),\n",
       " (34.21685436985902, 92.38248947770259, 0),\n",
       " (34.21685436985902, 92.38248947770259, 9.5),\n",
       " (27.55470577587296, 93.92084405438013, 9.5),\n",
       " (27.55470577587296, 93.92084405438013, 0),\n",
       " (27.55470577587296, 93.92084405438013, 9.5),\n",
       " (23.066511255757323, 95.28853347549571, 9.5),\n",
       " (23.066511255757323, 95.28853347549571, 0),\n",
       " (23.066511255757323, 95.28853347549571, 9.5),\n",
       " (27.55470577587296, 93.92084405438013, 9.5),\n",
       " (27.55470577587296, 93.92084405438013, 0),\n",
       " (27.55470577587296, 93.92084405438013, 9.5),\n",
       " (25.388712235427327, 90.67938036697294, 9.5),\n",
       " (25.388712235427327, 90.67938036697294, 0),\n",
       " (25.388712235427327, 90.67938036697294, 9.5),\n",
       " (27.55470577587296, 93.92084405438013, 9.5),\n",
       " (27.55470577587296, 93.92084405438013, 0),\n",
       " (27.55470577587296, 93.92084405438013, 9.5),\n",
       " (25.913093797237618, 94.65478721833412, 9.5),\n",
       " (25.913093797237618, 94.65478721833412, 0),\n",
       " (25.913093797237618, 94.65478721833412, 9.5),\n",
       " (27.55470577587296, 93.92084405438013, 9.5),\n",
       " (27.55470577587296, 93.92084405438013, 0),\n",
       " (27.55470577587296, 93.92084405438013, 9.5),\n",
       " (26.124550753608457, 95.24262911794256, 9.5),\n",
       " (26.124550753608457, 95.24262911794256, 0),\n",
       " (26.124550753608457, 95.24262911794256, 9.5),\n",
       " (27.55470577587296, 93.92084405438013, 9.5),\n",
       " (27.55470577587296, 93.92084405438013, 0),\n",
       " (27.55470577587296, 93.92084405438013, 9.5),\n",
       " (33.29107540190555, 98.57642352713984, 9.5),\n",
       " (33.29107540190555, 98.57642352713984, 0),\n",
       " (33.29107540190555, 98.57642352713984, 9.5),\n",
       " (27.55470577587296, 93.92084405438013, 9.5),\n",
       " (27.55470577587296, 93.92084405438013, 0),\n",
       " (27.55470577587296, 93.92084405438013, 9.5),\n",
       " (33.09093599323694, 97.86719617561488, 9.5),\n",
       " (33.09093599323694, 97.86719617561488, 0),\n",
       " (33.09093599323694, 97.86719617561488, 9.5),\n",
       " (27.55470577587296, 93.92084405438013, 9.5),\n",
       " (27.55470577587296, 93.92084405438013, 0),\n",
       " (27.55470577587296, 93.92084405438013, 9.5),\n",
       " (25.308681945812534, 96.87140453394655, 9.5),\n",
       " (25.308681945812534, 96.87140453394655, 0),\n",
       " (25.308681945812534, 96.87140453394655, 9.5),\n",
       " (27.55470577587296, 93.92084405438013, 9.5),\n",
       " (27.55470577587296, 93.92084405438013, 0),\n",
       " (27.55470577587296, 93.92084405438013, 9.5),\n",
       " (23.308749704270774, 94.39572733477696, 9.5),\n",
       " (23.308749704270774, 94.39572733477696, 0),\n",
       " (23.308749704270774, 94.39572733477696, 9.5),\n",
       " (27.55470577587296, 93.92084405438013, 9.5),\n",
       " (27.55470577587296, 93.92084405438013, 0),\n",
       " (27.55470577587296, 93.92084405438013, 9.5),\n",
       " (23.1348753707346, 89.4633817422264, 9.5),\n",
       " (23.1348753707346, 89.4633817422264, 0),\n",
       " (23.1348753707346, 89.4633817422264, 9.5),\n",
       " (27.55470577587296, 93.92084405438013, 9.5),\n",
       " (27.55470577587296, 93.92084405438013, 0),\n",
       " (27.55470577587296, 93.92084405438013, 9.5),\n",
       " (33.82264795025609, 89.74629707922509, 9.5),\n",
       " (33.82264795025609, 89.74629707922509, 0),\n",
       " (33.82264795025609, 89.74629707922509, 9.5),\n",
       " (27.55470577587296, 93.92084405438013, 9.5),\n",
       " (27.55470577587296, 93.92084405438013, 0),\n",
       " (27.55470577587296, 93.92084405438013, 9.5),\n",
       " (30.988501936463116, 93.83729674500599, 9.5),\n",
       " (30.988501936463116, 93.83729674500599, 0),\n",
       " (30.988501936463116, 93.83729674500599, 9.5),\n",
       " (27.55470577587296, 93.92084405438013, 9.5),\n",
       " (27.55470577587296, 93.92084405438013, 0),\n",
       " (27.55470577587296, 93.92084405438013, 9.5),\n",
       " (22.224897890240893, 96.55621124418023, 9.5),\n",
       " (22.224897890240893, 96.55621124418023, 0),\n",
       " (22.224897890240893, 96.55621124418023, 9.5),\n",
       " (27.55470577587296, 93.92084405438013, 9.5),\n",
       " (27.55470577587296, 93.92084405438013, 0)]"
      ]
     },
     "execution_count": 111,
     "metadata": {},
     "output_type": "execute_result"
    }
   ],
   "source": [
    "# creating obstacle free route\n",
    "route_1 = create_obstacle_free_route(delivary_loc, initial_dp, drone_height)\n",
    "route_1"
   ]
  },
  {
   "cell_type": "code",
   "execution_count": 112,
   "metadata": {},
   "outputs": [
    {
     "data": {
      "application/vnd.plotly.v1+json": {
       "config": {
        "plotlyServerURL": "https://plot.ly"
       },
       "data": [
        {
         "color": "red",
         "i": [
          0,
          0
         ],
         "j": [
          1,
          2
         ],
         "k": [
          2,
          3
         ],
         "opacity": 0.5,
         "type": "mesh3d",
         "x": [
          27.81,
          28.74,
          28.74,
          27.81
         ],
         "y": [
          90.75,
          91.42,
          91.42,
          90.75
         ],
         "z": [
          0,
          0,
          3,
          3
         ]
        },
        {
         "color": "red",
         "i": [
          0,
          0
         ],
         "j": [
          1,
          2
         ],
         "k": [
          2,
          3
         ],
         "opacity": 0.5,
         "type": "mesh3d",
         "x": [
          28.74,
          27.8,
          27.8,
          28.74
         ],
         "y": [
          91.42,
          93.15,
          93.15,
          91.42
         ],
         "z": [
          0,
          0,
          3,
          3
         ]
        },
        {
         "color": "red",
         "i": [
          0,
          0
         ],
         "j": [
          1,
          2
         ],
         "k": [
          2,
          3
         ],
         "opacity": 0.5,
         "type": "mesh3d",
         "x": [
          27.8,
          26.81,
          26.81,
          27.8
         ],
         "y": [
          93.15,
          92.53,
          92.53,
          93.15
         ],
         "z": [
          0,
          0,
          3,
          3
         ]
        },
        {
         "color": "red",
         "i": [
          0,
          0
         ],
         "j": [
          1,
          2
         ],
         "k": [
          2,
          3
         ],
         "opacity": 0.5,
         "type": "mesh3d",
         "x": [
          26.81,
          27.81,
          27.81,
          26.81
         ],
         "y": [
          92.53,
          90.75,
          90.75,
          92.53
         ],
         "z": [
          0,
          0,
          3,
          3
         ]
        },
        {
         "color": "red",
         "i": [
          0,
          0
         ],
         "j": [
          1,
          2
         ],
         "k": [
          2,
          3
         ],
         "opacity": 0.5,
         "type": "mesh3d",
         "x": [
          27.81,
          27.81,
          27.81,
          27.81
         ],
         "y": [
          90.75,
          90.75,
          90.75,
          90.75
         ],
         "z": [
          0,
          0,
          3,
          3
         ]
        },
        {
         "line": {
          "color": "black",
          "width": 3
         },
         "mode": "lines",
         "type": "scatter3d",
         "x": [
          27.81,
          28.74,
          27.8,
          26.81,
          27.81,
          27.81
         ],
         "y": [
          90.75,
          91.42,
          93.15,
          92.53,
          90.75,
          90.75
         ],
         "z": [
          3,
          3,
          3,
          3,
          3,
          3
         ]
        },
        {
         "line": {
          "color": "black",
          "width": 3
         },
         "mode": "lines",
         "type": "scatter3d",
         "x": [
          27.81,
          28.74,
          27.8,
          26.81,
          27.81,
          27.81
         ],
         "y": [
          90.75,
          91.42,
          93.15,
          92.53,
          90.75,
          90.75
         ],
         "z": [
          0,
          0,
          0,
          0,
          0,
          0
         ]
        },
        {
         "line": {
          "color": "black",
          "width": 3
         },
         "mode": "lines",
         "type": "scatter3d",
         "x": [
          27.81,
          27.81,
          28.74,
          28.74,
          27.81
         ],
         "y": [
          90.75,
          90.75,
          91.42,
          91.42,
          90.75
         ],
         "z": [
          0,
          3,
          3,
          0,
          0
         ]
        },
        {
         "line": {
          "color": "black",
          "width": 3
         },
         "mode": "lines",
         "type": "scatter3d",
         "x": [
          28.74,
          28.74,
          27.8,
          27.8,
          28.74
         ],
         "y": [
          91.42,
          91.42,
          93.15,
          93.15,
          91.42
         ],
         "z": [
          0,
          3,
          3,
          0,
          0
         ]
        },
        {
         "line": {
          "color": "black",
          "width": 3
         },
         "mode": "lines",
         "type": "scatter3d",
         "x": [
          27.8,
          27.8,
          26.81,
          26.81,
          27.8
         ],
         "y": [
          93.15,
          93.15,
          92.53,
          92.53,
          93.15
         ],
         "z": [
          0,
          3,
          3,
          0,
          0
         ]
        },
        {
         "line": {
          "color": "black",
          "width": 3
         },
         "mode": "lines",
         "type": "scatter3d",
         "x": [
          26.81,
          26.81,
          27.81,
          27.81,
          26.81
         ],
         "y": [
          92.53,
          92.53,
          90.75,
          90.75,
          92.53
         ],
         "z": [
          0,
          3,
          3,
          0,
          0
         ]
        },
        {
         "line": {
          "color": "black",
          "width": 3
         },
         "mode": "lines",
         "type": "scatter3d",
         "x": [
          27.81,
          27.81,
          27.81,
          27.81,
          27.81
         ],
         "y": [
          90.75,
          90.75,
          90.75,
          90.75,
          90.75
         ],
         "z": [
          0,
          3,
          3,
          0,
          0
         ]
        },
        {
         "color": "red",
         "i": [
          0,
          0
         ],
         "j": [
          1,
          2
         ],
         "k": [
          2,
          3
         ],
         "opacity": 0.5,
         "type": "mesh3d",
         "x": [
          23.11,
          24.81,
          24.81,
          23.11
         ],
         "y": [
          91.25,
          92.4,
          92.4,
          91.25
         ],
         "z": [
          0,
          0,
          3,
          3
         ]
        },
        {
         "color": "red",
         "i": [
          0,
          0
         ],
         "j": [
          1,
          2
         ],
         "k": [
          2,
          3
         ],
         "opacity": 0.5,
         "type": "mesh3d",
         "x": [
          24.81,
          24.21,
          24.21,
          24.81
         ],
         "y": [
          92.4,
          93.45,
          93.45,
          92.4
         ],
         "z": [
          0,
          0,
          3,
          3
         ]
        },
        {
         "color": "red",
         "i": [
          0,
          0
         ],
         "j": [
          1,
          2
         ],
         "k": [
          2,
          3
         ],
         "opacity": 0.5,
         "type": "mesh3d",
         "x": [
          24.21,
          22.51,
          22.51,
          24.21
         ],
         "y": [
          93.45,
          92.35,
          92.35,
          93.45
         ],
         "z": [
          0,
          0,
          3,
          3
         ]
        },
        {
         "color": "red",
         "i": [
          0,
          0
         ],
         "j": [
          1,
          2
         ],
         "k": [
          2,
          3
         ],
         "opacity": 0.5,
         "type": "mesh3d",
         "x": [
          22.51,
          23.11,
          23.11,
          22.51
         ],
         "y": [
          92.35,
          91.25,
          91.25,
          92.35
         ],
         "z": [
          0,
          0,
          3,
          3
         ]
        },
        {
         "color": "red",
         "i": [
          0,
          0
         ],
         "j": [
          1,
          2
         ],
         "k": [
          2,
          3
         ],
         "opacity": 0.5,
         "type": "mesh3d",
         "x": [
          23.11,
          23.11,
          23.11,
          23.11
         ],
         "y": [
          91.25,
          91.25,
          91.25,
          91.25
         ],
         "z": [
          0,
          0,
          3,
          3
         ]
        },
        {
         "line": {
          "color": "black",
          "width": 3
         },
         "mode": "lines",
         "type": "scatter3d",
         "x": [
          23.11,
          24.81,
          24.21,
          22.51,
          23.11,
          23.11
         ],
         "y": [
          91.25,
          92.4,
          93.45,
          92.35,
          91.25,
          91.25
         ],
         "z": [
          3,
          3,
          3,
          3,
          3,
          3
         ]
        },
        {
         "line": {
          "color": "black",
          "width": 3
         },
         "mode": "lines",
         "type": "scatter3d",
         "x": [
          23.11,
          24.81,
          24.21,
          22.51,
          23.11,
          23.11
         ],
         "y": [
          91.25,
          92.4,
          93.45,
          92.35,
          91.25,
          91.25
         ],
         "z": [
          0,
          0,
          0,
          0,
          0,
          0
         ]
        },
        {
         "line": {
          "color": "black",
          "width": 3
         },
         "mode": "lines",
         "type": "scatter3d",
         "x": [
          23.11,
          23.11,
          24.81,
          24.81,
          23.11
         ],
         "y": [
          91.25,
          91.25,
          92.4,
          92.4,
          91.25
         ],
         "z": [
          0,
          3,
          3,
          0,
          0
         ]
        },
        {
         "line": {
          "color": "black",
          "width": 3
         },
         "mode": "lines",
         "type": "scatter3d",
         "x": [
          24.81,
          24.81,
          24.21,
          24.21,
          24.81
         ],
         "y": [
          92.4,
          92.4,
          93.45,
          93.45,
          92.4
         ],
         "z": [
          0,
          3,
          3,
          0,
          0
         ]
        },
        {
         "line": {
          "color": "black",
          "width": 3
         },
         "mode": "lines",
         "type": "scatter3d",
         "x": [
          24.21,
          24.21,
          22.51,
          22.51,
          24.21
         ],
         "y": [
          93.45,
          93.45,
          92.35,
          92.35,
          93.45
         ],
         "z": [
          0,
          3,
          3,
          0,
          0
         ]
        },
        {
         "line": {
          "color": "black",
          "width": 3
         },
         "mode": "lines",
         "type": "scatter3d",
         "x": [
          22.51,
          22.51,
          23.11,
          23.11,
          22.51
         ],
         "y": [
          92.35,
          92.35,
          91.25,
          91.25,
          92.35
         ],
         "z": [
          0,
          3,
          3,
          0,
          0
         ]
        },
        {
         "line": {
          "color": "black",
          "width": 3
         },
         "mode": "lines",
         "type": "scatter3d",
         "x": [
          23.11,
          23.11,
          23.11,
          23.11,
          23.11
         ],
         "y": [
          91.25,
          91.25,
          91.25,
          91.25,
          91.25
         ],
         "z": [
          0,
          3,
          3,
          0,
          0
         ]
        },
        {
         "color": "red",
         "i": [
          0,
          0
         ],
         "j": [
          1,
          2
         ],
         "k": [
          2,
          3
         ],
         "opacity": 0.5,
         "type": "mesh3d",
         "x": [
          24.55,
          25.96,
          25.96,
          24.55
         ],
         "y": [
          88.6,
          89.55,
          89.55,
          88.6
         ],
         "z": [
          0,
          0,
          10,
          10
         ]
        },
        {
         "color": "red",
         "i": [
          0,
          0
         ],
         "j": [
          1,
          2
         ],
         "k": [
          2,
          3
         ],
         "opacity": 0.5,
         "type": "mesh3d",
         "x": [
          25.96,
          25.01,
          25.01,
          25.96
         ],
         "y": [
          89.55,
          91.35,
          91.35,
          89.55
         ],
         "z": [
          0,
          0,
          10,
          10
         ]
        },
        {
         "color": "red",
         "i": [
          0,
          0
         ],
         "j": [
          1,
          2
         ],
         "k": [
          2,
          3
         ],
         "opacity": 0.5,
         "type": "mesh3d",
         "x": [
          25.01,
          23.61,
          23.61,
          25.01
         ],
         "y": [
          91.35,
          90.32,
          90.32,
          91.35
         ],
         "z": [
          0,
          0,
          10,
          10
         ]
        },
        {
         "color": "red",
         "i": [
          0,
          0
         ],
         "j": [
          1,
          2
         ],
         "k": [
          2,
          3
         ],
         "opacity": 0.5,
         "type": "mesh3d",
         "x": [
          23.61,
          24.55,
          24.55,
          23.61
         ],
         "y": [
          90.32,
          88.6,
          88.6,
          90.32
         ],
         "z": [
          0,
          0,
          10,
          10
         ]
        },
        {
         "color": "red",
         "i": [
          0,
          0
         ],
         "j": [
          1,
          2
         ],
         "k": [
          2,
          3
         ],
         "opacity": 0.5,
         "type": "mesh3d",
         "x": [
          24.55,
          24.55,
          24.55,
          24.55
         ],
         "y": [
          88.6,
          88.6,
          88.6,
          88.6
         ],
         "z": [
          0,
          0,
          10,
          10
         ]
        },
        {
         "line": {
          "color": "black",
          "width": 3
         },
         "mode": "lines",
         "type": "scatter3d",
         "x": [
          24.55,
          25.96,
          25.01,
          23.61,
          24.55,
          24.55
         ],
         "y": [
          88.6,
          89.55,
          91.35,
          90.32,
          88.6,
          88.6
         ],
         "z": [
          10,
          10,
          10,
          10,
          10,
          10
         ]
        },
        {
         "line": {
          "color": "black",
          "width": 3
         },
         "mode": "lines",
         "type": "scatter3d",
         "x": [
          24.55,
          25.96,
          25.01,
          23.61,
          24.55,
          24.55
         ],
         "y": [
          88.6,
          89.55,
          91.35,
          90.32,
          88.6,
          88.6
         ],
         "z": [
          0,
          0,
          0,
          0,
          0,
          0
         ]
        },
        {
         "line": {
          "color": "black",
          "width": 3
         },
         "mode": "lines",
         "type": "scatter3d",
         "x": [
          24.55,
          24.55,
          25.96,
          25.96,
          24.55
         ],
         "y": [
          88.6,
          88.6,
          89.55,
          89.55,
          88.6
         ],
         "z": [
          0,
          10,
          10,
          0,
          0
         ]
        },
        {
         "line": {
          "color": "black",
          "width": 3
         },
         "mode": "lines",
         "type": "scatter3d",
         "x": [
          25.96,
          25.96,
          25.01,
          25.01,
          25.96
         ],
         "y": [
          89.55,
          89.55,
          91.35,
          91.35,
          89.55
         ],
         "z": [
          0,
          10,
          10,
          0,
          0
         ]
        },
        {
         "line": {
          "color": "black",
          "width": 3
         },
         "mode": "lines",
         "type": "scatter3d",
         "x": [
          25.01,
          25.01,
          23.61,
          23.61,
          25.01
         ],
         "y": [
          91.35,
          91.35,
          90.32,
          90.32,
          91.35
         ],
         "z": [
          0,
          10,
          10,
          0,
          0
         ]
        },
        {
         "line": {
          "color": "black",
          "width": 3
         },
         "mode": "lines",
         "type": "scatter3d",
         "x": [
          23.61,
          23.61,
          24.55,
          24.55,
          23.61
         ],
         "y": [
          90.32,
          90.32,
          88.6,
          88.6,
          90.32
         ],
         "z": [
          0,
          10,
          10,
          0,
          0
         ]
        },
        {
         "line": {
          "color": "black",
          "width": 3
         },
         "mode": "lines",
         "type": "scatter3d",
         "x": [
          24.55,
          24.55,
          24.55,
          24.55,
          24.55
         ],
         "y": [
          88.6,
          88.6,
          88.6,
          88.6,
          88.6
         ],
         "z": [
          0,
          10,
          10,
          0,
          0
         ]
        },
        {
         "color": "red",
         "i": [
          0,
          0
         ],
         "j": [
          1,
          2
         ],
         "k": [
          2,
          3
         ],
         "opacity": 0.5,
         "type": "mesh3d",
         "x": [
          25.6,
          27.42,
          27.42,
          25.6
         ],
         "y": [
          88.45,
          88.45,
          88.45,
          88.45
         ],
         "z": [
          0,
          0,
          10,
          10
         ]
        },
        {
         "color": "red",
         "i": [
          0,
          0
         ],
         "j": [
          1,
          2
         ],
         "k": [
          2,
          3
         ],
         "opacity": 0.5,
         "type": "mesh3d",
         "x": [
          27.42,
          26.92,
          26.92,
          27.42
         ],
         "y": [
          88.45,
          89.35,
          89.35,
          88.45
         ],
         "z": [
          0,
          0,
          10,
          10
         ]
        },
        {
         "color": "red",
         "i": [
          0,
          0
         ],
         "j": [
          1,
          2
         ],
         "k": [
          2,
          3
         ],
         "opacity": 0.5,
         "type": "mesh3d",
         "x": [
          26.92,
          25.6,
          25.6,
          26.92
         ],
         "y": [
          89.35,
          88.45,
          88.45,
          89.35
         ],
         "z": [
          0,
          0,
          10,
          10
         ]
        },
        {
         "color": "red",
         "i": [
          0,
          0
         ],
         "j": [
          1,
          2
         ],
         "k": [
          2,
          3
         ],
         "opacity": 0.5,
         "type": "mesh3d",
         "x": [
          25.6,
          25.6,
          25.6,
          25.6
         ],
         "y": [
          88.45,
          88.45,
          88.45,
          88.45
         ],
         "z": [
          0,
          0,
          10,
          10
         ]
        },
        {
         "line": {
          "color": "black",
          "width": 3
         },
         "mode": "lines",
         "type": "scatter3d",
         "x": [
          25.6,
          27.42,
          26.92,
          25.6,
          25.6
         ],
         "y": [
          88.45,
          88.45,
          89.35,
          88.45,
          88.45
         ],
         "z": [
          10,
          10,
          10,
          10,
          10
         ]
        },
        {
         "line": {
          "color": "black",
          "width": 3
         },
         "mode": "lines",
         "type": "scatter3d",
         "x": [
          25.6,
          27.42,
          26.92,
          25.6,
          25.6
         ],
         "y": [
          88.45,
          88.45,
          89.35,
          88.45,
          88.45
         ],
         "z": [
          0,
          0,
          0,
          0,
          0
         ]
        },
        {
         "line": {
          "color": "black",
          "width": 3
         },
         "mode": "lines",
         "type": "scatter3d",
         "x": [
          25.6,
          25.6,
          27.42,
          27.42,
          25.6
         ],
         "y": [
          88.45,
          88.45,
          88.45,
          88.45,
          88.45
         ],
         "z": [
          0,
          10,
          10,
          0,
          0
         ]
        },
        {
         "line": {
          "color": "black",
          "width": 3
         },
         "mode": "lines",
         "type": "scatter3d",
         "x": [
          27.42,
          27.42,
          26.92,
          26.92,
          27.42
         ],
         "y": [
          88.45,
          88.45,
          89.35,
          89.35,
          88.45
         ],
         "z": [
          0,
          10,
          10,
          0,
          0
         ]
        },
        {
         "line": {
          "color": "black",
          "width": 3
         },
         "mode": "lines",
         "type": "scatter3d",
         "x": [
          26.92,
          26.92,
          25.6,
          25.6,
          26.92
         ],
         "y": [
          89.35,
          89.35,
          88.45,
          88.45,
          89.35
         ],
         "z": [
          0,
          10,
          10,
          0,
          0
         ]
        },
        {
         "line": {
          "color": "black",
          "width": 3
         },
         "mode": "lines",
         "type": "scatter3d",
         "x": [
          25.6,
          25.6,
          25.6,
          25.6,
          25.6
         ],
         "y": [
          88.45,
          88.45,
          88.45,
          88.45,
          88.45
         ],
         "z": [
          0,
          10,
          10,
          0,
          0
         ]
        },
        {
         "color": "red",
         "i": [
          0,
          0
         ],
         "j": [
          1,
          2
         ],
         "k": [
          2,
          3
         ],
         "opacity": 0.5,
         "type": "mesh3d",
         "x": [
          27.61,
          28.81,
          28.81,
          27.61
         ],
         "y": [
          88.45,
          88.45,
          88.45,
          88.45
         ],
         "z": [
          0,
          0,
          10,
          10
         ]
        },
        {
         "color": "red",
         "i": [
          0,
          0
         ],
         "j": [
          1,
          2
         ],
         "k": [
          2,
          3
         ],
         "opacity": 0.5,
         "type": "mesh3d",
         "x": [
          28.81,
          29.12,
          29.12,
          28.81
         ],
         "y": [
          88.45,
          88.66,
          88.66,
          88.45
         ],
         "z": [
          0,
          0,
          10,
          10
         ]
        },
        {
         "color": "red",
         "i": [
          0,
          0
         ],
         "j": [
          1,
          2
         ],
         "k": [
          2,
          3
         ],
         "opacity": 0.5,
         "type": "mesh3d",
         "x": [
          29.12,
          28.02,
          28.02,
          29.12
         ],
         "y": [
          88.66,
          90.45,
          90.45,
          88.66
         ],
         "z": [
          0,
          0,
          10,
          10
         ]
        },
        {
         "color": "red",
         "i": [
          0,
          0
         ],
         "j": [
          1,
          2
         ],
         "k": [
          2,
          3
         ],
         "opacity": 0.5,
         "type": "mesh3d",
         "x": [
          28.02,
          26.9,
          26.9,
          28.02
         ],
         "y": [
          90.45,
          89.57,
          89.57,
          90.45
         ],
         "z": [
          0,
          0,
          10,
          10
         ]
        },
        {
         "color": "red",
         "i": [
          0,
          0
         ],
         "j": [
          1,
          2
         ],
         "k": [
          2,
          3
         ],
         "opacity": 0.5,
         "type": "mesh3d",
         "x": [
          26.9,
          27.61,
          27.61,
          26.9
         ],
         "y": [
          89.57,
          88.45,
          88.45,
          89.57
         ],
         "z": [
          0,
          0,
          10,
          10
         ]
        },
        {
         "color": "red",
         "i": [
          0,
          0
         ],
         "j": [
          1,
          2
         ],
         "k": [
          2,
          3
         ],
         "opacity": 0.5,
         "type": "mesh3d",
         "x": [
          27.61,
          27.61,
          27.61,
          27.61
         ],
         "y": [
          88.45,
          88.45,
          88.45,
          88.45
         ],
         "z": [
          0,
          0,
          10,
          10
         ]
        },
        {
         "line": {
          "color": "black",
          "width": 3
         },
         "mode": "lines",
         "type": "scatter3d",
         "x": [
          27.61,
          28.81,
          29.12,
          28.02,
          26.9,
          27.61,
          27.61
         ],
         "y": [
          88.45,
          88.45,
          88.66,
          90.45,
          89.57,
          88.45,
          88.45
         ],
         "z": [
          10,
          10,
          10,
          10,
          10,
          10,
          10
         ]
        },
        {
         "line": {
          "color": "black",
          "width": 3
         },
         "mode": "lines",
         "type": "scatter3d",
         "x": [
          27.61,
          28.81,
          29.12,
          28.02,
          26.9,
          27.61,
          27.61
         ],
         "y": [
          88.45,
          88.45,
          88.66,
          90.45,
          89.57,
          88.45,
          88.45
         ],
         "z": [
          0,
          0,
          0,
          0,
          0,
          0,
          0
         ]
        },
        {
         "line": {
          "color": "black",
          "width": 3
         },
         "mode": "lines",
         "type": "scatter3d",
         "x": [
          27.61,
          27.61,
          28.81,
          28.81,
          27.61
         ],
         "y": [
          88.45,
          88.45,
          88.45,
          88.45,
          88.45
         ],
         "z": [
          0,
          10,
          10,
          0,
          0
         ]
        },
        {
         "line": {
          "color": "black",
          "width": 3
         },
         "mode": "lines",
         "type": "scatter3d",
         "x": [
          28.81,
          28.81,
          29.12,
          29.12,
          28.81
         ],
         "y": [
          88.45,
          88.45,
          88.66,
          88.66,
          88.45
         ],
         "z": [
          0,
          10,
          10,
          0,
          0
         ]
        },
        {
         "line": {
          "color": "black",
          "width": 3
         },
         "mode": "lines",
         "type": "scatter3d",
         "x": [
          29.12,
          29.12,
          28.02,
          28.02,
          29.12
         ],
         "y": [
          88.66,
          88.66,
          90.45,
          90.45,
          88.66
         ],
         "z": [
          0,
          10,
          10,
          0,
          0
         ]
        },
        {
         "line": {
          "color": "black",
          "width": 3
         },
         "mode": "lines",
         "type": "scatter3d",
         "x": [
          28.02,
          28.02,
          26.9,
          26.9,
          28.02
         ],
         "y": [
          90.45,
          90.45,
          89.57,
          89.57,
          90.45
         ],
         "z": [
          0,
          10,
          10,
          0,
          0
         ]
        },
        {
         "line": {
          "color": "black",
          "width": 3
         },
         "mode": "lines",
         "type": "scatter3d",
         "x": [
          26.9,
          26.9,
          27.61,
          27.61,
          26.9
         ],
         "y": [
          89.57,
          89.57,
          88.45,
          88.45,
          89.57
         ],
         "z": [
          0,
          10,
          10,
          0,
          0
         ]
        },
        {
         "line": {
          "color": "black",
          "width": 3
         },
         "mode": "lines",
         "type": "scatter3d",
         "x": [
          27.61,
          27.61,
          27.61,
          27.61,
          27.61
         ],
         "y": [
          88.45,
          88.45,
          88.45,
          88.45,
          88.45
         ],
         "z": [
          0,
          10,
          10,
          0,
          0
         ]
        },
        {
         "color": "red",
         "i": [
          0,
          0
         ],
         "j": [
          1,
          2
         ],
         "k": [
          2,
          3
         ],
         "opacity": 0.5,
         "type": "mesh3d",
         "x": [
          25.33,
          25.86,
          25.86,
          25.33
         ],
         "y": [
          92.62,
          92.95,
          92.95,
          92.62
         ],
         "z": [
          0,
          0,
          10,
          10
         ]
        },
        {
         "color": "red",
         "i": [
          0,
          0
         ],
         "j": [
          1,
          2
         ],
         "k": [
          2,
          3
         ],
         "opacity": 0.5,
         "type": "mesh3d",
         "x": [
          25.86,
          25.21,
          25.21,
          25.86
         ],
         "y": [
          92.95,
          94.15,
          94.15,
          92.95
         ],
         "z": [
          0,
          0,
          10,
          10
         ]
        },
        {
         "color": "red",
         "i": [
          0,
          0
         ],
         "j": [
          1,
          2
         ],
         "k": [
          2,
          3
         ],
         "opacity": 0.5,
         "type": "mesh3d",
         "x": [
          25.21,
          24.69,
          24.69,
          25.21
         ],
         "y": [
          94.15,
          93.78,
          93.78,
          94.15
         ],
         "z": [
          0,
          0,
          10,
          10
         ]
        },
        {
         "color": "red",
         "i": [
          0,
          0
         ],
         "j": [
          1,
          2
         ],
         "k": [
          2,
          3
         ],
         "opacity": 0.5,
         "type": "mesh3d",
         "x": [
          24.69,
          25.33,
          25.33,
          24.69
         ],
         "y": [
          93.78,
          92.63,
          92.63,
          93.78
         ],
         "z": [
          0,
          0,
          10,
          10
         ]
        },
        {
         "color": "red",
         "i": [
          0,
          0
         ],
         "j": [
          1,
          2
         ],
         "k": [
          2,
          3
         ],
         "opacity": 0.5,
         "type": "mesh3d",
         "x": [
          25.33,
          25.33,
          25.33,
          25.33
         ],
         "y": [
          92.63,
          92.62,
          92.62,
          92.63
         ],
         "z": [
          0,
          0,
          10,
          10
         ]
        },
        {
         "line": {
          "color": "black",
          "width": 3
         },
         "mode": "lines",
         "type": "scatter3d",
         "x": [
          25.33,
          25.86,
          25.21,
          24.69,
          25.33,
          25.33
         ],
         "y": [
          92.62,
          92.95,
          94.15,
          93.78,
          92.63,
          92.62
         ],
         "z": [
          10,
          10,
          10,
          10,
          10,
          10
         ]
        },
        {
         "line": {
          "color": "black",
          "width": 3
         },
         "mode": "lines",
         "type": "scatter3d",
         "x": [
          25.33,
          25.86,
          25.21,
          24.69,
          25.33,
          25.33
         ],
         "y": [
          92.62,
          92.95,
          94.15,
          93.78,
          92.63,
          92.62
         ],
         "z": [
          0,
          0,
          0,
          0,
          0,
          0
         ]
        },
        {
         "line": {
          "color": "black",
          "width": 3
         },
         "mode": "lines",
         "type": "scatter3d",
         "x": [
          25.33,
          25.33,
          25.86,
          25.86,
          25.33
         ],
         "y": [
          92.62,
          92.62,
          92.95,
          92.95,
          92.62
         ],
         "z": [
          0,
          10,
          10,
          0,
          0
         ]
        },
        {
         "line": {
          "color": "black",
          "width": 3
         },
         "mode": "lines",
         "type": "scatter3d",
         "x": [
          25.86,
          25.86,
          25.21,
          25.21,
          25.86
         ],
         "y": [
          92.95,
          92.95,
          94.15,
          94.15,
          92.95
         ],
         "z": [
          0,
          10,
          10,
          0,
          0
         ]
        },
        {
         "line": {
          "color": "black",
          "width": 3
         },
         "mode": "lines",
         "type": "scatter3d",
         "x": [
          25.21,
          25.21,
          24.69,
          24.69,
          25.21
         ],
         "y": [
          94.15,
          94.15,
          93.78,
          93.78,
          94.15
         ],
         "z": [
          0,
          10,
          10,
          0,
          0
         ]
        },
        {
         "line": {
          "color": "black",
          "width": 3
         },
         "mode": "lines",
         "type": "scatter3d",
         "x": [
          24.69,
          24.69,
          25.33,
          25.33,
          24.69
         ],
         "y": [
          93.78,
          93.78,
          92.63,
          92.63,
          93.78
         ],
         "z": [
          0,
          10,
          10,
          0,
          0
         ]
        },
        {
         "line": {
          "color": "black",
          "width": 3
         },
         "mode": "lines",
         "type": "scatter3d",
         "x": [
          25.33,
          25.33,
          25.33,
          25.33,
          25.33
         ],
         "y": [
          92.63,
          92.63,
          92.62,
          92.62,
          92.63
         ],
         "z": [
          0,
          10,
          10,
          0,
          0
         ]
        },
        {
         "color": "red",
         "i": [
          0,
          0
         ],
         "j": [
          1,
          2
         ],
         "k": [
          2,
          3
         ],
         "opacity": 0.5,
         "type": "mesh3d",
         "x": [
          26.11,
          26.62,
          26.62,
          26.11
         ],
         "y": [
          93.05,
          93.35,
          93.35,
          93.05
         ],
         "z": [
          0,
          0,
          3,
          3
         ]
        },
        {
         "color": "red",
         "i": [
          0,
          0
         ],
         "j": [
          1,
          2
         ],
         "k": [
          2,
          3
         ],
         "opacity": 0.5,
         "type": "mesh3d",
         "x": [
          26.62,
          25.81,
          25.81,
          26.62
         ],
         "y": [
          93.35,
          94.65,
          94.65,
          93.35
         ],
         "z": [
          0,
          0,
          3,
          3
         ]
        },
        {
         "color": "red",
         "i": [
          0,
          0
         ],
         "j": [
          1,
          2
         ],
         "k": [
          2,
          3
         ],
         "opacity": 0.5,
         "type": "mesh3d",
         "x": [
          25.81,
          25.39,
          25.39,
          25.81
         ],
         "y": [
          94.65,
          94.35,
          94.35,
          94.65
         ],
         "z": [
          0,
          0,
          3,
          3
         ]
        },
        {
         "color": "red",
         "i": [
          0,
          0
         ],
         "j": [
          1,
          2
         ],
         "k": [
          2,
          3
         ],
         "opacity": 0.5,
         "type": "mesh3d",
         "x": [
          25.39,
          26.11,
          26.11,
          25.39
         ],
         "y": [
          94.35,
          93.05,
          93.05,
          94.35
         ],
         "z": [
          0,
          0,
          3,
          3
         ]
        },
        {
         "color": "red",
         "i": [
          0,
          0
         ],
         "j": [
          1,
          2
         ],
         "k": [
          2,
          3
         ],
         "opacity": 0.5,
         "type": "mesh3d",
         "x": [
          26.11,
          26.11,
          26.11,
          26.11
         ],
         "y": [
          93.05,
          93.05,
          93.05,
          93.05
         ],
         "z": [
          0,
          0,
          3,
          3
         ]
        },
        {
         "line": {
          "color": "black",
          "width": 3
         },
         "mode": "lines",
         "type": "scatter3d",
         "x": [
          26.11,
          26.62,
          25.81,
          25.39,
          26.11,
          26.11
         ],
         "y": [
          93.05,
          93.35,
          94.65,
          94.35,
          93.05,
          93.05
         ],
         "z": [
          3,
          3,
          3,
          3,
          3,
          3
         ]
        },
        {
         "line": {
          "color": "black",
          "width": 3
         },
         "mode": "lines",
         "type": "scatter3d",
         "x": [
          26.11,
          26.62,
          25.81,
          25.39,
          26.11,
          26.11
         ],
         "y": [
          93.05,
          93.35,
          94.65,
          94.35,
          93.05,
          93.05
         ],
         "z": [
          0,
          0,
          0,
          0,
          0,
          0
         ]
        },
        {
         "line": {
          "color": "black",
          "width": 3
         },
         "mode": "lines",
         "type": "scatter3d",
         "x": [
          26.11,
          26.11,
          26.62,
          26.62,
          26.11
         ],
         "y": [
          93.05,
          93.05,
          93.35,
          93.35,
          93.05
         ],
         "z": [
          0,
          3,
          3,
          0,
          0
         ]
        },
        {
         "line": {
          "color": "black",
          "width": 3
         },
         "mode": "lines",
         "type": "scatter3d",
         "x": [
          26.62,
          26.62,
          25.81,
          25.81,
          26.62
         ],
         "y": [
          93.35,
          93.35,
          94.65,
          94.65,
          93.35
         ],
         "z": [
          0,
          3,
          3,
          0,
          0
         ]
        },
        {
         "line": {
          "color": "black",
          "width": 3
         },
         "mode": "lines",
         "type": "scatter3d",
         "x": [
          25.81,
          25.81,
          25.39,
          25.39,
          25.81
         ],
         "y": [
          94.65,
          94.65,
          94.35,
          94.35,
          94.65
         ],
         "z": [
          0,
          3,
          3,
          0,
          0
         ]
        },
        {
         "line": {
          "color": "black",
          "width": 3
         },
         "mode": "lines",
         "type": "scatter3d",
         "x": [
          25.39,
          25.39,
          26.11,
          26.11,
          25.39
         ],
         "y": [
          94.35,
          94.35,
          93.05,
          93.05,
          94.35
         ],
         "z": [
          0,
          3,
          3,
          0,
          0
         ]
        },
        {
         "line": {
          "color": "black",
          "width": 3
         },
         "mode": "lines",
         "type": "scatter3d",
         "x": [
          26.11,
          26.11,
          26.11,
          26.11,
          26.11
         ],
         "y": [
          93.05,
          93.05,
          93.05,
          93.05,
          93.05
         ],
         "z": [
          0,
          3,
          3,
          0,
          0
         ]
        },
        {
         "color": "red",
         "i": [
          0,
          0
         ],
         "j": [
          1,
          2
         ],
         "k": [
          2,
          3
         ],
         "opacity": 0.5,
         "type": "mesh3d",
         "x": [
          26.72,
          27.32,
          27.32,
          26.72
         ],
         "y": [
          93.65,
          94.05,
          94.05,
          93.65
         ],
         "z": [
          0,
          0,
          10,
          10
         ]
        },
        {
         "color": "red",
         "i": [
          0,
          0
         ],
         "j": [
          1,
          2
         ],
         "k": [
          2,
          3
         ],
         "opacity": 0.5,
         "type": "mesh3d",
         "x": [
          27.32,
          26.69,
          26.69,
          27.32
         ],
         "y": [
          94.05,
          95.18,
          95.18,
          94.05
         ],
         "z": [
          0,
          0,
          10,
          10
         ]
        },
        {
         "color": "red",
         "i": [
          0,
          0
         ],
         "j": [
          1,
          2
         ],
         "k": [
          2,
          3
         ],
         "opacity": 0.5,
         "type": "mesh3d",
         "x": [
          26.69,
          26.1,
          26.1,
          26.69
         ],
         "y": [
          95.18,
          94.83,
          94.83,
          95.18
         ],
         "z": [
          0,
          0,
          10,
          10
         ]
        },
        {
         "color": "red",
         "i": [
          0,
          0
         ],
         "j": [
          1,
          2
         ],
         "k": [
          2,
          3
         ],
         "opacity": 0.5,
         "type": "mesh3d",
         "x": [
          26.1,
          26.72,
          26.72,
          26.1
         ],
         "y": [
          94.83,
          93.65,
          93.65,
          94.83
         ],
         "z": [
          0,
          0,
          10,
          10
         ]
        },
        {
         "color": "red",
         "i": [
          0,
          0
         ],
         "j": [
          1,
          2
         ],
         "k": [
          2,
          3
         ],
         "opacity": 0.5,
         "type": "mesh3d",
         "x": [
          26.72,
          26.72,
          26.72,
          26.72
         ],
         "y": [
          93.65,
          93.65,
          93.65,
          93.65
         ],
         "z": [
          0,
          0,
          10,
          10
         ]
        },
        {
         "line": {
          "color": "black",
          "width": 3
         },
         "mode": "lines",
         "type": "scatter3d",
         "x": [
          26.72,
          27.32,
          26.69,
          26.1,
          26.72,
          26.72
         ],
         "y": [
          93.65,
          94.05,
          95.18,
          94.83,
          93.65,
          93.65
         ],
         "z": [
          10,
          10,
          10,
          10,
          10,
          10
         ]
        },
        {
         "line": {
          "color": "black",
          "width": 3
         },
         "mode": "lines",
         "type": "scatter3d",
         "x": [
          26.72,
          27.32,
          26.69,
          26.1,
          26.72,
          26.72
         ],
         "y": [
          93.65,
          94.05,
          95.18,
          94.83,
          93.65,
          93.65
         ],
         "z": [
          0,
          0,
          0,
          0,
          0,
          0
         ]
        },
        {
         "line": {
          "color": "black",
          "width": 3
         },
         "mode": "lines",
         "type": "scatter3d",
         "x": [
          26.72,
          26.72,
          27.32,
          27.32,
          26.72
         ],
         "y": [
          93.65,
          93.65,
          94.05,
          94.05,
          93.65
         ],
         "z": [
          0,
          10,
          10,
          0,
          0
         ]
        },
        {
         "line": {
          "color": "black",
          "width": 3
         },
         "mode": "lines",
         "type": "scatter3d",
         "x": [
          27.32,
          27.32,
          26.69,
          26.69,
          27.32
         ],
         "y": [
          94.05,
          94.05,
          95.18,
          95.18,
          94.05
         ],
         "z": [
          0,
          10,
          10,
          0,
          0
         ]
        },
        {
         "line": {
          "color": "black",
          "width": 3
         },
         "mode": "lines",
         "type": "scatter3d",
         "x": [
          26.69,
          26.69,
          26.1,
          26.1,
          26.69
         ],
         "y": [
          95.18,
          95.18,
          94.83,
          94.83,
          95.18
         ],
         "z": [
          0,
          10,
          10,
          0,
          0
         ]
        },
        {
         "line": {
          "color": "black",
          "width": 3
         },
         "mode": "lines",
         "type": "scatter3d",
         "x": [
          26.1,
          26.1,
          26.72,
          26.72,
          26.1
         ],
         "y": [
          94.83,
          94.83,
          93.65,
          93.65,
          94.83
         ],
         "z": [
          0,
          10,
          10,
          0,
          0
         ]
        },
        {
         "line": {
          "color": "black",
          "width": 3
         },
         "mode": "lines",
         "type": "scatter3d",
         "x": [
          26.72,
          26.72,
          26.72,
          26.72,
          26.72
         ],
         "y": [
          93.65,
          93.65,
          93.65,
          93.65,
          93.65
         ],
         "z": [
          0,
          10,
          10,
          0,
          0
         ]
        },
        {
         "color": "red",
         "i": [
          0,
          0
         ],
         "j": [
          1,
          2
         ],
         "k": [
          2,
          3
         ],
         "opacity": 0.5,
         "type": "mesh3d",
         "x": [
          25.81,
          26.29,
          26.29,
          25.81
         ],
         "y": [
          95.4,
          95.7,
          95.7,
          95.4
         ],
         "z": [
          0,
          0,
          10,
          10
         ]
        },
        {
         "color": "red",
         "i": [
          0,
          0
         ],
         "j": [
          1,
          2
         ],
         "k": [
          2,
          3
         ],
         "opacity": 0.5,
         "type": "mesh3d",
         "x": [
          26.29,
          26.01,
          26.01,
          26.29
         ],
         "y": [
          95.7,
          96.2,
          96.2,
          95.7
         ],
         "z": [
          0,
          0,
          10,
          10
         ]
        },
        {
         "color": "red",
         "i": [
          0,
          0
         ],
         "j": [
          1,
          2
         ],
         "k": [
          2,
          3
         ],
         "opacity": 0.5,
         "type": "mesh3d",
         "x": [
          26.01,
          26.25,
          26.25,
          26.01
         ],
         "y": [
          96.2,
          96.37,
          96.37,
          96.2
         ],
         "z": [
          0,
          0,
          10,
          10
         ]
        },
        {
         "color": "red",
         "i": [
          0,
          0
         ],
         "j": [
          1,
          2
         ],
         "k": [
          2,
          3
         ],
         "opacity": 0.5,
         "type": "mesh3d",
         "x": [
          26.25,
          25.93,
          25.93,
          26.25
         ],
         "y": [
          96.37,
          96.94,
          96.94,
          96.37
         ],
         "z": [
          0,
          0,
          10,
          10
         ]
        },
        {
         "color": "red",
         "i": [
          0,
          0
         ],
         "j": [
          1,
          2
         ],
         "k": [
          2,
          3
         ],
         "opacity": 0.5,
         "type": "mesh3d",
         "x": [
          25.93,
          25.8,
          25.8,
          25.93
         ],
         "y": [
          96.94,
          96.84,
          96.84,
          96.94
         ],
         "z": [
          0,
          0,
          10,
          10
         ]
        },
        {
         "color": "red",
         "i": [
          0,
          0
         ],
         "j": [
          1,
          2
         ],
         "k": [
          2,
          3
         ],
         "opacity": 0.5,
         "type": "mesh3d",
         "x": [
          25.8,
          25.69,
          25.69,
          25.8
         ],
         "y": [
          96.84,
          97.01,
          97.01,
          96.84
         ],
         "z": [
          0,
          0,
          10,
          10
         ]
        },
        {
         "color": "red",
         "i": [
          0,
          0
         ],
         "j": [
          1,
          2
         ],
         "k": [
          2,
          3
         ],
         "opacity": 0.5,
         "type": "mesh3d",
         "x": [
          25.69,
          25.11,
          25.11,
          25.69
         ],
         "y": [
          97.01,
          96.65,
          96.65,
          97.01
         ],
         "z": [
          0,
          0,
          10,
          10
         ]
        },
        {
         "color": "red",
         "i": [
          0,
          0
         ],
         "j": [
          1,
          2
         ],
         "k": [
          2,
          3
         ],
         "opacity": 0.5,
         "type": "mesh3d",
         "x": [
          25.11,
          25.81,
          25.81,
          25.11
         ],
         "y": [
          96.65,
          95.4,
          95.4,
          96.65
         ],
         "z": [
          0,
          0,
          10,
          10
         ]
        },
        {
         "color": "red",
         "i": [
          0,
          0
         ],
         "j": [
          1,
          2
         ],
         "k": [
          2,
          3
         ],
         "opacity": 0.5,
         "type": "mesh3d",
         "x": [
          25.81,
          25.81,
          25.81,
          25.81
         ],
         "y": [
          95.4,
          95.4,
          95.4,
          95.4
         ],
         "z": [
          0,
          0,
          10,
          10
         ]
        },
        {
         "line": {
          "color": "black",
          "width": 3
         },
         "mode": "lines",
         "type": "scatter3d",
         "x": [
          25.81,
          26.29,
          26.01,
          26.25,
          25.93,
          25.8,
          25.69,
          25.11,
          25.81,
          25.81
         ],
         "y": [
          95.4,
          95.7,
          96.2,
          96.37,
          96.94,
          96.84,
          97.01,
          96.65,
          95.4,
          95.4
         ],
         "z": [
          10,
          10,
          10,
          10,
          10,
          10,
          10,
          10,
          10,
          10
         ]
        },
        {
         "line": {
          "color": "black",
          "width": 3
         },
         "mode": "lines",
         "type": "scatter3d",
         "x": [
          25.81,
          26.29,
          26.01,
          26.25,
          25.93,
          25.8,
          25.69,
          25.11,
          25.81,
          25.81
         ],
         "y": [
          95.4,
          95.7,
          96.2,
          96.37,
          96.94,
          96.84,
          97.01,
          96.65,
          95.4,
          95.4
         ],
         "z": [
          0,
          0,
          0,
          0,
          0,
          0,
          0,
          0,
          0,
          0
         ]
        },
        {
         "line": {
          "color": "black",
          "width": 3
         },
         "mode": "lines",
         "type": "scatter3d",
         "x": [
          25.81,
          25.81,
          26.29,
          26.29,
          25.81
         ],
         "y": [
          95.4,
          95.4,
          95.7,
          95.7,
          95.4
         ],
         "z": [
          0,
          10,
          10,
          0,
          0
         ]
        },
        {
         "line": {
          "color": "black",
          "width": 3
         },
         "mode": "lines",
         "type": "scatter3d",
         "x": [
          26.29,
          26.29,
          26.01,
          26.01,
          26.29
         ],
         "y": [
          95.7,
          95.7,
          96.2,
          96.2,
          95.7
         ],
         "z": [
          0,
          10,
          10,
          0,
          0
         ]
        },
        {
         "line": {
          "color": "black",
          "width": 3
         },
         "mode": "lines",
         "type": "scatter3d",
         "x": [
          26.01,
          26.01,
          26.25,
          26.25,
          26.01
         ],
         "y": [
          96.2,
          96.2,
          96.37,
          96.37,
          96.2
         ],
         "z": [
          0,
          10,
          10,
          0,
          0
         ]
        },
        {
         "line": {
          "color": "black",
          "width": 3
         },
         "mode": "lines",
         "type": "scatter3d",
         "x": [
          26.25,
          26.25,
          25.93,
          25.93,
          26.25
         ],
         "y": [
          96.37,
          96.37,
          96.94,
          96.94,
          96.37
         ],
         "z": [
          0,
          10,
          10,
          0,
          0
         ]
        },
        {
         "line": {
          "color": "black",
          "width": 3
         },
         "mode": "lines",
         "type": "scatter3d",
         "x": [
          25.93,
          25.93,
          25.8,
          25.8,
          25.93
         ],
         "y": [
          96.94,
          96.94,
          96.84,
          96.84,
          96.94
         ],
         "z": [
          0,
          10,
          10,
          0,
          0
         ]
        },
        {
         "line": {
          "color": "black",
          "width": 3
         },
         "mode": "lines",
         "type": "scatter3d",
         "x": [
          25.8,
          25.8,
          25.69,
          25.69,
          25.8
         ],
         "y": [
          96.84,
          96.84,
          97.01,
          97.01,
          96.84
         ],
         "z": [
          0,
          10,
          10,
          0,
          0
         ]
        },
        {
         "line": {
          "color": "black",
          "width": 3
         },
         "mode": "lines",
         "type": "scatter3d",
         "x": [
          25.69,
          25.69,
          25.11,
          25.11,
          25.69
         ],
         "y": [
          97.01,
          97.01,
          96.65,
          96.65,
          97.01
         ],
         "z": [
          0,
          10,
          10,
          0,
          0
         ]
        },
        {
         "line": {
          "color": "black",
          "width": 3
         },
         "mode": "lines",
         "type": "scatter3d",
         "x": [
          25.11,
          25.11,
          25.81,
          25.81,
          25.11
         ],
         "y": [
          96.65,
          96.65,
          95.4,
          95.4,
          96.65
         ],
         "z": [
          0,
          10,
          10,
          0,
          0
         ]
        },
        {
         "line": {
          "color": "black",
          "width": 3
         },
         "mode": "lines",
         "type": "scatter3d",
         "x": [
          25.81,
          25.81,
          25.81,
          25.81,
          25.81
         ],
         "y": [
          95.4,
          95.4,
          95.4,
          95.4,
          95.4
         ],
         "z": [
          0,
          10,
          10,
          0,
          0
         ]
        },
        {
         "color": "red",
         "i": [
          0,
          0
         ],
         "j": [
          1,
          2
         ],
         "k": [
          2,
          3
         ],
         "opacity": 0.5,
         "type": "mesh3d",
         "x": [
          23.9,
          24.91,
          24.91,
          23.9
         ],
         "y": [
          94.15,
          94.81,
          94.81,
          94.15
         ],
         "z": [
          0,
          0,
          3,
          3
         ]
        },
        {
         "color": "red",
         "i": [
          0,
          0
         ],
         "j": [
          1,
          2
         ],
         "k": [
          2,
          3
         ],
         "opacity": 0.5,
         "type": "mesh3d",
         "x": [
          24.91,
          24.48,
          24.48,
          24.91
         ],
         "y": [
          94.81,
          95.57,
          95.57,
          94.81
         ],
         "z": [
          0,
          0,
          3,
          3
         ]
        },
        {
         "color": "red",
         "i": [
          0,
          0
         ],
         "j": [
          1,
          2
         ],
         "k": [
          2,
          3
         ],
         "opacity": 0.5,
         "type": "mesh3d",
         "x": [
          24.48,
          23.48,
          23.48,
          24.48
         ],
         "y": [
          95.57,
          94.95,
          94.95,
          95.57
         ],
         "z": [
          0,
          0,
          3,
          3
         ]
        },
        {
         "color": "red",
         "i": [
          0,
          0
         ],
         "j": [
          1,
          2
         ],
         "k": [
          2,
          3
         ],
         "opacity": 0.5,
         "type": "mesh3d",
         "x": [
          23.48,
          23.9,
          23.9,
          23.48
         ],
         "y": [
          94.95,
          94.15,
          94.15,
          94.95
         ],
         "z": [
          0,
          0,
          3,
          3
         ]
        },
        {
         "color": "red",
         "i": [
          0,
          0
         ],
         "j": [
          1,
          2
         ],
         "k": [
          2,
          3
         ],
         "opacity": 0.5,
         "type": "mesh3d",
         "x": [
          23.9,
          23.9,
          23.9,
          23.9
         ],
         "y": [
          94.15,
          94.15,
          94.15,
          94.15
         ],
         "z": [
          0,
          0,
          3,
          3
         ]
        },
        {
         "line": {
          "color": "black",
          "width": 3
         },
         "mode": "lines",
         "type": "scatter3d",
         "x": [
          23.9,
          24.91,
          24.48,
          23.48,
          23.9,
          23.9
         ],
         "y": [
          94.15,
          94.81,
          95.57,
          94.95,
          94.15,
          94.15
         ],
         "z": [
          3,
          3,
          3,
          3,
          3,
          3
         ]
        },
        {
         "line": {
          "color": "black",
          "width": 3
         },
         "mode": "lines",
         "type": "scatter3d",
         "x": [
          23.9,
          24.91,
          24.48,
          23.48,
          23.9,
          23.9
         ],
         "y": [
          94.15,
          94.81,
          95.57,
          94.95,
          94.15,
          94.15
         ],
         "z": [
          0,
          0,
          0,
          0,
          0,
          0
         ]
        },
        {
         "line": {
          "color": "black",
          "width": 3
         },
         "mode": "lines",
         "type": "scatter3d",
         "x": [
          23.9,
          23.9,
          24.91,
          24.91,
          23.9
         ],
         "y": [
          94.15,
          94.15,
          94.81,
          94.81,
          94.15
         ],
         "z": [
          0,
          3,
          3,
          0,
          0
         ]
        },
        {
         "line": {
          "color": "black",
          "width": 3
         },
         "mode": "lines",
         "type": "scatter3d",
         "x": [
          24.91,
          24.91,
          24.48,
          24.48,
          24.91
         ],
         "y": [
          94.81,
          94.81,
          95.57,
          95.57,
          94.81
         ],
         "z": [
          0,
          3,
          3,
          0,
          0
         ]
        },
        {
         "line": {
          "color": "black",
          "width": 3
         },
         "mode": "lines",
         "type": "scatter3d",
         "x": [
          24.48,
          24.48,
          23.48,
          23.48,
          24.48
         ],
         "y": [
          95.57,
          95.57,
          94.95,
          94.95,
          95.57
         ],
         "z": [
          0,
          3,
          3,
          0,
          0
         ]
        },
        {
         "line": {
          "color": "black",
          "width": 3
         },
         "mode": "lines",
         "type": "scatter3d",
         "x": [
          23.48,
          23.48,
          23.9,
          23.9,
          23.48
         ],
         "y": [
          94.95,
          94.95,
          94.15,
          94.15,
          94.95
         ],
         "z": [
          0,
          3,
          3,
          0,
          0
         ]
        },
        {
         "line": {
          "color": "black",
          "width": 3
         },
         "mode": "lines",
         "type": "scatter3d",
         "x": [
          23.9,
          23.9,
          23.9,
          23.9,
          23.9
         ],
         "y": [
          94.15,
          94.15,
          94.15,
          94.15,
          94.15
         ],
         "z": [
          0,
          3,
          3,
          0,
          0
         ]
        },
        {
         "color": "red",
         "i": [
          0,
          0
         ],
         "j": [
          1,
          2
         ],
         "k": [
          2,
          3
         ],
         "opacity": 0.5,
         "type": "mesh3d",
         "x": [
          23.71,
          23.91,
          23.91,
          23.71
         ],
         "y": [
          98.67,
          98.26,
          98.26,
          98.67
         ],
         "z": [
          0,
          0,
          10,
          10
         ]
        },
        {
         "color": "red",
         "i": [
          0,
          0
         ],
         "j": [
          1,
          2
         ],
         "k": [
          2,
          3
         ],
         "opacity": 0.5,
         "type": "mesh3d",
         "x": [
          23.91,
          24.41,
          24.41,
          23.91
         ],
         "y": [
          98.26,
          98.67,
          98.67,
          98.26
         ],
         "z": [
          0,
          0,
          10,
          10
         ]
        },
        {
         "color": "red",
         "i": [
          0,
          0
         ],
         "j": [
          1,
          2
         ],
         "k": [
          2,
          3
         ],
         "opacity": 0.5,
         "type": "mesh3d",
         "x": [
          24.41,
          23.71,
          23.71,
          24.41
         ],
         "y": [
          98.67,
          98.67,
          98.67,
          98.67
         ],
         "z": [
          0,
          0,
          10,
          10
         ]
        },
        {
         "color": "red",
         "i": [
          0,
          0
         ],
         "j": [
          1,
          2
         ],
         "k": [
          2,
          3
         ],
         "opacity": 0.5,
         "type": "mesh3d",
         "x": [
          23.71,
          23.71,
          23.71,
          23.71
         ],
         "y": [
          98.67,
          98.67,
          98.67,
          98.67
         ],
         "z": [
          0,
          0,
          10,
          10
         ]
        },
        {
         "line": {
          "color": "black",
          "width": 3
         },
         "mode": "lines",
         "type": "scatter3d",
         "x": [
          23.71,
          23.91,
          24.41,
          23.71,
          23.71
         ],
         "y": [
          98.67,
          98.26,
          98.67,
          98.67,
          98.67
         ],
         "z": [
          10,
          10,
          10,
          10,
          10
         ]
        },
        {
         "line": {
          "color": "black",
          "width": 3
         },
         "mode": "lines",
         "type": "scatter3d",
         "x": [
          23.71,
          23.91,
          24.41,
          23.71,
          23.71
         ],
         "y": [
          98.67,
          98.26,
          98.67,
          98.67,
          98.67
         ],
         "z": [
          0,
          0,
          0,
          0,
          0
         ]
        },
        {
         "line": {
          "color": "black",
          "width": 3
         },
         "mode": "lines",
         "type": "scatter3d",
         "x": [
          23.71,
          23.71,
          23.91,
          23.91,
          23.71
         ],
         "y": [
          98.67,
          98.67,
          98.26,
          98.26,
          98.67
         ],
         "z": [
          0,
          10,
          10,
          0,
          0
         ]
        },
        {
         "line": {
          "color": "black",
          "width": 3
         },
         "mode": "lines",
         "type": "scatter3d",
         "x": [
          23.91,
          23.91,
          24.41,
          24.41,
          23.91
         ],
         "y": [
          98.26,
          98.26,
          98.67,
          98.67,
          98.26
         ],
         "z": [
          0,
          10,
          10,
          0,
          0
         ]
        },
        {
         "line": {
          "color": "black",
          "width": 3
         },
         "mode": "lines",
         "type": "scatter3d",
         "x": [
          24.41,
          24.41,
          23.71,
          23.71,
          24.41
         ],
         "y": [
          98.67,
          98.67,
          98.67,
          98.67,
          98.67
         ],
         "z": [
          0,
          10,
          10,
          0,
          0
         ]
        },
        {
         "line": {
          "color": "black",
          "width": 3
         },
         "mode": "lines",
         "type": "scatter3d",
         "x": [
          23.71,
          23.71,
          23.71,
          23.71,
          23.71
         ],
         "y": [
          98.67,
          98.67,
          98.67,
          98.67,
          98.67
         ],
         "z": [
          0,
          10,
          10,
          0,
          0
         ]
        },
        {
         "color": "red",
         "i": [
          0,
          0
         ],
         "j": [
          1,
          2
         ],
         "k": [
          2,
          3
         ],
         "opacity": 0.5,
         "type": "mesh3d",
         "x": [
          31.81,
          32.51,
          32.51,
          31.81
         ],
         "y": [
          90.35,
          90.85,
          90.85,
          90.35
         ],
         "z": [
          0,
          0,
          10,
          10
         ]
        },
        {
         "color": "red",
         "i": [
          0,
          0
         ],
         "j": [
          1,
          2
         ],
         "k": [
          2,
          3
         ],
         "opacity": 0.5,
         "type": "mesh3d",
         "x": [
          32.51,
          32.21,
          32.21,
          32.51
         ],
         "y": [
          90.85,
          91.55,
          91.55,
          90.85
         ],
         "z": [
          0,
          0,
          10,
          10
         ]
        },
        {
         "color": "red",
         "i": [
          0,
          0
         ],
         "j": [
          1,
          2
         ],
         "k": [
          2,
          3
         ],
         "opacity": 0.5,
         "type": "mesh3d",
         "x": [
          32.21,
          32.03,
          32.03,
          32.21
         ],
         "y": [
          91.55,
          91.85,
          91.85,
          91.55
         ],
         "z": [
          0,
          0,
          10,
          10
         ]
        },
        {
         "color": "red",
         "i": [
          0,
          0
         ],
         "j": [
          1,
          2
         ],
         "k": [
          2,
          3
         ],
         "opacity": 0.5,
         "type": "mesh3d",
         "x": [
          32.03,
          34.31,
          34.31,
          32.03
         ],
         "y": [
          91.85,
          93.45,
          93.45,
          91.85
         ],
         "z": [
          0,
          0,
          10,
          10
         ]
        },
        {
         "color": "red",
         "i": [
          0,
          0
         ],
         "j": [
          1,
          2
         ],
         "k": [
          2,
          3
         ],
         "opacity": 0.5,
         "type": "mesh3d",
         "x": [
          34.31,
          32.69,
          32.69,
          34.31
         ],
         "y": [
          93.45,
          96.27,
          96.27,
          93.45
         ],
         "z": [
          0,
          0,
          10,
          10
         ]
        },
        {
         "color": "red",
         "i": [
          0,
          0
         ],
         "j": [
          1,
          2
         ],
         "k": [
          2,
          3
         ],
         "opacity": 0.5,
         "type": "mesh3d",
         "x": [
          32.69,
          30.99,
          30.99,
          32.69
         ],
         "y": [
          96.27,
          95.15,
          95.15,
          96.27
         ],
         "z": [
          0,
          0,
          10,
          10
         ]
        },
        {
         "color": "red",
         "i": [
          0,
          0
         ],
         "j": [
          1,
          2
         ],
         "k": [
          2,
          3
         ],
         "opacity": 0.5,
         "type": "mesh3d",
         "x": [
          30.99,
          32.21,
          32.21,
          30.99
         ],
         "y": [
          95.15,
          92.93,
          92.93,
          95.15
         ],
         "z": [
          0,
          0,
          10,
          10
         ]
        },
        {
         "color": "red",
         "i": [
          0,
          0
         ],
         "j": [
          1,
          2
         ],
         "k": [
          2,
          3
         ],
         "opacity": 0.5,
         "type": "mesh3d",
         "x": [
          32.21,
          30.89,
          30.89,
          32.21
         ],
         "y": [
          92.93,
          91.97,
          91.97,
          92.93
         ],
         "z": [
          0,
          0,
          10,
          10
         ]
        },
        {
         "color": "red",
         "i": [
          0,
          0
         ],
         "j": [
          1,
          2
         ],
         "k": [
          2,
          3
         ],
         "opacity": 0.5,
         "type": "mesh3d",
         "x": [
          30.89,
          31.81,
          31.81,
          30.89
         ],
         "y": [
          91.97,
          90.35,
          90.35,
          91.97
         ],
         "z": [
          0,
          0,
          10,
          10
         ]
        },
        {
         "color": "red",
         "i": [
          0,
          0
         ],
         "j": [
          1,
          2
         ],
         "k": [
          2,
          3
         ],
         "opacity": 0.5,
         "type": "mesh3d",
         "x": [
          31.81,
          31.81,
          31.81,
          31.81
         ],
         "y": [
          90.35,
          90.35,
          90.35,
          90.35
         ],
         "z": [
          0,
          0,
          10,
          10
         ]
        },
        {
         "line": {
          "color": "black",
          "width": 3
         },
         "mode": "lines",
         "type": "scatter3d",
         "x": [
          31.81,
          32.51,
          32.21,
          32.03,
          34.31,
          32.69,
          30.99,
          32.21,
          30.89,
          31.81,
          31.81
         ],
         "y": [
          90.35,
          90.85,
          91.55,
          91.85,
          93.45,
          96.27,
          95.15,
          92.93,
          91.97,
          90.35,
          90.35
         ],
         "z": [
          10,
          10,
          10,
          10,
          10,
          10,
          10,
          10,
          10,
          10,
          10
         ]
        },
        {
         "line": {
          "color": "black",
          "width": 3
         },
         "mode": "lines",
         "type": "scatter3d",
         "x": [
          31.81,
          32.51,
          32.21,
          32.03,
          34.31,
          32.69,
          30.99,
          32.21,
          30.89,
          31.81,
          31.81
         ],
         "y": [
          90.35,
          90.85,
          91.55,
          91.85,
          93.45,
          96.27,
          95.15,
          92.93,
          91.97,
          90.35,
          90.35
         ],
         "z": [
          0,
          0,
          0,
          0,
          0,
          0,
          0,
          0,
          0,
          0,
          0
         ]
        },
        {
         "line": {
          "color": "black",
          "width": 3
         },
         "mode": "lines",
         "type": "scatter3d",
         "x": [
          31.81,
          31.81,
          32.51,
          32.51,
          31.81
         ],
         "y": [
          90.35,
          90.35,
          90.85,
          90.85,
          90.35
         ],
         "z": [
          0,
          10,
          10,
          0,
          0
         ]
        },
        {
         "line": {
          "color": "black",
          "width": 3
         },
         "mode": "lines",
         "type": "scatter3d",
         "x": [
          32.51,
          32.51,
          32.21,
          32.21,
          32.51
         ],
         "y": [
          90.85,
          90.85,
          91.55,
          91.55,
          90.85
         ],
         "z": [
          0,
          10,
          10,
          0,
          0
         ]
        },
        {
         "line": {
          "color": "black",
          "width": 3
         },
         "mode": "lines",
         "type": "scatter3d",
         "x": [
          32.21,
          32.21,
          32.03,
          32.03,
          32.21
         ],
         "y": [
          91.55,
          91.55,
          91.85,
          91.85,
          91.55
         ],
         "z": [
          0,
          10,
          10,
          0,
          0
         ]
        },
        {
         "line": {
          "color": "black",
          "width": 3
         },
         "mode": "lines",
         "type": "scatter3d",
         "x": [
          32.03,
          32.03,
          34.31,
          34.31,
          32.03
         ],
         "y": [
          91.85,
          91.85,
          93.45,
          93.45,
          91.85
         ],
         "z": [
          0,
          10,
          10,
          0,
          0
         ]
        },
        {
         "line": {
          "color": "black",
          "width": 3
         },
         "mode": "lines",
         "type": "scatter3d",
         "x": [
          34.31,
          34.31,
          32.69,
          32.69,
          34.31
         ],
         "y": [
          93.45,
          93.45,
          96.27,
          96.27,
          93.45
         ],
         "z": [
          0,
          10,
          10,
          0,
          0
         ]
        },
        {
         "line": {
          "color": "black",
          "width": 3
         },
         "mode": "lines",
         "type": "scatter3d",
         "x": [
          32.69,
          32.69,
          30.99,
          30.99,
          32.69
         ],
         "y": [
          96.27,
          96.27,
          95.15,
          95.15,
          96.27
         ],
         "z": [
          0,
          10,
          10,
          0,
          0
         ]
        },
        {
         "line": {
          "color": "black",
          "width": 3
         },
         "mode": "lines",
         "type": "scatter3d",
         "x": [
          30.99,
          30.99,
          32.21,
          32.21,
          30.99
         ],
         "y": [
          95.15,
          95.15,
          92.93,
          92.93,
          95.15
         ],
         "z": [
          0,
          10,
          10,
          0,
          0
         ]
        },
        {
         "line": {
          "color": "black",
          "width": 3
         },
         "mode": "lines",
         "type": "scatter3d",
         "x": [
          32.21,
          32.21,
          30.89,
          30.89,
          32.21
         ],
         "y": [
          92.93,
          92.93,
          91.97,
          91.97,
          92.93
         ],
         "z": [
          0,
          10,
          10,
          0,
          0
         ]
        },
        {
         "line": {
          "color": "black",
          "width": 3
         },
         "mode": "lines",
         "type": "scatter3d",
         "x": [
          30.89,
          30.89,
          31.81,
          31.81,
          30.89
         ],
         "y": [
          91.97,
          91.97,
          90.35,
          90.35,
          91.97
         ],
         "z": [
          0,
          10,
          10,
          0,
          0
         ]
        },
        {
         "line": {
          "color": "black",
          "width": 3
         },
         "mode": "lines",
         "type": "scatter3d",
         "x": [
          31.81,
          31.81,
          31.81,
          31.81,
          31.81
         ],
         "y": [
          90.35,
          90.35,
          90.35,
          90.35,
          90.35
         ],
         "z": [
          0,
          10,
          10,
          0,
          0
         ]
        },
        {
         "color": "red",
         "i": [
          0,
          0
         ],
         "j": [
          1,
          2
         ],
         "k": [
          2,
          3
         ],
         "opacity": 0.5,
         "type": "mesh3d",
         "x": [
          30.21,
          31.85,
          31.85,
          30.21
         ],
         "y": [
          96,
          97.11,
          97.11,
          96
         ],
         "z": [
          0,
          0,
          10,
          10
         ]
        },
        {
         "color": "red",
         "i": [
          0,
          0
         ],
         "j": [
          1,
          2
         ],
         "k": [
          2,
          3
         ],
         "opacity": 0.5,
         "type": "mesh3d",
         "x": [
          31.85,
          31.02,
          31.02,
          31.85
         ],
         "y": [
          97.11,
          98.55,
          98.55,
          97.11
         ],
         "z": [
          0,
          0,
          10,
          10
         ]
        },
        {
         "color": "red",
         "i": [
          0,
          0
         ],
         "j": [
          1,
          2
         ],
         "k": [
          2,
          3
         ],
         "opacity": 0.5,
         "type": "mesh3d",
         "x": [
          31.02,
          30.5,
          30.5,
          31.02
         ],
         "y": [
          98.55,
          98.26,
          98.26,
          98.55
         ],
         "z": [
          0,
          0,
          10,
          10
         ]
        },
        {
         "color": "red",
         "i": [
          0,
          0
         ],
         "j": [
          1,
          2
         ],
         "k": [
          2,
          3
         ],
         "opacity": 0.5,
         "type": "mesh3d",
         "x": [
          30.5,
          30.31,
          30.31,
          30.5
         ],
         "y": [
          98.26,
          98.53,
          98.53,
          98.26
         ],
         "z": [
          0,
          0,
          10,
          10
         ]
        },
        {
         "color": "red",
         "i": [
          0,
          0
         ],
         "j": [
          1,
          2
         ],
         "k": [
          2,
          3
         ],
         "opacity": 0.5,
         "type": "mesh3d",
         "x": [
          30.31,
          30.51,
          30.51,
          30.31
         ],
         "y": [
          98.53,
          98.67,
          98.67,
          98.53
         ],
         "z": [
          0,
          0,
          10,
          10
         ]
        },
        {
         "color": "red",
         "i": [
          0,
          0
         ],
         "j": [
          1,
          2
         ],
         "k": [
          2,
          3
         ],
         "opacity": 0.5,
         "type": "mesh3d",
         "x": [
          30.51,
          27.81,
          27.81,
          30.51
         ],
         "y": [
          98.67,
          98.67,
          98.67,
          98.67
         ],
         "z": [
          0,
          0,
          10,
          10
         ]
        },
        {
         "color": "red",
         "i": [
          0,
          0
         ],
         "j": [
          1,
          2
         ],
         "k": [
          2,
          3
         ],
         "opacity": 0.5,
         "type": "mesh3d",
         "x": [
          27.81,
          27.21,
          27.21,
          27.81
         ],
         "y": [
          98.67,
          98.28,
          98.28,
          98.67
         ],
         "z": [
          0,
          0,
          10,
          10
         ]
        },
        {
         "color": "red",
         "i": [
          0,
          0
         ],
         "j": [
          1,
          2
         ],
         "k": [
          2,
          3
         ],
         "opacity": 0.5,
         "type": "mesh3d",
         "x": [
          27.21,
          27.73,
          27.73,
          27.21
         ],
         "y": [
          98.28,
          97.43,
          97.43,
          98.28
         ],
         "z": [
          0,
          0,
          10,
          10
         ]
        },
        {
         "color": "red",
         "i": [
          0,
          0
         ],
         "j": [
          1,
          2
         ],
         "k": [
          2,
          3
         ],
         "opacity": 0.5,
         "type": "mesh3d",
         "x": [
          27.73,
          28.95,
          28.95,
          27.73
         ],
         "y": [
          97.43,
          98.25,
          98.25,
          97.43
         ],
         "z": [
          0,
          0,
          10,
          10
         ]
        },
        {
         "color": "red",
         "i": [
          0,
          0
         ],
         "j": [
          1,
          2
         ],
         "k": [
          2,
          3
         ],
         "opacity": 0.5,
         "type": "mesh3d",
         "x": [
          28.95,
          30.21,
          30.21,
          28.95
         ],
         "y": [
          98.25,
          96,
          96,
          98.25
         ],
         "z": [
          0,
          0,
          10,
          10
         ]
        },
        {
         "color": "red",
         "i": [
          0,
          0
         ],
         "j": [
          1,
          2
         ],
         "k": [
          2,
          3
         ],
         "opacity": 0.5,
         "type": "mesh3d",
         "x": [
          30.21,
          30.21,
          30.21,
          30.21
         ],
         "y": [
          96,
          96,
          96,
          96
         ],
         "z": [
          0,
          0,
          10,
          10
         ]
        },
        {
         "line": {
          "color": "black",
          "width": 3
         },
         "mode": "lines",
         "type": "scatter3d",
         "x": [
          30.21,
          31.85,
          31.02,
          30.5,
          30.31,
          30.51,
          27.81,
          27.21,
          27.73,
          28.95,
          30.21,
          30.21
         ],
         "y": [
          96,
          97.11,
          98.55,
          98.26,
          98.53,
          98.67,
          98.67,
          98.28,
          97.43,
          98.25,
          96,
          96
         ],
         "z": [
          10,
          10,
          10,
          10,
          10,
          10,
          10,
          10,
          10,
          10,
          10,
          10
         ]
        },
        {
         "line": {
          "color": "black",
          "width": 3
         },
         "mode": "lines",
         "type": "scatter3d",
         "x": [
          30.21,
          31.85,
          31.02,
          30.5,
          30.31,
          30.51,
          27.81,
          27.21,
          27.73,
          28.95,
          30.21,
          30.21
         ],
         "y": [
          96,
          97.11,
          98.55,
          98.26,
          98.53,
          98.67,
          98.67,
          98.28,
          97.43,
          98.25,
          96,
          96
         ],
         "z": [
          0,
          0,
          0,
          0,
          0,
          0,
          0,
          0,
          0,
          0,
          0,
          0
         ]
        },
        {
         "line": {
          "color": "black",
          "width": 3
         },
         "mode": "lines",
         "type": "scatter3d",
         "x": [
          30.21,
          30.21,
          31.85,
          31.85,
          30.21
         ],
         "y": [
          96,
          96,
          97.11,
          97.11,
          96
         ],
         "z": [
          0,
          10,
          10,
          0,
          0
         ]
        },
        {
         "line": {
          "color": "black",
          "width": 3
         },
         "mode": "lines",
         "type": "scatter3d",
         "x": [
          31.85,
          31.85,
          31.02,
          31.02,
          31.85
         ],
         "y": [
          97.11,
          97.11,
          98.55,
          98.55,
          97.11
         ],
         "z": [
          0,
          10,
          10,
          0,
          0
         ]
        },
        {
         "line": {
          "color": "black",
          "width": 3
         },
         "mode": "lines",
         "type": "scatter3d",
         "x": [
          31.02,
          31.02,
          30.5,
          30.5,
          31.02
         ],
         "y": [
          98.55,
          98.55,
          98.26,
          98.26,
          98.55
         ],
         "z": [
          0,
          10,
          10,
          0,
          0
         ]
        },
        {
         "line": {
          "color": "black",
          "width": 3
         },
         "mode": "lines",
         "type": "scatter3d",
         "x": [
          30.5,
          30.5,
          30.31,
          30.31,
          30.5
         ],
         "y": [
          98.26,
          98.26,
          98.53,
          98.53,
          98.26
         ],
         "z": [
          0,
          10,
          10,
          0,
          0
         ]
        },
        {
         "line": {
          "color": "black",
          "width": 3
         },
         "mode": "lines",
         "type": "scatter3d",
         "x": [
          30.31,
          30.31,
          30.51,
          30.51,
          30.31
         ],
         "y": [
          98.53,
          98.53,
          98.67,
          98.67,
          98.53
         ],
         "z": [
          0,
          10,
          10,
          0,
          0
         ]
        },
        {
         "line": {
          "color": "black",
          "width": 3
         },
         "mode": "lines",
         "type": "scatter3d",
         "x": [
          30.51,
          30.51,
          27.81,
          27.81,
          30.51
         ],
         "y": [
          98.67,
          98.67,
          98.67,
          98.67,
          98.67
         ],
         "z": [
          0,
          10,
          10,
          0,
          0
         ]
        },
        {
         "line": {
          "color": "black",
          "width": 3
         },
         "mode": "lines",
         "type": "scatter3d",
         "x": [
          27.81,
          27.81,
          27.21,
          27.21,
          27.81
         ],
         "y": [
          98.67,
          98.67,
          98.28,
          98.28,
          98.67
         ],
         "z": [
          0,
          10,
          10,
          0,
          0
         ]
        },
        {
         "line": {
          "color": "black",
          "width": 3
         },
         "mode": "lines",
         "type": "scatter3d",
         "x": [
          27.21,
          27.21,
          27.73,
          27.73,
          27.21
         ],
         "y": [
          98.28,
          98.28,
          97.43,
          97.43,
          98.28
         ],
         "z": [
          0,
          10,
          10,
          0,
          0
         ]
        },
        {
         "line": {
          "color": "black",
          "width": 3
         },
         "mode": "lines",
         "type": "scatter3d",
         "x": [
          27.73,
          27.73,
          28.95,
          28.95,
          27.73
         ],
         "y": [
          97.43,
          97.43,
          98.25,
          98.25,
          97.43
         ],
         "z": [
          0,
          10,
          10,
          0,
          0
         ]
        },
        {
         "line": {
          "color": "black",
          "width": 3
         },
         "mode": "lines",
         "type": "scatter3d",
         "x": [
          28.95,
          28.95,
          30.21,
          30.21,
          28.95
         ],
         "y": [
          98.25,
          98.25,
          96,
          96,
          98.25
         ],
         "z": [
          0,
          10,
          10,
          0,
          0
         ]
        },
        {
         "line": {
          "color": "black",
          "width": 3
         },
         "mode": "lines",
         "type": "scatter3d",
         "x": [
          30.21,
          30.21,
          30.21,
          30.21,
          30.21
         ],
         "y": [
          96,
          96,
          96,
          96,
          96
         ],
         "z": [
          0,
          10,
          10,
          0,
          0
         ]
        },
        {
         "marker": {
          "color": "blue",
          "size": 5
         },
         "mode": "markers",
         "type": "scatter3d",
         "x": [
          27.747125734960182,
          28.4259771822822,
          24.470242608783693,
          23.319807378900116,
          30.69768702630477,
          34.23204747057705,
          30.21401181045421,
          24.13772772451559,
          22.578210892111414,
          27.602100867877482,
          28.5640791647123,
          28.32722338301113,
          34.421311893668154,
          26.068993136270333,
          25.747848955125836,
          31.589363729663383,
          33.93643877183452,
          22.216670029560184,
          34.20959343997334,
          23.103989328524463,
          34.010292891107675,
          23.654218156095304,
          23.44680682163007,
          31.965543304970247,
          29.055772533311234,
          24.54397724315408,
          24.815475837631254,
          34.094171648116784,
          25.932736634420912,
          24.78909311035754,
          23.43807288673073,
          25.837015094211104,
          23.313034197054026,
          25.184478142483766,
          29.851405995522367,
          23.855648653289272,
          28.457006509641264,
          34.21685436985902,
          23.066511255757323,
          25.388712235427327,
          25.913093797237618,
          26.124550753608457,
          33.29107540190555,
          33.09093599323694,
          25.308681945812534,
          23.308749704270774,
          23.1348753707346,
          33.82264795025609,
          30.988501936463116,
          22.224897890240893
         ],
         "y": [
          94.17087378574267,
          94.45307295084595,
          93.68170629100726,
          96.72456714123255,
          88.87801703769983,
          98.30982452310329,
          94.741050840793,
          88.60330753162496,
          93.19141019370197,
          97.0596052534594,
          94.99378125493399,
          95.22023421591956,
          98.62596857772635,
          90.7971855144328,
          89.16768416550245,
          92.54208600626698,
          97.10950588315467,
          90.59331197853663,
          92.51167724617025,
          94.88302920303173,
          96.19717408367622,
          90.9680848376878,
          89.06211057805781,
          90.26587047018731,
          93.02268224806045,
          95.92995888460067,
          91.20730466688792,
          96.66086556149877,
          97.49332145229448,
          92.4794867908764,
          98.56066334855396,
          89.20013321562969,
          94.40554963727239,
          94.59512088140741,
          94.62984709022406,
          98.34749196435357,
          91.19687937428749,
          92.38248947770259,
          95.28853347549571,
          90.67938036697294,
          94.65478721833412,
          95.24262911794256,
          98.57642352713984,
          97.86719617561488,
          96.87140453394655,
          94.39572733477696,
          89.4633817422264,
          89.74629707922509,
          93.83729674500599,
          96.55621124418023
         ],
         "z": [
          0,
          0,
          0,
          0,
          0,
          0,
          0,
          0,
          0,
          0,
          0,
          0,
          0,
          0,
          0,
          0,
          0,
          0,
          0,
          0,
          0,
          0,
          0,
          0,
          0,
          0,
          0,
          0,
          0,
          0,
          0,
          0,
          0,
          0,
          0,
          0,
          0,
          0,
          0,
          0,
          0,
          0,
          0,
          0,
          0,
          0,
          0,
          0,
          0,
          0
         ]
        },
        {
         "marker": {
          "color": "orange",
          "size": 8
         },
         "mode": "markers",
         "type": "scatter3d",
         "x": [
          27.55470577587296
         ],
         "y": [
          93.92084405438013
         ],
         "z": [
          0
         ]
        },
        {
         "line": {
          "color": "gray",
          "width": 5
         },
         "mode": "lines",
         "type": "scatter3d",
         "x": [
          27.55470577587296,
          27.55470577587296,
          27.747125734960182,
          27.747125734960182,
          27.747125734960182,
          27.55470577587296,
          27.55470577587296,
          27.55470577587296,
          28.4259771822822,
          28.4259771822822,
          28.4259771822822,
          27.55470577587296,
          27.55470577587296,
          27.55470577587296,
          24.470242608783693,
          24.470242608783693,
          24.470242608783693,
          27.55470577587296,
          27.55470577587296,
          27.55470577587296,
          23.319807378900116,
          23.319807378900116,
          23.319807378900116,
          27.55470577587296,
          27.55470577587296,
          27.55470577587296,
          30.69768702630477,
          30.69768702630477,
          30.69768702630477,
          27.55470577587296,
          27.55470577587296,
          27.55470577587296,
          34.23204747057705,
          34.23204747057705,
          34.23204747057705,
          27.55470577587296,
          27.55470577587296,
          27.55470577587296,
          30.21401181045421,
          30.21401181045421,
          30.21401181045421,
          27.55470577587296,
          27.55470577587296,
          27.55470577587296,
          24.13772772451559,
          24.13772772451559,
          24.13772772451559,
          27.55470577587296,
          27.55470577587296,
          27.55470577587296,
          22.578210892111414,
          22.578210892111414,
          22.578210892111414,
          27.55470577587296,
          27.55470577587296,
          27.55470577587296,
          27.602100867877482,
          27.602100867877482,
          27.602100867877482,
          27.55470577587296,
          27.55470577587296,
          27.55470577587296,
          28.5640791647123,
          28.5640791647123,
          28.5640791647123,
          27.55470577587296,
          27.55470577587296,
          27.55470577587296,
          28.32722338301113,
          28.32722338301113,
          28.32722338301113,
          27.55470577587296,
          27.55470577587296,
          27.55470577587296,
          34.421311893668154,
          34.421311893668154,
          34.421311893668154,
          27.55470577587296,
          27.55470577587296,
          27.55470577587296,
          26.068993136270333,
          26.068993136270333,
          26.068993136270333,
          27.55470577587296,
          27.55470577587296,
          27.55470577587296,
          25.747848955125836,
          25.747848955125836,
          25.747848955125836,
          27.55470577587296,
          27.55470577587296,
          27.55470577587296,
          31.589363729663383,
          31.589363729663383,
          31.589363729663383,
          27.55470577587296,
          27.55470577587296,
          27.55470577587296,
          33.93643877183452,
          33.93643877183452,
          33.93643877183452,
          27.55470577587296,
          27.55470577587296,
          27.55470577587296,
          22.216670029560184,
          22.216670029560184,
          22.216670029560184,
          27.55470577587296,
          27.55470577587296,
          27.55470577587296,
          34.20959343997334,
          34.20959343997334,
          34.20959343997334,
          27.55470577587296,
          27.55470577587296,
          27.55470577587296,
          23.103989328524463,
          23.103989328524463,
          23.103989328524463,
          27.55470577587296,
          27.55470577587296,
          27.55470577587296,
          34.010292891107675,
          34.010292891107675,
          34.010292891107675,
          27.55470577587296,
          27.55470577587296,
          27.55470577587296,
          23.654218156095304,
          23.654218156095304,
          23.654218156095304,
          27.55470577587296,
          27.55470577587296,
          27.55470577587296,
          23.44680682163007,
          23.44680682163007,
          23.44680682163007,
          27.55470577587296,
          27.55470577587296,
          27.55470577587296,
          31.965543304970247,
          31.965543304970247,
          31.965543304970247,
          27.55470577587296,
          27.55470577587296,
          27.55470577587296,
          29.055772533311234,
          29.055772533311234,
          29.055772533311234,
          27.55470577587296,
          27.55470577587296,
          27.55470577587296,
          24.54397724315408,
          24.54397724315408,
          24.54397724315408,
          27.55470577587296,
          27.55470577587296,
          27.55470577587296,
          24.815475837631254,
          24.815475837631254,
          24.815475837631254,
          27.55470577587296,
          27.55470577587296,
          27.55470577587296,
          34.094171648116784,
          34.094171648116784,
          34.094171648116784,
          27.55470577587296,
          27.55470577587296,
          27.55470577587296,
          25.932736634420912,
          25.932736634420912,
          25.932736634420912,
          27.55470577587296,
          27.55470577587296,
          27.55470577587296,
          24.78909311035754,
          24.78909311035754,
          24.78909311035754,
          27.55470577587296,
          27.55470577587296,
          27.55470577587296,
          23.43807288673073,
          23.43807288673073,
          23.43807288673073,
          27.55470577587296,
          27.55470577587296,
          27.55470577587296,
          25.837015094211104,
          25.837015094211104,
          25.837015094211104,
          27.55470577587296,
          27.55470577587296,
          27.55470577587296,
          23.313034197054026,
          23.313034197054026,
          23.313034197054026,
          27.55470577587296,
          27.55470577587296,
          27.55470577587296,
          25.184478142483766,
          25.184478142483766,
          25.184478142483766,
          27.55470577587296,
          27.55470577587296,
          27.55470577587296,
          29.851405995522367,
          29.851405995522367,
          29.851405995522367,
          27.55470577587296,
          27.55470577587296,
          27.55470577587296,
          23.855648653289272,
          23.855648653289272,
          23.855648653289272,
          27.55470577587296,
          27.55470577587296,
          27.55470577587296,
          28.457006509641264,
          28.457006509641264,
          28.457006509641264,
          27.55470577587296,
          27.55470577587296,
          27.55470577587296,
          34.21685436985902,
          34.21685436985902,
          34.21685436985902,
          27.55470577587296,
          27.55470577587296,
          27.55470577587296,
          23.066511255757323,
          23.066511255757323,
          23.066511255757323,
          27.55470577587296,
          27.55470577587296,
          27.55470577587296,
          25.388712235427327,
          25.388712235427327,
          25.388712235427327,
          27.55470577587296,
          27.55470577587296,
          27.55470577587296,
          25.913093797237618,
          25.913093797237618,
          25.913093797237618,
          27.55470577587296,
          27.55470577587296,
          27.55470577587296,
          26.124550753608457,
          26.124550753608457,
          26.124550753608457,
          27.55470577587296,
          27.55470577587296,
          27.55470577587296,
          33.29107540190555,
          33.29107540190555,
          33.29107540190555,
          27.55470577587296,
          27.55470577587296,
          27.55470577587296,
          33.09093599323694,
          33.09093599323694,
          33.09093599323694,
          27.55470577587296,
          27.55470577587296,
          27.55470577587296,
          25.308681945812534,
          25.308681945812534,
          25.308681945812534,
          27.55470577587296,
          27.55470577587296,
          27.55470577587296,
          23.308749704270774,
          23.308749704270774,
          23.308749704270774,
          27.55470577587296,
          27.55470577587296,
          27.55470577587296,
          23.1348753707346,
          23.1348753707346,
          23.1348753707346,
          27.55470577587296,
          27.55470577587296,
          27.55470577587296,
          33.82264795025609,
          33.82264795025609,
          33.82264795025609,
          27.55470577587296,
          27.55470577587296,
          27.55470577587296,
          30.988501936463116,
          30.988501936463116,
          30.988501936463116,
          27.55470577587296,
          27.55470577587296,
          27.55470577587296,
          22.224897890240893,
          22.224897890240893,
          22.224897890240893,
          27.55470577587296,
          27.55470577587296
         ],
         "y": [
          93.92084405438013,
          93.92084405438013,
          94.17087378574267,
          94.17087378574267,
          94.17087378574267,
          93.92084405438013,
          93.92084405438013,
          93.92084405438013,
          94.45307295084595,
          94.45307295084595,
          94.45307295084595,
          93.92084405438013,
          93.92084405438013,
          93.92084405438013,
          93.68170629100726,
          93.68170629100726,
          93.68170629100726,
          93.92084405438013,
          93.92084405438013,
          93.92084405438013,
          96.72456714123255,
          96.72456714123255,
          96.72456714123255,
          93.92084405438013,
          93.92084405438013,
          93.92084405438013,
          88.87801703769983,
          88.87801703769983,
          88.87801703769983,
          93.92084405438013,
          93.92084405438013,
          93.92084405438013,
          98.30982452310329,
          98.30982452310329,
          98.30982452310329,
          93.92084405438013,
          93.92084405438013,
          93.92084405438013,
          94.741050840793,
          94.741050840793,
          94.741050840793,
          93.92084405438013,
          93.92084405438013,
          93.92084405438013,
          88.60330753162496,
          88.60330753162496,
          88.60330753162496,
          93.92084405438013,
          93.92084405438013,
          93.92084405438013,
          93.19141019370197,
          93.19141019370197,
          93.19141019370197,
          93.92084405438013,
          93.92084405438013,
          93.92084405438013,
          97.0596052534594,
          97.0596052534594,
          97.0596052534594,
          93.92084405438013,
          93.92084405438013,
          93.92084405438013,
          94.99378125493399,
          94.99378125493399,
          94.99378125493399,
          93.92084405438013,
          93.92084405438013,
          93.92084405438013,
          95.22023421591956,
          95.22023421591956,
          95.22023421591956,
          93.92084405438013,
          93.92084405438013,
          93.92084405438013,
          98.62596857772635,
          98.62596857772635,
          98.62596857772635,
          93.92084405438013,
          93.92084405438013,
          93.92084405438013,
          90.7971855144328,
          90.7971855144328,
          90.7971855144328,
          93.92084405438013,
          93.92084405438013,
          93.92084405438013,
          89.16768416550245,
          89.16768416550245,
          89.16768416550245,
          93.92084405438013,
          93.92084405438013,
          93.92084405438013,
          92.54208600626698,
          92.54208600626698,
          92.54208600626698,
          93.92084405438013,
          93.92084405438013,
          93.92084405438013,
          97.10950588315467,
          97.10950588315467,
          97.10950588315467,
          93.92084405438013,
          93.92084405438013,
          93.92084405438013,
          90.59331197853663,
          90.59331197853663,
          90.59331197853663,
          93.92084405438013,
          93.92084405438013,
          93.92084405438013,
          92.51167724617025,
          92.51167724617025,
          92.51167724617025,
          93.92084405438013,
          93.92084405438013,
          93.92084405438013,
          94.88302920303173,
          94.88302920303173,
          94.88302920303173,
          93.92084405438013,
          93.92084405438013,
          93.92084405438013,
          96.19717408367622,
          96.19717408367622,
          96.19717408367622,
          93.92084405438013,
          93.92084405438013,
          93.92084405438013,
          90.9680848376878,
          90.9680848376878,
          90.9680848376878,
          93.92084405438013,
          93.92084405438013,
          93.92084405438013,
          89.06211057805781,
          89.06211057805781,
          89.06211057805781,
          93.92084405438013,
          93.92084405438013,
          93.92084405438013,
          90.26587047018731,
          90.26587047018731,
          90.26587047018731,
          93.92084405438013,
          93.92084405438013,
          93.92084405438013,
          93.02268224806045,
          93.02268224806045,
          93.02268224806045,
          93.92084405438013,
          93.92084405438013,
          93.92084405438013,
          95.92995888460067,
          95.92995888460067,
          95.92995888460067,
          93.92084405438013,
          93.92084405438013,
          93.92084405438013,
          91.20730466688792,
          91.20730466688792,
          91.20730466688792,
          93.92084405438013,
          93.92084405438013,
          93.92084405438013,
          96.66086556149877,
          96.66086556149877,
          96.66086556149877,
          93.92084405438013,
          93.92084405438013,
          93.92084405438013,
          97.49332145229448,
          97.49332145229448,
          97.49332145229448,
          93.92084405438013,
          93.92084405438013,
          93.92084405438013,
          92.4794867908764,
          92.4794867908764,
          92.4794867908764,
          93.92084405438013,
          93.92084405438013,
          93.92084405438013,
          98.56066334855396,
          98.56066334855396,
          98.56066334855396,
          93.92084405438013,
          93.92084405438013,
          93.92084405438013,
          89.20013321562969,
          89.20013321562969,
          89.20013321562969,
          93.92084405438013,
          93.92084405438013,
          93.92084405438013,
          94.40554963727239,
          94.40554963727239,
          94.40554963727239,
          93.92084405438013,
          93.92084405438013,
          93.92084405438013,
          94.59512088140741,
          94.59512088140741,
          94.59512088140741,
          93.92084405438013,
          93.92084405438013,
          93.92084405438013,
          94.62984709022406,
          94.62984709022406,
          94.62984709022406,
          93.92084405438013,
          93.92084405438013,
          93.92084405438013,
          98.34749196435357,
          98.34749196435357,
          98.34749196435357,
          93.92084405438013,
          93.92084405438013,
          93.92084405438013,
          91.19687937428749,
          91.19687937428749,
          91.19687937428749,
          93.92084405438013,
          93.92084405438013,
          93.92084405438013,
          92.38248947770259,
          92.38248947770259,
          92.38248947770259,
          93.92084405438013,
          93.92084405438013,
          93.92084405438013,
          95.28853347549571,
          95.28853347549571,
          95.28853347549571,
          93.92084405438013,
          93.92084405438013,
          93.92084405438013,
          90.67938036697294,
          90.67938036697294,
          90.67938036697294,
          93.92084405438013,
          93.92084405438013,
          93.92084405438013,
          94.65478721833412,
          94.65478721833412,
          94.65478721833412,
          93.92084405438013,
          93.92084405438013,
          93.92084405438013,
          95.24262911794256,
          95.24262911794256,
          95.24262911794256,
          93.92084405438013,
          93.92084405438013,
          93.92084405438013,
          98.57642352713984,
          98.57642352713984,
          98.57642352713984,
          93.92084405438013,
          93.92084405438013,
          93.92084405438013,
          97.86719617561488,
          97.86719617561488,
          97.86719617561488,
          93.92084405438013,
          93.92084405438013,
          93.92084405438013,
          96.87140453394655,
          96.87140453394655,
          96.87140453394655,
          93.92084405438013,
          93.92084405438013,
          93.92084405438013,
          94.39572733477696,
          94.39572733477696,
          94.39572733477696,
          93.92084405438013,
          93.92084405438013,
          93.92084405438013,
          89.4633817422264,
          89.4633817422264,
          89.4633817422264,
          93.92084405438013,
          93.92084405438013,
          93.92084405438013,
          89.74629707922509,
          89.74629707922509,
          89.74629707922509,
          93.92084405438013,
          93.92084405438013,
          93.92084405438013,
          93.83729674500599,
          93.83729674500599,
          93.83729674500599,
          93.92084405438013,
          93.92084405438013,
          93.92084405438013,
          96.55621124418023,
          96.55621124418023,
          96.55621124418023,
          93.92084405438013,
          93.92084405438013
         ],
         "z": [
          0,
          9.5,
          9.5,
          0,
          9.5,
          9.5,
          0,
          9.5,
          9.5,
          0,
          9.5,
          9.5,
          0,
          9.5,
          9.5,
          0,
          9.5,
          9.5,
          0,
          9.5,
          9.5,
          0,
          9.5,
          9.5,
          0,
          9.5,
          9.5,
          0,
          9.5,
          9.5,
          0,
          9.5,
          9.5,
          0,
          9.5,
          9.5,
          0,
          9.5,
          9.5,
          0,
          9.5,
          9.5,
          0,
          9.5,
          9.5,
          0,
          9.5,
          9.5,
          0,
          9.5,
          9.5,
          0,
          9.5,
          9.5,
          0,
          9.5,
          9.5,
          0,
          9.5,
          9.5,
          0,
          9.5,
          9.5,
          0,
          9.5,
          9.5,
          0,
          9.5,
          9.5,
          0,
          9.5,
          9.5,
          0,
          9.5,
          9.5,
          0,
          9.5,
          9.5,
          0,
          9.5,
          9.5,
          0,
          9.5,
          9.5,
          0,
          9.5,
          9.5,
          0,
          9.5,
          9.5,
          0,
          9.5,
          9.5,
          0,
          9.5,
          9.5,
          0,
          9.5,
          9.5,
          0,
          9.5,
          9.5,
          0,
          9.5,
          9.5,
          0,
          9.5,
          9.5,
          0,
          9.5,
          9.5,
          0,
          9.5,
          9.5,
          0,
          9.5,
          9.5,
          0,
          9.5,
          9.5,
          0,
          9.5,
          9.5,
          0,
          9.5,
          9.5,
          0,
          9.5,
          9.5,
          0,
          9.5,
          9.5,
          0,
          9.5,
          9.5,
          0,
          9.5,
          9.5,
          0,
          9.5,
          9.5,
          0,
          9.5,
          9.5,
          0,
          9.5,
          9.5,
          0,
          9.5,
          9.5,
          0,
          9.5,
          9.5,
          0,
          9.5,
          9.5,
          0,
          9.5,
          9.5,
          0,
          9.5,
          9.5,
          0,
          9.5,
          9.5,
          0,
          9.5,
          9.5,
          0,
          9.5,
          9.5,
          0,
          9.5,
          9.5,
          0,
          9.5,
          9.5,
          0,
          9.5,
          9.5,
          0,
          9.5,
          9.5,
          0,
          9.5,
          9.5,
          0,
          9.5,
          9.5,
          0,
          9.5,
          9.5,
          0,
          9.5,
          9.5,
          0,
          9.5,
          9.5,
          0,
          9.5,
          9.5,
          0,
          9.5,
          9.5,
          0,
          9.5,
          9.5,
          0,
          9.5,
          9.5,
          0,
          9.5,
          9.5,
          0,
          9.5,
          9.5,
          0,
          9.5,
          9.5,
          0,
          9.5,
          9.5,
          0,
          9.5,
          9.5,
          0,
          9.5,
          9.5,
          0,
          9.5,
          9.5,
          0,
          9.5,
          9.5,
          0,
          9.5,
          9.5,
          0,
          9.5,
          9.5,
          0,
          9.5,
          9.5,
          0,
          9.5,
          9.5,
          0,
          9.5,
          9.5,
          0,
          9.5,
          9.5,
          0,
          9.5,
          9.5,
          0,
          9.5,
          9.5,
          0,
          9.5,
          9.5,
          0,
          9.5,
          9.5,
          0,
          9.5,
          9.5,
          0,
          9.5,
          9.5,
          0,
          9.5,
          9.5,
          0,
          9.5,
          9.5,
          0,
          9.5,
          9.5,
          0,
          9.5,
          9.5,
          0,
          9.5,
          9.5,
          0,
          9.5,
          9.5,
          0,
          9.5,
          9.5,
          0,
          9.5,
          9.5,
          0,
          9.5,
          9.5,
          0,
          9.5,
          9.5,
          0
         ]
        }
       ],
       "layout": {
        "height": 800,
        "scene": {
         "aspectmode": "cube",
         "xaxis": {
          "title": {
           "text": "X"
          }
         },
         "yaxis": {
          "title": {
           "text": "Y"
          }
         },
         "zaxis": {
          "title": {
           "text": "Height"
          }
         }
        },
        "template": {
         "data": {
          "bar": [
           {
            "error_x": {
             "color": "#2a3f5f"
            },
            "error_y": {
             "color": "#2a3f5f"
            },
            "marker": {
             "line": {
              "color": "#E5ECF6",
              "width": 0.5
             },
             "pattern": {
              "fillmode": "overlay",
              "size": 10,
              "solidity": 0.2
             }
            },
            "type": "bar"
           }
          ],
          "barpolar": [
           {
            "marker": {
             "line": {
              "color": "#E5ECF6",
              "width": 0.5
             },
             "pattern": {
              "fillmode": "overlay",
              "size": 10,
              "solidity": 0.2
             }
            },
            "type": "barpolar"
           }
          ],
          "carpet": [
           {
            "aaxis": {
             "endlinecolor": "#2a3f5f",
             "gridcolor": "white",
             "linecolor": "white",
             "minorgridcolor": "white",
             "startlinecolor": "#2a3f5f"
            },
            "baxis": {
             "endlinecolor": "#2a3f5f",
             "gridcolor": "white",
             "linecolor": "white",
             "minorgridcolor": "white",
             "startlinecolor": "#2a3f5f"
            },
            "type": "carpet"
           }
          ],
          "choropleth": [
           {
            "colorbar": {
             "outlinewidth": 0,
             "ticks": ""
            },
            "type": "choropleth"
           }
          ],
          "contour": [
           {
            "colorbar": {
             "outlinewidth": 0,
             "ticks": ""
            },
            "colorscale": [
             [
              0,
              "#0d0887"
             ],
             [
              0.1111111111111111,
              "#46039f"
             ],
             [
              0.2222222222222222,
              "#7201a8"
             ],
             [
              0.3333333333333333,
              "#9c179e"
             ],
             [
              0.4444444444444444,
              "#bd3786"
             ],
             [
              0.5555555555555556,
              "#d8576b"
             ],
             [
              0.6666666666666666,
              "#ed7953"
             ],
             [
              0.7777777777777778,
              "#fb9f3a"
             ],
             [
              0.8888888888888888,
              "#fdca26"
             ],
             [
              1,
              "#f0f921"
             ]
            ],
            "type": "contour"
           }
          ],
          "contourcarpet": [
           {
            "colorbar": {
             "outlinewidth": 0,
             "ticks": ""
            },
            "type": "contourcarpet"
           }
          ],
          "heatmap": [
           {
            "colorbar": {
             "outlinewidth": 0,
             "ticks": ""
            },
            "colorscale": [
             [
              0,
              "#0d0887"
             ],
             [
              0.1111111111111111,
              "#46039f"
             ],
             [
              0.2222222222222222,
              "#7201a8"
             ],
             [
              0.3333333333333333,
              "#9c179e"
             ],
             [
              0.4444444444444444,
              "#bd3786"
             ],
             [
              0.5555555555555556,
              "#d8576b"
             ],
             [
              0.6666666666666666,
              "#ed7953"
             ],
             [
              0.7777777777777778,
              "#fb9f3a"
             ],
             [
              0.8888888888888888,
              "#fdca26"
             ],
             [
              1,
              "#f0f921"
             ]
            ],
            "type": "heatmap"
           }
          ],
          "heatmapgl": [
           {
            "colorbar": {
             "outlinewidth": 0,
             "ticks": ""
            },
            "colorscale": [
             [
              0,
              "#0d0887"
             ],
             [
              0.1111111111111111,
              "#46039f"
             ],
             [
              0.2222222222222222,
              "#7201a8"
             ],
             [
              0.3333333333333333,
              "#9c179e"
             ],
             [
              0.4444444444444444,
              "#bd3786"
             ],
             [
              0.5555555555555556,
              "#d8576b"
             ],
             [
              0.6666666666666666,
              "#ed7953"
             ],
             [
              0.7777777777777778,
              "#fb9f3a"
             ],
             [
              0.8888888888888888,
              "#fdca26"
             ],
             [
              1,
              "#f0f921"
             ]
            ],
            "type": "heatmapgl"
           }
          ],
          "histogram": [
           {
            "marker": {
             "pattern": {
              "fillmode": "overlay",
              "size": 10,
              "solidity": 0.2
             }
            },
            "type": "histogram"
           }
          ],
          "histogram2d": [
           {
            "colorbar": {
             "outlinewidth": 0,
             "ticks": ""
            },
            "colorscale": [
             [
              0,
              "#0d0887"
             ],
             [
              0.1111111111111111,
              "#46039f"
             ],
             [
              0.2222222222222222,
              "#7201a8"
             ],
             [
              0.3333333333333333,
              "#9c179e"
             ],
             [
              0.4444444444444444,
              "#bd3786"
             ],
             [
              0.5555555555555556,
              "#d8576b"
             ],
             [
              0.6666666666666666,
              "#ed7953"
             ],
             [
              0.7777777777777778,
              "#fb9f3a"
             ],
             [
              0.8888888888888888,
              "#fdca26"
             ],
             [
              1,
              "#f0f921"
             ]
            ],
            "type": "histogram2d"
           }
          ],
          "histogram2dcontour": [
           {
            "colorbar": {
             "outlinewidth": 0,
             "ticks": ""
            },
            "colorscale": [
             [
              0,
              "#0d0887"
             ],
             [
              0.1111111111111111,
              "#46039f"
             ],
             [
              0.2222222222222222,
              "#7201a8"
             ],
             [
              0.3333333333333333,
              "#9c179e"
             ],
             [
              0.4444444444444444,
              "#bd3786"
             ],
             [
              0.5555555555555556,
              "#d8576b"
             ],
             [
              0.6666666666666666,
              "#ed7953"
             ],
             [
              0.7777777777777778,
              "#fb9f3a"
             ],
             [
              0.8888888888888888,
              "#fdca26"
             ],
             [
              1,
              "#f0f921"
             ]
            ],
            "type": "histogram2dcontour"
           }
          ],
          "mesh3d": [
           {
            "colorbar": {
             "outlinewidth": 0,
             "ticks": ""
            },
            "type": "mesh3d"
           }
          ],
          "parcoords": [
           {
            "line": {
             "colorbar": {
              "outlinewidth": 0,
              "ticks": ""
             }
            },
            "type": "parcoords"
           }
          ],
          "pie": [
           {
            "automargin": true,
            "type": "pie"
           }
          ],
          "scatter": [
           {
            "fillpattern": {
             "fillmode": "overlay",
             "size": 10,
             "solidity": 0.2
            },
            "type": "scatter"
           }
          ],
          "scatter3d": [
           {
            "line": {
             "colorbar": {
              "outlinewidth": 0,
              "ticks": ""
             }
            },
            "marker": {
             "colorbar": {
              "outlinewidth": 0,
              "ticks": ""
             }
            },
            "type": "scatter3d"
           }
          ],
          "scattercarpet": [
           {
            "marker": {
             "colorbar": {
              "outlinewidth": 0,
              "ticks": ""
             }
            },
            "type": "scattercarpet"
           }
          ],
          "scattergeo": [
           {
            "marker": {
             "colorbar": {
              "outlinewidth": 0,
              "ticks": ""
             }
            },
            "type": "scattergeo"
           }
          ],
          "scattergl": [
           {
            "marker": {
             "colorbar": {
              "outlinewidth": 0,
              "ticks": ""
             }
            },
            "type": "scattergl"
           }
          ],
          "scattermapbox": [
           {
            "marker": {
             "colorbar": {
              "outlinewidth": 0,
              "ticks": ""
             }
            },
            "type": "scattermapbox"
           }
          ],
          "scatterpolar": [
           {
            "marker": {
             "colorbar": {
              "outlinewidth": 0,
              "ticks": ""
             }
            },
            "type": "scatterpolar"
           }
          ],
          "scatterpolargl": [
           {
            "marker": {
             "colorbar": {
              "outlinewidth": 0,
              "ticks": ""
             }
            },
            "type": "scatterpolargl"
           }
          ],
          "scatterternary": [
           {
            "marker": {
             "colorbar": {
              "outlinewidth": 0,
              "ticks": ""
             }
            },
            "type": "scatterternary"
           }
          ],
          "surface": [
           {
            "colorbar": {
             "outlinewidth": 0,
             "ticks": ""
            },
            "colorscale": [
             [
              0,
              "#0d0887"
             ],
             [
              0.1111111111111111,
              "#46039f"
             ],
             [
              0.2222222222222222,
              "#7201a8"
             ],
             [
              0.3333333333333333,
              "#9c179e"
             ],
             [
              0.4444444444444444,
              "#bd3786"
             ],
             [
              0.5555555555555556,
              "#d8576b"
             ],
             [
              0.6666666666666666,
              "#ed7953"
             ],
             [
              0.7777777777777778,
              "#fb9f3a"
             ],
             [
              0.8888888888888888,
              "#fdca26"
             ],
             [
              1,
              "#f0f921"
             ]
            ],
            "type": "surface"
           }
          ],
          "table": [
           {
            "cells": {
             "fill": {
              "color": "#EBF0F8"
             },
             "line": {
              "color": "white"
             }
            },
            "header": {
             "fill": {
              "color": "#C8D4E3"
             },
             "line": {
              "color": "white"
             }
            },
            "type": "table"
           }
          ]
         },
         "layout": {
          "annotationdefaults": {
           "arrowcolor": "#2a3f5f",
           "arrowhead": 0,
           "arrowwidth": 1
          },
          "autotypenumbers": "strict",
          "coloraxis": {
           "colorbar": {
            "outlinewidth": 0,
            "ticks": ""
           }
          },
          "colorscale": {
           "diverging": [
            [
             0,
             "#8e0152"
            ],
            [
             0.1,
             "#c51b7d"
            ],
            [
             0.2,
             "#de77ae"
            ],
            [
             0.3,
             "#f1b6da"
            ],
            [
             0.4,
             "#fde0ef"
            ],
            [
             0.5,
             "#f7f7f7"
            ],
            [
             0.6,
             "#e6f5d0"
            ],
            [
             0.7,
             "#b8e186"
            ],
            [
             0.8,
             "#7fbc41"
            ],
            [
             0.9,
             "#4d9221"
            ],
            [
             1,
             "#276419"
            ]
           ],
           "sequential": [
            [
             0,
             "#0d0887"
            ],
            [
             0.1111111111111111,
             "#46039f"
            ],
            [
             0.2222222222222222,
             "#7201a8"
            ],
            [
             0.3333333333333333,
             "#9c179e"
            ],
            [
             0.4444444444444444,
             "#bd3786"
            ],
            [
             0.5555555555555556,
             "#d8576b"
            ],
            [
             0.6666666666666666,
             "#ed7953"
            ],
            [
             0.7777777777777778,
             "#fb9f3a"
            ],
            [
             0.8888888888888888,
             "#fdca26"
            ],
            [
             1,
             "#f0f921"
            ]
           ],
           "sequentialminus": [
            [
             0,
             "#0d0887"
            ],
            [
             0.1111111111111111,
             "#46039f"
            ],
            [
             0.2222222222222222,
             "#7201a8"
            ],
            [
             0.3333333333333333,
             "#9c179e"
            ],
            [
             0.4444444444444444,
             "#bd3786"
            ],
            [
             0.5555555555555556,
             "#d8576b"
            ],
            [
             0.6666666666666666,
             "#ed7953"
            ],
            [
             0.7777777777777778,
             "#fb9f3a"
            ],
            [
             0.8888888888888888,
             "#fdca26"
            ],
            [
             1,
             "#f0f921"
            ]
           ]
          },
          "colorway": [
           "#636efa",
           "#EF553B",
           "#00cc96",
           "#ab63fa",
           "#FFA15A",
           "#19d3f3",
           "#FF6692",
           "#B6E880",
           "#FF97FF",
           "#FECB52"
          ],
          "font": {
           "color": "#2a3f5f"
          },
          "geo": {
           "bgcolor": "white",
           "lakecolor": "white",
           "landcolor": "#E5ECF6",
           "showlakes": true,
           "showland": true,
           "subunitcolor": "white"
          },
          "hoverlabel": {
           "align": "left"
          },
          "hovermode": "closest",
          "mapbox": {
           "style": "light"
          },
          "paper_bgcolor": "white",
          "plot_bgcolor": "#E5ECF6",
          "polar": {
           "angularaxis": {
            "gridcolor": "white",
            "linecolor": "white",
            "ticks": ""
           },
           "bgcolor": "#E5ECF6",
           "radialaxis": {
            "gridcolor": "white",
            "linecolor": "white",
            "ticks": ""
           }
          },
          "scene": {
           "xaxis": {
            "backgroundcolor": "#E5ECF6",
            "gridcolor": "white",
            "gridwidth": 2,
            "linecolor": "white",
            "showbackground": true,
            "ticks": "",
            "zerolinecolor": "white"
           },
           "yaxis": {
            "backgroundcolor": "#E5ECF6",
            "gridcolor": "white",
            "gridwidth": 2,
            "linecolor": "white",
            "showbackground": true,
            "ticks": "",
            "zerolinecolor": "white"
           },
           "zaxis": {
            "backgroundcolor": "#E5ECF6",
            "gridcolor": "white",
            "gridwidth": 2,
            "linecolor": "white",
            "showbackground": true,
            "ticks": "",
            "zerolinecolor": "white"
           }
          },
          "shapedefaults": {
           "line": {
            "color": "#2a3f5f"
           }
          },
          "ternary": {
           "aaxis": {
            "gridcolor": "white",
            "linecolor": "white",
            "ticks": ""
           },
           "baxis": {
            "gridcolor": "white",
            "linecolor": "white",
            "ticks": ""
           },
           "bgcolor": "#E5ECF6",
           "caxis": {
            "gridcolor": "white",
            "linecolor": "white",
            "ticks": ""
           }
          },
          "title": {
           "x": 0.05
          },
          "xaxis": {
           "automargin": true,
           "gridcolor": "white",
           "linecolor": "white",
           "ticks": "",
           "title": {
            "standoff": 15
           },
           "zerolinecolor": "white",
           "zerolinewidth": 2
          },
          "yaxis": {
           "automargin": true,
           "gridcolor": "white",
           "linecolor": "white",
           "ticks": "",
           "title": {
            "standoff": 15
           },
           "zerolinecolor": "white",
           "zerolinewidth": 2
          }
         }
        },
        "width": 800
       }
      }
     },
     "metadata": {},
     "output_type": "display_data"
    }
   ],
   "source": [
    "# ploting th route\n",
    "\n",
    "initial_plot(delivary_locations=delivary_loc, obstacles=obstacles, dp=initial_dp, route = route_1)"
   ]
  },
  {
   "cell_type": "code",
   "execution_count": 113,
   "metadata": {},
   "outputs": [
    {
     "data": {
      "text/plain": [
       "2360.654671284566"
      ]
     },
     "execution_count": 113,
     "metadata": {},
     "output_type": "execute_result"
    }
   ],
   "source": [
    "# calculate distance of the obstacle free route\n",
    "distance_1 = calculate_route_distance(route_1)\n",
    "\n",
    "distance_1"
   ]
  },
  {
   "cell_type": "markdown",
   "metadata": {},
   "source": [
    "#### Obstacle avoidance (3D)"
   ]
  },
  {
   "cell_type": "code",
   "execution_count": 114,
   "metadata": {},
   "outputs": [
    {
     "data": {
      "text/plain": [
       "[(27.55470577587296, 93.92084405438013, 0),\n",
       " (27.55470577587296, 93.92084405438013, 9.5),\n",
       " (27.747125734960182, 94.17087378574267, 9.5),\n",
       " (27.747125734960182, 94.17087378574267, 0),\n",
       " (27.747125734960182, 94.17087378574267, 9.5),\n",
       " (27.55470577587296, 93.92084405438013, 9.5),\n",
       " (27.55470577587296, 93.92084405438013, 0),\n",
       " (27.55470577587296, 93.92084405438013, 0),\n",
       " (27.55470577587296, 93.92084405438013, 9.5),\n",
       " (28.4259771822822, 94.45307295084595, 9.5),\n",
       " (28.4259771822822, 94.45307295084595, 0),\n",
       " (28.4259771822822, 94.45307295084595, 9.5),\n",
       " (27.55470577587296, 93.92084405438013, 9.5),\n",
       " (27.55470577587296, 93.92084405438013, 0),\n",
       " (27.55470577587296, 93.92084405438013, 0),\n",
       " (27.55470577587296, 93.92084405438013, 9.5),\n",
       " (26.72, 93.65, 9.505),\n",
       " (25.21, 94.15, 9.505),\n",
       " (24.470242608783693, 93.68170629100726, 9.5),\n",
       " (24.470242608783693, 93.68170629100726, 0),\n",
       " (24.470242608783693, 93.68170629100726, 9.5),\n",
       " (25.21, 94.15, 9.505),\n",
       " (26.72, 93.65, 9.505),\n",
       " (27.55470577587296, 93.92084405438013, 9.5),\n",
       " (27.55470577587296, 93.92084405438013, 0),\n",
       " (27.55470577587296, 93.92084405438013, 0),\n",
       " (27.55470577587296, 93.92084405438013, 9.5),\n",
       " (26.69, 95.18, 9.505),\n",
       " (25.81, 95.4, 9.505),\n",
       " (23.319807378900116, 96.72456714123255, 9.5),\n",
       " (23.319807378900116, 96.72456714123255, 0),\n",
       " (23.319807378900116, 96.72456714123255, 9.5),\n",
       " (25.81, 95.4, 9.505),\n",
       " (26.69, 95.18, 9.505),\n",
       " (27.55470577587296, 93.92084405438013, 9.5),\n",
       " (27.55470577587296, 93.92084405438013, 0),\n",
       " (27.55470577587296, 93.92084405438013, 0),\n",
       " (27.55470577587296, 93.92084405438013, 9.5),\n",
       " (30.69768702630477, 88.87801703769983, 9.5),\n",
       " (30.69768702630477, 88.87801703769983, 0),\n",
       " (30.69768702630477, 88.87801703769983, 9.5),\n",
       " (27.55470577587296, 93.92084405438013, 9.5),\n",
       " (27.55470577587296, 93.92084405438013, 0),\n",
       " (27.55470577587296, 93.92084405438013, 0),\n",
       " (27.55470577587296, 93.92084405438013, 9.5),\n",
       " (34.23204747057705, 98.30982452310329, 9.5),\n",
       " (34.23204747057705, 98.30982452310329, 0),\n",
       " (34.23204747057705, 98.30982452310329, 9.5),\n",
       " (27.55470577587296, 93.92084405438013, 9.5),\n",
       " (27.55470577587296, 93.92084405438013, 0),\n",
       " (27.55470577587296, 93.92084405438013, 0),\n",
       " (27.55470577587296, 93.92084405438013, 9.5),\n",
       " (30.21401181045421, 94.741050840793, 9.5),\n",
       " (30.21401181045421, 94.741050840793, 0),\n",
       " (30.21401181045421, 94.741050840793, 9.5),\n",
       " (27.55470577587296, 93.92084405438013, 9.5),\n",
       " (27.55470577587296, 93.92084405438013, 0),\n",
       " (27.55470577587296, 93.92084405438013, 0),\n",
       " (27.55470577587296, 93.92084405438013, 9.5),\n",
       " (25.643333333333334, 90.14999999999999, 10.005),\n",
       " (24.13772772451559, 88.60330753162496, 9.5),\n",
       " (24.13772772451559, 88.60330753162496, 0),\n",
       " (24.13772772451559, 88.60330753162496, 9.5),\n",
       " (25.643333333333334, 90.14999999999999, 10.005),\n",
       " (27.55470577587296, 93.92084405438013, 9.5),\n",
       " (27.55470577587296, 93.92084405438013, 0),\n",
       " (27.55470577587296, 93.92084405438013, 0),\n",
       " (27.55470577587296, 93.92084405438013, 9.5),\n",
       " (26.72, 93.65, 10.005),\n",
       " (25.009999999999998, 93.205, 10.005),\n",
       " (22.578210892111414, 93.19141019370197, 9.5),\n",
       " (22.578210892111414, 93.19141019370197, 0),\n",
       " (22.578210892111414, 93.19141019370197, 9.5),\n",
       " (25.009999999999998, 93.205, 10.005),\n",
       " (26.72, 93.65, 10.005),\n",
       " (27.55470577587296, 93.92084405438013, 9.5),\n",
       " (27.55470577587296, 93.92084405438013, 0),\n",
       " (27.55470577587296, 93.92084405438013, 0),\n",
       " (27.55470577587296, 93.92084405438013, 9.5),\n",
       " (27.602100867877482, 97.0596052534594, 9.5),\n",
       " (27.602100867877482, 97.0596052534594, 0),\n",
       " (27.602100867877482, 97.0596052534594, 9.5),\n",
       " (27.55470577587296, 93.92084405438013, 9.5),\n",
       " (27.55470577587296, 93.92084405438013, 0),\n",
       " (27.55470577587296, 93.92084405438013, 0),\n",
       " (27.55470577587296, 93.92084405438013, 9.5),\n",
       " (28.5640791647123, 94.99378125493399, 9.5),\n",
       " (28.5640791647123, 94.99378125493399, 0),\n",
       " (28.5640791647123, 94.99378125493399, 9.5),\n",
       " (27.55470577587296, 93.92084405438013, 9.5),\n",
       " (27.55470577587296, 93.92084405438013, 0),\n",
       " (27.55470577587296, 93.92084405438013, 0),\n",
       " (27.55470577587296, 93.92084405438013, 9.5),\n",
       " (28.32722338301113, 95.22023421591956, 9.5),\n",
       " (28.32722338301113, 95.22023421591956, 0),\n",
       " (28.32722338301113, 95.22023421591956, 9.5),\n",
       " (27.55470577587296, 93.92084405438013, 9.5),\n",
       " (27.55470577587296, 93.92084405438013, 0),\n",
       " (27.55470577587296, 93.92084405438013, 0),\n",
       " (27.55470577587296, 93.92084405438013, 9.5),\n",
       " (34.421311893668154, 98.62596857772635, 9.5),\n",
       " (34.421311893668154, 98.62596857772635, 0),\n",
       " (34.421311893668154, 98.62596857772635, 9.5),\n",
       " (27.55470577587296, 93.92084405438013, 9.5),\n",
       " (27.55470577587296, 93.92084405438013, 0),\n",
       " (27.55470577587296, 93.92084405438013, 0),\n",
       " (27.55470577587296, 93.92084405438013, 9.5),\n",
       " (26.068993136270333, 90.7971855144328, 9.5),\n",
       " (26.068993136270333, 90.7971855144328, 0),\n",
       " (26.068993136270333, 90.7971855144328, 9.5),\n",
       " (27.55470577587296, 93.92084405438013, 9.5),\n",
       " (27.55470577587296, 93.92084405438013, 0),\n",
       " (27.55470577587296, 93.92084405438013, 0),\n",
       " (27.55470577587296, 93.92084405438013, 9.5),\n",
       " (25.96, 89.55, 9.505),\n",
       " (25.747848955125836, 89.16768416550245, 9.5),\n",
       " (25.747848955125836, 89.16768416550245, 0),\n",
       " (25.747848955125836, 89.16768416550245, 9.5),\n",
       " (25.96, 89.55, 9.505),\n",
       " (27.55470577587296, 93.92084405438013, 9.5),\n",
       " (27.55470577587296, 93.92084405438013, 0),\n",
       " (27.55470577587296, 93.92084405438013, 0),\n",
       " (27.55470577587296, 93.92084405438013, 9.5),\n",
       " (31.589363729663383, 92.54208600626698, 9.5),\n",
       " (31.589363729663383, 92.54208600626698, 0),\n",
       " (31.589363729663383, 92.54208600626698, 9.5),\n",
       " (27.55470577587296, 93.92084405438013, 9.5),\n",
       " (27.55470577587296, 93.92084405438013, 0),\n",
       " (27.55470577587296, 93.92084405438013, 0),\n",
       " (27.55470577587296, 93.92084405438013, 9.5),\n",
       " (33.93643877183452, 97.10950588315467, 9.5),\n",
       " (33.93643877183452, 97.10950588315467, 0),\n",
       " (33.93643877183452, 97.10950588315467, 9.5),\n",
       " (27.55470577587296, 93.92084405438013, 9.5),\n",
       " (27.55470577587296, 93.92084405438013, 0),\n",
       " (27.55470577587296, 93.92084405438013, 0),\n",
       " (27.55470577587296, 93.92084405438013, 9.5),\n",
       " (22.216670029560184, 90.59331197853663, 9.5),\n",
       " (22.216670029560184, 90.59331197853663, 0),\n",
       " (22.216670029560184, 90.59331197853663, 9.5),\n",
       " (27.55470577587296, 93.92084405438013, 9.5),\n",
       " (27.55470577587296, 93.92084405438013, 0),\n",
       " (27.55470577587296, 93.92084405438013, 0),\n",
       " (27.55470577587296, 93.92084405438013, 9.5),\n",
       " (33.550000000000004, 92.91666666666667, 10.005),\n",
       " (34.20959343997334, 92.51167724617025, 9.5),\n",
       " (34.20959343997334, 92.51167724617025, 0),\n",
       " (34.20959343997334, 92.51167724617025, 9.5),\n",
       " (33.550000000000004, 92.91666666666667, 10.005),\n",
       " (27.55470577587296, 93.92084405438013, 9.5),\n",
       " (27.55470577587296, 93.92084405438013, 0),\n",
       " (27.55470577587296, 93.92084405438013, 0),\n",
       " (27.55470577587296, 93.92084405438013, 9.5),\n",
       " (26.41, 94.24000000000001, 10.005),\n",
       " (23.103989328524463, 94.88302920303173, 9.5),\n",
       " (23.103989328524463, 94.88302920303173, 0),\n",
       " (23.103989328524463, 94.88302920303173, 9.5),\n",
       " (26.41, 94.24000000000001, 10.005),\n",
       " (27.55470577587296, 93.92084405438013, 9.5),\n",
       " (27.55470577587296, 93.92084405438013, 0),\n",
       " (27.55470577587296, 93.92084405438013, 0),\n",
       " (27.55470577587296, 93.92084405438013, 9.5),\n",
       " (32.69, 96.27, 9.505),\n",
       " (34.010292891107675, 96.19717408367622, 9.5),\n",
       " (34.010292891107675, 96.19717408367622, 0),\n",
       " (34.010292891107675, 96.19717408367622, 9.5),\n",
       " (32.69, 96.27, 9.505),\n",
       " (27.55470577587296, 93.92084405438013, 9.5),\n",
       " (27.55470577587296, 93.92084405438013, 0),\n",
       " (27.55470577587296, 93.92084405438013, 0),\n",
       " (27.55470577587296, 93.92084405438013, 9.5),\n",
       " (23.654218156095304, 90.9680848376878, 9.5),\n",
       " (23.654218156095304, 90.9680848376878, 0),\n",
       " (23.654218156095304, 90.9680848376878, 9.5),\n",
       " (27.55470577587296, 93.92084405438013, 9.5),\n",
       " (27.55470577587296, 93.92084405438013, 0),\n",
       " (27.55470577587296, 93.92084405438013, 0),\n",
       " (27.55470577587296, 93.92084405438013, 9.5),\n",
       " (24.310000000000002, 90.835, 10.005),\n",
       " (23.44680682163007, 89.06211057805781, 9.5),\n",
       " (23.44680682163007, 89.06211057805781, 0),\n",
       " (23.44680682163007, 89.06211057805781, 9.5),\n",
       " (24.310000000000002, 90.835, 10.005),\n",
       " (27.55470577587296, 93.92084405438013, 9.5),\n",
       " (27.55470577587296, 93.92084405438013, 0),\n",
       " (27.55470577587296, 93.92084405438013, 0),\n",
       " (27.55470577587296, 93.92084405438013, 9.5),\n",
       " (31.81, 90.35, 9.505),\n",
       " (31.965543304970247, 90.26587047018731, 9.5),\n",
       " (31.965543304970247, 90.26587047018731, 0),\n",
       " (31.965543304970247, 90.26587047018731, 9.5),\n",
       " (31.81, 90.35, 9.505),\n",
       " (27.55470577587296, 93.92084405438013, 9.5),\n",
       " (27.55470577587296, 93.92084405438013, 0),\n",
       " (27.55470577587296, 93.92084405438013, 0),\n",
       " (27.55470577587296, 93.92084405438013, 9.5),\n",
       " (29.055772533311234, 93.02268224806045, 9.5),\n",
       " (29.055772533311234, 93.02268224806045, 0),\n",
       " (29.055772533311234, 93.02268224806045, 9.5),\n",
       " (27.55470577587296, 93.92084405438013, 9.5),\n",
       " (27.55470577587296, 93.92084405438013, 0),\n",
       " (27.55470577587296, 93.92084405438013, 0),\n",
       " (27.55470577587296, 93.92084405438013, 9.5),\n",
       " (26.69, 95.18, 9.505),\n",
       " (25.81, 95.4, 9.505),\n",
       " (24.54397724315408, 95.92995888460067, 9.5),\n",
       " (24.54397724315408, 95.92995888460067, 0),\n",
       " (24.54397724315408, 95.92995888460067, 9.5),\n",
       " (25.81, 95.4, 9.505),\n",
       " (26.69, 95.18, 9.505),\n",
       " (27.55470577587296, 93.92084405438013, 9.5),\n",
       " (27.55470577587296, 93.92084405438013, 0),\n",
       " (27.55470577587296, 93.92084405438013, 0),\n",
       " (27.55470577587296, 93.92084405438013, 9.5),\n",
       " (24.815475837631254, 91.20730466688792, 9.5),\n",
       " (24.815475837631254, 91.20730466688792, 0),\n",
       " (24.815475837631254, 91.20730466688792, 9.5),\n",
       " (27.55470577587296, 93.92084405438013, 9.5),\n",
       " (27.55470577587296, 93.92084405438013, 0),\n",
       " (27.55470577587296, 93.92084405438013, 0),\n",
       " (27.55470577587296, 93.92084405438013, 9.5),\n",
       " (32.69, 96.27, 9.505),\n",
       " (34.094171648116784, 96.66086556149877, 9.5),\n",
       " (34.094171648116784, 96.66086556149877, 0),\n",
       " (34.094171648116784, 96.66086556149877, 9.5),\n",
       " (32.69, 96.27, 9.505),\n",
       " (27.55470577587296, 93.92084405438013, 9.5),\n",
       " (27.55470577587296, 93.92084405438013, 0),\n",
       " (27.55470577587296, 93.92084405438013, 0),\n",
       " (27.55470577587296, 93.92084405438013, 9.5),\n",
       " (25.932736634420912, 97.49332145229448, 9.5),\n",
       " (25.932736634420912, 97.49332145229448, 0),\n",
       " (25.932736634420912, 97.49332145229448, 9.5),\n",
       " (27.55470577587296, 93.92084405438013, 9.5),\n",
       " (27.55470577587296, 93.92084405438013, 0),\n",
       " (27.55470577587296, 93.92084405438013, 0),\n",
       " (27.55470577587296, 93.92084405438013, 9.5),\n",
       " (25.33, 92.62, 9.505),\n",
       " (24.78909311035754, 92.4794867908764, 9.5),\n",
       " (24.78909311035754, 92.4794867908764, 0),\n",
       " (24.78909311035754, 92.4794867908764, 9.5),\n",
       " (25.33, 92.62, 9.505),\n",
       " (27.55470577587296, 93.92084405438013, 9.5),\n",
       " (27.55470577587296, 93.92084405438013, 0),\n",
       " (27.55470577587296, 93.92084405438013, 0),\n",
       " (27.55470577587296, 93.92084405438013, 9.5),\n",
       " (26.69, 95.18, 10.005),\n",
       " (25.11, 96.65, 10.005),\n",
       " (23.43807288673073, 98.56066334855396, 9.5),\n",
       " (23.43807288673073, 98.56066334855396, 0),\n",
       " (23.43807288673073, 98.56066334855396, 9.5),\n",
       " (25.11, 96.65, 10.005),\n",
       " (26.69, 95.18, 10.005),\n",
       " (27.55470577587296, 93.92084405438013, 9.5),\n",
       " (27.55470577587296, 93.92084405438013, 0),\n",
       " (27.55470577587296, 93.92084405438013, 0),\n",
       " (27.55470577587296, 93.92084405438013, 9.5),\n",
       " (25.837015094211104, 89.20013321562969, 9.5),\n",
       " (25.837015094211104, 89.20013321562969, 0),\n",
       " (25.837015094211104, 89.20013321562969, 9.5),\n",
       " (27.55470577587296, 93.92084405438013, 9.5),\n",
       " (27.55470577587296, 93.92084405438013, 0),\n",
       " (27.55470577587296, 93.92084405438013, 0),\n",
       " (27.55470577587296, 93.92084405438013, 9.5),\n",
       " (26.72, 93.65, 9.505),\n",
       " (25.21, 94.15, 9.505),\n",
       " (23.313034197054026, 94.40554963727239, 9.5),\n",
       " (23.313034197054026, 94.40554963727239, 0),\n",
       " (23.313034197054026, 94.40554963727239, 9.5),\n",
       " (25.21, 94.15, 9.505),\n",
       " (26.72, 93.65, 9.505),\n",
       " (27.55470577587296, 93.92084405438013, 9.5),\n",
       " (27.55470577587296, 93.92084405438013, 0),\n",
       " (27.55470577587296, 93.92084405438013, 0),\n",
       " (27.55470577587296, 93.92084405438013, 9.5),\n",
       " (26.41, 94.24000000000001, 10.005),\n",
       " (25.184478142483766, 94.59512088140741, 9.5),\n",
       " (25.184478142483766, 94.59512088140741, 0),\n",
       " (25.184478142483766, 94.59512088140741, 9.5),\n",
       " (26.41, 94.24000000000001, 10.005),\n",
       " (27.55470577587296, 93.92084405438013, 9.5),\n",
       " (27.55470577587296, 93.92084405438013, 0),\n",
       " (27.55470577587296, 93.92084405438013, 0),\n",
       " (27.55470577587296, 93.92084405438013, 9.5),\n",
       " (29.851405995522367, 94.62984709022406, 9.5),\n",
       " (29.851405995522367, 94.62984709022406, 0),\n",
       " (29.851405995522367, 94.62984709022406, 9.5),\n",
       " (27.55470577587296, 93.92084405438013, 9.5),\n",
       " (27.55470577587296, 93.92084405438013, 0),\n",
       " (27.55470577587296, 93.92084405438013, 0),\n",
       " (27.55470577587296, 93.92084405438013, 9.5),\n",
       " (26.69, 95.18, 10.005),\n",
       " (25.11, 96.65, 10.005),\n",
       " (23.91, 98.26, 9.505),\n",
       " (23.855648653289272, 98.34749196435357, 9.5),\n",
       " (23.855648653289272, 98.34749196435357, 0),\n",
       " (23.855648653289272, 98.34749196435357, 9.5),\n",
       " (23.91, 98.26, 9.505),\n",
       " (25.11, 96.65, 10.005),\n",
       " (26.69, 95.18, 10.005),\n",
       " (27.55470577587296, 93.92084405438013, 9.5),\n",
       " (27.55470577587296, 93.92084405438013, 0),\n",
       " (27.55470577587296, 93.92084405438013, 0),\n",
       " (27.55470577587296, 93.92084405438013, 9.5),\n",
       " (28.457006509641264, 91.19687937428749, 9.5),\n",
       " (28.457006509641264, 91.19687937428749, 0),\n",
       " (28.457006509641264, 91.19687937428749, 9.5),\n",
       " (27.55470577587296, 93.92084405438013, 9.5),\n",
       " (27.55470577587296, 93.92084405438013, 0),\n",
       " (27.55470577587296, 93.92084405438013, 0),\n",
       " (27.55470577587296, 93.92084405438013, 9.5),\n",
       " (31.55, 92.45, 10.005),\n",
       " (32.79, 92.38333333333333, 10.005),\n",
       " (34.21685436985902, 92.38248947770259, 9.5),\n",
       " (34.21685436985902, 92.38248947770259, 0),\n",
       " (34.21685436985902, 92.38248947770259, 9.5),\n",
       " (32.79, 92.38333333333333, 10.005),\n",
       " (31.55, 92.45, 10.005),\n",
       " (27.55470577587296, 93.92084405438013, 9.5),\n",
       " (27.55470577587296, 93.92084405438013, 0),\n",
       " (27.55470577587296, 93.92084405438013, 0),\n",
       " (27.55470577587296, 93.92084405438013, 9.5),\n",
       " (26.41, 94.24000000000001, 10.005),\n",
       " (23.066511255757323, 95.28853347549571, 9.5),\n",
       " (23.066511255757323, 95.28853347549571, 0),\n",
       " (23.066511255757323, 95.28853347549571, 9.5),\n",
       " (26.41, 94.24000000000001, 10.005),\n",
       " (27.55470577587296, 93.92084405438013, 9.5),\n",
       " (27.55470577587296, 93.92084405438013, 0),\n",
       " (27.55470577587296, 93.92084405438013, 0),\n",
       " (27.55470577587296, 93.92084405438013, 9.5),\n",
       " (25.388712235427327, 90.67938036697294, 9.5),\n",
       " (25.388712235427327, 90.67938036697294, 0),\n",
       " (25.388712235427327, 90.67938036697294, 9.5),\n",
       " (27.55470577587296, 93.92084405438013, 9.5),\n",
       " (27.55470577587296, 93.92084405438013, 0),\n",
       " (27.55470577587296, 93.92084405438013, 0),\n",
       " (27.55470577587296, 93.92084405438013, 9.5),\n",
       " (26.41, 94.24000000000001, 10.005),\n",
       " (25.913093797237618, 94.65478721833412, 9.5),\n",
       " (25.913093797237618, 94.65478721833412, 0),\n",
       " (25.913093797237618, 94.65478721833412, 9.5),\n",
       " (26.41, 94.24000000000001, 10.005),\n",
       " (27.55470577587296, 93.92084405438013, 9.5),\n",
       " (27.55470577587296, 93.92084405438013, 0),\n",
       " (27.55470577587296, 93.92084405438013, 0),\n",
       " (27.55470577587296, 93.92084405438013, 9.5),\n",
       " (26.69, 95.18, 9.505),\n",
       " (26.124550753608457, 95.24262911794256, 9.5),\n",
       " (26.124550753608457, 95.24262911794256, 0),\n",
       " (26.124550753608457, 95.24262911794256, 9.5),\n",
       " (26.69, 95.18, 9.505),\n",
       " (27.55470577587296, 93.92084405438013, 9.5),\n",
       " (27.55470577587296, 93.92084405438013, 0),\n",
       " (27.55470577587296, 93.92084405438013, 0),\n",
       " (27.55470577587296, 93.92084405438013, 9.5),\n",
       " (31.85, 97.11, 9.505),\n",
       " (33.29107540190555, 98.57642352713984, 9.5),\n",
       " (33.29107540190555, 98.57642352713984, 0),\n",
       " (33.29107540190555, 98.57642352713984, 9.5),\n",
       " (31.85, 97.11, 9.505),\n",
       " (27.55470577587296, 93.92084405438013, 9.5),\n",
       " (27.55470577587296, 93.92084405438013, 0),\n",
       " (27.55470577587296, 93.92084405438013, 0),\n",
       " (27.55470577587296, 93.92084405438013, 9.5),\n",
       " (33.09093599323694, 97.86719617561488, 9.5),\n",
       " (33.09093599323694, 97.86719617561488, 0),\n",
       " (33.09093599323694, 97.86719617561488, 9.5),\n",
       " (27.55470577587296, 93.92084405438013, 9.5),\n",
       " (27.55470577587296, 93.92084405438013, 0),\n",
       " (27.55470577587296, 93.92084405438013, 0),\n",
       " (27.55470577587296, 93.92084405438013, 9.5),\n",
       " (26.25, 96.37, 9.505),\n",
       " (25.93, 96.94, 9.505),\n",
       " (25.69, 97.01, 9.505),\n",
       " (25.308681945812534, 96.87140453394655, 9.5),\n",
       " (25.308681945812534, 96.87140453394655, 0),\n",
       " (25.308681945812534, 96.87140453394655, 9.5),\n",
       " (25.69, 97.01, 9.505),\n",
       " (25.93, 96.94, 9.505),\n",
       " (26.25, 96.37, 9.505),\n",
       " (27.55470577587296, 93.92084405438013, 9.5),\n",
       " (27.55470577587296, 93.92084405438013, 0),\n",
       " (27.55470577587296, 93.92084405438013, 0),\n",
       " (27.55470577587296, 93.92084405438013, 9.5),\n",
       " (26.72, 93.65, 9.505),\n",
       " (25.21, 94.15, 9.505),\n",
       " (23.308749704270774, 94.39572733477696, 9.5),\n",
       " (23.308749704270774, 94.39572733477696, 0),\n",
       " (23.308749704270774, 94.39572733477696, 9.5),\n",
       " (25.21, 94.15, 9.505),\n",
       " (26.72, 93.65, 9.505),\n",
       " (27.55470577587296, 93.92084405438013, 9.5),\n",
       " (27.55470577587296, 93.92084405438013, 0),\n",
       " (27.55470577587296, 93.92084405438013, 0),\n",
       " (27.55470577587296, 93.92084405438013, 9.5),\n",
       " (23.61, 90.32, 9.505),\n",
       " (23.1348753707346, 89.4633817422264, 9.5),\n",
       " (23.1348753707346, 89.4633817422264, 0),\n",
       " (23.1348753707346, 89.4633817422264, 9.5),\n",
       " (23.61, 90.32, 9.505),\n",
       " (27.55470577587296, 93.92084405438013, 9.5),\n",
       " (27.55470577587296, 93.92084405438013, 0),\n",
       " (27.55470577587296, 93.92084405438013, 0),\n",
       " (27.55470577587296, 93.92084405438013, 9.5),\n",
       " (31.35, 91.16, 10.005),\n",
       " (33.82264795025609, 89.74629707922509, 9.5),\n",
       " (33.82264795025609, 89.74629707922509, 0),\n",
       " (33.82264795025609, 89.74629707922509, 9.5),\n",
       " (31.35, 91.16, 10.005),\n",
       " (27.55470577587296, 93.92084405438013, 9.5),\n",
       " (27.55470577587296, 93.92084405438013, 0),\n",
       " (27.55470577587296, 93.92084405438013, 0),\n",
       " (27.55470577587296, 93.92084405438013, 9.5),\n",
       " (30.988501936463116, 93.83729674500599, 9.5),\n",
       " (30.988501936463116, 93.83729674500599, 0),\n",
       " (30.988501936463116, 93.83729674500599, 9.5),\n",
       " (27.55470577587296, 93.92084405438013, 9.5),\n",
       " (27.55470577587296, 93.92084405438013, 0),\n",
       " (27.55470577587296, 93.92084405438013, 0),\n",
       " (27.55470577587296, 93.92084405438013, 9.5),\n",
       " (26.41, 94.24000000000001, 10.005),\n",
       " (22.224897890240893, 96.55621124418023, 9.5),\n",
       " (22.224897890240893, 96.55621124418023, 0),\n",
       " (22.224897890240893, 96.55621124418023, 9.5),\n",
       " (26.41, 94.24000000000001, 10.005),\n",
       " (27.55470577587296, 93.92084405438013, 9.5),\n",
       " (27.55470577587296, 93.92084405438013, 0)]"
      ]
     },
     "execution_count": 114,
     "metadata": {},
     "output_type": "execute_result"
    }
   ],
   "source": [
    "# create obstacle avoided route\n",
    "\n",
    "route_2, msg = create_shortest_dijkstra_path(initial_dp, delivary_loc.copy(), obstacles, drone_height, drone_max_height)\n",
    "route_2"
   ]
  },
  {
   "cell_type": "code",
   "execution_count": 115,
   "metadata": {},
   "outputs": [
    {
     "data": {
      "application/vnd.plotly.v1+json": {
       "config": {
        "plotlyServerURL": "https://plot.ly"
       },
       "data": [
        {
         "color": "red",
         "i": [
          0,
          0
         ],
         "j": [
          1,
          2
         ],
         "k": [
          2,
          3
         ],
         "opacity": 0.5,
         "type": "mesh3d",
         "x": [
          27.81,
          28.74,
          28.74,
          27.81
         ],
         "y": [
          90.75,
          91.42,
          91.42,
          90.75
         ],
         "z": [
          0,
          0,
          3,
          3
         ]
        },
        {
         "color": "red",
         "i": [
          0,
          0
         ],
         "j": [
          1,
          2
         ],
         "k": [
          2,
          3
         ],
         "opacity": 0.5,
         "type": "mesh3d",
         "x": [
          28.74,
          27.8,
          27.8,
          28.74
         ],
         "y": [
          91.42,
          93.15,
          93.15,
          91.42
         ],
         "z": [
          0,
          0,
          3,
          3
         ]
        },
        {
         "color": "red",
         "i": [
          0,
          0
         ],
         "j": [
          1,
          2
         ],
         "k": [
          2,
          3
         ],
         "opacity": 0.5,
         "type": "mesh3d",
         "x": [
          27.8,
          26.81,
          26.81,
          27.8
         ],
         "y": [
          93.15,
          92.53,
          92.53,
          93.15
         ],
         "z": [
          0,
          0,
          3,
          3
         ]
        },
        {
         "color": "red",
         "i": [
          0,
          0
         ],
         "j": [
          1,
          2
         ],
         "k": [
          2,
          3
         ],
         "opacity": 0.5,
         "type": "mesh3d",
         "x": [
          26.81,
          27.81,
          27.81,
          26.81
         ],
         "y": [
          92.53,
          90.75,
          90.75,
          92.53
         ],
         "z": [
          0,
          0,
          3,
          3
         ]
        },
        {
         "color": "red",
         "i": [
          0,
          0
         ],
         "j": [
          1,
          2
         ],
         "k": [
          2,
          3
         ],
         "opacity": 0.5,
         "type": "mesh3d",
         "x": [
          27.81,
          27.81,
          27.81,
          27.81
         ],
         "y": [
          90.75,
          90.75,
          90.75,
          90.75
         ],
         "z": [
          0,
          0,
          3,
          3
         ]
        },
        {
         "line": {
          "color": "black",
          "width": 3
         },
         "mode": "lines",
         "type": "scatter3d",
         "x": [
          27.81,
          28.74,
          27.8,
          26.81,
          27.81,
          27.81
         ],
         "y": [
          90.75,
          91.42,
          93.15,
          92.53,
          90.75,
          90.75
         ],
         "z": [
          3,
          3,
          3,
          3,
          3,
          3
         ]
        },
        {
         "line": {
          "color": "black",
          "width": 3
         },
         "mode": "lines",
         "type": "scatter3d",
         "x": [
          27.81,
          28.74,
          27.8,
          26.81,
          27.81,
          27.81
         ],
         "y": [
          90.75,
          91.42,
          93.15,
          92.53,
          90.75,
          90.75
         ],
         "z": [
          0,
          0,
          0,
          0,
          0,
          0
         ]
        },
        {
         "line": {
          "color": "black",
          "width": 3
         },
         "mode": "lines",
         "type": "scatter3d",
         "x": [
          27.81,
          27.81,
          28.74,
          28.74,
          27.81
         ],
         "y": [
          90.75,
          90.75,
          91.42,
          91.42,
          90.75
         ],
         "z": [
          0,
          3,
          3,
          0,
          0
         ]
        },
        {
         "line": {
          "color": "black",
          "width": 3
         },
         "mode": "lines",
         "type": "scatter3d",
         "x": [
          28.74,
          28.74,
          27.8,
          27.8,
          28.74
         ],
         "y": [
          91.42,
          91.42,
          93.15,
          93.15,
          91.42
         ],
         "z": [
          0,
          3,
          3,
          0,
          0
         ]
        },
        {
         "line": {
          "color": "black",
          "width": 3
         },
         "mode": "lines",
         "type": "scatter3d",
         "x": [
          27.8,
          27.8,
          26.81,
          26.81,
          27.8
         ],
         "y": [
          93.15,
          93.15,
          92.53,
          92.53,
          93.15
         ],
         "z": [
          0,
          3,
          3,
          0,
          0
         ]
        },
        {
         "line": {
          "color": "black",
          "width": 3
         },
         "mode": "lines",
         "type": "scatter3d",
         "x": [
          26.81,
          26.81,
          27.81,
          27.81,
          26.81
         ],
         "y": [
          92.53,
          92.53,
          90.75,
          90.75,
          92.53
         ],
         "z": [
          0,
          3,
          3,
          0,
          0
         ]
        },
        {
         "line": {
          "color": "black",
          "width": 3
         },
         "mode": "lines",
         "type": "scatter3d",
         "x": [
          27.81,
          27.81,
          27.81,
          27.81,
          27.81
         ],
         "y": [
          90.75,
          90.75,
          90.75,
          90.75,
          90.75
         ],
         "z": [
          0,
          3,
          3,
          0,
          0
         ]
        },
        {
         "color": "red",
         "i": [
          0,
          0
         ],
         "j": [
          1,
          2
         ],
         "k": [
          2,
          3
         ],
         "opacity": 0.5,
         "type": "mesh3d",
         "x": [
          23.11,
          24.81,
          24.81,
          23.11
         ],
         "y": [
          91.25,
          92.4,
          92.4,
          91.25
         ],
         "z": [
          0,
          0,
          3,
          3
         ]
        },
        {
         "color": "red",
         "i": [
          0,
          0
         ],
         "j": [
          1,
          2
         ],
         "k": [
          2,
          3
         ],
         "opacity": 0.5,
         "type": "mesh3d",
         "x": [
          24.81,
          24.21,
          24.21,
          24.81
         ],
         "y": [
          92.4,
          93.45,
          93.45,
          92.4
         ],
         "z": [
          0,
          0,
          3,
          3
         ]
        },
        {
         "color": "red",
         "i": [
          0,
          0
         ],
         "j": [
          1,
          2
         ],
         "k": [
          2,
          3
         ],
         "opacity": 0.5,
         "type": "mesh3d",
         "x": [
          24.21,
          22.51,
          22.51,
          24.21
         ],
         "y": [
          93.45,
          92.35,
          92.35,
          93.45
         ],
         "z": [
          0,
          0,
          3,
          3
         ]
        },
        {
         "color": "red",
         "i": [
          0,
          0
         ],
         "j": [
          1,
          2
         ],
         "k": [
          2,
          3
         ],
         "opacity": 0.5,
         "type": "mesh3d",
         "x": [
          22.51,
          23.11,
          23.11,
          22.51
         ],
         "y": [
          92.35,
          91.25,
          91.25,
          92.35
         ],
         "z": [
          0,
          0,
          3,
          3
         ]
        },
        {
         "color": "red",
         "i": [
          0,
          0
         ],
         "j": [
          1,
          2
         ],
         "k": [
          2,
          3
         ],
         "opacity": 0.5,
         "type": "mesh3d",
         "x": [
          23.11,
          23.11,
          23.11,
          23.11
         ],
         "y": [
          91.25,
          91.25,
          91.25,
          91.25
         ],
         "z": [
          0,
          0,
          3,
          3
         ]
        },
        {
         "line": {
          "color": "black",
          "width": 3
         },
         "mode": "lines",
         "type": "scatter3d",
         "x": [
          23.11,
          24.81,
          24.21,
          22.51,
          23.11,
          23.11
         ],
         "y": [
          91.25,
          92.4,
          93.45,
          92.35,
          91.25,
          91.25
         ],
         "z": [
          3,
          3,
          3,
          3,
          3,
          3
         ]
        },
        {
         "line": {
          "color": "black",
          "width": 3
         },
         "mode": "lines",
         "type": "scatter3d",
         "x": [
          23.11,
          24.81,
          24.21,
          22.51,
          23.11,
          23.11
         ],
         "y": [
          91.25,
          92.4,
          93.45,
          92.35,
          91.25,
          91.25
         ],
         "z": [
          0,
          0,
          0,
          0,
          0,
          0
         ]
        },
        {
         "line": {
          "color": "black",
          "width": 3
         },
         "mode": "lines",
         "type": "scatter3d",
         "x": [
          23.11,
          23.11,
          24.81,
          24.81,
          23.11
         ],
         "y": [
          91.25,
          91.25,
          92.4,
          92.4,
          91.25
         ],
         "z": [
          0,
          3,
          3,
          0,
          0
         ]
        },
        {
         "line": {
          "color": "black",
          "width": 3
         },
         "mode": "lines",
         "type": "scatter3d",
         "x": [
          24.81,
          24.81,
          24.21,
          24.21,
          24.81
         ],
         "y": [
          92.4,
          92.4,
          93.45,
          93.45,
          92.4
         ],
         "z": [
          0,
          3,
          3,
          0,
          0
         ]
        },
        {
         "line": {
          "color": "black",
          "width": 3
         },
         "mode": "lines",
         "type": "scatter3d",
         "x": [
          24.21,
          24.21,
          22.51,
          22.51,
          24.21
         ],
         "y": [
          93.45,
          93.45,
          92.35,
          92.35,
          93.45
         ],
         "z": [
          0,
          3,
          3,
          0,
          0
         ]
        },
        {
         "line": {
          "color": "black",
          "width": 3
         },
         "mode": "lines",
         "type": "scatter3d",
         "x": [
          22.51,
          22.51,
          23.11,
          23.11,
          22.51
         ],
         "y": [
          92.35,
          92.35,
          91.25,
          91.25,
          92.35
         ],
         "z": [
          0,
          3,
          3,
          0,
          0
         ]
        },
        {
         "line": {
          "color": "black",
          "width": 3
         },
         "mode": "lines",
         "type": "scatter3d",
         "x": [
          23.11,
          23.11,
          23.11,
          23.11,
          23.11
         ],
         "y": [
          91.25,
          91.25,
          91.25,
          91.25,
          91.25
         ],
         "z": [
          0,
          3,
          3,
          0,
          0
         ]
        },
        {
         "color": "red",
         "i": [
          0,
          0
         ],
         "j": [
          1,
          2
         ],
         "k": [
          2,
          3
         ],
         "opacity": 0.5,
         "type": "mesh3d",
         "x": [
          24.55,
          25.96,
          25.96,
          24.55
         ],
         "y": [
          88.6,
          89.55,
          89.55,
          88.6
         ],
         "z": [
          0,
          0,
          10,
          10
         ]
        },
        {
         "color": "red",
         "i": [
          0,
          0
         ],
         "j": [
          1,
          2
         ],
         "k": [
          2,
          3
         ],
         "opacity": 0.5,
         "type": "mesh3d",
         "x": [
          25.96,
          25.01,
          25.01,
          25.96
         ],
         "y": [
          89.55,
          91.35,
          91.35,
          89.55
         ],
         "z": [
          0,
          0,
          10,
          10
         ]
        },
        {
         "color": "red",
         "i": [
          0,
          0
         ],
         "j": [
          1,
          2
         ],
         "k": [
          2,
          3
         ],
         "opacity": 0.5,
         "type": "mesh3d",
         "x": [
          25.01,
          23.61,
          23.61,
          25.01
         ],
         "y": [
          91.35,
          90.32,
          90.32,
          91.35
         ],
         "z": [
          0,
          0,
          10,
          10
         ]
        },
        {
         "color": "red",
         "i": [
          0,
          0
         ],
         "j": [
          1,
          2
         ],
         "k": [
          2,
          3
         ],
         "opacity": 0.5,
         "type": "mesh3d",
         "x": [
          23.61,
          24.55,
          24.55,
          23.61
         ],
         "y": [
          90.32,
          88.6,
          88.6,
          90.32
         ],
         "z": [
          0,
          0,
          10,
          10
         ]
        },
        {
         "color": "red",
         "i": [
          0,
          0
         ],
         "j": [
          1,
          2
         ],
         "k": [
          2,
          3
         ],
         "opacity": 0.5,
         "type": "mesh3d",
         "x": [
          24.55,
          24.55,
          24.55,
          24.55
         ],
         "y": [
          88.6,
          88.6,
          88.6,
          88.6
         ],
         "z": [
          0,
          0,
          10,
          10
         ]
        },
        {
         "line": {
          "color": "black",
          "width": 3
         },
         "mode": "lines",
         "type": "scatter3d",
         "x": [
          24.55,
          25.96,
          25.01,
          23.61,
          24.55,
          24.55
         ],
         "y": [
          88.6,
          89.55,
          91.35,
          90.32,
          88.6,
          88.6
         ],
         "z": [
          10,
          10,
          10,
          10,
          10,
          10
         ]
        },
        {
         "line": {
          "color": "black",
          "width": 3
         },
         "mode": "lines",
         "type": "scatter3d",
         "x": [
          24.55,
          25.96,
          25.01,
          23.61,
          24.55,
          24.55
         ],
         "y": [
          88.6,
          89.55,
          91.35,
          90.32,
          88.6,
          88.6
         ],
         "z": [
          0,
          0,
          0,
          0,
          0,
          0
         ]
        },
        {
         "line": {
          "color": "black",
          "width": 3
         },
         "mode": "lines",
         "type": "scatter3d",
         "x": [
          24.55,
          24.55,
          25.96,
          25.96,
          24.55
         ],
         "y": [
          88.6,
          88.6,
          89.55,
          89.55,
          88.6
         ],
         "z": [
          0,
          10,
          10,
          0,
          0
         ]
        },
        {
         "line": {
          "color": "black",
          "width": 3
         },
         "mode": "lines",
         "type": "scatter3d",
         "x": [
          25.96,
          25.96,
          25.01,
          25.01,
          25.96
         ],
         "y": [
          89.55,
          89.55,
          91.35,
          91.35,
          89.55
         ],
         "z": [
          0,
          10,
          10,
          0,
          0
         ]
        },
        {
         "line": {
          "color": "black",
          "width": 3
         },
         "mode": "lines",
         "type": "scatter3d",
         "x": [
          25.01,
          25.01,
          23.61,
          23.61,
          25.01
         ],
         "y": [
          91.35,
          91.35,
          90.32,
          90.32,
          91.35
         ],
         "z": [
          0,
          10,
          10,
          0,
          0
         ]
        },
        {
         "line": {
          "color": "black",
          "width": 3
         },
         "mode": "lines",
         "type": "scatter3d",
         "x": [
          23.61,
          23.61,
          24.55,
          24.55,
          23.61
         ],
         "y": [
          90.32,
          90.32,
          88.6,
          88.6,
          90.32
         ],
         "z": [
          0,
          10,
          10,
          0,
          0
         ]
        },
        {
         "line": {
          "color": "black",
          "width": 3
         },
         "mode": "lines",
         "type": "scatter3d",
         "x": [
          24.55,
          24.55,
          24.55,
          24.55,
          24.55
         ],
         "y": [
          88.6,
          88.6,
          88.6,
          88.6,
          88.6
         ],
         "z": [
          0,
          10,
          10,
          0,
          0
         ]
        },
        {
         "color": "red",
         "i": [
          0,
          0
         ],
         "j": [
          1,
          2
         ],
         "k": [
          2,
          3
         ],
         "opacity": 0.5,
         "type": "mesh3d",
         "x": [
          25.6,
          27.42,
          27.42,
          25.6
         ],
         "y": [
          88.45,
          88.45,
          88.45,
          88.45
         ],
         "z": [
          0,
          0,
          10,
          10
         ]
        },
        {
         "color": "red",
         "i": [
          0,
          0
         ],
         "j": [
          1,
          2
         ],
         "k": [
          2,
          3
         ],
         "opacity": 0.5,
         "type": "mesh3d",
         "x": [
          27.42,
          26.92,
          26.92,
          27.42
         ],
         "y": [
          88.45,
          89.35,
          89.35,
          88.45
         ],
         "z": [
          0,
          0,
          10,
          10
         ]
        },
        {
         "color": "red",
         "i": [
          0,
          0
         ],
         "j": [
          1,
          2
         ],
         "k": [
          2,
          3
         ],
         "opacity": 0.5,
         "type": "mesh3d",
         "x": [
          26.92,
          25.6,
          25.6,
          26.92
         ],
         "y": [
          89.35,
          88.45,
          88.45,
          89.35
         ],
         "z": [
          0,
          0,
          10,
          10
         ]
        },
        {
         "color": "red",
         "i": [
          0,
          0
         ],
         "j": [
          1,
          2
         ],
         "k": [
          2,
          3
         ],
         "opacity": 0.5,
         "type": "mesh3d",
         "x": [
          25.6,
          25.6,
          25.6,
          25.6
         ],
         "y": [
          88.45,
          88.45,
          88.45,
          88.45
         ],
         "z": [
          0,
          0,
          10,
          10
         ]
        },
        {
         "line": {
          "color": "black",
          "width": 3
         },
         "mode": "lines",
         "type": "scatter3d",
         "x": [
          25.6,
          27.42,
          26.92,
          25.6,
          25.6
         ],
         "y": [
          88.45,
          88.45,
          89.35,
          88.45,
          88.45
         ],
         "z": [
          10,
          10,
          10,
          10,
          10
         ]
        },
        {
         "line": {
          "color": "black",
          "width": 3
         },
         "mode": "lines",
         "type": "scatter3d",
         "x": [
          25.6,
          27.42,
          26.92,
          25.6,
          25.6
         ],
         "y": [
          88.45,
          88.45,
          89.35,
          88.45,
          88.45
         ],
         "z": [
          0,
          0,
          0,
          0,
          0
         ]
        },
        {
         "line": {
          "color": "black",
          "width": 3
         },
         "mode": "lines",
         "type": "scatter3d",
         "x": [
          25.6,
          25.6,
          27.42,
          27.42,
          25.6
         ],
         "y": [
          88.45,
          88.45,
          88.45,
          88.45,
          88.45
         ],
         "z": [
          0,
          10,
          10,
          0,
          0
         ]
        },
        {
         "line": {
          "color": "black",
          "width": 3
         },
         "mode": "lines",
         "type": "scatter3d",
         "x": [
          27.42,
          27.42,
          26.92,
          26.92,
          27.42
         ],
         "y": [
          88.45,
          88.45,
          89.35,
          89.35,
          88.45
         ],
         "z": [
          0,
          10,
          10,
          0,
          0
         ]
        },
        {
         "line": {
          "color": "black",
          "width": 3
         },
         "mode": "lines",
         "type": "scatter3d",
         "x": [
          26.92,
          26.92,
          25.6,
          25.6,
          26.92
         ],
         "y": [
          89.35,
          89.35,
          88.45,
          88.45,
          89.35
         ],
         "z": [
          0,
          10,
          10,
          0,
          0
         ]
        },
        {
         "line": {
          "color": "black",
          "width": 3
         },
         "mode": "lines",
         "type": "scatter3d",
         "x": [
          25.6,
          25.6,
          25.6,
          25.6,
          25.6
         ],
         "y": [
          88.45,
          88.45,
          88.45,
          88.45,
          88.45
         ],
         "z": [
          0,
          10,
          10,
          0,
          0
         ]
        },
        {
         "color": "red",
         "i": [
          0,
          0
         ],
         "j": [
          1,
          2
         ],
         "k": [
          2,
          3
         ],
         "opacity": 0.5,
         "type": "mesh3d",
         "x": [
          27.61,
          28.81,
          28.81,
          27.61
         ],
         "y": [
          88.45,
          88.45,
          88.45,
          88.45
         ],
         "z": [
          0,
          0,
          10,
          10
         ]
        },
        {
         "color": "red",
         "i": [
          0,
          0
         ],
         "j": [
          1,
          2
         ],
         "k": [
          2,
          3
         ],
         "opacity": 0.5,
         "type": "mesh3d",
         "x": [
          28.81,
          29.12,
          29.12,
          28.81
         ],
         "y": [
          88.45,
          88.66,
          88.66,
          88.45
         ],
         "z": [
          0,
          0,
          10,
          10
         ]
        },
        {
         "color": "red",
         "i": [
          0,
          0
         ],
         "j": [
          1,
          2
         ],
         "k": [
          2,
          3
         ],
         "opacity": 0.5,
         "type": "mesh3d",
         "x": [
          29.12,
          28.02,
          28.02,
          29.12
         ],
         "y": [
          88.66,
          90.45,
          90.45,
          88.66
         ],
         "z": [
          0,
          0,
          10,
          10
         ]
        },
        {
         "color": "red",
         "i": [
          0,
          0
         ],
         "j": [
          1,
          2
         ],
         "k": [
          2,
          3
         ],
         "opacity": 0.5,
         "type": "mesh3d",
         "x": [
          28.02,
          26.9,
          26.9,
          28.02
         ],
         "y": [
          90.45,
          89.57,
          89.57,
          90.45
         ],
         "z": [
          0,
          0,
          10,
          10
         ]
        },
        {
         "color": "red",
         "i": [
          0,
          0
         ],
         "j": [
          1,
          2
         ],
         "k": [
          2,
          3
         ],
         "opacity": 0.5,
         "type": "mesh3d",
         "x": [
          26.9,
          27.61,
          27.61,
          26.9
         ],
         "y": [
          89.57,
          88.45,
          88.45,
          89.57
         ],
         "z": [
          0,
          0,
          10,
          10
         ]
        },
        {
         "color": "red",
         "i": [
          0,
          0
         ],
         "j": [
          1,
          2
         ],
         "k": [
          2,
          3
         ],
         "opacity": 0.5,
         "type": "mesh3d",
         "x": [
          27.61,
          27.61,
          27.61,
          27.61
         ],
         "y": [
          88.45,
          88.45,
          88.45,
          88.45
         ],
         "z": [
          0,
          0,
          10,
          10
         ]
        },
        {
         "line": {
          "color": "black",
          "width": 3
         },
         "mode": "lines",
         "type": "scatter3d",
         "x": [
          27.61,
          28.81,
          29.12,
          28.02,
          26.9,
          27.61,
          27.61
         ],
         "y": [
          88.45,
          88.45,
          88.66,
          90.45,
          89.57,
          88.45,
          88.45
         ],
         "z": [
          10,
          10,
          10,
          10,
          10,
          10,
          10
         ]
        },
        {
         "line": {
          "color": "black",
          "width": 3
         },
         "mode": "lines",
         "type": "scatter3d",
         "x": [
          27.61,
          28.81,
          29.12,
          28.02,
          26.9,
          27.61,
          27.61
         ],
         "y": [
          88.45,
          88.45,
          88.66,
          90.45,
          89.57,
          88.45,
          88.45
         ],
         "z": [
          0,
          0,
          0,
          0,
          0,
          0,
          0
         ]
        },
        {
         "line": {
          "color": "black",
          "width": 3
         },
         "mode": "lines",
         "type": "scatter3d",
         "x": [
          27.61,
          27.61,
          28.81,
          28.81,
          27.61
         ],
         "y": [
          88.45,
          88.45,
          88.45,
          88.45,
          88.45
         ],
         "z": [
          0,
          10,
          10,
          0,
          0
         ]
        },
        {
         "line": {
          "color": "black",
          "width": 3
         },
         "mode": "lines",
         "type": "scatter3d",
         "x": [
          28.81,
          28.81,
          29.12,
          29.12,
          28.81
         ],
         "y": [
          88.45,
          88.45,
          88.66,
          88.66,
          88.45
         ],
         "z": [
          0,
          10,
          10,
          0,
          0
         ]
        },
        {
         "line": {
          "color": "black",
          "width": 3
         },
         "mode": "lines",
         "type": "scatter3d",
         "x": [
          29.12,
          29.12,
          28.02,
          28.02,
          29.12
         ],
         "y": [
          88.66,
          88.66,
          90.45,
          90.45,
          88.66
         ],
         "z": [
          0,
          10,
          10,
          0,
          0
         ]
        },
        {
         "line": {
          "color": "black",
          "width": 3
         },
         "mode": "lines",
         "type": "scatter3d",
         "x": [
          28.02,
          28.02,
          26.9,
          26.9,
          28.02
         ],
         "y": [
          90.45,
          90.45,
          89.57,
          89.57,
          90.45
         ],
         "z": [
          0,
          10,
          10,
          0,
          0
         ]
        },
        {
         "line": {
          "color": "black",
          "width": 3
         },
         "mode": "lines",
         "type": "scatter3d",
         "x": [
          26.9,
          26.9,
          27.61,
          27.61,
          26.9
         ],
         "y": [
          89.57,
          89.57,
          88.45,
          88.45,
          89.57
         ],
         "z": [
          0,
          10,
          10,
          0,
          0
         ]
        },
        {
         "line": {
          "color": "black",
          "width": 3
         },
         "mode": "lines",
         "type": "scatter3d",
         "x": [
          27.61,
          27.61,
          27.61,
          27.61,
          27.61
         ],
         "y": [
          88.45,
          88.45,
          88.45,
          88.45,
          88.45
         ],
         "z": [
          0,
          10,
          10,
          0,
          0
         ]
        },
        {
         "color": "red",
         "i": [
          0,
          0
         ],
         "j": [
          1,
          2
         ],
         "k": [
          2,
          3
         ],
         "opacity": 0.5,
         "type": "mesh3d",
         "x": [
          25.33,
          25.86,
          25.86,
          25.33
         ],
         "y": [
          92.62,
          92.95,
          92.95,
          92.62
         ],
         "z": [
          0,
          0,
          10,
          10
         ]
        },
        {
         "color": "red",
         "i": [
          0,
          0
         ],
         "j": [
          1,
          2
         ],
         "k": [
          2,
          3
         ],
         "opacity": 0.5,
         "type": "mesh3d",
         "x": [
          25.86,
          25.21,
          25.21,
          25.86
         ],
         "y": [
          92.95,
          94.15,
          94.15,
          92.95
         ],
         "z": [
          0,
          0,
          10,
          10
         ]
        },
        {
         "color": "red",
         "i": [
          0,
          0
         ],
         "j": [
          1,
          2
         ],
         "k": [
          2,
          3
         ],
         "opacity": 0.5,
         "type": "mesh3d",
         "x": [
          25.21,
          24.69,
          24.69,
          25.21
         ],
         "y": [
          94.15,
          93.78,
          93.78,
          94.15
         ],
         "z": [
          0,
          0,
          10,
          10
         ]
        },
        {
         "color": "red",
         "i": [
          0,
          0
         ],
         "j": [
          1,
          2
         ],
         "k": [
          2,
          3
         ],
         "opacity": 0.5,
         "type": "mesh3d",
         "x": [
          24.69,
          25.33,
          25.33,
          24.69
         ],
         "y": [
          93.78,
          92.63,
          92.63,
          93.78
         ],
         "z": [
          0,
          0,
          10,
          10
         ]
        },
        {
         "color": "red",
         "i": [
          0,
          0
         ],
         "j": [
          1,
          2
         ],
         "k": [
          2,
          3
         ],
         "opacity": 0.5,
         "type": "mesh3d",
         "x": [
          25.33,
          25.33,
          25.33,
          25.33
         ],
         "y": [
          92.63,
          92.62,
          92.62,
          92.63
         ],
         "z": [
          0,
          0,
          10,
          10
         ]
        },
        {
         "line": {
          "color": "black",
          "width": 3
         },
         "mode": "lines",
         "type": "scatter3d",
         "x": [
          25.33,
          25.86,
          25.21,
          24.69,
          25.33,
          25.33
         ],
         "y": [
          92.62,
          92.95,
          94.15,
          93.78,
          92.63,
          92.62
         ],
         "z": [
          10,
          10,
          10,
          10,
          10,
          10
         ]
        },
        {
         "line": {
          "color": "black",
          "width": 3
         },
         "mode": "lines",
         "type": "scatter3d",
         "x": [
          25.33,
          25.86,
          25.21,
          24.69,
          25.33,
          25.33
         ],
         "y": [
          92.62,
          92.95,
          94.15,
          93.78,
          92.63,
          92.62
         ],
         "z": [
          0,
          0,
          0,
          0,
          0,
          0
         ]
        },
        {
         "line": {
          "color": "black",
          "width": 3
         },
         "mode": "lines",
         "type": "scatter3d",
         "x": [
          25.33,
          25.33,
          25.86,
          25.86,
          25.33
         ],
         "y": [
          92.62,
          92.62,
          92.95,
          92.95,
          92.62
         ],
         "z": [
          0,
          10,
          10,
          0,
          0
         ]
        },
        {
         "line": {
          "color": "black",
          "width": 3
         },
         "mode": "lines",
         "type": "scatter3d",
         "x": [
          25.86,
          25.86,
          25.21,
          25.21,
          25.86
         ],
         "y": [
          92.95,
          92.95,
          94.15,
          94.15,
          92.95
         ],
         "z": [
          0,
          10,
          10,
          0,
          0
         ]
        },
        {
         "line": {
          "color": "black",
          "width": 3
         },
         "mode": "lines",
         "type": "scatter3d",
         "x": [
          25.21,
          25.21,
          24.69,
          24.69,
          25.21
         ],
         "y": [
          94.15,
          94.15,
          93.78,
          93.78,
          94.15
         ],
         "z": [
          0,
          10,
          10,
          0,
          0
         ]
        },
        {
         "line": {
          "color": "black",
          "width": 3
         },
         "mode": "lines",
         "type": "scatter3d",
         "x": [
          24.69,
          24.69,
          25.33,
          25.33,
          24.69
         ],
         "y": [
          93.78,
          93.78,
          92.63,
          92.63,
          93.78
         ],
         "z": [
          0,
          10,
          10,
          0,
          0
         ]
        },
        {
         "line": {
          "color": "black",
          "width": 3
         },
         "mode": "lines",
         "type": "scatter3d",
         "x": [
          25.33,
          25.33,
          25.33,
          25.33,
          25.33
         ],
         "y": [
          92.63,
          92.63,
          92.62,
          92.62,
          92.63
         ],
         "z": [
          0,
          10,
          10,
          0,
          0
         ]
        },
        {
         "color": "red",
         "i": [
          0,
          0
         ],
         "j": [
          1,
          2
         ],
         "k": [
          2,
          3
         ],
         "opacity": 0.5,
         "type": "mesh3d",
         "x": [
          26.11,
          26.62,
          26.62,
          26.11
         ],
         "y": [
          93.05,
          93.35,
          93.35,
          93.05
         ],
         "z": [
          0,
          0,
          3,
          3
         ]
        },
        {
         "color": "red",
         "i": [
          0,
          0
         ],
         "j": [
          1,
          2
         ],
         "k": [
          2,
          3
         ],
         "opacity": 0.5,
         "type": "mesh3d",
         "x": [
          26.62,
          25.81,
          25.81,
          26.62
         ],
         "y": [
          93.35,
          94.65,
          94.65,
          93.35
         ],
         "z": [
          0,
          0,
          3,
          3
         ]
        },
        {
         "color": "red",
         "i": [
          0,
          0
         ],
         "j": [
          1,
          2
         ],
         "k": [
          2,
          3
         ],
         "opacity": 0.5,
         "type": "mesh3d",
         "x": [
          25.81,
          25.39,
          25.39,
          25.81
         ],
         "y": [
          94.65,
          94.35,
          94.35,
          94.65
         ],
         "z": [
          0,
          0,
          3,
          3
         ]
        },
        {
         "color": "red",
         "i": [
          0,
          0
         ],
         "j": [
          1,
          2
         ],
         "k": [
          2,
          3
         ],
         "opacity": 0.5,
         "type": "mesh3d",
         "x": [
          25.39,
          26.11,
          26.11,
          25.39
         ],
         "y": [
          94.35,
          93.05,
          93.05,
          94.35
         ],
         "z": [
          0,
          0,
          3,
          3
         ]
        },
        {
         "color": "red",
         "i": [
          0,
          0
         ],
         "j": [
          1,
          2
         ],
         "k": [
          2,
          3
         ],
         "opacity": 0.5,
         "type": "mesh3d",
         "x": [
          26.11,
          26.11,
          26.11,
          26.11
         ],
         "y": [
          93.05,
          93.05,
          93.05,
          93.05
         ],
         "z": [
          0,
          0,
          3,
          3
         ]
        },
        {
         "line": {
          "color": "black",
          "width": 3
         },
         "mode": "lines",
         "type": "scatter3d",
         "x": [
          26.11,
          26.62,
          25.81,
          25.39,
          26.11,
          26.11
         ],
         "y": [
          93.05,
          93.35,
          94.65,
          94.35,
          93.05,
          93.05
         ],
         "z": [
          3,
          3,
          3,
          3,
          3,
          3
         ]
        },
        {
         "line": {
          "color": "black",
          "width": 3
         },
         "mode": "lines",
         "type": "scatter3d",
         "x": [
          26.11,
          26.62,
          25.81,
          25.39,
          26.11,
          26.11
         ],
         "y": [
          93.05,
          93.35,
          94.65,
          94.35,
          93.05,
          93.05
         ],
         "z": [
          0,
          0,
          0,
          0,
          0,
          0
         ]
        },
        {
         "line": {
          "color": "black",
          "width": 3
         },
         "mode": "lines",
         "type": "scatter3d",
         "x": [
          26.11,
          26.11,
          26.62,
          26.62,
          26.11
         ],
         "y": [
          93.05,
          93.05,
          93.35,
          93.35,
          93.05
         ],
         "z": [
          0,
          3,
          3,
          0,
          0
         ]
        },
        {
         "line": {
          "color": "black",
          "width": 3
         },
         "mode": "lines",
         "type": "scatter3d",
         "x": [
          26.62,
          26.62,
          25.81,
          25.81,
          26.62
         ],
         "y": [
          93.35,
          93.35,
          94.65,
          94.65,
          93.35
         ],
         "z": [
          0,
          3,
          3,
          0,
          0
         ]
        },
        {
         "line": {
          "color": "black",
          "width": 3
         },
         "mode": "lines",
         "type": "scatter3d",
         "x": [
          25.81,
          25.81,
          25.39,
          25.39,
          25.81
         ],
         "y": [
          94.65,
          94.65,
          94.35,
          94.35,
          94.65
         ],
         "z": [
          0,
          3,
          3,
          0,
          0
         ]
        },
        {
         "line": {
          "color": "black",
          "width": 3
         },
         "mode": "lines",
         "type": "scatter3d",
         "x": [
          25.39,
          25.39,
          26.11,
          26.11,
          25.39
         ],
         "y": [
          94.35,
          94.35,
          93.05,
          93.05,
          94.35
         ],
         "z": [
          0,
          3,
          3,
          0,
          0
         ]
        },
        {
         "line": {
          "color": "black",
          "width": 3
         },
         "mode": "lines",
         "type": "scatter3d",
         "x": [
          26.11,
          26.11,
          26.11,
          26.11,
          26.11
         ],
         "y": [
          93.05,
          93.05,
          93.05,
          93.05,
          93.05
         ],
         "z": [
          0,
          3,
          3,
          0,
          0
         ]
        },
        {
         "color": "red",
         "i": [
          0,
          0
         ],
         "j": [
          1,
          2
         ],
         "k": [
          2,
          3
         ],
         "opacity": 0.5,
         "type": "mesh3d",
         "x": [
          26.72,
          27.32,
          27.32,
          26.72
         ],
         "y": [
          93.65,
          94.05,
          94.05,
          93.65
         ],
         "z": [
          0,
          0,
          10,
          10
         ]
        },
        {
         "color": "red",
         "i": [
          0,
          0
         ],
         "j": [
          1,
          2
         ],
         "k": [
          2,
          3
         ],
         "opacity": 0.5,
         "type": "mesh3d",
         "x": [
          27.32,
          26.69,
          26.69,
          27.32
         ],
         "y": [
          94.05,
          95.18,
          95.18,
          94.05
         ],
         "z": [
          0,
          0,
          10,
          10
         ]
        },
        {
         "color": "red",
         "i": [
          0,
          0
         ],
         "j": [
          1,
          2
         ],
         "k": [
          2,
          3
         ],
         "opacity": 0.5,
         "type": "mesh3d",
         "x": [
          26.69,
          26.1,
          26.1,
          26.69
         ],
         "y": [
          95.18,
          94.83,
          94.83,
          95.18
         ],
         "z": [
          0,
          0,
          10,
          10
         ]
        },
        {
         "color": "red",
         "i": [
          0,
          0
         ],
         "j": [
          1,
          2
         ],
         "k": [
          2,
          3
         ],
         "opacity": 0.5,
         "type": "mesh3d",
         "x": [
          26.1,
          26.72,
          26.72,
          26.1
         ],
         "y": [
          94.83,
          93.65,
          93.65,
          94.83
         ],
         "z": [
          0,
          0,
          10,
          10
         ]
        },
        {
         "color": "red",
         "i": [
          0,
          0
         ],
         "j": [
          1,
          2
         ],
         "k": [
          2,
          3
         ],
         "opacity": 0.5,
         "type": "mesh3d",
         "x": [
          26.72,
          26.72,
          26.72,
          26.72
         ],
         "y": [
          93.65,
          93.65,
          93.65,
          93.65
         ],
         "z": [
          0,
          0,
          10,
          10
         ]
        },
        {
         "line": {
          "color": "black",
          "width": 3
         },
         "mode": "lines",
         "type": "scatter3d",
         "x": [
          26.72,
          27.32,
          26.69,
          26.1,
          26.72,
          26.72
         ],
         "y": [
          93.65,
          94.05,
          95.18,
          94.83,
          93.65,
          93.65
         ],
         "z": [
          10,
          10,
          10,
          10,
          10,
          10
         ]
        },
        {
         "line": {
          "color": "black",
          "width": 3
         },
         "mode": "lines",
         "type": "scatter3d",
         "x": [
          26.72,
          27.32,
          26.69,
          26.1,
          26.72,
          26.72
         ],
         "y": [
          93.65,
          94.05,
          95.18,
          94.83,
          93.65,
          93.65
         ],
         "z": [
          0,
          0,
          0,
          0,
          0,
          0
         ]
        },
        {
         "line": {
          "color": "black",
          "width": 3
         },
         "mode": "lines",
         "type": "scatter3d",
         "x": [
          26.72,
          26.72,
          27.32,
          27.32,
          26.72
         ],
         "y": [
          93.65,
          93.65,
          94.05,
          94.05,
          93.65
         ],
         "z": [
          0,
          10,
          10,
          0,
          0
         ]
        },
        {
         "line": {
          "color": "black",
          "width": 3
         },
         "mode": "lines",
         "type": "scatter3d",
         "x": [
          27.32,
          27.32,
          26.69,
          26.69,
          27.32
         ],
         "y": [
          94.05,
          94.05,
          95.18,
          95.18,
          94.05
         ],
         "z": [
          0,
          10,
          10,
          0,
          0
         ]
        },
        {
         "line": {
          "color": "black",
          "width": 3
         },
         "mode": "lines",
         "type": "scatter3d",
         "x": [
          26.69,
          26.69,
          26.1,
          26.1,
          26.69
         ],
         "y": [
          95.18,
          95.18,
          94.83,
          94.83,
          95.18
         ],
         "z": [
          0,
          10,
          10,
          0,
          0
         ]
        },
        {
         "line": {
          "color": "black",
          "width": 3
         },
         "mode": "lines",
         "type": "scatter3d",
         "x": [
          26.1,
          26.1,
          26.72,
          26.72,
          26.1
         ],
         "y": [
          94.83,
          94.83,
          93.65,
          93.65,
          94.83
         ],
         "z": [
          0,
          10,
          10,
          0,
          0
         ]
        },
        {
         "line": {
          "color": "black",
          "width": 3
         },
         "mode": "lines",
         "type": "scatter3d",
         "x": [
          26.72,
          26.72,
          26.72,
          26.72,
          26.72
         ],
         "y": [
          93.65,
          93.65,
          93.65,
          93.65,
          93.65
         ],
         "z": [
          0,
          10,
          10,
          0,
          0
         ]
        },
        {
         "color": "red",
         "i": [
          0,
          0
         ],
         "j": [
          1,
          2
         ],
         "k": [
          2,
          3
         ],
         "opacity": 0.5,
         "type": "mesh3d",
         "x": [
          25.81,
          26.29,
          26.29,
          25.81
         ],
         "y": [
          95.4,
          95.7,
          95.7,
          95.4
         ],
         "z": [
          0,
          0,
          10,
          10
         ]
        },
        {
         "color": "red",
         "i": [
          0,
          0
         ],
         "j": [
          1,
          2
         ],
         "k": [
          2,
          3
         ],
         "opacity": 0.5,
         "type": "mesh3d",
         "x": [
          26.29,
          26.01,
          26.01,
          26.29
         ],
         "y": [
          95.7,
          96.2,
          96.2,
          95.7
         ],
         "z": [
          0,
          0,
          10,
          10
         ]
        },
        {
         "color": "red",
         "i": [
          0,
          0
         ],
         "j": [
          1,
          2
         ],
         "k": [
          2,
          3
         ],
         "opacity": 0.5,
         "type": "mesh3d",
         "x": [
          26.01,
          26.25,
          26.25,
          26.01
         ],
         "y": [
          96.2,
          96.37,
          96.37,
          96.2
         ],
         "z": [
          0,
          0,
          10,
          10
         ]
        },
        {
         "color": "red",
         "i": [
          0,
          0
         ],
         "j": [
          1,
          2
         ],
         "k": [
          2,
          3
         ],
         "opacity": 0.5,
         "type": "mesh3d",
         "x": [
          26.25,
          25.93,
          25.93,
          26.25
         ],
         "y": [
          96.37,
          96.94,
          96.94,
          96.37
         ],
         "z": [
          0,
          0,
          10,
          10
         ]
        },
        {
         "color": "red",
         "i": [
          0,
          0
         ],
         "j": [
          1,
          2
         ],
         "k": [
          2,
          3
         ],
         "opacity": 0.5,
         "type": "mesh3d",
         "x": [
          25.93,
          25.8,
          25.8,
          25.93
         ],
         "y": [
          96.94,
          96.84,
          96.84,
          96.94
         ],
         "z": [
          0,
          0,
          10,
          10
         ]
        },
        {
         "color": "red",
         "i": [
          0,
          0
         ],
         "j": [
          1,
          2
         ],
         "k": [
          2,
          3
         ],
         "opacity": 0.5,
         "type": "mesh3d",
         "x": [
          25.8,
          25.69,
          25.69,
          25.8
         ],
         "y": [
          96.84,
          97.01,
          97.01,
          96.84
         ],
         "z": [
          0,
          0,
          10,
          10
         ]
        },
        {
         "color": "red",
         "i": [
          0,
          0
         ],
         "j": [
          1,
          2
         ],
         "k": [
          2,
          3
         ],
         "opacity": 0.5,
         "type": "mesh3d",
         "x": [
          25.69,
          25.11,
          25.11,
          25.69
         ],
         "y": [
          97.01,
          96.65,
          96.65,
          97.01
         ],
         "z": [
          0,
          0,
          10,
          10
         ]
        },
        {
         "color": "red",
         "i": [
          0,
          0
         ],
         "j": [
          1,
          2
         ],
         "k": [
          2,
          3
         ],
         "opacity": 0.5,
         "type": "mesh3d",
         "x": [
          25.11,
          25.81,
          25.81,
          25.11
         ],
         "y": [
          96.65,
          95.4,
          95.4,
          96.65
         ],
         "z": [
          0,
          0,
          10,
          10
         ]
        },
        {
         "color": "red",
         "i": [
          0,
          0
         ],
         "j": [
          1,
          2
         ],
         "k": [
          2,
          3
         ],
         "opacity": 0.5,
         "type": "mesh3d",
         "x": [
          25.81,
          25.81,
          25.81,
          25.81
         ],
         "y": [
          95.4,
          95.4,
          95.4,
          95.4
         ],
         "z": [
          0,
          0,
          10,
          10
         ]
        },
        {
         "line": {
          "color": "black",
          "width": 3
         },
         "mode": "lines",
         "type": "scatter3d",
         "x": [
          25.81,
          26.29,
          26.01,
          26.25,
          25.93,
          25.8,
          25.69,
          25.11,
          25.81,
          25.81
         ],
         "y": [
          95.4,
          95.7,
          96.2,
          96.37,
          96.94,
          96.84,
          97.01,
          96.65,
          95.4,
          95.4
         ],
         "z": [
          10,
          10,
          10,
          10,
          10,
          10,
          10,
          10,
          10,
          10
         ]
        },
        {
         "line": {
          "color": "black",
          "width": 3
         },
         "mode": "lines",
         "type": "scatter3d",
         "x": [
          25.81,
          26.29,
          26.01,
          26.25,
          25.93,
          25.8,
          25.69,
          25.11,
          25.81,
          25.81
         ],
         "y": [
          95.4,
          95.7,
          96.2,
          96.37,
          96.94,
          96.84,
          97.01,
          96.65,
          95.4,
          95.4
         ],
         "z": [
          0,
          0,
          0,
          0,
          0,
          0,
          0,
          0,
          0,
          0
         ]
        },
        {
         "line": {
          "color": "black",
          "width": 3
         },
         "mode": "lines",
         "type": "scatter3d",
         "x": [
          25.81,
          25.81,
          26.29,
          26.29,
          25.81
         ],
         "y": [
          95.4,
          95.4,
          95.7,
          95.7,
          95.4
         ],
         "z": [
          0,
          10,
          10,
          0,
          0
         ]
        },
        {
         "line": {
          "color": "black",
          "width": 3
         },
         "mode": "lines",
         "type": "scatter3d",
         "x": [
          26.29,
          26.29,
          26.01,
          26.01,
          26.29
         ],
         "y": [
          95.7,
          95.7,
          96.2,
          96.2,
          95.7
         ],
         "z": [
          0,
          10,
          10,
          0,
          0
         ]
        },
        {
         "line": {
          "color": "black",
          "width": 3
         },
         "mode": "lines",
         "type": "scatter3d",
         "x": [
          26.01,
          26.01,
          26.25,
          26.25,
          26.01
         ],
         "y": [
          96.2,
          96.2,
          96.37,
          96.37,
          96.2
         ],
         "z": [
          0,
          10,
          10,
          0,
          0
         ]
        },
        {
         "line": {
          "color": "black",
          "width": 3
         },
         "mode": "lines",
         "type": "scatter3d",
         "x": [
          26.25,
          26.25,
          25.93,
          25.93,
          26.25
         ],
         "y": [
          96.37,
          96.37,
          96.94,
          96.94,
          96.37
         ],
         "z": [
          0,
          10,
          10,
          0,
          0
         ]
        },
        {
         "line": {
          "color": "black",
          "width": 3
         },
         "mode": "lines",
         "type": "scatter3d",
         "x": [
          25.93,
          25.93,
          25.8,
          25.8,
          25.93
         ],
         "y": [
          96.94,
          96.94,
          96.84,
          96.84,
          96.94
         ],
         "z": [
          0,
          10,
          10,
          0,
          0
         ]
        },
        {
         "line": {
          "color": "black",
          "width": 3
         },
         "mode": "lines",
         "type": "scatter3d",
         "x": [
          25.8,
          25.8,
          25.69,
          25.69,
          25.8
         ],
         "y": [
          96.84,
          96.84,
          97.01,
          97.01,
          96.84
         ],
         "z": [
          0,
          10,
          10,
          0,
          0
         ]
        },
        {
         "line": {
          "color": "black",
          "width": 3
         },
         "mode": "lines",
         "type": "scatter3d",
         "x": [
          25.69,
          25.69,
          25.11,
          25.11,
          25.69
         ],
         "y": [
          97.01,
          97.01,
          96.65,
          96.65,
          97.01
         ],
         "z": [
          0,
          10,
          10,
          0,
          0
         ]
        },
        {
         "line": {
          "color": "black",
          "width": 3
         },
         "mode": "lines",
         "type": "scatter3d",
         "x": [
          25.11,
          25.11,
          25.81,
          25.81,
          25.11
         ],
         "y": [
          96.65,
          96.65,
          95.4,
          95.4,
          96.65
         ],
         "z": [
          0,
          10,
          10,
          0,
          0
         ]
        },
        {
         "line": {
          "color": "black",
          "width": 3
         },
         "mode": "lines",
         "type": "scatter3d",
         "x": [
          25.81,
          25.81,
          25.81,
          25.81,
          25.81
         ],
         "y": [
          95.4,
          95.4,
          95.4,
          95.4,
          95.4
         ],
         "z": [
          0,
          10,
          10,
          0,
          0
         ]
        },
        {
         "color": "red",
         "i": [
          0,
          0
         ],
         "j": [
          1,
          2
         ],
         "k": [
          2,
          3
         ],
         "opacity": 0.5,
         "type": "mesh3d",
         "x": [
          23.9,
          24.91,
          24.91,
          23.9
         ],
         "y": [
          94.15,
          94.81,
          94.81,
          94.15
         ],
         "z": [
          0,
          0,
          3,
          3
         ]
        },
        {
         "color": "red",
         "i": [
          0,
          0
         ],
         "j": [
          1,
          2
         ],
         "k": [
          2,
          3
         ],
         "opacity": 0.5,
         "type": "mesh3d",
         "x": [
          24.91,
          24.48,
          24.48,
          24.91
         ],
         "y": [
          94.81,
          95.57,
          95.57,
          94.81
         ],
         "z": [
          0,
          0,
          3,
          3
         ]
        },
        {
         "color": "red",
         "i": [
          0,
          0
         ],
         "j": [
          1,
          2
         ],
         "k": [
          2,
          3
         ],
         "opacity": 0.5,
         "type": "mesh3d",
         "x": [
          24.48,
          23.48,
          23.48,
          24.48
         ],
         "y": [
          95.57,
          94.95,
          94.95,
          95.57
         ],
         "z": [
          0,
          0,
          3,
          3
         ]
        },
        {
         "color": "red",
         "i": [
          0,
          0
         ],
         "j": [
          1,
          2
         ],
         "k": [
          2,
          3
         ],
         "opacity": 0.5,
         "type": "mesh3d",
         "x": [
          23.48,
          23.9,
          23.9,
          23.48
         ],
         "y": [
          94.95,
          94.15,
          94.15,
          94.95
         ],
         "z": [
          0,
          0,
          3,
          3
         ]
        },
        {
         "color": "red",
         "i": [
          0,
          0
         ],
         "j": [
          1,
          2
         ],
         "k": [
          2,
          3
         ],
         "opacity": 0.5,
         "type": "mesh3d",
         "x": [
          23.9,
          23.9,
          23.9,
          23.9
         ],
         "y": [
          94.15,
          94.15,
          94.15,
          94.15
         ],
         "z": [
          0,
          0,
          3,
          3
         ]
        },
        {
         "line": {
          "color": "black",
          "width": 3
         },
         "mode": "lines",
         "type": "scatter3d",
         "x": [
          23.9,
          24.91,
          24.48,
          23.48,
          23.9,
          23.9
         ],
         "y": [
          94.15,
          94.81,
          95.57,
          94.95,
          94.15,
          94.15
         ],
         "z": [
          3,
          3,
          3,
          3,
          3,
          3
         ]
        },
        {
         "line": {
          "color": "black",
          "width": 3
         },
         "mode": "lines",
         "type": "scatter3d",
         "x": [
          23.9,
          24.91,
          24.48,
          23.48,
          23.9,
          23.9
         ],
         "y": [
          94.15,
          94.81,
          95.57,
          94.95,
          94.15,
          94.15
         ],
         "z": [
          0,
          0,
          0,
          0,
          0,
          0
         ]
        },
        {
         "line": {
          "color": "black",
          "width": 3
         },
         "mode": "lines",
         "type": "scatter3d",
         "x": [
          23.9,
          23.9,
          24.91,
          24.91,
          23.9
         ],
         "y": [
          94.15,
          94.15,
          94.81,
          94.81,
          94.15
         ],
         "z": [
          0,
          3,
          3,
          0,
          0
         ]
        },
        {
         "line": {
          "color": "black",
          "width": 3
         },
         "mode": "lines",
         "type": "scatter3d",
         "x": [
          24.91,
          24.91,
          24.48,
          24.48,
          24.91
         ],
         "y": [
          94.81,
          94.81,
          95.57,
          95.57,
          94.81
         ],
         "z": [
          0,
          3,
          3,
          0,
          0
         ]
        },
        {
         "line": {
          "color": "black",
          "width": 3
         },
         "mode": "lines",
         "type": "scatter3d",
         "x": [
          24.48,
          24.48,
          23.48,
          23.48,
          24.48
         ],
         "y": [
          95.57,
          95.57,
          94.95,
          94.95,
          95.57
         ],
         "z": [
          0,
          3,
          3,
          0,
          0
         ]
        },
        {
         "line": {
          "color": "black",
          "width": 3
         },
         "mode": "lines",
         "type": "scatter3d",
         "x": [
          23.48,
          23.48,
          23.9,
          23.9,
          23.48
         ],
         "y": [
          94.95,
          94.95,
          94.15,
          94.15,
          94.95
         ],
         "z": [
          0,
          3,
          3,
          0,
          0
         ]
        },
        {
         "line": {
          "color": "black",
          "width": 3
         },
         "mode": "lines",
         "type": "scatter3d",
         "x": [
          23.9,
          23.9,
          23.9,
          23.9,
          23.9
         ],
         "y": [
          94.15,
          94.15,
          94.15,
          94.15,
          94.15
         ],
         "z": [
          0,
          3,
          3,
          0,
          0
         ]
        },
        {
         "color": "red",
         "i": [
          0,
          0
         ],
         "j": [
          1,
          2
         ],
         "k": [
          2,
          3
         ],
         "opacity": 0.5,
         "type": "mesh3d",
         "x": [
          23.71,
          23.91,
          23.91,
          23.71
         ],
         "y": [
          98.67,
          98.26,
          98.26,
          98.67
         ],
         "z": [
          0,
          0,
          10,
          10
         ]
        },
        {
         "color": "red",
         "i": [
          0,
          0
         ],
         "j": [
          1,
          2
         ],
         "k": [
          2,
          3
         ],
         "opacity": 0.5,
         "type": "mesh3d",
         "x": [
          23.91,
          24.41,
          24.41,
          23.91
         ],
         "y": [
          98.26,
          98.67,
          98.67,
          98.26
         ],
         "z": [
          0,
          0,
          10,
          10
         ]
        },
        {
         "color": "red",
         "i": [
          0,
          0
         ],
         "j": [
          1,
          2
         ],
         "k": [
          2,
          3
         ],
         "opacity": 0.5,
         "type": "mesh3d",
         "x": [
          24.41,
          23.71,
          23.71,
          24.41
         ],
         "y": [
          98.67,
          98.67,
          98.67,
          98.67
         ],
         "z": [
          0,
          0,
          10,
          10
         ]
        },
        {
         "color": "red",
         "i": [
          0,
          0
         ],
         "j": [
          1,
          2
         ],
         "k": [
          2,
          3
         ],
         "opacity": 0.5,
         "type": "mesh3d",
         "x": [
          23.71,
          23.71,
          23.71,
          23.71
         ],
         "y": [
          98.67,
          98.67,
          98.67,
          98.67
         ],
         "z": [
          0,
          0,
          10,
          10
         ]
        },
        {
         "line": {
          "color": "black",
          "width": 3
         },
         "mode": "lines",
         "type": "scatter3d",
         "x": [
          23.71,
          23.91,
          24.41,
          23.71,
          23.71
         ],
         "y": [
          98.67,
          98.26,
          98.67,
          98.67,
          98.67
         ],
         "z": [
          10,
          10,
          10,
          10,
          10
         ]
        },
        {
         "line": {
          "color": "black",
          "width": 3
         },
         "mode": "lines",
         "type": "scatter3d",
         "x": [
          23.71,
          23.91,
          24.41,
          23.71,
          23.71
         ],
         "y": [
          98.67,
          98.26,
          98.67,
          98.67,
          98.67
         ],
         "z": [
          0,
          0,
          0,
          0,
          0
         ]
        },
        {
         "line": {
          "color": "black",
          "width": 3
         },
         "mode": "lines",
         "type": "scatter3d",
         "x": [
          23.71,
          23.71,
          23.91,
          23.91,
          23.71
         ],
         "y": [
          98.67,
          98.67,
          98.26,
          98.26,
          98.67
         ],
         "z": [
          0,
          10,
          10,
          0,
          0
         ]
        },
        {
         "line": {
          "color": "black",
          "width": 3
         },
         "mode": "lines",
         "type": "scatter3d",
         "x": [
          23.91,
          23.91,
          24.41,
          24.41,
          23.91
         ],
         "y": [
          98.26,
          98.26,
          98.67,
          98.67,
          98.26
         ],
         "z": [
          0,
          10,
          10,
          0,
          0
         ]
        },
        {
         "line": {
          "color": "black",
          "width": 3
         },
         "mode": "lines",
         "type": "scatter3d",
         "x": [
          24.41,
          24.41,
          23.71,
          23.71,
          24.41
         ],
         "y": [
          98.67,
          98.67,
          98.67,
          98.67,
          98.67
         ],
         "z": [
          0,
          10,
          10,
          0,
          0
         ]
        },
        {
         "line": {
          "color": "black",
          "width": 3
         },
         "mode": "lines",
         "type": "scatter3d",
         "x": [
          23.71,
          23.71,
          23.71,
          23.71,
          23.71
         ],
         "y": [
          98.67,
          98.67,
          98.67,
          98.67,
          98.67
         ],
         "z": [
          0,
          10,
          10,
          0,
          0
         ]
        },
        {
         "color": "red",
         "i": [
          0,
          0
         ],
         "j": [
          1,
          2
         ],
         "k": [
          2,
          3
         ],
         "opacity": 0.5,
         "type": "mesh3d",
         "x": [
          31.81,
          32.51,
          32.51,
          31.81
         ],
         "y": [
          90.35,
          90.85,
          90.85,
          90.35
         ],
         "z": [
          0,
          0,
          10,
          10
         ]
        },
        {
         "color": "red",
         "i": [
          0,
          0
         ],
         "j": [
          1,
          2
         ],
         "k": [
          2,
          3
         ],
         "opacity": 0.5,
         "type": "mesh3d",
         "x": [
          32.51,
          32.21,
          32.21,
          32.51
         ],
         "y": [
          90.85,
          91.55,
          91.55,
          90.85
         ],
         "z": [
          0,
          0,
          10,
          10
         ]
        },
        {
         "color": "red",
         "i": [
          0,
          0
         ],
         "j": [
          1,
          2
         ],
         "k": [
          2,
          3
         ],
         "opacity": 0.5,
         "type": "mesh3d",
         "x": [
          32.21,
          32.03,
          32.03,
          32.21
         ],
         "y": [
          91.55,
          91.85,
          91.85,
          91.55
         ],
         "z": [
          0,
          0,
          10,
          10
         ]
        },
        {
         "color": "red",
         "i": [
          0,
          0
         ],
         "j": [
          1,
          2
         ],
         "k": [
          2,
          3
         ],
         "opacity": 0.5,
         "type": "mesh3d",
         "x": [
          32.03,
          34.31,
          34.31,
          32.03
         ],
         "y": [
          91.85,
          93.45,
          93.45,
          91.85
         ],
         "z": [
          0,
          0,
          10,
          10
         ]
        },
        {
         "color": "red",
         "i": [
          0,
          0
         ],
         "j": [
          1,
          2
         ],
         "k": [
          2,
          3
         ],
         "opacity": 0.5,
         "type": "mesh3d",
         "x": [
          34.31,
          32.69,
          32.69,
          34.31
         ],
         "y": [
          93.45,
          96.27,
          96.27,
          93.45
         ],
         "z": [
          0,
          0,
          10,
          10
         ]
        },
        {
         "color": "red",
         "i": [
          0,
          0
         ],
         "j": [
          1,
          2
         ],
         "k": [
          2,
          3
         ],
         "opacity": 0.5,
         "type": "mesh3d",
         "x": [
          32.69,
          30.99,
          30.99,
          32.69
         ],
         "y": [
          96.27,
          95.15,
          95.15,
          96.27
         ],
         "z": [
          0,
          0,
          10,
          10
         ]
        },
        {
         "color": "red",
         "i": [
          0,
          0
         ],
         "j": [
          1,
          2
         ],
         "k": [
          2,
          3
         ],
         "opacity": 0.5,
         "type": "mesh3d",
         "x": [
          30.99,
          32.21,
          32.21,
          30.99
         ],
         "y": [
          95.15,
          92.93,
          92.93,
          95.15
         ],
         "z": [
          0,
          0,
          10,
          10
         ]
        },
        {
         "color": "red",
         "i": [
          0,
          0
         ],
         "j": [
          1,
          2
         ],
         "k": [
          2,
          3
         ],
         "opacity": 0.5,
         "type": "mesh3d",
         "x": [
          32.21,
          30.89,
          30.89,
          32.21
         ],
         "y": [
          92.93,
          91.97,
          91.97,
          92.93
         ],
         "z": [
          0,
          0,
          10,
          10
         ]
        },
        {
         "color": "red",
         "i": [
          0,
          0
         ],
         "j": [
          1,
          2
         ],
         "k": [
          2,
          3
         ],
         "opacity": 0.5,
         "type": "mesh3d",
         "x": [
          30.89,
          31.81,
          31.81,
          30.89
         ],
         "y": [
          91.97,
          90.35,
          90.35,
          91.97
         ],
         "z": [
          0,
          0,
          10,
          10
         ]
        },
        {
         "color": "red",
         "i": [
          0,
          0
         ],
         "j": [
          1,
          2
         ],
         "k": [
          2,
          3
         ],
         "opacity": 0.5,
         "type": "mesh3d",
         "x": [
          31.81,
          31.81,
          31.81,
          31.81
         ],
         "y": [
          90.35,
          90.35,
          90.35,
          90.35
         ],
         "z": [
          0,
          0,
          10,
          10
         ]
        },
        {
         "line": {
          "color": "black",
          "width": 3
         },
         "mode": "lines",
         "type": "scatter3d",
         "x": [
          31.81,
          32.51,
          32.21,
          32.03,
          34.31,
          32.69,
          30.99,
          32.21,
          30.89,
          31.81,
          31.81
         ],
         "y": [
          90.35,
          90.85,
          91.55,
          91.85,
          93.45,
          96.27,
          95.15,
          92.93,
          91.97,
          90.35,
          90.35
         ],
         "z": [
          10,
          10,
          10,
          10,
          10,
          10,
          10,
          10,
          10,
          10,
          10
         ]
        },
        {
         "line": {
          "color": "black",
          "width": 3
         },
         "mode": "lines",
         "type": "scatter3d",
         "x": [
          31.81,
          32.51,
          32.21,
          32.03,
          34.31,
          32.69,
          30.99,
          32.21,
          30.89,
          31.81,
          31.81
         ],
         "y": [
          90.35,
          90.85,
          91.55,
          91.85,
          93.45,
          96.27,
          95.15,
          92.93,
          91.97,
          90.35,
          90.35
         ],
         "z": [
          0,
          0,
          0,
          0,
          0,
          0,
          0,
          0,
          0,
          0,
          0
         ]
        },
        {
         "line": {
          "color": "black",
          "width": 3
         },
         "mode": "lines",
         "type": "scatter3d",
         "x": [
          31.81,
          31.81,
          32.51,
          32.51,
          31.81
         ],
         "y": [
          90.35,
          90.35,
          90.85,
          90.85,
          90.35
         ],
         "z": [
          0,
          10,
          10,
          0,
          0
         ]
        },
        {
         "line": {
          "color": "black",
          "width": 3
         },
         "mode": "lines",
         "type": "scatter3d",
         "x": [
          32.51,
          32.51,
          32.21,
          32.21,
          32.51
         ],
         "y": [
          90.85,
          90.85,
          91.55,
          91.55,
          90.85
         ],
         "z": [
          0,
          10,
          10,
          0,
          0
         ]
        },
        {
         "line": {
          "color": "black",
          "width": 3
         },
         "mode": "lines",
         "type": "scatter3d",
         "x": [
          32.21,
          32.21,
          32.03,
          32.03,
          32.21
         ],
         "y": [
          91.55,
          91.55,
          91.85,
          91.85,
          91.55
         ],
         "z": [
          0,
          10,
          10,
          0,
          0
         ]
        },
        {
         "line": {
          "color": "black",
          "width": 3
         },
         "mode": "lines",
         "type": "scatter3d",
         "x": [
          32.03,
          32.03,
          34.31,
          34.31,
          32.03
         ],
         "y": [
          91.85,
          91.85,
          93.45,
          93.45,
          91.85
         ],
         "z": [
          0,
          10,
          10,
          0,
          0
         ]
        },
        {
         "line": {
          "color": "black",
          "width": 3
         },
         "mode": "lines",
         "type": "scatter3d",
         "x": [
          34.31,
          34.31,
          32.69,
          32.69,
          34.31
         ],
         "y": [
          93.45,
          93.45,
          96.27,
          96.27,
          93.45
         ],
         "z": [
          0,
          10,
          10,
          0,
          0
         ]
        },
        {
         "line": {
          "color": "black",
          "width": 3
         },
         "mode": "lines",
         "type": "scatter3d",
         "x": [
          32.69,
          32.69,
          30.99,
          30.99,
          32.69
         ],
         "y": [
          96.27,
          96.27,
          95.15,
          95.15,
          96.27
         ],
         "z": [
          0,
          10,
          10,
          0,
          0
         ]
        },
        {
         "line": {
          "color": "black",
          "width": 3
         },
         "mode": "lines",
         "type": "scatter3d",
         "x": [
          30.99,
          30.99,
          32.21,
          32.21,
          30.99
         ],
         "y": [
          95.15,
          95.15,
          92.93,
          92.93,
          95.15
         ],
         "z": [
          0,
          10,
          10,
          0,
          0
         ]
        },
        {
         "line": {
          "color": "black",
          "width": 3
         },
         "mode": "lines",
         "type": "scatter3d",
         "x": [
          32.21,
          32.21,
          30.89,
          30.89,
          32.21
         ],
         "y": [
          92.93,
          92.93,
          91.97,
          91.97,
          92.93
         ],
         "z": [
          0,
          10,
          10,
          0,
          0
         ]
        },
        {
         "line": {
          "color": "black",
          "width": 3
         },
         "mode": "lines",
         "type": "scatter3d",
         "x": [
          30.89,
          30.89,
          31.81,
          31.81,
          30.89
         ],
         "y": [
          91.97,
          91.97,
          90.35,
          90.35,
          91.97
         ],
         "z": [
          0,
          10,
          10,
          0,
          0
         ]
        },
        {
         "line": {
          "color": "black",
          "width": 3
         },
         "mode": "lines",
         "type": "scatter3d",
         "x": [
          31.81,
          31.81,
          31.81,
          31.81,
          31.81
         ],
         "y": [
          90.35,
          90.35,
          90.35,
          90.35,
          90.35
         ],
         "z": [
          0,
          10,
          10,
          0,
          0
         ]
        },
        {
         "color": "red",
         "i": [
          0,
          0
         ],
         "j": [
          1,
          2
         ],
         "k": [
          2,
          3
         ],
         "opacity": 0.5,
         "type": "mesh3d",
         "x": [
          30.21,
          31.85,
          31.85,
          30.21
         ],
         "y": [
          96,
          97.11,
          97.11,
          96
         ],
         "z": [
          0,
          0,
          10,
          10
         ]
        },
        {
         "color": "red",
         "i": [
          0,
          0
         ],
         "j": [
          1,
          2
         ],
         "k": [
          2,
          3
         ],
         "opacity": 0.5,
         "type": "mesh3d",
         "x": [
          31.85,
          31.02,
          31.02,
          31.85
         ],
         "y": [
          97.11,
          98.55,
          98.55,
          97.11
         ],
         "z": [
          0,
          0,
          10,
          10
         ]
        },
        {
         "color": "red",
         "i": [
          0,
          0
         ],
         "j": [
          1,
          2
         ],
         "k": [
          2,
          3
         ],
         "opacity": 0.5,
         "type": "mesh3d",
         "x": [
          31.02,
          30.5,
          30.5,
          31.02
         ],
         "y": [
          98.55,
          98.26,
          98.26,
          98.55
         ],
         "z": [
          0,
          0,
          10,
          10
         ]
        },
        {
         "color": "red",
         "i": [
          0,
          0
         ],
         "j": [
          1,
          2
         ],
         "k": [
          2,
          3
         ],
         "opacity": 0.5,
         "type": "mesh3d",
         "x": [
          30.5,
          30.31,
          30.31,
          30.5
         ],
         "y": [
          98.26,
          98.53,
          98.53,
          98.26
         ],
         "z": [
          0,
          0,
          10,
          10
         ]
        },
        {
         "color": "red",
         "i": [
          0,
          0
         ],
         "j": [
          1,
          2
         ],
         "k": [
          2,
          3
         ],
         "opacity": 0.5,
         "type": "mesh3d",
         "x": [
          30.31,
          30.51,
          30.51,
          30.31
         ],
         "y": [
          98.53,
          98.67,
          98.67,
          98.53
         ],
         "z": [
          0,
          0,
          10,
          10
         ]
        },
        {
         "color": "red",
         "i": [
          0,
          0
         ],
         "j": [
          1,
          2
         ],
         "k": [
          2,
          3
         ],
         "opacity": 0.5,
         "type": "mesh3d",
         "x": [
          30.51,
          27.81,
          27.81,
          30.51
         ],
         "y": [
          98.67,
          98.67,
          98.67,
          98.67
         ],
         "z": [
          0,
          0,
          10,
          10
         ]
        },
        {
         "color": "red",
         "i": [
          0,
          0
         ],
         "j": [
          1,
          2
         ],
         "k": [
          2,
          3
         ],
         "opacity": 0.5,
         "type": "mesh3d",
         "x": [
          27.81,
          27.21,
          27.21,
          27.81
         ],
         "y": [
          98.67,
          98.28,
          98.28,
          98.67
         ],
         "z": [
          0,
          0,
          10,
          10
         ]
        },
        {
         "color": "red",
         "i": [
          0,
          0
         ],
         "j": [
          1,
          2
         ],
         "k": [
          2,
          3
         ],
         "opacity": 0.5,
         "type": "mesh3d",
         "x": [
          27.21,
          27.73,
          27.73,
          27.21
         ],
         "y": [
          98.28,
          97.43,
          97.43,
          98.28
         ],
         "z": [
          0,
          0,
          10,
          10
         ]
        },
        {
         "color": "red",
         "i": [
          0,
          0
         ],
         "j": [
          1,
          2
         ],
         "k": [
          2,
          3
         ],
         "opacity": 0.5,
         "type": "mesh3d",
         "x": [
          27.73,
          28.95,
          28.95,
          27.73
         ],
         "y": [
          97.43,
          98.25,
          98.25,
          97.43
         ],
         "z": [
          0,
          0,
          10,
          10
         ]
        },
        {
         "color": "red",
         "i": [
          0,
          0
         ],
         "j": [
          1,
          2
         ],
         "k": [
          2,
          3
         ],
         "opacity": 0.5,
         "type": "mesh3d",
         "x": [
          28.95,
          30.21,
          30.21,
          28.95
         ],
         "y": [
          98.25,
          96,
          96,
          98.25
         ],
         "z": [
          0,
          0,
          10,
          10
         ]
        },
        {
         "color": "red",
         "i": [
          0,
          0
         ],
         "j": [
          1,
          2
         ],
         "k": [
          2,
          3
         ],
         "opacity": 0.5,
         "type": "mesh3d",
         "x": [
          30.21,
          30.21,
          30.21,
          30.21
         ],
         "y": [
          96,
          96,
          96,
          96
         ],
         "z": [
          0,
          0,
          10,
          10
         ]
        },
        {
         "line": {
          "color": "black",
          "width": 3
         },
         "mode": "lines",
         "type": "scatter3d",
         "x": [
          30.21,
          31.85,
          31.02,
          30.5,
          30.31,
          30.51,
          27.81,
          27.21,
          27.73,
          28.95,
          30.21,
          30.21
         ],
         "y": [
          96,
          97.11,
          98.55,
          98.26,
          98.53,
          98.67,
          98.67,
          98.28,
          97.43,
          98.25,
          96,
          96
         ],
         "z": [
          10,
          10,
          10,
          10,
          10,
          10,
          10,
          10,
          10,
          10,
          10,
          10
         ]
        },
        {
         "line": {
          "color": "black",
          "width": 3
         },
         "mode": "lines",
         "type": "scatter3d",
         "x": [
          30.21,
          31.85,
          31.02,
          30.5,
          30.31,
          30.51,
          27.81,
          27.21,
          27.73,
          28.95,
          30.21,
          30.21
         ],
         "y": [
          96,
          97.11,
          98.55,
          98.26,
          98.53,
          98.67,
          98.67,
          98.28,
          97.43,
          98.25,
          96,
          96
         ],
         "z": [
          0,
          0,
          0,
          0,
          0,
          0,
          0,
          0,
          0,
          0,
          0,
          0
         ]
        },
        {
         "line": {
          "color": "black",
          "width": 3
         },
         "mode": "lines",
         "type": "scatter3d",
         "x": [
          30.21,
          30.21,
          31.85,
          31.85,
          30.21
         ],
         "y": [
          96,
          96,
          97.11,
          97.11,
          96
         ],
         "z": [
          0,
          10,
          10,
          0,
          0
         ]
        },
        {
         "line": {
          "color": "black",
          "width": 3
         },
         "mode": "lines",
         "type": "scatter3d",
         "x": [
          31.85,
          31.85,
          31.02,
          31.02,
          31.85
         ],
         "y": [
          97.11,
          97.11,
          98.55,
          98.55,
          97.11
         ],
         "z": [
          0,
          10,
          10,
          0,
          0
         ]
        },
        {
         "line": {
          "color": "black",
          "width": 3
         },
         "mode": "lines",
         "type": "scatter3d",
         "x": [
          31.02,
          31.02,
          30.5,
          30.5,
          31.02
         ],
         "y": [
          98.55,
          98.55,
          98.26,
          98.26,
          98.55
         ],
         "z": [
          0,
          10,
          10,
          0,
          0
         ]
        },
        {
         "line": {
          "color": "black",
          "width": 3
         },
         "mode": "lines",
         "type": "scatter3d",
         "x": [
          30.5,
          30.5,
          30.31,
          30.31,
          30.5
         ],
         "y": [
          98.26,
          98.26,
          98.53,
          98.53,
          98.26
         ],
         "z": [
          0,
          10,
          10,
          0,
          0
         ]
        },
        {
         "line": {
          "color": "black",
          "width": 3
         },
         "mode": "lines",
         "type": "scatter3d",
         "x": [
          30.31,
          30.31,
          30.51,
          30.51,
          30.31
         ],
         "y": [
          98.53,
          98.53,
          98.67,
          98.67,
          98.53
         ],
         "z": [
          0,
          10,
          10,
          0,
          0
         ]
        },
        {
         "line": {
          "color": "black",
          "width": 3
         },
         "mode": "lines",
         "type": "scatter3d",
         "x": [
          30.51,
          30.51,
          27.81,
          27.81,
          30.51
         ],
         "y": [
          98.67,
          98.67,
          98.67,
          98.67,
          98.67
         ],
         "z": [
          0,
          10,
          10,
          0,
          0
         ]
        },
        {
         "line": {
          "color": "black",
          "width": 3
         },
         "mode": "lines",
         "type": "scatter3d",
         "x": [
          27.81,
          27.81,
          27.21,
          27.21,
          27.81
         ],
         "y": [
          98.67,
          98.67,
          98.28,
          98.28,
          98.67
         ],
         "z": [
          0,
          10,
          10,
          0,
          0
         ]
        },
        {
         "line": {
          "color": "black",
          "width": 3
         },
         "mode": "lines",
         "type": "scatter3d",
         "x": [
          27.21,
          27.21,
          27.73,
          27.73,
          27.21
         ],
         "y": [
          98.28,
          98.28,
          97.43,
          97.43,
          98.28
         ],
         "z": [
          0,
          10,
          10,
          0,
          0
         ]
        },
        {
         "line": {
          "color": "black",
          "width": 3
         },
         "mode": "lines",
         "type": "scatter3d",
         "x": [
          27.73,
          27.73,
          28.95,
          28.95,
          27.73
         ],
         "y": [
          97.43,
          97.43,
          98.25,
          98.25,
          97.43
         ],
         "z": [
          0,
          10,
          10,
          0,
          0
         ]
        },
        {
         "line": {
          "color": "black",
          "width": 3
         },
         "mode": "lines",
         "type": "scatter3d",
         "x": [
          28.95,
          28.95,
          30.21,
          30.21,
          28.95
         ],
         "y": [
          98.25,
          98.25,
          96,
          96,
          98.25
         ],
         "z": [
          0,
          10,
          10,
          0,
          0
         ]
        },
        {
         "line": {
          "color": "black",
          "width": 3
         },
         "mode": "lines",
         "type": "scatter3d",
         "x": [
          30.21,
          30.21,
          30.21,
          30.21,
          30.21
         ],
         "y": [
          96,
          96,
          96,
          96,
          96
         ],
         "z": [
          0,
          10,
          10,
          0,
          0
         ]
        },
        {
         "marker": {
          "color": "blue",
          "size": 5
         },
         "mode": "markers",
         "type": "scatter3d",
         "x": [
          27.747125734960182,
          28.4259771822822,
          24.470242608783693,
          23.319807378900116,
          30.69768702630477,
          34.23204747057705,
          30.21401181045421,
          24.13772772451559,
          22.578210892111414,
          27.602100867877482,
          28.5640791647123,
          28.32722338301113,
          34.421311893668154,
          26.068993136270333,
          25.747848955125836,
          31.589363729663383,
          33.93643877183452,
          22.216670029560184,
          34.20959343997334,
          23.103989328524463,
          34.010292891107675,
          23.654218156095304,
          23.44680682163007,
          31.965543304970247,
          29.055772533311234,
          24.54397724315408,
          24.815475837631254,
          34.094171648116784,
          25.932736634420912,
          24.78909311035754,
          23.43807288673073,
          25.837015094211104,
          23.313034197054026,
          25.184478142483766,
          29.851405995522367,
          23.855648653289272,
          28.457006509641264,
          34.21685436985902,
          23.066511255757323,
          25.388712235427327,
          25.913093797237618,
          26.124550753608457,
          33.29107540190555,
          33.09093599323694,
          25.308681945812534,
          23.308749704270774,
          23.1348753707346,
          33.82264795025609,
          30.988501936463116,
          22.224897890240893
         ],
         "y": [
          94.17087378574267,
          94.45307295084595,
          93.68170629100726,
          96.72456714123255,
          88.87801703769983,
          98.30982452310329,
          94.741050840793,
          88.60330753162496,
          93.19141019370197,
          97.0596052534594,
          94.99378125493399,
          95.22023421591956,
          98.62596857772635,
          90.7971855144328,
          89.16768416550245,
          92.54208600626698,
          97.10950588315467,
          90.59331197853663,
          92.51167724617025,
          94.88302920303173,
          96.19717408367622,
          90.9680848376878,
          89.06211057805781,
          90.26587047018731,
          93.02268224806045,
          95.92995888460067,
          91.20730466688792,
          96.66086556149877,
          97.49332145229448,
          92.4794867908764,
          98.56066334855396,
          89.20013321562969,
          94.40554963727239,
          94.59512088140741,
          94.62984709022406,
          98.34749196435357,
          91.19687937428749,
          92.38248947770259,
          95.28853347549571,
          90.67938036697294,
          94.65478721833412,
          95.24262911794256,
          98.57642352713984,
          97.86719617561488,
          96.87140453394655,
          94.39572733477696,
          89.4633817422264,
          89.74629707922509,
          93.83729674500599,
          96.55621124418023
         ],
         "z": [
          0,
          0,
          0,
          0,
          0,
          0,
          0,
          0,
          0,
          0,
          0,
          0,
          0,
          0,
          0,
          0,
          0,
          0,
          0,
          0,
          0,
          0,
          0,
          0,
          0,
          0,
          0,
          0,
          0,
          0,
          0,
          0,
          0,
          0,
          0,
          0,
          0,
          0,
          0,
          0,
          0,
          0,
          0,
          0,
          0,
          0,
          0,
          0,
          0,
          0
         ]
        },
        {
         "marker": {
          "color": "orange",
          "size": 8
         },
         "mode": "markers",
         "type": "scatter3d",
         "x": [
          27.55470577587296
         ],
         "y": [
          93.92084405438013
         ],
         "z": [
          0
         ]
        },
        {
         "line": {
          "color": "gray",
          "width": 5
         },
         "mode": "lines",
         "type": "scatter3d",
         "x": [
          27.55470577587296,
          27.55470577587296,
          27.747125734960182,
          27.747125734960182,
          27.747125734960182,
          27.55470577587296,
          27.55470577587296,
          27.55470577587296,
          27.55470577587296,
          28.4259771822822,
          28.4259771822822,
          28.4259771822822,
          27.55470577587296,
          27.55470577587296,
          27.55470577587296,
          27.55470577587296,
          26.72,
          25.21,
          24.470242608783693,
          24.470242608783693,
          24.470242608783693,
          25.21,
          26.72,
          27.55470577587296,
          27.55470577587296,
          27.55470577587296,
          27.55470577587296,
          26.69,
          25.81,
          23.319807378900116,
          23.319807378900116,
          23.319807378900116,
          25.81,
          26.69,
          27.55470577587296,
          27.55470577587296,
          27.55470577587296,
          27.55470577587296,
          30.69768702630477,
          30.69768702630477,
          30.69768702630477,
          27.55470577587296,
          27.55470577587296,
          27.55470577587296,
          27.55470577587296,
          34.23204747057705,
          34.23204747057705,
          34.23204747057705,
          27.55470577587296,
          27.55470577587296,
          27.55470577587296,
          27.55470577587296,
          30.21401181045421,
          30.21401181045421,
          30.21401181045421,
          27.55470577587296,
          27.55470577587296,
          27.55470577587296,
          27.55470577587296,
          25.643333333333334,
          24.13772772451559,
          24.13772772451559,
          24.13772772451559,
          25.643333333333334,
          27.55470577587296,
          27.55470577587296,
          27.55470577587296,
          27.55470577587296,
          26.72,
          25.009999999999998,
          22.578210892111414,
          22.578210892111414,
          22.578210892111414,
          25.009999999999998,
          26.72,
          27.55470577587296,
          27.55470577587296,
          27.55470577587296,
          27.55470577587296,
          27.602100867877482,
          27.602100867877482,
          27.602100867877482,
          27.55470577587296,
          27.55470577587296,
          27.55470577587296,
          27.55470577587296,
          28.5640791647123,
          28.5640791647123,
          28.5640791647123,
          27.55470577587296,
          27.55470577587296,
          27.55470577587296,
          27.55470577587296,
          28.32722338301113,
          28.32722338301113,
          28.32722338301113,
          27.55470577587296,
          27.55470577587296,
          27.55470577587296,
          27.55470577587296,
          34.421311893668154,
          34.421311893668154,
          34.421311893668154,
          27.55470577587296,
          27.55470577587296,
          27.55470577587296,
          27.55470577587296,
          26.068993136270333,
          26.068993136270333,
          26.068993136270333,
          27.55470577587296,
          27.55470577587296,
          27.55470577587296,
          27.55470577587296,
          25.96,
          25.747848955125836,
          25.747848955125836,
          25.747848955125836,
          25.96,
          27.55470577587296,
          27.55470577587296,
          27.55470577587296,
          27.55470577587296,
          31.589363729663383,
          31.589363729663383,
          31.589363729663383,
          27.55470577587296,
          27.55470577587296,
          27.55470577587296,
          27.55470577587296,
          33.93643877183452,
          33.93643877183452,
          33.93643877183452,
          27.55470577587296,
          27.55470577587296,
          27.55470577587296,
          27.55470577587296,
          22.216670029560184,
          22.216670029560184,
          22.216670029560184,
          27.55470577587296,
          27.55470577587296,
          27.55470577587296,
          27.55470577587296,
          33.550000000000004,
          34.20959343997334,
          34.20959343997334,
          34.20959343997334,
          33.550000000000004,
          27.55470577587296,
          27.55470577587296,
          27.55470577587296,
          27.55470577587296,
          26.41,
          23.103989328524463,
          23.103989328524463,
          23.103989328524463,
          26.41,
          27.55470577587296,
          27.55470577587296,
          27.55470577587296,
          27.55470577587296,
          32.69,
          34.010292891107675,
          34.010292891107675,
          34.010292891107675,
          32.69,
          27.55470577587296,
          27.55470577587296,
          27.55470577587296,
          27.55470577587296,
          23.654218156095304,
          23.654218156095304,
          23.654218156095304,
          27.55470577587296,
          27.55470577587296,
          27.55470577587296,
          27.55470577587296,
          24.310000000000002,
          23.44680682163007,
          23.44680682163007,
          23.44680682163007,
          24.310000000000002,
          27.55470577587296,
          27.55470577587296,
          27.55470577587296,
          27.55470577587296,
          31.81,
          31.965543304970247,
          31.965543304970247,
          31.965543304970247,
          31.81,
          27.55470577587296,
          27.55470577587296,
          27.55470577587296,
          27.55470577587296,
          29.055772533311234,
          29.055772533311234,
          29.055772533311234,
          27.55470577587296,
          27.55470577587296,
          27.55470577587296,
          27.55470577587296,
          26.69,
          25.81,
          24.54397724315408,
          24.54397724315408,
          24.54397724315408,
          25.81,
          26.69,
          27.55470577587296,
          27.55470577587296,
          27.55470577587296,
          27.55470577587296,
          24.815475837631254,
          24.815475837631254,
          24.815475837631254,
          27.55470577587296,
          27.55470577587296,
          27.55470577587296,
          27.55470577587296,
          32.69,
          34.094171648116784,
          34.094171648116784,
          34.094171648116784,
          32.69,
          27.55470577587296,
          27.55470577587296,
          27.55470577587296,
          27.55470577587296,
          25.932736634420912,
          25.932736634420912,
          25.932736634420912,
          27.55470577587296,
          27.55470577587296,
          27.55470577587296,
          27.55470577587296,
          25.33,
          24.78909311035754,
          24.78909311035754,
          24.78909311035754,
          25.33,
          27.55470577587296,
          27.55470577587296,
          27.55470577587296,
          27.55470577587296,
          26.69,
          25.11,
          23.43807288673073,
          23.43807288673073,
          23.43807288673073,
          25.11,
          26.69,
          27.55470577587296,
          27.55470577587296,
          27.55470577587296,
          27.55470577587296,
          25.837015094211104,
          25.837015094211104,
          25.837015094211104,
          27.55470577587296,
          27.55470577587296,
          27.55470577587296,
          27.55470577587296,
          26.72,
          25.21,
          23.313034197054026,
          23.313034197054026,
          23.313034197054026,
          25.21,
          26.72,
          27.55470577587296,
          27.55470577587296,
          27.55470577587296,
          27.55470577587296,
          26.41,
          25.184478142483766,
          25.184478142483766,
          25.184478142483766,
          26.41,
          27.55470577587296,
          27.55470577587296,
          27.55470577587296,
          27.55470577587296,
          29.851405995522367,
          29.851405995522367,
          29.851405995522367,
          27.55470577587296,
          27.55470577587296,
          27.55470577587296,
          27.55470577587296,
          26.69,
          25.11,
          23.91,
          23.855648653289272,
          23.855648653289272,
          23.855648653289272,
          23.91,
          25.11,
          26.69,
          27.55470577587296,
          27.55470577587296,
          27.55470577587296,
          27.55470577587296,
          28.457006509641264,
          28.457006509641264,
          28.457006509641264,
          27.55470577587296,
          27.55470577587296,
          27.55470577587296,
          27.55470577587296,
          31.55,
          32.79,
          34.21685436985902,
          34.21685436985902,
          34.21685436985902,
          32.79,
          31.55,
          27.55470577587296,
          27.55470577587296,
          27.55470577587296,
          27.55470577587296,
          26.41,
          23.066511255757323,
          23.066511255757323,
          23.066511255757323,
          26.41,
          27.55470577587296,
          27.55470577587296,
          27.55470577587296,
          27.55470577587296,
          25.388712235427327,
          25.388712235427327,
          25.388712235427327,
          27.55470577587296,
          27.55470577587296,
          27.55470577587296,
          27.55470577587296,
          26.41,
          25.913093797237618,
          25.913093797237618,
          25.913093797237618,
          26.41,
          27.55470577587296,
          27.55470577587296,
          27.55470577587296,
          27.55470577587296,
          26.69,
          26.124550753608457,
          26.124550753608457,
          26.124550753608457,
          26.69,
          27.55470577587296,
          27.55470577587296,
          27.55470577587296,
          27.55470577587296,
          31.85,
          33.29107540190555,
          33.29107540190555,
          33.29107540190555,
          31.85,
          27.55470577587296,
          27.55470577587296,
          27.55470577587296,
          27.55470577587296,
          33.09093599323694,
          33.09093599323694,
          33.09093599323694,
          27.55470577587296,
          27.55470577587296,
          27.55470577587296,
          27.55470577587296,
          26.25,
          25.93,
          25.69,
          25.308681945812534,
          25.308681945812534,
          25.308681945812534,
          25.69,
          25.93,
          26.25,
          27.55470577587296,
          27.55470577587296,
          27.55470577587296,
          27.55470577587296,
          26.72,
          25.21,
          23.308749704270774,
          23.308749704270774,
          23.308749704270774,
          25.21,
          26.72,
          27.55470577587296,
          27.55470577587296,
          27.55470577587296,
          27.55470577587296,
          23.61,
          23.1348753707346,
          23.1348753707346,
          23.1348753707346,
          23.61,
          27.55470577587296,
          27.55470577587296,
          27.55470577587296,
          27.55470577587296,
          31.35,
          33.82264795025609,
          33.82264795025609,
          33.82264795025609,
          31.35,
          27.55470577587296,
          27.55470577587296,
          27.55470577587296,
          27.55470577587296,
          30.988501936463116,
          30.988501936463116,
          30.988501936463116,
          27.55470577587296,
          27.55470577587296,
          27.55470577587296,
          27.55470577587296,
          26.41,
          22.224897890240893,
          22.224897890240893,
          22.224897890240893,
          26.41,
          27.55470577587296,
          27.55470577587296
         ],
         "y": [
          93.92084405438013,
          93.92084405438013,
          94.17087378574267,
          94.17087378574267,
          94.17087378574267,
          93.92084405438013,
          93.92084405438013,
          93.92084405438013,
          93.92084405438013,
          94.45307295084595,
          94.45307295084595,
          94.45307295084595,
          93.92084405438013,
          93.92084405438013,
          93.92084405438013,
          93.92084405438013,
          93.65,
          94.15,
          93.68170629100726,
          93.68170629100726,
          93.68170629100726,
          94.15,
          93.65,
          93.92084405438013,
          93.92084405438013,
          93.92084405438013,
          93.92084405438013,
          95.18,
          95.4,
          96.72456714123255,
          96.72456714123255,
          96.72456714123255,
          95.4,
          95.18,
          93.92084405438013,
          93.92084405438013,
          93.92084405438013,
          93.92084405438013,
          88.87801703769983,
          88.87801703769983,
          88.87801703769983,
          93.92084405438013,
          93.92084405438013,
          93.92084405438013,
          93.92084405438013,
          98.30982452310329,
          98.30982452310329,
          98.30982452310329,
          93.92084405438013,
          93.92084405438013,
          93.92084405438013,
          93.92084405438013,
          94.741050840793,
          94.741050840793,
          94.741050840793,
          93.92084405438013,
          93.92084405438013,
          93.92084405438013,
          93.92084405438013,
          90.14999999999999,
          88.60330753162496,
          88.60330753162496,
          88.60330753162496,
          90.14999999999999,
          93.92084405438013,
          93.92084405438013,
          93.92084405438013,
          93.92084405438013,
          93.65,
          93.205,
          93.19141019370197,
          93.19141019370197,
          93.19141019370197,
          93.205,
          93.65,
          93.92084405438013,
          93.92084405438013,
          93.92084405438013,
          93.92084405438013,
          97.0596052534594,
          97.0596052534594,
          97.0596052534594,
          93.92084405438013,
          93.92084405438013,
          93.92084405438013,
          93.92084405438013,
          94.99378125493399,
          94.99378125493399,
          94.99378125493399,
          93.92084405438013,
          93.92084405438013,
          93.92084405438013,
          93.92084405438013,
          95.22023421591956,
          95.22023421591956,
          95.22023421591956,
          93.92084405438013,
          93.92084405438013,
          93.92084405438013,
          93.92084405438013,
          98.62596857772635,
          98.62596857772635,
          98.62596857772635,
          93.92084405438013,
          93.92084405438013,
          93.92084405438013,
          93.92084405438013,
          90.7971855144328,
          90.7971855144328,
          90.7971855144328,
          93.92084405438013,
          93.92084405438013,
          93.92084405438013,
          93.92084405438013,
          89.55,
          89.16768416550245,
          89.16768416550245,
          89.16768416550245,
          89.55,
          93.92084405438013,
          93.92084405438013,
          93.92084405438013,
          93.92084405438013,
          92.54208600626698,
          92.54208600626698,
          92.54208600626698,
          93.92084405438013,
          93.92084405438013,
          93.92084405438013,
          93.92084405438013,
          97.10950588315467,
          97.10950588315467,
          97.10950588315467,
          93.92084405438013,
          93.92084405438013,
          93.92084405438013,
          93.92084405438013,
          90.59331197853663,
          90.59331197853663,
          90.59331197853663,
          93.92084405438013,
          93.92084405438013,
          93.92084405438013,
          93.92084405438013,
          92.91666666666667,
          92.51167724617025,
          92.51167724617025,
          92.51167724617025,
          92.91666666666667,
          93.92084405438013,
          93.92084405438013,
          93.92084405438013,
          93.92084405438013,
          94.24000000000001,
          94.88302920303173,
          94.88302920303173,
          94.88302920303173,
          94.24000000000001,
          93.92084405438013,
          93.92084405438013,
          93.92084405438013,
          93.92084405438013,
          96.27,
          96.19717408367622,
          96.19717408367622,
          96.19717408367622,
          96.27,
          93.92084405438013,
          93.92084405438013,
          93.92084405438013,
          93.92084405438013,
          90.9680848376878,
          90.9680848376878,
          90.9680848376878,
          93.92084405438013,
          93.92084405438013,
          93.92084405438013,
          93.92084405438013,
          90.835,
          89.06211057805781,
          89.06211057805781,
          89.06211057805781,
          90.835,
          93.92084405438013,
          93.92084405438013,
          93.92084405438013,
          93.92084405438013,
          90.35,
          90.26587047018731,
          90.26587047018731,
          90.26587047018731,
          90.35,
          93.92084405438013,
          93.92084405438013,
          93.92084405438013,
          93.92084405438013,
          93.02268224806045,
          93.02268224806045,
          93.02268224806045,
          93.92084405438013,
          93.92084405438013,
          93.92084405438013,
          93.92084405438013,
          95.18,
          95.4,
          95.92995888460067,
          95.92995888460067,
          95.92995888460067,
          95.4,
          95.18,
          93.92084405438013,
          93.92084405438013,
          93.92084405438013,
          93.92084405438013,
          91.20730466688792,
          91.20730466688792,
          91.20730466688792,
          93.92084405438013,
          93.92084405438013,
          93.92084405438013,
          93.92084405438013,
          96.27,
          96.66086556149877,
          96.66086556149877,
          96.66086556149877,
          96.27,
          93.92084405438013,
          93.92084405438013,
          93.92084405438013,
          93.92084405438013,
          97.49332145229448,
          97.49332145229448,
          97.49332145229448,
          93.92084405438013,
          93.92084405438013,
          93.92084405438013,
          93.92084405438013,
          92.62,
          92.4794867908764,
          92.4794867908764,
          92.4794867908764,
          92.62,
          93.92084405438013,
          93.92084405438013,
          93.92084405438013,
          93.92084405438013,
          95.18,
          96.65,
          98.56066334855396,
          98.56066334855396,
          98.56066334855396,
          96.65,
          95.18,
          93.92084405438013,
          93.92084405438013,
          93.92084405438013,
          93.92084405438013,
          89.20013321562969,
          89.20013321562969,
          89.20013321562969,
          93.92084405438013,
          93.92084405438013,
          93.92084405438013,
          93.92084405438013,
          93.65,
          94.15,
          94.40554963727239,
          94.40554963727239,
          94.40554963727239,
          94.15,
          93.65,
          93.92084405438013,
          93.92084405438013,
          93.92084405438013,
          93.92084405438013,
          94.24000000000001,
          94.59512088140741,
          94.59512088140741,
          94.59512088140741,
          94.24000000000001,
          93.92084405438013,
          93.92084405438013,
          93.92084405438013,
          93.92084405438013,
          94.62984709022406,
          94.62984709022406,
          94.62984709022406,
          93.92084405438013,
          93.92084405438013,
          93.92084405438013,
          93.92084405438013,
          95.18,
          96.65,
          98.26,
          98.34749196435357,
          98.34749196435357,
          98.34749196435357,
          98.26,
          96.65,
          95.18,
          93.92084405438013,
          93.92084405438013,
          93.92084405438013,
          93.92084405438013,
          91.19687937428749,
          91.19687937428749,
          91.19687937428749,
          93.92084405438013,
          93.92084405438013,
          93.92084405438013,
          93.92084405438013,
          92.45,
          92.38333333333333,
          92.38248947770259,
          92.38248947770259,
          92.38248947770259,
          92.38333333333333,
          92.45,
          93.92084405438013,
          93.92084405438013,
          93.92084405438013,
          93.92084405438013,
          94.24000000000001,
          95.28853347549571,
          95.28853347549571,
          95.28853347549571,
          94.24000000000001,
          93.92084405438013,
          93.92084405438013,
          93.92084405438013,
          93.92084405438013,
          90.67938036697294,
          90.67938036697294,
          90.67938036697294,
          93.92084405438013,
          93.92084405438013,
          93.92084405438013,
          93.92084405438013,
          94.24000000000001,
          94.65478721833412,
          94.65478721833412,
          94.65478721833412,
          94.24000000000001,
          93.92084405438013,
          93.92084405438013,
          93.92084405438013,
          93.92084405438013,
          95.18,
          95.24262911794256,
          95.24262911794256,
          95.24262911794256,
          95.18,
          93.92084405438013,
          93.92084405438013,
          93.92084405438013,
          93.92084405438013,
          97.11,
          98.57642352713984,
          98.57642352713984,
          98.57642352713984,
          97.11,
          93.92084405438013,
          93.92084405438013,
          93.92084405438013,
          93.92084405438013,
          97.86719617561488,
          97.86719617561488,
          97.86719617561488,
          93.92084405438013,
          93.92084405438013,
          93.92084405438013,
          93.92084405438013,
          96.37,
          96.94,
          97.01,
          96.87140453394655,
          96.87140453394655,
          96.87140453394655,
          97.01,
          96.94,
          96.37,
          93.92084405438013,
          93.92084405438013,
          93.92084405438013,
          93.92084405438013,
          93.65,
          94.15,
          94.39572733477696,
          94.39572733477696,
          94.39572733477696,
          94.15,
          93.65,
          93.92084405438013,
          93.92084405438013,
          93.92084405438013,
          93.92084405438013,
          90.32,
          89.4633817422264,
          89.4633817422264,
          89.4633817422264,
          90.32,
          93.92084405438013,
          93.92084405438013,
          93.92084405438013,
          93.92084405438013,
          91.16,
          89.74629707922509,
          89.74629707922509,
          89.74629707922509,
          91.16,
          93.92084405438013,
          93.92084405438013,
          93.92084405438013,
          93.92084405438013,
          93.83729674500599,
          93.83729674500599,
          93.83729674500599,
          93.92084405438013,
          93.92084405438013,
          93.92084405438013,
          93.92084405438013,
          94.24000000000001,
          96.55621124418023,
          96.55621124418023,
          96.55621124418023,
          94.24000000000001,
          93.92084405438013,
          93.92084405438013
         ],
         "z": [
          0,
          9.5,
          9.5,
          0,
          9.5,
          9.5,
          0,
          0,
          9.5,
          9.5,
          0,
          9.5,
          9.5,
          0,
          0,
          9.5,
          9.505,
          9.505,
          9.5,
          0,
          9.5,
          9.505,
          9.505,
          9.5,
          0,
          0,
          9.5,
          9.505,
          9.505,
          9.5,
          0,
          9.5,
          9.505,
          9.505,
          9.5,
          0,
          0,
          9.5,
          9.5,
          0,
          9.5,
          9.5,
          0,
          0,
          9.5,
          9.5,
          0,
          9.5,
          9.5,
          0,
          0,
          9.5,
          9.5,
          0,
          9.5,
          9.5,
          0,
          0,
          9.5,
          10.005,
          9.5,
          0,
          9.5,
          10.005,
          9.5,
          0,
          0,
          9.5,
          10.005,
          10.005,
          9.5,
          0,
          9.5,
          10.005,
          10.005,
          9.5,
          0,
          0,
          9.5,
          9.5,
          0,
          9.5,
          9.5,
          0,
          0,
          9.5,
          9.5,
          0,
          9.5,
          9.5,
          0,
          0,
          9.5,
          9.5,
          0,
          9.5,
          9.5,
          0,
          0,
          9.5,
          9.5,
          0,
          9.5,
          9.5,
          0,
          0,
          9.5,
          9.5,
          0,
          9.5,
          9.5,
          0,
          0,
          9.5,
          9.505,
          9.5,
          0,
          9.5,
          9.505,
          9.5,
          0,
          0,
          9.5,
          9.5,
          0,
          9.5,
          9.5,
          0,
          0,
          9.5,
          9.5,
          0,
          9.5,
          9.5,
          0,
          0,
          9.5,
          9.5,
          0,
          9.5,
          9.5,
          0,
          0,
          9.5,
          10.005,
          9.5,
          0,
          9.5,
          10.005,
          9.5,
          0,
          0,
          9.5,
          10.005,
          9.5,
          0,
          9.5,
          10.005,
          9.5,
          0,
          0,
          9.5,
          9.505,
          9.5,
          0,
          9.5,
          9.505,
          9.5,
          0,
          0,
          9.5,
          9.5,
          0,
          9.5,
          9.5,
          0,
          0,
          9.5,
          10.005,
          9.5,
          0,
          9.5,
          10.005,
          9.5,
          0,
          0,
          9.5,
          9.505,
          9.5,
          0,
          9.5,
          9.505,
          9.5,
          0,
          0,
          9.5,
          9.5,
          0,
          9.5,
          9.5,
          0,
          0,
          9.5,
          9.505,
          9.505,
          9.5,
          0,
          9.5,
          9.505,
          9.505,
          9.5,
          0,
          0,
          9.5,
          9.5,
          0,
          9.5,
          9.5,
          0,
          0,
          9.5,
          9.505,
          9.5,
          0,
          9.5,
          9.505,
          9.5,
          0,
          0,
          9.5,
          9.5,
          0,
          9.5,
          9.5,
          0,
          0,
          9.5,
          9.505,
          9.5,
          0,
          9.5,
          9.505,
          9.5,
          0,
          0,
          9.5,
          10.005,
          10.005,
          9.5,
          0,
          9.5,
          10.005,
          10.005,
          9.5,
          0,
          0,
          9.5,
          9.5,
          0,
          9.5,
          9.5,
          0,
          0,
          9.5,
          9.505,
          9.505,
          9.5,
          0,
          9.5,
          9.505,
          9.505,
          9.5,
          0,
          0,
          9.5,
          10.005,
          9.5,
          0,
          9.5,
          10.005,
          9.5,
          0,
          0,
          9.5,
          9.5,
          0,
          9.5,
          9.5,
          0,
          0,
          9.5,
          10.005,
          10.005,
          9.505,
          9.5,
          0,
          9.5,
          9.505,
          10.005,
          10.005,
          9.5,
          0,
          0,
          9.5,
          9.5,
          0,
          9.5,
          9.5,
          0,
          0,
          9.5,
          10.005,
          10.005,
          9.5,
          0,
          9.5,
          10.005,
          10.005,
          9.5,
          0,
          0,
          9.5,
          10.005,
          9.5,
          0,
          9.5,
          10.005,
          9.5,
          0,
          0,
          9.5,
          9.5,
          0,
          9.5,
          9.5,
          0,
          0,
          9.5,
          10.005,
          9.5,
          0,
          9.5,
          10.005,
          9.5,
          0,
          0,
          9.5,
          9.505,
          9.5,
          0,
          9.5,
          9.505,
          9.5,
          0,
          0,
          9.5,
          9.505,
          9.5,
          0,
          9.5,
          9.505,
          9.5,
          0,
          0,
          9.5,
          9.5,
          0,
          9.5,
          9.5,
          0,
          0,
          9.5,
          9.505,
          9.505,
          9.505,
          9.5,
          0,
          9.5,
          9.505,
          9.505,
          9.505,
          9.5,
          0,
          0,
          9.5,
          9.505,
          9.505,
          9.5,
          0,
          9.5,
          9.505,
          9.505,
          9.5,
          0,
          0,
          9.5,
          9.505,
          9.5,
          0,
          9.5,
          9.505,
          9.5,
          0,
          0,
          9.5,
          10.005,
          9.5,
          0,
          9.5,
          10.005,
          9.5,
          0,
          0,
          9.5,
          9.5,
          0,
          9.5,
          9.5,
          0,
          0,
          9.5,
          10.005,
          9.5,
          0,
          9.5,
          10.005,
          9.5,
          0
         ]
        }
       ],
       "layout": {
        "height": 800,
        "scene": {
         "aspectmode": "cube",
         "xaxis": {
          "title": {
           "text": "X"
          }
         },
         "yaxis": {
          "title": {
           "text": "Y"
          }
         },
         "zaxis": {
          "title": {
           "text": "Height"
          }
         }
        },
        "template": {
         "data": {
          "bar": [
           {
            "error_x": {
             "color": "#2a3f5f"
            },
            "error_y": {
             "color": "#2a3f5f"
            },
            "marker": {
             "line": {
              "color": "#E5ECF6",
              "width": 0.5
             },
             "pattern": {
              "fillmode": "overlay",
              "size": 10,
              "solidity": 0.2
             }
            },
            "type": "bar"
           }
          ],
          "barpolar": [
           {
            "marker": {
             "line": {
              "color": "#E5ECF6",
              "width": 0.5
             },
             "pattern": {
              "fillmode": "overlay",
              "size": 10,
              "solidity": 0.2
             }
            },
            "type": "barpolar"
           }
          ],
          "carpet": [
           {
            "aaxis": {
             "endlinecolor": "#2a3f5f",
             "gridcolor": "white",
             "linecolor": "white",
             "minorgridcolor": "white",
             "startlinecolor": "#2a3f5f"
            },
            "baxis": {
             "endlinecolor": "#2a3f5f",
             "gridcolor": "white",
             "linecolor": "white",
             "minorgridcolor": "white",
             "startlinecolor": "#2a3f5f"
            },
            "type": "carpet"
           }
          ],
          "choropleth": [
           {
            "colorbar": {
             "outlinewidth": 0,
             "ticks": ""
            },
            "type": "choropleth"
           }
          ],
          "contour": [
           {
            "colorbar": {
             "outlinewidth": 0,
             "ticks": ""
            },
            "colorscale": [
             [
              0,
              "#0d0887"
             ],
             [
              0.1111111111111111,
              "#46039f"
             ],
             [
              0.2222222222222222,
              "#7201a8"
             ],
             [
              0.3333333333333333,
              "#9c179e"
             ],
             [
              0.4444444444444444,
              "#bd3786"
             ],
             [
              0.5555555555555556,
              "#d8576b"
             ],
             [
              0.6666666666666666,
              "#ed7953"
             ],
             [
              0.7777777777777778,
              "#fb9f3a"
             ],
             [
              0.8888888888888888,
              "#fdca26"
             ],
             [
              1,
              "#f0f921"
             ]
            ],
            "type": "contour"
           }
          ],
          "contourcarpet": [
           {
            "colorbar": {
             "outlinewidth": 0,
             "ticks": ""
            },
            "type": "contourcarpet"
           }
          ],
          "heatmap": [
           {
            "colorbar": {
             "outlinewidth": 0,
             "ticks": ""
            },
            "colorscale": [
             [
              0,
              "#0d0887"
             ],
             [
              0.1111111111111111,
              "#46039f"
             ],
             [
              0.2222222222222222,
              "#7201a8"
             ],
             [
              0.3333333333333333,
              "#9c179e"
             ],
             [
              0.4444444444444444,
              "#bd3786"
             ],
             [
              0.5555555555555556,
              "#d8576b"
             ],
             [
              0.6666666666666666,
              "#ed7953"
             ],
             [
              0.7777777777777778,
              "#fb9f3a"
             ],
             [
              0.8888888888888888,
              "#fdca26"
             ],
             [
              1,
              "#f0f921"
             ]
            ],
            "type": "heatmap"
           }
          ],
          "heatmapgl": [
           {
            "colorbar": {
             "outlinewidth": 0,
             "ticks": ""
            },
            "colorscale": [
             [
              0,
              "#0d0887"
             ],
             [
              0.1111111111111111,
              "#46039f"
             ],
             [
              0.2222222222222222,
              "#7201a8"
             ],
             [
              0.3333333333333333,
              "#9c179e"
             ],
             [
              0.4444444444444444,
              "#bd3786"
             ],
             [
              0.5555555555555556,
              "#d8576b"
             ],
             [
              0.6666666666666666,
              "#ed7953"
             ],
             [
              0.7777777777777778,
              "#fb9f3a"
             ],
             [
              0.8888888888888888,
              "#fdca26"
             ],
             [
              1,
              "#f0f921"
             ]
            ],
            "type": "heatmapgl"
           }
          ],
          "histogram": [
           {
            "marker": {
             "pattern": {
              "fillmode": "overlay",
              "size": 10,
              "solidity": 0.2
             }
            },
            "type": "histogram"
           }
          ],
          "histogram2d": [
           {
            "colorbar": {
             "outlinewidth": 0,
             "ticks": ""
            },
            "colorscale": [
             [
              0,
              "#0d0887"
             ],
             [
              0.1111111111111111,
              "#46039f"
             ],
             [
              0.2222222222222222,
              "#7201a8"
             ],
             [
              0.3333333333333333,
              "#9c179e"
             ],
             [
              0.4444444444444444,
              "#bd3786"
             ],
             [
              0.5555555555555556,
              "#d8576b"
             ],
             [
              0.6666666666666666,
              "#ed7953"
             ],
             [
              0.7777777777777778,
              "#fb9f3a"
             ],
             [
              0.8888888888888888,
              "#fdca26"
             ],
             [
              1,
              "#f0f921"
             ]
            ],
            "type": "histogram2d"
           }
          ],
          "histogram2dcontour": [
           {
            "colorbar": {
             "outlinewidth": 0,
             "ticks": ""
            },
            "colorscale": [
             [
              0,
              "#0d0887"
             ],
             [
              0.1111111111111111,
              "#46039f"
             ],
             [
              0.2222222222222222,
              "#7201a8"
             ],
             [
              0.3333333333333333,
              "#9c179e"
             ],
             [
              0.4444444444444444,
              "#bd3786"
             ],
             [
              0.5555555555555556,
              "#d8576b"
             ],
             [
              0.6666666666666666,
              "#ed7953"
             ],
             [
              0.7777777777777778,
              "#fb9f3a"
             ],
             [
              0.8888888888888888,
              "#fdca26"
             ],
             [
              1,
              "#f0f921"
             ]
            ],
            "type": "histogram2dcontour"
           }
          ],
          "mesh3d": [
           {
            "colorbar": {
             "outlinewidth": 0,
             "ticks": ""
            },
            "type": "mesh3d"
           }
          ],
          "parcoords": [
           {
            "line": {
             "colorbar": {
              "outlinewidth": 0,
              "ticks": ""
             }
            },
            "type": "parcoords"
           }
          ],
          "pie": [
           {
            "automargin": true,
            "type": "pie"
           }
          ],
          "scatter": [
           {
            "fillpattern": {
             "fillmode": "overlay",
             "size": 10,
             "solidity": 0.2
            },
            "type": "scatter"
           }
          ],
          "scatter3d": [
           {
            "line": {
             "colorbar": {
              "outlinewidth": 0,
              "ticks": ""
             }
            },
            "marker": {
             "colorbar": {
              "outlinewidth": 0,
              "ticks": ""
             }
            },
            "type": "scatter3d"
           }
          ],
          "scattercarpet": [
           {
            "marker": {
             "colorbar": {
              "outlinewidth": 0,
              "ticks": ""
             }
            },
            "type": "scattercarpet"
           }
          ],
          "scattergeo": [
           {
            "marker": {
             "colorbar": {
              "outlinewidth": 0,
              "ticks": ""
             }
            },
            "type": "scattergeo"
           }
          ],
          "scattergl": [
           {
            "marker": {
             "colorbar": {
              "outlinewidth": 0,
              "ticks": ""
             }
            },
            "type": "scattergl"
           }
          ],
          "scattermapbox": [
           {
            "marker": {
             "colorbar": {
              "outlinewidth": 0,
              "ticks": ""
             }
            },
            "type": "scattermapbox"
           }
          ],
          "scatterpolar": [
           {
            "marker": {
             "colorbar": {
              "outlinewidth": 0,
              "ticks": ""
             }
            },
            "type": "scatterpolar"
           }
          ],
          "scatterpolargl": [
           {
            "marker": {
             "colorbar": {
              "outlinewidth": 0,
              "ticks": ""
             }
            },
            "type": "scatterpolargl"
           }
          ],
          "scatterternary": [
           {
            "marker": {
             "colorbar": {
              "outlinewidth": 0,
              "ticks": ""
             }
            },
            "type": "scatterternary"
           }
          ],
          "surface": [
           {
            "colorbar": {
             "outlinewidth": 0,
             "ticks": ""
            },
            "colorscale": [
             [
              0,
              "#0d0887"
             ],
             [
              0.1111111111111111,
              "#46039f"
             ],
             [
              0.2222222222222222,
              "#7201a8"
             ],
             [
              0.3333333333333333,
              "#9c179e"
             ],
             [
              0.4444444444444444,
              "#bd3786"
             ],
             [
              0.5555555555555556,
              "#d8576b"
             ],
             [
              0.6666666666666666,
              "#ed7953"
             ],
             [
              0.7777777777777778,
              "#fb9f3a"
             ],
             [
              0.8888888888888888,
              "#fdca26"
             ],
             [
              1,
              "#f0f921"
             ]
            ],
            "type": "surface"
           }
          ],
          "table": [
           {
            "cells": {
             "fill": {
              "color": "#EBF0F8"
             },
             "line": {
              "color": "white"
             }
            },
            "header": {
             "fill": {
              "color": "#C8D4E3"
             },
             "line": {
              "color": "white"
             }
            },
            "type": "table"
           }
          ]
         },
         "layout": {
          "annotationdefaults": {
           "arrowcolor": "#2a3f5f",
           "arrowhead": 0,
           "arrowwidth": 1
          },
          "autotypenumbers": "strict",
          "coloraxis": {
           "colorbar": {
            "outlinewidth": 0,
            "ticks": ""
           }
          },
          "colorscale": {
           "diverging": [
            [
             0,
             "#8e0152"
            ],
            [
             0.1,
             "#c51b7d"
            ],
            [
             0.2,
             "#de77ae"
            ],
            [
             0.3,
             "#f1b6da"
            ],
            [
             0.4,
             "#fde0ef"
            ],
            [
             0.5,
             "#f7f7f7"
            ],
            [
             0.6,
             "#e6f5d0"
            ],
            [
             0.7,
             "#b8e186"
            ],
            [
             0.8,
             "#7fbc41"
            ],
            [
             0.9,
             "#4d9221"
            ],
            [
             1,
             "#276419"
            ]
           ],
           "sequential": [
            [
             0,
             "#0d0887"
            ],
            [
             0.1111111111111111,
             "#46039f"
            ],
            [
             0.2222222222222222,
             "#7201a8"
            ],
            [
             0.3333333333333333,
             "#9c179e"
            ],
            [
             0.4444444444444444,
             "#bd3786"
            ],
            [
             0.5555555555555556,
             "#d8576b"
            ],
            [
             0.6666666666666666,
             "#ed7953"
            ],
            [
             0.7777777777777778,
             "#fb9f3a"
            ],
            [
             0.8888888888888888,
             "#fdca26"
            ],
            [
             1,
             "#f0f921"
            ]
           ],
           "sequentialminus": [
            [
             0,
             "#0d0887"
            ],
            [
             0.1111111111111111,
             "#46039f"
            ],
            [
             0.2222222222222222,
             "#7201a8"
            ],
            [
             0.3333333333333333,
             "#9c179e"
            ],
            [
             0.4444444444444444,
             "#bd3786"
            ],
            [
             0.5555555555555556,
             "#d8576b"
            ],
            [
             0.6666666666666666,
             "#ed7953"
            ],
            [
             0.7777777777777778,
             "#fb9f3a"
            ],
            [
             0.8888888888888888,
             "#fdca26"
            ],
            [
             1,
             "#f0f921"
            ]
           ]
          },
          "colorway": [
           "#636efa",
           "#EF553B",
           "#00cc96",
           "#ab63fa",
           "#FFA15A",
           "#19d3f3",
           "#FF6692",
           "#B6E880",
           "#FF97FF",
           "#FECB52"
          ],
          "font": {
           "color": "#2a3f5f"
          },
          "geo": {
           "bgcolor": "white",
           "lakecolor": "white",
           "landcolor": "#E5ECF6",
           "showlakes": true,
           "showland": true,
           "subunitcolor": "white"
          },
          "hoverlabel": {
           "align": "left"
          },
          "hovermode": "closest",
          "mapbox": {
           "style": "light"
          },
          "paper_bgcolor": "white",
          "plot_bgcolor": "#E5ECF6",
          "polar": {
           "angularaxis": {
            "gridcolor": "white",
            "linecolor": "white",
            "ticks": ""
           },
           "bgcolor": "#E5ECF6",
           "radialaxis": {
            "gridcolor": "white",
            "linecolor": "white",
            "ticks": ""
           }
          },
          "scene": {
           "xaxis": {
            "backgroundcolor": "#E5ECF6",
            "gridcolor": "white",
            "gridwidth": 2,
            "linecolor": "white",
            "showbackground": true,
            "ticks": "",
            "zerolinecolor": "white"
           },
           "yaxis": {
            "backgroundcolor": "#E5ECF6",
            "gridcolor": "white",
            "gridwidth": 2,
            "linecolor": "white",
            "showbackground": true,
            "ticks": "",
            "zerolinecolor": "white"
           },
           "zaxis": {
            "backgroundcolor": "#E5ECF6",
            "gridcolor": "white",
            "gridwidth": 2,
            "linecolor": "white",
            "showbackground": true,
            "ticks": "",
            "zerolinecolor": "white"
           }
          },
          "shapedefaults": {
           "line": {
            "color": "#2a3f5f"
           }
          },
          "ternary": {
           "aaxis": {
            "gridcolor": "white",
            "linecolor": "white",
            "ticks": ""
           },
           "baxis": {
            "gridcolor": "white",
            "linecolor": "white",
            "ticks": ""
           },
           "bgcolor": "#E5ECF6",
           "caxis": {
            "gridcolor": "white",
            "linecolor": "white",
            "ticks": ""
           }
          },
          "title": {
           "x": 0.05
          },
          "xaxis": {
           "automargin": true,
           "gridcolor": "white",
           "linecolor": "white",
           "ticks": "",
           "title": {
            "standoff": 15
           },
           "zerolinecolor": "white",
           "zerolinewidth": 2
          },
          "yaxis": {
           "automargin": true,
           "gridcolor": "white",
           "linecolor": "white",
           "ticks": "",
           "title": {
            "standoff": 15
           },
           "zerolinecolor": "white",
           "zerolinewidth": 2
          }
         }
        },
        "width": 800
       }
      }
     },
     "metadata": {},
     "output_type": "display_data"
    }
   ],
   "source": [
    "# ploting th route\n",
    "\n",
    "initial_plot(delivary_locations=delivary_loc, obstacles=obstacles, dp=initial_dp, route = route_2.copy())"
   ]
  },
  {
   "cell_type": "code",
   "execution_count": 116,
   "metadata": {},
   "outputs": [
    {
     "data": {
      "text/plain": [
       "2368.5353599274245"
      ]
     },
     "execution_count": 116,
     "metadata": {},
     "output_type": "execute_result"
    }
   ],
   "source": [
    "# calculate distance of the obstacle free route\n",
    "distance_2 = calculate_route_distance(route_2)\n",
    "\n",
    "distance_2"
   ]
  },
  {
   "cell_type": "code",
   "execution_count": 117,
   "metadata": {},
   "outputs": [
    {
     "name": "stdout",
     "output_type": "stream",
     "text": [
      "obstacle free distance \t\t: 2360.654671284566\n",
      "obstacle avoidance distance \t: 2368.5353599274245\n"
     ]
    }
   ],
   "source": [
    "print(\"obstacle free distance \\t\\t:\", distance_1)\n",
    "print(\"obstacle avoidance distance \\t:\", distance_2)"
   ]
  },
  {
   "cell_type": "markdown",
   "metadata": {},
   "source": [
    "## Optimization"
   ]
  },
  {
   "cell_type": "code",
   "execution_count": 118,
   "metadata": {},
   "outputs": [
    {
     "data": {
      "application/vnd.plotly.v1+json": {
       "config": {
        "plotlyServerURL": "https://plot.ly"
       },
       "data": [
        {
         "color": "red",
         "i": [
          0,
          0
         ],
         "j": [
          1,
          2
         ],
         "k": [
          2,
          3
         ],
         "opacity": 0.5,
         "type": "mesh3d",
         "x": [
          3,
          5,
          5,
          3
         ],
         "y": [
          5,
          5,
          5,
          5
         ],
         "z": [
          0,
          0,
          6,
          6
         ]
        },
        {
         "color": "red",
         "i": [
          0,
          0
         ],
         "j": [
          1,
          2
         ],
         "k": [
          2,
          3
         ],
         "opacity": 0.5,
         "type": "mesh3d",
         "x": [
          5,
          5,
          5,
          5
         ],
         "y": [
          5,
          15,
          15,
          5
         ],
         "z": [
          0,
          0,
          6,
          6
         ]
        },
        {
         "color": "red",
         "i": [
          0,
          0
         ],
         "j": [
          1,
          2
         ],
         "k": [
          2,
          3
         ],
         "opacity": 0.5,
         "type": "mesh3d",
         "x": [
          5,
          3,
          3,
          5
         ],
         "y": [
          15,
          15,
          15,
          15
         ],
         "z": [
          0,
          0,
          6,
          6
         ]
        },
        {
         "color": "red",
         "i": [
          0,
          0
         ],
         "j": [
          1,
          2
         ],
         "k": [
          2,
          3
         ],
         "opacity": 0.5,
         "type": "mesh3d",
         "x": [
          3,
          3,
          3,
          3
         ],
         "y": [
          15,
          5,
          5,
          15
         ],
         "z": [
          0,
          0,
          6,
          6
         ]
        },
        {
         "color": "red",
         "i": [
          0,
          0
         ],
         "j": [
          1,
          2
         ],
         "k": [
          2,
          3
         ],
         "opacity": 0.5,
         "type": "mesh3d",
         "x": [
          3,
          3,
          3,
          3
         ],
         "y": [
          5,
          5,
          5,
          5
         ],
         "z": [
          0,
          0,
          6,
          6
         ]
        },
        {
         "line": {
          "color": "black",
          "width": 3
         },
         "mode": "lines",
         "type": "scatter3d",
         "x": [
          3,
          5,
          5,
          3,
          3,
          3
         ],
         "y": [
          5,
          5,
          15,
          15,
          5,
          5
         ],
         "z": [
          6,
          6,
          6,
          6,
          6,
          6
         ]
        },
        {
         "line": {
          "color": "black",
          "width": 3
         },
         "mode": "lines",
         "type": "scatter3d",
         "x": [
          3,
          5,
          5,
          3,
          3,
          3
         ],
         "y": [
          5,
          5,
          15,
          15,
          5,
          5
         ],
         "z": [
          0,
          0,
          0,
          0,
          0,
          0
         ]
        },
        {
         "line": {
          "color": "black",
          "width": 3
         },
         "mode": "lines",
         "type": "scatter3d",
         "x": [
          3,
          3,
          5,
          5,
          3
         ],
         "y": [
          5,
          5,
          5,
          5,
          5
         ],
         "z": [
          0,
          6,
          6,
          0,
          0
         ]
        },
        {
         "line": {
          "color": "black",
          "width": 3
         },
         "mode": "lines",
         "type": "scatter3d",
         "x": [
          5,
          5,
          5,
          5,
          5
         ],
         "y": [
          5,
          5,
          15,
          15,
          5
         ],
         "z": [
          0,
          6,
          6,
          0,
          0
         ]
        },
        {
         "line": {
          "color": "black",
          "width": 3
         },
         "mode": "lines",
         "type": "scatter3d",
         "x": [
          5,
          5,
          3,
          3,
          5
         ],
         "y": [
          15,
          15,
          15,
          15,
          15
         ],
         "z": [
          0,
          6,
          6,
          0,
          0
         ]
        },
        {
         "line": {
          "color": "black",
          "width": 3
         },
         "mode": "lines",
         "type": "scatter3d",
         "x": [
          3,
          3,
          3,
          3,
          3
         ],
         "y": [
          15,
          15,
          5,
          5,
          15
         ],
         "z": [
          0,
          6,
          6,
          0,
          0
         ]
        },
        {
         "line": {
          "color": "black",
          "width": 3
         },
         "mode": "lines",
         "type": "scatter3d",
         "x": [
          3,
          3,
          3,
          3,
          3
         ],
         "y": [
          5,
          5,
          5,
          5,
          5
         ],
         "z": [
          0,
          6,
          6,
          0,
          0
         ]
        },
        {
         "color": "red",
         "i": [
          0,
          0
         ],
         "j": [
          1,
          2
         ],
         "k": [
          2,
          3
         ],
         "opacity": 0.5,
         "type": "mesh3d",
         "x": [
          8,
          12,
          12,
          8
         ],
         "y": [
          6,
          6,
          6,
          6
         ],
         "z": [
          0,
          0,
          8,
          8
         ]
        },
        {
         "color": "red",
         "i": [
          0,
          0
         ],
         "j": [
          1,
          2
         ],
         "k": [
          2,
          3
         ],
         "opacity": 0.5,
         "type": "mesh3d",
         "x": [
          12,
          12,
          12,
          12
         ],
         "y": [
          6,
          14,
          14,
          6
         ],
         "z": [
          0,
          0,
          8,
          8
         ]
        },
        {
         "color": "red",
         "i": [
          0,
          0
         ],
         "j": [
          1,
          2
         ],
         "k": [
          2,
          3
         ],
         "opacity": 0.5,
         "type": "mesh3d",
         "x": [
          12,
          8,
          8,
          12
         ],
         "y": [
          14,
          14,
          14,
          14
         ],
         "z": [
          0,
          0,
          8,
          8
         ]
        },
        {
         "color": "red",
         "i": [
          0,
          0
         ],
         "j": [
          1,
          2
         ],
         "k": [
          2,
          3
         ],
         "opacity": 0.5,
         "type": "mesh3d",
         "x": [
          8,
          8,
          8,
          8
         ],
         "y": [
          14,
          6,
          6,
          14
         ],
         "z": [
          0,
          0,
          8,
          8
         ]
        },
        {
         "color": "red",
         "i": [
          0,
          0
         ],
         "j": [
          1,
          2
         ],
         "k": [
          2,
          3
         ],
         "opacity": 0.5,
         "type": "mesh3d",
         "x": [
          8,
          8,
          8,
          8
         ],
         "y": [
          6,
          6,
          6,
          6
         ],
         "z": [
          0,
          0,
          8,
          8
         ]
        },
        {
         "line": {
          "color": "black",
          "width": 3
         },
         "mode": "lines",
         "type": "scatter3d",
         "x": [
          8,
          12,
          12,
          8,
          8,
          8
         ],
         "y": [
          6,
          6,
          14,
          14,
          6,
          6
         ],
         "z": [
          8,
          8,
          8,
          8,
          8,
          8
         ]
        },
        {
         "line": {
          "color": "black",
          "width": 3
         },
         "mode": "lines",
         "type": "scatter3d",
         "x": [
          8,
          12,
          12,
          8,
          8,
          8
         ],
         "y": [
          6,
          6,
          14,
          14,
          6,
          6
         ],
         "z": [
          0,
          0,
          0,
          0,
          0,
          0
         ]
        },
        {
         "line": {
          "color": "black",
          "width": 3
         },
         "mode": "lines",
         "type": "scatter3d",
         "x": [
          8,
          8,
          12,
          12,
          8
         ],
         "y": [
          6,
          6,
          6,
          6,
          6
         ],
         "z": [
          0,
          8,
          8,
          0,
          0
         ]
        },
        {
         "line": {
          "color": "black",
          "width": 3
         },
         "mode": "lines",
         "type": "scatter3d",
         "x": [
          12,
          12,
          12,
          12,
          12
         ],
         "y": [
          6,
          6,
          14,
          14,
          6
         ],
         "z": [
          0,
          8,
          8,
          0,
          0
         ]
        },
        {
         "line": {
          "color": "black",
          "width": 3
         },
         "mode": "lines",
         "type": "scatter3d",
         "x": [
          12,
          12,
          8,
          8,
          12
         ],
         "y": [
          14,
          14,
          14,
          14,
          14
         ],
         "z": [
          0,
          8,
          8,
          0,
          0
         ]
        },
        {
         "line": {
          "color": "black",
          "width": 3
         },
         "mode": "lines",
         "type": "scatter3d",
         "x": [
          8,
          8,
          8,
          8,
          8
         ],
         "y": [
          14,
          14,
          6,
          6,
          14
         ],
         "z": [
          0,
          8,
          8,
          0,
          0
         ]
        },
        {
         "line": {
          "color": "black",
          "width": 3
         },
         "mode": "lines",
         "type": "scatter3d",
         "x": [
          8,
          8,
          8,
          8,
          8
         ],
         "y": [
          6,
          6,
          6,
          6,
          6
         ],
         "z": [
          0,
          8,
          8,
          0,
          0
         ]
        },
        {
         "color": "red",
         "i": [
          0,
          0
         ],
         "j": [
          1,
          2
         ],
         "k": [
          2,
          3
         ],
         "opacity": 0.5,
         "type": "mesh3d",
         "x": [
          15,
          17,
          17,
          15
         ],
         "y": [
          5,
          5,
          5,
          5
         ],
         "z": [
          0,
          0,
          7,
          7
         ]
        },
        {
         "color": "red",
         "i": [
          0,
          0
         ],
         "j": [
          1,
          2
         ],
         "k": [
          2,
          3
         ],
         "opacity": 0.5,
         "type": "mesh3d",
         "x": [
          17,
          17,
          17,
          17
         ],
         "y": [
          5,
          15,
          15,
          5
         ],
         "z": [
          0,
          0,
          7,
          7
         ]
        },
        {
         "color": "red",
         "i": [
          0,
          0
         ],
         "j": [
          1,
          2
         ],
         "k": [
          2,
          3
         ],
         "opacity": 0.5,
         "type": "mesh3d",
         "x": [
          17,
          15,
          15,
          17
         ],
         "y": [
          15,
          15,
          15,
          15
         ],
         "z": [
          0,
          0,
          7,
          7
         ]
        },
        {
         "color": "red",
         "i": [
          0,
          0
         ],
         "j": [
          1,
          2
         ],
         "k": [
          2,
          3
         ],
         "opacity": 0.5,
         "type": "mesh3d",
         "x": [
          15,
          15,
          15,
          15
         ],
         "y": [
          15,
          5,
          5,
          15
         ],
         "z": [
          0,
          0,
          7,
          7
         ]
        },
        {
         "color": "red",
         "i": [
          0,
          0
         ],
         "j": [
          1,
          2
         ],
         "k": [
          2,
          3
         ],
         "opacity": 0.5,
         "type": "mesh3d",
         "x": [
          15,
          15,
          15,
          15
         ],
         "y": [
          5,
          5,
          5,
          5
         ],
         "z": [
          0,
          0,
          7,
          7
         ]
        },
        {
         "line": {
          "color": "black",
          "width": 3
         },
         "mode": "lines",
         "type": "scatter3d",
         "x": [
          15,
          17,
          17,
          15,
          15,
          15
         ],
         "y": [
          5,
          5,
          15,
          15,
          5,
          5
         ],
         "z": [
          7,
          7,
          7,
          7,
          7,
          7
         ]
        },
        {
         "line": {
          "color": "black",
          "width": 3
         },
         "mode": "lines",
         "type": "scatter3d",
         "x": [
          15,
          17,
          17,
          15,
          15,
          15
         ],
         "y": [
          5,
          5,
          15,
          15,
          5,
          5
         ],
         "z": [
          0,
          0,
          0,
          0,
          0,
          0
         ]
        },
        {
         "line": {
          "color": "black",
          "width": 3
         },
         "mode": "lines",
         "type": "scatter3d",
         "x": [
          15,
          15,
          17,
          17,
          15
         ],
         "y": [
          5,
          5,
          5,
          5,
          5
         ],
         "z": [
          0,
          7,
          7,
          0,
          0
         ]
        },
        {
         "line": {
          "color": "black",
          "width": 3
         },
         "mode": "lines",
         "type": "scatter3d",
         "x": [
          17,
          17,
          17,
          17,
          17
         ],
         "y": [
          5,
          5,
          15,
          15,
          5
         ],
         "z": [
          0,
          7,
          7,
          0,
          0
         ]
        },
        {
         "line": {
          "color": "black",
          "width": 3
         },
         "mode": "lines",
         "type": "scatter3d",
         "x": [
          17,
          17,
          15,
          15,
          17
         ],
         "y": [
          15,
          15,
          15,
          15,
          15
         ],
         "z": [
          0,
          7,
          7,
          0,
          0
         ]
        },
        {
         "line": {
          "color": "black",
          "width": 3
         },
         "mode": "lines",
         "type": "scatter3d",
         "x": [
          15,
          15,
          15,
          15,
          15
         ],
         "y": [
          15,
          15,
          5,
          5,
          15
         ],
         "z": [
          0,
          7,
          7,
          0,
          0
         ]
        },
        {
         "line": {
          "color": "black",
          "width": 3
         },
         "mode": "lines",
         "type": "scatter3d",
         "x": [
          15,
          15,
          15,
          15,
          15
         ],
         "y": [
          5,
          5,
          5,
          5,
          5
         ],
         "z": [
          0,
          7,
          7,
          0,
          0
         ]
        },
        {
         "marker": {
          "color": "blue",
          "size": 5
         },
         "mode": "markers",
         "type": "scatter3d",
         "x": [
          20
         ],
         "y": [
          10
         ],
         "z": [
          0
         ]
        },
        {
         "marker": {
          "color": "orange",
          "size": 8
         },
         "mode": "markers",
         "type": "scatter3d",
         "x": [
          0
         ],
         "y": [
          10
         ],
         "z": [
          0
         ]
        },
        {
         "line": {
          "color": "gray",
          "width": 5
         },
         "mode": "lines",
         "type": "scatter3d",
         "x": [
          0,
          0,
          3,
          8,
          12,
          17,
          20,
          20,
          20,
          17,
          12,
          8,
          3,
          0,
          0
         ],
         "y": [
          10,
          10,
          12,
          14,
          14,
          12,
          10,
          10,
          10,
          12,
          14,
          14,
          12,
          10,
          10
         ],
         "z": [
          0,
          5,
          6.005,
          7,
          7.005,
          7.005,
          5,
          0,
          5,
          7.005,
          7.005,
          7,
          6.005,
          5,
          0
         ]
        }
       ],
       "layout": {
        "height": 800,
        "scene": {
         "aspectmode": "cube",
         "xaxis": {
          "title": {
           "text": "X"
          }
         },
         "yaxis": {
          "title": {
           "text": "Y"
          }
         },
         "zaxis": {
          "title": {
           "text": "Height"
          }
         }
        },
        "template": {
         "data": {
          "bar": [
           {
            "error_x": {
             "color": "#2a3f5f"
            },
            "error_y": {
             "color": "#2a3f5f"
            },
            "marker": {
             "line": {
              "color": "#E5ECF6",
              "width": 0.5
             },
             "pattern": {
              "fillmode": "overlay",
              "size": 10,
              "solidity": 0.2
             }
            },
            "type": "bar"
           }
          ],
          "barpolar": [
           {
            "marker": {
             "line": {
              "color": "#E5ECF6",
              "width": 0.5
             },
             "pattern": {
              "fillmode": "overlay",
              "size": 10,
              "solidity": 0.2
             }
            },
            "type": "barpolar"
           }
          ],
          "carpet": [
           {
            "aaxis": {
             "endlinecolor": "#2a3f5f",
             "gridcolor": "white",
             "linecolor": "white",
             "minorgridcolor": "white",
             "startlinecolor": "#2a3f5f"
            },
            "baxis": {
             "endlinecolor": "#2a3f5f",
             "gridcolor": "white",
             "linecolor": "white",
             "minorgridcolor": "white",
             "startlinecolor": "#2a3f5f"
            },
            "type": "carpet"
           }
          ],
          "choropleth": [
           {
            "colorbar": {
             "outlinewidth": 0,
             "ticks": ""
            },
            "type": "choropleth"
           }
          ],
          "contour": [
           {
            "colorbar": {
             "outlinewidth": 0,
             "ticks": ""
            },
            "colorscale": [
             [
              0,
              "#0d0887"
             ],
             [
              0.1111111111111111,
              "#46039f"
             ],
             [
              0.2222222222222222,
              "#7201a8"
             ],
             [
              0.3333333333333333,
              "#9c179e"
             ],
             [
              0.4444444444444444,
              "#bd3786"
             ],
             [
              0.5555555555555556,
              "#d8576b"
             ],
             [
              0.6666666666666666,
              "#ed7953"
             ],
             [
              0.7777777777777778,
              "#fb9f3a"
             ],
             [
              0.8888888888888888,
              "#fdca26"
             ],
             [
              1,
              "#f0f921"
             ]
            ],
            "type": "contour"
           }
          ],
          "contourcarpet": [
           {
            "colorbar": {
             "outlinewidth": 0,
             "ticks": ""
            },
            "type": "contourcarpet"
           }
          ],
          "heatmap": [
           {
            "colorbar": {
             "outlinewidth": 0,
             "ticks": ""
            },
            "colorscale": [
             [
              0,
              "#0d0887"
             ],
             [
              0.1111111111111111,
              "#46039f"
             ],
             [
              0.2222222222222222,
              "#7201a8"
             ],
             [
              0.3333333333333333,
              "#9c179e"
             ],
             [
              0.4444444444444444,
              "#bd3786"
             ],
             [
              0.5555555555555556,
              "#d8576b"
             ],
             [
              0.6666666666666666,
              "#ed7953"
             ],
             [
              0.7777777777777778,
              "#fb9f3a"
             ],
             [
              0.8888888888888888,
              "#fdca26"
             ],
             [
              1,
              "#f0f921"
             ]
            ],
            "type": "heatmap"
           }
          ],
          "heatmapgl": [
           {
            "colorbar": {
             "outlinewidth": 0,
             "ticks": ""
            },
            "colorscale": [
             [
              0,
              "#0d0887"
             ],
             [
              0.1111111111111111,
              "#46039f"
             ],
             [
              0.2222222222222222,
              "#7201a8"
             ],
             [
              0.3333333333333333,
              "#9c179e"
             ],
             [
              0.4444444444444444,
              "#bd3786"
             ],
             [
              0.5555555555555556,
              "#d8576b"
             ],
             [
              0.6666666666666666,
              "#ed7953"
             ],
             [
              0.7777777777777778,
              "#fb9f3a"
             ],
             [
              0.8888888888888888,
              "#fdca26"
             ],
             [
              1,
              "#f0f921"
             ]
            ],
            "type": "heatmapgl"
           }
          ],
          "histogram": [
           {
            "marker": {
             "pattern": {
              "fillmode": "overlay",
              "size": 10,
              "solidity": 0.2
             }
            },
            "type": "histogram"
           }
          ],
          "histogram2d": [
           {
            "colorbar": {
             "outlinewidth": 0,
             "ticks": ""
            },
            "colorscale": [
             [
              0,
              "#0d0887"
             ],
             [
              0.1111111111111111,
              "#46039f"
             ],
             [
              0.2222222222222222,
              "#7201a8"
             ],
             [
              0.3333333333333333,
              "#9c179e"
             ],
             [
              0.4444444444444444,
              "#bd3786"
             ],
             [
              0.5555555555555556,
              "#d8576b"
             ],
             [
              0.6666666666666666,
              "#ed7953"
             ],
             [
              0.7777777777777778,
              "#fb9f3a"
             ],
             [
              0.8888888888888888,
              "#fdca26"
             ],
             [
              1,
              "#f0f921"
             ]
            ],
            "type": "histogram2d"
           }
          ],
          "histogram2dcontour": [
           {
            "colorbar": {
             "outlinewidth": 0,
             "ticks": ""
            },
            "colorscale": [
             [
              0,
              "#0d0887"
             ],
             [
              0.1111111111111111,
              "#46039f"
             ],
             [
              0.2222222222222222,
              "#7201a8"
             ],
             [
              0.3333333333333333,
              "#9c179e"
             ],
             [
              0.4444444444444444,
              "#bd3786"
             ],
             [
              0.5555555555555556,
              "#d8576b"
             ],
             [
              0.6666666666666666,
              "#ed7953"
             ],
             [
              0.7777777777777778,
              "#fb9f3a"
             ],
             [
              0.8888888888888888,
              "#fdca26"
             ],
             [
              1,
              "#f0f921"
             ]
            ],
            "type": "histogram2dcontour"
           }
          ],
          "mesh3d": [
           {
            "colorbar": {
             "outlinewidth": 0,
             "ticks": ""
            },
            "type": "mesh3d"
           }
          ],
          "parcoords": [
           {
            "line": {
             "colorbar": {
              "outlinewidth": 0,
              "ticks": ""
             }
            },
            "type": "parcoords"
           }
          ],
          "pie": [
           {
            "automargin": true,
            "type": "pie"
           }
          ],
          "scatter": [
           {
            "fillpattern": {
             "fillmode": "overlay",
             "size": 10,
             "solidity": 0.2
            },
            "type": "scatter"
           }
          ],
          "scatter3d": [
           {
            "line": {
             "colorbar": {
              "outlinewidth": 0,
              "ticks": ""
             }
            },
            "marker": {
             "colorbar": {
              "outlinewidth": 0,
              "ticks": ""
             }
            },
            "type": "scatter3d"
           }
          ],
          "scattercarpet": [
           {
            "marker": {
             "colorbar": {
              "outlinewidth": 0,
              "ticks": ""
             }
            },
            "type": "scattercarpet"
           }
          ],
          "scattergeo": [
           {
            "marker": {
             "colorbar": {
              "outlinewidth": 0,
              "ticks": ""
             }
            },
            "type": "scattergeo"
           }
          ],
          "scattergl": [
           {
            "marker": {
             "colorbar": {
              "outlinewidth": 0,
              "ticks": ""
             }
            },
            "type": "scattergl"
           }
          ],
          "scattermapbox": [
           {
            "marker": {
             "colorbar": {
              "outlinewidth": 0,
              "ticks": ""
             }
            },
            "type": "scattermapbox"
           }
          ],
          "scatterpolar": [
           {
            "marker": {
             "colorbar": {
              "outlinewidth": 0,
              "ticks": ""
             }
            },
            "type": "scatterpolar"
           }
          ],
          "scatterpolargl": [
           {
            "marker": {
             "colorbar": {
              "outlinewidth": 0,
              "ticks": ""
             }
            },
            "type": "scatterpolargl"
           }
          ],
          "scatterternary": [
           {
            "marker": {
             "colorbar": {
              "outlinewidth": 0,
              "ticks": ""
             }
            },
            "type": "scatterternary"
           }
          ],
          "surface": [
           {
            "colorbar": {
             "outlinewidth": 0,
             "ticks": ""
            },
            "colorscale": [
             [
              0,
              "#0d0887"
             ],
             [
              0.1111111111111111,
              "#46039f"
             ],
             [
              0.2222222222222222,
              "#7201a8"
             ],
             [
              0.3333333333333333,
              "#9c179e"
             ],
             [
              0.4444444444444444,
              "#bd3786"
             ],
             [
              0.5555555555555556,
              "#d8576b"
             ],
             [
              0.6666666666666666,
              "#ed7953"
             ],
             [
              0.7777777777777778,
              "#fb9f3a"
             ],
             [
              0.8888888888888888,
              "#fdca26"
             ],
             [
              1,
              "#f0f921"
             ]
            ],
            "type": "surface"
           }
          ],
          "table": [
           {
            "cells": {
             "fill": {
              "color": "#EBF0F8"
             },
             "line": {
              "color": "white"
             }
            },
            "header": {
             "fill": {
              "color": "#C8D4E3"
             },
             "line": {
              "color": "white"
             }
            },
            "type": "table"
           }
          ]
         },
         "layout": {
          "annotationdefaults": {
           "arrowcolor": "#2a3f5f",
           "arrowhead": 0,
           "arrowwidth": 1
          },
          "autotypenumbers": "strict",
          "coloraxis": {
           "colorbar": {
            "outlinewidth": 0,
            "ticks": ""
           }
          },
          "colorscale": {
           "diverging": [
            [
             0,
             "#8e0152"
            ],
            [
             0.1,
             "#c51b7d"
            ],
            [
             0.2,
             "#de77ae"
            ],
            [
             0.3,
             "#f1b6da"
            ],
            [
             0.4,
             "#fde0ef"
            ],
            [
             0.5,
             "#f7f7f7"
            ],
            [
             0.6,
             "#e6f5d0"
            ],
            [
             0.7,
             "#b8e186"
            ],
            [
             0.8,
             "#7fbc41"
            ],
            [
             0.9,
             "#4d9221"
            ],
            [
             1,
             "#276419"
            ]
           ],
           "sequential": [
            [
             0,
             "#0d0887"
            ],
            [
             0.1111111111111111,
             "#46039f"
            ],
            [
             0.2222222222222222,
             "#7201a8"
            ],
            [
             0.3333333333333333,
             "#9c179e"
            ],
            [
             0.4444444444444444,
             "#bd3786"
            ],
            [
             0.5555555555555556,
             "#d8576b"
            ],
            [
             0.6666666666666666,
             "#ed7953"
            ],
            [
             0.7777777777777778,
             "#fb9f3a"
            ],
            [
             0.8888888888888888,
             "#fdca26"
            ],
            [
             1,
             "#f0f921"
            ]
           ],
           "sequentialminus": [
            [
             0,
             "#0d0887"
            ],
            [
             0.1111111111111111,
             "#46039f"
            ],
            [
             0.2222222222222222,
             "#7201a8"
            ],
            [
             0.3333333333333333,
             "#9c179e"
            ],
            [
             0.4444444444444444,
             "#bd3786"
            ],
            [
             0.5555555555555556,
             "#d8576b"
            ],
            [
             0.6666666666666666,
             "#ed7953"
            ],
            [
             0.7777777777777778,
             "#fb9f3a"
            ],
            [
             0.8888888888888888,
             "#fdca26"
            ],
            [
             1,
             "#f0f921"
            ]
           ]
          },
          "colorway": [
           "#636efa",
           "#EF553B",
           "#00cc96",
           "#ab63fa",
           "#FFA15A",
           "#19d3f3",
           "#FF6692",
           "#B6E880",
           "#FF97FF",
           "#FECB52"
          ],
          "font": {
           "color": "#2a3f5f"
          },
          "geo": {
           "bgcolor": "white",
           "lakecolor": "white",
           "landcolor": "#E5ECF6",
           "showlakes": true,
           "showland": true,
           "subunitcolor": "white"
          },
          "hoverlabel": {
           "align": "left"
          },
          "hovermode": "closest",
          "mapbox": {
           "style": "light"
          },
          "paper_bgcolor": "white",
          "plot_bgcolor": "#E5ECF6",
          "polar": {
           "angularaxis": {
            "gridcolor": "white",
            "linecolor": "white",
            "ticks": ""
           },
           "bgcolor": "#E5ECF6",
           "radialaxis": {
            "gridcolor": "white",
            "linecolor": "white",
            "ticks": ""
           }
          },
          "scene": {
           "xaxis": {
            "backgroundcolor": "#E5ECF6",
            "gridcolor": "white",
            "gridwidth": 2,
            "linecolor": "white",
            "showbackground": true,
            "ticks": "",
            "zerolinecolor": "white"
           },
           "yaxis": {
            "backgroundcolor": "#E5ECF6",
            "gridcolor": "white",
            "gridwidth": 2,
            "linecolor": "white",
            "showbackground": true,
            "ticks": "",
            "zerolinecolor": "white"
           },
           "zaxis": {
            "backgroundcolor": "#E5ECF6",
            "gridcolor": "white",
            "gridwidth": 2,
            "linecolor": "white",
            "showbackground": true,
            "ticks": "",
            "zerolinecolor": "white"
           }
          },
          "shapedefaults": {
           "line": {
            "color": "#2a3f5f"
           }
          },
          "ternary": {
           "aaxis": {
            "gridcolor": "white",
            "linecolor": "white",
            "ticks": ""
           },
           "baxis": {
            "gridcolor": "white",
            "linecolor": "white",
            "ticks": ""
           },
           "bgcolor": "#E5ECF6",
           "caxis": {
            "gridcolor": "white",
            "linecolor": "white",
            "ticks": ""
           }
          },
          "title": {
           "x": 0.05
          },
          "xaxis": {
           "automargin": true,
           "gridcolor": "white",
           "linecolor": "white",
           "ticks": "",
           "title": {
            "standoff": 15
           },
           "zerolinecolor": "white",
           "zerolinewidth": 2
          },
          "yaxis": {
           "automargin": true,
           "gridcolor": "white",
           "linecolor": "white",
           "ticks": "",
           "title": {
            "standoff": 15
           },
           "zerolinecolor": "white",
           "zerolinewidth": 2
          }
         }
        },
        "width": 800
       }
      }
     },
     "metadata": {},
     "output_type": "display_data"
    }
   ],
   "source": [
    "target = [[20,10,0]]\n",
    "source = [0,10,0]\n",
    "\n",
    "obstacles = {\n",
    "    0: [[3, 5,6], [5,5,6], [5,15,6], [3,15,6], [3,5,6]],\n",
    "    1: [[8, 6,8], [12,6,8], [12,14,8], [8,14,8], [8,6,8]],\n",
    "    2: [[15, 5,7], [17,5,7], [17,15,7], [15,15,7], [15,5,7]]\n",
    "}\n",
    "\n",
    "drone_height = 5\n",
    "drone_max_height = 7\n",
    "\n",
    "route_3, msg = create_shortest_dijkstra_path(source, target, obstacles, drone_height, drone_max_height)\n",
    "\n",
    "initial_plot(delivary_locations=target, obstacles=obstacles, dp=source, route = route_3.copy())"
   ]
  },
  {
   "cell_type": "code",
   "execution_count": 131,
   "metadata": {},
   "outputs": [
    {
     "data": {
      "text/plain": [
       "65.46002587120321"
      ]
     },
     "execution_count": 131,
     "metadata": {},
     "output_type": "execute_result"
    }
   ],
   "source": [
    "# test_distance_1 = calculate_route_distance(route_3)\n",
    "\n",
    "# test_distance_1 = 72.00162692944073\n",
    "\n",
    "test_distance_2 = calculate_route_distance(route_3)\n",
    "\n",
    "test_distance_2"
   ]
  },
  {
   "cell_type": "markdown",
   "metadata": {},
   "source": [
    "## <font color=\"orange\">Test</font>"
   ]
  },
  {
   "cell_type": "code",
   "execution_count": 120,
   "metadata": {},
   "outputs": [
    {
     "name": "stdout",
     "output_type": "stream",
     "text": [
      "MULTILINESTRING Z ((31.81 90.35 10, 32.03238267148014 91.84602888086643 9.933814681107206), (32.033319216516674 91.85232927474854 10, 32.191515151515155 92.9165564738292 5), (32.1970235396687 92.95361290322582 9.946817785527454, 32.69 96.27 10))\n",
      "MULTIPOLYGON Z (((31.81 90.35 10, 32.51 90.85 10, 32.21 91.55 10, 32.03 91.85 10, 34.31 93.45 10, 32.69 96.27 10, 30.99 95.15 10, 32.21 92.93 10, 30.89 91.97 10, 31.81 90.35 10)), ((31.81 90.35 0, 32.51 90.85 0, 32.21 91.55 0, 32.03 91.85 0, 34.31 93.45 0, 32.69 96.27 0, 30.99 95.15 0, 32.21 92.93 0, 30.89 91.97 0, 31.81 90.35 0)), ((31.81 90.35 10, 32.51 90.85 10, 32.51 90.85 0, 31.81 90.35 0, 31.81 90.35 10)), ((32.51 90.85 10, 32.21 91.55 10, 32.21 91.55 0, 32.51 90.85 0, 32.51 90.85 10)), ((32.21 91.55 10, 32.03 91.85 10, 32.03 91.85 0, 32.21 91.55 0, 32.21 91.55 10)), ((32.03 91.85 10, 34.31 93.45 10, 34.31 93.45 0, 32.03 91.85 0, 32.03 91.85 10)), ((34.31 93.45 10, 32.69 96.27 10, 32.69 96.27 0, 34.31 93.45 0, 34.31 93.45 10)), ((32.69 96.27 10, 30.99 95.15 10, 30.99 95.15 0, 32.69 96.27 0, 32.69 96.27 10)), ((30.99 95.15 10, 32.21 92.93 10, 32.21 92.93 0, 30.99 95.15 0, 30.99 95.15 10)), ((32.21 92.93 10, 30.89 91.97 10, 30.89 91.97 0, 32.21 92.93 0, 32.21 92.93 10)), ((30.89 91.97 10, 31.81 90.35 10, 31.81 90.35 0, 30.89 91.97 0, 30.89 91.97 10)))\n"
     ]
    }
   ],
   "source": [
    "def build_3d_polygon(coords):\n",
    "    # Add z coordinate to each point\n",
    "    polygon_coords = [(x, y, z) for x, y, z in coords]\n",
    "    \n",
    "    # Create the top and bottom polygons\n",
    "    top_polygon = Polygon(polygon_coords)\n",
    "    bottom_polygon = Polygon([(x, y, 0) for x, y, _ in polygon_coords])\n",
    "    \n",
    "    # Create the side polygons\n",
    "    side_polygons = []\n",
    "    for i in range(len(coords) - 1):\n",
    "        side_polygon_coords = [\n",
    "            polygon_coords[i],\n",
    "            polygon_coords[i+1],\n",
    "            (coords[i+1][0], coords[i+1][1], 0),\n",
    "            (coords[i][0], coords[i][1], 0),\n",
    "            polygon_coords[i]\n",
    "        ]\n",
    "        side_polygon = Polygon(side_polygon_coords)\n",
    "        side_polygons.append(side_polygon)\n",
    "    \n",
    "    # Combine all polygons into a MultiPolygon\n",
    "    all_polygons = [top_polygon, bottom_polygon] + side_polygons\n",
    "    return MultiPolygon(all_polygons)\n",
    "\n",
    "box = build_3d_polygon([[31.81, 90.35,10], [32.51, 90.85,10], [32.21, 91.55,10], [32.03, 91.85,10], [34.31, 93.45,10], [32.69, 96.27,10],[30.99, 95.15,10], [32.21, 92.93,10],[30.89, 91.97,10],[31.81, 90.35,10]])\n",
    "\n",
    "line = LineString([(31.81, 90.35,10), (32.69, 96.27,10)])\n",
    "\n",
    "print(line.intersection(box))\n",
    "\n",
    "print(box)"
   ]
  },
  {
   "cell_type": "code",
   "execution_count": 121,
   "metadata": {},
   "outputs": [],
   "source": [
    "def plot_intersection(polygon, line):\n",
    "    # Extract coordinates from the polygon and line\n",
    "    coords = list(polygon.exterior.coords)\n",
    "    line_coords = list(line.coords)\n",
    "\n",
    "    polygon_x = [x for x,y,z in coords]\n",
    "    polygon_y = [y for x,y,z in coords]\n",
    "    polygon_z = [z for x,y,z in coords]\n",
    "\n",
    "    line_x = [x for x,y,z in line_coords]\n",
    "    line_y = [y for x,y,z in line_coords]\n",
    "    line_z = [z for x,y,z in line_coords]\n",
    "    \n",
    "    # Create traces for the polygon and the line\n",
    "    polygon_trace = go.Scatter(\n",
    "        x=polygon_x, y=polygon_y,\n",
    "        fill=\"toself\",  # Fill the area enclosed by the polygon\n",
    "        name=\"Polygon\",\n",
    "        line=dict(color=\"blue\")\n",
    "    )\n",
    "    \n",
    "    line_trace = go.Scatter(\n",
    "        x=line_x, y=line_y,\n",
    "        name=\"Line\",\n",
    "        line=dict(color=\"red\")\n",
    "    )\n",
    "    \n",
    "    # Create a figure and add the traces\n",
    "    fig = go.Figure()\n",
    "    fig.add_trace(polygon_trace)\n",
    "    fig.add_trace(line_trace)\n",
    "    \n",
    "    # Update layout for better visualization\n",
    "    fig.update_layout(\n",
    "        title=\"Polygon and Line Intersection\",\n",
    "        xaxis_title=\"X Axis\",\n",
    "        yaxis_title=\"Y Axis\",\n",
    "        showlegend=True\n",
    "    )\n",
    "    \n",
    "    # Show the figure\n",
    "    fig.show()"
   ]
  },
  {
   "cell_type": "code",
   "execution_count": 122,
   "metadata": {},
   "outputs": [],
   "source": [
    "def get_closest_intersection_point(line, polygon, height):\n",
    "    intersections = list(line.intersection(polygon).coords)\n",
    "\n",
    "    A = intersections[0]\n",
    "    B = intersections[-1]\n",
    "\n",
    "    # Step 2: Calculate direction vectors\n",
    "    def direction_vector(point, ref_point):\n",
    "        return (ref_point[0] - point[0], ref_point[1] - point[1])\n",
    "\n",
    "    d = 0.001  # Small distance to move outside the polygon\n",
    "\n",
    "    # Calculate new points dA and dB\n",
    "    def move_point_outside(point, direction, distance):\n",
    "        dx, dy = direction\n",
    "        length = (dx**2 + dy**2) ** 0.5\n",
    "        unit_vector = (dx / length, dy / length)\n",
    "        return (point[0] + unit_vector[0] * distance, point[1] + unit_vector[1] * distance)\n",
    "\n",
    "    # Step 3: Move a small distance outside\n",
    "    direction_A = direction_vector(A, line.coords[0])  # Direction from A to M\n",
    "    direction_B = direction_vector(B, line.coords[-1]) # Direction from B to N\n",
    "\n",
    "    dA_coords = move_point_outside(A, direction_A, d)\n",
    "    dB_coords = move_point_outside(B, direction_B, d)\n",
    "\n",
    "    return [(dA_coords[0], dA_coords[1], height), (dB_coords[0], dB_coords[1], height)]"
   ]
  },
  {
   "cell_type": "code",
   "execution_count": 123,
   "metadata": {},
   "outputs": [
    {
     "name": "stdout",
     "output_type": "stream",
     "text": [
      "LINESTRING Z (27.55470577587296 93.92084405438013 10, 34.20959 92.51168 10)\n",
      "POLYGON Z ((31.81 90.35 10, 32.51 90.85 10, 32.21 91.55 10, 32.03 91.85 10, 34.31 93.45 10, 32.69 96.27 10, 30.99 95.15 10, 32.21 92.93 10, 30.89 91.97 10, 31.81 90.35 10))\n",
      "--------------------------------------------------\n",
      "LINESTRING Z (32.20683388199107 92.9357612967048 10, 33.25955850390183 92.71284807291356 10)\n",
      "True\n",
      "LINESTRING Z (32.20683388199107 92.9357612967048 10, 33.25955850390183 92.71284807291356 10)\n",
      "--------------------------------------------------\n",
      "LINESTRING Z (32.20683388199107 92.9357612967048 10, 33.25955850390183 92.71284807291356 10)\n",
      "False\n",
      "False\n",
      "--------------------------------------------------\n",
      "LINESTRING Z (32.20683388199106 92.93576129670481 10, 33.25955850390182 92.71284807291356 10)\n",
      "True\n",
      "LINESTRING Z (32.20683388199106 92.93576129670481 10, 33.25955850390182 92.71284807291356 10)\n"
     ]
    }
   ],
   "source": [
    "sample = Polygon([[31.81, 90.35,10], [32.51, 90.85,10], [32.21, 91.55,10], [32.03, 91.85,10], [34.31, 93.45,10], \n",
    "                  [32.69, 96.27,10],[30.99, 95.15,10], [32.21, 92.93,10],[30.89, 91.97,10],[31.81, 90.35,10]])\n",
    "\n",
    "line_1 = LineString([[27.55470577587296, 93.92084405438013, 10],[34.20959, 92.51168, 10]])\n",
    "line_2 = LineString([[32.20683388199107, 92.9357612967048, 10], [34.20959, 92.51168, 10]])\n",
    "line_3 = LineString([(32.20585557398193, 92.93596845229672, 10), (33.26053681191097, 92.71264091732164, 10)])\n",
    "\n",
    "print(line_1)\n",
    "print(sample)\n",
    "\n",
    "print('-'*50)\n",
    "print(line_1.intersection(sample))\n",
    "print(line_intersect(line_1, sample))\n",
    "print(has_2d_intersection(line_1, sample))\n",
    "\n",
    "print('-'*50)\n",
    "print(line_2.intersection(sample))\n",
    "print(line_intersect(line_2, sample))\n",
    "print(has_2d_intersection(line_2, sample))\n",
    "\n",
    "print('-'*50)\n",
    "print(line_3.intersection(sample))\n",
    "print(line_intersect(line_3, sample))\n",
    "print(has_2d_intersection(line_3, sample))"
   ]
  },
  {
   "cell_type": "code",
   "execution_count": 124,
   "metadata": {},
   "outputs": [
    {
     "data": {
      "text/plain": [
       "[(32.20585557398193, 92.93596845229672, 10),\n",
       " (33.26053681191097, 92.71264091732164, 10)]"
      ]
     },
     "execution_count": 124,
     "metadata": {},
     "output_type": "execute_result"
    }
   ],
   "source": [
    "get_closest_intersection_point(line_1, sample, 10)"
   ]
  },
  {
   "cell_type": "code",
   "execution_count": 125,
   "metadata": {},
   "outputs": [
    {
     "data": {
      "application/vnd.plotly.v1+json": {
       "config": {
        "plotlyServerURL": "https://plot.ly"
       },
       "data": [
        {
         "fill": "toself",
         "line": {
          "color": "blue"
         },
         "name": "Polygon",
         "type": "scatter",
         "x": [
          31.81,
          32.51,
          32.21,
          32.03,
          34.31,
          32.69,
          30.99,
          32.21,
          30.89,
          31.81
         ],
         "y": [
          90.35,
          90.85,
          91.55,
          91.85,
          93.45,
          96.27,
          95.15,
          92.93,
          91.97,
          90.35
         ]
        },
        {
         "line": {
          "color": "red"
         },
         "name": "Line",
         "type": "scatter",
         "x": [
          32.20585557398193,
          33.26053681191097
         ],
         "y": [
          92.93596845229672,
          92.71264091732164
         ]
        }
       ],
       "layout": {
        "showlegend": true,
        "template": {
         "data": {
          "bar": [
           {
            "error_x": {
             "color": "#2a3f5f"
            },
            "error_y": {
             "color": "#2a3f5f"
            },
            "marker": {
             "line": {
              "color": "#E5ECF6",
              "width": 0.5
             },
             "pattern": {
              "fillmode": "overlay",
              "size": 10,
              "solidity": 0.2
             }
            },
            "type": "bar"
           }
          ],
          "barpolar": [
           {
            "marker": {
             "line": {
              "color": "#E5ECF6",
              "width": 0.5
             },
             "pattern": {
              "fillmode": "overlay",
              "size": 10,
              "solidity": 0.2
             }
            },
            "type": "barpolar"
           }
          ],
          "carpet": [
           {
            "aaxis": {
             "endlinecolor": "#2a3f5f",
             "gridcolor": "white",
             "linecolor": "white",
             "minorgridcolor": "white",
             "startlinecolor": "#2a3f5f"
            },
            "baxis": {
             "endlinecolor": "#2a3f5f",
             "gridcolor": "white",
             "linecolor": "white",
             "minorgridcolor": "white",
             "startlinecolor": "#2a3f5f"
            },
            "type": "carpet"
           }
          ],
          "choropleth": [
           {
            "colorbar": {
             "outlinewidth": 0,
             "ticks": ""
            },
            "type": "choropleth"
           }
          ],
          "contour": [
           {
            "colorbar": {
             "outlinewidth": 0,
             "ticks": ""
            },
            "colorscale": [
             [
              0,
              "#0d0887"
             ],
             [
              0.1111111111111111,
              "#46039f"
             ],
             [
              0.2222222222222222,
              "#7201a8"
             ],
             [
              0.3333333333333333,
              "#9c179e"
             ],
             [
              0.4444444444444444,
              "#bd3786"
             ],
             [
              0.5555555555555556,
              "#d8576b"
             ],
             [
              0.6666666666666666,
              "#ed7953"
             ],
             [
              0.7777777777777778,
              "#fb9f3a"
             ],
             [
              0.8888888888888888,
              "#fdca26"
             ],
             [
              1,
              "#f0f921"
             ]
            ],
            "type": "contour"
           }
          ],
          "contourcarpet": [
           {
            "colorbar": {
             "outlinewidth": 0,
             "ticks": ""
            },
            "type": "contourcarpet"
           }
          ],
          "heatmap": [
           {
            "colorbar": {
             "outlinewidth": 0,
             "ticks": ""
            },
            "colorscale": [
             [
              0,
              "#0d0887"
             ],
             [
              0.1111111111111111,
              "#46039f"
             ],
             [
              0.2222222222222222,
              "#7201a8"
             ],
             [
              0.3333333333333333,
              "#9c179e"
             ],
             [
              0.4444444444444444,
              "#bd3786"
             ],
             [
              0.5555555555555556,
              "#d8576b"
             ],
             [
              0.6666666666666666,
              "#ed7953"
             ],
             [
              0.7777777777777778,
              "#fb9f3a"
             ],
             [
              0.8888888888888888,
              "#fdca26"
             ],
             [
              1,
              "#f0f921"
             ]
            ],
            "type": "heatmap"
           }
          ],
          "heatmapgl": [
           {
            "colorbar": {
             "outlinewidth": 0,
             "ticks": ""
            },
            "colorscale": [
             [
              0,
              "#0d0887"
             ],
             [
              0.1111111111111111,
              "#46039f"
             ],
             [
              0.2222222222222222,
              "#7201a8"
             ],
             [
              0.3333333333333333,
              "#9c179e"
             ],
             [
              0.4444444444444444,
              "#bd3786"
             ],
             [
              0.5555555555555556,
              "#d8576b"
             ],
             [
              0.6666666666666666,
              "#ed7953"
             ],
             [
              0.7777777777777778,
              "#fb9f3a"
             ],
             [
              0.8888888888888888,
              "#fdca26"
             ],
             [
              1,
              "#f0f921"
             ]
            ],
            "type": "heatmapgl"
           }
          ],
          "histogram": [
           {
            "marker": {
             "pattern": {
              "fillmode": "overlay",
              "size": 10,
              "solidity": 0.2
             }
            },
            "type": "histogram"
           }
          ],
          "histogram2d": [
           {
            "colorbar": {
             "outlinewidth": 0,
             "ticks": ""
            },
            "colorscale": [
             [
              0,
              "#0d0887"
             ],
             [
              0.1111111111111111,
              "#46039f"
             ],
             [
              0.2222222222222222,
              "#7201a8"
             ],
             [
              0.3333333333333333,
              "#9c179e"
             ],
             [
              0.4444444444444444,
              "#bd3786"
             ],
             [
              0.5555555555555556,
              "#d8576b"
             ],
             [
              0.6666666666666666,
              "#ed7953"
             ],
             [
              0.7777777777777778,
              "#fb9f3a"
             ],
             [
              0.8888888888888888,
              "#fdca26"
             ],
             [
              1,
              "#f0f921"
             ]
            ],
            "type": "histogram2d"
           }
          ],
          "histogram2dcontour": [
           {
            "colorbar": {
             "outlinewidth": 0,
             "ticks": ""
            },
            "colorscale": [
             [
              0,
              "#0d0887"
             ],
             [
              0.1111111111111111,
              "#46039f"
             ],
             [
              0.2222222222222222,
              "#7201a8"
             ],
             [
              0.3333333333333333,
              "#9c179e"
             ],
             [
              0.4444444444444444,
              "#bd3786"
             ],
             [
              0.5555555555555556,
              "#d8576b"
             ],
             [
              0.6666666666666666,
              "#ed7953"
             ],
             [
              0.7777777777777778,
              "#fb9f3a"
             ],
             [
              0.8888888888888888,
              "#fdca26"
             ],
             [
              1,
              "#f0f921"
             ]
            ],
            "type": "histogram2dcontour"
           }
          ],
          "mesh3d": [
           {
            "colorbar": {
             "outlinewidth": 0,
             "ticks": ""
            },
            "type": "mesh3d"
           }
          ],
          "parcoords": [
           {
            "line": {
             "colorbar": {
              "outlinewidth": 0,
              "ticks": ""
             }
            },
            "type": "parcoords"
           }
          ],
          "pie": [
           {
            "automargin": true,
            "type": "pie"
           }
          ],
          "scatter": [
           {
            "fillpattern": {
             "fillmode": "overlay",
             "size": 10,
             "solidity": 0.2
            },
            "type": "scatter"
           }
          ],
          "scatter3d": [
           {
            "line": {
             "colorbar": {
              "outlinewidth": 0,
              "ticks": ""
             }
            },
            "marker": {
             "colorbar": {
              "outlinewidth": 0,
              "ticks": ""
             }
            },
            "type": "scatter3d"
           }
          ],
          "scattercarpet": [
           {
            "marker": {
             "colorbar": {
              "outlinewidth": 0,
              "ticks": ""
             }
            },
            "type": "scattercarpet"
           }
          ],
          "scattergeo": [
           {
            "marker": {
             "colorbar": {
              "outlinewidth": 0,
              "ticks": ""
             }
            },
            "type": "scattergeo"
           }
          ],
          "scattergl": [
           {
            "marker": {
             "colorbar": {
              "outlinewidth": 0,
              "ticks": ""
             }
            },
            "type": "scattergl"
           }
          ],
          "scattermapbox": [
           {
            "marker": {
             "colorbar": {
              "outlinewidth": 0,
              "ticks": ""
             }
            },
            "type": "scattermapbox"
           }
          ],
          "scatterpolar": [
           {
            "marker": {
             "colorbar": {
              "outlinewidth": 0,
              "ticks": ""
             }
            },
            "type": "scatterpolar"
           }
          ],
          "scatterpolargl": [
           {
            "marker": {
             "colorbar": {
              "outlinewidth": 0,
              "ticks": ""
             }
            },
            "type": "scatterpolargl"
           }
          ],
          "scatterternary": [
           {
            "marker": {
             "colorbar": {
              "outlinewidth": 0,
              "ticks": ""
             }
            },
            "type": "scatterternary"
           }
          ],
          "surface": [
           {
            "colorbar": {
             "outlinewidth": 0,
             "ticks": ""
            },
            "colorscale": [
             [
              0,
              "#0d0887"
             ],
             [
              0.1111111111111111,
              "#46039f"
             ],
             [
              0.2222222222222222,
              "#7201a8"
             ],
             [
              0.3333333333333333,
              "#9c179e"
             ],
             [
              0.4444444444444444,
              "#bd3786"
             ],
             [
              0.5555555555555556,
              "#d8576b"
             ],
             [
              0.6666666666666666,
              "#ed7953"
             ],
             [
              0.7777777777777778,
              "#fb9f3a"
             ],
             [
              0.8888888888888888,
              "#fdca26"
             ],
             [
              1,
              "#f0f921"
             ]
            ],
            "type": "surface"
           }
          ],
          "table": [
           {
            "cells": {
             "fill": {
              "color": "#EBF0F8"
             },
             "line": {
              "color": "white"
             }
            },
            "header": {
             "fill": {
              "color": "#C8D4E3"
             },
             "line": {
              "color": "white"
             }
            },
            "type": "table"
           }
          ]
         },
         "layout": {
          "annotationdefaults": {
           "arrowcolor": "#2a3f5f",
           "arrowhead": 0,
           "arrowwidth": 1
          },
          "autotypenumbers": "strict",
          "coloraxis": {
           "colorbar": {
            "outlinewidth": 0,
            "ticks": ""
           }
          },
          "colorscale": {
           "diverging": [
            [
             0,
             "#8e0152"
            ],
            [
             0.1,
             "#c51b7d"
            ],
            [
             0.2,
             "#de77ae"
            ],
            [
             0.3,
             "#f1b6da"
            ],
            [
             0.4,
             "#fde0ef"
            ],
            [
             0.5,
             "#f7f7f7"
            ],
            [
             0.6,
             "#e6f5d0"
            ],
            [
             0.7,
             "#b8e186"
            ],
            [
             0.8,
             "#7fbc41"
            ],
            [
             0.9,
             "#4d9221"
            ],
            [
             1,
             "#276419"
            ]
           ],
           "sequential": [
            [
             0,
             "#0d0887"
            ],
            [
             0.1111111111111111,
             "#46039f"
            ],
            [
             0.2222222222222222,
             "#7201a8"
            ],
            [
             0.3333333333333333,
             "#9c179e"
            ],
            [
             0.4444444444444444,
             "#bd3786"
            ],
            [
             0.5555555555555556,
             "#d8576b"
            ],
            [
             0.6666666666666666,
             "#ed7953"
            ],
            [
             0.7777777777777778,
             "#fb9f3a"
            ],
            [
             0.8888888888888888,
             "#fdca26"
            ],
            [
             1,
             "#f0f921"
            ]
           ],
           "sequentialminus": [
            [
             0,
             "#0d0887"
            ],
            [
             0.1111111111111111,
             "#46039f"
            ],
            [
             0.2222222222222222,
             "#7201a8"
            ],
            [
             0.3333333333333333,
             "#9c179e"
            ],
            [
             0.4444444444444444,
             "#bd3786"
            ],
            [
             0.5555555555555556,
             "#d8576b"
            ],
            [
             0.6666666666666666,
             "#ed7953"
            ],
            [
             0.7777777777777778,
             "#fb9f3a"
            ],
            [
             0.8888888888888888,
             "#fdca26"
            ],
            [
             1,
             "#f0f921"
            ]
           ]
          },
          "colorway": [
           "#636efa",
           "#EF553B",
           "#00cc96",
           "#ab63fa",
           "#FFA15A",
           "#19d3f3",
           "#FF6692",
           "#B6E880",
           "#FF97FF",
           "#FECB52"
          ],
          "font": {
           "color": "#2a3f5f"
          },
          "geo": {
           "bgcolor": "white",
           "lakecolor": "white",
           "landcolor": "#E5ECF6",
           "showlakes": true,
           "showland": true,
           "subunitcolor": "white"
          },
          "hoverlabel": {
           "align": "left"
          },
          "hovermode": "closest",
          "mapbox": {
           "style": "light"
          },
          "paper_bgcolor": "white",
          "plot_bgcolor": "#E5ECF6",
          "polar": {
           "angularaxis": {
            "gridcolor": "white",
            "linecolor": "white",
            "ticks": ""
           },
           "bgcolor": "#E5ECF6",
           "radialaxis": {
            "gridcolor": "white",
            "linecolor": "white",
            "ticks": ""
           }
          },
          "scene": {
           "xaxis": {
            "backgroundcolor": "#E5ECF6",
            "gridcolor": "white",
            "gridwidth": 2,
            "linecolor": "white",
            "showbackground": true,
            "ticks": "",
            "zerolinecolor": "white"
           },
           "yaxis": {
            "backgroundcolor": "#E5ECF6",
            "gridcolor": "white",
            "gridwidth": 2,
            "linecolor": "white",
            "showbackground": true,
            "ticks": "",
            "zerolinecolor": "white"
           },
           "zaxis": {
            "backgroundcolor": "#E5ECF6",
            "gridcolor": "white",
            "gridwidth": 2,
            "linecolor": "white",
            "showbackground": true,
            "ticks": "",
            "zerolinecolor": "white"
           }
          },
          "shapedefaults": {
           "line": {
            "color": "#2a3f5f"
           }
          },
          "ternary": {
           "aaxis": {
            "gridcolor": "white",
            "linecolor": "white",
            "ticks": ""
           },
           "baxis": {
            "gridcolor": "white",
            "linecolor": "white",
            "ticks": ""
           },
           "bgcolor": "#E5ECF6",
           "caxis": {
            "gridcolor": "white",
            "linecolor": "white",
            "ticks": ""
           }
          },
          "title": {
           "x": 0.05
          },
          "xaxis": {
           "automargin": true,
           "gridcolor": "white",
           "linecolor": "white",
           "ticks": "",
           "title": {
            "standoff": 15
           },
           "zerolinecolor": "white",
           "zerolinewidth": 2
          },
          "yaxis": {
           "automargin": true,
           "gridcolor": "white",
           "linecolor": "white",
           "ticks": "",
           "title": {
            "standoff": 15
           },
           "zerolinecolor": "white",
           "zerolinewidth": 2
          }
         }
        },
        "title": {
         "text": "Polygon and Line Intersection"
        },
        "xaxis": {
         "title": {
          "text": "X Axis"
         }
        },
        "yaxis": {
         "title": {
          "text": "Y Axis"
         }
        }
       }
      }
     },
     "metadata": {},
     "output_type": "display_data"
    }
   ],
   "source": [
    "plot_intersection(sample, line_3)"
   ]
  },
  {
   "cell_type": "code",
   "execution_count": 126,
   "metadata": {},
   "outputs": [
    {
     "data": {
      "text/plain": [
       "(27.55470577587296, 93.92084405438013, 10.0)"
      ]
     },
     "execution_count": 126,
     "metadata": {},
     "output_type": "execute_result"
    }
   ],
   "source": [
    "list(line_1.coords)[0]"
   ]
  },
  {
   "cell_type": "code",
   "execution_count": 127,
   "metadata": {},
   "outputs": [
    {
     "data": {
      "text/plain": [
       "10.0"
      ]
     },
     "execution_count": 127,
     "metadata": {},
     "output_type": "execute_result"
    }
   ],
   "source": [
    "max(z for x,y,z in list(sample.exterior.coords))"
   ]
  },
  {
   "cell_type": "code",
   "execution_count": 128,
   "metadata": {},
   "outputs": [
    {
     "name": "stdout",
     "output_type": "stream",
     "text": [
      "MULTILINESTRING Z ((31.639749840946074 96.96769653868911 5, 29.431190136335122 97.39073189940157 5), (28.06181925411113 97.65302605604191 5, 27.531407050059133 97.7546230912495 5))\n",
      "[5.0, 5.0, 5.0, 5.0]\n"
     ]
    }
   ],
   "source": [
    "point = Point([28.74, 91.42, 10])\n",
    "# geom = GeometryCollection([line_1, point])\n",
    "geom = MultiLineString([[[31.639749840946074, 96.96769653868911, 5], [29.431190136335122, 97.39073189940157, 5]],\n",
    "                        [[28.06181925411113, 97.65302605604191, 5], [27.531407050059133, 97.7546230912495, 5]]])\n",
    "print(geom)\n",
    "all_points = []\n",
    "\n",
    "# Iterate through geometries in the collection\n",
    "for subgeom in geom.geoms:\n",
    "  # Check if the subgeometry is a Point type\n",
    "  if subgeom.geom_type == 'Point' or subgeom.geom_type == 'LineString':\n",
    "    coord = list(subgeom.coords)\n",
    "    for cord in coord:\n",
    "      all_points.append(cord[2])\n",
    "\n",
    "# Print the list of points\n",
    "print(all_points)"
   ]
  },
  {
   "cell_type": "code",
   "execution_count": 129,
   "metadata": {},
   "outputs": [
    {
     "data": {
      "text/plain": [
       "[(1, 1, 0),\n",
       " (1, 1, 9),\n",
       " (5, 3, 7),\n",
       " (8, 8, 9),\n",
       " (8, 8, 0),\n",
       " (8, 8, 9),\n",
       " (5, 3, 7),\n",
       " (1, 1, 9),\n",
       " [1, 1, 0]]"
      ]
     },
     "execution_count": 129,
     "metadata": {},
     "output_type": "execute_result"
    }
   ],
   "source": [
    "source = [1,1,0]\n",
    "dest = [[8,8,0]]\n",
    "drone_height = 9\n",
    "\n",
    "obstacles_2 = {0:[[3,3,10],[5,3,10],[5,5,10],[3,5,10],[3,3,10]]}\n",
    "\n",
    "route, msg = create_shortest_dijkstra_path(source, dest, obstacles_2, drone_height, drone_max_height)\n",
    "\n",
    "route"
   ]
  },
  {
   "cell_type": "code",
   "execution_count": 130,
   "metadata": {},
   "outputs": [
    {
     "data": {
      "application/vnd.plotly.v1+json": {
       "config": {
        "plotlyServerURL": "https://plot.ly"
       },
       "data": [
        {
         "color": "red",
         "i": [
          0,
          0
         ],
         "j": [
          1,
          2
         ],
         "k": [
          2,
          3
         ],
         "opacity": 0.5,
         "type": "mesh3d",
         "x": [
          3,
          5,
          5,
          3
         ],
         "y": [
          3,
          3,
          3,
          3
         ],
         "z": [
          0,
          0,
          10,
          10
         ]
        },
        {
         "color": "red",
         "i": [
          0,
          0
         ],
         "j": [
          1,
          2
         ],
         "k": [
          2,
          3
         ],
         "opacity": 0.5,
         "type": "mesh3d",
         "x": [
          5,
          5,
          5,
          5
         ],
         "y": [
          3,
          5,
          5,
          3
         ],
         "z": [
          0,
          0,
          10,
          10
         ]
        },
        {
         "color": "red",
         "i": [
          0,
          0
         ],
         "j": [
          1,
          2
         ],
         "k": [
          2,
          3
         ],
         "opacity": 0.5,
         "type": "mesh3d",
         "x": [
          5,
          3,
          3,
          5
         ],
         "y": [
          5,
          5,
          5,
          5
         ],
         "z": [
          0,
          0,
          10,
          10
         ]
        },
        {
         "color": "red",
         "i": [
          0,
          0
         ],
         "j": [
          1,
          2
         ],
         "k": [
          2,
          3
         ],
         "opacity": 0.5,
         "type": "mesh3d",
         "x": [
          3,
          3,
          3,
          3
         ],
         "y": [
          5,
          3,
          3,
          5
         ],
         "z": [
          0,
          0,
          10,
          10
         ]
        },
        {
         "color": "red",
         "i": [
          0,
          0
         ],
         "j": [
          1,
          2
         ],
         "k": [
          2,
          3
         ],
         "opacity": 0.5,
         "type": "mesh3d",
         "x": [
          3,
          3,
          3,
          3
         ],
         "y": [
          3,
          3,
          3,
          3
         ],
         "z": [
          0,
          0,
          10,
          10
         ]
        },
        {
         "line": {
          "color": "black",
          "width": 3
         },
         "mode": "lines",
         "type": "scatter3d",
         "x": [
          3,
          5,
          5,
          3,
          3,
          3
         ],
         "y": [
          3,
          3,
          5,
          5,
          3,
          3
         ],
         "z": [
          10,
          10,
          10,
          10,
          10,
          10
         ]
        },
        {
         "line": {
          "color": "black",
          "width": 3
         },
         "mode": "lines",
         "type": "scatter3d",
         "x": [
          3,
          5,
          5,
          3,
          3,
          3
         ],
         "y": [
          3,
          3,
          5,
          5,
          3,
          3
         ],
         "z": [
          0,
          0,
          0,
          0,
          0,
          0
         ]
        },
        {
         "line": {
          "color": "black",
          "width": 3
         },
         "mode": "lines",
         "type": "scatter3d",
         "x": [
          3,
          3,
          5,
          5,
          3
         ],
         "y": [
          3,
          3,
          3,
          3,
          3
         ],
         "z": [
          0,
          10,
          10,
          0,
          0
         ]
        },
        {
         "line": {
          "color": "black",
          "width": 3
         },
         "mode": "lines",
         "type": "scatter3d",
         "x": [
          5,
          5,
          5,
          5,
          5
         ],
         "y": [
          3,
          3,
          5,
          5,
          3
         ],
         "z": [
          0,
          10,
          10,
          0,
          0
         ]
        },
        {
         "line": {
          "color": "black",
          "width": 3
         },
         "mode": "lines",
         "type": "scatter3d",
         "x": [
          5,
          5,
          3,
          3,
          5
         ],
         "y": [
          5,
          5,
          5,
          5,
          5
         ],
         "z": [
          0,
          10,
          10,
          0,
          0
         ]
        },
        {
         "line": {
          "color": "black",
          "width": 3
         },
         "mode": "lines",
         "type": "scatter3d",
         "x": [
          3,
          3,
          3,
          3,
          3
         ],
         "y": [
          5,
          5,
          3,
          3,
          5
         ],
         "z": [
          0,
          10,
          10,
          0,
          0
         ]
        },
        {
         "line": {
          "color": "black",
          "width": 3
         },
         "mode": "lines",
         "type": "scatter3d",
         "x": [
          3,
          3,
          3,
          3,
          3
         ],
         "y": [
          3,
          3,
          3,
          3,
          3
         ],
         "z": [
          0,
          10,
          10,
          0,
          0
         ]
        },
        {
         "marker": {
          "color": "blue",
          "size": 5
         },
         "mode": "markers",
         "type": "scatter3d",
         "x": [
          8
         ],
         "y": [
          8
         ],
         "z": [
          0
         ]
        },
        {
         "marker": {
          "color": "orange",
          "size": 8
         },
         "mode": "markers",
         "type": "scatter3d",
         "x": [
          1
         ],
         "y": [
          1
         ],
         "z": [
          0
         ]
        },
        {
         "line": {
          "color": "gray",
          "width": 5
         },
         "mode": "lines",
         "type": "scatter3d",
         "x": [
          1,
          1,
          5,
          8,
          8,
          8,
          5,
          1,
          1
         ],
         "y": [
          1,
          1,
          3,
          8,
          8,
          8,
          3,
          1,
          1
         ],
         "z": [
          0,
          9,
          7,
          9,
          0,
          9,
          7,
          9,
          0
         ]
        }
       ],
       "layout": {
        "height": 800,
        "scene": {
         "aspectmode": "cube",
         "xaxis": {
          "title": {
           "text": "X"
          }
         },
         "yaxis": {
          "title": {
           "text": "Y"
          }
         },
         "zaxis": {
          "title": {
           "text": "Height"
          }
         }
        },
        "template": {
         "data": {
          "bar": [
           {
            "error_x": {
             "color": "#2a3f5f"
            },
            "error_y": {
             "color": "#2a3f5f"
            },
            "marker": {
             "line": {
              "color": "#E5ECF6",
              "width": 0.5
             },
             "pattern": {
              "fillmode": "overlay",
              "size": 10,
              "solidity": 0.2
             }
            },
            "type": "bar"
           }
          ],
          "barpolar": [
           {
            "marker": {
             "line": {
              "color": "#E5ECF6",
              "width": 0.5
             },
             "pattern": {
              "fillmode": "overlay",
              "size": 10,
              "solidity": 0.2
             }
            },
            "type": "barpolar"
           }
          ],
          "carpet": [
           {
            "aaxis": {
             "endlinecolor": "#2a3f5f",
             "gridcolor": "white",
             "linecolor": "white",
             "minorgridcolor": "white",
             "startlinecolor": "#2a3f5f"
            },
            "baxis": {
             "endlinecolor": "#2a3f5f",
             "gridcolor": "white",
             "linecolor": "white",
             "minorgridcolor": "white",
             "startlinecolor": "#2a3f5f"
            },
            "type": "carpet"
           }
          ],
          "choropleth": [
           {
            "colorbar": {
             "outlinewidth": 0,
             "ticks": ""
            },
            "type": "choropleth"
           }
          ],
          "contour": [
           {
            "colorbar": {
             "outlinewidth": 0,
             "ticks": ""
            },
            "colorscale": [
             [
              0,
              "#0d0887"
             ],
             [
              0.1111111111111111,
              "#46039f"
             ],
             [
              0.2222222222222222,
              "#7201a8"
             ],
             [
              0.3333333333333333,
              "#9c179e"
             ],
             [
              0.4444444444444444,
              "#bd3786"
             ],
             [
              0.5555555555555556,
              "#d8576b"
             ],
             [
              0.6666666666666666,
              "#ed7953"
             ],
             [
              0.7777777777777778,
              "#fb9f3a"
             ],
             [
              0.8888888888888888,
              "#fdca26"
             ],
             [
              1,
              "#f0f921"
             ]
            ],
            "type": "contour"
           }
          ],
          "contourcarpet": [
           {
            "colorbar": {
             "outlinewidth": 0,
             "ticks": ""
            },
            "type": "contourcarpet"
           }
          ],
          "heatmap": [
           {
            "colorbar": {
             "outlinewidth": 0,
             "ticks": ""
            },
            "colorscale": [
             [
              0,
              "#0d0887"
             ],
             [
              0.1111111111111111,
              "#46039f"
             ],
             [
              0.2222222222222222,
              "#7201a8"
             ],
             [
              0.3333333333333333,
              "#9c179e"
             ],
             [
              0.4444444444444444,
              "#bd3786"
             ],
             [
              0.5555555555555556,
              "#d8576b"
             ],
             [
              0.6666666666666666,
              "#ed7953"
             ],
             [
              0.7777777777777778,
              "#fb9f3a"
             ],
             [
              0.8888888888888888,
              "#fdca26"
             ],
             [
              1,
              "#f0f921"
             ]
            ],
            "type": "heatmap"
           }
          ],
          "heatmapgl": [
           {
            "colorbar": {
             "outlinewidth": 0,
             "ticks": ""
            },
            "colorscale": [
             [
              0,
              "#0d0887"
             ],
             [
              0.1111111111111111,
              "#46039f"
             ],
             [
              0.2222222222222222,
              "#7201a8"
             ],
             [
              0.3333333333333333,
              "#9c179e"
             ],
             [
              0.4444444444444444,
              "#bd3786"
             ],
             [
              0.5555555555555556,
              "#d8576b"
             ],
             [
              0.6666666666666666,
              "#ed7953"
             ],
             [
              0.7777777777777778,
              "#fb9f3a"
             ],
             [
              0.8888888888888888,
              "#fdca26"
             ],
             [
              1,
              "#f0f921"
             ]
            ],
            "type": "heatmapgl"
           }
          ],
          "histogram": [
           {
            "marker": {
             "pattern": {
              "fillmode": "overlay",
              "size": 10,
              "solidity": 0.2
             }
            },
            "type": "histogram"
           }
          ],
          "histogram2d": [
           {
            "colorbar": {
             "outlinewidth": 0,
             "ticks": ""
            },
            "colorscale": [
             [
              0,
              "#0d0887"
             ],
             [
              0.1111111111111111,
              "#46039f"
             ],
             [
              0.2222222222222222,
              "#7201a8"
             ],
             [
              0.3333333333333333,
              "#9c179e"
             ],
             [
              0.4444444444444444,
              "#bd3786"
             ],
             [
              0.5555555555555556,
              "#d8576b"
             ],
             [
              0.6666666666666666,
              "#ed7953"
             ],
             [
              0.7777777777777778,
              "#fb9f3a"
             ],
             [
              0.8888888888888888,
              "#fdca26"
             ],
             [
              1,
              "#f0f921"
             ]
            ],
            "type": "histogram2d"
           }
          ],
          "histogram2dcontour": [
           {
            "colorbar": {
             "outlinewidth": 0,
             "ticks": ""
            },
            "colorscale": [
             [
              0,
              "#0d0887"
             ],
             [
              0.1111111111111111,
              "#46039f"
             ],
             [
              0.2222222222222222,
              "#7201a8"
             ],
             [
              0.3333333333333333,
              "#9c179e"
             ],
             [
              0.4444444444444444,
              "#bd3786"
             ],
             [
              0.5555555555555556,
              "#d8576b"
             ],
             [
              0.6666666666666666,
              "#ed7953"
             ],
             [
              0.7777777777777778,
              "#fb9f3a"
             ],
             [
              0.8888888888888888,
              "#fdca26"
             ],
             [
              1,
              "#f0f921"
             ]
            ],
            "type": "histogram2dcontour"
           }
          ],
          "mesh3d": [
           {
            "colorbar": {
             "outlinewidth": 0,
             "ticks": ""
            },
            "type": "mesh3d"
           }
          ],
          "parcoords": [
           {
            "line": {
             "colorbar": {
              "outlinewidth": 0,
              "ticks": ""
             }
            },
            "type": "parcoords"
           }
          ],
          "pie": [
           {
            "automargin": true,
            "type": "pie"
           }
          ],
          "scatter": [
           {
            "fillpattern": {
             "fillmode": "overlay",
             "size": 10,
             "solidity": 0.2
            },
            "type": "scatter"
           }
          ],
          "scatter3d": [
           {
            "line": {
             "colorbar": {
              "outlinewidth": 0,
              "ticks": ""
             }
            },
            "marker": {
             "colorbar": {
              "outlinewidth": 0,
              "ticks": ""
             }
            },
            "type": "scatter3d"
           }
          ],
          "scattercarpet": [
           {
            "marker": {
             "colorbar": {
              "outlinewidth": 0,
              "ticks": ""
             }
            },
            "type": "scattercarpet"
           }
          ],
          "scattergeo": [
           {
            "marker": {
             "colorbar": {
              "outlinewidth": 0,
              "ticks": ""
             }
            },
            "type": "scattergeo"
           }
          ],
          "scattergl": [
           {
            "marker": {
             "colorbar": {
              "outlinewidth": 0,
              "ticks": ""
             }
            },
            "type": "scattergl"
           }
          ],
          "scattermapbox": [
           {
            "marker": {
             "colorbar": {
              "outlinewidth": 0,
              "ticks": ""
             }
            },
            "type": "scattermapbox"
           }
          ],
          "scatterpolar": [
           {
            "marker": {
             "colorbar": {
              "outlinewidth": 0,
              "ticks": ""
             }
            },
            "type": "scatterpolar"
           }
          ],
          "scatterpolargl": [
           {
            "marker": {
             "colorbar": {
              "outlinewidth": 0,
              "ticks": ""
             }
            },
            "type": "scatterpolargl"
           }
          ],
          "scatterternary": [
           {
            "marker": {
             "colorbar": {
              "outlinewidth": 0,
              "ticks": ""
             }
            },
            "type": "scatterternary"
           }
          ],
          "surface": [
           {
            "colorbar": {
             "outlinewidth": 0,
             "ticks": ""
            },
            "colorscale": [
             [
              0,
              "#0d0887"
             ],
             [
              0.1111111111111111,
              "#46039f"
             ],
             [
              0.2222222222222222,
              "#7201a8"
             ],
             [
              0.3333333333333333,
              "#9c179e"
             ],
             [
              0.4444444444444444,
              "#bd3786"
             ],
             [
              0.5555555555555556,
              "#d8576b"
             ],
             [
              0.6666666666666666,
              "#ed7953"
             ],
             [
              0.7777777777777778,
              "#fb9f3a"
             ],
             [
              0.8888888888888888,
              "#fdca26"
             ],
             [
              1,
              "#f0f921"
             ]
            ],
            "type": "surface"
           }
          ],
          "table": [
           {
            "cells": {
             "fill": {
              "color": "#EBF0F8"
             },
             "line": {
              "color": "white"
             }
            },
            "header": {
             "fill": {
              "color": "#C8D4E3"
             },
             "line": {
              "color": "white"
             }
            },
            "type": "table"
           }
          ]
         },
         "layout": {
          "annotationdefaults": {
           "arrowcolor": "#2a3f5f",
           "arrowhead": 0,
           "arrowwidth": 1
          },
          "autotypenumbers": "strict",
          "coloraxis": {
           "colorbar": {
            "outlinewidth": 0,
            "ticks": ""
           }
          },
          "colorscale": {
           "diverging": [
            [
             0,
             "#8e0152"
            ],
            [
             0.1,
             "#c51b7d"
            ],
            [
             0.2,
             "#de77ae"
            ],
            [
             0.3,
             "#f1b6da"
            ],
            [
             0.4,
             "#fde0ef"
            ],
            [
             0.5,
             "#f7f7f7"
            ],
            [
             0.6,
             "#e6f5d0"
            ],
            [
             0.7,
             "#b8e186"
            ],
            [
             0.8,
             "#7fbc41"
            ],
            [
             0.9,
             "#4d9221"
            ],
            [
             1,
             "#276419"
            ]
           ],
           "sequential": [
            [
             0,
             "#0d0887"
            ],
            [
             0.1111111111111111,
             "#46039f"
            ],
            [
             0.2222222222222222,
             "#7201a8"
            ],
            [
             0.3333333333333333,
             "#9c179e"
            ],
            [
             0.4444444444444444,
             "#bd3786"
            ],
            [
             0.5555555555555556,
             "#d8576b"
            ],
            [
             0.6666666666666666,
             "#ed7953"
            ],
            [
             0.7777777777777778,
             "#fb9f3a"
            ],
            [
             0.8888888888888888,
             "#fdca26"
            ],
            [
             1,
             "#f0f921"
            ]
           ],
           "sequentialminus": [
            [
             0,
             "#0d0887"
            ],
            [
             0.1111111111111111,
             "#46039f"
            ],
            [
             0.2222222222222222,
             "#7201a8"
            ],
            [
             0.3333333333333333,
             "#9c179e"
            ],
            [
             0.4444444444444444,
             "#bd3786"
            ],
            [
             0.5555555555555556,
             "#d8576b"
            ],
            [
             0.6666666666666666,
             "#ed7953"
            ],
            [
             0.7777777777777778,
             "#fb9f3a"
            ],
            [
             0.8888888888888888,
             "#fdca26"
            ],
            [
             1,
             "#f0f921"
            ]
           ]
          },
          "colorway": [
           "#636efa",
           "#EF553B",
           "#00cc96",
           "#ab63fa",
           "#FFA15A",
           "#19d3f3",
           "#FF6692",
           "#B6E880",
           "#FF97FF",
           "#FECB52"
          ],
          "font": {
           "color": "#2a3f5f"
          },
          "geo": {
           "bgcolor": "white",
           "lakecolor": "white",
           "landcolor": "#E5ECF6",
           "showlakes": true,
           "showland": true,
           "subunitcolor": "white"
          },
          "hoverlabel": {
           "align": "left"
          },
          "hovermode": "closest",
          "mapbox": {
           "style": "light"
          },
          "paper_bgcolor": "white",
          "plot_bgcolor": "#E5ECF6",
          "polar": {
           "angularaxis": {
            "gridcolor": "white",
            "linecolor": "white",
            "ticks": ""
           },
           "bgcolor": "#E5ECF6",
           "radialaxis": {
            "gridcolor": "white",
            "linecolor": "white",
            "ticks": ""
           }
          },
          "scene": {
           "xaxis": {
            "backgroundcolor": "#E5ECF6",
            "gridcolor": "white",
            "gridwidth": 2,
            "linecolor": "white",
            "showbackground": true,
            "ticks": "",
            "zerolinecolor": "white"
           },
           "yaxis": {
            "backgroundcolor": "#E5ECF6",
            "gridcolor": "white",
            "gridwidth": 2,
            "linecolor": "white",
            "showbackground": true,
            "ticks": "",
            "zerolinecolor": "white"
           },
           "zaxis": {
            "backgroundcolor": "#E5ECF6",
            "gridcolor": "white",
            "gridwidth": 2,
            "linecolor": "white",
            "showbackground": true,
            "ticks": "",
            "zerolinecolor": "white"
           }
          },
          "shapedefaults": {
           "line": {
            "color": "#2a3f5f"
           }
          },
          "ternary": {
           "aaxis": {
            "gridcolor": "white",
            "linecolor": "white",
            "ticks": ""
           },
           "baxis": {
            "gridcolor": "white",
            "linecolor": "white",
            "ticks": ""
           },
           "bgcolor": "#E5ECF6",
           "caxis": {
            "gridcolor": "white",
            "linecolor": "white",
            "ticks": ""
           }
          },
          "title": {
           "x": 0.05
          },
          "xaxis": {
           "automargin": true,
           "gridcolor": "white",
           "linecolor": "white",
           "ticks": "",
           "title": {
            "standoff": 15
           },
           "zerolinecolor": "white",
           "zerolinewidth": 2
          },
          "yaxis": {
           "automargin": true,
           "gridcolor": "white",
           "linecolor": "white",
           "ticks": "",
           "title": {
            "standoff": 15
           },
           "zerolinecolor": "white",
           "zerolinewidth": 2
          }
         }
        },
        "width": 800
       }
      }
     },
     "metadata": {},
     "output_type": "display_data"
    }
   ],
   "source": [
    "initial_plot(delivary_locations=dest, obstacles=obstacles_2, dp=source, route = route.copy())"
   ]
  }
 ],
 "metadata": {
  "kernelspec": {
   "display_name": "Python 3",
   "language": "python",
   "name": "python3"
  },
  "language_info": {
   "codemirror_mode": {
    "name": "ipython",
    "version": 3
   },
   "file_extension": ".py",
   "mimetype": "text/x-python",
   "name": "python",
   "nbconvert_exporter": "python",
   "pygments_lexer": "ipython3",
   "version": "3.11.3"
  }
 },
 "nbformat": 4,
 "nbformat_minor": 2
}
