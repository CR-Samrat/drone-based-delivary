{
 "cells": [
  {
   "cell_type": "code",
   "execution_count": 1,
   "metadata": {},
   "outputs": [],
   "source": [
    "import matplotlib.pyplot as plt\n",
    "from mpl_toolkits.mplot3d import Axes3D\n",
    "from mpl_toolkits.mplot3d.art3d import Poly3DCollection\n",
    "import numpy as np\n",
    "import random\n",
    "from shapely.geometry import LineString,Polygon,Point, MultiPolygon, GeometryCollection, MultiLineString\n",
    "import networkx as nx\n",
    "from shapely.ops import split,nearest_points\n",
    "\n",
    "import plotly.graph_objects as go\n",
    "from scipy.spatial import Delaunay\n",
    "# %matplotlib widget"
   ]
  },
  {
   "cell_type": "markdown",
   "metadata": {},
   "source": [
    "## Visualization Algorithms"
   ]
  },
  {
   "cell_type": "markdown",
   "metadata": {},
   "source": [
    "Plotting dp"
   ]
  },
  {
   "cell_type": "code",
   "execution_count": 2,
   "metadata": {},
   "outputs": [],
   "source": [
    "def triangulate_polygon(x, y):\n",
    "    points2D = np.vstack([x, y]).T\n",
    "    tri = Delaunay(points2D)\n",
    "    return tri.simplices\n",
    "\n",
    "def initial_plot(delivary_locations, obstacles, dp=None, route=None):\n",
    "    fig = go.Figure()\n",
    "\n",
    "    # Plot each building\n",
    "    for building in obstacles.values():\n",
    "        x = [point[0] for point in building]\n",
    "        y = [point[1] for point in building]\n",
    "        z = [point[2] for point in building]\n",
    "\n",
    "        # Triangulate top and bottom faces\n",
    "        if len(x) > 2:  # Need at least 3 points to form a polygon\n",
    "            triangles = triangulate_polygon(x, y)\n",
    "        else:\n",
    "            triangles = [[0, 1, 2]]\n",
    "\n",
    "        # Side faces\n",
    "        for i in range(len(x)):\n",
    "            j = (i + 1) % len(x)\n",
    "            fig.add_trace(go.Mesh3d(\n",
    "                x=[x[i], x[j], x[j], x[i]],\n",
    "                y=[y[i], y[j], y[j], y[i]],\n",
    "                z=[0, 0, z[j], z[i]],\n",
    "                i=[0, 0],\n",
    "                j=[1, 2],\n",
    "                k=[2, 3],\n",
    "                color='red',\n",
    "                opacity=0.50\n",
    "            ))\n",
    "\n",
    "        # Add borders for the top face\n",
    "        fig.add_trace(go.Scatter3d(\n",
    "            x=x + [x[0]],\n",
    "            y=y + [y[0]],\n",
    "            z=z + [z[0]],\n",
    "            mode='lines',\n",
    "            line=dict(color='black', width=3)\n",
    "        ))\n",
    "\n",
    "        # Add borders for the bottom face\n",
    "        fig.add_trace(go.Scatter3d(\n",
    "            x=x + [x[0]],\n",
    "            y=y + [y[0]],\n",
    "            z=[0] * (len(x) + 1),\n",
    "            mode='lines',\n",
    "            line=dict(color='black', width=3)\n",
    "        ))\n",
    "\n",
    "        # Add borders for the sides\n",
    "        for i in range(len(x)):\n",
    "            j = (i + 1) % len(x)\n",
    "            fig.add_trace(go.Scatter3d(\n",
    "                x=[x[i], x[i], x[j], x[j], x[i]],\n",
    "                y=[y[i], y[i], y[j], y[j], y[i]],\n",
    "                z=[0, z[i], z[j], 0, 0],\n",
    "                mode='lines',\n",
    "                line=dict(color='black', width=3)\n",
    "            ))\n",
    "\n",
    "    # Delivery points\n",
    "    loc_x = [i for i, j, k in delivary_locations]\n",
    "    loc_y = [j for i, j, k in delivary_locations]\n",
    "    loc_z = [k for i, j, k in delivary_locations]\n",
    "\n",
    "    fig.add_trace(go.Scatter3d(\n",
    "        x=loc_x,\n",
    "        y=loc_y,\n",
    "        z=loc_z,\n",
    "        mode='markers',\n",
    "        marker=dict(size=5, color='blue')\n",
    "    ))\n",
    "\n",
    "    # Plot dp\n",
    "    if dp:\n",
    "        fig.add_trace(go.Scatter3d(\n",
    "            x=[dp[0]],\n",
    "            y=[dp[1]],\n",
    "            z=[dp[2]],\n",
    "            mode='markers',\n",
    "            marker=dict(size=8, color='orange')\n",
    "        ))\n",
    "\n",
    "    # Plotting route\n",
    "    if route:\n",
    "        x_axis = [i for i, j, k in route]\n",
    "        y_axis = [j for i, j, k in route]\n",
    "        z_axis = [k for i, j, k in route]\n",
    "\n",
    "        fig.add_trace(go.Scatter3d(\n",
    "            x=x_axis,\n",
    "            y=y_axis,\n",
    "            z=z_axis,\n",
    "            mode='lines',\n",
    "            line=dict(color='gray', width=5)\n",
    "        ))\n",
    "\n",
    "    # Update layout for better view\n",
    "    fig.update_layout(\n",
    "        width = 800,\n",
    "        height = 800,\n",
    "        scene=dict(\n",
    "            xaxis_title='X',\n",
    "            yaxis_title='Y',\n",
    "            zaxis_title='Height',\n",
    "            aspectmode='cube'\n",
    "    ))\n",
    "\n",
    "    # Show plot\n",
    "    fig.show()"
   ]
  },
  {
   "cell_type": "markdown",
   "metadata": {},
   "source": [
    "Plotting route"
   ]
  },
  {
   "cell_type": "code",
   "execution_count": 3,
   "metadata": {},
   "outputs": [],
   "source": [
    "def visualize_graph(G, path=None):\n",
    "    # Create a 3D plot\n",
    "    fig = plt.figure()\n",
    "    ax = fig.add_subplot(111, projection='3d')\n",
    "    \n",
    "    # Extract node positions for plotting\n",
    "    node_positions = {node: (node[0], node[1], node[2]) for node in G.nodes()}\n",
    "    \n",
    "    # Plot nodes\n",
    "    xs, ys, zs = zip(*node_positions.values())\n",
    "    ax.scatter(xs, ys, zs, c='b', marker='o')\n",
    "    \n",
    "    # Plot edges\n",
    "    for edge in G.edges():\n",
    "        x_vals = [node_positions[edge[0]][0], node_positions[edge[1]][0]]\n",
    "        y_vals = [node_positions[edge[0]][1], node_positions[edge[1]][1]]\n",
    "        z_vals = [node_positions[edge[0]][2], node_positions[edge[1]][2]]\n",
    "        ax.plot(x_vals, y_vals, z_vals, c='k')\n",
    "    \n",
    "    # Highlight the shortest path if provided\n",
    "    if path:\n",
    "        path_x = [node[0] for node in path]\n",
    "        path_y = [node[1] for node in path]\n",
    "        path_z = [node[2] for node in path]\n",
    "        ax.plot(path_x, path_y, path_z, c='r', linewidth=2)\n",
    "    \n",
    "    ax.set_xlabel('X Coordinate')\n",
    "    ax.set_ylabel('Y Coordinate')\n",
    "    ax.set_zlabel('Z Coordinate')\n",
    "    plt.show()"
   ]
  },
  {
   "cell_type": "markdown",
   "metadata": {},
   "source": [
    "## Obstacle Modifications"
   ]
  },
  {
   "cell_type": "code",
   "execution_count": 4,
   "metadata": {},
   "outputs": [],
   "source": [
    "def create_polygon(points, height = 0):\n",
    "    coords = []\n",
    "\n",
    "    for pt in points:\n",
    "        coords.append([pt[0],pt[1],height])\n",
    "\n",
    "    obs_polygon = Polygon(coords)\n",
    "    return obs_polygon"
   ]
  },
  {
   "cell_type": "code",
   "execution_count": 5,
   "metadata": {},
   "outputs": [],
   "source": [
    "def build_3d_polygon(coords):\n",
    "    # Add z coordinate to each point\n",
    "    polygon_coords = [(x, y, z) for x, y, z in coords]\n",
    "    \n",
    "    # Create the top and bottom polygons\n",
    "    top_polygon = Polygon(polygon_coords)\n",
    "    bottom_polygon = Polygon([(x, y, 0) for x, y, _ in polygon_coords])\n",
    "    \n",
    "    # Create the side polygons\n",
    "    side_polygons = []\n",
    "    for i in range(len(coords) - 1):\n",
    "        side_polygon_coords = [\n",
    "            polygon_coords[i],\n",
    "            polygon_coords[i+1],\n",
    "            (coords[i+1][0], coords[i+1][1], 0),\n",
    "            (coords[i][0], coords[i][1], 0),\n",
    "            polygon_coords[i]\n",
    "        ]\n",
    "        side_polygon = Polygon(side_polygon_coords)\n",
    "        side_polygons.append(side_polygon)\n",
    "    \n",
    "    # Combine all polygons into a MultiPolygon\n",
    "    all_polygons = [top_polygon, bottom_polygon] + side_polygons\n",
    "    return MultiPolygon(all_polygons)"
   ]
  },
  {
   "cell_type": "code",
   "execution_count": 6,
   "metadata": {},
   "outputs": [],
   "source": [
    "def line_intersect(line, obstacle):\n",
    "    parts = split(obstacle, line)\n",
    "\n",
    "    count = len([geoms for geoms in parts.geoms])\n",
    "\n",
    "    return count != 1"
   ]
  },
  {
   "cell_type": "code",
   "execution_count": 7,
   "metadata": {},
   "outputs": [],
   "source": [
    "def get_intersection_coordinate(intersection):\n",
    "    points = []\n",
    "    if intersection.geom_type == \"LineString\" or intersection.geom_type == \"Point\":\n",
    "        coord = list(intersection.coords)\n",
    "        for cord in coord:\n",
    "            points.append(cord)\n",
    "    elif intersection.geom_type == \"GeometryCollection\" or intersection.geom_type == \"MultiLineString\":\n",
    "        for subgeom in intersection.geoms:\n",
    "            if subgeom.geom_type == 'Point' or subgeom.geom_type == 'LineString':\n",
    "                coord = list(subgeom.coords)\n",
    "                for cord in coord:\n",
    "                    points.append(cord)\n",
    "    return points"
   ]
  },
  {
   "cell_type": "code",
   "execution_count": 8,
   "metadata": {},
   "outputs": [],
   "source": [
    "def get_z_coordinate(intersection):\n",
    "    z_points = []\n",
    "    if intersection.geom_type == \"LineString\" or intersection.geom_type == \"Point\":\n",
    "        coord = list(intersection.coords)\n",
    "        for cord in coord:\n",
    "            z_points.append(cord[2])\n",
    "    elif intersection.geom_type == \"GeometryCollection\" or intersection.geom_type == \"MultiLineString\":\n",
    "        for subgeom in intersection.geoms:\n",
    "            if subgeom.geom_type == 'Point' or subgeom.geom_type == 'LineString':\n",
    "                coord = list(subgeom.coords)\n",
    "                for cord in coord:\n",
    "                    z_points.append(cord[2])\n",
    "    return z_points\n"
   ]
  },
  {
   "cell_type": "code",
   "execution_count": 9,
   "metadata": {},
   "outputs": [],
   "source": [
    "def has_2d_intersection(line, polygon):\n",
    "    intersect = line_intersect(line, polygon)\n",
    "    if not intersect:\n",
    "        return False\n",
    "\n",
    "    intersection = line.intersection(polygon)\n",
    "    # Check if z-coordinate of intersection is within tolerance of both line and polygon\n",
    "    z_line_1, z_line_2 = line.coords[0][2], line.coords[1][2]\n",
    "    z_intersection = max(z for x,y,z in list(polygon.exterior.coords))\n",
    "    result = (z_intersection >= z_line_1) or (z_intersection >= z_line_2)\n",
    "    \n",
    "    return result if not result else intersection"
   ]
  },
  {
   "cell_type": "markdown",
   "metadata": {},
   "source": [
    "## Delivery Points modification"
   ]
  },
  {
   "cell_type": "code",
   "execution_count": 10,
   "metadata": {},
   "outputs": [],
   "source": [
    "def create_delivary(x,y,n, seed_value = None):\n",
    "    if seed_value != None:\n",
    "        random.seed(seed_value)\n",
    "\n",
    "    x_range = [x[0], y[0]]\n",
    "    y_range = [x[1], y[1]]\n",
    "    loc = []\n",
    "\n",
    "    for _ in range(n):\n",
    "        x_loc = random.uniform(x_range[0], x_range[1])\n",
    "        y_loc = random.uniform(y_range[0], y_range[1])\n",
    "        loc.append(tuple([x_loc, y_loc, 0]))\n",
    "\n",
    "    return loc"
   ]
  },
  {
   "cell_type": "code",
   "execution_count": 11,
   "metadata": {},
   "outputs": [],
   "source": [
    "def remove_obstacle(delivary_loc, obstacles):\n",
    "    obstacle_polygon = {obs_id : create_polygon(obs, 0) for obs_id, obs in obstacles.items()}\n",
    "    delivary_point = [Point([a,b,c]) for a,b,c in delivary_loc]\n",
    "    final_point = []\n",
    "    \n",
    "    for point in delivary_point:\n",
    "        flag = True\n",
    "        for obs_id, obs in obstacle_polygon.items():\n",
    "            if (point.intersects(obs)):\n",
    "                flag = False\n",
    "                break\n",
    "        if flag:\n",
    "            final_point.append(tuple([point.x, point.y, 0]))\n",
    "    return final_point"
   ]
  },
  {
   "cell_type": "code",
   "execution_count": 12,
   "metadata": {},
   "outputs": [],
   "source": [
    "def calculate_dp(delivary_loc, obstacles):\n",
    "    x = [i for i,j,k in delivary_loc]\n",
    "    y = [j for i,j,k in delivary_loc]\n",
    "    flag = False\n",
    "\n",
    "    dp = tuple([np.mean(x), np.mean(y), 0])\n",
    "\n",
    "    obstacle_polygon = {obs_id : create_polygon(obs, 0) for obs_id, obs in obstacles.items()}\n",
    "\n",
    "    for obs_id, obstacle in obstacle_polygon.items():\n",
    "        if obstacle.contains(Point(tuple([dp[0], dp[1]]))):\n",
    "            dp = list(obstacle.exterior.coords)\n",
    "            flag = True\n",
    "            break\n",
    "\n",
    "    return dp if flag else [dp]"
   ]
  },
  {
   "cell_type": "code",
   "execution_count": 13,
   "metadata": {},
   "outputs": [],
   "source": [
    "def get_closest_intersection_point(line, polygon, height):\n",
    "    intersection = line.intersection(polygon)\n",
    "\n",
    "    intersections = get_intersection_coordinate(intersection)\n",
    "\n",
    "    A = intersections[0]\n",
    "    B = intersections[-1]\n",
    "\n",
    "    # Step 2: Calculate direction vectors\n",
    "    def direction_vector(point, ref_point):\n",
    "        return (ref_point[0] - point[0], ref_point[1] - point[1])\n",
    "\n",
    "    d = 0.001  # Small distance to move outside the polygon\n",
    "\n",
    "    # Calculate new points dA and dB\n",
    "    def move_point_outside(point, direction, distance):\n",
    "        dx, dy = direction\n",
    "        length = (dx**2 + dy**2) ** 0.5\n",
    "        unit_vector = (dx / length, dy / length)\n",
    "        return (point[0] + unit_vector[0] * distance, point[1] + unit_vector[1] * distance)\n",
    "\n",
    "    # Step 3: Move a small distance outside\n",
    "    direction_A = direction_vector(A, line.coords[0])  # Direction from A to M\n",
    "    direction_B = direction_vector(B, line.coords[-1]) # Direction from B to N\n",
    "\n",
    "    dA_coords = move_point_outside(A, direction_A, d)\n",
    "    dB_coords = move_point_outside(B, direction_B, d)\n",
    "\n",
    "    return [(dA_coords[0], dA_coords[1], height), (dB_coords[0], dB_coords[1], height)]"
   ]
  },
  {
   "cell_type": "code",
   "execution_count": 14,
   "metadata": {},
   "outputs": [],
   "source": [
    "def calculate_drone_height_median(obstacles):\n",
    "    z_axises = []\n",
    "\n",
    "    for obs_id, obs in obstacles.items():\n",
    "        max_z = max([z for x,y,z in obs])\n",
    "        z_axises.append(max_z)\n",
    "\n",
    "    return np.median(z_axises)"
   ]
  },
  {
   "cell_type": "markdown",
   "metadata": {},
   "source": [
    "#### routing modifications"
   ]
  },
  {
   "cell_type": "code",
   "execution_count": 15,
   "metadata": {},
   "outputs": [],
   "source": [
    "def create_obstacle_free_route(delivary_loc, dp, height):\n",
    "    route = []\n",
    "    for loc in delivary_loc:\n",
    "        route.append(dp)\n",
    "        route.append(tuple([dp[0],dp[1],height]))\n",
    "        route.append(tuple([loc[0],loc[1],height]))\n",
    "        route.append(loc)\n",
    "        route.append(tuple([loc[0],loc[1],height]))\n",
    "        route.append(tuple([dp[0],dp[1],height]))\n",
    "\n",
    "    route.append(dp)\n",
    "\n",
    "    return route"
   ]
  },
  {
   "cell_type": "code",
   "execution_count": 16,
   "metadata": {},
   "outputs": [],
   "source": [
    "def euclidean_distance(pt_1, pt_2):\n",
    "    distance = np.sqrt((pt_2[0]-pt_1[0])**2 + (pt_2[1]-pt_1[1])**2 + (pt_2[2]-pt_1[2])**2)\n",
    "\n",
    "    return distance"
   ]
  },
  {
   "cell_type": "code",
   "execution_count": 17,
   "metadata": {},
   "outputs": [],
   "source": [
    "def calculate_route_distance(route) :\n",
    "    distance = 0\n",
    "    for i in range(len(route)-1):\n",
    "        distance += euclidean_distance(route[i],route[i+1])\n",
    "\n",
    "    return distance"
   ]
  },
  {
   "cell_type": "code",
   "execution_count": 18,
   "metadata": {},
   "outputs": [],
   "source": [
    "def generate_intermediate_points(x1, y1, x2, y2, interval):\n",
    "    # Calculate the Euclidean distance between (x1, y1) and (x2, y2)\n",
    "    distance = np.sqrt((x2 - x1)**2 + (y2 - y1)**2)\n",
    "    \n",
    "    # Determine the number of points\n",
    "    num_points = int(np.ceil(distance / interval)) + 1\n",
    "    \n",
    "    # Generate the points\n",
    "    x_points = np.linspace(x1, x2, num_points)\n",
    "    y_points = np.linspace(y1, y2, num_points)\n",
    "    \n",
    "    return np.column_stack((x_points, y_points))"
   ]
  },
  {
   "cell_type": "code",
   "execution_count": 19,
   "metadata": {},
   "outputs": [],
   "source": [
    "def frange(start, stop, step):\n",
    "    while start <= stop:\n",
    "        yield start\n",
    "        start += step"
   ]
  },
  {
   "cell_type": "code",
   "execution_count": 20,
   "metadata": {},
   "outputs": [],
   "source": [
    "def create_shortest_dijkstra_path(source, dest, obstacles, drone_height, max_height):\n",
    "\n",
    "    # creating obstacle polygons\n",
    "    obstacle_polygon = {ob_id : create_polygon(obs, height=obs[0][2]) for ob_id, obs in obstacles.items()}\n",
    "    const = 0.005\n",
    "    v_space = 1.0\n",
    "    h_space = 1.0\n",
    "    # drone_height_median = calculate_drone_height_median(obstacles) + const\n",
    "\n",
    "    G = nx.Graph()\n",
    "\n",
    "    # connecting nodes\n",
    "    G.add_node(tuple([source[0], source[1], drone_height]))\n",
    "\n",
    "    for i in dest:\n",
    "        G.add_node(tuple([i[0], i[1], drone_height]))\n",
    "\n",
    "    # if height of an obstacle is less than drone height then ignore that obstacle\n",
    "    for obs_id, obstacle in obstacles.items():\n",
    "        obstacle_height = max([z for x,y,z in obstacle])\n",
    "        if obstacle_height > drone_height:\n",
    "            start_height = drone_height + const\n",
    "            end_height = max_height if obstacle_height > max_height else obstacle_height+const\n",
    "\n",
    "            for i in frange(start_height, end_height+v_space, v_space):\n",
    "                for obs in obstacle:\n",
    "                    G.add_node(tuple([obs[0],obs[1],i]))\n",
    "\n",
    "            # top most points\n",
    "            for obs in obstacle:\n",
    "                    G.add_node(tuple([obs[0],obs[1],end_height]))\n",
    "\n",
    "            # setting horizontal points (try)\n",
    "            for i in range(len(obstacle)-1):\n",
    "                points = generate_intermediate_points(obstacle[i][0], obstacle[i][1], obstacle[i+1][0], obstacle[i+1][1],h_space)\n",
    "                \n",
    "                for point in points:\n",
    "                    G.add_node(tuple([point[0],point[1],end_height]))\n",
    "\n",
    "    # for loc in dest:\n",
    "    #     line = LineString([[source[0], source[1], drone_height],[loc[0],loc[1],drone_height]])\n",
    "    #     for obs_id, obs in obstacle_polygon.items():\n",
    "    #         intersection = has_2d_intersection(line,obs)\n",
    "    #         if intersection:\n",
    "    #             z_axis = max([z for x,y,z in obstacles[obs_id]]) + const\n",
    "\n",
    "    #             if z_axis <= max_height:\n",
    "    #                 collision_points = get_closest_intersection_point(line, obs, z_axis)\n",
    "                \n",
    "    #                 for i in range (len(collision_points)):\n",
    "    #                     G.add_node(tuple([collision_points[i][0], collision_points[i][1], z_axis]))\n",
    "\n",
    "    nodes = list(G.nodes())\n",
    "\n",
    "    # connecting edges\n",
    "    for i in range(0,len(nodes)-1):\n",
    "        for j in range(i+1,len(nodes)):\n",
    "            intersect = False\n",
    "            for obs_id, obstacle in obstacle_polygon.items():\n",
    "                if has_2d_intersection(LineString([nodes[i],nodes[j]]),obstacle):\n",
    "                    intersect = True\n",
    "                    break\n",
    "            if not intersect:\n",
    "                G.add_edge(nodes[i],nodes[j], weight = euclidean_distance(nodes[i],nodes[j]))\n",
    "\n",
    "    dijkstra_paths = nx.all_pairs_dijkstra(G)\n",
    "    paths = []\n",
    "    \n",
    "    # creating the path\n",
    "    for target_node, (distances, path) in dijkstra_paths:\n",
    "        if target_node == tuple([source[0], source[1], drone_height]):\n",
    "            for loc_node in dest:\n",
    "                cur_path = path[tuple([loc_node[0],loc_node[1], drone_height])]\n",
    "                route = cur_path.copy()\n",
    "                route.insert(0, tuple([source[0], source[1], 0]))\n",
    "                route.append(tuple([route[-1][0], route[-1][1], 0]))\n",
    "                route.append(tuple([route[-1][0], route[-1][1], drone_height]))\n",
    "\n",
    "                for i in range(len(cur_path)-2,0,-1):\n",
    "                    route.append(cur_path[i])\n",
    "                route.append(tuple([source[0], source[1], drone_height]))\n",
    "                route.append(source)\n",
    "                paths.extend(route)\n",
    "\n",
    "    # visualize_graph(G, paths)\n",
    "\n",
    "    return paths, \"pass\""
   ]
  },
  {
   "cell_type": "code",
   "execution_count": 21,
   "metadata": {},
   "outputs": [],
   "source": [
    "def route_refinement_2D(route, dp, drone_height):\n",
    "    final_route = []\n",
    "\n",
    "    final_route.append(dp)\n",
    "    for i in route:\n",
    "        final_route.append(tuple([i[0], i[1], drone_height]))\n",
    "    final_route.append(dp)\n",
    "\n",
    "    return final_route"
   ]
  },
  {
   "cell_type": "markdown",
   "metadata": {},
   "source": [
    "## Main"
   ]
  },
  {
   "cell_type": "code",
   "execution_count": 22,
   "metadata": {},
   "outputs": [],
   "source": [
    "# pre-assumptions\n",
    "# x = [22.21, 88.45]\n",
    "# y = [34.45, 98.67]\n",
    "# drone_height = 9.5\n",
    "# drone_max_height = 12\n",
    "# seed_value = 11\n",
    "\n",
    "# # creating obstacles\n",
    "# obstacles = {\n",
    "#     0 : [[27.81, 90.75,3],[28.74, 91.42, 3],[27.80, 93.15, 3], [26.81, 92.53,3], [27.81, 90.75,3]],\n",
    "#     1 : [[23.11, 91.25,3], [24.81, 92.40,3], [24.21, 93.45, 3], [22.51, 92.35, 3],[23.11, 91.25, 3]],\n",
    "#     2 : [[24.55, 88.60,10],[25.96, 89.55,10],[25.01, 91.35, 10],[23.61, 90.32, 10],[24.55, 88.60, 10]],\n",
    "#     3 : [[25.60, 88.45,10], [27.42, 88.45,10],[26.92, 89.35,10],[25.60, 88.45,10]],\n",
    "#     4 : [[27.61, 88.45,10], [28.81, 88.45,10],[29.12, 88.66,10],[28.02, 90.45,10],[26.90, 89.57,10],[27.61, 88.45,10]],\n",
    "#     5 : [[25.33, 92.62,10], [25.86, 92.95,10], [25.21, 94.15,10], [24.69, 93.78,10], [25.33, 92.63,10]],\n",
    "#     6 : [[26.11, 93.05,3], [26.62, 93.35,3], [25.81, 94.65,3], [25.39, 94.35,3], [26.11, 93.05,3]],\n",
    "#     7 : [[26.72, 93.65,10], [27.32, 94.05,10], [26.69, 95.18,10], [26.10, 94.83,10], [26.72, 93.65,10]],\n",
    "#     8 : [[25.81, 95.40,10],[26.29, 95.70,10],[26.01, 96.20,10],[26.25, 96.37,10],[25.93, 96.94,10],[25.80, 96.84,10], [25.69, 97.01,10],[25.11, 96.65,10],[25.81, 95.40,10]],\n",
    "#     9 : [[23.90, 94.15,3], [24.91, 94.81,3], [24.48, 95.57,3],[23.48, 94.95,3],[23.90, 94.15,3]],\n",
    "#     10 : [[23.71, 98.67,10], [23.91, 98.26,10], [24.41, 98.67,10],[23.71, 98.67,10]],\n",
    "#     11 : [[31.81, 90.35,10], [32.51, 90.85,10], [32.21, 91.55,10], [32.03, 91.85,10], [34.31, 93.45,10], [32.69, 96.27,10],[30.99, 95.15,10], [32.21, 92.93,10],[30.89, 91.97,10],[31.81, 90.35,10]],\n",
    "#     12 : [[30.21, 96.00,10],[31.85, 97.11,10], [31.02, 98.55,10], [30.50, 98.26,10], [30.31, 98.53,10], [30.51, 98.67,10],[27.81, 98.67,10], [27.21, 98.28,10], [27.73, 97.43,10],[28.95, 98.25,10],[30.21, 96.00,10]]\n",
    "# }"
   ]
  },
  {
   "cell_type": "code",
   "execution_count": 23,
   "metadata": {},
   "outputs": [],
   "source": [
    "# pre-assumptions\n",
    "x = [0,0]\n",
    "y = [100,100]\n",
    "drone_height = 10\n",
    "drone_max_height = 15\n",
    "seed_value = 11\n",
    "\n",
    "# creating obstacles\n",
    "obstacles = {\n",
    "    0 : [[10, 10, 12],[40,10, 12], [40, 25, 12], [25, 25, 12], [25, 40, 12], [10, 40, 12], [10, 10, 12]],\n",
    "    1 : [[60, 10, 14],[90,10, 14], [90, 40, 14], [75, 40, 14], [75, 25, 14], [60, 25, 14], [60, 10, 14]],\n",
    "    2 : [[10, 60, 8],[25, 60, 8], [25, 75, 8], [40, 75, 8], [40, 90, 8], [10, 90, 8], [10, 60, 8]],\n",
    "    3 : [[60, 90, 16],[90,90, 16], [90, 60, 16], [75, 60, 16], [75, 75, 16], [60, 75, 16], [60, 90, 16]],\n",
    "    # 4 : [[40,40, 20], [60, 40, 20], [60, 60, 20], [40, 60, 20], [40, 40, 20]]\n",
    "}"
   ]
  },
  {
   "cell_type": "code",
   "execution_count": 24,
   "metadata": {},
   "outputs": [
    {
     "name": "stdout",
     "output_type": "stream",
     "text": [
      "17\n",
      "20\n"
     ]
    }
   ],
   "source": [
    "# creating delivary locations\n",
    "\n",
    "n = 20\n",
    "\n",
    "# answers\n",
    "optimal_dp = []\n",
    "optimal_route = []\n",
    "\n",
    "delivary_loc = create_delivary(x,y,n,seed_value=seed_value)\n",
    "\n",
    "delivary_loc = remove_obstacle(delivary_loc, obstacles)\n",
    "\n",
    "print(len(delivary_loc))\n",
    "\n",
    "extra_loc = []\n",
    "\n",
    "while (len(extra_loc) != n - len(delivary_loc)):\n",
    "    extra_loc = create_delivary(x,y,n - len(delivary_loc))\n",
    "    extra_loc = remove_obstacle(extra_loc, obstacles)\n",
    "delivary_loc.extend(extra_loc)\n",
    "\n",
    "print(len(delivary_loc))"
   ]
  },
  {
   "cell_type": "code",
   "execution_count": 25,
   "metadata": {},
   "outputs": [
    {
     "data": {
      "application/vnd.plotly.v1+json": {
       "config": {
        "plotlyServerURL": "https://plot.ly"
       },
       "data": [
        {
         "color": "red",
         "i": [
          0,
          0
         ],
         "j": [
          1,
          2
         ],
         "k": [
          2,
          3
         ],
         "opacity": 0.5,
         "type": "mesh3d",
         "x": [
          10,
          40,
          40,
          10
         ],
         "y": [
          10,
          10,
          10,
          10
         ],
         "z": [
          0,
          0,
          12,
          12
         ]
        },
        {
         "color": "red",
         "i": [
          0,
          0
         ],
         "j": [
          1,
          2
         ],
         "k": [
          2,
          3
         ],
         "opacity": 0.5,
         "type": "mesh3d",
         "x": [
          40,
          40,
          40,
          40
         ],
         "y": [
          10,
          25,
          25,
          10
         ],
         "z": [
          0,
          0,
          12,
          12
         ]
        },
        {
         "color": "red",
         "i": [
          0,
          0
         ],
         "j": [
          1,
          2
         ],
         "k": [
          2,
          3
         ],
         "opacity": 0.5,
         "type": "mesh3d",
         "x": [
          40,
          25,
          25,
          40
         ],
         "y": [
          25,
          25,
          25,
          25
         ],
         "z": [
          0,
          0,
          12,
          12
         ]
        },
        {
         "color": "red",
         "i": [
          0,
          0
         ],
         "j": [
          1,
          2
         ],
         "k": [
          2,
          3
         ],
         "opacity": 0.5,
         "type": "mesh3d",
         "x": [
          25,
          25,
          25,
          25
         ],
         "y": [
          25,
          40,
          40,
          25
         ],
         "z": [
          0,
          0,
          12,
          12
         ]
        },
        {
         "color": "red",
         "i": [
          0,
          0
         ],
         "j": [
          1,
          2
         ],
         "k": [
          2,
          3
         ],
         "opacity": 0.5,
         "type": "mesh3d",
         "x": [
          25,
          10,
          10,
          25
         ],
         "y": [
          40,
          40,
          40,
          40
         ],
         "z": [
          0,
          0,
          12,
          12
         ]
        },
        {
         "color": "red",
         "i": [
          0,
          0
         ],
         "j": [
          1,
          2
         ],
         "k": [
          2,
          3
         ],
         "opacity": 0.5,
         "type": "mesh3d",
         "x": [
          10,
          10,
          10,
          10
         ],
         "y": [
          40,
          10,
          10,
          40
         ],
         "z": [
          0,
          0,
          12,
          12
         ]
        },
        {
         "color": "red",
         "i": [
          0,
          0
         ],
         "j": [
          1,
          2
         ],
         "k": [
          2,
          3
         ],
         "opacity": 0.5,
         "type": "mesh3d",
         "x": [
          10,
          10,
          10,
          10
         ],
         "y": [
          10,
          10,
          10,
          10
         ],
         "z": [
          0,
          0,
          12,
          12
         ]
        },
        {
         "line": {
          "color": "black",
          "width": 3
         },
         "mode": "lines",
         "type": "scatter3d",
         "x": [
          10,
          40,
          40,
          25,
          25,
          10,
          10,
          10
         ],
         "y": [
          10,
          10,
          25,
          25,
          40,
          40,
          10,
          10
         ],
         "z": [
          12,
          12,
          12,
          12,
          12,
          12,
          12,
          12
         ]
        },
        {
         "line": {
          "color": "black",
          "width": 3
         },
         "mode": "lines",
         "type": "scatter3d",
         "x": [
          10,
          40,
          40,
          25,
          25,
          10,
          10,
          10
         ],
         "y": [
          10,
          10,
          25,
          25,
          40,
          40,
          10,
          10
         ],
         "z": [
          0,
          0,
          0,
          0,
          0,
          0,
          0,
          0
         ]
        },
        {
         "line": {
          "color": "black",
          "width": 3
         },
         "mode": "lines",
         "type": "scatter3d",
         "x": [
          10,
          10,
          40,
          40,
          10
         ],
         "y": [
          10,
          10,
          10,
          10,
          10
         ],
         "z": [
          0,
          12,
          12,
          0,
          0
         ]
        },
        {
         "line": {
          "color": "black",
          "width": 3
         },
         "mode": "lines",
         "type": "scatter3d",
         "x": [
          40,
          40,
          40,
          40,
          40
         ],
         "y": [
          10,
          10,
          25,
          25,
          10
         ],
         "z": [
          0,
          12,
          12,
          0,
          0
         ]
        },
        {
         "line": {
          "color": "black",
          "width": 3
         },
         "mode": "lines",
         "type": "scatter3d",
         "x": [
          40,
          40,
          25,
          25,
          40
         ],
         "y": [
          25,
          25,
          25,
          25,
          25
         ],
         "z": [
          0,
          12,
          12,
          0,
          0
         ]
        },
        {
         "line": {
          "color": "black",
          "width": 3
         },
         "mode": "lines",
         "type": "scatter3d",
         "x": [
          25,
          25,
          25,
          25,
          25
         ],
         "y": [
          25,
          25,
          40,
          40,
          25
         ],
         "z": [
          0,
          12,
          12,
          0,
          0
         ]
        },
        {
         "line": {
          "color": "black",
          "width": 3
         },
         "mode": "lines",
         "type": "scatter3d",
         "x": [
          25,
          25,
          10,
          10,
          25
         ],
         "y": [
          40,
          40,
          40,
          40,
          40
         ],
         "z": [
          0,
          12,
          12,
          0,
          0
         ]
        },
        {
         "line": {
          "color": "black",
          "width": 3
         },
         "mode": "lines",
         "type": "scatter3d",
         "x": [
          10,
          10,
          10,
          10,
          10
         ],
         "y": [
          40,
          40,
          10,
          10,
          40
         ],
         "z": [
          0,
          12,
          12,
          0,
          0
         ]
        },
        {
         "line": {
          "color": "black",
          "width": 3
         },
         "mode": "lines",
         "type": "scatter3d",
         "x": [
          10,
          10,
          10,
          10,
          10
         ],
         "y": [
          10,
          10,
          10,
          10,
          10
         ],
         "z": [
          0,
          12,
          12,
          0,
          0
         ]
        },
        {
         "color": "red",
         "i": [
          0,
          0
         ],
         "j": [
          1,
          2
         ],
         "k": [
          2,
          3
         ],
         "opacity": 0.5,
         "type": "mesh3d",
         "x": [
          60,
          90,
          90,
          60
         ],
         "y": [
          10,
          10,
          10,
          10
         ],
         "z": [
          0,
          0,
          14,
          14
         ]
        },
        {
         "color": "red",
         "i": [
          0,
          0
         ],
         "j": [
          1,
          2
         ],
         "k": [
          2,
          3
         ],
         "opacity": 0.5,
         "type": "mesh3d",
         "x": [
          90,
          90,
          90,
          90
         ],
         "y": [
          10,
          40,
          40,
          10
         ],
         "z": [
          0,
          0,
          14,
          14
         ]
        },
        {
         "color": "red",
         "i": [
          0,
          0
         ],
         "j": [
          1,
          2
         ],
         "k": [
          2,
          3
         ],
         "opacity": 0.5,
         "type": "mesh3d",
         "x": [
          90,
          75,
          75,
          90
         ],
         "y": [
          40,
          40,
          40,
          40
         ],
         "z": [
          0,
          0,
          14,
          14
         ]
        },
        {
         "color": "red",
         "i": [
          0,
          0
         ],
         "j": [
          1,
          2
         ],
         "k": [
          2,
          3
         ],
         "opacity": 0.5,
         "type": "mesh3d",
         "x": [
          75,
          75,
          75,
          75
         ],
         "y": [
          40,
          25,
          25,
          40
         ],
         "z": [
          0,
          0,
          14,
          14
         ]
        },
        {
         "color": "red",
         "i": [
          0,
          0
         ],
         "j": [
          1,
          2
         ],
         "k": [
          2,
          3
         ],
         "opacity": 0.5,
         "type": "mesh3d",
         "x": [
          75,
          60,
          60,
          75
         ],
         "y": [
          25,
          25,
          25,
          25
         ],
         "z": [
          0,
          0,
          14,
          14
         ]
        },
        {
         "color": "red",
         "i": [
          0,
          0
         ],
         "j": [
          1,
          2
         ],
         "k": [
          2,
          3
         ],
         "opacity": 0.5,
         "type": "mesh3d",
         "x": [
          60,
          60,
          60,
          60
         ],
         "y": [
          25,
          10,
          10,
          25
         ],
         "z": [
          0,
          0,
          14,
          14
         ]
        },
        {
         "color": "red",
         "i": [
          0,
          0
         ],
         "j": [
          1,
          2
         ],
         "k": [
          2,
          3
         ],
         "opacity": 0.5,
         "type": "mesh3d",
         "x": [
          60,
          60,
          60,
          60
         ],
         "y": [
          10,
          10,
          10,
          10
         ],
         "z": [
          0,
          0,
          14,
          14
         ]
        },
        {
         "line": {
          "color": "black",
          "width": 3
         },
         "mode": "lines",
         "type": "scatter3d",
         "x": [
          60,
          90,
          90,
          75,
          75,
          60,
          60,
          60
         ],
         "y": [
          10,
          10,
          40,
          40,
          25,
          25,
          10,
          10
         ],
         "z": [
          14,
          14,
          14,
          14,
          14,
          14,
          14,
          14
         ]
        },
        {
         "line": {
          "color": "black",
          "width": 3
         },
         "mode": "lines",
         "type": "scatter3d",
         "x": [
          60,
          90,
          90,
          75,
          75,
          60,
          60,
          60
         ],
         "y": [
          10,
          10,
          40,
          40,
          25,
          25,
          10,
          10
         ],
         "z": [
          0,
          0,
          0,
          0,
          0,
          0,
          0,
          0
         ]
        },
        {
         "line": {
          "color": "black",
          "width": 3
         },
         "mode": "lines",
         "type": "scatter3d",
         "x": [
          60,
          60,
          90,
          90,
          60
         ],
         "y": [
          10,
          10,
          10,
          10,
          10
         ],
         "z": [
          0,
          14,
          14,
          0,
          0
         ]
        },
        {
         "line": {
          "color": "black",
          "width": 3
         },
         "mode": "lines",
         "type": "scatter3d",
         "x": [
          90,
          90,
          90,
          90,
          90
         ],
         "y": [
          10,
          10,
          40,
          40,
          10
         ],
         "z": [
          0,
          14,
          14,
          0,
          0
         ]
        },
        {
         "line": {
          "color": "black",
          "width": 3
         },
         "mode": "lines",
         "type": "scatter3d",
         "x": [
          90,
          90,
          75,
          75,
          90
         ],
         "y": [
          40,
          40,
          40,
          40,
          40
         ],
         "z": [
          0,
          14,
          14,
          0,
          0
         ]
        },
        {
         "line": {
          "color": "black",
          "width": 3
         },
         "mode": "lines",
         "type": "scatter3d",
         "x": [
          75,
          75,
          75,
          75,
          75
         ],
         "y": [
          40,
          40,
          25,
          25,
          40
         ],
         "z": [
          0,
          14,
          14,
          0,
          0
         ]
        },
        {
         "line": {
          "color": "black",
          "width": 3
         },
         "mode": "lines",
         "type": "scatter3d",
         "x": [
          75,
          75,
          60,
          60,
          75
         ],
         "y": [
          25,
          25,
          25,
          25,
          25
         ],
         "z": [
          0,
          14,
          14,
          0,
          0
         ]
        },
        {
         "line": {
          "color": "black",
          "width": 3
         },
         "mode": "lines",
         "type": "scatter3d",
         "x": [
          60,
          60,
          60,
          60,
          60
         ],
         "y": [
          25,
          25,
          10,
          10,
          25
         ],
         "z": [
          0,
          14,
          14,
          0,
          0
         ]
        },
        {
         "line": {
          "color": "black",
          "width": 3
         },
         "mode": "lines",
         "type": "scatter3d",
         "x": [
          60,
          60,
          60,
          60,
          60
         ],
         "y": [
          10,
          10,
          10,
          10,
          10
         ],
         "z": [
          0,
          14,
          14,
          0,
          0
         ]
        },
        {
         "color": "red",
         "i": [
          0,
          0
         ],
         "j": [
          1,
          2
         ],
         "k": [
          2,
          3
         ],
         "opacity": 0.5,
         "type": "mesh3d",
         "x": [
          10,
          25,
          25,
          10
         ],
         "y": [
          60,
          60,
          60,
          60
         ],
         "z": [
          0,
          0,
          8,
          8
         ]
        },
        {
         "color": "red",
         "i": [
          0,
          0
         ],
         "j": [
          1,
          2
         ],
         "k": [
          2,
          3
         ],
         "opacity": 0.5,
         "type": "mesh3d",
         "x": [
          25,
          25,
          25,
          25
         ],
         "y": [
          60,
          75,
          75,
          60
         ],
         "z": [
          0,
          0,
          8,
          8
         ]
        },
        {
         "color": "red",
         "i": [
          0,
          0
         ],
         "j": [
          1,
          2
         ],
         "k": [
          2,
          3
         ],
         "opacity": 0.5,
         "type": "mesh3d",
         "x": [
          25,
          40,
          40,
          25
         ],
         "y": [
          75,
          75,
          75,
          75
         ],
         "z": [
          0,
          0,
          8,
          8
         ]
        },
        {
         "color": "red",
         "i": [
          0,
          0
         ],
         "j": [
          1,
          2
         ],
         "k": [
          2,
          3
         ],
         "opacity": 0.5,
         "type": "mesh3d",
         "x": [
          40,
          40,
          40,
          40
         ],
         "y": [
          75,
          90,
          90,
          75
         ],
         "z": [
          0,
          0,
          8,
          8
         ]
        },
        {
         "color": "red",
         "i": [
          0,
          0
         ],
         "j": [
          1,
          2
         ],
         "k": [
          2,
          3
         ],
         "opacity": 0.5,
         "type": "mesh3d",
         "x": [
          40,
          10,
          10,
          40
         ],
         "y": [
          90,
          90,
          90,
          90
         ],
         "z": [
          0,
          0,
          8,
          8
         ]
        },
        {
         "color": "red",
         "i": [
          0,
          0
         ],
         "j": [
          1,
          2
         ],
         "k": [
          2,
          3
         ],
         "opacity": 0.5,
         "type": "mesh3d",
         "x": [
          10,
          10,
          10,
          10
         ],
         "y": [
          90,
          60,
          60,
          90
         ],
         "z": [
          0,
          0,
          8,
          8
         ]
        },
        {
         "color": "red",
         "i": [
          0,
          0
         ],
         "j": [
          1,
          2
         ],
         "k": [
          2,
          3
         ],
         "opacity": 0.5,
         "type": "mesh3d",
         "x": [
          10,
          10,
          10,
          10
         ],
         "y": [
          60,
          60,
          60,
          60
         ],
         "z": [
          0,
          0,
          8,
          8
         ]
        },
        {
         "line": {
          "color": "black",
          "width": 3
         },
         "mode": "lines",
         "type": "scatter3d",
         "x": [
          10,
          25,
          25,
          40,
          40,
          10,
          10,
          10
         ],
         "y": [
          60,
          60,
          75,
          75,
          90,
          90,
          60,
          60
         ],
         "z": [
          8,
          8,
          8,
          8,
          8,
          8,
          8,
          8
         ]
        },
        {
         "line": {
          "color": "black",
          "width": 3
         },
         "mode": "lines",
         "type": "scatter3d",
         "x": [
          10,
          25,
          25,
          40,
          40,
          10,
          10,
          10
         ],
         "y": [
          60,
          60,
          75,
          75,
          90,
          90,
          60,
          60
         ],
         "z": [
          0,
          0,
          0,
          0,
          0,
          0,
          0,
          0
         ]
        },
        {
         "line": {
          "color": "black",
          "width": 3
         },
         "mode": "lines",
         "type": "scatter3d",
         "x": [
          10,
          10,
          25,
          25,
          10
         ],
         "y": [
          60,
          60,
          60,
          60,
          60
         ],
         "z": [
          0,
          8,
          8,
          0,
          0
         ]
        },
        {
         "line": {
          "color": "black",
          "width": 3
         },
         "mode": "lines",
         "type": "scatter3d",
         "x": [
          25,
          25,
          25,
          25,
          25
         ],
         "y": [
          60,
          60,
          75,
          75,
          60
         ],
         "z": [
          0,
          8,
          8,
          0,
          0
         ]
        },
        {
         "line": {
          "color": "black",
          "width": 3
         },
         "mode": "lines",
         "type": "scatter3d",
         "x": [
          25,
          25,
          40,
          40,
          25
         ],
         "y": [
          75,
          75,
          75,
          75,
          75
         ],
         "z": [
          0,
          8,
          8,
          0,
          0
         ]
        },
        {
         "line": {
          "color": "black",
          "width": 3
         },
         "mode": "lines",
         "type": "scatter3d",
         "x": [
          40,
          40,
          40,
          40,
          40
         ],
         "y": [
          75,
          75,
          90,
          90,
          75
         ],
         "z": [
          0,
          8,
          8,
          0,
          0
         ]
        },
        {
         "line": {
          "color": "black",
          "width": 3
         },
         "mode": "lines",
         "type": "scatter3d",
         "x": [
          40,
          40,
          10,
          10,
          40
         ],
         "y": [
          90,
          90,
          90,
          90,
          90
         ],
         "z": [
          0,
          8,
          8,
          0,
          0
         ]
        },
        {
         "line": {
          "color": "black",
          "width": 3
         },
         "mode": "lines",
         "type": "scatter3d",
         "x": [
          10,
          10,
          10,
          10,
          10
         ],
         "y": [
          90,
          90,
          60,
          60,
          90
         ],
         "z": [
          0,
          8,
          8,
          0,
          0
         ]
        },
        {
         "line": {
          "color": "black",
          "width": 3
         },
         "mode": "lines",
         "type": "scatter3d",
         "x": [
          10,
          10,
          10,
          10,
          10
         ],
         "y": [
          60,
          60,
          60,
          60,
          60
         ],
         "z": [
          0,
          8,
          8,
          0,
          0
         ]
        },
        {
         "color": "red",
         "i": [
          0,
          0
         ],
         "j": [
          1,
          2
         ],
         "k": [
          2,
          3
         ],
         "opacity": 0.5,
         "type": "mesh3d",
         "x": [
          60,
          90,
          90,
          60
         ],
         "y": [
          90,
          90,
          90,
          90
         ],
         "z": [
          0,
          0,
          16,
          16
         ]
        },
        {
         "color": "red",
         "i": [
          0,
          0
         ],
         "j": [
          1,
          2
         ],
         "k": [
          2,
          3
         ],
         "opacity": 0.5,
         "type": "mesh3d",
         "x": [
          90,
          90,
          90,
          90
         ],
         "y": [
          90,
          60,
          60,
          90
         ],
         "z": [
          0,
          0,
          16,
          16
         ]
        },
        {
         "color": "red",
         "i": [
          0,
          0
         ],
         "j": [
          1,
          2
         ],
         "k": [
          2,
          3
         ],
         "opacity": 0.5,
         "type": "mesh3d",
         "x": [
          90,
          75,
          75,
          90
         ],
         "y": [
          60,
          60,
          60,
          60
         ],
         "z": [
          0,
          0,
          16,
          16
         ]
        },
        {
         "color": "red",
         "i": [
          0,
          0
         ],
         "j": [
          1,
          2
         ],
         "k": [
          2,
          3
         ],
         "opacity": 0.5,
         "type": "mesh3d",
         "x": [
          75,
          75,
          75,
          75
         ],
         "y": [
          60,
          75,
          75,
          60
         ],
         "z": [
          0,
          0,
          16,
          16
         ]
        },
        {
         "color": "red",
         "i": [
          0,
          0
         ],
         "j": [
          1,
          2
         ],
         "k": [
          2,
          3
         ],
         "opacity": 0.5,
         "type": "mesh3d",
         "x": [
          75,
          60,
          60,
          75
         ],
         "y": [
          75,
          75,
          75,
          75
         ],
         "z": [
          0,
          0,
          16,
          16
         ]
        },
        {
         "color": "red",
         "i": [
          0,
          0
         ],
         "j": [
          1,
          2
         ],
         "k": [
          2,
          3
         ],
         "opacity": 0.5,
         "type": "mesh3d",
         "x": [
          60,
          60,
          60,
          60
         ],
         "y": [
          75,
          90,
          90,
          75
         ],
         "z": [
          0,
          0,
          16,
          16
         ]
        },
        {
         "color": "red",
         "i": [
          0,
          0
         ],
         "j": [
          1,
          2
         ],
         "k": [
          2,
          3
         ],
         "opacity": 0.5,
         "type": "mesh3d",
         "x": [
          60,
          60,
          60,
          60
         ],
         "y": [
          90,
          90,
          90,
          90
         ],
         "z": [
          0,
          0,
          16,
          16
         ]
        },
        {
         "line": {
          "color": "black",
          "width": 3
         },
         "mode": "lines",
         "type": "scatter3d",
         "x": [
          60,
          90,
          90,
          75,
          75,
          60,
          60,
          60
         ],
         "y": [
          90,
          90,
          60,
          60,
          75,
          75,
          90,
          90
         ],
         "z": [
          16,
          16,
          16,
          16,
          16,
          16,
          16,
          16
         ]
        },
        {
         "line": {
          "color": "black",
          "width": 3
         },
         "mode": "lines",
         "type": "scatter3d",
         "x": [
          60,
          90,
          90,
          75,
          75,
          60,
          60,
          60
         ],
         "y": [
          90,
          90,
          60,
          60,
          75,
          75,
          90,
          90
         ],
         "z": [
          0,
          0,
          0,
          0,
          0,
          0,
          0,
          0
         ]
        },
        {
         "line": {
          "color": "black",
          "width": 3
         },
         "mode": "lines",
         "type": "scatter3d",
         "x": [
          60,
          60,
          90,
          90,
          60
         ],
         "y": [
          90,
          90,
          90,
          90,
          90
         ],
         "z": [
          0,
          16,
          16,
          0,
          0
         ]
        },
        {
         "line": {
          "color": "black",
          "width": 3
         },
         "mode": "lines",
         "type": "scatter3d",
         "x": [
          90,
          90,
          90,
          90,
          90
         ],
         "y": [
          90,
          90,
          60,
          60,
          90
         ],
         "z": [
          0,
          16,
          16,
          0,
          0
         ]
        },
        {
         "line": {
          "color": "black",
          "width": 3
         },
         "mode": "lines",
         "type": "scatter3d",
         "x": [
          90,
          90,
          75,
          75,
          90
         ],
         "y": [
          60,
          60,
          60,
          60,
          60
         ],
         "z": [
          0,
          16,
          16,
          0,
          0
         ]
        },
        {
         "line": {
          "color": "black",
          "width": 3
         },
         "mode": "lines",
         "type": "scatter3d",
         "x": [
          75,
          75,
          75,
          75,
          75
         ],
         "y": [
          60,
          60,
          75,
          75,
          60
         ],
         "z": [
          0,
          16,
          16,
          0,
          0
         ]
        },
        {
         "line": {
          "color": "black",
          "width": 3
         },
         "mode": "lines",
         "type": "scatter3d",
         "x": [
          75,
          75,
          60,
          60,
          75
         ],
         "y": [
          75,
          75,
          75,
          75,
          75
         ],
         "z": [
          0,
          16,
          16,
          0,
          0
         ]
        },
        {
         "line": {
          "color": "black",
          "width": 3
         },
         "mode": "lines",
         "type": "scatter3d",
         "x": [
          60,
          60,
          60,
          60,
          60
         ],
         "y": [
          75,
          75,
          90,
          90,
          75
         ],
         "z": [
          0,
          16,
          16,
          0,
          0
         ]
        },
        {
         "line": {
          "color": "black",
          "width": 3
         },
         "mode": "lines",
         "type": "scatter3d",
         "x": [
          60,
          60,
          60,
          60,
          60
         ],
         "y": [
          90,
          90,
          90,
          90,
          90
         ],
         "z": [
          0,
          16,
          16,
          0,
          0
         ]
        },
        {
         "marker": {
          "color": "blue",
          "size": 5
         },
         "mode": "markers",
         "type": "scatter3d",
         "x": [
          45.23795535098186,
          92.42105840237294,
          50.78412730622711,
          18.46603438548766,
          9.412345622921848,
          9.06705374918394,
          69.34384825412391,
          98.21934207987782,
          65.39225335338405,
          15.749409514016243,
          52.83812661704788,
          3.008258922478857,
          44.05311166566568,
          51.91241147640767,
          49.977315220679166,
          45.73298815995577,
          99.76562004630843,
          91.02719281041814,
          98.03589411742921,
          7.303834383369789
         ],
         "y": [
          55.977238608049596,
          46.565007009977336,
          58.73848288498969,
          51.19086390418055,
          30.34012626245255,
          80.96445343671775,
          4.188033636984601,
          96.47577811255668,
          61.556270457857075,
          1.500073694960491,
          5.955110516885497,
          46.393446122328456,
          84.2427128518532,
          64.02917079191771,
          66.24495318903682,
          27.816289966388585,
          99.56916416561992,
          46.99872760136664,
          39.74243880792812,
          62.94549122340241
         ],
         "z": [
          0,
          0,
          0,
          0,
          0,
          0,
          0,
          0,
          0,
          0,
          0,
          0,
          0,
          0,
          0,
          0,
          0,
          0,
          0,
          0
         ]
        }
       ],
       "layout": {
        "height": 800,
        "scene": {
         "aspectmode": "cube",
         "xaxis": {
          "title": {
           "text": "X"
          }
         },
         "yaxis": {
          "title": {
           "text": "Y"
          }
         },
         "zaxis": {
          "title": {
           "text": "Height"
          }
         }
        },
        "template": {
         "data": {
          "bar": [
           {
            "error_x": {
             "color": "#2a3f5f"
            },
            "error_y": {
             "color": "#2a3f5f"
            },
            "marker": {
             "line": {
              "color": "#E5ECF6",
              "width": 0.5
             },
             "pattern": {
              "fillmode": "overlay",
              "size": 10,
              "solidity": 0.2
             }
            },
            "type": "bar"
           }
          ],
          "barpolar": [
           {
            "marker": {
             "line": {
              "color": "#E5ECF6",
              "width": 0.5
             },
             "pattern": {
              "fillmode": "overlay",
              "size": 10,
              "solidity": 0.2
             }
            },
            "type": "barpolar"
           }
          ],
          "carpet": [
           {
            "aaxis": {
             "endlinecolor": "#2a3f5f",
             "gridcolor": "white",
             "linecolor": "white",
             "minorgridcolor": "white",
             "startlinecolor": "#2a3f5f"
            },
            "baxis": {
             "endlinecolor": "#2a3f5f",
             "gridcolor": "white",
             "linecolor": "white",
             "minorgridcolor": "white",
             "startlinecolor": "#2a3f5f"
            },
            "type": "carpet"
           }
          ],
          "choropleth": [
           {
            "colorbar": {
             "outlinewidth": 0,
             "ticks": ""
            },
            "type": "choropleth"
           }
          ],
          "contour": [
           {
            "colorbar": {
             "outlinewidth": 0,
             "ticks": ""
            },
            "colorscale": [
             [
              0,
              "#0d0887"
             ],
             [
              0.1111111111111111,
              "#46039f"
             ],
             [
              0.2222222222222222,
              "#7201a8"
             ],
             [
              0.3333333333333333,
              "#9c179e"
             ],
             [
              0.4444444444444444,
              "#bd3786"
             ],
             [
              0.5555555555555556,
              "#d8576b"
             ],
             [
              0.6666666666666666,
              "#ed7953"
             ],
             [
              0.7777777777777778,
              "#fb9f3a"
             ],
             [
              0.8888888888888888,
              "#fdca26"
             ],
             [
              1,
              "#f0f921"
             ]
            ],
            "type": "contour"
           }
          ],
          "contourcarpet": [
           {
            "colorbar": {
             "outlinewidth": 0,
             "ticks": ""
            },
            "type": "contourcarpet"
           }
          ],
          "heatmap": [
           {
            "colorbar": {
             "outlinewidth": 0,
             "ticks": ""
            },
            "colorscale": [
             [
              0,
              "#0d0887"
             ],
             [
              0.1111111111111111,
              "#46039f"
             ],
             [
              0.2222222222222222,
              "#7201a8"
             ],
             [
              0.3333333333333333,
              "#9c179e"
             ],
             [
              0.4444444444444444,
              "#bd3786"
             ],
             [
              0.5555555555555556,
              "#d8576b"
             ],
             [
              0.6666666666666666,
              "#ed7953"
             ],
             [
              0.7777777777777778,
              "#fb9f3a"
             ],
             [
              0.8888888888888888,
              "#fdca26"
             ],
             [
              1,
              "#f0f921"
             ]
            ],
            "type": "heatmap"
           }
          ],
          "heatmapgl": [
           {
            "colorbar": {
             "outlinewidth": 0,
             "ticks": ""
            },
            "colorscale": [
             [
              0,
              "#0d0887"
             ],
             [
              0.1111111111111111,
              "#46039f"
             ],
             [
              0.2222222222222222,
              "#7201a8"
             ],
             [
              0.3333333333333333,
              "#9c179e"
             ],
             [
              0.4444444444444444,
              "#bd3786"
             ],
             [
              0.5555555555555556,
              "#d8576b"
             ],
             [
              0.6666666666666666,
              "#ed7953"
             ],
             [
              0.7777777777777778,
              "#fb9f3a"
             ],
             [
              0.8888888888888888,
              "#fdca26"
             ],
             [
              1,
              "#f0f921"
             ]
            ],
            "type": "heatmapgl"
           }
          ],
          "histogram": [
           {
            "marker": {
             "pattern": {
              "fillmode": "overlay",
              "size": 10,
              "solidity": 0.2
             }
            },
            "type": "histogram"
           }
          ],
          "histogram2d": [
           {
            "colorbar": {
             "outlinewidth": 0,
             "ticks": ""
            },
            "colorscale": [
             [
              0,
              "#0d0887"
             ],
             [
              0.1111111111111111,
              "#46039f"
             ],
             [
              0.2222222222222222,
              "#7201a8"
             ],
             [
              0.3333333333333333,
              "#9c179e"
             ],
             [
              0.4444444444444444,
              "#bd3786"
             ],
             [
              0.5555555555555556,
              "#d8576b"
             ],
             [
              0.6666666666666666,
              "#ed7953"
             ],
             [
              0.7777777777777778,
              "#fb9f3a"
             ],
             [
              0.8888888888888888,
              "#fdca26"
             ],
             [
              1,
              "#f0f921"
             ]
            ],
            "type": "histogram2d"
           }
          ],
          "histogram2dcontour": [
           {
            "colorbar": {
             "outlinewidth": 0,
             "ticks": ""
            },
            "colorscale": [
             [
              0,
              "#0d0887"
             ],
             [
              0.1111111111111111,
              "#46039f"
             ],
             [
              0.2222222222222222,
              "#7201a8"
             ],
             [
              0.3333333333333333,
              "#9c179e"
             ],
             [
              0.4444444444444444,
              "#bd3786"
             ],
             [
              0.5555555555555556,
              "#d8576b"
             ],
             [
              0.6666666666666666,
              "#ed7953"
             ],
             [
              0.7777777777777778,
              "#fb9f3a"
             ],
             [
              0.8888888888888888,
              "#fdca26"
             ],
             [
              1,
              "#f0f921"
             ]
            ],
            "type": "histogram2dcontour"
           }
          ],
          "mesh3d": [
           {
            "colorbar": {
             "outlinewidth": 0,
             "ticks": ""
            },
            "type": "mesh3d"
           }
          ],
          "parcoords": [
           {
            "line": {
             "colorbar": {
              "outlinewidth": 0,
              "ticks": ""
             }
            },
            "type": "parcoords"
           }
          ],
          "pie": [
           {
            "automargin": true,
            "type": "pie"
           }
          ],
          "scatter": [
           {
            "fillpattern": {
             "fillmode": "overlay",
             "size": 10,
             "solidity": 0.2
            },
            "type": "scatter"
           }
          ],
          "scatter3d": [
           {
            "line": {
             "colorbar": {
              "outlinewidth": 0,
              "ticks": ""
             }
            },
            "marker": {
             "colorbar": {
              "outlinewidth": 0,
              "ticks": ""
             }
            },
            "type": "scatter3d"
           }
          ],
          "scattercarpet": [
           {
            "marker": {
             "colorbar": {
              "outlinewidth": 0,
              "ticks": ""
             }
            },
            "type": "scattercarpet"
           }
          ],
          "scattergeo": [
           {
            "marker": {
             "colorbar": {
              "outlinewidth": 0,
              "ticks": ""
             }
            },
            "type": "scattergeo"
           }
          ],
          "scattergl": [
           {
            "marker": {
             "colorbar": {
              "outlinewidth": 0,
              "ticks": ""
             }
            },
            "type": "scattergl"
           }
          ],
          "scattermapbox": [
           {
            "marker": {
             "colorbar": {
              "outlinewidth": 0,
              "ticks": ""
             }
            },
            "type": "scattermapbox"
           }
          ],
          "scatterpolar": [
           {
            "marker": {
             "colorbar": {
              "outlinewidth": 0,
              "ticks": ""
             }
            },
            "type": "scatterpolar"
           }
          ],
          "scatterpolargl": [
           {
            "marker": {
             "colorbar": {
              "outlinewidth": 0,
              "ticks": ""
             }
            },
            "type": "scatterpolargl"
           }
          ],
          "scatterternary": [
           {
            "marker": {
             "colorbar": {
              "outlinewidth": 0,
              "ticks": ""
             }
            },
            "type": "scatterternary"
           }
          ],
          "surface": [
           {
            "colorbar": {
             "outlinewidth": 0,
             "ticks": ""
            },
            "colorscale": [
             [
              0,
              "#0d0887"
             ],
             [
              0.1111111111111111,
              "#46039f"
             ],
             [
              0.2222222222222222,
              "#7201a8"
             ],
             [
              0.3333333333333333,
              "#9c179e"
             ],
             [
              0.4444444444444444,
              "#bd3786"
             ],
             [
              0.5555555555555556,
              "#d8576b"
             ],
             [
              0.6666666666666666,
              "#ed7953"
             ],
             [
              0.7777777777777778,
              "#fb9f3a"
             ],
             [
              0.8888888888888888,
              "#fdca26"
             ],
             [
              1,
              "#f0f921"
             ]
            ],
            "type": "surface"
           }
          ],
          "table": [
           {
            "cells": {
             "fill": {
              "color": "#EBF0F8"
             },
             "line": {
              "color": "white"
             }
            },
            "header": {
             "fill": {
              "color": "#C8D4E3"
             },
             "line": {
              "color": "white"
             }
            },
            "type": "table"
           }
          ]
         },
         "layout": {
          "annotationdefaults": {
           "arrowcolor": "#2a3f5f",
           "arrowhead": 0,
           "arrowwidth": 1
          },
          "autotypenumbers": "strict",
          "coloraxis": {
           "colorbar": {
            "outlinewidth": 0,
            "ticks": ""
           }
          },
          "colorscale": {
           "diverging": [
            [
             0,
             "#8e0152"
            ],
            [
             0.1,
             "#c51b7d"
            ],
            [
             0.2,
             "#de77ae"
            ],
            [
             0.3,
             "#f1b6da"
            ],
            [
             0.4,
             "#fde0ef"
            ],
            [
             0.5,
             "#f7f7f7"
            ],
            [
             0.6,
             "#e6f5d0"
            ],
            [
             0.7,
             "#b8e186"
            ],
            [
             0.8,
             "#7fbc41"
            ],
            [
             0.9,
             "#4d9221"
            ],
            [
             1,
             "#276419"
            ]
           ],
           "sequential": [
            [
             0,
             "#0d0887"
            ],
            [
             0.1111111111111111,
             "#46039f"
            ],
            [
             0.2222222222222222,
             "#7201a8"
            ],
            [
             0.3333333333333333,
             "#9c179e"
            ],
            [
             0.4444444444444444,
             "#bd3786"
            ],
            [
             0.5555555555555556,
             "#d8576b"
            ],
            [
             0.6666666666666666,
             "#ed7953"
            ],
            [
             0.7777777777777778,
             "#fb9f3a"
            ],
            [
             0.8888888888888888,
             "#fdca26"
            ],
            [
             1,
             "#f0f921"
            ]
           ],
           "sequentialminus": [
            [
             0,
             "#0d0887"
            ],
            [
             0.1111111111111111,
             "#46039f"
            ],
            [
             0.2222222222222222,
             "#7201a8"
            ],
            [
             0.3333333333333333,
             "#9c179e"
            ],
            [
             0.4444444444444444,
             "#bd3786"
            ],
            [
             0.5555555555555556,
             "#d8576b"
            ],
            [
             0.6666666666666666,
             "#ed7953"
            ],
            [
             0.7777777777777778,
             "#fb9f3a"
            ],
            [
             0.8888888888888888,
             "#fdca26"
            ],
            [
             1,
             "#f0f921"
            ]
           ]
          },
          "colorway": [
           "#636efa",
           "#EF553B",
           "#00cc96",
           "#ab63fa",
           "#FFA15A",
           "#19d3f3",
           "#FF6692",
           "#B6E880",
           "#FF97FF",
           "#FECB52"
          ],
          "font": {
           "color": "#2a3f5f"
          },
          "geo": {
           "bgcolor": "white",
           "lakecolor": "white",
           "landcolor": "#E5ECF6",
           "showlakes": true,
           "showland": true,
           "subunitcolor": "white"
          },
          "hoverlabel": {
           "align": "left"
          },
          "hovermode": "closest",
          "mapbox": {
           "style": "light"
          },
          "paper_bgcolor": "white",
          "plot_bgcolor": "#E5ECF6",
          "polar": {
           "angularaxis": {
            "gridcolor": "white",
            "linecolor": "white",
            "ticks": ""
           },
           "bgcolor": "#E5ECF6",
           "radialaxis": {
            "gridcolor": "white",
            "linecolor": "white",
            "ticks": ""
           }
          },
          "scene": {
           "xaxis": {
            "backgroundcolor": "#E5ECF6",
            "gridcolor": "white",
            "gridwidth": 2,
            "linecolor": "white",
            "showbackground": true,
            "ticks": "",
            "zerolinecolor": "white"
           },
           "yaxis": {
            "backgroundcolor": "#E5ECF6",
            "gridcolor": "white",
            "gridwidth": 2,
            "linecolor": "white",
            "showbackground": true,
            "ticks": "",
            "zerolinecolor": "white"
           },
           "zaxis": {
            "backgroundcolor": "#E5ECF6",
            "gridcolor": "white",
            "gridwidth": 2,
            "linecolor": "white",
            "showbackground": true,
            "ticks": "",
            "zerolinecolor": "white"
           }
          },
          "shapedefaults": {
           "line": {
            "color": "#2a3f5f"
           }
          },
          "ternary": {
           "aaxis": {
            "gridcolor": "white",
            "linecolor": "white",
            "ticks": ""
           },
           "baxis": {
            "gridcolor": "white",
            "linecolor": "white",
            "ticks": ""
           },
           "bgcolor": "#E5ECF6",
           "caxis": {
            "gridcolor": "white",
            "linecolor": "white",
            "ticks": ""
           }
          },
          "title": {
           "x": 0.05
          },
          "xaxis": {
           "automargin": true,
           "gridcolor": "white",
           "linecolor": "white",
           "ticks": "",
           "title": {
            "standoff": 15
           },
           "zerolinecolor": "white",
           "zerolinewidth": 2
          },
          "yaxis": {
           "automargin": true,
           "gridcolor": "white",
           "linecolor": "white",
           "ticks": "",
           "title": {
            "standoff": 15
           },
           "zerolinecolor": "white",
           "zerolinewidth": 2
          }
         }
        },
        "width": 800
       }
      }
     },
     "metadata": {},
     "output_type": "display_data"
    }
   ],
   "source": [
    "initial_plot(delivary_locations=delivary_loc, obstacles=obstacles)"
   ]
  },
  {
   "cell_type": "code",
   "execution_count": 26,
   "metadata": {},
   "outputs": [
    {
     "data": {
      "text/plain": [
       "[(50.8874090719169, 51.57169166227269, 0)]"
      ]
     },
     "execution_count": 26,
     "metadata": {},
     "output_type": "execute_result"
    }
   ],
   "source": [
    "# creating initial dp\n",
    "\n",
    "initial_dp = calculate_dp(delivary_loc, obstacles)\n",
    "\n",
    "initial_dp"
   ]
  },
  {
   "cell_type": "code",
   "execution_count": 27,
   "metadata": {},
   "outputs": [],
   "source": [
    "# delivary_loc = [[34.21685, 92.38249, 0]]\n",
    "# initial_dp = [27.55470577587296, 93.92084405438013, 0]"
   ]
  },
  {
   "cell_type": "code",
   "execution_count": 28,
   "metadata": {},
   "outputs": [],
   "source": [
    "# plot dp\n",
    "\n",
    "# initial_plot(delivary_locations=delivary_loc, obstacles=obstacles, dp=initial_dp)"
   ]
  },
  {
   "cell_type": "markdown",
   "metadata": {},
   "source": [
    "#### Obstacle free route"
   ]
  },
  {
   "cell_type": "code",
   "execution_count": 29,
   "metadata": {},
   "outputs": [
    {
     "data": {
      "text/plain": [
       "[(50.8874090719169, 51.57169166227269, 0),\n",
       " (50.8874090719169, 51.57169166227269, 10),\n",
       " (45.23795535098186, 55.977238608049596, 10),\n",
       " (45.23795535098186, 55.977238608049596, 0),\n",
       " (45.23795535098186, 55.977238608049596, 10),\n",
       " (50.8874090719169, 51.57169166227269, 10),\n",
       " (50.8874090719169, 51.57169166227269, 0),\n",
       " (50.8874090719169, 51.57169166227269, 10),\n",
       " (92.42105840237294, 46.565007009977336, 10),\n",
       " (92.42105840237294, 46.565007009977336, 0),\n",
       " (92.42105840237294, 46.565007009977336, 10),\n",
       " (50.8874090719169, 51.57169166227269, 10),\n",
       " (50.8874090719169, 51.57169166227269, 0),\n",
       " (50.8874090719169, 51.57169166227269, 10),\n",
       " (50.78412730622711, 58.73848288498969, 10),\n",
       " (50.78412730622711, 58.73848288498969, 0),\n",
       " (50.78412730622711, 58.73848288498969, 10),\n",
       " (50.8874090719169, 51.57169166227269, 10),\n",
       " (50.8874090719169, 51.57169166227269, 0),\n",
       " (50.8874090719169, 51.57169166227269, 10),\n",
       " (18.46603438548766, 51.19086390418055, 10),\n",
       " (18.46603438548766, 51.19086390418055, 0),\n",
       " (18.46603438548766, 51.19086390418055, 10),\n",
       " (50.8874090719169, 51.57169166227269, 10),\n",
       " (50.8874090719169, 51.57169166227269, 0),\n",
       " (50.8874090719169, 51.57169166227269, 10),\n",
       " (9.412345622921848, 30.34012626245255, 10),\n",
       " (9.412345622921848, 30.34012626245255, 0),\n",
       " (9.412345622921848, 30.34012626245255, 10),\n",
       " (50.8874090719169, 51.57169166227269, 10),\n",
       " (50.8874090719169, 51.57169166227269, 0),\n",
       " (50.8874090719169, 51.57169166227269, 10),\n",
       " (9.06705374918394, 80.96445343671775, 10),\n",
       " (9.06705374918394, 80.96445343671775, 0),\n",
       " (9.06705374918394, 80.96445343671775, 10),\n",
       " (50.8874090719169, 51.57169166227269, 10),\n",
       " (50.8874090719169, 51.57169166227269, 0),\n",
       " (50.8874090719169, 51.57169166227269, 10),\n",
       " (69.34384825412391, 4.188033636984601, 10),\n",
       " (69.34384825412391, 4.188033636984601, 0),\n",
       " (69.34384825412391, 4.188033636984601, 10),\n",
       " (50.8874090719169, 51.57169166227269, 10),\n",
       " (50.8874090719169, 51.57169166227269, 0),\n",
       " (50.8874090719169, 51.57169166227269, 10),\n",
       " (98.21934207987782, 96.47577811255668, 10),\n",
       " (98.21934207987782, 96.47577811255668, 0),\n",
       " (98.21934207987782, 96.47577811255668, 10),\n",
       " (50.8874090719169, 51.57169166227269, 10),\n",
       " (50.8874090719169, 51.57169166227269, 0),\n",
       " (50.8874090719169, 51.57169166227269, 10),\n",
       " (65.39225335338405, 61.556270457857075, 10),\n",
       " (65.39225335338405, 61.556270457857075, 0),\n",
       " (65.39225335338405, 61.556270457857075, 10),\n",
       " (50.8874090719169, 51.57169166227269, 10),\n",
       " (50.8874090719169, 51.57169166227269, 0),\n",
       " (50.8874090719169, 51.57169166227269, 10),\n",
       " (15.749409514016243, 1.500073694960491, 10),\n",
       " (15.749409514016243, 1.500073694960491, 0),\n",
       " (15.749409514016243, 1.500073694960491, 10),\n",
       " (50.8874090719169, 51.57169166227269, 10),\n",
       " (50.8874090719169, 51.57169166227269, 0),\n",
       " (50.8874090719169, 51.57169166227269, 10),\n",
       " (52.83812661704788, 5.955110516885497, 10),\n",
       " (52.83812661704788, 5.955110516885497, 0),\n",
       " (52.83812661704788, 5.955110516885497, 10),\n",
       " (50.8874090719169, 51.57169166227269, 10),\n",
       " (50.8874090719169, 51.57169166227269, 0),\n",
       " (50.8874090719169, 51.57169166227269, 10),\n",
       " (3.008258922478857, 46.393446122328456, 10),\n",
       " (3.008258922478857, 46.393446122328456, 0),\n",
       " (3.008258922478857, 46.393446122328456, 10),\n",
       " (50.8874090719169, 51.57169166227269, 10),\n",
       " (50.8874090719169, 51.57169166227269, 0),\n",
       " (50.8874090719169, 51.57169166227269, 10),\n",
       " (44.05311166566568, 84.2427128518532, 10),\n",
       " (44.05311166566568, 84.2427128518532, 0),\n",
       " (44.05311166566568, 84.2427128518532, 10),\n",
       " (50.8874090719169, 51.57169166227269, 10),\n",
       " (50.8874090719169, 51.57169166227269, 0),\n",
       " (50.8874090719169, 51.57169166227269, 10),\n",
       " (51.91241147640767, 64.02917079191771, 10),\n",
       " (51.91241147640767, 64.02917079191771, 0),\n",
       " (51.91241147640767, 64.02917079191771, 10),\n",
       " (50.8874090719169, 51.57169166227269, 10),\n",
       " (50.8874090719169, 51.57169166227269, 0),\n",
       " (50.8874090719169, 51.57169166227269, 10),\n",
       " (49.977315220679166, 66.24495318903682, 10),\n",
       " (49.977315220679166, 66.24495318903682, 0),\n",
       " (49.977315220679166, 66.24495318903682, 10),\n",
       " (50.8874090719169, 51.57169166227269, 10),\n",
       " (50.8874090719169, 51.57169166227269, 0),\n",
       " (50.8874090719169, 51.57169166227269, 10),\n",
       " (45.73298815995577, 27.816289966388585, 10),\n",
       " (45.73298815995577, 27.816289966388585, 0),\n",
       " (45.73298815995577, 27.816289966388585, 10),\n",
       " (50.8874090719169, 51.57169166227269, 10),\n",
       " (50.8874090719169, 51.57169166227269, 0),\n",
       " (50.8874090719169, 51.57169166227269, 10),\n",
       " (99.76562004630843, 99.56916416561992, 10),\n",
       " (99.76562004630843, 99.56916416561992, 0),\n",
       " (99.76562004630843, 99.56916416561992, 10),\n",
       " (50.8874090719169, 51.57169166227269, 10),\n",
       " (50.8874090719169, 51.57169166227269, 0),\n",
       " (50.8874090719169, 51.57169166227269, 10),\n",
       " (91.02719281041814, 46.99872760136664, 10),\n",
       " (91.02719281041814, 46.99872760136664, 0),\n",
       " (91.02719281041814, 46.99872760136664, 10),\n",
       " (50.8874090719169, 51.57169166227269, 10),\n",
       " (50.8874090719169, 51.57169166227269, 0),\n",
       " (50.8874090719169, 51.57169166227269, 10),\n",
       " (98.03589411742921, 39.74243880792812, 10),\n",
       " (98.03589411742921, 39.74243880792812, 0),\n",
       " (98.03589411742921, 39.74243880792812, 10),\n",
       " (50.8874090719169, 51.57169166227269, 10),\n",
       " (50.8874090719169, 51.57169166227269, 0),\n",
       " (50.8874090719169, 51.57169166227269, 10),\n",
       " (7.303834383369789, 62.94549122340241, 10),\n",
       " (7.303834383369789, 62.94549122340241, 0),\n",
       " (7.303834383369789, 62.94549122340241, 10),\n",
       " (50.8874090719169, 51.57169166227269, 10),\n",
       " (50.8874090719169, 51.57169166227269, 0)]"
      ]
     },
     "execution_count": 29,
     "metadata": {},
     "output_type": "execute_result"
    }
   ],
   "source": [
    "# creating obstacle free route\n",
    "route_1_path = None\n",
    "route_1_dp = None\n",
    "min_distance = float('inf')\n",
    "\n",
    "for dp in initial_dp:\n",
    "    route = create_obstacle_free_route(delivary_loc, dp, drone_height)\n",
    "    distance = calculate_route_distance(route)\n",
    "\n",
    "    if min_distance > distance:\n",
    "        min_distance = distance\n",
    "        route_1_path = route\n",
    "        route_1_dp = dp\n",
    "\n",
    "route_1_path"
   ]
  },
  {
   "cell_type": "code",
   "execution_count": 30,
   "metadata": {},
   "outputs": [
    {
     "data": {
      "application/vnd.plotly.v1+json": {
       "config": {
        "plotlyServerURL": "https://plot.ly"
       },
       "data": [
        {
         "color": "red",
         "i": [
          0,
          0
         ],
         "j": [
          1,
          2
         ],
         "k": [
          2,
          3
         ],
         "opacity": 0.5,
         "type": "mesh3d",
         "x": [
          10,
          40,
          40,
          10
         ],
         "y": [
          10,
          10,
          10,
          10
         ],
         "z": [
          0,
          0,
          12,
          12
         ]
        },
        {
         "color": "red",
         "i": [
          0,
          0
         ],
         "j": [
          1,
          2
         ],
         "k": [
          2,
          3
         ],
         "opacity": 0.5,
         "type": "mesh3d",
         "x": [
          40,
          40,
          40,
          40
         ],
         "y": [
          10,
          25,
          25,
          10
         ],
         "z": [
          0,
          0,
          12,
          12
         ]
        },
        {
         "color": "red",
         "i": [
          0,
          0
         ],
         "j": [
          1,
          2
         ],
         "k": [
          2,
          3
         ],
         "opacity": 0.5,
         "type": "mesh3d",
         "x": [
          40,
          25,
          25,
          40
         ],
         "y": [
          25,
          25,
          25,
          25
         ],
         "z": [
          0,
          0,
          12,
          12
         ]
        },
        {
         "color": "red",
         "i": [
          0,
          0
         ],
         "j": [
          1,
          2
         ],
         "k": [
          2,
          3
         ],
         "opacity": 0.5,
         "type": "mesh3d",
         "x": [
          25,
          25,
          25,
          25
         ],
         "y": [
          25,
          40,
          40,
          25
         ],
         "z": [
          0,
          0,
          12,
          12
         ]
        },
        {
         "color": "red",
         "i": [
          0,
          0
         ],
         "j": [
          1,
          2
         ],
         "k": [
          2,
          3
         ],
         "opacity": 0.5,
         "type": "mesh3d",
         "x": [
          25,
          10,
          10,
          25
         ],
         "y": [
          40,
          40,
          40,
          40
         ],
         "z": [
          0,
          0,
          12,
          12
         ]
        },
        {
         "color": "red",
         "i": [
          0,
          0
         ],
         "j": [
          1,
          2
         ],
         "k": [
          2,
          3
         ],
         "opacity": 0.5,
         "type": "mesh3d",
         "x": [
          10,
          10,
          10,
          10
         ],
         "y": [
          40,
          10,
          10,
          40
         ],
         "z": [
          0,
          0,
          12,
          12
         ]
        },
        {
         "color": "red",
         "i": [
          0,
          0
         ],
         "j": [
          1,
          2
         ],
         "k": [
          2,
          3
         ],
         "opacity": 0.5,
         "type": "mesh3d",
         "x": [
          10,
          10,
          10,
          10
         ],
         "y": [
          10,
          10,
          10,
          10
         ],
         "z": [
          0,
          0,
          12,
          12
         ]
        },
        {
         "line": {
          "color": "black",
          "width": 3
         },
         "mode": "lines",
         "type": "scatter3d",
         "x": [
          10,
          40,
          40,
          25,
          25,
          10,
          10,
          10
         ],
         "y": [
          10,
          10,
          25,
          25,
          40,
          40,
          10,
          10
         ],
         "z": [
          12,
          12,
          12,
          12,
          12,
          12,
          12,
          12
         ]
        },
        {
         "line": {
          "color": "black",
          "width": 3
         },
         "mode": "lines",
         "type": "scatter3d",
         "x": [
          10,
          40,
          40,
          25,
          25,
          10,
          10,
          10
         ],
         "y": [
          10,
          10,
          25,
          25,
          40,
          40,
          10,
          10
         ],
         "z": [
          0,
          0,
          0,
          0,
          0,
          0,
          0,
          0
         ]
        },
        {
         "line": {
          "color": "black",
          "width": 3
         },
         "mode": "lines",
         "type": "scatter3d",
         "x": [
          10,
          10,
          40,
          40,
          10
         ],
         "y": [
          10,
          10,
          10,
          10,
          10
         ],
         "z": [
          0,
          12,
          12,
          0,
          0
         ]
        },
        {
         "line": {
          "color": "black",
          "width": 3
         },
         "mode": "lines",
         "type": "scatter3d",
         "x": [
          40,
          40,
          40,
          40,
          40
         ],
         "y": [
          10,
          10,
          25,
          25,
          10
         ],
         "z": [
          0,
          12,
          12,
          0,
          0
         ]
        },
        {
         "line": {
          "color": "black",
          "width": 3
         },
         "mode": "lines",
         "type": "scatter3d",
         "x": [
          40,
          40,
          25,
          25,
          40
         ],
         "y": [
          25,
          25,
          25,
          25,
          25
         ],
         "z": [
          0,
          12,
          12,
          0,
          0
         ]
        },
        {
         "line": {
          "color": "black",
          "width": 3
         },
         "mode": "lines",
         "type": "scatter3d",
         "x": [
          25,
          25,
          25,
          25,
          25
         ],
         "y": [
          25,
          25,
          40,
          40,
          25
         ],
         "z": [
          0,
          12,
          12,
          0,
          0
         ]
        },
        {
         "line": {
          "color": "black",
          "width": 3
         },
         "mode": "lines",
         "type": "scatter3d",
         "x": [
          25,
          25,
          10,
          10,
          25
         ],
         "y": [
          40,
          40,
          40,
          40,
          40
         ],
         "z": [
          0,
          12,
          12,
          0,
          0
         ]
        },
        {
         "line": {
          "color": "black",
          "width": 3
         },
         "mode": "lines",
         "type": "scatter3d",
         "x": [
          10,
          10,
          10,
          10,
          10
         ],
         "y": [
          40,
          40,
          10,
          10,
          40
         ],
         "z": [
          0,
          12,
          12,
          0,
          0
         ]
        },
        {
         "line": {
          "color": "black",
          "width": 3
         },
         "mode": "lines",
         "type": "scatter3d",
         "x": [
          10,
          10,
          10,
          10,
          10
         ],
         "y": [
          10,
          10,
          10,
          10,
          10
         ],
         "z": [
          0,
          12,
          12,
          0,
          0
         ]
        },
        {
         "color": "red",
         "i": [
          0,
          0
         ],
         "j": [
          1,
          2
         ],
         "k": [
          2,
          3
         ],
         "opacity": 0.5,
         "type": "mesh3d",
         "x": [
          60,
          90,
          90,
          60
         ],
         "y": [
          10,
          10,
          10,
          10
         ],
         "z": [
          0,
          0,
          14,
          14
         ]
        },
        {
         "color": "red",
         "i": [
          0,
          0
         ],
         "j": [
          1,
          2
         ],
         "k": [
          2,
          3
         ],
         "opacity": 0.5,
         "type": "mesh3d",
         "x": [
          90,
          90,
          90,
          90
         ],
         "y": [
          10,
          40,
          40,
          10
         ],
         "z": [
          0,
          0,
          14,
          14
         ]
        },
        {
         "color": "red",
         "i": [
          0,
          0
         ],
         "j": [
          1,
          2
         ],
         "k": [
          2,
          3
         ],
         "opacity": 0.5,
         "type": "mesh3d",
         "x": [
          90,
          75,
          75,
          90
         ],
         "y": [
          40,
          40,
          40,
          40
         ],
         "z": [
          0,
          0,
          14,
          14
         ]
        },
        {
         "color": "red",
         "i": [
          0,
          0
         ],
         "j": [
          1,
          2
         ],
         "k": [
          2,
          3
         ],
         "opacity": 0.5,
         "type": "mesh3d",
         "x": [
          75,
          75,
          75,
          75
         ],
         "y": [
          40,
          25,
          25,
          40
         ],
         "z": [
          0,
          0,
          14,
          14
         ]
        },
        {
         "color": "red",
         "i": [
          0,
          0
         ],
         "j": [
          1,
          2
         ],
         "k": [
          2,
          3
         ],
         "opacity": 0.5,
         "type": "mesh3d",
         "x": [
          75,
          60,
          60,
          75
         ],
         "y": [
          25,
          25,
          25,
          25
         ],
         "z": [
          0,
          0,
          14,
          14
         ]
        },
        {
         "color": "red",
         "i": [
          0,
          0
         ],
         "j": [
          1,
          2
         ],
         "k": [
          2,
          3
         ],
         "opacity": 0.5,
         "type": "mesh3d",
         "x": [
          60,
          60,
          60,
          60
         ],
         "y": [
          25,
          10,
          10,
          25
         ],
         "z": [
          0,
          0,
          14,
          14
         ]
        },
        {
         "color": "red",
         "i": [
          0,
          0
         ],
         "j": [
          1,
          2
         ],
         "k": [
          2,
          3
         ],
         "opacity": 0.5,
         "type": "mesh3d",
         "x": [
          60,
          60,
          60,
          60
         ],
         "y": [
          10,
          10,
          10,
          10
         ],
         "z": [
          0,
          0,
          14,
          14
         ]
        },
        {
         "line": {
          "color": "black",
          "width": 3
         },
         "mode": "lines",
         "type": "scatter3d",
         "x": [
          60,
          90,
          90,
          75,
          75,
          60,
          60,
          60
         ],
         "y": [
          10,
          10,
          40,
          40,
          25,
          25,
          10,
          10
         ],
         "z": [
          14,
          14,
          14,
          14,
          14,
          14,
          14,
          14
         ]
        },
        {
         "line": {
          "color": "black",
          "width": 3
         },
         "mode": "lines",
         "type": "scatter3d",
         "x": [
          60,
          90,
          90,
          75,
          75,
          60,
          60,
          60
         ],
         "y": [
          10,
          10,
          40,
          40,
          25,
          25,
          10,
          10
         ],
         "z": [
          0,
          0,
          0,
          0,
          0,
          0,
          0,
          0
         ]
        },
        {
         "line": {
          "color": "black",
          "width": 3
         },
         "mode": "lines",
         "type": "scatter3d",
         "x": [
          60,
          60,
          90,
          90,
          60
         ],
         "y": [
          10,
          10,
          10,
          10,
          10
         ],
         "z": [
          0,
          14,
          14,
          0,
          0
         ]
        },
        {
         "line": {
          "color": "black",
          "width": 3
         },
         "mode": "lines",
         "type": "scatter3d",
         "x": [
          90,
          90,
          90,
          90,
          90
         ],
         "y": [
          10,
          10,
          40,
          40,
          10
         ],
         "z": [
          0,
          14,
          14,
          0,
          0
         ]
        },
        {
         "line": {
          "color": "black",
          "width": 3
         },
         "mode": "lines",
         "type": "scatter3d",
         "x": [
          90,
          90,
          75,
          75,
          90
         ],
         "y": [
          40,
          40,
          40,
          40,
          40
         ],
         "z": [
          0,
          14,
          14,
          0,
          0
         ]
        },
        {
         "line": {
          "color": "black",
          "width": 3
         },
         "mode": "lines",
         "type": "scatter3d",
         "x": [
          75,
          75,
          75,
          75,
          75
         ],
         "y": [
          40,
          40,
          25,
          25,
          40
         ],
         "z": [
          0,
          14,
          14,
          0,
          0
         ]
        },
        {
         "line": {
          "color": "black",
          "width": 3
         },
         "mode": "lines",
         "type": "scatter3d",
         "x": [
          75,
          75,
          60,
          60,
          75
         ],
         "y": [
          25,
          25,
          25,
          25,
          25
         ],
         "z": [
          0,
          14,
          14,
          0,
          0
         ]
        },
        {
         "line": {
          "color": "black",
          "width": 3
         },
         "mode": "lines",
         "type": "scatter3d",
         "x": [
          60,
          60,
          60,
          60,
          60
         ],
         "y": [
          25,
          25,
          10,
          10,
          25
         ],
         "z": [
          0,
          14,
          14,
          0,
          0
         ]
        },
        {
         "line": {
          "color": "black",
          "width": 3
         },
         "mode": "lines",
         "type": "scatter3d",
         "x": [
          60,
          60,
          60,
          60,
          60
         ],
         "y": [
          10,
          10,
          10,
          10,
          10
         ],
         "z": [
          0,
          14,
          14,
          0,
          0
         ]
        },
        {
         "color": "red",
         "i": [
          0,
          0
         ],
         "j": [
          1,
          2
         ],
         "k": [
          2,
          3
         ],
         "opacity": 0.5,
         "type": "mesh3d",
         "x": [
          10,
          25,
          25,
          10
         ],
         "y": [
          60,
          60,
          60,
          60
         ],
         "z": [
          0,
          0,
          8,
          8
         ]
        },
        {
         "color": "red",
         "i": [
          0,
          0
         ],
         "j": [
          1,
          2
         ],
         "k": [
          2,
          3
         ],
         "opacity": 0.5,
         "type": "mesh3d",
         "x": [
          25,
          25,
          25,
          25
         ],
         "y": [
          60,
          75,
          75,
          60
         ],
         "z": [
          0,
          0,
          8,
          8
         ]
        },
        {
         "color": "red",
         "i": [
          0,
          0
         ],
         "j": [
          1,
          2
         ],
         "k": [
          2,
          3
         ],
         "opacity": 0.5,
         "type": "mesh3d",
         "x": [
          25,
          40,
          40,
          25
         ],
         "y": [
          75,
          75,
          75,
          75
         ],
         "z": [
          0,
          0,
          8,
          8
         ]
        },
        {
         "color": "red",
         "i": [
          0,
          0
         ],
         "j": [
          1,
          2
         ],
         "k": [
          2,
          3
         ],
         "opacity": 0.5,
         "type": "mesh3d",
         "x": [
          40,
          40,
          40,
          40
         ],
         "y": [
          75,
          90,
          90,
          75
         ],
         "z": [
          0,
          0,
          8,
          8
         ]
        },
        {
         "color": "red",
         "i": [
          0,
          0
         ],
         "j": [
          1,
          2
         ],
         "k": [
          2,
          3
         ],
         "opacity": 0.5,
         "type": "mesh3d",
         "x": [
          40,
          10,
          10,
          40
         ],
         "y": [
          90,
          90,
          90,
          90
         ],
         "z": [
          0,
          0,
          8,
          8
         ]
        },
        {
         "color": "red",
         "i": [
          0,
          0
         ],
         "j": [
          1,
          2
         ],
         "k": [
          2,
          3
         ],
         "opacity": 0.5,
         "type": "mesh3d",
         "x": [
          10,
          10,
          10,
          10
         ],
         "y": [
          90,
          60,
          60,
          90
         ],
         "z": [
          0,
          0,
          8,
          8
         ]
        },
        {
         "color": "red",
         "i": [
          0,
          0
         ],
         "j": [
          1,
          2
         ],
         "k": [
          2,
          3
         ],
         "opacity": 0.5,
         "type": "mesh3d",
         "x": [
          10,
          10,
          10,
          10
         ],
         "y": [
          60,
          60,
          60,
          60
         ],
         "z": [
          0,
          0,
          8,
          8
         ]
        },
        {
         "line": {
          "color": "black",
          "width": 3
         },
         "mode": "lines",
         "type": "scatter3d",
         "x": [
          10,
          25,
          25,
          40,
          40,
          10,
          10,
          10
         ],
         "y": [
          60,
          60,
          75,
          75,
          90,
          90,
          60,
          60
         ],
         "z": [
          8,
          8,
          8,
          8,
          8,
          8,
          8,
          8
         ]
        },
        {
         "line": {
          "color": "black",
          "width": 3
         },
         "mode": "lines",
         "type": "scatter3d",
         "x": [
          10,
          25,
          25,
          40,
          40,
          10,
          10,
          10
         ],
         "y": [
          60,
          60,
          75,
          75,
          90,
          90,
          60,
          60
         ],
         "z": [
          0,
          0,
          0,
          0,
          0,
          0,
          0,
          0
         ]
        },
        {
         "line": {
          "color": "black",
          "width": 3
         },
         "mode": "lines",
         "type": "scatter3d",
         "x": [
          10,
          10,
          25,
          25,
          10
         ],
         "y": [
          60,
          60,
          60,
          60,
          60
         ],
         "z": [
          0,
          8,
          8,
          0,
          0
         ]
        },
        {
         "line": {
          "color": "black",
          "width": 3
         },
         "mode": "lines",
         "type": "scatter3d",
         "x": [
          25,
          25,
          25,
          25,
          25
         ],
         "y": [
          60,
          60,
          75,
          75,
          60
         ],
         "z": [
          0,
          8,
          8,
          0,
          0
         ]
        },
        {
         "line": {
          "color": "black",
          "width": 3
         },
         "mode": "lines",
         "type": "scatter3d",
         "x": [
          25,
          25,
          40,
          40,
          25
         ],
         "y": [
          75,
          75,
          75,
          75,
          75
         ],
         "z": [
          0,
          8,
          8,
          0,
          0
         ]
        },
        {
         "line": {
          "color": "black",
          "width": 3
         },
         "mode": "lines",
         "type": "scatter3d",
         "x": [
          40,
          40,
          40,
          40,
          40
         ],
         "y": [
          75,
          75,
          90,
          90,
          75
         ],
         "z": [
          0,
          8,
          8,
          0,
          0
         ]
        },
        {
         "line": {
          "color": "black",
          "width": 3
         },
         "mode": "lines",
         "type": "scatter3d",
         "x": [
          40,
          40,
          10,
          10,
          40
         ],
         "y": [
          90,
          90,
          90,
          90,
          90
         ],
         "z": [
          0,
          8,
          8,
          0,
          0
         ]
        },
        {
         "line": {
          "color": "black",
          "width": 3
         },
         "mode": "lines",
         "type": "scatter3d",
         "x": [
          10,
          10,
          10,
          10,
          10
         ],
         "y": [
          90,
          90,
          60,
          60,
          90
         ],
         "z": [
          0,
          8,
          8,
          0,
          0
         ]
        },
        {
         "line": {
          "color": "black",
          "width": 3
         },
         "mode": "lines",
         "type": "scatter3d",
         "x": [
          10,
          10,
          10,
          10,
          10
         ],
         "y": [
          60,
          60,
          60,
          60,
          60
         ],
         "z": [
          0,
          8,
          8,
          0,
          0
         ]
        },
        {
         "color": "red",
         "i": [
          0,
          0
         ],
         "j": [
          1,
          2
         ],
         "k": [
          2,
          3
         ],
         "opacity": 0.5,
         "type": "mesh3d",
         "x": [
          60,
          90,
          90,
          60
         ],
         "y": [
          90,
          90,
          90,
          90
         ],
         "z": [
          0,
          0,
          16,
          16
         ]
        },
        {
         "color": "red",
         "i": [
          0,
          0
         ],
         "j": [
          1,
          2
         ],
         "k": [
          2,
          3
         ],
         "opacity": 0.5,
         "type": "mesh3d",
         "x": [
          90,
          90,
          90,
          90
         ],
         "y": [
          90,
          60,
          60,
          90
         ],
         "z": [
          0,
          0,
          16,
          16
         ]
        },
        {
         "color": "red",
         "i": [
          0,
          0
         ],
         "j": [
          1,
          2
         ],
         "k": [
          2,
          3
         ],
         "opacity": 0.5,
         "type": "mesh3d",
         "x": [
          90,
          75,
          75,
          90
         ],
         "y": [
          60,
          60,
          60,
          60
         ],
         "z": [
          0,
          0,
          16,
          16
         ]
        },
        {
         "color": "red",
         "i": [
          0,
          0
         ],
         "j": [
          1,
          2
         ],
         "k": [
          2,
          3
         ],
         "opacity": 0.5,
         "type": "mesh3d",
         "x": [
          75,
          75,
          75,
          75
         ],
         "y": [
          60,
          75,
          75,
          60
         ],
         "z": [
          0,
          0,
          16,
          16
         ]
        },
        {
         "color": "red",
         "i": [
          0,
          0
         ],
         "j": [
          1,
          2
         ],
         "k": [
          2,
          3
         ],
         "opacity": 0.5,
         "type": "mesh3d",
         "x": [
          75,
          60,
          60,
          75
         ],
         "y": [
          75,
          75,
          75,
          75
         ],
         "z": [
          0,
          0,
          16,
          16
         ]
        },
        {
         "color": "red",
         "i": [
          0,
          0
         ],
         "j": [
          1,
          2
         ],
         "k": [
          2,
          3
         ],
         "opacity": 0.5,
         "type": "mesh3d",
         "x": [
          60,
          60,
          60,
          60
         ],
         "y": [
          75,
          90,
          90,
          75
         ],
         "z": [
          0,
          0,
          16,
          16
         ]
        },
        {
         "color": "red",
         "i": [
          0,
          0
         ],
         "j": [
          1,
          2
         ],
         "k": [
          2,
          3
         ],
         "opacity": 0.5,
         "type": "mesh3d",
         "x": [
          60,
          60,
          60,
          60
         ],
         "y": [
          90,
          90,
          90,
          90
         ],
         "z": [
          0,
          0,
          16,
          16
         ]
        },
        {
         "line": {
          "color": "black",
          "width": 3
         },
         "mode": "lines",
         "type": "scatter3d",
         "x": [
          60,
          90,
          90,
          75,
          75,
          60,
          60,
          60
         ],
         "y": [
          90,
          90,
          60,
          60,
          75,
          75,
          90,
          90
         ],
         "z": [
          16,
          16,
          16,
          16,
          16,
          16,
          16,
          16
         ]
        },
        {
         "line": {
          "color": "black",
          "width": 3
         },
         "mode": "lines",
         "type": "scatter3d",
         "x": [
          60,
          90,
          90,
          75,
          75,
          60,
          60,
          60
         ],
         "y": [
          90,
          90,
          60,
          60,
          75,
          75,
          90,
          90
         ],
         "z": [
          0,
          0,
          0,
          0,
          0,
          0,
          0,
          0
         ]
        },
        {
         "line": {
          "color": "black",
          "width": 3
         },
         "mode": "lines",
         "type": "scatter3d",
         "x": [
          60,
          60,
          90,
          90,
          60
         ],
         "y": [
          90,
          90,
          90,
          90,
          90
         ],
         "z": [
          0,
          16,
          16,
          0,
          0
         ]
        },
        {
         "line": {
          "color": "black",
          "width": 3
         },
         "mode": "lines",
         "type": "scatter3d",
         "x": [
          90,
          90,
          90,
          90,
          90
         ],
         "y": [
          90,
          90,
          60,
          60,
          90
         ],
         "z": [
          0,
          16,
          16,
          0,
          0
         ]
        },
        {
         "line": {
          "color": "black",
          "width": 3
         },
         "mode": "lines",
         "type": "scatter3d",
         "x": [
          90,
          90,
          75,
          75,
          90
         ],
         "y": [
          60,
          60,
          60,
          60,
          60
         ],
         "z": [
          0,
          16,
          16,
          0,
          0
         ]
        },
        {
         "line": {
          "color": "black",
          "width": 3
         },
         "mode": "lines",
         "type": "scatter3d",
         "x": [
          75,
          75,
          75,
          75,
          75
         ],
         "y": [
          60,
          60,
          75,
          75,
          60
         ],
         "z": [
          0,
          16,
          16,
          0,
          0
         ]
        },
        {
         "line": {
          "color": "black",
          "width": 3
         },
         "mode": "lines",
         "type": "scatter3d",
         "x": [
          75,
          75,
          60,
          60,
          75
         ],
         "y": [
          75,
          75,
          75,
          75,
          75
         ],
         "z": [
          0,
          16,
          16,
          0,
          0
         ]
        },
        {
         "line": {
          "color": "black",
          "width": 3
         },
         "mode": "lines",
         "type": "scatter3d",
         "x": [
          60,
          60,
          60,
          60,
          60
         ],
         "y": [
          75,
          75,
          90,
          90,
          75
         ],
         "z": [
          0,
          16,
          16,
          0,
          0
         ]
        },
        {
         "line": {
          "color": "black",
          "width": 3
         },
         "mode": "lines",
         "type": "scatter3d",
         "x": [
          60,
          60,
          60,
          60,
          60
         ],
         "y": [
          90,
          90,
          90,
          90,
          90
         ],
         "z": [
          0,
          16,
          16,
          0,
          0
         ]
        },
        {
         "marker": {
          "color": "blue",
          "size": 5
         },
         "mode": "markers",
         "type": "scatter3d",
         "x": [
          45.23795535098186,
          92.42105840237294,
          50.78412730622711,
          18.46603438548766,
          9.412345622921848,
          9.06705374918394,
          69.34384825412391,
          98.21934207987782,
          65.39225335338405,
          15.749409514016243,
          52.83812661704788,
          3.008258922478857,
          44.05311166566568,
          51.91241147640767,
          49.977315220679166,
          45.73298815995577,
          99.76562004630843,
          91.02719281041814,
          98.03589411742921,
          7.303834383369789
         ],
         "y": [
          55.977238608049596,
          46.565007009977336,
          58.73848288498969,
          51.19086390418055,
          30.34012626245255,
          80.96445343671775,
          4.188033636984601,
          96.47577811255668,
          61.556270457857075,
          1.500073694960491,
          5.955110516885497,
          46.393446122328456,
          84.2427128518532,
          64.02917079191771,
          66.24495318903682,
          27.816289966388585,
          99.56916416561992,
          46.99872760136664,
          39.74243880792812,
          62.94549122340241
         ],
         "z": [
          0,
          0,
          0,
          0,
          0,
          0,
          0,
          0,
          0,
          0,
          0,
          0,
          0,
          0,
          0,
          0,
          0,
          0,
          0,
          0
         ]
        },
        {
         "marker": {
          "color": "orange",
          "size": 8
         },
         "mode": "markers",
         "type": "scatter3d",
         "x": [
          50.8874090719169
         ],
         "y": [
          51.57169166227269
         ],
         "z": [
          0
         ]
        },
        {
         "line": {
          "color": "gray",
          "width": 5
         },
         "mode": "lines",
         "type": "scatter3d",
         "x": [
          50.8874090719169,
          50.8874090719169,
          45.23795535098186,
          45.23795535098186,
          45.23795535098186,
          50.8874090719169,
          50.8874090719169,
          50.8874090719169,
          92.42105840237294,
          92.42105840237294,
          92.42105840237294,
          50.8874090719169,
          50.8874090719169,
          50.8874090719169,
          50.78412730622711,
          50.78412730622711,
          50.78412730622711,
          50.8874090719169,
          50.8874090719169,
          50.8874090719169,
          18.46603438548766,
          18.46603438548766,
          18.46603438548766,
          50.8874090719169,
          50.8874090719169,
          50.8874090719169,
          9.412345622921848,
          9.412345622921848,
          9.412345622921848,
          50.8874090719169,
          50.8874090719169,
          50.8874090719169,
          9.06705374918394,
          9.06705374918394,
          9.06705374918394,
          50.8874090719169,
          50.8874090719169,
          50.8874090719169,
          69.34384825412391,
          69.34384825412391,
          69.34384825412391,
          50.8874090719169,
          50.8874090719169,
          50.8874090719169,
          98.21934207987782,
          98.21934207987782,
          98.21934207987782,
          50.8874090719169,
          50.8874090719169,
          50.8874090719169,
          65.39225335338405,
          65.39225335338405,
          65.39225335338405,
          50.8874090719169,
          50.8874090719169,
          50.8874090719169,
          15.749409514016243,
          15.749409514016243,
          15.749409514016243,
          50.8874090719169,
          50.8874090719169,
          50.8874090719169,
          52.83812661704788,
          52.83812661704788,
          52.83812661704788,
          50.8874090719169,
          50.8874090719169,
          50.8874090719169,
          3.008258922478857,
          3.008258922478857,
          3.008258922478857,
          50.8874090719169,
          50.8874090719169,
          50.8874090719169,
          44.05311166566568,
          44.05311166566568,
          44.05311166566568,
          50.8874090719169,
          50.8874090719169,
          50.8874090719169,
          51.91241147640767,
          51.91241147640767,
          51.91241147640767,
          50.8874090719169,
          50.8874090719169,
          50.8874090719169,
          49.977315220679166,
          49.977315220679166,
          49.977315220679166,
          50.8874090719169,
          50.8874090719169,
          50.8874090719169,
          45.73298815995577,
          45.73298815995577,
          45.73298815995577,
          50.8874090719169,
          50.8874090719169,
          50.8874090719169,
          99.76562004630843,
          99.76562004630843,
          99.76562004630843,
          50.8874090719169,
          50.8874090719169,
          50.8874090719169,
          91.02719281041814,
          91.02719281041814,
          91.02719281041814,
          50.8874090719169,
          50.8874090719169,
          50.8874090719169,
          98.03589411742921,
          98.03589411742921,
          98.03589411742921,
          50.8874090719169,
          50.8874090719169,
          50.8874090719169,
          7.303834383369789,
          7.303834383369789,
          7.303834383369789,
          50.8874090719169,
          50.8874090719169
         ],
         "y": [
          51.57169166227269,
          51.57169166227269,
          55.977238608049596,
          55.977238608049596,
          55.977238608049596,
          51.57169166227269,
          51.57169166227269,
          51.57169166227269,
          46.565007009977336,
          46.565007009977336,
          46.565007009977336,
          51.57169166227269,
          51.57169166227269,
          51.57169166227269,
          58.73848288498969,
          58.73848288498969,
          58.73848288498969,
          51.57169166227269,
          51.57169166227269,
          51.57169166227269,
          51.19086390418055,
          51.19086390418055,
          51.19086390418055,
          51.57169166227269,
          51.57169166227269,
          51.57169166227269,
          30.34012626245255,
          30.34012626245255,
          30.34012626245255,
          51.57169166227269,
          51.57169166227269,
          51.57169166227269,
          80.96445343671775,
          80.96445343671775,
          80.96445343671775,
          51.57169166227269,
          51.57169166227269,
          51.57169166227269,
          4.188033636984601,
          4.188033636984601,
          4.188033636984601,
          51.57169166227269,
          51.57169166227269,
          51.57169166227269,
          96.47577811255668,
          96.47577811255668,
          96.47577811255668,
          51.57169166227269,
          51.57169166227269,
          51.57169166227269,
          61.556270457857075,
          61.556270457857075,
          61.556270457857075,
          51.57169166227269,
          51.57169166227269,
          51.57169166227269,
          1.500073694960491,
          1.500073694960491,
          1.500073694960491,
          51.57169166227269,
          51.57169166227269,
          51.57169166227269,
          5.955110516885497,
          5.955110516885497,
          5.955110516885497,
          51.57169166227269,
          51.57169166227269,
          51.57169166227269,
          46.393446122328456,
          46.393446122328456,
          46.393446122328456,
          51.57169166227269,
          51.57169166227269,
          51.57169166227269,
          84.2427128518532,
          84.2427128518532,
          84.2427128518532,
          51.57169166227269,
          51.57169166227269,
          51.57169166227269,
          64.02917079191771,
          64.02917079191771,
          64.02917079191771,
          51.57169166227269,
          51.57169166227269,
          51.57169166227269,
          66.24495318903682,
          66.24495318903682,
          66.24495318903682,
          51.57169166227269,
          51.57169166227269,
          51.57169166227269,
          27.816289966388585,
          27.816289966388585,
          27.816289966388585,
          51.57169166227269,
          51.57169166227269,
          51.57169166227269,
          99.56916416561992,
          99.56916416561992,
          99.56916416561992,
          51.57169166227269,
          51.57169166227269,
          51.57169166227269,
          46.99872760136664,
          46.99872760136664,
          46.99872760136664,
          51.57169166227269,
          51.57169166227269,
          51.57169166227269,
          39.74243880792812,
          39.74243880792812,
          39.74243880792812,
          51.57169166227269,
          51.57169166227269,
          51.57169166227269,
          62.94549122340241,
          62.94549122340241,
          62.94549122340241,
          51.57169166227269,
          51.57169166227269
         ],
         "z": [
          0,
          10,
          10,
          0,
          10,
          10,
          0,
          10,
          10,
          0,
          10,
          10,
          0,
          10,
          10,
          0,
          10,
          10,
          0,
          10,
          10,
          0,
          10,
          10,
          0,
          10,
          10,
          0,
          10,
          10,
          0,
          10,
          10,
          0,
          10,
          10,
          0,
          10,
          10,
          0,
          10,
          10,
          0,
          10,
          10,
          0,
          10,
          10,
          0,
          10,
          10,
          0,
          10,
          10,
          0,
          10,
          10,
          0,
          10,
          10,
          0,
          10,
          10,
          0,
          10,
          10,
          0,
          10,
          10,
          0,
          10,
          10,
          0,
          10,
          10,
          0,
          10,
          10,
          0,
          10,
          10,
          0,
          10,
          10,
          0,
          10,
          10,
          0,
          10,
          10,
          0,
          10,
          10,
          0,
          10,
          10,
          0,
          10,
          10,
          0,
          10,
          10,
          0,
          10,
          10,
          0,
          10,
          10,
          0,
          10,
          10,
          0,
          10,
          10,
          0,
          10,
          10,
          0,
          10,
          10,
          0
         ]
        }
       ],
       "layout": {
        "height": 800,
        "scene": {
         "aspectmode": "cube",
         "xaxis": {
          "title": {
           "text": "X"
          }
         },
         "yaxis": {
          "title": {
           "text": "Y"
          }
         },
         "zaxis": {
          "title": {
           "text": "Height"
          }
         }
        },
        "template": {
         "data": {
          "bar": [
           {
            "error_x": {
             "color": "#2a3f5f"
            },
            "error_y": {
             "color": "#2a3f5f"
            },
            "marker": {
             "line": {
              "color": "#E5ECF6",
              "width": 0.5
             },
             "pattern": {
              "fillmode": "overlay",
              "size": 10,
              "solidity": 0.2
             }
            },
            "type": "bar"
           }
          ],
          "barpolar": [
           {
            "marker": {
             "line": {
              "color": "#E5ECF6",
              "width": 0.5
             },
             "pattern": {
              "fillmode": "overlay",
              "size": 10,
              "solidity": 0.2
             }
            },
            "type": "barpolar"
           }
          ],
          "carpet": [
           {
            "aaxis": {
             "endlinecolor": "#2a3f5f",
             "gridcolor": "white",
             "linecolor": "white",
             "minorgridcolor": "white",
             "startlinecolor": "#2a3f5f"
            },
            "baxis": {
             "endlinecolor": "#2a3f5f",
             "gridcolor": "white",
             "linecolor": "white",
             "minorgridcolor": "white",
             "startlinecolor": "#2a3f5f"
            },
            "type": "carpet"
           }
          ],
          "choropleth": [
           {
            "colorbar": {
             "outlinewidth": 0,
             "ticks": ""
            },
            "type": "choropleth"
           }
          ],
          "contour": [
           {
            "colorbar": {
             "outlinewidth": 0,
             "ticks": ""
            },
            "colorscale": [
             [
              0,
              "#0d0887"
             ],
             [
              0.1111111111111111,
              "#46039f"
             ],
             [
              0.2222222222222222,
              "#7201a8"
             ],
             [
              0.3333333333333333,
              "#9c179e"
             ],
             [
              0.4444444444444444,
              "#bd3786"
             ],
             [
              0.5555555555555556,
              "#d8576b"
             ],
             [
              0.6666666666666666,
              "#ed7953"
             ],
             [
              0.7777777777777778,
              "#fb9f3a"
             ],
             [
              0.8888888888888888,
              "#fdca26"
             ],
             [
              1,
              "#f0f921"
             ]
            ],
            "type": "contour"
           }
          ],
          "contourcarpet": [
           {
            "colorbar": {
             "outlinewidth": 0,
             "ticks": ""
            },
            "type": "contourcarpet"
           }
          ],
          "heatmap": [
           {
            "colorbar": {
             "outlinewidth": 0,
             "ticks": ""
            },
            "colorscale": [
             [
              0,
              "#0d0887"
             ],
             [
              0.1111111111111111,
              "#46039f"
             ],
             [
              0.2222222222222222,
              "#7201a8"
             ],
             [
              0.3333333333333333,
              "#9c179e"
             ],
             [
              0.4444444444444444,
              "#bd3786"
             ],
             [
              0.5555555555555556,
              "#d8576b"
             ],
             [
              0.6666666666666666,
              "#ed7953"
             ],
             [
              0.7777777777777778,
              "#fb9f3a"
             ],
             [
              0.8888888888888888,
              "#fdca26"
             ],
             [
              1,
              "#f0f921"
             ]
            ],
            "type": "heatmap"
           }
          ],
          "heatmapgl": [
           {
            "colorbar": {
             "outlinewidth": 0,
             "ticks": ""
            },
            "colorscale": [
             [
              0,
              "#0d0887"
             ],
             [
              0.1111111111111111,
              "#46039f"
             ],
             [
              0.2222222222222222,
              "#7201a8"
             ],
             [
              0.3333333333333333,
              "#9c179e"
             ],
             [
              0.4444444444444444,
              "#bd3786"
             ],
             [
              0.5555555555555556,
              "#d8576b"
             ],
             [
              0.6666666666666666,
              "#ed7953"
             ],
             [
              0.7777777777777778,
              "#fb9f3a"
             ],
             [
              0.8888888888888888,
              "#fdca26"
             ],
             [
              1,
              "#f0f921"
             ]
            ],
            "type": "heatmapgl"
           }
          ],
          "histogram": [
           {
            "marker": {
             "pattern": {
              "fillmode": "overlay",
              "size": 10,
              "solidity": 0.2
             }
            },
            "type": "histogram"
           }
          ],
          "histogram2d": [
           {
            "colorbar": {
             "outlinewidth": 0,
             "ticks": ""
            },
            "colorscale": [
             [
              0,
              "#0d0887"
             ],
             [
              0.1111111111111111,
              "#46039f"
             ],
             [
              0.2222222222222222,
              "#7201a8"
             ],
             [
              0.3333333333333333,
              "#9c179e"
             ],
             [
              0.4444444444444444,
              "#bd3786"
             ],
             [
              0.5555555555555556,
              "#d8576b"
             ],
             [
              0.6666666666666666,
              "#ed7953"
             ],
             [
              0.7777777777777778,
              "#fb9f3a"
             ],
             [
              0.8888888888888888,
              "#fdca26"
             ],
             [
              1,
              "#f0f921"
             ]
            ],
            "type": "histogram2d"
           }
          ],
          "histogram2dcontour": [
           {
            "colorbar": {
             "outlinewidth": 0,
             "ticks": ""
            },
            "colorscale": [
             [
              0,
              "#0d0887"
             ],
             [
              0.1111111111111111,
              "#46039f"
             ],
             [
              0.2222222222222222,
              "#7201a8"
             ],
             [
              0.3333333333333333,
              "#9c179e"
             ],
             [
              0.4444444444444444,
              "#bd3786"
             ],
             [
              0.5555555555555556,
              "#d8576b"
             ],
             [
              0.6666666666666666,
              "#ed7953"
             ],
             [
              0.7777777777777778,
              "#fb9f3a"
             ],
             [
              0.8888888888888888,
              "#fdca26"
             ],
             [
              1,
              "#f0f921"
             ]
            ],
            "type": "histogram2dcontour"
           }
          ],
          "mesh3d": [
           {
            "colorbar": {
             "outlinewidth": 0,
             "ticks": ""
            },
            "type": "mesh3d"
           }
          ],
          "parcoords": [
           {
            "line": {
             "colorbar": {
              "outlinewidth": 0,
              "ticks": ""
             }
            },
            "type": "parcoords"
           }
          ],
          "pie": [
           {
            "automargin": true,
            "type": "pie"
           }
          ],
          "scatter": [
           {
            "fillpattern": {
             "fillmode": "overlay",
             "size": 10,
             "solidity": 0.2
            },
            "type": "scatter"
           }
          ],
          "scatter3d": [
           {
            "line": {
             "colorbar": {
              "outlinewidth": 0,
              "ticks": ""
             }
            },
            "marker": {
             "colorbar": {
              "outlinewidth": 0,
              "ticks": ""
             }
            },
            "type": "scatter3d"
           }
          ],
          "scattercarpet": [
           {
            "marker": {
             "colorbar": {
              "outlinewidth": 0,
              "ticks": ""
             }
            },
            "type": "scattercarpet"
           }
          ],
          "scattergeo": [
           {
            "marker": {
             "colorbar": {
              "outlinewidth": 0,
              "ticks": ""
             }
            },
            "type": "scattergeo"
           }
          ],
          "scattergl": [
           {
            "marker": {
             "colorbar": {
              "outlinewidth": 0,
              "ticks": ""
             }
            },
            "type": "scattergl"
           }
          ],
          "scattermapbox": [
           {
            "marker": {
             "colorbar": {
              "outlinewidth": 0,
              "ticks": ""
             }
            },
            "type": "scattermapbox"
           }
          ],
          "scatterpolar": [
           {
            "marker": {
             "colorbar": {
              "outlinewidth": 0,
              "ticks": ""
             }
            },
            "type": "scatterpolar"
           }
          ],
          "scatterpolargl": [
           {
            "marker": {
             "colorbar": {
              "outlinewidth": 0,
              "ticks": ""
             }
            },
            "type": "scatterpolargl"
           }
          ],
          "scatterternary": [
           {
            "marker": {
             "colorbar": {
              "outlinewidth": 0,
              "ticks": ""
             }
            },
            "type": "scatterternary"
           }
          ],
          "surface": [
           {
            "colorbar": {
             "outlinewidth": 0,
             "ticks": ""
            },
            "colorscale": [
             [
              0,
              "#0d0887"
             ],
             [
              0.1111111111111111,
              "#46039f"
             ],
             [
              0.2222222222222222,
              "#7201a8"
             ],
             [
              0.3333333333333333,
              "#9c179e"
             ],
             [
              0.4444444444444444,
              "#bd3786"
             ],
             [
              0.5555555555555556,
              "#d8576b"
             ],
             [
              0.6666666666666666,
              "#ed7953"
             ],
             [
              0.7777777777777778,
              "#fb9f3a"
             ],
             [
              0.8888888888888888,
              "#fdca26"
             ],
             [
              1,
              "#f0f921"
             ]
            ],
            "type": "surface"
           }
          ],
          "table": [
           {
            "cells": {
             "fill": {
              "color": "#EBF0F8"
             },
             "line": {
              "color": "white"
             }
            },
            "header": {
             "fill": {
              "color": "#C8D4E3"
             },
             "line": {
              "color": "white"
             }
            },
            "type": "table"
           }
          ]
         },
         "layout": {
          "annotationdefaults": {
           "arrowcolor": "#2a3f5f",
           "arrowhead": 0,
           "arrowwidth": 1
          },
          "autotypenumbers": "strict",
          "coloraxis": {
           "colorbar": {
            "outlinewidth": 0,
            "ticks": ""
           }
          },
          "colorscale": {
           "diverging": [
            [
             0,
             "#8e0152"
            ],
            [
             0.1,
             "#c51b7d"
            ],
            [
             0.2,
             "#de77ae"
            ],
            [
             0.3,
             "#f1b6da"
            ],
            [
             0.4,
             "#fde0ef"
            ],
            [
             0.5,
             "#f7f7f7"
            ],
            [
             0.6,
             "#e6f5d0"
            ],
            [
             0.7,
             "#b8e186"
            ],
            [
             0.8,
             "#7fbc41"
            ],
            [
             0.9,
             "#4d9221"
            ],
            [
             1,
             "#276419"
            ]
           ],
           "sequential": [
            [
             0,
             "#0d0887"
            ],
            [
             0.1111111111111111,
             "#46039f"
            ],
            [
             0.2222222222222222,
             "#7201a8"
            ],
            [
             0.3333333333333333,
             "#9c179e"
            ],
            [
             0.4444444444444444,
             "#bd3786"
            ],
            [
             0.5555555555555556,
             "#d8576b"
            ],
            [
             0.6666666666666666,
             "#ed7953"
            ],
            [
             0.7777777777777778,
             "#fb9f3a"
            ],
            [
             0.8888888888888888,
             "#fdca26"
            ],
            [
             1,
             "#f0f921"
            ]
           ],
           "sequentialminus": [
            [
             0,
             "#0d0887"
            ],
            [
             0.1111111111111111,
             "#46039f"
            ],
            [
             0.2222222222222222,
             "#7201a8"
            ],
            [
             0.3333333333333333,
             "#9c179e"
            ],
            [
             0.4444444444444444,
             "#bd3786"
            ],
            [
             0.5555555555555556,
             "#d8576b"
            ],
            [
             0.6666666666666666,
             "#ed7953"
            ],
            [
             0.7777777777777778,
             "#fb9f3a"
            ],
            [
             0.8888888888888888,
             "#fdca26"
            ],
            [
             1,
             "#f0f921"
            ]
           ]
          },
          "colorway": [
           "#636efa",
           "#EF553B",
           "#00cc96",
           "#ab63fa",
           "#FFA15A",
           "#19d3f3",
           "#FF6692",
           "#B6E880",
           "#FF97FF",
           "#FECB52"
          ],
          "font": {
           "color": "#2a3f5f"
          },
          "geo": {
           "bgcolor": "white",
           "lakecolor": "white",
           "landcolor": "#E5ECF6",
           "showlakes": true,
           "showland": true,
           "subunitcolor": "white"
          },
          "hoverlabel": {
           "align": "left"
          },
          "hovermode": "closest",
          "mapbox": {
           "style": "light"
          },
          "paper_bgcolor": "white",
          "plot_bgcolor": "#E5ECF6",
          "polar": {
           "angularaxis": {
            "gridcolor": "white",
            "linecolor": "white",
            "ticks": ""
           },
           "bgcolor": "#E5ECF6",
           "radialaxis": {
            "gridcolor": "white",
            "linecolor": "white",
            "ticks": ""
           }
          },
          "scene": {
           "xaxis": {
            "backgroundcolor": "#E5ECF6",
            "gridcolor": "white",
            "gridwidth": 2,
            "linecolor": "white",
            "showbackground": true,
            "ticks": "",
            "zerolinecolor": "white"
           },
           "yaxis": {
            "backgroundcolor": "#E5ECF6",
            "gridcolor": "white",
            "gridwidth": 2,
            "linecolor": "white",
            "showbackground": true,
            "ticks": "",
            "zerolinecolor": "white"
           },
           "zaxis": {
            "backgroundcolor": "#E5ECF6",
            "gridcolor": "white",
            "gridwidth": 2,
            "linecolor": "white",
            "showbackground": true,
            "ticks": "",
            "zerolinecolor": "white"
           }
          },
          "shapedefaults": {
           "line": {
            "color": "#2a3f5f"
           }
          },
          "ternary": {
           "aaxis": {
            "gridcolor": "white",
            "linecolor": "white",
            "ticks": ""
           },
           "baxis": {
            "gridcolor": "white",
            "linecolor": "white",
            "ticks": ""
           },
           "bgcolor": "#E5ECF6",
           "caxis": {
            "gridcolor": "white",
            "linecolor": "white",
            "ticks": ""
           }
          },
          "title": {
           "x": 0.05
          },
          "xaxis": {
           "automargin": true,
           "gridcolor": "white",
           "linecolor": "white",
           "ticks": "",
           "title": {
            "standoff": 15
           },
           "zerolinecolor": "white",
           "zerolinewidth": 2
          },
          "yaxis": {
           "automargin": true,
           "gridcolor": "white",
           "linecolor": "white",
           "ticks": "",
           "title": {
            "standoff": 15
           },
           "zerolinecolor": "white",
           "zerolinewidth": 2
          }
         }
        },
        "width": 800
       }
      }
     },
     "metadata": {},
     "output_type": "display_data"
    }
   ],
   "source": [
    "# ploting th route\n",
    "\n",
    "initial_plot(delivary_locations=delivary_loc, obstacles=obstacles, dp=route_1_dp, route = route_1_path)"
   ]
  },
  {
   "cell_type": "code",
   "execution_count": 31,
   "metadata": {},
   "outputs": [
    {
     "data": {
      "text/plain": [
       "2324.8691784342486"
      ]
     },
     "execution_count": 31,
     "metadata": {},
     "output_type": "execute_result"
    }
   ],
   "source": [
    "# calculate distance of the obstacle free route\n",
    "distance_1 = calculate_route_distance(route_1_path)\n",
    "\n",
    "distance_1"
   ]
  },
  {
   "cell_type": "markdown",
   "metadata": {},
   "source": [
    "#### Obstacle avoidance (3D)"
   ]
  },
  {
   "cell_type": "code",
   "execution_count": 32,
   "metadata": {},
   "outputs": [
    {
     "data": {
      "text/plain": [
       "[(50.8874090719169, 51.57169166227269, 0),\n",
       " (50.8874090719169, 51.57169166227269, 10),\n",
       " (45.23795535098186, 55.977238608049596, 10),\n",
       " (45.23795535098186, 55.977238608049596, 0),\n",
       " (45.23795535098186, 55.977238608049596, 10),\n",
       " (50.8874090719169, 51.57169166227269, 10),\n",
       " (50.8874090719169, 51.57169166227269, 0),\n",
       " (50.8874090719169, 51.57169166227269, 0),\n",
       " (50.8874090719169, 51.57169166227269, 10),\n",
       " (92.42105840237294, 46.565007009977336, 10),\n",
       " (92.42105840237294, 46.565007009977336, 0),\n",
       " (92.42105840237294, 46.565007009977336, 10),\n",
       " (50.8874090719169, 51.57169166227269, 10),\n",
       " (50.8874090719169, 51.57169166227269, 0),\n",
       " (50.8874090719169, 51.57169166227269, 0),\n",
       " (50.8874090719169, 51.57169166227269, 10),\n",
       " (50.78412730622711, 58.73848288498969, 10),\n",
       " (50.78412730622711, 58.73848288498969, 0),\n",
       " (50.78412730622711, 58.73848288498969, 10),\n",
       " (50.8874090719169, 51.57169166227269, 10),\n",
       " (50.8874090719169, 51.57169166227269, 0),\n",
       " (50.8874090719169, 51.57169166227269, 0),\n",
       " (50.8874090719169, 51.57169166227269, 10),\n",
       " (18.46603438548766, 51.19086390418055, 10),\n",
       " (18.46603438548766, 51.19086390418055, 0),\n",
       " (18.46603438548766, 51.19086390418055, 10),\n",
       " (50.8874090719169, 51.57169166227269, 10),\n",
       " (50.8874090719169, 51.57169166227269, 0),\n",
       " (50.8874090719169, 51.57169166227269, 0),\n",
       " (50.8874090719169, 51.57169166227269, 10),\n",
       " (25.0, 39.0, 12.005),\n",
       " (10.0, 31.0, 12.005),\n",
       " (9.412345622921848, 30.34012626245255, 10),\n",
       " (9.412345622921848, 30.34012626245255, 0),\n",
       " (9.412345622921848, 30.34012626245255, 10),\n",
       " (10.0, 31.0, 12.005),\n",
       " (25.0, 39.0, 12.005),\n",
       " (50.8874090719169, 51.57169166227269, 10),\n",
       " (50.8874090719169, 51.57169166227269, 0),\n",
       " (50.8874090719169, 51.57169166227269, 0),\n",
       " (50.8874090719169, 51.57169166227269, 10),\n",
       " (9.06705374918394, 80.96445343671775, 10),\n",
       " (9.06705374918394, 80.96445343671775, 0),\n",
       " (9.06705374918394, 80.96445343671775, 10),\n",
       " (50.8874090719169, 51.57169166227269, 10),\n",
       " (50.8874090719169, 51.57169166227269, 0),\n",
       " (50.8874090719169, 51.57169166227269, 0),\n",
       " (50.8874090719169, 51.57169166227269, 10),\n",
       " (61.0, 25.0, 14.005),\n",
       " (67.0, 10.0, 14.005),\n",
       " (69.34384825412391, 4.188033636984601, 10),\n",
       " (69.34384825412391, 4.188033636984601, 0),\n",
       " (69.34384825412391, 4.188033636984601, 10),\n",
       " (67.0, 10.0, 14.005),\n",
       " (61.0, 25.0, 14.005),\n",
       " (50.8874090719169, 51.57169166227269, 10),\n",
       " (50.8874090719169, 51.57169166227269, 0),\n",
       " (50.8874090719169, 51.57169166227269, 0),\n",
       " (50.8874090719169, 51.57169166227269, 10),\n",
       " (90, 60, 10.005),\n",
       " (98.21934207987782, 96.47577811255668, 10),\n",
       " (98.21934207987782, 96.47577811255668, 0),\n",
       " (98.21934207987782, 96.47577811255668, 10),\n",
       " (90, 60, 10.005),\n",
       " (50.8874090719169, 51.57169166227269, 10),\n",
       " (50.8874090719169, 51.57169166227269, 0),\n",
       " (50.8874090719169, 51.57169166227269, 0),\n",
       " (50.8874090719169, 51.57169166227269, 10),\n",
       " (65.39225335338405, 61.556270457857075, 10),\n",
       " (65.39225335338405, 61.556270457857075, 0),\n",
       " (65.39225335338405, 61.556270457857075, 10),\n",
       " (50.8874090719169, 51.57169166227269, 10),\n",
       " (50.8874090719169, 51.57169166227269, 0),\n",
       " (50.8874090719169, 51.57169166227269, 0),\n",
       " (50.8874090719169, 51.57169166227269, 10),\n",
       " (32.0, 25.0, 12.005),\n",
       " (22.0, 10.0, 12.005),\n",
       " (15.749409514016243, 1.500073694960491, 10),\n",
       " (15.749409514016243, 1.500073694960491, 0),\n",
       " (15.749409514016243, 1.500073694960491, 10),\n",
       " (22.0, 10.0, 12.005),\n",
       " (32.0, 25.0, 12.005),\n",
       " (50.8874090719169, 51.57169166227269, 10),\n",
       " (50.8874090719169, 51.57169166227269, 0),\n",
       " (50.8874090719169, 51.57169166227269, 0),\n",
       " (50.8874090719169, 51.57169166227269, 10),\n",
       " (52.83812661704788, 5.955110516885497, 10),\n",
       " (52.83812661704788, 5.955110516885497, 0),\n",
       " (52.83812661704788, 5.955110516885497, 10),\n",
       " (50.8874090719169, 51.57169166227269, 10),\n",
       " (50.8874090719169, 51.57169166227269, 0),\n",
       " (50.8874090719169, 51.57169166227269, 0),\n",
       " (50.8874090719169, 51.57169166227269, 10),\n",
       " (3.008258922478857, 46.393446122328456, 10),\n",
       " (3.008258922478857, 46.393446122328456, 0),\n",
       " (3.008258922478857, 46.393446122328456, 10),\n",
       " (50.8874090719169, 51.57169166227269, 10),\n",
       " (50.8874090719169, 51.57169166227269, 0),\n",
       " (50.8874090719169, 51.57169166227269, 0),\n",
       " (50.8874090719169, 51.57169166227269, 10),\n",
       " (44.05311166566568, 84.2427128518532, 10),\n",
       " (44.05311166566568, 84.2427128518532, 0),\n",
       " (44.05311166566568, 84.2427128518532, 10),\n",
       " (50.8874090719169, 51.57169166227269, 10),\n",
       " (50.8874090719169, 51.57169166227269, 0),\n",
       " (50.8874090719169, 51.57169166227269, 0),\n",
       " (50.8874090719169, 51.57169166227269, 10),\n",
       " (51.91241147640767, 64.02917079191771, 10),\n",
       " (51.91241147640767, 64.02917079191771, 0),\n",
       " (51.91241147640767, 64.02917079191771, 10),\n",
       " (50.8874090719169, 51.57169166227269, 10),\n",
       " (50.8874090719169, 51.57169166227269, 0),\n",
       " (50.8874090719169, 51.57169166227269, 0),\n",
       " (50.8874090719169, 51.57169166227269, 10),\n",
       " (49.977315220679166, 66.24495318903682, 10),\n",
       " (49.977315220679166, 66.24495318903682, 0),\n",
       " (49.977315220679166, 66.24495318903682, 10),\n",
       " (50.8874090719169, 51.57169166227269, 10),\n",
       " (50.8874090719169, 51.57169166227269, 0),\n",
       " (50.8874090719169, 51.57169166227269, 0),\n",
       " (50.8874090719169, 51.57169166227269, 10),\n",
       " (45.73298815995577, 27.816289966388585, 10),\n",
       " (45.73298815995577, 27.816289966388585, 0),\n",
       " (45.73298815995577, 27.816289966388585, 10),\n",
       " (50.8874090719169, 51.57169166227269, 10),\n",
       " (50.8874090719169, 51.57169166227269, 0),\n",
       " (50.8874090719169, 51.57169166227269, 0),\n",
       " (50.8874090719169, 51.57169166227269, 10),\n",
       " (60, 90, 10.005),\n",
       " (99.76562004630843, 99.56916416561992, 10),\n",
       " (99.76562004630843, 99.56916416561992, 0),\n",
       " (99.76562004630843, 99.56916416561992, 10),\n",
       " (60, 90, 10.005),\n",
       " (50.8874090719169, 51.57169166227269, 10),\n",
       " (50.8874090719169, 51.57169166227269, 0),\n",
       " (50.8874090719169, 51.57169166227269, 0),\n",
       " (50.8874090719169, 51.57169166227269, 10),\n",
       " (91.02719281041814, 46.99872760136664, 10),\n",
       " (91.02719281041814, 46.99872760136664, 0),\n",
       " (91.02719281041814, 46.99872760136664, 10),\n",
       " (50.8874090719169, 51.57169166227269, 10),\n",
       " (50.8874090719169, 51.57169166227269, 0),\n",
       " (50.8874090719169, 51.57169166227269, 0),\n",
       " (50.8874090719169, 51.57169166227269, 10),\n",
       " (98.03589411742921, 39.74243880792812, 10),\n",
       " (98.03589411742921, 39.74243880792812, 0),\n",
       " (98.03589411742921, 39.74243880792812, 10),\n",
       " (50.8874090719169, 51.57169166227269, 10),\n",
       " (50.8874090719169, 51.57169166227269, 0),\n",
       " (50.8874090719169, 51.57169166227269, 0),\n",
       " (50.8874090719169, 51.57169166227269, 10),\n",
       " (7.303834383369789, 62.94549122340241, 10),\n",
       " (7.303834383369789, 62.94549122340241, 0),\n",
       " (7.303834383369789, 62.94549122340241, 10),\n",
       " (50.8874090719169, 51.57169166227269, 10),\n",
       " (50.8874090719169, 51.57169166227269, 0)]"
      ]
     },
     "execution_count": 32,
     "metadata": {},
     "output_type": "execute_result"
    }
   ],
   "source": [
    "# create obstacle avoided route\n",
    "\n",
    "route_2, msg = create_shortest_dijkstra_path(route_1_dp, delivary_loc.copy(), obstacles, drone_height, drone_max_height)\n",
    "route_2"
   ]
  },
  {
   "cell_type": "code",
   "execution_count": 33,
   "metadata": {},
   "outputs": [
    {
     "data": {
      "application/vnd.plotly.v1+json": {
       "config": {
        "plotlyServerURL": "https://plot.ly"
       },
       "data": [
        {
         "color": "red",
         "i": [
          0,
          0
         ],
         "j": [
          1,
          2
         ],
         "k": [
          2,
          3
         ],
         "opacity": 0.5,
         "type": "mesh3d",
         "x": [
          10,
          40,
          40,
          10
         ],
         "y": [
          10,
          10,
          10,
          10
         ],
         "z": [
          0,
          0,
          12,
          12
         ]
        },
        {
         "color": "red",
         "i": [
          0,
          0
         ],
         "j": [
          1,
          2
         ],
         "k": [
          2,
          3
         ],
         "opacity": 0.5,
         "type": "mesh3d",
         "x": [
          40,
          40,
          40,
          40
         ],
         "y": [
          10,
          25,
          25,
          10
         ],
         "z": [
          0,
          0,
          12,
          12
         ]
        },
        {
         "color": "red",
         "i": [
          0,
          0
         ],
         "j": [
          1,
          2
         ],
         "k": [
          2,
          3
         ],
         "opacity": 0.5,
         "type": "mesh3d",
         "x": [
          40,
          25,
          25,
          40
         ],
         "y": [
          25,
          25,
          25,
          25
         ],
         "z": [
          0,
          0,
          12,
          12
         ]
        },
        {
         "color": "red",
         "i": [
          0,
          0
         ],
         "j": [
          1,
          2
         ],
         "k": [
          2,
          3
         ],
         "opacity": 0.5,
         "type": "mesh3d",
         "x": [
          25,
          25,
          25,
          25
         ],
         "y": [
          25,
          40,
          40,
          25
         ],
         "z": [
          0,
          0,
          12,
          12
         ]
        },
        {
         "color": "red",
         "i": [
          0,
          0
         ],
         "j": [
          1,
          2
         ],
         "k": [
          2,
          3
         ],
         "opacity": 0.5,
         "type": "mesh3d",
         "x": [
          25,
          10,
          10,
          25
         ],
         "y": [
          40,
          40,
          40,
          40
         ],
         "z": [
          0,
          0,
          12,
          12
         ]
        },
        {
         "color": "red",
         "i": [
          0,
          0
         ],
         "j": [
          1,
          2
         ],
         "k": [
          2,
          3
         ],
         "opacity": 0.5,
         "type": "mesh3d",
         "x": [
          10,
          10,
          10,
          10
         ],
         "y": [
          40,
          10,
          10,
          40
         ],
         "z": [
          0,
          0,
          12,
          12
         ]
        },
        {
         "color": "red",
         "i": [
          0,
          0
         ],
         "j": [
          1,
          2
         ],
         "k": [
          2,
          3
         ],
         "opacity": 0.5,
         "type": "mesh3d",
         "x": [
          10,
          10,
          10,
          10
         ],
         "y": [
          10,
          10,
          10,
          10
         ],
         "z": [
          0,
          0,
          12,
          12
         ]
        },
        {
         "line": {
          "color": "black",
          "width": 3
         },
         "mode": "lines",
         "type": "scatter3d",
         "x": [
          10,
          40,
          40,
          25,
          25,
          10,
          10,
          10
         ],
         "y": [
          10,
          10,
          25,
          25,
          40,
          40,
          10,
          10
         ],
         "z": [
          12,
          12,
          12,
          12,
          12,
          12,
          12,
          12
         ]
        },
        {
         "line": {
          "color": "black",
          "width": 3
         },
         "mode": "lines",
         "type": "scatter3d",
         "x": [
          10,
          40,
          40,
          25,
          25,
          10,
          10,
          10
         ],
         "y": [
          10,
          10,
          25,
          25,
          40,
          40,
          10,
          10
         ],
         "z": [
          0,
          0,
          0,
          0,
          0,
          0,
          0,
          0
         ]
        },
        {
         "line": {
          "color": "black",
          "width": 3
         },
         "mode": "lines",
         "type": "scatter3d",
         "x": [
          10,
          10,
          40,
          40,
          10
         ],
         "y": [
          10,
          10,
          10,
          10,
          10
         ],
         "z": [
          0,
          12,
          12,
          0,
          0
         ]
        },
        {
         "line": {
          "color": "black",
          "width": 3
         },
         "mode": "lines",
         "type": "scatter3d",
         "x": [
          40,
          40,
          40,
          40,
          40
         ],
         "y": [
          10,
          10,
          25,
          25,
          10
         ],
         "z": [
          0,
          12,
          12,
          0,
          0
         ]
        },
        {
         "line": {
          "color": "black",
          "width": 3
         },
         "mode": "lines",
         "type": "scatter3d",
         "x": [
          40,
          40,
          25,
          25,
          40
         ],
         "y": [
          25,
          25,
          25,
          25,
          25
         ],
         "z": [
          0,
          12,
          12,
          0,
          0
         ]
        },
        {
         "line": {
          "color": "black",
          "width": 3
         },
         "mode": "lines",
         "type": "scatter3d",
         "x": [
          25,
          25,
          25,
          25,
          25
         ],
         "y": [
          25,
          25,
          40,
          40,
          25
         ],
         "z": [
          0,
          12,
          12,
          0,
          0
         ]
        },
        {
         "line": {
          "color": "black",
          "width": 3
         },
         "mode": "lines",
         "type": "scatter3d",
         "x": [
          25,
          25,
          10,
          10,
          25
         ],
         "y": [
          40,
          40,
          40,
          40,
          40
         ],
         "z": [
          0,
          12,
          12,
          0,
          0
         ]
        },
        {
         "line": {
          "color": "black",
          "width": 3
         },
         "mode": "lines",
         "type": "scatter3d",
         "x": [
          10,
          10,
          10,
          10,
          10
         ],
         "y": [
          40,
          40,
          10,
          10,
          40
         ],
         "z": [
          0,
          12,
          12,
          0,
          0
         ]
        },
        {
         "line": {
          "color": "black",
          "width": 3
         },
         "mode": "lines",
         "type": "scatter3d",
         "x": [
          10,
          10,
          10,
          10,
          10
         ],
         "y": [
          10,
          10,
          10,
          10,
          10
         ],
         "z": [
          0,
          12,
          12,
          0,
          0
         ]
        },
        {
         "color": "red",
         "i": [
          0,
          0
         ],
         "j": [
          1,
          2
         ],
         "k": [
          2,
          3
         ],
         "opacity": 0.5,
         "type": "mesh3d",
         "x": [
          60,
          90,
          90,
          60
         ],
         "y": [
          10,
          10,
          10,
          10
         ],
         "z": [
          0,
          0,
          14,
          14
         ]
        },
        {
         "color": "red",
         "i": [
          0,
          0
         ],
         "j": [
          1,
          2
         ],
         "k": [
          2,
          3
         ],
         "opacity": 0.5,
         "type": "mesh3d",
         "x": [
          90,
          90,
          90,
          90
         ],
         "y": [
          10,
          40,
          40,
          10
         ],
         "z": [
          0,
          0,
          14,
          14
         ]
        },
        {
         "color": "red",
         "i": [
          0,
          0
         ],
         "j": [
          1,
          2
         ],
         "k": [
          2,
          3
         ],
         "opacity": 0.5,
         "type": "mesh3d",
         "x": [
          90,
          75,
          75,
          90
         ],
         "y": [
          40,
          40,
          40,
          40
         ],
         "z": [
          0,
          0,
          14,
          14
         ]
        },
        {
         "color": "red",
         "i": [
          0,
          0
         ],
         "j": [
          1,
          2
         ],
         "k": [
          2,
          3
         ],
         "opacity": 0.5,
         "type": "mesh3d",
         "x": [
          75,
          75,
          75,
          75
         ],
         "y": [
          40,
          25,
          25,
          40
         ],
         "z": [
          0,
          0,
          14,
          14
         ]
        },
        {
         "color": "red",
         "i": [
          0,
          0
         ],
         "j": [
          1,
          2
         ],
         "k": [
          2,
          3
         ],
         "opacity": 0.5,
         "type": "mesh3d",
         "x": [
          75,
          60,
          60,
          75
         ],
         "y": [
          25,
          25,
          25,
          25
         ],
         "z": [
          0,
          0,
          14,
          14
         ]
        },
        {
         "color": "red",
         "i": [
          0,
          0
         ],
         "j": [
          1,
          2
         ],
         "k": [
          2,
          3
         ],
         "opacity": 0.5,
         "type": "mesh3d",
         "x": [
          60,
          60,
          60,
          60
         ],
         "y": [
          25,
          10,
          10,
          25
         ],
         "z": [
          0,
          0,
          14,
          14
         ]
        },
        {
         "color": "red",
         "i": [
          0,
          0
         ],
         "j": [
          1,
          2
         ],
         "k": [
          2,
          3
         ],
         "opacity": 0.5,
         "type": "mesh3d",
         "x": [
          60,
          60,
          60,
          60
         ],
         "y": [
          10,
          10,
          10,
          10
         ],
         "z": [
          0,
          0,
          14,
          14
         ]
        },
        {
         "line": {
          "color": "black",
          "width": 3
         },
         "mode": "lines",
         "type": "scatter3d",
         "x": [
          60,
          90,
          90,
          75,
          75,
          60,
          60,
          60
         ],
         "y": [
          10,
          10,
          40,
          40,
          25,
          25,
          10,
          10
         ],
         "z": [
          14,
          14,
          14,
          14,
          14,
          14,
          14,
          14
         ]
        },
        {
         "line": {
          "color": "black",
          "width": 3
         },
         "mode": "lines",
         "type": "scatter3d",
         "x": [
          60,
          90,
          90,
          75,
          75,
          60,
          60,
          60
         ],
         "y": [
          10,
          10,
          40,
          40,
          25,
          25,
          10,
          10
         ],
         "z": [
          0,
          0,
          0,
          0,
          0,
          0,
          0,
          0
         ]
        },
        {
         "line": {
          "color": "black",
          "width": 3
         },
         "mode": "lines",
         "type": "scatter3d",
         "x": [
          60,
          60,
          90,
          90,
          60
         ],
         "y": [
          10,
          10,
          10,
          10,
          10
         ],
         "z": [
          0,
          14,
          14,
          0,
          0
         ]
        },
        {
         "line": {
          "color": "black",
          "width": 3
         },
         "mode": "lines",
         "type": "scatter3d",
         "x": [
          90,
          90,
          90,
          90,
          90
         ],
         "y": [
          10,
          10,
          40,
          40,
          10
         ],
         "z": [
          0,
          14,
          14,
          0,
          0
         ]
        },
        {
         "line": {
          "color": "black",
          "width": 3
         },
         "mode": "lines",
         "type": "scatter3d",
         "x": [
          90,
          90,
          75,
          75,
          90
         ],
         "y": [
          40,
          40,
          40,
          40,
          40
         ],
         "z": [
          0,
          14,
          14,
          0,
          0
         ]
        },
        {
         "line": {
          "color": "black",
          "width": 3
         },
         "mode": "lines",
         "type": "scatter3d",
         "x": [
          75,
          75,
          75,
          75,
          75
         ],
         "y": [
          40,
          40,
          25,
          25,
          40
         ],
         "z": [
          0,
          14,
          14,
          0,
          0
         ]
        },
        {
         "line": {
          "color": "black",
          "width": 3
         },
         "mode": "lines",
         "type": "scatter3d",
         "x": [
          75,
          75,
          60,
          60,
          75
         ],
         "y": [
          25,
          25,
          25,
          25,
          25
         ],
         "z": [
          0,
          14,
          14,
          0,
          0
         ]
        },
        {
         "line": {
          "color": "black",
          "width": 3
         },
         "mode": "lines",
         "type": "scatter3d",
         "x": [
          60,
          60,
          60,
          60,
          60
         ],
         "y": [
          25,
          25,
          10,
          10,
          25
         ],
         "z": [
          0,
          14,
          14,
          0,
          0
         ]
        },
        {
         "line": {
          "color": "black",
          "width": 3
         },
         "mode": "lines",
         "type": "scatter3d",
         "x": [
          60,
          60,
          60,
          60,
          60
         ],
         "y": [
          10,
          10,
          10,
          10,
          10
         ],
         "z": [
          0,
          14,
          14,
          0,
          0
         ]
        },
        {
         "color": "red",
         "i": [
          0,
          0
         ],
         "j": [
          1,
          2
         ],
         "k": [
          2,
          3
         ],
         "opacity": 0.5,
         "type": "mesh3d",
         "x": [
          10,
          25,
          25,
          10
         ],
         "y": [
          60,
          60,
          60,
          60
         ],
         "z": [
          0,
          0,
          8,
          8
         ]
        },
        {
         "color": "red",
         "i": [
          0,
          0
         ],
         "j": [
          1,
          2
         ],
         "k": [
          2,
          3
         ],
         "opacity": 0.5,
         "type": "mesh3d",
         "x": [
          25,
          25,
          25,
          25
         ],
         "y": [
          60,
          75,
          75,
          60
         ],
         "z": [
          0,
          0,
          8,
          8
         ]
        },
        {
         "color": "red",
         "i": [
          0,
          0
         ],
         "j": [
          1,
          2
         ],
         "k": [
          2,
          3
         ],
         "opacity": 0.5,
         "type": "mesh3d",
         "x": [
          25,
          40,
          40,
          25
         ],
         "y": [
          75,
          75,
          75,
          75
         ],
         "z": [
          0,
          0,
          8,
          8
         ]
        },
        {
         "color": "red",
         "i": [
          0,
          0
         ],
         "j": [
          1,
          2
         ],
         "k": [
          2,
          3
         ],
         "opacity": 0.5,
         "type": "mesh3d",
         "x": [
          40,
          40,
          40,
          40
         ],
         "y": [
          75,
          90,
          90,
          75
         ],
         "z": [
          0,
          0,
          8,
          8
         ]
        },
        {
         "color": "red",
         "i": [
          0,
          0
         ],
         "j": [
          1,
          2
         ],
         "k": [
          2,
          3
         ],
         "opacity": 0.5,
         "type": "mesh3d",
         "x": [
          40,
          10,
          10,
          40
         ],
         "y": [
          90,
          90,
          90,
          90
         ],
         "z": [
          0,
          0,
          8,
          8
         ]
        },
        {
         "color": "red",
         "i": [
          0,
          0
         ],
         "j": [
          1,
          2
         ],
         "k": [
          2,
          3
         ],
         "opacity": 0.5,
         "type": "mesh3d",
         "x": [
          10,
          10,
          10,
          10
         ],
         "y": [
          90,
          60,
          60,
          90
         ],
         "z": [
          0,
          0,
          8,
          8
         ]
        },
        {
         "color": "red",
         "i": [
          0,
          0
         ],
         "j": [
          1,
          2
         ],
         "k": [
          2,
          3
         ],
         "opacity": 0.5,
         "type": "mesh3d",
         "x": [
          10,
          10,
          10,
          10
         ],
         "y": [
          60,
          60,
          60,
          60
         ],
         "z": [
          0,
          0,
          8,
          8
         ]
        },
        {
         "line": {
          "color": "black",
          "width": 3
         },
         "mode": "lines",
         "type": "scatter3d",
         "x": [
          10,
          25,
          25,
          40,
          40,
          10,
          10,
          10
         ],
         "y": [
          60,
          60,
          75,
          75,
          90,
          90,
          60,
          60
         ],
         "z": [
          8,
          8,
          8,
          8,
          8,
          8,
          8,
          8
         ]
        },
        {
         "line": {
          "color": "black",
          "width": 3
         },
         "mode": "lines",
         "type": "scatter3d",
         "x": [
          10,
          25,
          25,
          40,
          40,
          10,
          10,
          10
         ],
         "y": [
          60,
          60,
          75,
          75,
          90,
          90,
          60,
          60
         ],
         "z": [
          0,
          0,
          0,
          0,
          0,
          0,
          0,
          0
         ]
        },
        {
         "line": {
          "color": "black",
          "width": 3
         },
         "mode": "lines",
         "type": "scatter3d",
         "x": [
          10,
          10,
          25,
          25,
          10
         ],
         "y": [
          60,
          60,
          60,
          60,
          60
         ],
         "z": [
          0,
          8,
          8,
          0,
          0
         ]
        },
        {
         "line": {
          "color": "black",
          "width": 3
         },
         "mode": "lines",
         "type": "scatter3d",
         "x": [
          25,
          25,
          25,
          25,
          25
         ],
         "y": [
          60,
          60,
          75,
          75,
          60
         ],
         "z": [
          0,
          8,
          8,
          0,
          0
         ]
        },
        {
         "line": {
          "color": "black",
          "width": 3
         },
         "mode": "lines",
         "type": "scatter3d",
         "x": [
          25,
          25,
          40,
          40,
          25
         ],
         "y": [
          75,
          75,
          75,
          75,
          75
         ],
         "z": [
          0,
          8,
          8,
          0,
          0
         ]
        },
        {
         "line": {
          "color": "black",
          "width": 3
         },
         "mode": "lines",
         "type": "scatter3d",
         "x": [
          40,
          40,
          40,
          40,
          40
         ],
         "y": [
          75,
          75,
          90,
          90,
          75
         ],
         "z": [
          0,
          8,
          8,
          0,
          0
         ]
        },
        {
         "line": {
          "color": "black",
          "width": 3
         },
         "mode": "lines",
         "type": "scatter3d",
         "x": [
          40,
          40,
          10,
          10,
          40
         ],
         "y": [
          90,
          90,
          90,
          90,
          90
         ],
         "z": [
          0,
          8,
          8,
          0,
          0
         ]
        },
        {
         "line": {
          "color": "black",
          "width": 3
         },
         "mode": "lines",
         "type": "scatter3d",
         "x": [
          10,
          10,
          10,
          10,
          10
         ],
         "y": [
          90,
          90,
          60,
          60,
          90
         ],
         "z": [
          0,
          8,
          8,
          0,
          0
         ]
        },
        {
         "line": {
          "color": "black",
          "width": 3
         },
         "mode": "lines",
         "type": "scatter3d",
         "x": [
          10,
          10,
          10,
          10,
          10
         ],
         "y": [
          60,
          60,
          60,
          60,
          60
         ],
         "z": [
          0,
          8,
          8,
          0,
          0
         ]
        },
        {
         "color": "red",
         "i": [
          0,
          0
         ],
         "j": [
          1,
          2
         ],
         "k": [
          2,
          3
         ],
         "opacity": 0.5,
         "type": "mesh3d",
         "x": [
          60,
          90,
          90,
          60
         ],
         "y": [
          90,
          90,
          90,
          90
         ],
         "z": [
          0,
          0,
          16,
          16
         ]
        },
        {
         "color": "red",
         "i": [
          0,
          0
         ],
         "j": [
          1,
          2
         ],
         "k": [
          2,
          3
         ],
         "opacity": 0.5,
         "type": "mesh3d",
         "x": [
          90,
          90,
          90,
          90
         ],
         "y": [
          90,
          60,
          60,
          90
         ],
         "z": [
          0,
          0,
          16,
          16
         ]
        },
        {
         "color": "red",
         "i": [
          0,
          0
         ],
         "j": [
          1,
          2
         ],
         "k": [
          2,
          3
         ],
         "opacity": 0.5,
         "type": "mesh3d",
         "x": [
          90,
          75,
          75,
          90
         ],
         "y": [
          60,
          60,
          60,
          60
         ],
         "z": [
          0,
          0,
          16,
          16
         ]
        },
        {
         "color": "red",
         "i": [
          0,
          0
         ],
         "j": [
          1,
          2
         ],
         "k": [
          2,
          3
         ],
         "opacity": 0.5,
         "type": "mesh3d",
         "x": [
          75,
          75,
          75,
          75
         ],
         "y": [
          60,
          75,
          75,
          60
         ],
         "z": [
          0,
          0,
          16,
          16
         ]
        },
        {
         "color": "red",
         "i": [
          0,
          0
         ],
         "j": [
          1,
          2
         ],
         "k": [
          2,
          3
         ],
         "opacity": 0.5,
         "type": "mesh3d",
         "x": [
          75,
          60,
          60,
          75
         ],
         "y": [
          75,
          75,
          75,
          75
         ],
         "z": [
          0,
          0,
          16,
          16
         ]
        },
        {
         "color": "red",
         "i": [
          0,
          0
         ],
         "j": [
          1,
          2
         ],
         "k": [
          2,
          3
         ],
         "opacity": 0.5,
         "type": "mesh3d",
         "x": [
          60,
          60,
          60,
          60
         ],
         "y": [
          75,
          90,
          90,
          75
         ],
         "z": [
          0,
          0,
          16,
          16
         ]
        },
        {
         "color": "red",
         "i": [
          0,
          0
         ],
         "j": [
          1,
          2
         ],
         "k": [
          2,
          3
         ],
         "opacity": 0.5,
         "type": "mesh3d",
         "x": [
          60,
          60,
          60,
          60
         ],
         "y": [
          90,
          90,
          90,
          90
         ],
         "z": [
          0,
          0,
          16,
          16
         ]
        },
        {
         "line": {
          "color": "black",
          "width": 3
         },
         "mode": "lines",
         "type": "scatter3d",
         "x": [
          60,
          90,
          90,
          75,
          75,
          60,
          60,
          60
         ],
         "y": [
          90,
          90,
          60,
          60,
          75,
          75,
          90,
          90
         ],
         "z": [
          16,
          16,
          16,
          16,
          16,
          16,
          16,
          16
         ]
        },
        {
         "line": {
          "color": "black",
          "width": 3
         },
         "mode": "lines",
         "type": "scatter3d",
         "x": [
          60,
          90,
          90,
          75,
          75,
          60,
          60,
          60
         ],
         "y": [
          90,
          90,
          60,
          60,
          75,
          75,
          90,
          90
         ],
         "z": [
          0,
          0,
          0,
          0,
          0,
          0,
          0,
          0
         ]
        },
        {
         "line": {
          "color": "black",
          "width": 3
         },
         "mode": "lines",
         "type": "scatter3d",
         "x": [
          60,
          60,
          90,
          90,
          60
         ],
         "y": [
          90,
          90,
          90,
          90,
          90
         ],
         "z": [
          0,
          16,
          16,
          0,
          0
         ]
        },
        {
         "line": {
          "color": "black",
          "width": 3
         },
         "mode": "lines",
         "type": "scatter3d",
         "x": [
          90,
          90,
          90,
          90,
          90
         ],
         "y": [
          90,
          90,
          60,
          60,
          90
         ],
         "z": [
          0,
          16,
          16,
          0,
          0
         ]
        },
        {
         "line": {
          "color": "black",
          "width": 3
         },
         "mode": "lines",
         "type": "scatter3d",
         "x": [
          90,
          90,
          75,
          75,
          90
         ],
         "y": [
          60,
          60,
          60,
          60,
          60
         ],
         "z": [
          0,
          16,
          16,
          0,
          0
         ]
        },
        {
         "line": {
          "color": "black",
          "width": 3
         },
         "mode": "lines",
         "type": "scatter3d",
         "x": [
          75,
          75,
          75,
          75,
          75
         ],
         "y": [
          60,
          60,
          75,
          75,
          60
         ],
         "z": [
          0,
          16,
          16,
          0,
          0
         ]
        },
        {
         "line": {
          "color": "black",
          "width": 3
         },
         "mode": "lines",
         "type": "scatter3d",
         "x": [
          75,
          75,
          60,
          60,
          75
         ],
         "y": [
          75,
          75,
          75,
          75,
          75
         ],
         "z": [
          0,
          16,
          16,
          0,
          0
         ]
        },
        {
         "line": {
          "color": "black",
          "width": 3
         },
         "mode": "lines",
         "type": "scatter3d",
         "x": [
          60,
          60,
          60,
          60,
          60
         ],
         "y": [
          75,
          75,
          90,
          90,
          75
         ],
         "z": [
          0,
          16,
          16,
          0,
          0
         ]
        },
        {
         "line": {
          "color": "black",
          "width": 3
         },
         "mode": "lines",
         "type": "scatter3d",
         "x": [
          60,
          60,
          60,
          60,
          60
         ],
         "y": [
          90,
          90,
          90,
          90,
          90
         ],
         "z": [
          0,
          16,
          16,
          0,
          0
         ]
        },
        {
         "marker": {
          "color": "blue",
          "size": 5
         },
         "mode": "markers",
         "type": "scatter3d",
         "x": [
          45.23795535098186,
          92.42105840237294,
          50.78412730622711,
          18.46603438548766,
          9.412345622921848,
          9.06705374918394,
          69.34384825412391,
          98.21934207987782,
          65.39225335338405,
          15.749409514016243,
          52.83812661704788,
          3.008258922478857,
          44.05311166566568,
          51.91241147640767,
          49.977315220679166,
          45.73298815995577,
          99.76562004630843,
          91.02719281041814,
          98.03589411742921,
          7.303834383369789
         ],
         "y": [
          55.977238608049596,
          46.565007009977336,
          58.73848288498969,
          51.19086390418055,
          30.34012626245255,
          80.96445343671775,
          4.188033636984601,
          96.47577811255668,
          61.556270457857075,
          1.500073694960491,
          5.955110516885497,
          46.393446122328456,
          84.2427128518532,
          64.02917079191771,
          66.24495318903682,
          27.816289966388585,
          99.56916416561992,
          46.99872760136664,
          39.74243880792812,
          62.94549122340241
         ],
         "z": [
          0,
          0,
          0,
          0,
          0,
          0,
          0,
          0,
          0,
          0,
          0,
          0,
          0,
          0,
          0,
          0,
          0,
          0,
          0,
          0
         ]
        },
        {
         "marker": {
          "color": "orange",
          "size": 8
         },
         "mode": "markers",
         "type": "scatter3d",
         "x": [
          50.8874090719169
         ],
         "y": [
          51.57169166227269
         ],
         "z": [
          0
         ]
        },
        {
         "line": {
          "color": "gray",
          "width": 5
         },
         "mode": "lines",
         "type": "scatter3d",
         "x": [
          50.8874090719169,
          50.8874090719169,
          45.23795535098186,
          45.23795535098186,
          45.23795535098186,
          50.8874090719169,
          50.8874090719169,
          50.8874090719169,
          50.8874090719169,
          92.42105840237294,
          92.42105840237294,
          92.42105840237294,
          50.8874090719169,
          50.8874090719169,
          50.8874090719169,
          50.8874090719169,
          50.78412730622711,
          50.78412730622711,
          50.78412730622711,
          50.8874090719169,
          50.8874090719169,
          50.8874090719169,
          50.8874090719169,
          18.46603438548766,
          18.46603438548766,
          18.46603438548766,
          50.8874090719169,
          50.8874090719169,
          50.8874090719169,
          50.8874090719169,
          25,
          10,
          9.412345622921848,
          9.412345622921848,
          9.412345622921848,
          10,
          25,
          50.8874090719169,
          50.8874090719169,
          50.8874090719169,
          50.8874090719169,
          9.06705374918394,
          9.06705374918394,
          9.06705374918394,
          50.8874090719169,
          50.8874090719169,
          50.8874090719169,
          50.8874090719169,
          61,
          67,
          69.34384825412391,
          69.34384825412391,
          69.34384825412391,
          67,
          61,
          50.8874090719169,
          50.8874090719169,
          50.8874090719169,
          50.8874090719169,
          90,
          98.21934207987782,
          98.21934207987782,
          98.21934207987782,
          90,
          50.8874090719169,
          50.8874090719169,
          50.8874090719169,
          50.8874090719169,
          65.39225335338405,
          65.39225335338405,
          65.39225335338405,
          50.8874090719169,
          50.8874090719169,
          50.8874090719169,
          50.8874090719169,
          32,
          22,
          15.749409514016243,
          15.749409514016243,
          15.749409514016243,
          22,
          32,
          50.8874090719169,
          50.8874090719169,
          50.8874090719169,
          50.8874090719169,
          52.83812661704788,
          52.83812661704788,
          52.83812661704788,
          50.8874090719169,
          50.8874090719169,
          50.8874090719169,
          50.8874090719169,
          3.008258922478857,
          3.008258922478857,
          3.008258922478857,
          50.8874090719169,
          50.8874090719169,
          50.8874090719169,
          50.8874090719169,
          44.05311166566568,
          44.05311166566568,
          44.05311166566568,
          50.8874090719169,
          50.8874090719169,
          50.8874090719169,
          50.8874090719169,
          51.91241147640767,
          51.91241147640767,
          51.91241147640767,
          50.8874090719169,
          50.8874090719169,
          50.8874090719169,
          50.8874090719169,
          49.977315220679166,
          49.977315220679166,
          49.977315220679166,
          50.8874090719169,
          50.8874090719169,
          50.8874090719169,
          50.8874090719169,
          45.73298815995577,
          45.73298815995577,
          45.73298815995577,
          50.8874090719169,
          50.8874090719169,
          50.8874090719169,
          50.8874090719169,
          60,
          99.76562004630843,
          99.76562004630843,
          99.76562004630843,
          60,
          50.8874090719169,
          50.8874090719169,
          50.8874090719169,
          50.8874090719169,
          91.02719281041814,
          91.02719281041814,
          91.02719281041814,
          50.8874090719169,
          50.8874090719169,
          50.8874090719169,
          50.8874090719169,
          98.03589411742921,
          98.03589411742921,
          98.03589411742921,
          50.8874090719169,
          50.8874090719169,
          50.8874090719169,
          50.8874090719169,
          7.303834383369789,
          7.303834383369789,
          7.303834383369789,
          50.8874090719169,
          50.8874090719169
         ],
         "y": [
          51.57169166227269,
          51.57169166227269,
          55.977238608049596,
          55.977238608049596,
          55.977238608049596,
          51.57169166227269,
          51.57169166227269,
          51.57169166227269,
          51.57169166227269,
          46.565007009977336,
          46.565007009977336,
          46.565007009977336,
          51.57169166227269,
          51.57169166227269,
          51.57169166227269,
          51.57169166227269,
          58.73848288498969,
          58.73848288498969,
          58.73848288498969,
          51.57169166227269,
          51.57169166227269,
          51.57169166227269,
          51.57169166227269,
          51.19086390418055,
          51.19086390418055,
          51.19086390418055,
          51.57169166227269,
          51.57169166227269,
          51.57169166227269,
          51.57169166227269,
          39,
          31,
          30.34012626245255,
          30.34012626245255,
          30.34012626245255,
          31,
          39,
          51.57169166227269,
          51.57169166227269,
          51.57169166227269,
          51.57169166227269,
          80.96445343671775,
          80.96445343671775,
          80.96445343671775,
          51.57169166227269,
          51.57169166227269,
          51.57169166227269,
          51.57169166227269,
          25,
          10,
          4.188033636984601,
          4.188033636984601,
          4.188033636984601,
          10,
          25,
          51.57169166227269,
          51.57169166227269,
          51.57169166227269,
          51.57169166227269,
          60,
          96.47577811255668,
          96.47577811255668,
          96.47577811255668,
          60,
          51.57169166227269,
          51.57169166227269,
          51.57169166227269,
          51.57169166227269,
          61.556270457857075,
          61.556270457857075,
          61.556270457857075,
          51.57169166227269,
          51.57169166227269,
          51.57169166227269,
          51.57169166227269,
          25,
          10,
          1.500073694960491,
          1.500073694960491,
          1.500073694960491,
          10,
          25,
          51.57169166227269,
          51.57169166227269,
          51.57169166227269,
          51.57169166227269,
          5.955110516885497,
          5.955110516885497,
          5.955110516885497,
          51.57169166227269,
          51.57169166227269,
          51.57169166227269,
          51.57169166227269,
          46.393446122328456,
          46.393446122328456,
          46.393446122328456,
          51.57169166227269,
          51.57169166227269,
          51.57169166227269,
          51.57169166227269,
          84.2427128518532,
          84.2427128518532,
          84.2427128518532,
          51.57169166227269,
          51.57169166227269,
          51.57169166227269,
          51.57169166227269,
          64.02917079191771,
          64.02917079191771,
          64.02917079191771,
          51.57169166227269,
          51.57169166227269,
          51.57169166227269,
          51.57169166227269,
          66.24495318903682,
          66.24495318903682,
          66.24495318903682,
          51.57169166227269,
          51.57169166227269,
          51.57169166227269,
          51.57169166227269,
          27.816289966388585,
          27.816289966388585,
          27.816289966388585,
          51.57169166227269,
          51.57169166227269,
          51.57169166227269,
          51.57169166227269,
          90,
          99.56916416561992,
          99.56916416561992,
          99.56916416561992,
          90,
          51.57169166227269,
          51.57169166227269,
          51.57169166227269,
          51.57169166227269,
          46.99872760136664,
          46.99872760136664,
          46.99872760136664,
          51.57169166227269,
          51.57169166227269,
          51.57169166227269,
          51.57169166227269,
          39.74243880792812,
          39.74243880792812,
          39.74243880792812,
          51.57169166227269,
          51.57169166227269,
          51.57169166227269,
          51.57169166227269,
          62.94549122340241,
          62.94549122340241,
          62.94549122340241,
          51.57169166227269,
          51.57169166227269
         ],
         "z": [
          0,
          10,
          10,
          0,
          10,
          10,
          0,
          0,
          10,
          10,
          0,
          10,
          10,
          0,
          0,
          10,
          10,
          0,
          10,
          10,
          0,
          0,
          10,
          10,
          0,
          10,
          10,
          0,
          0,
          10,
          12.005,
          12.005,
          10,
          0,
          10,
          12.005,
          12.005,
          10,
          0,
          0,
          10,
          10,
          0,
          10,
          10,
          0,
          0,
          10,
          14.005,
          14.005,
          10,
          0,
          10,
          14.005,
          14.005,
          10,
          0,
          0,
          10,
          10.005,
          10,
          0,
          10,
          10.005,
          10,
          0,
          0,
          10,
          10,
          0,
          10,
          10,
          0,
          0,
          10,
          12.005,
          12.005,
          10,
          0,
          10,
          12.005,
          12.005,
          10,
          0,
          0,
          10,
          10,
          0,
          10,
          10,
          0,
          0,
          10,
          10,
          0,
          10,
          10,
          0,
          0,
          10,
          10,
          0,
          10,
          10,
          0,
          0,
          10,
          10,
          0,
          10,
          10,
          0,
          0,
          10,
          10,
          0,
          10,
          10,
          0,
          0,
          10,
          10,
          0,
          10,
          10,
          0,
          0,
          10,
          10.005,
          10,
          0,
          10,
          10.005,
          10,
          0,
          0,
          10,
          10,
          0,
          10,
          10,
          0,
          0,
          10,
          10,
          0,
          10,
          10,
          0,
          0,
          10,
          10,
          0,
          10,
          10,
          0
         ]
        }
       ],
       "layout": {
        "height": 800,
        "scene": {
         "aspectmode": "cube",
         "xaxis": {
          "title": {
           "text": "X"
          }
         },
         "yaxis": {
          "title": {
           "text": "Y"
          }
         },
         "zaxis": {
          "title": {
           "text": "Height"
          }
         }
        },
        "template": {
         "data": {
          "bar": [
           {
            "error_x": {
             "color": "#2a3f5f"
            },
            "error_y": {
             "color": "#2a3f5f"
            },
            "marker": {
             "line": {
              "color": "#E5ECF6",
              "width": 0.5
             },
             "pattern": {
              "fillmode": "overlay",
              "size": 10,
              "solidity": 0.2
             }
            },
            "type": "bar"
           }
          ],
          "barpolar": [
           {
            "marker": {
             "line": {
              "color": "#E5ECF6",
              "width": 0.5
             },
             "pattern": {
              "fillmode": "overlay",
              "size": 10,
              "solidity": 0.2
             }
            },
            "type": "barpolar"
           }
          ],
          "carpet": [
           {
            "aaxis": {
             "endlinecolor": "#2a3f5f",
             "gridcolor": "white",
             "linecolor": "white",
             "minorgridcolor": "white",
             "startlinecolor": "#2a3f5f"
            },
            "baxis": {
             "endlinecolor": "#2a3f5f",
             "gridcolor": "white",
             "linecolor": "white",
             "minorgridcolor": "white",
             "startlinecolor": "#2a3f5f"
            },
            "type": "carpet"
           }
          ],
          "choropleth": [
           {
            "colorbar": {
             "outlinewidth": 0,
             "ticks": ""
            },
            "type": "choropleth"
           }
          ],
          "contour": [
           {
            "colorbar": {
             "outlinewidth": 0,
             "ticks": ""
            },
            "colorscale": [
             [
              0,
              "#0d0887"
             ],
             [
              0.1111111111111111,
              "#46039f"
             ],
             [
              0.2222222222222222,
              "#7201a8"
             ],
             [
              0.3333333333333333,
              "#9c179e"
             ],
             [
              0.4444444444444444,
              "#bd3786"
             ],
             [
              0.5555555555555556,
              "#d8576b"
             ],
             [
              0.6666666666666666,
              "#ed7953"
             ],
             [
              0.7777777777777778,
              "#fb9f3a"
             ],
             [
              0.8888888888888888,
              "#fdca26"
             ],
             [
              1,
              "#f0f921"
             ]
            ],
            "type": "contour"
           }
          ],
          "contourcarpet": [
           {
            "colorbar": {
             "outlinewidth": 0,
             "ticks": ""
            },
            "type": "contourcarpet"
           }
          ],
          "heatmap": [
           {
            "colorbar": {
             "outlinewidth": 0,
             "ticks": ""
            },
            "colorscale": [
             [
              0,
              "#0d0887"
             ],
             [
              0.1111111111111111,
              "#46039f"
             ],
             [
              0.2222222222222222,
              "#7201a8"
             ],
             [
              0.3333333333333333,
              "#9c179e"
             ],
             [
              0.4444444444444444,
              "#bd3786"
             ],
             [
              0.5555555555555556,
              "#d8576b"
             ],
             [
              0.6666666666666666,
              "#ed7953"
             ],
             [
              0.7777777777777778,
              "#fb9f3a"
             ],
             [
              0.8888888888888888,
              "#fdca26"
             ],
             [
              1,
              "#f0f921"
             ]
            ],
            "type": "heatmap"
           }
          ],
          "heatmapgl": [
           {
            "colorbar": {
             "outlinewidth": 0,
             "ticks": ""
            },
            "colorscale": [
             [
              0,
              "#0d0887"
             ],
             [
              0.1111111111111111,
              "#46039f"
             ],
             [
              0.2222222222222222,
              "#7201a8"
             ],
             [
              0.3333333333333333,
              "#9c179e"
             ],
             [
              0.4444444444444444,
              "#bd3786"
             ],
             [
              0.5555555555555556,
              "#d8576b"
             ],
             [
              0.6666666666666666,
              "#ed7953"
             ],
             [
              0.7777777777777778,
              "#fb9f3a"
             ],
             [
              0.8888888888888888,
              "#fdca26"
             ],
             [
              1,
              "#f0f921"
             ]
            ],
            "type": "heatmapgl"
           }
          ],
          "histogram": [
           {
            "marker": {
             "pattern": {
              "fillmode": "overlay",
              "size": 10,
              "solidity": 0.2
             }
            },
            "type": "histogram"
           }
          ],
          "histogram2d": [
           {
            "colorbar": {
             "outlinewidth": 0,
             "ticks": ""
            },
            "colorscale": [
             [
              0,
              "#0d0887"
             ],
             [
              0.1111111111111111,
              "#46039f"
             ],
             [
              0.2222222222222222,
              "#7201a8"
             ],
             [
              0.3333333333333333,
              "#9c179e"
             ],
             [
              0.4444444444444444,
              "#bd3786"
             ],
             [
              0.5555555555555556,
              "#d8576b"
             ],
             [
              0.6666666666666666,
              "#ed7953"
             ],
             [
              0.7777777777777778,
              "#fb9f3a"
             ],
             [
              0.8888888888888888,
              "#fdca26"
             ],
             [
              1,
              "#f0f921"
             ]
            ],
            "type": "histogram2d"
           }
          ],
          "histogram2dcontour": [
           {
            "colorbar": {
             "outlinewidth": 0,
             "ticks": ""
            },
            "colorscale": [
             [
              0,
              "#0d0887"
             ],
             [
              0.1111111111111111,
              "#46039f"
             ],
             [
              0.2222222222222222,
              "#7201a8"
             ],
             [
              0.3333333333333333,
              "#9c179e"
             ],
             [
              0.4444444444444444,
              "#bd3786"
             ],
             [
              0.5555555555555556,
              "#d8576b"
             ],
             [
              0.6666666666666666,
              "#ed7953"
             ],
             [
              0.7777777777777778,
              "#fb9f3a"
             ],
             [
              0.8888888888888888,
              "#fdca26"
             ],
             [
              1,
              "#f0f921"
             ]
            ],
            "type": "histogram2dcontour"
           }
          ],
          "mesh3d": [
           {
            "colorbar": {
             "outlinewidth": 0,
             "ticks": ""
            },
            "type": "mesh3d"
           }
          ],
          "parcoords": [
           {
            "line": {
             "colorbar": {
              "outlinewidth": 0,
              "ticks": ""
             }
            },
            "type": "parcoords"
           }
          ],
          "pie": [
           {
            "automargin": true,
            "type": "pie"
           }
          ],
          "scatter": [
           {
            "fillpattern": {
             "fillmode": "overlay",
             "size": 10,
             "solidity": 0.2
            },
            "type": "scatter"
           }
          ],
          "scatter3d": [
           {
            "line": {
             "colorbar": {
              "outlinewidth": 0,
              "ticks": ""
             }
            },
            "marker": {
             "colorbar": {
              "outlinewidth": 0,
              "ticks": ""
             }
            },
            "type": "scatter3d"
           }
          ],
          "scattercarpet": [
           {
            "marker": {
             "colorbar": {
              "outlinewidth": 0,
              "ticks": ""
             }
            },
            "type": "scattercarpet"
           }
          ],
          "scattergeo": [
           {
            "marker": {
             "colorbar": {
              "outlinewidth": 0,
              "ticks": ""
             }
            },
            "type": "scattergeo"
           }
          ],
          "scattergl": [
           {
            "marker": {
             "colorbar": {
              "outlinewidth": 0,
              "ticks": ""
             }
            },
            "type": "scattergl"
           }
          ],
          "scattermapbox": [
           {
            "marker": {
             "colorbar": {
              "outlinewidth": 0,
              "ticks": ""
             }
            },
            "type": "scattermapbox"
           }
          ],
          "scatterpolar": [
           {
            "marker": {
             "colorbar": {
              "outlinewidth": 0,
              "ticks": ""
             }
            },
            "type": "scatterpolar"
           }
          ],
          "scatterpolargl": [
           {
            "marker": {
             "colorbar": {
              "outlinewidth": 0,
              "ticks": ""
             }
            },
            "type": "scatterpolargl"
           }
          ],
          "scatterternary": [
           {
            "marker": {
             "colorbar": {
              "outlinewidth": 0,
              "ticks": ""
             }
            },
            "type": "scatterternary"
           }
          ],
          "surface": [
           {
            "colorbar": {
             "outlinewidth": 0,
             "ticks": ""
            },
            "colorscale": [
             [
              0,
              "#0d0887"
             ],
             [
              0.1111111111111111,
              "#46039f"
             ],
             [
              0.2222222222222222,
              "#7201a8"
             ],
             [
              0.3333333333333333,
              "#9c179e"
             ],
             [
              0.4444444444444444,
              "#bd3786"
             ],
             [
              0.5555555555555556,
              "#d8576b"
             ],
             [
              0.6666666666666666,
              "#ed7953"
             ],
             [
              0.7777777777777778,
              "#fb9f3a"
             ],
             [
              0.8888888888888888,
              "#fdca26"
             ],
             [
              1,
              "#f0f921"
             ]
            ],
            "type": "surface"
           }
          ],
          "table": [
           {
            "cells": {
             "fill": {
              "color": "#EBF0F8"
             },
             "line": {
              "color": "white"
             }
            },
            "header": {
             "fill": {
              "color": "#C8D4E3"
             },
             "line": {
              "color": "white"
             }
            },
            "type": "table"
           }
          ]
         },
         "layout": {
          "annotationdefaults": {
           "arrowcolor": "#2a3f5f",
           "arrowhead": 0,
           "arrowwidth": 1
          },
          "autotypenumbers": "strict",
          "coloraxis": {
           "colorbar": {
            "outlinewidth": 0,
            "ticks": ""
           }
          },
          "colorscale": {
           "diverging": [
            [
             0,
             "#8e0152"
            ],
            [
             0.1,
             "#c51b7d"
            ],
            [
             0.2,
             "#de77ae"
            ],
            [
             0.3,
             "#f1b6da"
            ],
            [
             0.4,
             "#fde0ef"
            ],
            [
             0.5,
             "#f7f7f7"
            ],
            [
             0.6,
             "#e6f5d0"
            ],
            [
             0.7,
             "#b8e186"
            ],
            [
             0.8,
             "#7fbc41"
            ],
            [
             0.9,
             "#4d9221"
            ],
            [
             1,
             "#276419"
            ]
           ],
           "sequential": [
            [
             0,
             "#0d0887"
            ],
            [
             0.1111111111111111,
             "#46039f"
            ],
            [
             0.2222222222222222,
             "#7201a8"
            ],
            [
             0.3333333333333333,
             "#9c179e"
            ],
            [
             0.4444444444444444,
             "#bd3786"
            ],
            [
             0.5555555555555556,
             "#d8576b"
            ],
            [
             0.6666666666666666,
             "#ed7953"
            ],
            [
             0.7777777777777778,
             "#fb9f3a"
            ],
            [
             0.8888888888888888,
             "#fdca26"
            ],
            [
             1,
             "#f0f921"
            ]
           ],
           "sequentialminus": [
            [
             0,
             "#0d0887"
            ],
            [
             0.1111111111111111,
             "#46039f"
            ],
            [
             0.2222222222222222,
             "#7201a8"
            ],
            [
             0.3333333333333333,
             "#9c179e"
            ],
            [
             0.4444444444444444,
             "#bd3786"
            ],
            [
             0.5555555555555556,
             "#d8576b"
            ],
            [
             0.6666666666666666,
             "#ed7953"
            ],
            [
             0.7777777777777778,
             "#fb9f3a"
            ],
            [
             0.8888888888888888,
             "#fdca26"
            ],
            [
             1,
             "#f0f921"
            ]
           ]
          },
          "colorway": [
           "#636efa",
           "#EF553B",
           "#00cc96",
           "#ab63fa",
           "#FFA15A",
           "#19d3f3",
           "#FF6692",
           "#B6E880",
           "#FF97FF",
           "#FECB52"
          ],
          "font": {
           "color": "#2a3f5f"
          },
          "geo": {
           "bgcolor": "white",
           "lakecolor": "white",
           "landcolor": "#E5ECF6",
           "showlakes": true,
           "showland": true,
           "subunitcolor": "white"
          },
          "hoverlabel": {
           "align": "left"
          },
          "hovermode": "closest",
          "mapbox": {
           "style": "light"
          },
          "paper_bgcolor": "white",
          "plot_bgcolor": "#E5ECF6",
          "polar": {
           "angularaxis": {
            "gridcolor": "white",
            "linecolor": "white",
            "ticks": ""
           },
           "bgcolor": "#E5ECF6",
           "radialaxis": {
            "gridcolor": "white",
            "linecolor": "white",
            "ticks": ""
           }
          },
          "scene": {
           "xaxis": {
            "backgroundcolor": "#E5ECF6",
            "gridcolor": "white",
            "gridwidth": 2,
            "linecolor": "white",
            "showbackground": true,
            "ticks": "",
            "zerolinecolor": "white"
           },
           "yaxis": {
            "backgroundcolor": "#E5ECF6",
            "gridcolor": "white",
            "gridwidth": 2,
            "linecolor": "white",
            "showbackground": true,
            "ticks": "",
            "zerolinecolor": "white"
           },
           "zaxis": {
            "backgroundcolor": "#E5ECF6",
            "gridcolor": "white",
            "gridwidth": 2,
            "linecolor": "white",
            "showbackground": true,
            "ticks": "",
            "zerolinecolor": "white"
           }
          },
          "shapedefaults": {
           "line": {
            "color": "#2a3f5f"
           }
          },
          "ternary": {
           "aaxis": {
            "gridcolor": "white",
            "linecolor": "white",
            "ticks": ""
           },
           "baxis": {
            "gridcolor": "white",
            "linecolor": "white",
            "ticks": ""
           },
           "bgcolor": "#E5ECF6",
           "caxis": {
            "gridcolor": "white",
            "linecolor": "white",
            "ticks": ""
           }
          },
          "title": {
           "x": 0.05
          },
          "xaxis": {
           "automargin": true,
           "gridcolor": "white",
           "linecolor": "white",
           "ticks": "",
           "title": {
            "standoff": 15
           },
           "zerolinecolor": "white",
           "zerolinewidth": 2
          },
          "yaxis": {
           "automargin": true,
           "gridcolor": "white",
           "linecolor": "white",
           "ticks": "",
           "title": {
            "standoff": 15
           },
           "zerolinecolor": "white",
           "zerolinewidth": 2
          }
         }
        },
        "width": 800
       }
      }
     },
     "metadata": {},
     "output_type": "display_data"
    }
   ],
   "source": [
    "# ploting th route\n",
    "\n",
    "initial_plot(delivary_locations=delivary_loc, obstacles=obstacles, dp=route_1_dp, route = route_2.copy())"
   ]
  },
  {
   "cell_type": "code",
   "execution_count": 34,
   "metadata": {},
   "outputs": [
    {
     "data": {
      "text/plain": [
       "2379.2804476629103"
      ]
     },
     "execution_count": 34,
     "metadata": {},
     "output_type": "execute_result"
    }
   ],
   "source": [
    "# calculate distance of the obstacle free route\n",
    "distance_2 = calculate_route_distance(route_2)\n",
    "\n",
    "distance_2"
   ]
  },
  {
   "cell_type": "code",
   "execution_count": 35,
   "metadata": {},
   "outputs": [
    {
     "name": "stdout",
     "output_type": "stream",
     "text": [
      "obstacle free distance \t\t: 2324.8691784342486\n",
      "obstacle avoidance distance \t: 2379.2804476629103\n"
     ]
    }
   ],
   "source": [
    "print(\"obstacle free distance \\t\\t:\", distance_1)\n",
    "print(\"obstacle avoidance distance \\t:\", distance_2)"
   ]
  },
  {
   "cell_type": "markdown",
   "metadata": {},
   "source": [
    "## Optimization"
   ]
  },
  {
   "cell_type": "code",
   "execution_count": 36,
   "metadata": {},
   "outputs": [
    {
     "data": {
      "application/vnd.plotly.v1+json": {
       "config": {
        "plotlyServerURL": "https://plot.ly"
       },
       "data": [
        {
         "color": "red",
         "i": [
          0,
          0
         ],
         "j": [
          1,
          2
         ],
         "k": [
          2,
          3
         ],
         "opacity": 0.5,
         "type": "mesh3d",
         "x": [
          3,
          5,
          5,
          3
         ],
         "y": [
          5,
          5,
          5,
          5
         ],
         "z": [
          0,
          0,
          6,
          6
         ]
        },
        {
         "color": "red",
         "i": [
          0,
          0
         ],
         "j": [
          1,
          2
         ],
         "k": [
          2,
          3
         ],
         "opacity": 0.5,
         "type": "mesh3d",
         "x": [
          5,
          5,
          5,
          5
         ],
         "y": [
          5,
          15,
          15,
          5
         ],
         "z": [
          0,
          0,
          6,
          6
         ]
        },
        {
         "color": "red",
         "i": [
          0,
          0
         ],
         "j": [
          1,
          2
         ],
         "k": [
          2,
          3
         ],
         "opacity": 0.5,
         "type": "mesh3d",
         "x": [
          5,
          3,
          3,
          5
         ],
         "y": [
          15,
          15,
          15,
          15
         ],
         "z": [
          0,
          0,
          6,
          6
         ]
        },
        {
         "color": "red",
         "i": [
          0,
          0
         ],
         "j": [
          1,
          2
         ],
         "k": [
          2,
          3
         ],
         "opacity": 0.5,
         "type": "mesh3d",
         "x": [
          3,
          3,
          3,
          3
         ],
         "y": [
          15,
          5,
          5,
          15
         ],
         "z": [
          0,
          0,
          6,
          6
         ]
        },
        {
         "color": "red",
         "i": [
          0,
          0
         ],
         "j": [
          1,
          2
         ],
         "k": [
          2,
          3
         ],
         "opacity": 0.5,
         "type": "mesh3d",
         "x": [
          3,
          3,
          3,
          3
         ],
         "y": [
          5,
          5,
          5,
          5
         ],
         "z": [
          0,
          0,
          6,
          6
         ]
        },
        {
         "line": {
          "color": "black",
          "width": 3
         },
         "mode": "lines",
         "type": "scatter3d",
         "x": [
          3,
          5,
          5,
          3,
          3,
          3
         ],
         "y": [
          5,
          5,
          15,
          15,
          5,
          5
         ],
         "z": [
          6,
          6,
          6,
          6,
          6,
          6
         ]
        },
        {
         "line": {
          "color": "black",
          "width": 3
         },
         "mode": "lines",
         "type": "scatter3d",
         "x": [
          3,
          5,
          5,
          3,
          3,
          3
         ],
         "y": [
          5,
          5,
          15,
          15,
          5,
          5
         ],
         "z": [
          0,
          0,
          0,
          0,
          0,
          0
         ]
        },
        {
         "line": {
          "color": "black",
          "width": 3
         },
         "mode": "lines",
         "type": "scatter3d",
         "x": [
          3,
          3,
          5,
          5,
          3
         ],
         "y": [
          5,
          5,
          5,
          5,
          5
         ],
         "z": [
          0,
          6,
          6,
          0,
          0
         ]
        },
        {
         "line": {
          "color": "black",
          "width": 3
         },
         "mode": "lines",
         "type": "scatter3d",
         "x": [
          5,
          5,
          5,
          5,
          5
         ],
         "y": [
          5,
          5,
          15,
          15,
          5
         ],
         "z": [
          0,
          6,
          6,
          0,
          0
         ]
        },
        {
         "line": {
          "color": "black",
          "width": 3
         },
         "mode": "lines",
         "type": "scatter3d",
         "x": [
          5,
          5,
          3,
          3,
          5
         ],
         "y": [
          15,
          15,
          15,
          15,
          15
         ],
         "z": [
          0,
          6,
          6,
          0,
          0
         ]
        },
        {
         "line": {
          "color": "black",
          "width": 3
         },
         "mode": "lines",
         "type": "scatter3d",
         "x": [
          3,
          3,
          3,
          3,
          3
         ],
         "y": [
          15,
          15,
          5,
          5,
          15
         ],
         "z": [
          0,
          6,
          6,
          0,
          0
         ]
        },
        {
         "line": {
          "color": "black",
          "width": 3
         },
         "mode": "lines",
         "type": "scatter3d",
         "x": [
          3,
          3,
          3,
          3,
          3
         ],
         "y": [
          5,
          5,
          5,
          5,
          5
         ],
         "z": [
          0,
          6,
          6,
          0,
          0
         ]
        },
        {
         "color": "red",
         "i": [
          0,
          0
         ],
         "j": [
          1,
          2
         ],
         "k": [
          2,
          3
         ],
         "opacity": 0.5,
         "type": "mesh3d",
         "x": [
          8,
          12,
          12,
          8
         ],
         "y": [
          6,
          6,
          6,
          6
         ],
         "z": [
          0,
          0,
          8,
          8
         ]
        },
        {
         "color": "red",
         "i": [
          0,
          0
         ],
         "j": [
          1,
          2
         ],
         "k": [
          2,
          3
         ],
         "opacity": 0.5,
         "type": "mesh3d",
         "x": [
          12,
          12,
          12,
          12
         ],
         "y": [
          6,
          14,
          14,
          6
         ],
         "z": [
          0,
          0,
          8,
          8
         ]
        },
        {
         "color": "red",
         "i": [
          0,
          0
         ],
         "j": [
          1,
          2
         ],
         "k": [
          2,
          3
         ],
         "opacity": 0.5,
         "type": "mesh3d",
         "x": [
          12,
          8,
          8,
          12
         ],
         "y": [
          14,
          14,
          14,
          14
         ],
         "z": [
          0,
          0,
          8,
          8
         ]
        },
        {
         "color": "red",
         "i": [
          0,
          0
         ],
         "j": [
          1,
          2
         ],
         "k": [
          2,
          3
         ],
         "opacity": 0.5,
         "type": "mesh3d",
         "x": [
          8,
          8,
          8,
          8
         ],
         "y": [
          14,
          6,
          6,
          14
         ],
         "z": [
          0,
          0,
          8,
          8
         ]
        },
        {
         "color": "red",
         "i": [
          0,
          0
         ],
         "j": [
          1,
          2
         ],
         "k": [
          2,
          3
         ],
         "opacity": 0.5,
         "type": "mesh3d",
         "x": [
          8,
          8,
          8,
          8
         ],
         "y": [
          6,
          6,
          6,
          6
         ],
         "z": [
          0,
          0,
          8,
          8
         ]
        },
        {
         "line": {
          "color": "black",
          "width": 3
         },
         "mode": "lines",
         "type": "scatter3d",
         "x": [
          8,
          12,
          12,
          8,
          8,
          8
         ],
         "y": [
          6,
          6,
          14,
          14,
          6,
          6
         ],
         "z": [
          8,
          8,
          8,
          8,
          8,
          8
         ]
        },
        {
         "line": {
          "color": "black",
          "width": 3
         },
         "mode": "lines",
         "type": "scatter3d",
         "x": [
          8,
          12,
          12,
          8,
          8,
          8
         ],
         "y": [
          6,
          6,
          14,
          14,
          6,
          6
         ],
         "z": [
          0,
          0,
          0,
          0,
          0,
          0
         ]
        },
        {
         "line": {
          "color": "black",
          "width": 3
         },
         "mode": "lines",
         "type": "scatter3d",
         "x": [
          8,
          8,
          12,
          12,
          8
         ],
         "y": [
          6,
          6,
          6,
          6,
          6
         ],
         "z": [
          0,
          8,
          8,
          0,
          0
         ]
        },
        {
         "line": {
          "color": "black",
          "width": 3
         },
         "mode": "lines",
         "type": "scatter3d",
         "x": [
          12,
          12,
          12,
          12,
          12
         ],
         "y": [
          6,
          6,
          14,
          14,
          6
         ],
         "z": [
          0,
          8,
          8,
          0,
          0
         ]
        },
        {
         "line": {
          "color": "black",
          "width": 3
         },
         "mode": "lines",
         "type": "scatter3d",
         "x": [
          12,
          12,
          8,
          8,
          12
         ],
         "y": [
          14,
          14,
          14,
          14,
          14
         ],
         "z": [
          0,
          8,
          8,
          0,
          0
         ]
        },
        {
         "line": {
          "color": "black",
          "width": 3
         },
         "mode": "lines",
         "type": "scatter3d",
         "x": [
          8,
          8,
          8,
          8,
          8
         ],
         "y": [
          14,
          14,
          6,
          6,
          14
         ],
         "z": [
          0,
          8,
          8,
          0,
          0
         ]
        },
        {
         "line": {
          "color": "black",
          "width": 3
         },
         "mode": "lines",
         "type": "scatter3d",
         "x": [
          8,
          8,
          8,
          8,
          8
         ],
         "y": [
          6,
          6,
          6,
          6,
          6
         ],
         "z": [
          0,
          8,
          8,
          0,
          0
         ]
        },
        {
         "color": "red",
         "i": [
          0,
          0
         ],
         "j": [
          1,
          2
         ],
         "k": [
          2,
          3
         ],
         "opacity": 0.5,
         "type": "mesh3d",
         "x": [
          15,
          17,
          17,
          15
         ],
         "y": [
          5,
          5,
          5,
          5
         ],
         "z": [
          0,
          0,
          7,
          7
         ]
        },
        {
         "color": "red",
         "i": [
          0,
          0
         ],
         "j": [
          1,
          2
         ],
         "k": [
          2,
          3
         ],
         "opacity": 0.5,
         "type": "mesh3d",
         "x": [
          17,
          17,
          17,
          17
         ],
         "y": [
          5,
          15,
          15,
          5
         ],
         "z": [
          0,
          0,
          7,
          7
         ]
        },
        {
         "color": "red",
         "i": [
          0,
          0
         ],
         "j": [
          1,
          2
         ],
         "k": [
          2,
          3
         ],
         "opacity": 0.5,
         "type": "mesh3d",
         "x": [
          17,
          15,
          15,
          17
         ],
         "y": [
          15,
          15,
          15,
          15
         ],
         "z": [
          0,
          0,
          7,
          7
         ]
        },
        {
         "color": "red",
         "i": [
          0,
          0
         ],
         "j": [
          1,
          2
         ],
         "k": [
          2,
          3
         ],
         "opacity": 0.5,
         "type": "mesh3d",
         "x": [
          15,
          15,
          15,
          15
         ],
         "y": [
          15,
          5,
          5,
          15
         ],
         "z": [
          0,
          0,
          7,
          7
         ]
        },
        {
         "color": "red",
         "i": [
          0,
          0
         ],
         "j": [
          1,
          2
         ],
         "k": [
          2,
          3
         ],
         "opacity": 0.5,
         "type": "mesh3d",
         "x": [
          15,
          15,
          15,
          15
         ],
         "y": [
          5,
          5,
          5,
          5
         ],
         "z": [
          0,
          0,
          7,
          7
         ]
        },
        {
         "line": {
          "color": "black",
          "width": 3
         },
         "mode": "lines",
         "type": "scatter3d",
         "x": [
          15,
          17,
          17,
          15,
          15,
          15
         ],
         "y": [
          5,
          5,
          15,
          15,
          5,
          5
         ],
         "z": [
          7,
          7,
          7,
          7,
          7,
          7
         ]
        },
        {
         "line": {
          "color": "black",
          "width": 3
         },
         "mode": "lines",
         "type": "scatter3d",
         "x": [
          15,
          17,
          17,
          15,
          15,
          15
         ],
         "y": [
          5,
          5,
          15,
          15,
          5,
          5
         ],
         "z": [
          0,
          0,
          0,
          0,
          0,
          0
         ]
        },
        {
         "line": {
          "color": "black",
          "width": 3
         },
         "mode": "lines",
         "type": "scatter3d",
         "x": [
          15,
          15,
          17,
          17,
          15
         ],
         "y": [
          5,
          5,
          5,
          5,
          5
         ],
         "z": [
          0,
          7,
          7,
          0,
          0
         ]
        },
        {
         "line": {
          "color": "black",
          "width": 3
         },
         "mode": "lines",
         "type": "scatter3d",
         "x": [
          17,
          17,
          17,
          17,
          17
         ],
         "y": [
          5,
          5,
          15,
          15,
          5
         ],
         "z": [
          0,
          7,
          7,
          0,
          0
         ]
        },
        {
         "line": {
          "color": "black",
          "width": 3
         },
         "mode": "lines",
         "type": "scatter3d",
         "x": [
          17,
          17,
          15,
          15,
          17
         ],
         "y": [
          15,
          15,
          15,
          15,
          15
         ],
         "z": [
          0,
          7,
          7,
          0,
          0
         ]
        },
        {
         "line": {
          "color": "black",
          "width": 3
         },
         "mode": "lines",
         "type": "scatter3d",
         "x": [
          15,
          15,
          15,
          15,
          15
         ],
         "y": [
          15,
          15,
          5,
          5,
          15
         ],
         "z": [
          0,
          7,
          7,
          0,
          0
         ]
        },
        {
         "line": {
          "color": "black",
          "width": 3
         },
         "mode": "lines",
         "type": "scatter3d",
         "x": [
          15,
          15,
          15,
          15,
          15
         ],
         "y": [
          5,
          5,
          5,
          5,
          5
         ],
         "z": [
          0,
          7,
          7,
          0,
          0
         ]
        },
        {
         "marker": {
          "color": "blue",
          "size": 5
         },
         "mode": "markers",
         "type": "scatter3d",
         "x": [
          20
         ],
         "y": [
          10
         ],
         "z": [
          0
         ]
        },
        {
         "marker": {
          "color": "orange",
          "size": 8
         },
         "mode": "markers",
         "type": "scatter3d",
         "x": [
          0
         ],
         "y": [
          10
         ],
         "z": [
          0
         ]
        },
        {
         "line": {
          "color": "gray",
          "width": 5
         },
         "mode": "lines",
         "type": "scatter3d",
         "x": [
          0,
          0,
          3,
          8,
          12,
          17,
          20,
          20,
          20,
          17,
          12,
          8,
          3,
          0,
          0
         ],
         "y": [
          10,
          10,
          12,
          14,
          14,
          12,
          10,
          10,
          10,
          12,
          14,
          14,
          12,
          10,
          10
         ],
         "z": [
          0,
          5,
          6.005,
          7,
          7.005,
          7.005,
          5,
          0,
          5,
          7.005,
          7.005,
          7,
          6.005,
          5,
          0
         ]
        }
       ],
       "layout": {
        "height": 800,
        "scene": {
         "aspectmode": "cube",
         "xaxis": {
          "title": {
           "text": "X"
          }
         },
         "yaxis": {
          "title": {
           "text": "Y"
          }
         },
         "zaxis": {
          "title": {
           "text": "Height"
          }
         }
        },
        "template": {
         "data": {
          "bar": [
           {
            "error_x": {
             "color": "#2a3f5f"
            },
            "error_y": {
             "color": "#2a3f5f"
            },
            "marker": {
             "line": {
              "color": "#E5ECF6",
              "width": 0.5
             },
             "pattern": {
              "fillmode": "overlay",
              "size": 10,
              "solidity": 0.2
             }
            },
            "type": "bar"
           }
          ],
          "barpolar": [
           {
            "marker": {
             "line": {
              "color": "#E5ECF6",
              "width": 0.5
             },
             "pattern": {
              "fillmode": "overlay",
              "size": 10,
              "solidity": 0.2
             }
            },
            "type": "barpolar"
           }
          ],
          "carpet": [
           {
            "aaxis": {
             "endlinecolor": "#2a3f5f",
             "gridcolor": "white",
             "linecolor": "white",
             "minorgridcolor": "white",
             "startlinecolor": "#2a3f5f"
            },
            "baxis": {
             "endlinecolor": "#2a3f5f",
             "gridcolor": "white",
             "linecolor": "white",
             "minorgridcolor": "white",
             "startlinecolor": "#2a3f5f"
            },
            "type": "carpet"
           }
          ],
          "choropleth": [
           {
            "colorbar": {
             "outlinewidth": 0,
             "ticks": ""
            },
            "type": "choropleth"
           }
          ],
          "contour": [
           {
            "colorbar": {
             "outlinewidth": 0,
             "ticks": ""
            },
            "colorscale": [
             [
              0,
              "#0d0887"
             ],
             [
              0.1111111111111111,
              "#46039f"
             ],
             [
              0.2222222222222222,
              "#7201a8"
             ],
             [
              0.3333333333333333,
              "#9c179e"
             ],
             [
              0.4444444444444444,
              "#bd3786"
             ],
             [
              0.5555555555555556,
              "#d8576b"
             ],
             [
              0.6666666666666666,
              "#ed7953"
             ],
             [
              0.7777777777777778,
              "#fb9f3a"
             ],
             [
              0.8888888888888888,
              "#fdca26"
             ],
             [
              1,
              "#f0f921"
             ]
            ],
            "type": "contour"
           }
          ],
          "contourcarpet": [
           {
            "colorbar": {
             "outlinewidth": 0,
             "ticks": ""
            },
            "type": "contourcarpet"
           }
          ],
          "heatmap": [
           {
            "colorbar": {
             "outlinewidth": 0,
             "ticks": ""
            },
            "colorscale": [
             [
              0,
              "#0d0887"
             ],
             [
              0.1111111111111111,
              "#46039f"
             ],
             [
              0.2222222222222222,
              "#7201a8"
             ],
             [
              0.3333333333333333,
              "#9c179e"
             ],
             [
              0.4444444444444444,
              "#bd3786"
             ],
             [
              0.5555555555555556,
              "#d8576b"
             ],
             [
              0.6666666666666666,
              "#ed7953"
             ],
             [
              0.7777777777777778,
              "#fb9f3a"
             ],
             [
              0.8888888888888888,
              "#fdca26"
             ],
             [
              1,
              "#f0f921"
             ]
            ],
            "type": "heatmap"
           }
          ],
          "heatmapgl": [
           {
            "colorbar": {
             "outlinewidth": 0,
             "ticks": ""
            },
            "colorscale": [
             [
              0,
              "#0d0887"
             ],
             [
              0.1111111111111111,
              "#46039f"
             ],
             [
              0.2222222222222222,
              "#7201a8"
             ],
             [
              0.3333333333333333,
              "#9c179e"
             ],
             [
              0.4444444444444444,
              "#bd3786"
             ],
             [
              0.5555555555555556,
              "#d8576b"
             ],
             [
              0.6666666666666666,
              "#ed7953"
             ],
             [
              0.7777777777777778,
              "#fb9f3a"
             ],
             [
              0.8888888888888888,
              "#fdca26"
             ],
             [
              1,
              "#f0f921"
             ]
            ],
            "type": "heatmapgl"
           }
          ],
          "histogram": [
           {
            "marker": {
             "pattern": {
              "fillmode": "overlay",
              "size": 10,
              "solidity": 0.2
             }
            },
            "type": "histogram"
           }
          ],
          "histogram2d": [
           {
            "colorbar": {
             "outlinewidth": 0,
             "ticks": ""
            },
            "colorscale": [
             [
              0,
              "#0d0887"
             ],
             [
              0.1111111111111111,
              "#46039f"
             ],
             [
              0.2222222222222222,
              "#7201a8"
             ],
             [
              0.3333333333333333,
              "#9c179e"
             ],
             [
              0.4444444444444444,
              "#bd3786"
             ],
             [
              0.5555555555555556,
              "#d8576b"
             ],
             [
              0.6666666666666666,
              "#ed7953"
             ],
             [
              0.7777777777777778,
              "#fb9f3a"
             ],
             [
              0.8888888888888888,
              "#fdca26"
             ],
             [
              1,
              "#f0f921"
             ]
            ],
            "type": "histogram2d"
           }
          ],
          "histogram2dcontour": [
           {
            "colorbar": {
             "outlinewidth": 0,
             "ticks": ""
            },
            "colorscale": [
             [
              0,
              "#0d0887"
             ],
             [
              0.1111111111111111,
              "#46039f"
             ],
             [
              0.2222222222222222,
              "#7201a8"
             ],
             [
              0.3333333333333333,
              "#9c179e"
             ],
             [
              0.4444444444444444,
              "#bd3786"
             ],
             [
              0.5555555555555556,
              "#d8576b"
             ],
             [
              0.6666666666666666,
              "#ed7953"
             ],
             [
              0.7777777777777778,
              "#fb9f3a"
             ],
             [
              0.8888888888888888,
              "#fdca26"
             ],
             [
              1,
              "#f0f921"
             ]
            ],
            "type": "histogram2dcontour"
           }
          ],
          "mesh3d": [
           {
            "colorbar": {
             "outlinewidth": 0,
             "ticks": ""
            },
            "type": "mesh3d"
           }
          ],
          "parcoords": [
           {
            "line": {
             "colorbar": {
              "outlinewidth": 0,
              "ticks": ""
             }
            },
            "type": "parcoords"
           }
          ],
          "pie": [
           {
            "automargin": true,
            "type": "pie"
           }
          ],
          "scatter": [
           {
            "fillpattern": {
             "fillmode": "overlay",
             "size": 10,
             "solidity": 0.2
            },
            "type": "scatter"
           }
          ],
          "scatter3d": [
           {
            "line": {
             "colorbar": {
              "outlinewidth": 0,
              "ticks": ""
             }
            },
            "marker": {
             "colorbar": {
              "outlinewidth": 0,
              "ticks": ""
             }
            },
            "type": "scatter3d"
           }
          ],
          "scattercarpet": [
           {
            "marker": {
             "colorbar": {
              "outlinewidth": 0,
              "ticks": ""
             }
            },
            "type": "scattercarpet"
           }
          ],
          "scattergeo": [
           {
            "marker": {
             "colorbar": {
              "outlinewidth": 0,
              "ticks": ""
             }
            },
            "type": "scattergeo"
           }
          ],
          "scattergl": [
           {
            "marker": {
             "colorbar": {
              "outlinewidth": 0,
              "ticks": ""
             }
            },
            "type": "scattergl"
           }
          ],
          "scattermapbox": [
           {
            "marker": {
             "colorbar": {
              "outlinewidth": 0,
              "ticks": ""
             }
            },
            "type": "scattermapbox"
           }
          ],
          "scatterpolar": [
           {
            "marker": {
             "colorbar": {
              "outlinewidth": 0,
              "ticks": ""
             }
            },
            "type": "scatterpolar"
           }
          ],
          "scatterpolargl": [
           {
            "marker": {
             "colorbar": {
              "outlinewidth": 0,
              "ticks": ""
             }
            },
            "type": "scatterpolargl"
           }
          ],
          "scatterternary": [
           {
            "marker": {
             "colorbar": {
              "outlinewidth": 0,
              "ticks": ""
             }
            },
            "type": "scatterternary"
           }
          ],
          "surface": [
           {
            "colorbar": {
             "outlinewidth": 0,
             "ticks": ""
            },
            "colorscale": [
             [
              0,
              "#0d0887"
             ],
             [
              0.1111111111111111,
              "#46039f"
             ],
             [
              0.2222222222222222,
              "#7201a8"
             ],
             [
              0.3333333333333333,
              "#9c179e"
             ],
             [
              0.4444444444444444,
              "#bd3786"
             ],
             [
              0.5555555555555556,
              "#d8576b"
             ],
             [
              0.6666666666666666,
              "#ed7953"
             ],
             [
              0.7777777777777778,
              "#fb9f3a"
             ],
             [
              0.8888888888888888,
              "#fdca26"
             ],
             [
              1,
              "#f0f921"
             ]
            ],
            "type": "surface"
           }
          ],
          "table": [
           {
            "cells": {
             "fill": {
              "color": "#EBF0F8"
             },
             "line": {
              "color": "white"
             }
            },
            "header": {
             "fill": {
              "color": "#C8D4E3"
             },
             "line": {
              "color": "white"
             }
            },
            "type": "table"
           }
          ]
         },
         "layout": {
          "annotationdefaults": {
           "arrowcolor": "#2a3f5f",
           "arrowhead": 0,
           "arrowwidth": 1
          },
          "autotypenumbers": "strict",
          "coloraxis": {
           "colorbar": {
            "outlinewidth": 0,
            "ticks": ""
           }
          },
          "colorscale": {
           "diverging": [
            [
             0,
             "#8e0152"
            ],
            [
             0.1,
             "#c51b7d"
            ],
            [
             0.2,
             "#de77ae"
            ],
            [
             0.3,
             "#f1b6da"
            ],
            [
             0.4,
             "#fde0ef"
            ],
            [
             0.5,
             "#f7f7f7"
            ],
            [
             0.6,
             "#e6f5d0"
            ],
            [
             0.7,
             "#b8e186"
            ],
            [
             0.8,
             "#7fbc41"
            ],
            [
             0.9,
             "#4d9221"
            ],
            [
             1,
             "#276419"
            ]
           ],
           "sequential": [
            [
             0,
             "#0d0887"
            ],
            [
             0.1111111111111111,
             "#46039f"
            ],
            [
             0.2222222222222222,
             "#7201a8"
            ],
            [
             0.3333333333333333,
             "#9c179e"
            ],
            [
             0.4444444444444444,
             "#bd3786"
            ],
            [
             0.5555555555555556,
             "#d8576b"
            ],
            [
             0.6666666666666666,
             "#ed7953"
            ],
            [
             0.7777777777777778,
             "#fb9f3a"
            ],
            [
             0.8888888888888888,
             "#fdca26"
            ],
            [
             1,
             "#f0f921"
            ]
           ],
           "sequentialminus": [
            [
             0,
             "#0d0887"
            ],
            [
             0.1111111111111111,
             "#46039f"
            ],
            [
             0.2222222222222222,
             "#7201a8"
            ],
            [
             0.3333333333333333,
             "#9c179e"
            ],
            [
             0.4444444444444444,
             "#bd3786"
            ],
            [
             0.5555555555555556,
             "#d8576b"
            ],
            [
             0.6666666666666666,
             "#ed7953"
            ],
            [
             0.7777777777777778,
             "#fb9f3a"
            ],
            [
             0.8888888888888888,
             "#fdca26"
            ],
            [
             1,
             "#f0f921"
            ]
           ]
          },
          "colorway": [
           "#636efa",
           "#EF553B",
           "#00cc96",
           "#ab63fa",
           "#FFA15A",
           "#19d3f3",
           "#FF6692",
           "#B6E880",
           "#FF97FF",
           "#FECB52"
          ],
          "font": {
           "color": "#2a3f5f"
          },
          "geo": {
           "bgcolor": "white",
           "lakecolor": "white",
           "landcolor": "#E5ECF6",
           "showlakes": true,
           "showland": true,
           "subunitcolor": "white"
          },
          "hoverlabel": {
           "align": "left"
          },
          "hovermode": "closest",
          "mapbox": {
           "style": "light"
          },
          "paper_bgcolor": "white",
          "plot_bgcolor": "#E5ECF6",
          "polar": {
           "angularaxis": {
            "gridcolor": "white",
            "linecolor": "white",
            "ticks": ""
           },
           "bgcolor": "#E5ECF6",
           "radialaxis": {
            "gridcolor": "white",
            "linecolor": "white",
            "ticks": ""
           }
          },
          "scene": {
           "xaxis": {
            "backgroundcolor": "#E5ECF6",
            "gridcolor": "white",
            "gridwidth": 2,
            "linecolor": "white",
            "showbackground": true,
            "ticks": "",
            "zerolinecolor": "white"
           },
           "yaxis": {
            "backgroundcolor": "#E5ECF6",
            "gridcolor": "white",
            "gridwidth": 2,
            "linecolor": "white",
            "showbackground": true,
            "ticks": "",
            "zerolinecolor": "white"
           },
           "zaxis": {
            "backgroundcolor": "#E5ECF6",
            "gridcolor": "white",
            "gridwidth": 2,
            "linecolor": "white",
            "showbackground": true,
            "ticks": "",
            "zerolinecolor": "white"
           }
          },
          "shapedefaults": {
           "line": {
            "color": "#2a3f5f"
           }
          },
          "ternary": {
           "aaxis": {
            "gridcolor": "white",
            "linecolor": "white",
            "ticks": ""
           },
           "baxis": {
            "gridcolor": "white",
            "linecolor": "white",
            "ticks": ""
           },
           "bgcolor": "#E5ECF6",
           "caxis": {
            "gridcolor": "white",
            "linecolor": "white",
            "ticks": ""
           }
          },
          "title": {
           "x": 0.05
          },
          "xaxis": {
           "automargin": true,
           "gridcolor": "white",
           "linecolor": "white",
           "ticks": "",
           "title": {
            "standoff": 15
           },
           "zerolinecolor": "white",
           "zerolinewidth": 2
          },
          "yaxis": {
           "automargin": true,
           "gridcolor": "white",
           "linecolor": "white",
           "ticks": "",
           "title": {
            "standoff": 15
           },
           "zerolinecolor": "white",
           "zerolinewidth": 2
          }
         }
        },
        "width": 800
       }
      }
     },
     "metadata": {},
     "output_type": "display_data"
    }
   ],
   "source": [
    "target = [[20,10,0]]\n",
    "source = [0,10,0]\n",
    "\n",
    "obstacles = {\n",
    "    0: [[3, 5,6], [5,5,6], [5,15,6], [3,15,6], [3,5,6]],\n",
    "    1: [[8, 6,8], [12,6,8], [12,14,8], [8,14,8], [8,6,8]],\n",
    "    2: [[15, 5,7], [17,5,7], [17,15,7], [15,15,7], [15,5,7]]\n",
    "}\n",
    "\n",
    "drone_height = 5\n",
    "drone_max_height = 7\n",
    "\n",
    "route_3, msg = create_shortest_dijkstra_path(source, target, obstacles, drone_height, drone_max_height)\n",
    "\n",
    "initial_plot(delivary_locations=target, obstacles=obstacles, dp=source, route = route_3.copy())"
   ]
  },
  {
   "cell_type": "code",
   "execution_count": 37,
   "metadata": {},
   "outputs": [
    {
     "data": {
      "text/plain": [
       "65.46002587120321"
      ]
     },
     "execution_count": 37,
     "metadata": {},
     "output_type": "execute_result"
    }
   ],
   "source": [
    "# test_distance_1 = calculate_route_distance(route_3)\n",
    "\n",
    "# test_distance_1 = 72.00162692944073\n",
    "\n",
    "test_distance_2 = calculate_route_distance(route_3)\n",
    "\n",
    "test_distance_2"
   ]
  },
  {
   "cell_type": "markdown",
   "metadata": {},
   "source": [
    "## <font color=\"orange\">Test</font>"
   ]
  },
  {
   "cell_type": "code",
   "execution_count": 38,
   "metadata": {},
   "outputs": [
    {
     "name": "stdout",
     "output_type": "stream",
     "text": [
      "MULTILINESTRING Z ((31.81 90.35 10, 32.03238267148014 91.84602888086643 9.933814681107206), (32.033319216516674 91.85232927474854 10, 32.191515151515155 92.9165564738292 5), (32.1970235396687 92.95361290322582 9.946817785527454, 32.69 96.27 10))\n",
      "MULTIPOLYGON Z (((31.81 90.35 10, 32.51 90.85 10, 32.21 91.55 10, 32.03 91.85 10, 34.31 93.45 10, 32.69 96.27 10, 30.99 95.15 10, 32.21 92.93 10, 30.89 91.97 10, 31.81 90.35 10)), ((31.81 90.35 0, 32.51 90.85 0, 32.21 91.55 0, 32.03 91.85 0, 34.31 93.45 0, 32.69 96.27 0, 30.99 95.15 0, 32.21 92.93 0, 30.89 91.97 0, 31.81 90.35 0)), ((31.81 90.35 10, 32.51 90.85 10, 32.51 90.85 0, 31.81 90.35 0, 31.81 90.35 10)), ((32.51 90.85 10, 32.21 91.55 10, 32.21 91.55 0, 32.51 90.85 0, 32.51 90.85 10)), ((32.21 91.55 10, 32.03 91.85 10, 32.03 91.85 0, 32.21 91.55 0, 32.21 91.55 10)), ((32.03 91.85 10, 34.31 93.45 10, 34.31 93.45 0, 32.03 91.85 0, 32.03 91.85 10)), ((34.31 93.45 10, 32.69 96.27 10, 32.69 96.27 0, 34.31 93.45 0, 34.31 93.45 10)), ((32.69 96.27 10, 30.99 95.15 10, 30.99 95.15 0, 32.69 96.27 0, 32.69 96.27 10)), ((30.99 95.15 10, 32.21 92.93 10, 32.21 92.93 0, 30.99 95.15 0, 30.99 95.15 10)), ((32.21 92.93 10, 30.89 91.97 10, 30.89 91.97 0, 32.21 92.93 0, 32.21 92.93 10)), ((30.89 91.97 10, 31.81 90.35 10, 31.81 90.35 0, 30.89 91.97 0, 30.89 91.97 10)))\n"
     ]
    }
   ],
   "source": [
    "def build_3d_polygon(coords):\n",
    "    # Add z coordinate to each point\n",
    "    polygon_coords = [(x, y, z) for x, y, z in coords]\n",
    "    \n",
    "    # Create the top and bottom polygons\n",
    "    top_polygon = Polygon(polygon_coords)\n",
    "    bottom_polygon = Polygon([(x, y, 0) for x, y, _ in polygon_coords])\n",
    "    \n",
    "    # Create the side polygons\n",
    "    side_polygons = []\n",
    "    for i in range(len(coords) - 1):\n",
    "        side_polygon_coords = [\n",
    "            polygon_coords[i],\n",
    "            polygon_coords[i+1],\n",
    "            (coords[i+1][0], coords[i+1][1], 0),\n",
    "            (coords[i][0], coords[i][1], 0),\n",
    "            polygon_coords[i]\n",
    "        ]\n",
    "        side_polygon = Polygon(side_polygon_coords)\n",
    "        side_polygons.append(side_polygon)\n",
    "    \n",
    "    # Combine all polygons into a MultiPolygon\n",
    "    all_polygons = [top_polygon, bottom_polygon] + side_polygons\n",
    "    return MultiPolygon(all_polygons)\n",
    "\n",
    "box = build_3d_polygon([[31.81, 90.35,10], [32.51, 90.85,10], [32.21, 91.55,10], [32.03, 91.85,10], [34.31, 93.45,10], [32.69, 96.27,10],[30.99, 95.15,10], [32.21, 92.93,10],[30.89, 91.97,10],[31.81, 90.35,10]])\n",
    "\n",
    "line = LineString([(31.81, 90.35,10), (32.69, 96.27,10)])\n",
    "\n",
    "print(line.intersection(box))\n",
    "\n",
    "print(box)"
   ]
  },
  {
   "cell_type": "code",
   "execution_count": 39,
   "metadata": {},
   "outputs": [],
   "source": [
    "def plot_intersection(polygon, line):\n",
    "    # Extract coordinates from the polygon and line\n",
    "    coords = list(polygon.exterior.coords)\n",
    "    line_coords = list(line.coords)\n",
    "\n",
    "    polygon_x = [x for x,y,z in coords]\n",
    "    polygon_y = [y for x,y,z in coords]\n",
    "    polygon_z = [z for x,y,z in coords]\n",
    "\n",
    "    line_x = [x for x,y,z in line_coords]\n",
    "    line_y = [y for x,y,z in line_coords]\n",
    "    line_z = [z for x,y,z in line_coords]\n",
    "    \n",
    "    # Create traces for the polygon and the line\n",
    "    polygon_trace = go.Scatter(\n",
    "        x=polygon_x, y=polygon_y,\n",
    "        fill=\"toself\",  # Fill the area enclosed by the polygon\n",
    "        name=\"Polygon\",\n",
    "        line=dict(color=\"blue\")\n",
    "    )\n",
    "    \n",
    "    line_trace = go.Scatter(\n",
    "        x=line_x, y=line_y,\n",
    "        name=\"Line\",\n",
    "        line=dict(color=\"red\")\n",
    "    )\n",
    "    \n",
    "    # Create a figure and add the traces\n",
    "    fig = go.Figure()\n",
    "    fig.add_trace(polygon_trace)\n",
    "    fig.add_trace(line_trace)\n",
    "    \n",
    "    # Update layout for better visualization\n",
    "    fig.update_layout(\n",
    "        title=\"Polygon and Line Intersection\",\n",
    "        xaxis_title=\"X Axis\",\n",
    "        yaxis_title=\"Y Axis\",\n",
    "        showlegend=True\n",
    "    )\n",
    "    \n",
    "    # Show the figure\n",
    "    fig.show()"
   ]
  },
  {
   "cell_type": "code",
   "execution_count": 40,
   "metadata": {},
   "outputs": [],
   "source": [
    "def get_closest_intersection_point(line, polygon, height):\n",
    "    intersections = list(line.intersection(polygon).coords)\n",
    "\n",
    "    A = intersections[0]\n",
    "    B = intersections[-1]\n",
    "\n",
    "    # Step 2: Calculate direction vectors\n",
    "    def direction_vector(point, ref_point):\n",
    "        return (ref_point[0] - point[0], ref_point[1] - point[1])\n",
    "\n",
    "    d = 0.001  # Small distance to move outside the polygon\n",
    "\n",
    "    # Calculate new points dA and dB\n",
    "    def move_point_outside(point, direction, distance):\n",
    "        dx, dy = direction\n",
    "        length = (dx**2 + dy**2) ** 0.5\n",
    "        unit_vector = (dx / length, dy / length)\n",
    "        return (point[0] + unit_vector[0] * distance, point[1] + unit_vector[1] * distance)\n",
    "\n",
    "    # Step 3: Move a small distance outside\n",
    "    direction_A = direction_vector(A, line.coords[0])  # Direction from A to M\n",
    "    direction_B = direction_vector(B, line.coords[-1]) # Direction from B to N\n",
    "\n",
    "    dA_coords = move_point_outside(A, direction_A, d)\n",
    "    dB_coords = move_point_outside(B, direction_B, d)\n",
    "\n",
    "    return [(dA_coords[0], dA_coords[1], height), (dB_coords[0], dB_coords[1], height)]"
   ]
  },
  {
   "cell_type": "code",
   "execution_count": 41,
   "metadata": {},
   "outputs": [
    {
     "name": "stdout",
     "output_type": "stream",
     "text": [
      "LINESTRING Z (27.55470577587296 93.92084405438013 10, 34.20959 92.51168 10)\n",
      "POLYGON Z ((31.81 90.35 10, 32.51 90.85 10, 32.21 91.55 10, 32.03 91.85 10, 34.31 93.45 10, 32.69 96.27 10, 30.99 95.15 10, 32.21 92.93 10, 30.89 91.97 10, 31.81 90.35 10))\n",
      "--------------------------------------------------\n",
      "LINESTRING Z (32.20683388199107 92.9357612967048 10, 33.25955850390183 92.71284807291356 10)\n",
      "True\n",
      "LINESTRING Z (32.20683388199107 92.9357612967048 10, 33.25955850390183 92.71284807291356 10)\n",
      "--------------------------------------------------\n",
      "LINESTRING Z (32.20683388199107 92.9357612967048 10, 33.25955850390183 92.71284807291356 10)\n",
      "False\n",
      "False\n",
      "--------------------------------------------------\n",
      "LINESTRING Z (32.20683388199106 92.93576129670481 10, 33.25955850390182 92.71284807291356 10)\n",
      "True\n",
      "LINESTRING Z (32.20683388199106 92.93576129670481 10, 33.25955850390182 92.71284807291356 10)\n"
     ]
    }
   ],
   "source": [
    "sample = Polygon([[31.81, 90.35,10], [32.51, 90.85,10], [32.21, 91.55,10], [32.03, 91.85,10], [34.31, 93.45,10], \n",
    "                  [32.69, 96.27,10],[30.99, 95.15,10], [32.21, 92.93,10],[30.89, 91.97,10],[31.81, 90.35,10]])\n",
    "\n",
    "line_1 = LineString([[27.55470577587296, 93.92084405438013, 10],[34.20959, 92.51168, 10]])\n",
    "line_2 = LineString([[32.20683388199107, 92.9357612967048, 10], [34.20959, 92.51168, 10]])\n",
    "line_3 = LineString([(32.20585557398193, 92.93596845229672, 10), (33.26053681191097, 92.71264091732164, 10)])\n",
    "\n",
    "print(line_1)\n",
    "print(sample)\n",
    "\n",
    "print('-'*50)\n",
    "print(line_1.intersection(sample))\n",
    "print(line_intersect(line_1, sample))\n",
    "print(has_2d_intersection(line_1, sample))\n",
    "\n",
    "print('-'*50)\n",
    "print(line_2.intersection(sample))\n",
    "print(line_intersect(line_2, sample))\n",
    "print(has_2d_intersection(line_2, sample))\n",
    "\n",
    "print('-'*50)\n",
    "print(line_3.intersection(sample))\n",
    "print(line_intersect(line_3, sample))\n",
    "print(has_2d_intersection(line_3, sample))"
   ]
  },
  {
   "cell_type": "code",
   "execution_count": 42,
   "metadata": {},
   "outputs": [
    {
     "data": {
      "text/plain": [
       "[(32.20585557398193, 92.93596845229672, 10),\n",
       " (33.26053681191097, 92.71264091732164, 10)]"
      ]
     },
     "execution_count": 42,
     "metadata": {},
     "output_type": "execute_result"
    }
   ],
   "source": [
    "get_closest_intersection_point(line_1, sample, 10)"
   ]
  },
  {
   "cell_type": "code",
   "execution_count": 43,
   "metadata": {},
   "outputs": [
    {
     "data": {
      "application/vnd.plotly.v1+json": {
       "config": {
        "plotlyServerURL": "https://plot.ly"
       },
       "data": [
        {
         "fill": "toself",
         "line": {
          "color": "blue"
         },
         "name": "Polygon",
         "type": "scatter",
         "x": [
          31.81,
          32.51,
          32.21,
          32.03,
          34.31,
          32.69,
          30.99,
          32.21,
          30.89,
          31.81
         ],
         "y": [
          90.35,
          90.85,
          91.55,
          91.85,
          93.45,
          96.27,
          95.15,
          92.93,
          91.97,
          90.35
         ]
        },
        {
         "line": {
          "color": "red"
         },
         "name": "Line",
         "type": "scatter",
         "x": [
          32.20585557398193,
          33.26053681191097
         ],
         "y": [
          92.93596845229672,
          92.71264091732164
         ]
        }
       ],
       "layout": {
        "showlegend": true,
        "template": {
         "data": {
          "bar": [
           {
            "error_x": {
             "color": "#2a3f5f"
            },
            "error_y": {
             "color": "#2a3f5f"
            },
            "marker": {
             "line": {
              "color": "#E5ECF6",
              "width": 0.5
             },
             "pattern": {
              "fillmode": "overlay",
              "size": 10,
              "solidity": 0.2
             }
            },
            "type": "bar"
           }
          ],
          "barpolar": [
           {
            "marker": {
             "line": {
              "color": "#E5ECF6",
              "width": 0.5
             },
             "pattern": {
              "fillmode": "overlay",
              "size": 10,
              "solidity": 0.2
             }
            },
            "type": "barpolar"
           }
          ],
          "carpet": [
           {
            "aaxis": {
             "endlinecolor": "#2a3f5f",
             "gridcolor": "white",
             "linecolor": "white",
             "minorgridcolor": "white",
             "startlinecolor": "#2a3f5f"
            },
            "baxis": {
             "endlinecolor": "#2a3f5f",
             "gridcolor": "white",
             "linecolor": "white",
             "minorgridcolor": "white",
             "startlinecolor": "#2a3f5f"
            },
            "type": "carpet"
           }
          ],
          "choropleth": [
           {
            "colorbar": {
             "outlinewidth": 0,
             "ticks": ""
            },
            "type": "choropleth"
           }
          ],
          "contour": [
           {
            "colorbar": {
             "outlinewidth": 0,
             "ticks": ""
            },
            "colorscale": [
             [
              0,
              "#0d0887"
             ],
             [
              0.1111111111111111,
              "#46039f"
             ],
             [
              0.2222222222222222,
              "#7201a8"
             ],
             [
              0.3333333333333333,
              "#9c179e"
             ],
             [
              0.4444444444444444,
              "#bd3786"
             ],
             [
              0.5555555555555556,
              "#d8576b"
             ],
             [
              0.6666666666666666,
              "#ed7953"
             ],
             [
              0.7777777777777778,
              "#fb9f3a"
             ],
             [
              0.8888888888888888,
              "#fdca26"
             ],
             [
              1,
              "#f0f921"
             ]
            ],
            "type": "contour"
           }
          ],
          "contourcarpet": [
           {
            "colorbar": {
             "outlinewidth": 0,
             "ticks": ""
            },
            "type": "contourcarpet"
           }
          ],
          "heatmap": [
           {
            "colorbar": {
             "outlinewidth": 0,
             "ticks": ""
            },
            "colorscale": [
             [
              0,
              "#0d0887"
             ],
             [
              0.1111111111111111,
              "#46039f"
             ],
             [
              0.2222222222222222,
              "#7201a8"
             ],
             [
              0.3333333333333333,
              "#9c179e"
             ],
             [
              0.4444444444444444,
              "#bd3786"
             ],
             [
              0.5555555555555556,
              "#d8576b"
             ],
             [
              0.6666666666666666,
              "#ed7953"
             ],
             [
              0.7777777777777778,
              "#fb9f3a"
             ],
             [
              0.8888888888888888,
              "#fdca26"
             ],
             [
              1,
              "#f0f921"
             ]
            ],
            "type": "heatmap"
           }
          ],
          "heatmapgl": [
           {
            "colorbar": {
             "outlinewidth": 0,
             "ticks": ""
            },
            "colorscale": [
             [
              0,
              "#0d0887"
             ],
             [
              0.1111111111111111,
              "#46039f"
             ],
             [
              0.2222222222222222,
              "#7201a8"
             ],
             [
              0.3333333333333333,
              "#9c179e"
             ],
             [
              0.4444444444444444,
              "#bd3786"
             ],
             [
              0.5555555555555556,
              "#d8576b"
             ],
             [
              0.6666666666666666,
              "#ed7953"
             ],
             [
              0.7777777777777778,
              "#fb9f3a"
             ],
             [
              0.8888888888888888,
              "#fdca26"
             ],
             [
              1,
              "#f0f921"
             ]
            ],
            "type": "heatmapgl"
           }
          ],
          "histogram": [
           {
            "marker": {
             "pattern": {
              "fillmode": "overlay",
              "size": 10,
              "solidity": 0.2
             }
            },
            "type": "histogram"
           }
          ],
          "histogram2d": [
           {
            "colorbar": {
             "outlinewidth": 0,
             "ticks": ""
            },
            "colorscale": [
             [
              0,
              "#0d0887"
             ],
             [
              0.1111111111111111,
              "#46039f"
             ],
             [
              0.2222222222222222,
              "#7201a8"
             ],
             [
              0.3333333333333333,
              "#9c179e"
             ],
             [
              0.4444444444444444,
              "#bd3786"
             ],
             [
              0.5555555555555556,
              "#d8576b"
             ],
             [
              0.6666666666666666,
              "#ed7953"
             ],
             [
              0.7777777777777778,
              "#fb9f3a"
             ],
             [
              0.8888888888888888,
              "#fdca26"
             ],
             [
              1,
              "#f0f921"
             ]
            ],
            "type": "histogram2d"
           }
          ],
          "histogram2dcontour": [
           {
            "colorbar": {
             "outlinewidth": 0,
             "ticks": ""
            },
            "colorscale": [
             [
              0,
              "#0d0887"
             ],
             [
              0.1111111111111111,
              "#46039f"
             ],
             [
              0.2222222222222222,
              "#7201a8"
             ],
             [
              0.3333333333333333,
              "#9c179e"
             ],
             [
              0.4444444444444444,
              "#bd3786"
             ],
             [
              0.5555555555555556,
              "#d8576b"
             ],
             [
              0.6666666666666666,
              "#ed7953"
             ],
             [
              0.7777777777777778,
              "#fb9f3a"
             ],
             [
              0.8888888888888888,
              "#fdca26"
             ],
             [
              1,
              "#f0f921"
             ]
            ],
            "type": "histogram2dcontour"
           }
          ],
          "mesh3d": [
           {
            "colorbar": {
             "outlinewidth": 0,
             "ticks": ""
            },
            "type": "mesh3d"
           }
          ],
          "parcoords": [
           {
            "line": {
             "colorbar": {
              "outlinewidth": 0,
              "ticks": ""
             }
            },
            "type": "parcoords"
           }
          ],
          "pie": [
           {
            "automargin": true,
            "type": "pie"
           }
          ],
          "scatter": [
           {
            "fillpattern": {
             "fillmode": "overlay",
             "size": 10,
             "solidity": 0.2
            },
            "type": "scatter"
           }
          ],
          "scatter3d": [
           {
            "line": {
             "colorbar": {
              "outlinewidth": 0,
              "ticks": ""
             }
            },
            "marker": {
             "colorbar": {
              "outlinewidth": 0,
              "ticks": ""
             }
            },
            "type": "scatter3d"
           }
          ],
          "scattercarpet": [
           {
            "marker": {
             "colorbar": {
              "outlinewidth": 0,
              "ticks": ""
             }
            },
            "type": "scattercarpet"
           }
          ],
          "scattergeo": [
           {
            "marker": {
             "colorbar": {
              "outlinewidth": 0,
              "ticks": ""
             }
            },
            "type": "scattergeo"
           }
          ],
          "scattergl": [
           {
            "marker": {
             "colorbar": {
              "outlinewidth": 0,
              "ticks": ""
             }
            },
            "type": "scattergl"
           }
          ],
          "scattermapbox": [
           {
            "marker": {
             "colorbar": {
              "outlinewidth": 0,
              "ticks": ""
             }
            },
            "type": "scattermapbox"
           }
          ],
          "scatterpolar": [
           {
            "marker": {
             "colorbar": {
              "outlinewidth": 0,
              "ticks": ""
             }
            },
            "type": "scatterpolar"
           }
          ],
          "scatterpolargl": [
           {
            "marker": {
             "colorbar": {
              "outlinewidth": 0,
              "ticks": ""
             }
            },
            "type": "scatterpolargl"
           }
          ],
          "scatterternary": [
           {
            "marker": {
             "colorbar": {
              "outlinewidth": 0,
              "ticks": ""
             }
            },
            "type": "scatterternary"
           }
          ],
          "surface": [
           {
            "colorbar": {
             "outlinewidth": 0,
             "ticks": ""
            },
            "colorscale": [
             [
              0,
              "#0d0887"
             ],
             [
              0.1111111111111111,
              "#46039f"
             ],
             [
              0.2222222222222222,
              "#7201a8"
             ],
             [
              0.3333333333333333,
              "#9c179e"
             ],
             [
              0.4444444444444444,
              "#bd3786"
             ],
             [
              0.5555555555555556,
              "#d8576b"
             ],
             [
              0.6666666666666666,
              "#ed7953"
             ],
             [
              0.7777777777777778,
              "#fb9f3a"
             ],
             [
              0.8888888888888888,
              "#fdca26"
             ],
             [
              1,
              "#f0f921"
             ]
            ],
            "type": "surface"
           }
          ],
          "table": [
           {
            "cells": {
             "fill": {
              "color": "#EBF0F8"
             },
             "line": {
              "color": "white"
             }
            },
            "header": {
             "fill": {
              "color": "#C8D4E3"
             },
             "line": {
              "color": "white"
             }
            },
            "type": "table"
           }
          ]
         },
         "layout": {
          "annotationdefaults": {
           "arrowcolor": "#2a3f5f",
           "arrowhead": 0,
           "arrowwidth": 1
          },
          "autotypenumbers": "strict",
          "coloraxis": {
           "colorbar": {
            "outlinewidth": 0,
            "ticks": ""
           }
          },
          "colorscale": {
           "diverging": [
            [
             0,
             "#8e0152"
            ],
            [
             0.1,
             "#c51b7d"
            ],
            [
             0.2,
             "#de77ae"
            ],
            [
             0.3,
             "#f1b6da"
            ],
            [
             0.4,
             "#fde0ef"
            ],
            [
             0.5,
             "#f7f7f7"
            ],
            [
             0.6,
             "#e6f5d0"
            ],
            [
             0.7,
             "#b8e186"
            ],
            [
             0.8,
             "#7fbc41"
            ],
            [
             0.9,
             "#4d9221"
            ],
            [
             1,
             "#276419"
            ]
           ],
           "sequential": [
            [
             0,
             "#0d0887"
            ],
            [
             0.1111111111111111,
             "#46039f"
            ],
            [
             0.2222222222222222,
             "#7201a8"
            ],
            [
             0.3333333333333333,
             "#9c179e"
            ],
            [
             0.4444444444444444,
             "#bd3786"
            ],
            [
             0.5555555555555556,
             "#d8576b"
            ],
            [
             0.6666666666666666,
             "#ed7953"
            ],
            [
             0.7777777777777778,
             "#fb9f3a"
            ],
            [
             0.8888888888888888,
             "#fdca26"
            ],
            [
             1,
             "#f0f921"
            ]
           ],
           "sequentialminus": [
            [
             0,
             "#0d0887"
            ],
            [
             0.1111111111111111,
             "#46039f"
            ],
            [
             0.2222222222222222,
             "#7201a8"
            ],
            [
             0.3333333333333333,
             "#9c179e"
            ],
            [
             0.4444444444444444,
             "#bd3786"
            ],
            [
             0.5555555555555556,
             "#d8576b"
            ],
            [
             0.6666666666666666,
             "#ed7953"
            ],
            [
             0.7777777777777778,
             "#fb9f3a"
            ],
            [
             0.8888888888888888,
             "#fdca26"
            ],
            [
             1,
             "#f0f921"
            ]
           ]
          },
          "colorway": [
           "#636efa",
           "#EF553B",
           "#00cc96",
           "#ab63fa",
           "#FFA15A",
           "#19d3f3",
           "#FF6692",
           "#B6E880",
           "#FF97FF",
           "#FECB52"
          ],
          "font": {
           "color": "#2a3f5f"
          },
          "geo": {
           "bgcolor": "white",
           "lakecolor": "white",
           "landcolor": "#E5ECF6",
           "showlakes": true,
           "showland": true,
           "subunitcolor": "white"
          },
          "hoverlabel": {
           "align": "left"
          },
          "hovermode": "closest",
          "mapbox": {
           "style": "light"
          },
          "paper_bgcolor": "white",
          "plot_bgcolor": "#E5ECF6",
          "polar": {
           "angularaxis": {
            "gridcolor": "white",
            "linecolor": "white",
            "ticks": ""
           },
           "bgcolor": "#E5ECF6",
           "radialaxis": {
            "gridcolor": "white",
            "linecolor": "white",
            "ticks": ""
           }
          },
          "scene": {
           "xaxis": {
            "backgroundcolor": "#E5ECF6",
            "gridcolor": "white",
            "gridwidth": 2,
            "linecolor": "white",
            "showbackground": true,
            "ticks": "",
            "zerolinecolor": "white"
           },
           "yaxis": {
            "backgroundcolor": "#E5ECF6",
            "gridcolor": "white",
            "gridwidth": 2,
            "linecolor": "white",
            "showbackground": true,
            "ticks": "",
            "zerolinecolor": "white"
           },
           "zaxis": {
            "backgroundcolor": "#E5ECF6",
            "gridcolor": "white",
            "gridwidth": 2,
            "linecolor": "white",
            "showbackground": true,
            "ticks": "",
            "zerolinecolor": "white"
           }
          },
          "shapedefaults": {
           "line": {
            "color": "#2a3f5f"
           }
          },
          "ternary": {
           "aaxis": {
            "gridcolor": "white",
            "linecolor": "white",
            "ticks": ""
           },
           "baxis": {
            "gridcolor": "white",
            "linecolor": "white",
            "ticks": ""
           },
           "bgcolor": "#E5ECF6",
           "caxis": {
            "gridcolor": "white",
            "linecolor": "white",
            "ticks": ""
           }
          },
          "title": {
           "x": 0.05
          },
          "xaxis": {
           "automargin": true,
           "gridcolor": "white",
           "linecolor": "white",
           "ticks": "",
           "title": {
            "standoff": 15
           },
           "zerolinecolor": "white",
           "zerolinewidth": 2
          },
          "yaxis": {
           "automargin": true,
           "gridcolor": "white",
           "linecolor": "white",
           "ticks": "",
           "title": {
            "standoff": 15
           },
           "zerolinecolor": "white",
           "zerolinewidth": 2
          }
         }
        },
        "title": {
         "text": "Polygon and Line Intersection"
        },
        "xaxis": {
         "title": {
          "text": "X Axis"
         }
        },
        "yaxis": {
         "title": {
          "text": "Y Axis"
         }
        }
       }
      }
     },
     "metadata": {},
     "output_type": "display_data"
    }
   ],
   "source": [
    "plot_intersection(sample, line_3)"
   ]
  },
  {
   "cell_type": "code",
   "execution_count": 44,
   "metadata": {},
   "outputs": [
    {
     "data": {
      "text/plain": [
       "(27.55470577587296, 93.92084405438013, 10.0)"
      ]
     },
     "execution_count": 44,
     "metadata": {},
     "output_type": "execute_result"
    }
   ],
   "source": [
    "list(line_1.coords)[0]"
   ]
  },
  {
   "cell_type": "code",
   "execution_count": 45,
   "metadata": {},
   "outputs": [
    {
     "data": {
      "text/plain": [
       "10.0"
      ]
     },
     "execution_count": 45,
     "metadata": {},
     "output_type": "execute_result"
    }
   ],
   "source": [
    "max(z for x,y,z in list(sample.exterior.coords))"
   ]
  },
  {
   "cell_type": "code",
   "execution_count": 46,
   "metadata": {},
   "outputs": [
    {
     "name": "stdout",
     "output_type": "stream",
     "text": [
      "MULTILINESTRING Z ((31.639749840946074 96.96769653868911 5, 29.431190136335122 97.39073189940157 5), (28.06181925411113 97.65302605604191 5, 27.531407050059133 97.7546230912495 5))\n",
      "[5.0, 5.0, 5.0, 5.0]\n"
     ]
    }
   ],
   "source": [
    "point = Point([28.74, 91.42, 10])\n",
    "# geom = GeometryCollection([line_1, point])\n",
    "geom = MultiLineString([[[31.639749840946074, 96.96769653868911, 5], [29.431190136335122, 97.39073189940157, 5]],\n",
    "                        [[28.06181925411113, 97.65302605604191, 5], [27.531407050059133, 97.7546230912495, 5]]])\n",
    "print(geom)\n",
    "all_points = []\n",
    "\n",
    "# Iterate through geometries in the collection\n",
    "for subgeom in geom.geoms:\n",
    "  # Check if the subgeometry is a Point type\n",
    "  if subgeom.geom_type == 'Point' or subgeom.geom_type == 'LineString':\n",
    "    coord = list(subgeom.coords)\n",
    "    for cord in coord:\n",
    "      all_points.append(cord[2])\n",
    "\n",
    "# Print the list of points\n",
    "print(all_points)"
   ]
  },
  {
   "cell_type": "code",
   "execution_count": 47,
   "metadata": {},
   "outputs": [],
   "source": [
    "# source = [1,1,0]\n",
    "# dest = [[8,8,0]]\n",
    "# drone_height = 9\n",
    "\n",
    "# obstacles_2 = {0:[[3,3,10],[5,3,10],[5,5,10],[3,5,10],[3,3,10]]}\n",
    "\n",
    "# route, msg = create_shortest_dijkstra_path(source, dest, obstacles_2, drone_height, drone_max_height)\n",
    "\n",
    "# route"
   ]
  },
  {
   "cell_type": "code",
   "execution_count": 48,
   "metadata": {},
   "outputs": [],
   "source": [
    "# initial_plot(delivary_locations=dest, obstacles=obstacles_2, dp=source, route = route.copy())"
   ]
  }
 ],
 "metadata": {
  "kernelspec": {
   "display_name": "Python 3",
   "language": "python",
   "name": "python3"
  },
  "language_info": {
   "codemirror_mode": {
    "name": "ipython",
    "version": 3
   },
   "file_extension": ".py",
   "mimetype": "text/x-python",
   "name": "python",
   "nbconvert_exporter": "python",
   "pygments_lexer": "ipython3",
   "version": "3.11.3"
  }
 },
 "nbformat": 4,
 "nbformat_minor": 2
}
