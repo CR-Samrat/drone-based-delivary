{
 "cells": [
  {
   "cell_type": "code",
   "execution_count": 1,
   "metadata": {},
   "outputs": [],
   "source": [
    "import matplotlib.pyplot as plt"
   ]
  },
  {
   "cell_type": "code",
   "execution_count": 2,
   "metadata": {},
   "outputs": [],
   "source": [
    "def make_graph(point_1, point_2, obstacles):\n",
    "    plt.scatter(point_1[0], point_1[1], c=\"blue\")\n",
    "    plt.scatter(point_2[0], point_2[1], c=\"blue\")\n",
    "    plt.plot([point_1[0], point_2[0]],[point_1[1], point_2[1]], c=\"gray\")\n",
    "    for obstacle_id, points in obstacles.items():\n",
    "        start_x, start_y = points[0]\n",
    "        end_x, end_y = points[1]\n",
    "        plt.fill([start_x, end_x, end_x, start_x], [start_y, start_y, end_y, end_y],\n",
    "                 label=\"Obstacle\", alpha=0.7, color='red')\n",
    "    plt.show()"
   ]
  },
  {
   "cell_type": "code",
   "execution_count": 3,
   "metadata": {},
   "outputs": [],
   "source": [
    "def frange(start, stop, step):\n",
    "    while start < stop:\n",
    "        yield round(start, 4)\n",
    "        start += step"
   ]
  },
  {
   "cell_type": "code",
   "execution_count": 4,
   "metadata": {},
   "outputs": [],
   "source": [
    "def get_neighbors(point, grid):\n",
    "  \"\"\"\n",
    "  Get valid neighboring grid cells for a given point.\n",
    "\n",
    "  Args:\n",
    "      point: (x, y) coordinates of the current point.\n",
    "      grid: 2D grid representation of the environment.\n",
    "\n",
    "  Returns:\n",
    "      List of valid neighboring points (x, y).\n",
    "  \"\"\"\n",
    "  neighbors = []\n",
    "  x, y = point\n",
    "  rows, cols = len(grid), len(grid[0])\n",
    "  for dx, dy in [(0, 1), (1, 0), (0, -1), (-1, 0)]:\n",
    "    new_x, new_y = x + dx, y + dy\n",
    "    if 0 <= new_x < rows and 0 <= new_y < cols and grid[new_x][new_y] != 1:\n",
    "      neighbors.append((new_x, new_y))\n",
    "  return neighbors"
   ]
  },
  {
   "cell_type": "code",
   "execution_count": 5,
   "metadata": {},
   "outputs": [],
   "source": [
    "from collections import deque\n",
    "\n",
    "def generate_path(point_1, point_2, obstacles, grid_resolution=1):\n",
    "  # Define grid and mark obstacles\n",
    "  grid = [[0 for _ in range(int((point_2[0] - point_1[0]) / grid_resolution) + 1)]\n",
    "          for _ in range(int((point_2[1] - point_1[1]) / grid_resolution) + 1)]\n",
    "  for obs_id,obstacle in obstacles.items():\n",
    "    for i in frange(obstacle[0][0], obstacle[1][0] + 1, 0.2):\n",
    "      for j in frange(obstacle[0][1], obstacle[1][1] + 1, 0.2):\n",
    "        grid[i][j] = 1\n",
    "\n",
    "  # Use A* search for example\n",
    "  queue = deque([(point_1, 0)])  # (point, cost)\n",
    "  visited = set()\n",
    "  came_from = {}\n",
    "  while queue:\n",
    "    current, cost = queue.popleft()\n",
    "    if current == point_2:\n",
    "      break\n",
    "    if current in visited:\n",
    "      continue\n",
    "    visited.add(current)\n",
    "    for neighbor in get_neighbors(current, grid):\n",
    "      if neighbor not in visited and grid[neighbor[0]][neighbor[1]] != 1:\n",
    "        new_cost = cost + 1  # Adjust cost function if needed\n",
    "        if neighbor not in queue or new_cost < queue[queue.index(neighbor)][1]:\n",
    "          queue.append((neighbor, new_cost))\n",
    "          came_from[neighbor] = current\n",
    "\n",
    "  # Backtrack to reconstruct path\n",
    "  path = []\n",
    "  current = point_2\n",
    "  while current != point_1:\n",
    "    path.append(current)\n",
    "    current = came_from[current]\n",
    "  path.append(point_1)\n",
    "  path.reverse()  # Optional: reverse for start -> end order\n",
    "\n",
    "  return path"
   ]
  },
  {
   "cell_type": "code",
   "execution_count": 6,
   "metadata": {},
   "outputs": [
    {
     "ename": "TypeError",
     "evalue": "list indices must be integers or slices, not float",
     "output_type": "error",
     "traceback": [
      "\u001b[1;31m---------------------------------------------------------------------------\u001b[0m",
      "\u001b[1;31mTypeError\u001b[0m                                 Traceback (most recent call last)",
      "Cell \u001b[1;32mIn[6], line 9\u001b[0m\n\u001b[0;32m      2\u001b[0m point_2 \u001b[38;5;241m=\u001b[39m [\u001b[38;5;241m5\u001b[39m,\u001b[38;5;241m5\u001b[39m]\n\u001b[0;32m      4\u001b[0m obstacles \u001b[38;5;241m=\u001b[39m {\n\u001b[0;32m      5\u001b[0m     \u001b[38;5;241m0\u001b[39m : [[\u001b[38;5;241m2\u001b[39m,\u001b[38;5;241m2\u001b[39m],[\u001b[38;5;241m2.5\u001b[39m,\u001b[38;5;241m2.5\u001b[39m]],\n\u001b[0;32m      6\u001b[0m     \u001b[38;5;241m1\u001b[39m : [[\u001b[38;5;241m3\u001b[39m,\u001b[38;5;241m3\u001b[39m],[\u001b[38;5;241m3.5\u001b[39m,\u001b[38;5;241m3.5\u001b[39m]]\n\u001b[0;32m      7\u001b[0m }\n\u001b[1;32m----> 9\u001b[0m path \u001b[38;5;241m=\u001b[39m \u001b[43mgenerate_path\u001b[49m\u001b[43m(\u001b[49m\u001b[43mpoint_1\u001b[49m\u001b[43m,\u001b[49m\u001b[43m \u001b[49m\u001b[43mpoint_2\u001b[49m\u001b[43m,\u001b[49m\u001b[43m \u001b[49m\u001b[43mobstacles\u001b[49m\u001b[43m)\u001b[49m\n\u001b[0;32m     11\u001b[0m make_graph(point_1, point_2, obstacles)\n",
      "Cell \u001b[1;32mIn[5], line 10\u001b[0m, in \u001b[0;36mgenerate_path\u001b[1;34m(point_1, point_2, obstacles, grid_resolution)\u001b[0m\n\u001b[0;32m      8\u001b[0m   \u001b[38;5;28;01mfor\u001b[39;00m i \u001b[38;5;129;01min\u001b[39;00m frange(obstacle[\u001b[38;5;241m0\u001b[39m][\u001b[38;5;241m0\u001b[39m], obstacle[\u001b[38;5;241m1\u001b[39m][\u001b[38;5;241m0\u001b[39m] \u001b[38;5;241m+\u001b[39m \u001b[38;5;241m1\u001b[39m, \u001b[38;5;241m0.2\u001b[39m):\n\u001b[0;32m      9\u001b[0m     \u001b[38;5;28;01mfor\u001b[39;00m j \u001b[38;5;129;01min\u001b[39;00m frange(obstacle[\u001b[38;5;241m0\u001b[39m][\u001b[38;5;241m1\u001b[39m], obstacle[\u001b[38;5;241m1\u001b[39m][\u001b[38;5;241m1\u001b[39m] \u001b[38;5;241m+\u001b[39m \u001b[38;5;241m1\u001b[39m, \u001b[38;5;241m0.2\u001b[39m):\n\u001b[1;32m---> 10\u001b[0m       \u001b[43mgrid\u001b[49m\u001b[43m[\u001b[49m\u001b[43mi\u001b[49m\u001b[43m]\u001b[49m\u001b[43m[\u001b[49m\u001b[43mj\u001b[49m\u001b[43m]\u001b[49m \u001b[38;5;241m=\u001b[39m \u001b[38;5;241m1\u001b[39m\n\u001b[0;32m     12\u001b[0m \u001b[38;5;66;03m# Use A* search for example\u001b[39;00m\n\u001b[0;32m     13\u001b[0m queue \u001b[38;5;241m=\u001b[39m deque([(point_1, \u001b[38;5;241m0\u001b[39m)])  \u001b[38;5;66;03m# (point, cost)\u001b[39;00m\n",
      "\u001b[1;31mTypeError\u001b[0m: list indices must be integers or slices, not float"
     ]
    }
   ],
   "source": [
    "point_1 = [1,1]\n",
    "point_2 = [5,5]\n",
    "\n",
    "obstacles = {\n",
    "    0 : [[2,2],[2.5,2.5]],\n",
    "    1 : [[3,3],[3.5,3.5]]\n",
    "}\n",
    "\n",
    "path = generate_path(point_1, point_2, obstacles)\n",
    "\n",
    "make_graph(point_1, point_2, obstacles)"
   ]
  }
 ],
 "metadata": {
  "kernelspec": {
   "display_name": "Python 3",
   "language": "python",
   "name": "python3"
  },
  "language_info": {
   "codemirror_mode": {
    "name": "ipython",
    "version": 3
   },
   "file_extension": ".py",
   "mimetype": "text/x-python",
   "name": "python",
   "nbconvert_exporter": "python",
   "pygments_lexer": "ipython3",
   "version": "3.11.3"
  }
 },
 "nbformat": 4,
 "nbformat_minor": 2
}
