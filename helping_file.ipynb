{
 "cells": [
  {
   "cell_type": "code",
   "execution_count": 22,
   "metadata": {},
   "outputs": [],
   "source": [
    "import plotly.graph_objects as go\n",
    "from scipy.spatial import Delaunay\n",
    "import numpy as np"
   ]
  },
  {
   "cell_type": "code",
   "execution_count": 23,
   "metadata": {},
   "outputs": [
    {
     "data": {
      "application/vnd.plotly.v1+json": {
       "config": {
        "plotlyServerURL": "https://plot.ly"
       },
       "data": [
        {
         "line": {
          "color": "red",
          "width": 2
         },
         "marker": {
          "color": "blue",
          "size": 5
         },
         "mode": "lines+markers",
         "type": "scatter3d",
         "x": [
          1,
          2,
          3
         ],
         "y": [
          4,
          5,
          6
         ],
         "z": [
          7,
          8,
          9
         ]
        }
       ],
       "layout": {
        "height": 800,
        "template": {
         "data": {
          "bar": [
           {
            "error_x": {
             "color": "#2a3f5f"
            },
            "error_y": {
             "color": "#2a3f5f"
            },
            "marker": {
             "line": {
              "color": "#E5ECF6",
              "width": 0.5
             },
             "pattern": {
              "fillmode": "overlay",
              "size": 10,
              "solidity": 0.2
             }
            },
            "type": "bar"
           }
          ],
          "barpolar": [
           {
            "marker": {
             "line": {
              "color": "#E5ECF6",
              "width": 0.5
             },
             "pattern": {
              "fillmode": "overlay",
              "size": 10,
              "solidity": 0.2
             }
            },
            "type": "barpolar"
           }
          ],
          "carpet": [
           {
            "aaxis": {
             "endlinecolor": "#2a3f5f",
             "gridcolor": "white",
             "linecolor": "white",
             "minorgridcolor": "white",
             "startlinecolor": "#2a3f5f"
            },
            "baxis": {
             "endlinecolor": "#2a3f5f",
             "gridcolor": "white",
             "linecolor": "white",
             "minorgridcolor": "white",
             "startlinecolor": "#2a3f5f"
            },
            "type": "carpet"
           }
          ],
          "choropleth": [
           {
            "colorbar": {
             "outlinewidth": 0,
             "ticks": ""
            },
            "type": "choropleth"
           }
          ],
          "contour": [
           {
            "colorbar": {
             "outlinewidth": 0,
             "ticks": ""
            },
            "colorscale": [
             [
              0,
              "#0d0887"
             ],
             [
              0.1111111111111111,
              "#46039f"
             ],
             [
              0.2222222222222222,
              "#7201a8"
             ],
             [
              0.3333333333333333,
              "#9c179e"
             ],
             [
              0.4444444444444444,
              "#bd3786"
             ],
             [
              0.5555555555555556,
              "#d8576b"
             ],
             [
              0.6666666666666666,
              "#ed7953"
             ],
             [
              0.7777777777777778,
              "#fb9f3a"
             ],
             [
              0.8888888888888888,
              "#fdca26"
             ],
             [
              1,
              "#f0f921"
             ]
            ],
            "type": "contour"
           }
          ],
          "contourcarpet": [
           {
            "colorbar": {
             "outlinewidth": 0,
             "ticks": ""
            },
            "type": "contourcarpet"
           }
          ],
          "heatmap": [
           {
            "colorbar": {
             "outlinewidth": 0,
             "ticks": ""
            },
            "colorscale": [
             [
              0,
              "#0d0887"
             ],
             [
              0.1111111111111111,
              "#46039f"
             ],
             [
              0.2222222222222222,
              "#7201a8"
             ],
             [
              0.3333333333333333,
              "#9c179e"
             ],
             [
              0.4444444444444444,
              "#bd3786"
             ],
             [
              0.5555555555555556,
              "#d8576b"
             ],
             [
              0.6666666666666666,
              "#ed7953"
             ],
             [
              0.7777777777777778,
              "#fb9f3a"
             ],
             [
              0.8888888888888888,
              "#fdca26"
             ],
             [
              1,
              "#f0f921"
             ]
            ],
            "type": "heatmap"
           }
          ],
          "heatmapgl": [
           {
            "colorbar": {
             "outlinewidth": 0,
             "ticks": ""
            },
            "colorscale": [
             [
              0,
              "#0d0887"
             ],
             [
              0.1111111111111111,
              "#46039f"
             ],
             [
              0.2222222222222222,
              "#7201a8"
             ],
             [
              0.3333333333333333,
              "#9c179e"
             ],
             [
              0.4444444444444444,
              "#bd3786"
             ],
             [
              0.5555555555555556,
              "#d8576b"
             ],
             [
              0.6666666666666666,
              "#ed7953"
             ],
             [
              0.7777777777777778,
              "#fb9f3a"
             ],
             [
              0.8888888888888888,
              "#fdca26"
             ],
             [
              1,
              "#f0f921"
             ]
            ],
            "type": "heatmapgl"
           }
          ],
          "histogram": [
           {
            "marker": {
             "pattern": {
              "fillmode": "overlay",
              "size": 10,
              "solidity": 0.2
             }
            },
            "type": "histogram"
           }
          ],
          "histogram2d": [
           {
            "colorbar": {
             "outlinewidth": 0,
             "ticks": ""
            },
            "colorscale": [
             [
              0,
              "#0d0887"
             ],
             [
              0.1111111111111111,
              "#46039f"
             ],
             [
              0.2222222222222222,
              "#7201a8"
             ],
             [
              0.3333333333333333,
              "#9c179e"
             ],
             [
              0.4444444444444444,
              "#bd3786"
             ],
             [
              0.5555555555555556,
              "#d8576b"
             ],
             [
              0.6666666666666666,
              "#ed7953"
             ],
             [
              0.7777777777777778,
              "#fb9f3a"
             ],
             [
              0.8888888888888888,
              "#fdca26"
             ],
             [
              1,
              "#f0f921"
             ]
            ],
            "type": "histogram2d"
           }
          ],
          "histogram2dcontour": [
           {
            "colorbar": {
             "outlinewidth": 0,
             "ticks": ""
            },
            "colorscale": [
             [
              0,
              "#0d0887"
             ],
             [
              0.1111111111111111,
              "#46039f"
             ],
             [
              0.2222222222222222,
              "#7201a8"
             ],
             [
              0.3333333333333333,
              "#9c179e"
             ],
             [
              0.4444444444444444,
              "#bd3786"
             ],
             [
              0.5555555555555556,
              "#d8576b"
             ],
             [
              0.6666666666666666,
              "#ed7953"
             ],
             [
              0.7777777777777778,
              "#fb9f3a"
             ],
             [
              0.8888888888888888,
              "#fdca26"
             ],
             [
              1,
              "#f0f921"
             ]
            ],
            "type": "histogram2dcontour"
           }
          ],
          "mesh3d": [
           {
            "colorbar": {
             "outlinewidth": 0,
             "ticks": ""
            },
            "type": "mesh3d"
           }
          ],
          "parcoords": [
           {
            "line": {
             "colorbar": {
              "outlinewidth": 0,
              "ticks": ""
             }
            },
            "type": "parcoords"
           }
          ],
          "pie": [
           {
            "automargin": true,
            "type": "pie"
           }
          ],
          "scatter": [
           {
            "fillpattern": {
             "fillmode": "overlay",
             "size": 10,
             "solidity": 0.2
            },
            "type": "scatter"
           }
          ],
          "scatter3d": [
           {
            "line": {
             "colorbar": {
              "outlinewidth": 0,
              "ticks": ""
             }
            },
            "marker": {
             "colorbar": {
              "outlinewidth": 0,
              "ticks": ""
             }
            },
            "type": "scatter3d"
           }
          ],
          "scattercarpet": [
           {
            "marker": {
             "colorbar": {
              "outlinewidth": 0,
              "ticks": ""
             }
            },
            "type": "scattercarpet"
           }
          ],
          "scattergeo": [
           {
            "marker": {
             "colorbar": {
              "outlinewidth": 0,
              "ticks": ""
             }
            },
            "type": "scattergeo"
           }
          ],
          "scattergl": [
           {
            "marker": {
             "colorbar": {
              "outlinewidth": 0,
              "ticks": ""
             }
            },
            "type": "scattergl"
           }
          ],
          "scattermapbox": [
           {
            "marker": {
             "colorbar": {
              "outlinewidth": 0,
              "ticks": ""
             }
            },
            "type": "scattermapbox"
           }
          ],
          "scatterpolar": [
           {
            "marker": {
             "colorbar": {
              "outlinewidth": 0,
              "ticks": ""
             }
            },
            "type": "scatterpolar"
           }
          ],
          "scatterpolargl": [
           {
            "marker": {
             "colorbar": {
              "outlinewidth": 0,
              "ticks": ""
             }
            },
            "type": "scatterpolargl"
           }
          ],
          "scatterternary": [
           {
            "marker": {
             "colorbar": {
              "outlinewidth": 0,
              "ticks": ""
             }
            },
            "type": "scatterternary"
           }
          ],
          "surface": [
           {
            "colorbar": {
             "outlinewidth": 0,
             "ticks": ""
            },
            "colorscale": [
             [
              0,
              "#0d0887"
             ],
             [
              0.1111111111111111,
              "#46039f"
             ],
             [
              0.2222222222222222,
              "#7201a8"
             ],
             [
              0.3333333333333333,
              "#9c179e"
             ],
             [
              0.4444444444444444,
              "#bd3786"
             ],
             [
              0.5555555555555556,
              "#d8576b"
             ],
             [
              0.6666666666666666,
              "#ed7953"
             ],
             [
              0.7777777777777778,
              "#fb9f3a"
             ],
             [
              0.8888888888888888,
              "#fdca26"
             ],
             [
              1,
              "#f0f921"
             ]
            ],
            "type": "surface"
           }
          ],
          "table": [
           {
            "cells": {
             "fill": {
              "color": "#EBF0F8"
             },
             "line": {
              "color": "white"
             }
            },
            "header": {
             "fill": {
              "color": "#C8D4E3"
             },
             "line": {
              "color": "white"
             }
            },
            "type": "table"
           }
          ]
         },
         "layout": {
          "annotationdefaults": {
           "arrowcolor": "#2a3f5f",
           "arrowhead": 0,
           "arrowwidth": 1
          },
          "autotypenumbers": "strict",
          "coloraxis": {
           "colorbar": {
            "outlinewidth": 0,
            "ticks": ""
           }
          },
          "colorscale": {
           "diverging": [
            [
             0,
             "#8e0152"
            ],
            [
             0.1,
             "#c51b7d"
            ],
            [
             0.2,
             "#de77ae"
            ],
            [
             0.3,
             "#f1b6da"
            ],
            [
             0.4,
             "#fde0ef"
            ],
            [
             0.5,
             "#f7f7f7"
            ],
            [
             0.6,
             "#e6f5d0"
            ],
            [
             0.7,
             "#b8e186"
            ],
            [
             0.8,
             "#7fbc41"
            ],
            [
             0.9,
             "#4d9221"
            ],
            [
             1,
             "#276419"
            ]
           ],
           "sequential": [
            [
             0,
             "#0d0887"
            ],
            [
             0.1111111111111111,
             "#46039f"
            ],
            [
             0.2222222222222222,
             "#7201a8"
            ],
            [
             0.3333333333333333,
             "#9c179e"
            ],
            [
             0.4444444444444444,
             "#bd3786"
            ],
            [
             0.5555555555555556,
             "#d8576b"
            ],
            [
             0.6666666666666666,
             "#ed7953"
            ],
            [
             0.7777777777777778,
             "#fb9f3a"
            ],
            [
             0.8888888888888888,
             "#fdca26"
            ],
            [
             1,
             "#f0f921"
            ]
           ],
           "sequentialminus": [
            [
             0,
             "#0d0887"
            ],
            [
             0.1111111111111111,
             "#46039f"
            ],
            [
             0.2222222222222222,
             "#7201a8"
            ],
            [
             0.3333333333333333,
             "#9c179e"
            ],
            [
             0.4444444444444444,
             "#bd3786"
            ],
            [
             0.5555555555555556,
             "#d8576b"
            ],
            [
             0.6666666666666666,
             "#ed7953"
            ],
            [
             0.7777777777777778,
             "#fb9f3a"
            ],
            [
             0.8888888888888888,
             "#fdca26"
            ],
            [
             1,
             "#f0f921"
            ]
           ]
          },
          "colorway": [
           "#636efa",
           "#EF553B",
           "#00cc96",
           "#ab63fa",
           "#FFA15A",
           "#19d3f3",
           "#FF6692",
           "#B6E880",
           "#FF97FF",
           "#FECB52"
          ],
          "font": {
           "color": "#2a3f5f"
          },
          "geo": {
           "bgcolor": "white",
           "lakecolor": "white",
           "landcolor": "#E5ECF6",
           "showlakes": true,
           "showland": true,
           "subunitcolor": "white"
          },
          "hoverlabel": {
           "align": "left"
          },
          "hovermode": "closest",
          "mapbox": {
           "style": "light"
          },
          "paper_bgcolor": "white",
          "plot_bgcolor": "#E5ECF6",
          "polar": {
           "angularaxis": {
            "gridcolor": "white",
            "linecolor": "white",
            "ticks": ""
           },
           "bgcolor": "#E5ECF6",
           "radialaxis": {
            "gridcolor": "white",
            "linecolor": "white",
            "ticks": ""
           }
          },
          "scene": {
           "xaxis": {
            "backgroundcolor": "#E5ECF6",
            "gridcolor": "white",
            "gridwidth": 2,
            "linecolor": "white",
            "showbackground": true,
            "ticks": "",
            "zerolinecolor": "white"
           },
           "yaxis": {
            "backgroundcolor": "#E5ECF6",
            "gridcolor": "white",
            "gridwidth": 2,
            "linecolor": "white",
            "showbackground": true,
            "ticks": "",
            "zerolinecolor": "white"
           },
           "zaxis": {
            "backgroundcolor": "#E5ECF6",
            "gridcolor": "white",
            "gridwidth": 2,
            "linecolor": "white",
            "showbackground": true,
            "ticks": "",
            "zerolinecolor": "white"
           }
          },
          "shapedefaults": {
           "line": {
            "color": "#2a3f5f"
           }
          },
          "ternary": {
           "aaxis": {
            "gridcolor": "white",
            "linecolor": "white",
            "ticks": ""
           },
           "baxis": {
            "gridcolor": "white",
            "linecolor": "white",
            "ticks": ""
           },
           "bgcolor": "#E5ECF6",
           "caxis": {
            "gridcolor": "white",
            "linecolor": "white",
            "ticks": ""
           }
          },
          "title": {
           "x": 0.05
          },
          "xaxis": {
           "automargin": true,
           "gridcolor": "white",
           "linecolor": "white",
           "ticks": "",
           "title": {
            "standoff": 15
           },
           "zerolinecolor": "white",
           "zerolinewidth": 2
          },
          "yaxis": {
           "automargin": true,
           "gridcolor": "white",
           "linecolor": "white",
           "ticks": "",
           "title": {
            "standoff": 15
           },
           "zerolinecolor": "white",
           "zerolinewidth": 2
          }
         }
        },
        "width": 800
       }
      }
     },
     "metadata": {},
     "output_type": "display_data"
    }
   ],
   "source": [
    "fig = go.Figure(data=[go.Scatter3d(\n",
    "    x=[1, 2, 3], \n",
    "    y=[4, 5, 6], \n",
    "    z=[7, 8, 9], \n",
    "    mode='lines+markers',\n",
    "    marker=dict(size=5, color='blue'),\n",
    "    line = dict(color=\"red\", width=2)\n",
    ")])\n",
    "\n",
    "fig.update_layout(\n",
    "    width = 800,\n",
    "    height = 800\n",
    ")\n",
    "\n",
    "fig.show()"
   ]
  },
  {
   "cell_type": "code",
   "execution_count": 24,
   "metadata": {},
   "outputs": [],
   "source": [
    "def plot_rectangle():\n",
    "\n",
    "    # Vertices of the rectangular prism\n",
    "    vertices = [\n",
    "        [3, 3, 0], [5, 3, 0], [5, 5, 0], [3, 5, 0],  # Bottom face\n",
    "        [3, 3, 10], [5, 3, 10], [5, 5, 10], [3, 5, 10]  # Top face\n",
    "    ]\n",
    "\n",
    "    # Lists of x, y, z coordinates\n",
    "    x = [vertex[0] for vertex in vertices]\n",
    "    y = [vertex[1] for vertex in vertices]\n",
    "    z = [vertex[2] for vertex in vertices]\n",
    "\n",
    "    # Define the 12 triangles composing the rectangular prism\n",
    "\n",
    "    i = [0, 1, 7, 7, 5, 5, 7, 7, 0, 2, 4, 6]\n",
    "    j = [1, 5, 3, 6, 1, 6, 3, 4, 1, 3, 5, 7]\n",
    "    k = [4, 4, 2, 2, 2, 2, 0, 0, 2, 0, 6, 4]\n",
    "\n",
    "    # Create a 3D mesh plot\n",
    "    fig = go.Figure(data=[go.Mesh3d(\n",
    "        x=x,\n",
    "        y=y,\n",
    "        z=z,\n",
    "        i=i,\n",
    "        j=j,\n",
    "        k=k,\n",
    "        opacity=0.5,\n",
    "        color='red'\n",
    "    )])\n",
    "\n",
    "    # Update layout for better visualization\n",
    "    fig.update_layout(scene=dict(\n",
    "        xaxis=dict(nticks=4, range=[2, 6]),\n",
    "        yaxis=dict(nticks=4, range=[2, 6]),\n",
    "        zaxis=dict(nticks=6, range=[0, 11])\n",
    "    ))\n",
    "\n",
    "    # Show the figure\n",
    "    fig.show()"
   ]
  },
  {
   "cell_type": "code",
   "execution_count": 25,
   "metadata": {},
   "outputs": [
    {
     "data": {
      "application/vnd.plotly.v1+json": {
       "config": {
        "plotlyServerURL": "https://plot.ly"
       },
       "data": [
        {
         "color": "red",
         "i": [
          0,
          1,
          7,
          7,
          5,
          5,
          7,
          7,
          0,
          2,
          4,
          6
         ],
         "j": [
          1,
          5,
          3,
          6,
          1,
          6,
          3,
          4,
          1,
          3,
          5,
          7
         ],
         "k": [
          4,
          4,
          2,
          2,
          2,
          2,
          0,
          0,
          2,
          0,
          6,
          4
         ],
         "opacity": 0.5,
         "type": "mesh3d",
         "x": [
          3,
          5,
          5,
          3,
          3,
          5,
          5,
          3
         ],
         "y": [
          3,
          3,
          5,
          5,
          3,
          3,
          5,
          5
         ],
         "z": [
          0,
          0,
          0,
          0,
          10,
          10,
          10,
          10
         ]
        }
       ],
       "layout": {
        "scene": {
         "xaxis": {
          "nticks": 4,
          "range": [
           2,
           6
          ]
         },
         "yaxis": {
          "nticks": 4,
          "range": [
           2,
           6
          ]
         },
         "zaxis": {
          "nticks": 6,
          "range": [
           0,
           11
          ]
         }
        },
        "template": {
         "data": {
          "bar": [
           {
            "error_x": {
             "color": "#2a3f5f"
            },
            "error_y": {
             "color": "#2a3f5f"
            },
            "marker": {
             "line": {
              "color": "#E5ECF6",
              "width": 0.5
             },
             "pattern": {
              "fillmode": "overlay",
              "size": 10,
              "solidity": 0.2
             }
            },
            "type": "bar"
           }
          ],
          "barpolar": [
           {
            "marker": {
             "line": {
              "color": "#E5ECF6",
              "width": 0.5
             },
             "pattern": {
              "fillmode": "overlay",
              "size": 10,
              "solidity": 0.2
             }
            },
            "type": "barpolar"
           }
          ],
          "carpet": [
           {
            "aaxis": {
             "endlinecolor": "#2a3f5f",
             "gridcolor": "white",
             "linecolor": "white",
             "minorgridcolor": "white",
             "startlinecolor": "#2a3f5f"
            },
            "baxis": {
             "endlinecolor": "#2a3f5f",
             "gridcolor": "white",
             "linecolor": "white",
             "minorgridcolor": "white",
             "startlinecolor": "#2a3f5f"
            },
            "type": "carpet"
           }
          ],
          "choropleth": [
           {
            "colorbar": {
             "outlinewidth": 0,
             "ticks": ""
            },
            "type": "choropleth"
           }
          ],
          "contour": [
           {
            "colorbar": {
             "outlinewidth": 0,
             "ticks": ""
            },
            "colorscale": [
             [
              0,
              "#0d0887"
             ],
             [
              0.1111111111111111,
              "#46039f"
             ],
             [
              0.2222222222222222,
              "#7201a8"
             ],
             [
              0.3333333333333333,
              "#9c179e"
             ],
             [
              0.4444444444444444,
              "#bd3786"
             ],
             [
              0.5555555555555556,
              "#d8576b"
             ],
             [
              0.6666666666666666,
              "#ed7953"
             ],
             [
              0.7777777777777778,
              "#fb9f3a"
             ],
             [
              0.8888888888888888,
              "#fdca26"
             ],
             [
              1,
              "#f0f921"
             ]
            ],
            "type": "contour"
           }
          ],
          "contourcarpet": [
           {
            "colorbar": {
             "outlinewidth": 0,
             "ticks": ""
            },
            "type": "contourcarpet"
           }
          ],
          "heatmap": [
           {
            "colorbar": {
             "outlinewidth": 0,
             "ticks": ""
            },
            "colorscale": [
             [
              0,
              "#0d0887"
             ],
             [
              0.1111111111111111,
              "#46039f"
             ],
             [
              0.2222222222222222,
              "#7201a8"
             ],
             [
              0.3333333333333333,
              "#9c179e"
             ],
             [
              0.4444444444444444,
              "#bd3786"
             ],
             [
              0.5555555555555556,
              "#d8576b"
             ],
             [
              0.6666666666666666,
              "#ed7953"
             ],
             [
              0.7777777777777778,
              "#fb9f3a"
             ],
             [
              0.8888888888888888,
              "#fdca26"
             ],
             [
              1,
              "#f0f921"
             ]
            ],
            "type": "heatmap"
           }
          ],
          "heatmapgl": [
           {
            "colorbar": {
             "outlinewidth": 0,
             "ticks": ""
            },
            "colorscale": [
             [
              0,
              "#0d0887"
             ],
             [
              0.1111111111111111,
              "#46039f"
             ],
             [
              0.2222222222222222,
              "#7201a8"
             ],
             [
              0.3333333333333333,
              "#9c179e"
             ],
             [
              0.4444444444444444,
              "#bd3786"
             ],
             [
              0.5555555555555556,
              "#d8576b"
             ],
             [
              0.6666666666666666,
              "#ed7953"
             ],
             [
              0.7777777777777778,
              "#fb9f3a"
             ],
             [
              0.8888888888888888,
              "#fdca26"
             ],
             [
              1,
              "#f0f921"
             ]
            ],
            "type": "heatmapgl"
           }
          ],
          "histogram": [
           {
            "marker": {
             "pattern": {
              "fillmode": "overlay",
              "size": 10,
              "solidity": 0.2
             }
            },
            "type": "histogram"
           }
          ],
          "histogram2d": [
           {
            "colorbar": {
             "outlinewidth": 0,
             "ticks": ""
            },
            "colorscale": [
             [
              0,
              "#0d0887"
             ],
             [
              0.1111111111111111,
              "#46039f"
             ],
             [
              0.2222222222222222,
              "#7201a8"
             ],
             [
              0.3333333333333333,
              "#9c179e"
             ],
             [
              0.4444444444444444,
              "#bd3786"
             ],
             [
              0.5555555555555556,
              "#d8576b"
             ],
             [
              0.6666666666666666,
              "#ed7953"
             ],
             [
              0.7777777777777778,
              "#fb9f3a"
             ],
             [
              0.8888888888888888,
              "#fdca26"
             ],
             [
              1,
              "#f0f921"
             ]
            ],
            "type": "histogram2d"
           }
          ],
          "histogram2dcontour": [
           {
            "colorbar": {
             "outlinewidth": 0,
             "ticks": ""
            },
            "colorscale": [
             [
              0,
              "#0d0887"
             ],
             [
              0.1111111111111111,
              "#46039f"
             ],
             [
              0.2222222222222222,
              "#7201a8"
             ],
             [
              0.3333333333333333,
              "#9c179e"
             ],
             [
              0.4444444444444444,
              "#bd3786"
             ],
             [
              0.5555555555555556,
              "#d8576b"
             ],
             [
              0.6666666666666666,
              "#ed7953"
             ],
             [
              0.7777777777777778,
              "#fb9f3a"
             ],
             [
              0.8888888888888888,
              "#fdca26"
             ],
             [
              1,
              "#f0f921"
             ]
            ],
            "type": "histogram2dcontour"
           }
          ],
          "mesh3d": [
           {
            "colorbar": {
             "outlinewidth": 0,
             "ticks": ""
            },
            "type": "mesh3d"
           }
          ],
          "parcoords": [
           {
            "line": {
             "colorbar": {
              "outlinewidth": 0,
              "ticks": ""
             }
            },
            "type": "parcoords"
           }
          ],
          "pie": [
           {
            "automargin": true,
            "type": "pie"
           }
          ],
          "scatter": [
           {
            "fillpattern": {
             "fillmode": "overlay",
             "size": 10,
             "solidity": 0.2
            },
            "type": "scatter"
           }
          ],
          "scatter3d": [
           {
            "line": {
             "colorbar": {
              "outlinewidth": 0,
              "ticks": ""
             }
            },
            "marker": {
             "colorbar": {
              "outlinewidth": 0,
              "ticks": ""
             }
            },
            "type": "scatter3d"
           }
          ],
          "scattercarpet": [
           {
            "marker": {
             "colorbar": {
              "outlinewidth": 0,
              "ticks": ""
             }
            },
            "type": "scattercarpet"
           }
          ],
          "scattergeo": [
           {
            "marker": {
             "colorbar": {
              "outlinewidth": 0,
              "ticks": ""
             }
            },
            "type": "scattergeo"
           }
          ],
          "scattergl": [
           {
            "marker": {
             "colorbar": {
              "outlinewidth": 0,
              "ticks": ""
             }
            },
            "type": "scattergl"
           }
          ],
          "scattermapbox": [
           {
            "marker": {
             "colorbar": {
              "outlinewidth": 0,
              "ticks": ""
             }
            },
            "type": "scattermapbox"
           }
          ],
          "scatterpolar": [
           {
            "marker": {
             "colorbar": {
              "outlinewidth": 0,
              "ticks": ""
             }
            },
            "type": "scatterpolar"
           }
          ],
          "scatterpolargl": [
           {
            "marker": {
             "colorbar": {
              "outlinewidth": 0,
              "ticks": ""
             }
            },
            "type": "scatterpolargl"
           }
          ],
          "scatterternary": [
           {
            "marker": {
             "colorbar": {
              "outlinewidth": 0,
              "ticks": ""
             }
            },
            "type": "scatterternary"
           }
          ],
          "surface": [
           {
            "colorbar": {
             "outlinewidth": 0,
             "ticks": ""
            },
            "colorscale": [
             [
              0,
              "#0d0887"
             ],
             [
              0.1111111111111111,
              "#46039f"
             ],
             [
              0.2222222222222222,
              "#7201a8"
             ],
             [
              0.3333333333333333,
              "#9c179e"
             ],
             [
              0.4444444444444444,
              "#bd3786"
             ],
             [
              0.5555555555555556,
              "#d8576b"
             ],
             [
              0.6666666666666666,
              "#ed7953"
             ],
             [
              0.7777777777777778,
              "#fb9f3a"
             ],
             [
              0.8888888888888888,
              "#fdca26"
             ],
             [
              1,
              "#f0f921"
             ]
            ],
            "type": "surface"
           }
          ],
          "table": [
           {
            "cells": {
             "fill": {
              "color": "#EBF0F8"
             },
             "line": {
              "color": "white"
             }
            },
            "header": {
             "fill": {
              "color": "#C8D4E3"
             },
             "line": {
              "color": "white"
             }
            },
            "type": "table"
           }
          ]
         },
         "layout": {
          "annotationdefaults": {
           "arrowcolor": "#2a3f5f",
           "arrowhead": 0,
           "arrowwidth": 1
          },
          "autotypenumbers": "strict",
          "coloraxis": {
           "colorbar": {
            "outlinewidth": 0,
            "ticks": ""
           }
          },
          "colorscale": {
           "diverging": [
            [
             0,
             "#8e0152"
            ],
            [
             0.1,
             "#c51b7d"
            ],
            [
             0.2,
             "#de77ae"
            ],
            [
             0.3,
             "#f1b6da"
            ],
            [
             0.4,
             "#fde0ef"
            ],
            [
             0.5,
             "#f7f7f7"
            ],
            [
             0.6,
             "#e6f5d0"
            ],
            [
             0.7,
             "#b8e186"
            ],
            [
             0.8,
             "#7fbc41"
            ],
            [
             0.9,
             "#4d9221"
            ],
            [
             1,
             "#276419"
            ]
           ],
           "sequential": [
            [
             0,
             "#0d0887"
            ],
            [
             0.1111111111111111,
             "#46039f"
            ],
            [
             0.2222222222222222,
             "#7201a8"
            ],
            [
             0.3333333333333333,
             "#9c179e"
            ],
            [
             0.4444444444444444,
             "#bd3786"
            ],
            [
             0.5555555555555556,
             "#d8576b"
            ],
            [
             0.6666666666666666,
             "#ed7953"
            ],
            [
             0.7777777777777778,
             "#fb9f3a"
            ],
            [
             0.8888888888888888,
             "#fdca26"
            ],
            [
             1,
             "#f0f921"
            ]
           ],
           "sequentialminus": [
            [
             0,
             "#0d0887"
            ],
            [
             0.1111111111111111,
             "#46039f"
            ],
            [
             0.2222222222222222,
             "#7201a8"
            ],
            [
             0.3333333333333333,
             "#9c179e"
            ],
            [
             0.4444444444444444,
             "#bd3786"
            ],
            [
             0.5555555555555556,
             "#d8576b"
            ],
            [
             0.6666666666666666,
             "#ed7953"
            ],
            [
             0.7777777777777778,
             "#fb9f3a"
            ],
            [
             0.8888888888888888,
             "#fdca26"
            ],
            [
             1,
             "#f0f921"
            ]
           ]
          },
          "colorway": [
           "#636efa",
           "#EF553B",
           "#00cc96",
           "#ab63fa",
           "#FFA15A",
           "#19d3f3",
           "#FF6692",
           "#B6E880",
           "#FF97FF",
           "#FECB52"
          ],
          "font": {
           "color": "#2a3f5f"
          },
          "geo": {
           "bgcolor": "white",
           "lakecolor": "white",
           "landcolor": "#E5ECF6",
           "showlakes": true,
           "showland": true,
           "subunitcolor": "white"
          },
          "hoverlabel": {
           "align": "left"
          },
          "hovermode": "closest",
          "mapbox": {
           "style": "light"
          },
          "paper_bgcolor": "white",
          "plot_bgcolor": "#E5ECF6",
          "polar": {
           "angularaxis": {
            "gridcolor": "white",
            "linecolor": "white",
            "ticks": ""
           },
           "bgcolor": "#E5ECF6",
           "radialaxis": {
            "gridcolor": "white",
            "linecolor": "white",
            "ticks": ""
           }
          },
          "scene": {
           "xaxis": {
            "backgroundcolor": "#E5ECF6",
            "gridcolor": "white",
            "gridwidth": 2,
            "linecolor": "white",
            "showbackground": true,
            "ticks": "",
            "zerolinecolor": "white"
           },
           "yaxis": {
            "backgroundcolor": "#E5ECF6",
            "gridcolor": "white",
            "gridwidth": 2,
            "linecolor": "white",
            "showbackground": true,
            "ticks": "",
            "zerolinecolor": "white"
           },
           "zaxis": {
            "backgroundcolor": "#E5ECF6",
            "gridcolor": "white",
            "gridwidth": 2,
            "linecolor": "white",
            "showbackground": true,
            "ticks": "",
            "zerolinecolor": "white"
           }
          },
          "shapedefaults": {
           "line": {
            "color": "#2a3f5f"
           }
          },
          "ternary": {
           "aaxis": {
            "gridcolor": "white",
            "linecolor": "white",
            "ticks": ""
           },
           "baxis": {
            "gridcolor": "white",
            "linecolor": "white",
            "ticks": ""
           },
           "bgcolor": "#E5ECF6",
           "caxis": {
            "gridcolor": "white",
            "linecolor": "white",
            "ticks": ""
           }
          },
          "title": {
           "x": 0.05
          },
          "xaxis": {
           "automargin": true,
           "gridcolor": "white",
           "linecolor": "white",
           "ticks": "",
           "title": {
            "standoff": 15
           },
           "zerolinecolor": "white",
           "zerolinewidth": 2
          },
          "yaxis": {
           "automargin": true,
           "gridcolor": "white",
           "linecolor": "white",
           "ticks": "",
           "title": {
            "standoff": 15
           },
           "zerolinecolor": "white",
           "zerolinewidth": 2
          }
         }
        }
       }
      }
     },
     "metadata": {},
     "output_type": "display_data"
    }
   ],
   "source": [
    "plot_rectangle()"
   ]
  },
  {
   "cell_type": "markdown",
   "metadata": {},
   "source": [
    "def initial_plot(delivary_locations, obstacles, dp=None, route=None):\n",
    "    fig = go.Figure()\n",
    "\n",
    "    # Plot each building\n",
    "    for building in obstacles.values():\n",
    "        x = [point[0] for point in building]\n",
    "        y = [point[1] for point in building]\n",
    "        z = [point[2] for point in building]\n",
    "\n",
    "        # Bottom face\n",
    "        fig.add_trace(go.Mesh3d(\n",
    "            x=x,\n",
    "            y=y,\n",
    "            z=[0] * len(x),\n",
    "            color='red',\n",
    "            opacity=0.80\n",
    "        ))\n",
    "\n",
    "        # Top face\n",
    "        fig.add_trace(go.Mesh3d(\n",
    "            x=x,\n",
    "            y=y,\n",
    "            z=z,\n",
    "            color='red',\n",
    "            opacity=0.80\n",
    "        ))\n",
    "\n",
    "        # Side faces\n",
    "        for i in range(len(x)):\n",
    "            j = (i + 1) % len(x)\n",
    "\n",
    "            # Define two triangles for each side face\n",
    "            x_side = [x[i], x[j], x[j], x[i]]\n",
    "            y_side = [y[i], y[j], y[j], y[i]]\n",
    "            z_side = [0, 0, z[j], z[i]]\n",
    "\n",
    "            i_next = (i + 1) % len(x)\n",
    "            triangles = [\n",
    "                (i, i_next, i_next + len(x)),  # Triangle 1\n",
    "                (i, i_next + len(x), i + len(x))  # Triangle 2\n",
    "            ]\n",
    "\n",
    "            fig.add_trace(go.Mesh3d(\n",
    "                x=x + x,\n",
    "                y=y + y,\n",
    "                z=[0] * len(x) + z,\n",
    "                i=[tri[0] for tri in triangles],\n",
    "                j=[tri[1] for tri in triangles],\n",
    "                k=[tri[2] for tri in triangles],\n",
    "                color='red',\n",
    "                opacity=0.50\n",
    "            ))\n",
    "\n",
    "    # Delivery points\n",
    "    loc_x = [i for i, j, k in delivary_locations]\n",
    "    loc_y = [j for i, j, k in delivary_locations]\n",
    "    loc_z = [k for i, j, k in delivary_locations]\n",
    "\n",
    "    fig.add_trace(go.Scatter3d(\n",
    "        x=loc_x,\n",
    "        y=loc_y,\n",
    "        z=loc_z,\n",
    "        mode='markers',\n",
    "        marker=dict(size=5, color='blue')\n",
    "    ))\n",
    "\n",
    "    # Plot dp\n",
    "    if dp:\n",
    "        fig.add_trace(go.Scatter3d(\n",
    "            x=[dp[0]],\n",
    "            y=[dp[1]],\n",
    "            z=[dp[2]],\n",
    "            mode='markers',\n",
    "            marker=dict(size=8, color='orange')\n",
    "        ))\n",
    "\n",
    "    # Plotting route\n",
    "    if route:\n",
    "        x_axis = [i for i, j, k in route]\n",
    "        y_axis = [j for i, j, k in route]\n",
    "        z_axis = [k for i, j, k in route]\n",
    "\n",
    "        fig.add_trace(go.Scatter3d(\n",
    "            x=x_axis,\n",
    "            y=y_axis,\n",
    "            z=z_axis,\n",
    "            mode='lines',\n",
    "            line=dict(color='gray', width=2)\n",
    "        ))\n",
    "\n",
    "    # Update layout for better view\n",
    "    fig.update_layout(scene=dict(\n",
    "        xaxis_title='X',\n",
    "        yaxis_title='Y',\n",
    "        zaxis_title='Height',\n",
    "        aspectmode='cube'\n",
    "    ))\n",
    "\n",
    "    # Show plot\n",
    "    fig.show()"
   ]
  },
  {
   "cell_type": "code",
   "execution_count": 26,
   "metadata": {},
   "outputs": [],
   "source": [
    "def triangulate_polygon(x, y):\n",
    "    points2D = np.vstack([x, y]).T\n",
    "    tri = Delaunay(points2D)\n",
    "    return tri.simplices\n",
    "\n",
    "def initial_plot(delivery_locations, obstacles, dp=None, route=None):\n",
    "    fig = go.Figure()\n",
    "\n",
    "    # Plot each building\n",
    "    for building in obstacles.values():\n",
    "        x = [point[0] for point in building]\n",
    "        y = [point[1] for point in building]\n",
    "        z = [point[2] for point in building]\n",
    "\n",
    "        # Triangulate top and bottom faces\n",
    "        if len(x) > 2:  # Need at least 3 points to form a polygon\n",
    "            triangles = triangulate_polygon(x, y)\n",
    "        else:\n",
    "            triangles = [[0, 1, 2]]\n",
    "\n",
    "        # Bottom face\n",
    "        # fig.add_trace(go.Mesh3d(\n",
    "        #     x=x,\n",
    "        #     y=y,\n",
    "        #     z=[0] * len(x),\n",
    "        #     i=triangles[:, 0],\n",
    "        #     j=triangles[:, 1],\n",
    "        #     k=triangles[:, 2],\n",
    "        #     color='red',\n",
    "        #     opacity=0.50\n",
    "        # ))\n",
    "\n",
    "        # Top face\n",
    "        # fig.add_trace(go.Mesh3d(\n",
    "        #     x=x,\n",
    "        #     y=y,\n",
    "        #     z=z,\n",
    "        #     i=triangles[:, 0],\n",
    "        #     j=triangles[:, 1],\n",
    "        #     k=triangles[:, 2],\n",
    "        #     color='red',\n",
    "        #     opacity=0.50\n",
    "        # ))\n",
    "\n",
    "        # Side faces\n",
    "        for i in range(len(x)):\n",
    "            j = (i + 1) % len(x)\n",
    "            fig.add_trace(go.Mesh3d(\n",
    "                x=[x[i], x[j], x[j], x[i]],\n",
    "                y=[y[i], y[j], y[j], y[i]],\n",
    "                z=[0, 0, z[j], z[i]],\n",
    "                i=[0, 0],\n",
    "                j=[1, 2],\n",
    "                k=[2, 3],\n",
    "                color='red',\n",
    "                opacity=0.50\n",
    "            ))\n",
    "\n",
    "        # Add borders for the top face\n",
    "        fig.add_trace(go.Scatter3d(\n",
    "            x=x + [x[0]],\n",
    "            y=y + [y[0]],\n",
    "            z=z + [z[0]],\n",
    "            mode='lines',\n",
    "            line=dict(color='black', width=3)\n",
    "        ))\n",
    "\n",
    "        # Add borders for the bottom face\n",
    "        fig.add_trace(go.Scatter3d(\n",
    "            x=x + [x[0]],\n",
    "            y=y + [y[0]],\n",
    "            z=[0] * (len(x) + 1),\n",
    "            mode='lines',\n",
    "            line=dict(color='black', width=3)\n",
    "        ))\n",
    "\n",
    "        # Add borders for the sides\n",
    "        for i in range(len(x)):\n",
    "            j = (i + 1) % len(x)\n",
    "            fig.add_trace(go.Scatter3d(\n",
    "                x=[x[i], x[i], x[j], x[j], x[i]],\n",
    "                y=[y[i], y[i], y[j], y[j], y[i]],\n",
    "                z=[0, z[i], z[j], 0, 0],\n",
    "                mode='lines',\n",
    "                line=dict(color='black', width=3)\n",
    "            ))\n",
    "\n",
    "    # Delivery points\n",
    "    loc_x = [i for i, j, k in delivery_locations]\n",
    "    loc_y = [j for i, j, k in delivery_locations]\n",
    "    loc_z = [k for i, j, k in delivery_locations]\n",
    "\n",
    "    fig.add_trace(go.Scatter3d(\n",
    "        x=loc_x,\n",
    "        y=loc_y,\n",
    "        z=loc_z,\n",
    "        mode='markers',\n",
    "        marker=dict(size=5, color='blue')\n",
    "    ))\n",
    "\n",
    "    # Plot dp\n",
    "    if dp:\n",
    "        fig.add_trace(go.Scatter3d(\n",
    "            x=[dp[0]],\n",
    "            y=[dp[1]],\n",
    "            z=[dp[2]],\n",
    "            mode='markers',\n",
    "            marker=dict(size=8, color='orange')\n",
    "        ))\n",
    "\n",
    "    # Plotting route\n",
    "    if route:\n",
    "        x_axis = [i for i, j, k in route]\n",
    "        y_axis = [j for i, j, k in route]\n",
    "        z_axis = [k for i, j, k in route]\n",
    "\n",
    "        fig.add_trace(go.Scatter3d(\n",
    "            x=x_axis,\n",
    "            y=y_axis,\n",
    "            z=z_axis,\n",
    "            mode='lines',\n",
    "            line=dict(color='gray', width=8)\n",
    "        ))\n",
    "\n",
    "    # Update layout for better view\n",
    "    fig.update_layout(\n",
    "        width = 800,\n",
    "        height = 800,\n",
    "        scene=dict(\n",
    "            xaxis_title='X',\n",
    "            yaxis_title='Y',\n",
    "            zaxis_title='Height',\n",
    "            aspectmode='cube',\n",
    "    ))\n",
    "\n",
    "    # Show plot\n",
    "    fig.show()"
   ]
  },
  {
   "cell_type": "code",
   "execution_count": 27,
   "metadata": {},
   "outputs": [],
   "source": [
    "obstacles = {\n",
    "    0 : [[27.81, 90.75,3],[28.74, 91.42, 3],[27.80, 93.15, 3], [26.81, 92.53,3], [27.81, 90.75,3]],\n",
    "    1 : [[23.11, 91.25,3], [24.81, 92.40,3], [24.21, 93.45, 3], [22.51, 92.35, 3],[23.11, 91.25, 3]],\n",
    "    2 : [[24.55, 88.60,10],[25.96, 89.55,10],[25.01, 91.35, 10],[23.61, 90.32, 10],[24.55, 88.60, 10]],\n",
    "    3 : [[25.60, 88.45,10], [27.42, 88.45,10],[26.92, 89.35,10],[25.60, 88.45,10]],\n",
    "    4 : [[27.61, 88.45,10], [28.81, 88.45,10],[29.12, 88.66,10],[28.02, 90.45,10],[26.90, 89.57,10],[27.61, 88.45,10]],\n",
    "    5 : [[25.33, 92.62,10], [25.86, 92.95,10], [25.21, 94.15,10], [24.69, 93.78,10], [25.33, 92.63,10]],\n",
    "    6 : [[26.11, 93.05,3], [26.62, 93.35,3], [25.81, 94.65,3], [25.39, 94.35,3], [26.11, 93.05,3]],\n",
    "    7 : [[26.72, 93.65,10], [27.32, 94.05,10], [26.69, 95.18,10], [26.10, 94.83,10], [26.72, 93.65,10]],\n",
    "    8 : [[25.81, 95.40,10],[26.29, 95.70,10],[26.01, 96.20,10],[26.25, 96.37,10],[25.93, 96.94,10],[25.80, 96.84,10], [25.69, 97.01,10],[25.11, 96.65,10],[25.81, 95.40,10]],\n",
    "    9 : [[23.90, 94.15,3], [24.91, 94.81,3], [24.48, 95.57,3],[23.48, 94.95,3],[23.90, 94.15,3]],\n",
    "    10 : [[23.71, 98.67,10], [23.91, 98.26,10], [24.41, 98.67,10],[23.71, 98.67,10]],\n",
    "    11 : [[31.81, 90.35,10], [32.51, 90.85,10], [32.21, 91.55,10], [32.03, 91.85,10], [34.31, 93.45,10], [32.69, 96.27,10],[30.99, 95.15,10], [32.21, 92.93,10],[30.89, 91.97,10],[31.81, 90.35,10]],\n",
    "    12 : [[30.21, 96.00,10],[31.85, 97.11,10], [31.02, 98.55,10], [30.50, 98.26,10], [30.31, 98.53,10], [30.51, 98.67,10],[27.81, 98.67,10], [27.21, 98.28,10], [27.73, 97.43,10],[28.95, 98.25,10],[30.21, 96.00,10]]\n",
    "}\n",
    "\n",
    "source = [27.55470577587296, 93.92084405438013, 0]\n",
    "dest = [[25.56,92.34,0]]\n",
    "route = [source,[source[0], source[1], 5],[dest[0][0], dest[0][1],5], dest[0]]"
   ]
  },
  {
   "cell_type": "code",
   "execution_count": 28,
   "metadata": {},
   "outputs": [
    {
     "data": {
      "application/vnd.plotly.v1+json": {
       "config": {
        "plotlyServerURL": "https://plot.ly"
       },
       "data": [
        {
         "color": "red",
         "i": [
          0,
          0
         ],
         "j": [
          1,
          2
         ],
         "k": [
          2,
          3
         ],
         "opacity": 0.5,
         "type": "mesh3d",
         "x": [
          27.81,
          28.74,
          28.74,
          27.81
         ],
         "y": [
          90.75,
          91.42,
          91.42,
          90.75
         ],
         "z": [
          0,
          0,
          3,
          3
         ]
        },
        {
         "color": "red",
         "i": [
          0,
          0
         ],
         "j": [
          1,
          2
         ],
         "k": [
          2,
          3
         ],
         "opacity": 0.5,
         "type": "mesh3d",
         "x": [
          28.74,
          27.8,
          27.8,
          28.74
         ],
         "y": [
          91.42,
          93.15,
          93.15,
          91.42
         ],
         "z": [
          0,
          0,
          3,
          3
         ]
        },
        {
         "color": "red",
         "i": [
          0,
          0
         ],
         "j": [
          1,
          2
         ],
         "k": [
          2,
          3
         ],
         "opacity": 0.5,
         "type": "mesh3d",
         "x": [
          27.8,
          26.81,
          26.81,
          27.8
         ],
         "y": [
          93.15,
          92.53,
          92.53,
          93.15
         ],
         "z": [
          0,
          0,
          3,
          3
         ]
        },
        {
         "color": "red",
         "i": [
          0,
          0
         ],
         "j": [
          1,
          2
         ],
         "k": [
          2,
          3
         ],
         "opacity": 0.5,
         "type": "mesh3d",
         "x": [
          26.81,
          27.81,
          27.81,
          26.81
         ],
         "y": [
          92.53,
          90.75,
          90.75,
          92.53
         ],
         "z": [
          0,
          0,
          3,
          3
         ]
        },
        {
         "color": "red",
         "i": [
          0,
          0
         ],
         "j": [
          1,
          2
         ],
         "k": [
          2,
          3
         ],
         "opacity": 0.5,
         "type": "mesh3d",
         "x": [
          27.81,
          27.81,
          27.81,
          27.81
         ],
         "y": [
          90.75,
          90.75,
          90.75,
          90.75
         ],
         "z": [
          0,
          0,
          3,
          3
         ]
        },
        {
         "line": {
          "color": "black",
          "width": 3
         },
         "mode": "lines",
         "type": "scatter3d",
         "x": [
          27.81,
          28.74,
          27.8,
          26.81,
          27.81,
          27.81
         ],
         "y": [
          90.75,
          91.42,
          93.15,
          92.53,
          90.75,
          90.75
         ],
         "z": [
          3,
          3,
          3,
          3,
          3,
          3
         ]
        },
        {
         "line": {
          "color": "black",
          "width": 3
         },
         "mode": "lines",
         "type": "scatter3d",
         "x": [
          27.81,
          28.74,
          27.8,
          26.81,
          27.81,
          27.81
         ],
         "y": [
          90.75,
          91.42,
          93.15,
          92.53,
          90.75,
          90.75
         ],
         "z": [
          0,
          0,
          0,
          0,
          0,
          0
         ]
        },
        {
         "line": {
          "color": "black",
          "width": 3
         },
         "mode": "lines",
         "type": "scatter3d",
         "x": [
          27.81,
          27.81,
          28.74,
          28.74,
          27.81
         ],
         "y": [
          90.75,
          90.75,
          91.42,
          91.42,
          90.75
         ],
         "z": [
          0,
          3,
          3,
          0,
          0
         ]
        },
        {
         "line": {
          "color": "black",
          "width": 3
         },
         "mode": "lines",
         "type": "scatter3d",
         "x": [
          28.74,
          28.74,
          27.8,
          27.8,
          28.74
         ],
         "y": [
          91.42,
          91.42,
          93.15,
          93.15,
          91.42
         ],
         "z": [
          0,
          3,
          3,
          0,
          0
         ]
        },
        {
         "line": {
          "color": "black",
          "width": 3
         },
         "mode": "lines",
         "type": "scatter3d",
         "x": [
          27.8,
          27.8,
          26.81,
          26.81,
          27.8
         ],
         "y": [
          93.15,
          93.15,
          92.53,
          92.53,
          93.15
         ],
         "z": [
          0,
          3,
          3,
          0,
          0
         ]
        },
        {
         "line": {
          "color": "black",
          "width": 3
         },
         "mode": "lines",
         "type": "scatter3d",
         "x": [
          26.81,
          26.81,
          27.81,
          27.81,
          26.81
         ],
         "y": [
          92.53,
          92.53,
          90.75,
          90.75,
          92.53
         ],
         "z": [
          0,
          3,
          3,
          0,
          0
         ]
        },
        {
         "line": {
          "color": "black",
          "width": 3
         },
         "mode": "lines",
         "type": "scatter3d",
         "x": [
          27.81,
          27.81,
          27.81,
          27.81,
          27.81
         ],
         "y": [
          90.75,
          90.75,
          90.75,
          90.75,
          90.75
         ],
         "z": [
          0,
          3,
          3,
          0,
          0
         ]
        },
        {
         "color": "red",
         "i": [
          0,
          0
         ],
         "j": [
          1,
          2
         ],
         "k": [
          2,
          3
         ],
         "opacity": 0.5,
         "type": "mesh3d",
         "x": [
          23.11,
          24.81,
          24.81,
          23.11
         ],
         "y": [
          91.25,
          92.4,
          92.4,
          91.25
         ],
         "z": [
          0,
          0,
          3,
          3
         ]
        },
        {
         "color": "red",
         "i": [
          0,
          0
         ],
         "j": [
          1,
          2
         ],
         "k": [
          2,
          3
         ],
         "opacity": 0.5,
         "type": "mesh3d",
         "x": [
          24.81,
          24.21,
          24.21,
          24.81
         ],
         "y": [
          92.4,
          93.45,
          93.45,
          92.4
         ],
         "z": [
          0,
          0,
          3,
          3
         ]
        },
        {
         "color": "red",
         "i": [
          0,
          0
         ],
         "j": [
          1,
          2
         ],
         "k": [
          2,
          3
         ],
         "opacity": 0.5,
         "type": "mesh3d",
         "x": [
          24.21,
          22.51,
          22.51,
          24.21
         ],
         "y": [
          93.45,
          92.35,
          92.35,
          93.45
         ],
         "z": [
          0,
          0,
          3,
          3
         ]
        },
        {
         "color": "red",
         "i": [
          0,
          0
         ],
         "j": [
          1,
          2
         ],
         "k": [
          2,
          3
         ],
         "opacity": 0.5,
         "type": "mesh3d",
         "x": [
          22.51,
          23.11,
          23.11,
          22.51
         ],
         "y": [
          92.35,
          91.25,
          91.25,
          92.35
         ],
         "z": [
          0,
          0,
          3,
          3
         ]
        },
        {
         "color": "red",
         "i": [
          0,
          0
         ],
         "j": [
          1,
          2
         ],
         "k": [
          2,
          3
         ],
         "opacity": 0.5,
         "type": "mesh3d",
         "x": [
          23.11,
          23.11,
          23.11,
          23.11
         ],
         "y": [
          91.25,
          91.25,
          91.25,
          91.25
         ],
         "z": [
          0,
          0,
          3,
          3
         ]
        },
        {
         "line": {
          "color": "black",
          "width": 3
         },
         "mode": "lines",
         "type": "scatter3d",
         "x": [
          23.11,
          24.81,
          24.21,
          22.51,
          23.11,
          23.11
         ],
         "y": [
          91.25,
          92.4,
          93.45,
          92.35,
          91.25,
          91.25
         ],
         "z": [
          3,
          3,
          3,
          3,
          3,
          3
         ]
        },
        {
         "line": {
          "color": "black",
          "width": 3
         },
         "mode": "lines",
         "type": "scatter3d",
         "x": [
          23.11,
          24.81,
          24.21,
          22.51,
          23.11,
          23.11
         ],
         "y": [
          91.25,
          92.4,
          93.45,
          92.35,
          91.25,
          91.25
         ],
         "z": [
          0,
          0,
          0,
          0,
          0,
          0
         ]
        },
        {
         "line": {
          "color": "black",
          "width": 3
         },
         "mode": "lines",
         "type": "scatter3d",
         "x": [
          23.11,
          23.11,
          24.81,
          24.81,
          23.11
         ],
         "y": [
          91.25,
          91.25,
          92.4,
          92.4,
          91.25
         ],
         "z": [
          0,
          3,
          3,
          0,
          0
         ]
        },
        {
         "line": {
          "color": "black",
          "width": 3
         },
         "mode": "lines",
         "type": "scatter3d",
         "x": [
          24.81,
          24.81,
          24.21,
          24.21,
          24.81
         ],
         "y": [
          92.4,
          92.4,
          93.45,
          93.45,
          92.4
         ],
         "z": [
          0,
          3,
          3,
          0,
          0
         ]
        },
        {
         "line": {
          "color": "black",
          "width": 3
         },
         "mode": "lines",
         "type": "scatter3d",
         "x": [
          24.21,
          24.21,
          22.51,
          22.51,
          24.21
         ],
         "y": [
          93.45,
          93.45,
          92.35,
          92.35,
          93.45
         ],
         "z": [
          0,
          3,
          3,
          0,
          0
         ]
        },
        {
         "line": {
          "color": "black",
          "width": 3
         },
         "mode": "lines",
         "type": "scatter3d",
         "x": [
          22.51,
          22.51,
          23.11,
          23.11,
          22.51
         ],
         "y": [
          92.35,
          92.35,
          91.25,
          91.25,
          92.35
         ],
         "z": [
          0,
          3,
          3,
          0,
          0
         ]
        },
        {
         "line": {
          "color": "black",
          "width": 3
         },
         "mode": "lines",
         "type": "scatter3d",
         "x": [
          23.11,
          23.11,
          23.11,
          23.11,
          23.11
         ],
         "y": [
          91.25,
          91.25,
          91.25,
          91.25,
          91.25
         ],
         "z": [
          0,
          3,
          3,
          0,
          0
         ]
        },
        {
         "color": "red",
         "i": [
          0,
          0
         ],
         "j": [
          1,
          2
         ],
         "k": [
          2,
          3
         ],
         "opacity": 0.5,
         "type": "mesh3d",
         "x": [
          24.55,
          25.96,
          25.96,
          24.55
         ],
         "y": [
          88.6,
          89.55,
          89.55,
          88.6
         ],
         "z": [
          0,
          0,
          10,
          10
         ]
        },
        {
         "color": "red",
         "i": [
          0,
          0
         ],
         "j": [
          1,
          2
         ],
         "k": [
          2,
          3
         ],
         "opacity": 0.5,
         "type": "mesh3d",
         "x": [
          25.96,
          25.01,
          25.01,
          25.96
         ],
         "y": [
          89.55,
          91.35,
          91.35,
          89.55
         ],
         "z": [
          0,
          0,
          10,
          10
         ]
        },
        {
         "color": "red",
         "i": [
          0,
          0
         ],
         "j": [
          1,
          2
         ],
         "k": [
          2,
          3
         ],
         "opacity": 0.5,
         "type": "mesh3d",
         "x": [
          25.01,
          23.61,
          23.61,
          25.01
         ],
         "y": [
          91.35,
          90.32,
          90.32,
          91.35
         ],
         "z": [
          0,
          0,
          10,
          10
         ]
        },
        {
         "color": "red",
         "i": [
          0,
          0
         ],
         "j": [
          1,
          2
         ],
         "k": [
          2,
          3
         ],
         "opacity": 0.5,
         "type": "mesh3d",
         "x": [
          23.61,
          24.55,
          24.55,
          23.61
         ],
         "y": [
          90.32,
          88.6,
          88.6,
          90.32
         ],
         "z": [
          0,
          0,
          10,
          10
         ]
        },
        {
         "color": "red",
         "i": [
          0,
          0
         ],
         "j": [
          1,
          2
         ],
         "k": [
          2,
          3
         ],
         "opacity": 0.5,
         "type": "mesh3d",
         "x": [
          24.55,
          24.55,
          24.55,
          24.55
         ],
         "y": [
          88.6,
          88.6,
          88.6,
          88.6
         ],
         "z": [
          0,
          0,
          10,
          10
         ]
        },
        {
         "line": {
          "color": "black",
          "width": 3
         },
         "mode": "lines",
         "type": "scatter3d",
         "x": [
          24.55,
          25.96,
          25.01,
          23.61,
          24.55,
          24.55
         ],
         "y": [
          88.6,
          89.55,
          91.35,
          90.32,
          88.6,
          88.6
         ],
         "z": [
          10,
          10,
          10,
          10,
          10,
          10
         ]
        },
        {
         "line": {
          "color": "black",
          "width": 3
         },
         "mode": "lines",
         "type": "scatter3d",
         "x": [
          24.55,
          25.96,
          25.01,
          23.61,
          24.55,
          24.55
         ],
         "y": [
          88.6,
          89.55,
          91.35,
          90.32,
          88.6,
          88.6
         ],
         "z": [
          0,
          0,
          0,
          0,
          0,
          0
         ]
        },
        {
         "line": {
          "color": "black",
          "width": 3
         },
         "mode": "lines",
         "type": "scatter3d",
         "x": [
          24.55,
          24.55,
          25.96,
          25.96,
          24.55
         ],
         "y": [
          88.6,
          88.6,
          89.55,
          89.55,
          88.6
         ],
         "z": [
          0,
          10,
          10,
          0,
          0
         ]
        },
        {
         "line": {
          "color": "black",
          "width": 3
         },
         "mode": "lines",
         "type": "scatter3d",
         "x": [
          25.96,
          25.96,
          25.01,
          25.01,
          25.96
         ],
         "y": [
          89.55,
          89.55,
          91.35,
          91.35,
          89.55
         ],
         "z": [
          0,
          10,
          10,
          0,
          0
         ]
        },
        {
         "line": {
          "color": "black",
          "width": 3
         },
         "mode": "lines",
         "type": "scatter3d",
         "x": [
          25.01,
          25.01,
          23.61,
          23.61,
          25.01
         ],
         "y": [
          91.35,
          91.35,
          90.32,
          90.32,
          91.35
         ],
         "z": [
          0,
          10,
          10,
          0,
          0
         ]
        },
        {
         "line": {
          "color": "black",
          "width": 3
         },
         "mode": "lines",
         "type": "scatter3d",
         "x": [
          23.61,
          23.61,
          24.55,
          24.55,
          23.61
         ],
         "y": [
          90.32,
          90.32,
          88.6,
          88.6,
          90.32
         ],
         "z": [
          0,
          10,
          10,
          0,
          0
         ]
        },
        {
         "line": {
          "color": "black",
          "width": 3
         },
         "mode": "lines",
         "type": "scatter3d",
         "x": [
          24.55,
          24.55,
          24.55,
          24.55,
          24.55
         ],
         "y": [
          88.6,
          88.6,
          88.6,
          88.6,
          88.6
         ],
         "z": [
          0,
          10,
          10,
          0,
          0
         ]
        },
        {
         "color": "red",
         "i": [
          0,
          0
         ],
         "j": [
          1,
          2
         ],
         "k": [
          2,
          3
         ],
         "opacity": 0.5,
         "type": "mesh3d",
         "x": [
          25.6,
          27.42,
          27.42,
          25.6
         ],
         "y": [
          88.45,
          88.45,
          88.45,
          88.45
         ],
         "z": [
          0,
          0,
          10,
          10
         ]
        },
        {
         "color": "red",
         "i": [
          0,
          0
         ],
         "j": [
          1,
          2
         ],
         "k": [
          2,
          3
         ],
         "opacity": 0.5,
         "type": "mesh3d",
         "x": [
          27.42,
          26.92,
          26.92,
          27.42
         ],
         "y": [
          88.45,
          89.35,
          89.35,
          88.45
         ],
         "z": [
          0,
          0,
          10,
          10
         ]
        },
        {
         "color": "red",
         "i": [
          0,
          0
         ],
         "j": [
          1,
          2
         ],
         "k": [
          2,
          3
         ],
         "opacity": 0.5,
         "type": "mesh3d",
         "x": [
          26.92,
          25.6,
          25.6,
          26.92
         ],
         "y": [
          89.35,
          88.45,
          88.45,
          89.35
         ],
         "z": [
          0,
          0,
          10,
          10
         ]
        },
        {
         "color": "red",
         "i": [
          0,
          0
         ],
         "j": [
          1,
          2
         ],
         "k": [
          2,
          3
         ],
         "opacity": 0.5,
         "type": "mesh3d",
         "x": [
          25.6,
          25.6,
          25.6,
          25.6
         ],
         "y": [
          88.45,
          88.45,
          88.45,
          88.45
         ],
         "z": [
          0,
          0,
          10,
          10
         ]
        },
        {
         "line": {
          "color": "black",
          "width": 3
         },
         "mode": "lines",
         "type": "scatter3d",
         "x": [
          25.6,
          27.42,
          26.92,
          25.6,
          25.6
         ],
         "y": [
          88.45,
          88.45,
          89.35,
          88.45,
          88.45
         ],
         "z": [
          10,
          10,
          10,
          10,
          10
         ]
        },
        {
         "line": {
          "color": "black",
          "width": 3
         },
         "mode": "lines",
         "type": "scatter3d",
         "x": [
          25.6,
          27.42,
          26.92,
          25.6,
          25.6
         ],
         "y": [
          88.45,
          88.45,
          89.35,
          88.45,
          88.45
         ],
         "z": [
          0,
          0,
          0,
          0,
          0
         ]
        },
        {
         "line": {
          "color": "black",
          "width": 3
         },
         "mode": "lines",
         "type": "scatter3d",
         "x": [
          25.6,
          25.6,
          27.42,
          27.42,
          25.6
         ],
         "y": [
          88.45,
          88.45,
          88.45,
          88.45,
          88.45
         ],
         "z": [
          0,
          10,
          10,
          0,
          0
         ]
        },
        {
         "line": {
          "color": "black",
          "width": 3
         },
         "mode": "lines",
         "type": "scatter3d",
         "x": [
          27.42,
          27.42,
          26.92,
          26.92,
          27.42
         ],
         "y": [
          88.45,
          88.45,
          89.35,
          89.35,
          88.45
         ],
         "z": [
          0,
          10,
          10,
          0,
          0
         ]
        },
        {
         "line": {
          "color": "black",
          "width": 3
         },
         "mode": "lines",
         "type": "scatter3d",
         "x": [
          26.92,
          26.92,
          25.6,
          25.6,
          26.92
         ],
         "y": [
          89.35,
          89.35,
          88.45,
          88.45,
          89.35
         ],
         "z": [
          0,
          10,
          10,
          0,
          0
         ]
        },
        {
         "line": {
          "color": "black",
          "width": 3
         },
         "mode": "lines",
         "type": "scatter3d",
         "x": [
          25.6,
          25.6,
          25.6,
          25.6,
          25.6
         ],
         "y": [
          88.45,
          88.45,
          88.45,
          88.45,
          88.45
         ],
         "z": [
          0,
          10,
          10,
          0,
          0
         ]
        },
        {
         "color": "red",
         "i": [
          0,
          0
         ],
         "j": [
          1,
          2
         ],
         "k": [
          2,
          3
         ],
         "opacity": 0.5,
         "type": "mesh3d",
         "x": [
          27.61,
          28.81,
          28.81,
          27.61
         ],
         "y": [
          88.45,
          88.45,
          88.45,
          88.45
         ],
         "z": [
          0,
          0,
          10,
          10
         ]
        },
        {
         "color": "red",
         "i": [
          0,
          0
         ],
         "j": [
          1,
          2
         ],
         "k": [
          2,
          3
         ],
         "opacity": 0.5,
         "type": "mesh3d",
         "x": [
          28.81,
          29.12,
          29.12,
          28.81
         ],
         "y": [
          88.45,
          88.66,
          88.66,
          88.45
         ],
         "z": [
          0,
          0,
          10,
          10
         ]
        },
        {
         "color": "red",
         "i": [
          0,
          0
         ],
         "j": [
          1,
          2
         ],
         "k": [
          2,
          3
         ],
         "opacity": 0.5,
         "type": "mesh3d",
         "x": [
          29.12,
          28.02,
          28.02,
          29.12
         ],
         "y": [
          88.66,
          90.45,
          90.45,
          88.66
         ],
         "z": [
          0,
          0,
          10,
          10
         ]
        },
        {
         "color": "red",
         "i": [
          0,
          0
         ],
         "j": [
          1,
          2
         ],
         "k": [
          2,
          3
         ],
         "opacity": 0.5,
         "type": "mesh3d",
         "x": [
          28.02,
          26.9,
          26.9,
          28.02
         ],
         "y": [
          90.45,
          89.57,
          89.57,
          90.45
         ],
         "z": [
          0,
          0,
          10,
          10
         ]
        },
        {
         "color": "red",
         "i": [
          0,
          0
         ],
         "j": [
          1,
          2
         ],
         "k": [
          2,
          3
         ],
         "opacity": 0.5,
         "type": "mesh3d",
         "x": [
          26.9,
          27.61,
          27.61,
          26.9
         ],
         "y": [
          89.57,
          88.45,
          88.45,
          89.57
         ],
         "z": [
          0,
          0,
          10,
          10
         ]
        },
        {
         "color": "red",
         "i": [
          0,
          0
         ],
         "j": [
          1,
          2
         ],
         "k": [
          2,
          3
         ],
         "opacity": 0.5,
         "type": "mesh3d",
         "x": [
          27.61,
          27.61,
          27.61,
          27.61
         ],
         "y": [
          88.45,
          88.45,
          88.45,
          88.45
         ],
         "z": [
          0,
          0,
          10,
          10
         ]
        },
        {
         "line": {
          "color": "black",
          "width": 3
         },
         "mode": "lines",
         "type": "scatter3d",
         "x": [
          27.61,
          28.81,
          29.12,
          28.02,
          26.9,
          27.61,
          27.61
         ],
         "y": [
          88.45,
          88.45,
          88.66,
          90.45,
          89.57,
          88.45,
          88.45
         ],
         "z": [
          10,
          10,
          10,
          10,
          10,
          10,
          10
         ]
        },
        {
         "line": {
          "color": "black",
          "width": 3
         },
         "mode": "lines",
         "type": "scatter3d",
         "x": [
          27.61,
          28.81,
          29.12,
          28.02,
          26.9,
          27.61,
          27.61
         ],
         "y": [
          88.45,
          88.45,
          88.66,
          90.45,
          89.57,
          88.45,
          88.45
         ],
         "z": [
          0,
          0,
          0,
          0,
          0,
          0,
          0
         ]
        },
        {
         "line": {
          "color": "black",
          "width": 3
         },
         "mode": "lines",
         "type": "scatter3d",
         "x": [
          27.61,
          27.61,
          28.81,
          28.81,
          27.61
         ],
         "y": [
          88.45,
          88.45,
          88.45,
          88.45,
          88.45
         ],
         "z": [
          0,
          10,
          10,
          0,
          0
         ]
        },
        {
         "line": {
          "color": "black",
          "width": 3
         },
         "mode": "lines",
         "type": "scatter3d",
         "x": [
          28.81,
          28.81,
          29.12,
          29.12,
          28.81
         ],
         "y": [
          88.45,
          88.45,
          88.66,
          88.66,
          88.45
         ],
         "z": [
          0,
          10,
          10,
          0,
          0
         ]
        },
        {
         "line": {
          "color": "black",
          "width": 3
         },
         "mode": "lines",
         "type": "scatter3d",
         "x": [
          29.12,
          29.12,
          28.02,
          28.02,
          29.12
         ],
         "y": [
          88.66,
          88.66,
          90.45,
          90.45,
          88.66
         ],
         "z": [
          0,
          10,
          10,
          0,
          0
         ]
        },
        {
         "line": {
          "color": "black",
          "width": 3
         },
         "mode": "lines",
         "type": "scatter3d",
         "x": [
          28.02,
          28.02,
          26.9,
          26.9,
          28.02
         ],
         "y": [
          90.45,
          90.45,
          89.57,
          89.57,
          90.45
         ],
         "z": [
          0,
          10,
          10,
          0,
          0
         ]
        },
        {
         "line": {
          "color": "black",
          "width": 3
         },
         "mode": "lines",
         "type": "scatter3d",
         "x": [
          26.9,
          26.9,
          27.61,
          27.61,
          26.9
         ],
         "y": [
          89.57,
          89.57,
          88.45,
          88.45,
          89.57
         ],
         "z": [
          0,
          10,
          10,
          0,
          0
         ]
        },
        {
         "line": {
          "color": "black",
          "width": 3
         },
         "mode": "lines",
         "type": "scatter3d",
         "x": [
          27.61,
          27.61,
          27.61,
          27.61,
          27.61
         ],
         "y": [
          88.45,
          88.45,
          88.45,
          88.45,
          88.45
         ],
         "z": [
          0,
          10,
          10,
          0,
          0
         ]
        },
        {
         "color": "red",
         "i": [
          0,
          0
         ],
         "j": [
          1,
          2
         ],
         "k": [
          2,
          3
         ],
         "opacity": 0.5,
         "type": "mesh3d",
         "x": [
          25.33,
          25.86,
          25.86,
          25.33
         ],
         "y": [
          92.62,
          92.95,
          92.95,
          92.62
         ],
         "z": [
          0,
          0,
          10,
          10
         ]
        },
        {
         "color": "red",
         "i": [
          0,
          0
         ],
         "j": [
          1,
          2
         ],
         "k": [
          2,
          3
         ],
         "opacity": 0.5,
         "type": "mesh3d",
         "x": [
          25.86,
          25.21,
          25.21,
          25.86
         ],
         "y": [
          92.95,
          94.15,
          94.15,
          92.95
         ],
         "z": [
          0,
          0,
          10,
          10
         ]
        },
        {
         "color": "red",
         "i": [
          0,
          0
         ],
         "j": [
          1,
          2
         ],
         "k": [
          2,
          3
         ],
         "opacity": 0.5,
         "type": "mesh3d",
         "x": [
          25.21,
          24.69,
          24.69,
          25.21
         ],
         "y": [
          94.15,
          93.78,
          93.78,
          94.15
         ],
         "z": [
          0,
          0,
          10,
          10
         ]
        },
        {
         "color": "red",
         "i": [
          0,
          0
         ],
         "j": [
          1,
          2
         ],
         "k": [
          2,
          3
         ],
         "opacity": 0.5,
         "type": "mesh3d",
         "x": [
          24.69,
          25.33,
          25.33,
          24.69
         ],
         "y": [
          93.78,
          92.63,
          92.63,
          93.78
         ],
         "z": [
          0,
          0,
          10,
          10
         ]
        },
        {
         "color": "red",
         "i": [
          0,
          0
         ],
         "j": [
          1,
          2
         ],
         "k": [
          2,
          3
         ],
         "opacity": 0.5,
         "type": "mesh3d",
         "x": [
          25.33,
          25.33,
          25.33,
          25.33
         ],
         "y": [
          92.63,
          92.62,
          92.62,
          92.63
         ],
         "z": [
          0,
          0,
          10,
          10
         ]
        },
        {
         "line": {
          "color": "black",
          "width": 3
         },
         "mode": "lines",
         "type": "scatter3d",
         "x": [
          25.33,
          25.86,
          25.21,
          24.69,
          25.33,
          25.33
         ],
         "y": [
          92.62,
          92.95,
          94.15,
          93.78,
          92.63,
          92.62
         ],
         "z": [
          10,
          10,
          10,
          10,
          10,
          10
         ]
        },
        {
         "line": {
          "color": "black",
          "width": 3
         },
         "mode": "lines",
         "type": "scatter3d",
         "x": [
          25.33,
          25.86,
          25.21,
          24.69,
          25.33,
          25.33
         ],
         "y": [
          92.62,
          92.95,
          94.15,
          93.78,
          92.63,
          92.62
         ],
         "z": [
          0,
          0,
          0,
          0,
          0,
          0
         ]
        },
        {
         "line": {
          "color": "black",
          "width": 3
         },
         "mode": "lines",
         "type": "scatter3d",
         "x": [
          25.33,
          25.33,
          25.86,
          25.86,
          25.33
         ],
         "y": [
          92.62,
          92.62,
          92.95,
          92.95,
          92.62
         ],
         "z": [
          0,
          10,
          10,
          0,
          0
         ]
        },
        {
         "line": {
          "color": "black",
          "width": 3
         },
         "mode": "lines",
         "type": "scatter3d",
         "x": [
          25.86,
          25.86,
          25.21,
          25.21,
          25.86
         ],
         "y": [
          92.95,
          92.95,
          94.15,
          94.15,
          92.95
         ],
         "z": [
          0,
          10,
          10,
          0,
          0
         ]
        },
        {
         "line": {
          "color": "black",
          "width": 3
         },
         "mode": "lines",
         "type": "scatter3d",
         "x": [
          25.21,
          25.21,
          24.69,
          24.69,
          25.21
         ],
         "y": [
          94.15,
          94.15,
          93.78,
          93.78,
          94.15
         ],
         "z": [
          0,
          10,
          10,
          0,
          0
         ]
        },
        {
         "line": {
          "color": "black",
          "width": 3
         },
         "mode": "lines",
         "type": "scatter3d",
         "x": [
          24.69,
          24.69,
          25.33,
          25.33,
          24.69
         ],
         "y": [
          93.78,
          93.78,
          92.63,
          92.63,
          93.78
         ],
         "z": [
          0,
          10,
          10,
          0,
          0
         ]
        },
        {
         "line": {
          "color": "black",
          "width": 3
         },
         "mode": "lines",
         "type": "scatter3d",
         "x": [
          25.33,
          25.33,
          25.33,
          25.33,
          25.33
         ],
         "y": [
          92.63,
          92.63,
          92.62,
          92.62,
          92.63
         ],
         "z": [
          0,
          10,
          10,
          0,
          0
         ]
        },
        {
         "color": "red",
         "i": [
          0,
          0
         ],
         "j": [
          1,
          2
         ],
         "k": [
          2,
          3
         ],
         "opacity": 0.5,
         "type": "mesh3d",
         "x": [
          26.11,
          26.62,
          26.62,
          26.11
         ],
         "y": [
          93.05,
          93.35,
          93.35,
          93.05
         ],
         "z": [
          0,
          0,
          3,
          3
         ]
        },
        {
         "color": "red",
         "i": [
          0,
          0
         ],
         "j": [
          1,
          2
         ],
         "k": [
          2,
          3
         ],
         "opacity": 0.5,
         "type": "mesh3d",
         "x": [
          26.62,
          25.81,
          25.81,
          26.62
         ],
         "y": [
          93.35,
          94.65,
          94.65,
          93.35
         ],
         "z": [
          0,
          0,
          3,
          3
         ]
        },
        {
         "color": "red",
         "i": [
          0,
          0
         ],
         "j": [
          1,
          2
         ],
         "k": [
          2,
          3
         ],
         "opacity": 0.5,
         "type": "mesh3d",
         "x": [
          25.81,
          25.39,
          25.39,
          25.81
         ],
         "y": [
          94.65,
          94.35,
          94.35,
          94.65
         ],
         "z": [
          0,
          0,
          3,
          3
         ]
        },
        {
         "color": "red",
         "i": [
          0,
          0
         ],
         "j": [
          1,
          2
         ],
         "k": [
          2,
          3
         ],
         "opacity": 0.5,
         "type": "mesh3d",
         "x": [
          25.39,
          26.11,
          26.11,
          25.39
         ],
         "y": [
          94.35,
          93.05,
          93.05,
          94.35
         ],
         "z": [
          0,
          0,
          3,
          3
         ]
        },
        {
         "color": "red",
         "i": [
          0,
          0
         ],
         "j": [
          1,
          2
         ],
         "k": [
          2,
          3
         ],
         "opacity": 0.5,
         "type": "mesh3d",
         "x": [
          26.11,
          26.11,
          26.11,
          26.11
         ],
         "y": [
          93.05,
          93.05,
          93.05,
          93.05
         ],
         "z": [
          0,
          0,
          3,
          3
         ]
        },
        {
         "line": {
          "color": "black",
          "width": 3
         },
         "mode": "lines",
         "type": "scatter3d",
         "x": [
          26.11,
          26.62,
          25.81,
          25.39,
          26.11,
          26.11
         ],
         "y": [
          93.05,
          93.35,
          94.65,
          94.35,
          93.05,
          93.05
         ],
         "z": [
          3,
          3,
          3,
          3,
          3,
          3
         ]
        },
        {
         "line": {
          "color": "black",
          "width": 3
         },
         "mode": "lines",
         "type": "scatter3d",
         "x": [
          26.11,
          26.62,
          25.81,
          25.39,
          26.11,
          26.11
         ],
         "y": [
          93.05,
          93.35,
          94.65,
          94.35,
          93.05,
          93.05
         ],
         "z": [
          0,
          0,
          0,
          0,
          0,
          0
         ]
        },
        {
         "line": {
          "color": "black",
          "width": 3
         },
         "mode": "lines",
         "type": "scatter3d",
         "x": [
          26.11,
          26.11,
          26.62,
          26.62,
          26.11
         ],
         "y": [
          93.05,
          93.05,
          93.35,
          93.35,
          93.05
         ],
         "z": [
          0,
          3,
          3,
          0,
          0
         ]
        },
        {
         "line": {
          "color": "black",
          "width": 3
         },
         "mode": "lines",
         "type": "scatter3d",
         "x": [
          26.62,
          26.62,
          25.81,
          25.81,
          26.62
         ],
         "y": [
          93.35,
          93.35,
          94.65,
          94.65,
          93.35
         ],
         "z": [
          0,
          3,
          3,
          0,
          0
         ]
        },
        {
         "line": {
          "color": "black",
          "width": 3
         },
         "mode": "lines",
         "type": "scatter3d",
         "x": [
          25.81,
          25.81,
          25.39,
          25.39,
          25.81
         ],
         "y": [
          94.65,
          94.65,
          94.35,
          94.35,
          94.65
         ],
         "z": [
          0,
          3,
          3,
          0,
          0
         ]
        },
        {
         "line": {
          "color": "black",
          "width": 3
         },
         "mode": "lines",
         "type": "scatter3d",
         "x": [
          25.39,
          25.39,
          26.11,
          26.11,
          25.39
         ],
         "y": [
          94.35,
          94.35,
          93.05,
          93.05,
          94.35
         ],
         "z": [
          0,
          3,
          3,
          0,
          0
         ]
        },
        {
         "line": {
          "color": "black",
          "width": 3
         },
         "mode": "lines",
         "type": "scatter3d",
         "x": [
          26.11,
          26.11,
          26.11,
          26.11,
          26.11
         ],
         "y": [
          93.05,
          93.05,
          93.05,
          93.05,
          93.05
         ],
         "z": [
          0,
          3,
          3,
          0,
          0
         ]
        },
        {
         "color": "red",
         "i": [
          0,
          0
         ],
         "j": [
          1,
          2
         ],
         "k": [
          2,
          3
         ],
         "opacity": 0.5,
         "type": "mesh3d",
         "x": [
          26.72,
          27.32,
          27.32,
          26.72
         ],
         "y": [
          93.65,
          94.05,
          94.05,
          93.65
         ],
         "z": [
          0,
          0,
          10,
          10
         ]
        },
        {
         "color": "red",
         "i": [
          0,
          0
         ],
         "j": [
          1,
          2
         ],
         "k": [
          2,
          3
         ],
         "opacity": 0.5,
         "type": "mesh3d",
         "x": [
          27.32,
          26.69,
          26.69,
          27.32
         ],
         "y": [
          94.05,
          95.18,
          95.18,
          94.05
         ],
         "z": [
          0,
          0,
          10,
          10
         ]
        },
        {
         "color": "red",
         "i": [
          0,
          0
         ],
         "j": [
          1,
          2
         ],
         "k": [
          2,
          3
         ],
         "opacity": 0.5,
         "type": "mesh3d",
         "x": [
          26.69,
          26.1,
          26.1,
          26.69
         ],
         "y": [
          95.18,
          94.83,
          94.83,
          95.18
         ],
         "z": [
          0,
          0,
          10,
          10
         ]
        },
        {
         "color": "red",
         "i": [
          0,
          0
         ],
         "j": [
          1,
          2
         ],
         "k": [
          2,
          3
         ],
         "opacity": 0.5,
         "type": "mesh3d",
         "x": [
          26.1,
          26.72,
          26.72,
          26.1
         ],
         "y": [
          94.83,
          93.65,
          93.65,
          94.83
         ],
         "z": [
          0,
          0,
          10,
          10
         ]
        },
        {
         "color": "red",
         "i": [
          0,
          0
         ],
         "j": [
          1,
          2
         ],
         "k": [
          2,
          3
         ],
         "opacity": 0.5,
         "type": "mesh3d",
         "x": [
          26.72,
          26.72,
          26.72,
          26.72
         ],
         "y": [
          93.65,
          93.65,
          93.65,
          93.65
         ],
         "z": [
          0,
          0,
          10,
          10
         ]
        },
        {
         "line": {
          "color": "black",
          "width": 3
         },
         "mode": "lines",
         "type": "scatter3d",
         "x": [
          26.72,
          27.32,
          26.69,
          26.1,
          26.72,
          26.72
         ],
         "y": [
          93.65,
          94.05,
          95.18,
          94.83,
          93.65,
          93.65
         ],
         "z": [
          10,
          10,
          10,
          10,
          10,
          10
         ]
        },
        {
         "line": {
          "color": "black",
          "width": 3
         },
         "mode": "lines",
         "type": "scatter3d",
         "x": [
          26.72,
          27.32,
          26.69,
          26.1,
          26.72,
          26.72
         ],
         "y": [
          93.65,
          94.05,
          95.18,
          94.83,
          93.65,
          93.65
         ],
         "z": [
          0,
          0,
          0,
          0,
          0,
          0
         ]
        },
        {
         "line": {
          "color": "black",
          "width": 3
         },
         "mode": "lines",
         "type": "scatter3d",
         "x": [
          26.72,
          26.72,
          27.32,
          27.32,
          26.72
         ],
         "y": [
          93.65,
          93.65,
          94.05,
          94.05,
          93.65
         ],
         "z": [
          0,
          10,
          10,
          0,
          0
         ]
        },
        {
         "line": {
          "color": "black",
          "width": 3
         },
         "mode": "lines",
         "type": "scatter3d",
         "x": [
          27.32,
          27.32,
          26.69,
          26.69,
          27.32
         ],
         "y": [
          94.05,
          94.05,
          95.18,
          95.18,
          94.05
         ],
         "z": [
          0,
          10,
          10,
          0,
          0
         ]
        },
        {
         "line": {
          "color": "black",
          "width": 3
         },
         "mode": "lines",
         "type": "scatter3d",
         "x": [
          26.69,
          26.69,
          26.1,
          26.1,
          26.69
         ],
         "y": [
          95.18,
          95.18,
          94.83,
          94.83,
          95.18
         ],
         "z": [
          0,
          10,
          10,
          0,
          0
         ]
        },
        {
         "line": {
          "color": "black",
          "width": 3
         },
         "mode": "lines",
         "type": "scatter3d",
         "x": [
          26.1,
          26.1,
          26.72,
          26.72,
          26.1
         ],
         "y": [
          94.83,
          94.83,
          93.65,
          93.65,
          94.83
         ],
         "z": [
          0,
          10,
          10,
          0,
          0
         ]
        },
        {
         "line": {
          "color": "black",
          "width": 3
         },
         "mode": "lines",
         "type": "scatter3d",
         "x": [
          26.72,
          26.72,
          26.72,
          26.72,
          26.72
         ],
         "y": [
          93.65,
          93.65,
          93.65,
          93.65,
          93.65
         ],
         "z": [
          0,
          10,
          10,
          0,
          0
         ]
        },
        {
         "color": "red",
         "i": [
          0,
          0
         ],
         "j": [
          1,
          2
         ],
         "k": [
          2,
          3
         ],
         "opacity": 0.5,
         "type": "mesh3d",
         "x": [
          25.81,
          26.29,
          26.29,
          25.81
         ],
         "y": [
          95.4,
          95.7,
          95.7,
          95.4
         ],
         "z": [
          0,
          0,
          10,
          10
         ]
        },
        {
         "color": "red",
         "i": [
          0,
          0
         ],
         "j": [
          1,
          2
         ],
         "k": [
          2,
          3
         ],
         "opacity": 0.5,
         "type": "mesh3d",
         "x": [
          26.29,
          26.01,
          26.01,
          26.29
         ],
         "y": [
          95.7,
          96.2,
          96.2,
          95.7
         ],
         "z": [
          0,
          0,
          10,
          10
         ]
        },
        {
         "color": "red",
         "i": [
          0,
          0
         ],
         "j": [
          1,
          2
         ],
         "k": [
          2,
          3
         ],
         "opacity": 0.5,
         "type": "mesh3d",
         "x": [
          26.01,
          26.25,
          26.25,
          26.01
         ],
         "y": [
          96.2,
          96.37,
          96.37,
          96.2
         ],
         "z": [
          0,
          0,
          10,
          10
         ]
        },
        {
         "color": "red",
         "i": [
          0,
          0
         ],
         "j": [
          1,
          2
         ],
         "k": [
          2,
          3
         ],
         "opacity": 0.5,
         "type": "mesh3d",
         "x": [
          26.25,
          25.93,
          25.93,
          26.25
         ],
         "y": [
          96.37,
          96.94,
          96.94,
          96.37
         ],
         "z": [
          0,
          0,
          10,
          10
         ]
        },
        {
         "color": "red",
         "i": [
          0,
          0
         ],
         "j": [
          1,
          2
         ],
         "k": [
          2,
          3
         ],
         "opacity": 0.5,
         "type": "mesh3d",
         "x": [
          25.93,
          25.8,
          25.8,
          25.93
         ],
         "y": [
          96.94,
          96.84,
          96.84,
          96.94
         ],
         "z": [
          0,
          0,
          10,
          10
         ]
        },
        {
         "color": "red",
         "i": [
          0,
          0
         ],
         "j": [
          1,
          2
         ],
         "k": [
          2,
          3
         ],
         "opacity": 0.5,
         "type": "mesh3d",
         "x": [
          25.8,
          25.69,
          25.69,
          25.8
         ],
         "y": [
          96.84,
          97.01,
          97.01,
          96.84
         ],
         "z": [
          0,
          0,
          10,
          10
         ]
        },
        {
         "color": "red",
         "i": [
          0,
          0
         ],
         "j": [
          1,
          2
         ],
         "k": [
          2,
          3
         ],
         "opacity": 0.5,
         "type": "mesh3d",
         "x": [
          25.69,
          25.11,
          25.11,
          25.69
         ],
         "y": [
          97.01,
          96.65,
          96.65,
          97.01
         ],
         "z": [
          0,
          0,
          10,
          10
         ]
        },
        {
         "color": "red",
         "i": [
          0,
          0
         ],
         "j": [
          1,
          2
         ],
         "k": [
          2,
          3
         ],
         "opacity": 0.5,
         "type": "mesh3d",
         "x": [
          25.11,
          25.81,
          25.81,
          25.11
         ],
         "y": [
          96.65,
          95.4,
          95.4,
          96.65
         ],
         "z": [
          0,
          0,
          10,
          10
         ]
        },
        {
         "color": "red",
         "i": [
          0,
          0
         ],
         "j": [
          1,
          2
         ],
         "k": [
          2,
          3
         ],
         "opacity": 0.5,
         "type": "mesh3d",
         "x": [
          25.81,
          25.81,
          25.81,
          25.81
         ],
         "y": [
          95.4,
          95.4,
          95.4,
          95.4
         ],
         "z": [
          0,
          0,
          10,
          10
         ]
        },
        {
         "line": {
          "color": "black",
          "width": 3
         },
         "mode": "lines",
         "type": "scatter3d",
         "x": [
          25.81,
          26.29,
          26.01,
          26.25,
          25.93,
          25.8,
          25.69,
          25.11,
          25.81,
          25.81
         ],
         "y": [
          95.4,
          95.7,
          96.2,
          96.37,
          96.94,
          96.84,
          97.01,
          96.65,
          95.4,
          95.4
         ],
         "z": [
          10,
          10,
          10,
          10,
          10,
          10,
          10,
          10,
          10,
          10
         ]
        },
        {
         "line": {
          "color": "black",
          "width": 3
         },
         "mode": "lines",
         "type": "scatter3d",
         "x": [
          25.81,
          26.29,
          26.01,
          26.25,
          25.93,
          25.8,
          25.69,
          25.11,
          25.81,
          25.81
         ],
         "y": [
          95.4,
          95.7,
          96.2,
          96.37,
          96.94,
          96.84,
          97.01,
          96.65,
          95.4,
          95.4
         ],
         "z": [
          0,
          0,
          0,
          0,
          0,
          0,
          0,
          0,
          0,
          0
         ]
        },
        {
         "line": {
          "color": "black",
          "width": 3
         },
         "mode": "lines",
         "type": "scatter3d",
         "x": [
          25.81,
          25.81,
          26.29,
          26.29,
          25.81
         ],
         "y": [
          95.4,
          95.4,
          95.7,
          95.7,
          95.4
         ],
         "z": [
          0,
          10,
          10,
          0,
          0
         ]
        },
        {
         "line": {
          "color": "black",
          "width": 3
         },
         "mode": "lines",
         "type": "scatter3d",
         "x": [
          26.29,
          26.29,
          26.01,
          26.01,
          26.29
         ],
         "y": [
          95.7,
          95.7,
          96.2,
          96.2,
          95.7
         ],
         "z": [
          0,
          10,
          10,
          0,
          0
         ]
        },
        {
         "line": {
          "color": "black",
          "width": 3
         },
         "mode": "lines",
         "type": "scatter3d",
         "x": [
          26.01,
          26.01,
          26.25,
          26.25,
          26.01
         ],
         "y": [
          96.2,
          96.2,
          96.37,
          96.37,
          96.2
         ],
         "z": [
          0,
          10,
          10,
          0,
          0
         ]
        },
        {
         "line": {
          "color": "black",
          "width": 3
         },
         "mode": "lines",
         "type": "scatter3d",
         "x": [
          26.25,
          26.25,
          25.93,
          25.93,
          26.25
         ],
         "y": [
          96.37,
          96.37,
          96.94,
          96.94,
          96.37
         ],
         "z": [
          0,
          10,
          10,
          0,
          0
         ]
        },
        {
         "line": {
          "color": "black",
          "width": 3
         },
         "mode": "lines",
         "type": "scatter3d",
         "x": [
          25.93,
          25.93,
          25.8,
          25.8,
          25.93
         ],
         "y": [
          96.94,
          96.94,
          96.84,
          96.84,
          96.94
         ],
         "z": [
          0,
          10,
          10,
          0,
          0
         ]
        },
        {
         "line": {
          "color": "black",
          "width": 3
         },
         "mode": "lines",
         "type": "scatter3d",
         "x": [
          25.8,
          25.8,
          25.69,
          25.69,
          25.8
         ],
         "y": [
          96.84,
          96.84,
          97.01,
          97.01,
          96.84
         ],
         "z": [
          0,
          10,
          10,
          0,
          0
         ]
        },
        {
         "line": {
          "color": "black",
          "width": 3
         },
         "mode": "lines",
         "type": "scatter3d",
         "x": [
          25.69,
          25.69,
          25.11,
          25.11,
          25.69
         ],
         "y": [
          97.01,
          97.01,
          96.65,
          96.65,
          97.01
         ],
         "z": [
          0,
          10,
          10,
          0,
          0
         ]
        },
        {
         "line": {
          "color": "black",
          "width": 3
         },
         "mode": "lines",
         "type": "scatter3d",
         "x": [
          25.11,
          25.11,
          25.81,
          25.81,
          25.11
         ],
         "y": [
          96.65,
          96.65,
          95.4,
          95.4,
          96.65
         ],
         "z": [
          0,
          10,
          10,
          0,
          0
         ]
        },
        {
         "line": {
          "color": "black",
          "width": 3
         },
         "mode": "lines",
         "type": "scatter3d",
         "x": [
          25.81,
          25.81,
          25.81,
          25.81,
          25.81
         ],
         "y": [
          95.4,
          95.4,
          95.4,
          95.4,
          95.4
         ],
         "z": [
          0,
          10,
          10,
          0,
          0
         ]
        },
        {
         "color": "red",
         "i": [
          0,
          0
         ],
         "j": [
          1,
          2
         ],
         "k": [
          2,
          3
         ],
         "opacity": 0.5,
         "type": "mesh3d",
         "x": [
          23.9,
          24.91,
          24.91,
          23.9
         ],
         "y": [
          94.15,
          94.81,
          94.81,
          94.15
         ],
         "z": [
          0,
          0,
          3,
          3
         ]
        },
        {
         "color": "red",
         "i": [
          0,
          0
         ],
         "j": [
          1,
          2
         ],
         "k": [
          2,
          3
         ],
         "opacity": 0.5,
         "type": "mesh3d",
         "x": [
          24.91,
          24.48,
          24.48,
          24.91
         ],
         "y": [
          94.81,
          95.57,
          95.57,
          94.81
         ],
         "z": [
          0,
          0,
          3,
          3
         ]
        },
        {
         "color": "red",
         "i": [
          0,
          0
         ],
         "j": [
          1,
          2
         ],
         "k": [
          2,
          3
         ],
         "opacity": 0.5,
         "type": "mesh3d",
         "x": [
          24.48,
          23.48,
          23.48,
          24.48
         ],
         "y": [
          95.57,
          94.95,
          94.95,
          95.57
         ],
         "z": [
          0,
          0,
          3,
          3
         ]
        },
        {
         "color": "red",
         "i": [
          0,
          0
         ],
         "j": [
          1,
          2
         ],
         "k": [
          2,
          3
         ],
         "opacity": 0.5,
         "type": "mesh3d",
         "x": [
          23.48,
          23.9,
          23.9,
          23.48
         ],
         "y": [
          94.95,
          94.15,
          94.15,
          94.95
         ],
         "z": [
          0,
          0,
          3,
          3
         ]
        },
        {
         "color": "red",
         "i": [
          0,
          0
         ],
         "j": [
          1,
          2
         ],
         "k": [
          2,
          3
         ],
         "opacity": 0.5,
         "type": "mesh3d",
         "x": [
          23.9,
          23.9,
          23.9,
          23.9
         ],
         "y": [
          94.15,
          94.15,
          94.15,
          94.15
         ],
         "z": [
          0,
          0,
          3,
          3
         ]
        },
        {
         "line": {
          "color": "black",
          "width": 3
         },
         "mode": "lines",
         "type": "scatter3d",
         "x": [
          23.9,
          24.91,
          24.48,
          23.48,
          23.9,
          23.9
         ],
         "y": [
          94.15,
          94.81,
          95.57,
          94.95,
          94.15,
          94.15
         ],
         "z": [
          3,
          3,
          3,
          3,
          3,
          3
         ]
        },
        {
         "line": {
          "color": "black",
          "width": 3
         },
         "mode": "lines",
         "type": "scatter3d",
         "x": [
          23.9,
          24.91,
          24.48,
          23.48,
          23.9,
          23.9
         ],
         "y": [
          94.15,
          94.81,
          95.57,
          94.95,
          94.15,
          94.15
         ],
         "z": [
          0,
          0,
          0,
          0,
          0,
          0
         ]
        },
        {
         "line": {
          "color": "black",
          "width": 3
         },
         "mode": "lines",
         "type": "scatter3d",
         "x": [
          23.9,
          23.9,
          24.91,
          24.91,
          23.9
         ],
         "y": [
          94.15,
          94.15,
          94.81,
          94.81,
          94.15
         ],
         "z": [
          0,
          3,
          3,
          0,
          0
         ]
        },
        {
         "line": {
          "color": "black",
          "width": 3
         },
         "mode": "lines",
         "type": "scatter3d",
         "x": [
          24.91,
          24.91,
          24.48,
          24.48,
          24.91
         ],
         "y": [
          94.81,
          94.81,
          95.57,
          95.57,
          94.81
         ],
         "z": [
          0,
          3,
          3,
          0,
          0
         ]
        },
        {
         "line": {
          "color": "black",
          "width": 3
         },
         "mode": "lines",
         "type": "scatter3d",
         "x": [
          24.48,
          24.48,
          23.48,
          23.48,
          24.48
         ],
         "y": [
          95.57,
          95.57,
          94.95,
          94.95,
          95.57
         ],
         "z": [
          0,
          3,
          3,
          0,
          0
         ]
        },
        {
         "line": {
          "color": "black",
          "width": 3
         },
         "mode": "lines",
         "type": "scatter3d",
         "x": [
          23.48,
          23.48,
          23.9,
          23.9,
          23.48
         ],
         "y": [
          94.95,
          94.95,
          94.15,
          94.15,
          94.95
         ],
         "z": [
          0,
          3,
          3,
          0,
          0
         ]
        },
        {
         "line": {
          "color": "black",
          "width": 3
         },
         "mode": "lines",
         "type": "scatter3d",
         "x": [
          23.9,
          23.9,
          23.9,
          23.9,
          23.9
         ],
         "y": [
          94.15,
          94.15,
          94.15,
          94.15,
          94.15
         ],
         "z": [
          0,
          3,
          3,
          0,
          0
         ]
        },
        {
         "color": "red",
         "i": [
          0,
          0
         ],
         "j": [
          1,
          2
         ],
         "k": [
          2,
          3
         ],
         "opacity": 0.5,
         "type": "mesh3d",
         "x": [
          23.71,
          23.91,
          23.91,
          23.71
         ],
         "y": [
          98.67,
          98.26,
          98.26,
          98.67
         ],
         "z": [
          0,
          0,
          10,
          10
         ]
        },
        {
         "color": "red",
         "i": [
          0,
          0
         ],
         "j": [
          1,
          2
         ],
         "k": [
          2,
          3
         ],
         "opacity": 0.5,
         "type": "mesh3d",
         "x": [
          23.91,
          24.41,
          24.41,
          23.91
         ],
         "y": [
          98.26,
          98.67,
          98.67,
          98.26
         ],
         "z": [
          0,
          0,
          10,
          10
         ]
        },
        {
         "color": "red",
         "i": [
          0,
          0
         ],
         "j": [
          1,
          2
         ],
         "k": [
          2,
          3
         ],
         "opacity": 0.5,
         "type": "mesh3d",
         "x": [
          24.41,
          23.71,
          23.71,
          24.41
         ],
         "y": [
          98.67,
          98.67,
          98.67,
          98.67
         ],
         "z": [
          0,
          0,
          10,
          10
         ]
        },
        {
         "color": "red",
         "i": [
          0,
          0
         ],
         "j": [
          1,
          2
         ],
         "k": [
          2,
          3
         ],
         "opacity": 0.5,
         "type": "mesh3d",
         "x": [
          23.71,
          23.71,
          23.71,
          23.71
         ],
         "y": [
          98.67,
          98.67,
          98.67,
          98.67
         ],
         "z": [
          0,
          0,
          10,
          10
         ]
        },
        {
         "line": {
          "color": "black",
          "width": 3
         },
         "mode": "lines",
         "type": "scatter3d",
         "x": [
          23.71,
          23.91,
          24.41,
          23.71,
          23.71
         ],
         "y": [
          98.67,
          98.26,
          98.67,
          98.67,
          98.67
         ],
         "z": [
          10,
          10,
          10,
          10,
          10
         ]
        },
        {
         "line": {
          "color": "black",
          "width": 3
         },
         "mode": "lines",
         "type": "scatter3d",
         "x": [
          23.71,
          23.91,
          24.41,
          23.71,
          23.71
         ],
         "y": [
          98.67,
          98.26,
          98.67,
          98.67,
          98.67
         ],
         "z": [
          0,
          0,
          0,
          0,
          0
         ]
        },
        {
         "line": {
          "color": "black",
          "width": 3
         },
         "mode": "lines",
         "type": "scatter3d",
         "x": [
          23.71,
          23.71,
          23.91,
          23.91,
          23.71
         ],
         "y": [
          98.67,
          98.67,
          98.26,
          98.26,
          98.67
         ],
         "z": [
          0,
          10,
          10,
          0,
          0
         ]
        },
        {
         "line": {
          "color": "black",
          "width": 3
         },
         "mode": "lines",
         "type": "scatter3d",
         "x": [
          23.91,
          23.91,
          24.41,
          24.41,
          23.91
         ],
         "y": [
          98.26,
          98.26,
          98.67,
          98.67,
          98.26
         ],
         "z": [
          0,
          10,
          10,
          0,
          0
         ]
        },
        {
         "line": {
          "color": "black",
          "width": 3
         },
         "mode": "lines",
         "type": "scatter3d",
         "x": [
          24.41,
          24.41,
          23.71,
          23.71,
          24.41
         ],
         "y": [
          98.67,
          98.67,
          98.67,
          98.67,
          98.67
         ],
         "z": [
          0,
          10,
          10,
          0,
          0
         ]
        },
        {
         "line": {
          "color": "black",
          "width": 3
         },
         "mode": "lines",
         "type": "scatter3d",
         "x": [
          23.71,
          23.71,
          23.71,
          23.71,
          23.71
         ],
         "y": [
          98.67,
          98.67,
          98.67,
          98.67,
          98.67
         ],
         "z": [
          0,
          10,
          10,
          0,
          0
         ]
        },
        {
         "color": "red",
         "i": [
          0,
          0
         ],
         "j": [
          1,
          2
         ],
         "k": [
          2,
          3
         ],
         "opacity": 0.5,
         "type": "mesh3d",
         "x": [
          31.81,
          32.51,
          32.51,
          31.81
         ],
         "y": [
          90.35,
          90.85,
          90.85,
          90.35
         ],
         "z": [
          0,
          0,
          10,
          10
         ]
        },
        {
         "color": "red",
         "i": [
          0,
          0
         ],
         "j": [
          1,
          2
         ],
         "k": [
          2,
          3
         ],
         "opacity": 0.5,
         "type": "mesh3d",
         "x": [
          32.51,
          32.21,
          32.21,
          32.51
         ],
         "y": [
          90.85,
          91.55,
          91.55,
          90.85
         ],
         "z": [
          0,
          0,
          10,
          10
         ]
        },
        {
         "color": "red",
         "i": [
          0,
          0
         ],
         "j": [
          1,
          2
         ],
         "k": [
          2,
          3
         ],
         "opacity": 0.5,
         "type": "mesh3d",
         "x": [
          32.21,
          32.03,
          32.03,
          32.21
         ],
         "y": [
          91.55,
          91.85,
          91.85,
          91.55
         ],
         "z": [
          0,
          0,
          10,
          10
         ]
        },
        {
         "color": "red",
         "i": [
          0,
          0
         ],
         "j": [
          1,
          2
         ],
         "k": [
          2,
          3
         ],
         "opacity": 0.5,
         "type": "mesh3d",
         "x": [
          32.03,
          34.31,
          34.31,
          32.03
         ],
         "y": [
          91.85,
          93.45,
          93.45,
          91.85
         ],
         "z": [
          0,
          0,
          10,
          10
         ]
        },
        {
         "color": "red",
         "i": [
          0,
          0
         ],
         "j": [
          1,
          2
         ],
         "k": [
          2,
          3
         ],
         "opacity": 0.5,
         "type": "mesh3d",
         "x": [
          34.31,
          32.69,
          32.69,
          34.31
         ],
         "y": [
          93.45,
          96.27,
          96.27,
          93.45
         ],
         "z": [
          0,
          0,
          10,
          10
         ]
        },
        {
         "color": "red",
         "i": [
          0,
          0
         ],
         "j": [
          1,
          2
         ],
         "k": [
          2,
          3
         ],
         "opacity": 0.5,
         "type": "mesh3d",
         "x": [
          32.69,
          30.99,
          30.99,
          32.69
         ],
         "y": [
          96.27,
          95.15,
          95.15,
          96.27
         ],
         "z": [
          0,
          0,
          10,
          10
         ]
        },
        {
         "color": "red",
         "i": [
          0,
          0
         ],
         "j": [
          1,
          2
         ],
         "k": [
          2,
          3
         ],
         "opacity": 0.5,
         "type": "mesh3d",
         "x": [
          30.99,
          32.21,
          32.21,
          30.99
         ],
         "y": [
          95.15,
          92.93,
          92.93,
          95.15
         ],
         "z": [
          0,
          0,
          10,
          10
         ]
        },
        {
         "color": "red",
         "i": [
          0,
          0
         ],
         "j": [
          1,
          2
         ],
         "k": [
          2,
          3
         ],
         "opacity": 0.5,
         "type": "mesh3d",
         "x": [
          32.21,
          30.89,
          30.89,
          32.21
         ],
         "y": [
          92.93,
          91.97,
          91.97,
          92.93
         ],
         "z": [
          0,
          0,
          10,
          10
         ]
        },
        {
         "color": "red",
         "i": [
          0,
          0
         ],
         "j": [
          1,
          2
         ],
         "k": [
          2,
          3
         ],
         "opacity": 0.5,
         "type": "mesh3d",
         "x": [
          30.89,
          31.81,
          31.81,
          30.89
         ],
         "y": [
          91.97,
          90.35,
          90.35,
          91.97
         ],
         "z": [
          0,
          0,
          10,
          10
         ]
        },
        {
         "color": "red",
         "i": [
          0,
          0
         ],
         "j": [
          1,
          2
         ],
         "k": [
          2,
          3
         ],
         "opacity": 0.5,
         "type": "mesh3d",
         "x": [
          31.81,
          31.81,
          31.81,
          31.81
         ],
         "y": [
          90.35,
          90.35,
          90.35,
          90.35
         ],
         "z": [
          0,
          0,
          10,
          10
         ]
        },
        {
         "line": {
          "color": "black",
          "width": 3
         },
         "mode": "lines",
         "type": "scatter3d",
         "x": [
          31.81,
          32.51,
          32.21,
          32.03,
          34.31,
          32.69,
          30.99,
          32.21,
          30.89,
          31.81,
          31.81
         ],
         "y": [
          90.35,
          90.85,
          91.55,
          91.85,
          93.45,
          96.27,
          95.15,
          92.93,
          91.97,
          90.35,
          90.35
         ],
         "z": [
          10,
          10,
          10,
          10,
          10,
          10,
          10,
          10,
          10,
          10,
          10
         ]
        },
        {
         "line": {
          "color": "black",
          "width": 3
         },
         "mode": "lines",
         "type": "scatter3d",
         "x": [
          31.81,
          32.51,
          32.21,
          32.03,
          34.31,
          32.69,
          30.99,
          32.21,
          30.89,
          31.81,
          31.81
         ],
         "y": [
          90.35,
          90.85,
          91.55,
          91.85,
          93.45,
          96.27,
          95.15,
          92.93,
          91.97,
          90.35,
          90.35
         ],
         "z": [
          0,
          0,
          0,
          0,
          0,
          0,
          0,
          0,
          0,
          0,
          0
         ]
        },
        {
         "line": {
          "color": "black",
          "width": 3
         },
         "mode": "lines",
         "type": "scatter3d",
         "x": [
          31.81,
          31.81,
          32.51,
          32.51,
          31.81
         ],
         "y": [
          90.35,
          90.35,
          90.85,
          90.85,
          90.35
         ],
         "z": [
          0,
          10,
          10,
          0,
          0
         ]
        },
        {
         "line": {
          "color": "black",
          "width": 3
         },
         "mode": "lines",
         "type": "scatter3d",
         "x": [
          32.51,
          32.51,
          32.21,
          32.21,
          32.51
         ],
         "y": [
          90.85,
          90.85,
          91.55,
          91.55,
          90.85
         ],
         "z": [
          0,
          10,
          10,
          0,
          0
         ]
        },
        {
         "line": {
          "color": "black",
          "width": 3
         },
         "mode": "lines",
         "type": "scatter3d",
         "x": [
          32.21,
          32.21,
          32.03,
          32.03,
          32.21
         ],
         "y": [
          91.55,
          91.55,
          91.85,
          91.85,
          91.55
         ],
         "z": [
          0,
          10,
          10,
          0,
          0
         ]
        },
        {
         "line": {
          "color": "black",
          "width": 3
         },
         "mode": "lines",
         "type": "scatter3d",
         "x": [
          32.03,
          32.03,
          34.31,
          34.31,
          32.03
         ],
         "y": [
          91.85,
          91.85,
          93.45,
          93.45,
          91.85
         ],
         "z": [
          0,
          10,
          10,
          0,
          0
         ]
        },
        {
         "line": {
          "color": "black",
          "width": 3
         },
         "mode": "lines",
         "type": "scatter3d",
         "x": [
          34.31,
          34.31,
          32.69,
          32.69,
          34.31
         ],
         "y": [
          93.45,
          93.45,
          96.27,
          96.27,
          93.45
         ],
         "z": [
          0,
          10,
          10,
          0,
          0
         ]
        },
        {
         "line": {
          "color": "black",
          "width": 3
         },
         "mode": "lines",
         "type": "scatter3d",
         "x": [
          32.69,
          32.69,
          30.99,
          30.99,
          32.69
         ],
         "y": [
          96.27,
          96.27,
          95.15,
          95.15,
          96.27
         ],
         "z": [
          0,
          10,
          10,
          0,
          0
         ]
        },
        {
         "line": {
          "color": "black",
          "width": 3
         },
         "mode": "lines",
         "type": "scatter3d",
         "x": [
          30.99,
          30.99,
          32.21,
          32.21,
          30.99
         ],
         "y": [
          95.15,
          95.15,
          92.93,
          92.93,
          95.15
         ],
         "z": [
          0,
          10,
          10,
          0,
          0
         ]
        },
        {
         "line": {
          "color": "black",
          "width": 3
         },
         "mode": "lines",
         "type": "scatter3d",
         "x": [
          32.21,
          32.21,
          30.89,
          30.89,
          32.21
         ],
         "y": [
          92.93,
          92.93,
          91.97,
          91.97,
          92.93
         ],
         "z": [
          0,
          10,
          10,
          0,
          0
         ]
        },
        {
         "line": {
          "color": "black",
          "width": 3
         },
         "mode": "lines",
         "type": "scatter3d",
         "x": [
          30.89,
          30.89,
          31.81,
          31.81,
          30.89
         ],
         "y": [
          91.97,
          91.97,
          90.35,
          90.35,
          91.97
         ],
         "z": [
          0,
          10,
          10,
          0,
          0
         ]
        },
        {
         "line": {
          "color": "black",
          "width": 3
         },
         "mode": "lines",
         "type": "scatter3d",
         "x": [
          31.81,
          31.81,
          31.81,
          31.81,
          31.81
         ],
         "y": [
          90.35,
          90.35,
          90.35,
          90.35,
          90.35
         ],
         "z": [
          0,
          10,
          10,
          0,
          0
         ]
        },
        {
         "color": "red",
         "i": [
          0,
          0
         ],
         "j": [
          1,
          2
         ],
         "k": [
          2,
          3
         ],
         "opacity": 0.5,
         "type": "mesh3d",
         "x": [
          30.21,
          31.85,
          31.85,
          30.21
         ],
         "y": [
          96,
          97.11,
          97.11,
          96
         ],
         "z": [
          0,
          0,
          10,
          10
         ]
        },
        {
         "color": "red",
         "i": [
          0,
          0
         ],
         "j": [
          1,
          2
         ],
         "k": [
          2,
          3
         ],
         "opacity": 0.5,
         "type": "mesh3d",
         "x": [
          31.85,
          31.02,
          31.02,
          31.85
         ],
         "y": [
          97.11,
          98.55,
          98.55,
          97.11
         ],
         "z": [
          0,
          0,
          10,
          10
         ]
        },
        {
         "color": "red",
         "i": [
          0,
          0
         ],
         "j": [
          1,
          2
         ],
         "k": [
          2,
          3
         ],
         "opacity": 0.5,
         "type": "mesh3d",
         "x": [
          31.02,
          30.5,
          30.5,
          31.02
         ],
         "y": [
          98.55,
          98.26,
          98.26,
          98.55
         ],
         "z": [
          0,
          0,
          10,
          10
         ]
        },
        {
         "color": "red",
         "i": [
          0,
          0
         ],
         "j": [
          1,
          2
         ],
         "k": [
          2,
          3
         ],
         "opacity": 0.5,
         "type": "mesh3d",
         "x": [
          30.5,
          30.31,
          30.31,
          30.5
         ],
         "y": [
          98.26,
          98.53,
          98.53,
          98.26
         ],
         "z": [
          0,
          0,
          10,
          10
         ]
        },
        {
         "color": "red",
         "i": [
          0,
          0
         ],
         "j": [
          1,
          2
         ],
         "k": [
          2,
          3
         ],
         "opacity": 0.5,
         "type": "mesh3d",
         "x": [
          30.31,
          30.51,
          30.51,
          30.31
         ],
         "y": [
          98.53,
          98.67,
          98.67,
          98.53
         ],
         "z": [
          0,
          0,
          10,
          10
         ]
        },
        {
         "color": "red",
         "i": [
          0,
          0
         ],
         "j": [
          1,
          2
         ],
         "k": [
          2,
          3
         ],
         "opacity": 0.5,
         "type": "mesh3d",
         "x": [
          30.51,
          27.81,
          27.81,
          30.51
         ],
         "y": [
          98.67,
          98.67,
          98.67,
          98.67
         ],
         "z": [
          0,
          0,
          10,
          10
         ]
        },
        {
         "color": "red",
         "i": [
          0,
          0
         ],
         "j": [
          1,
          2
         ],
         "k": [
          2,
          3
         ],
         "opacity": 0.5,
         "type": "mesh3d",
         "x": [
          27.81,
          27.21,
          27.21,
          27.81
         ],
         "y": [
          98.67,
          98.28,
          98.28,
          98.67
         ],
         "z": [
          0,
          0,
          10,
          10
         ]
        },
        {
         "color": "red",
         "i": [
          0,
          0
         ],
         "j": [
          1,
          2
         ],
         "k": [
          2,
          3
         ],
         "opacity": 0.5,
         "type": "mesh3d",
         "x": [
          27.21,
          27.73,
          27.73,
          27.21
         ],
         "y": [
          98.28,
          97.43,
          97.43,
          98.28
         ],
         "z": [
          0,
          0,
          10,
          10
         ]
        },
        {
         "color": "red",
         "i": [
          0,
          0
         ],
         "j": [
          1,
          2
         ],
         "k": [
          2,
          3
         ],
         "opacity": 0.5,
         "type": "mesh3d",
         "x": [
          27.73,
          28.95,
          28.95,
          27.73
         ],
         "y": [
          97.43,
          98.25,
          98.25,
          97.43
         ],
         "z": [
          0,
          0,
          10,
          10
         ]
        },
        {
         "color": "red",
         "i": [
          0,
          0
         ],
         "j": [
          1,
          2
         ],
         "k": [
          2,
          3
         ],
         "opacity": 0.5,
         "type": "mesh3d",
         "x": [
          28.95,
          30.21,
          30.21,
          28.95
         ],
         "y": [
          98.25,
          96,
          96,
          98.25
         ],
         "z": [
          0,
          0,
          10,
          10
         ]
        },
        {
         "color": "red",
         "i": [
          0,
          0
         ],
         "j": [
          1,
          2
         ],
         "k": [
          2,
          3
         ],
         "opacity": 0.5,
         "type": "mesh3d",
         "x": [
          30.21,
          30.21,
          30.21,
          30.21
         ],
         "y": [
          96,
          96,
          96,
          96
         ],
         "z": [
          0,
          0,
          10,
          10
         ]
        },
        {
         "line": {
          "color": "black",
          "width": 3
         },
         "mode": "lines",
         "type": "scatter3d",
         "x": [
          30.21,
          31.85,
          31.02,
          30.5,
          30.31,
          30.51,
          27.81,
          27.21,
          27.73,
          28.95,
          30.21,
          30.21
         ],
         "y": [
          96,
          97.11,
          98.55,
          98.26,
          98.53,
          98.67,
          98.67,
          98.28,
          97.43,
          98.25,
          96,
          96
         ],
         "z": [
          10,
          10,
          10,
          10,
          10,
          10,
          10,
          10,
          10,
          10,
          10,
          10
         ]
        },
        {
         "line": {
          "color": "black",
          "width": 3
         },
         "mode": "lines",
         "type": "scatter3d",
         "x": [
          30.21,
          31.85,
          31.02,
          30.5,
          30.31,
          30.51,
          27.81,
          27.21,
          27.73,
          28.95,
          30.21,
          30.21
         ],
         "y": [
          96,
          97.11,
          98.55,
          98.26,
          98.53,
          98.67,
          98.67,
          98.28,
          97.43,
          98.25,
          96,
          96
         ],
         "z": [
          0,
          0,
          0,
          0,
          0,
          0,
          0,
          0,
          0,
          0,
          0,
          0
         ]
        },
        {
         "line": {
          "color": "black",
          "width": 3
         },
         "mode": "lines",
         "type": "scatter3d",
         "x": [
          30.21,
          30.21,
          31.85,
          31.85,
          30.21
         ],
         "y": [
          96,
          96,
          97.11,
          97.11,
          96
         ],
         "z": [
          0,
          10,
          10,
          0,
          0
         ]
        },
        {
         "line": {
          "color": "black",
          "width": 3
         },
         "mode": "lines",
         "type": "scatter3d",
         "x": [
          31.85,
          31.85,
          31.02,
          31.02,
          31.85
         ],
         "y": [
          97.11,
          97.11,
          98.55,
          98.55,
          97.11
         ],
         "z": [
          0,
          10,
          10,
          0,
          0
         ]
        },
        {
         "line": {
          "color": "black",
          "width": 3
         },
         "mode": "lines",
         "type": "scatter3d",
         "x": [
          31.02,
          31.02,
          30.5,
          30.5,
          31.02
         ],
         "y": [
          98.55,
          98.55,
          98.26,
          98.26,
          98.55
         ],
         "z": [
          0,
          10,
          10,
          0,
          0
         ]
        },
        {
         "line": {
          "color": "black",
          "width": 3
         },
         "mode": "lines",
         "type": "scatter3d",
         "x": [
          30.5,
          30.5,
          30.31,
          30.31,
          30.5
         ],
         "y": [
          98.26,
          98.26,
          98.53,
          98.53,
          98.26
         ],
         "z": [
          0,
          10,
          10,
          0,
          0
         ]
        },
        {
         "line": {
          "color": "black",
          "width": 3
         },
         "mode": "lines",
         "type": "scatter3d",
         "x": [
          30.31,
          30.31,
          30.51,
          30.51,
          30.31
         ],
         "y": [
          98.53,
          98.53,
          98.67,
          98.67,
          98.53
         ],
         "z": [
          0,
          10,
          10,
          0,
          0
         ]
        },
        {
         "line": {
          "color": "black",
          "width": 3
         },
         "mode": "lines",
         "type": "scatter3d",
         "x": [
          30.51,
          30.51,
          27.81,
          27.81,
          30.51
         ],
         "y": [
          98.67,
          98.67,
          98.67,
          98.67,
          98.67
         ],
         "z": [
          0,
          10,
          10,
          0,
          0
         ]
        },
        {
         "line": {
          "color": "black",
          "width": 3
         },
         "mode": "lines",
         "type": "scatter3d",
         "x": [
          27.81,
          27.81,
          27.21,
          27.21,
          27.81
         ],
         "y": [
          98.67,
          98.67,
          98.28,
          98.28,
          98.67
         ],
         "z": [
          0,
          10,
          10,
          0,
          0
         ]
        },
        {
         "line": {
          "color": "black",
          "width": 3
         },
         "mode": "lines",
         "type": "scatter3d",
         "x": [
          27.21,
          27.21,
          27.73,
          27.73,
          27.21
         ],
         "y": [
          98.28,
          98.28,
          97.43,
          97.43,
          98.28
         ],
         "z": [
          0,
          10,
          10,
          0,
          0
         ]
        },
        {
         "line": {
          "color": "black",
          "width": 3
         },
         "mode": "lines",
         "type": "scatter3d",
         "x": [
          27.73,
          27.73,
          28.95,
          28.95,
          27.73
         ],
         "y": [
          97.43,
          97.43,
          98.25,
          98.25,
          97.43
         ],
         "z": [
          0,
          10,
          10,
          0,
          0
         ]
        },
        {
         "line": {
          "color": "black",
          "width": 3
         },
         "mode": "lines",
         "type": "scatter3d",
         "x": [
          28.95,
          28.95,
          30.21,
          30.21,
          28.95
         ],
         "y": [
          98.25,
          98.25,
          96,
          96,
          98.25
         ],
         "z": [
          0,
          10,
          10,
          0,
          0
         ]
        },
        {
         "line": {
          "color": "black",
          "width": 3
         },
         "mode": "lines",
         "type": "scatter3d",
         "x": [
          30.21,
          30.21,
          30.21,
          30.21,
          30.21
         ],
         "y": [
          96,
          96,
          96,
          96,
          96
         ],
         "z": [
          0,
          10,
          10,
          0,
          0
         ]
        },
        {
         "marker": {
          "color": "blue",
          "size": 5
         },
         "mode": "markers",
         "type": "scatter3d",
         "x": [
          25.56
         ],
         "y": [
          92.34
         ],
         "z": [
          0
         ]
        },
        {
         "marker": {
          "color": "orange",
          "size": 8
         },
         "mode": "markers",
         "type": "scatter3d",
         "x": [
          27.55470577587296
         ],
         "y": [
          93.92084405438013
         ],
         "z": [
          0
         ]
        },
        {
         "line": {
          "color": "gray",
          "width": 8
         },
         "mode": "lines",
         "type": "scatter3d",
         "x": [
          27.55470577587296,
          27.55470577587296,
          25.56,
          25.56
         ],
         "y": [
          93.92084405438013,
          93.92084405438013,
          92.34,
          92.34
         ],
         "z": [
          0,
          5,
          5,
          0
         ]
        }
       ],
       "layout": {
        "height": 800,
        "scene": {
         "aspectmode": "cube",
         "xaxis": {
          "title": {
           "text": "X"
          }
         },
         "yaxis": {
          "title": {
           "text": "Y"
          }
         },
         "zaxis": {
          "title": {
           "text": "Height"
          }
         }
        },
        "template": {
         "data": {
          "bar": [
           {
            "error_x": {
             "color": "#2a3f5f"
            },
            "error_y": {
             "color": "#2a3f5f"
            },
            "marker": {
             "line": {
              "color": "#E5ECF6",
              "width": 0.5
             },
             "pattern": {
              "fillmode": "overlay",
              "size": 10,
              "solidity": 0.2
             }
            },
            "type": "bar"
           }
          ],
          "barpolar": [
           {
            "marker": {
             "line": {
              "color": "#E5ECF6",
              "width": 0.5
             },
             "pattern": {
              "fillmode": "overlay",
              "size": 10,
              "solidity": 0.2
             }
            },
            "type": "barpolar"
           }
          ],
          "carpet": [
           {
            "aaxis": {
             "endlinecolor": "#2a3f5f",
             "gridcolor": "white",
             "linecolor": "white",
             "minorgridcolor": "white",
             "startlinecolor": "#2a3f5f"
            },
            "baxis": {
             "endlinecolor": "#2a3f5f",
             "gridcolor": "white",
             "linecolor": "white",
             "minorgridcolor": "white",
             "startlinecolor": "#2a3f5f"
            },
            "type": "carpet"
           }
          ],
          "choropleth": [
           {
            "colorbar": {
             "outlinewidth": 0,
             "ticks": ""
            },
            "type": "choropleth"
           }
          ],
          "contour": [
           {
            "colorbar": {
             "outlinewidth": 0,
             "ticks": ""
            },
            "colorscale": [
             [
              0,
              "#0d0887"
             ],
             [
              0.1111111111111111,
              "#46039f"
             ],
             [
              0.2222222222222222,
              "#7201a8"
             ],
             [
              0.3333333333333333,
              "#9c179e"
             ],
             [
              0.4444444444444444,
              "#bd3786"
             ],
             [
              0.5555555555555556,
              "#d8576b"
             ],
             [
              0.6666666666666666,
              "#ed7953"
             ],
             [
              0.7777777777777778,
              "#fb9f3a"
             ],
             [
              0.8888888888888888,
              "#fdca26"
             ],
             [
              1,
              "#f0f921"
             ]
            ],
            "type": "contour"
           }
          ],
          "contourcarpet": [
           {
            "colorbar": {
             "outlinewidth": 0,
             "ticks": ""
            },
            "type": "contourcarpet"
           }
          ],
          "heatmap": [
           {
            "colorbar": {
             "outlinewidth": 0,
             "ticks": ""
            },
            "colorscale": [
             [
              0,
              "#0d0887"
             ],
             [
              0.1111111111111111,
              "#46039f"
             ],
             [
              0.2222222222222222,
              "#7201a8"
             ],
             [
              0.3333333333333333,
              "#9c179e"
             ],
             [
              0.4444444444444444,
              "#bd3786"
             ],
             [
              0.5555555555555556,
              "#d8576b"
             ],
             [
              0.6666666666666666,
              "#ed7953"
             ],
             [
              0.7777777777777778,
              "#fb9f3a"
             ],
             [
              0.8888888888888888,
              "#fdca26"
             ],
             [
              1,
              "#f0f921"
             ]
            ],
            "type": "heatmap"
           }
          ],
          "heatmapgl": [
           {
            "colorbar": {
             "outlinewidth": 0,
             "ticks": ""
            },
            "colorscale": [
             [
              0,
              "#0d0887"
             ],
             [
              0.1111111111111111,
              "#46039f"
             ],
             [
              0.2222222222222222,
              "#7201a8"
             ],
             [
              0.3333333333333333,
              "#9c179e"
             ],
             [
              0.4444444444444444,
              "#bd3786"
             ],
             [
              0.5555555555555556,
              "#d8576b"
             ],
             [
              0.6666666666666666,
              "#ed7953"
             ],
             [
              0.7777777777777778,
              "#fb9f3a"
             ],
             [
              0.8888888888888888,
              "#fdca26"
             ],
             [
              1,
              "#f0f921"
             ]
            ],
            "type": "heatmapgl"
           }
          ],
          "histogram": [
           {
            "marker": {
             "pattern": {
              "fillmode": "overlay",
              "size": 10,
              "solidity": 0.2
             }
            },
            "type": "histogram"
           }
          ],
          "histogram2d": [
           {
            "colorbar": {
             "outlinewidth": 0,
             "ticks": ""
            },
            "colorscale": [
             [
              0,
              "#0d0887"
             ],
             [
              0.1111111111111111,
              "#46039f"
             ],
             [
              0.2222222222222222,
              "#7201a8"
             ],
             [
              0.3333333333333333,
              "#9c179e"
             ],
             [
              0.4444444444444444,
              "#bd3786"
             ],
             [
              0.5555555555555556,
              "#d8576b"
             ],
             [
              0.6666666666666666,
              "#ed7953"
             ],
             [
              0.7777777777777778,
              "#fb9f3a"
             ],
             [
              0.8888888888888888,
              "#fdca26"
             ],
             [
              1,
              "#f0f921"
             ]
            ],
            "type": "histogram2d"
           }
          ],
          "histogram2dcontour": [
           {
            "colorbar": {
             "outlinewidth": 0,
             "ticks": ""
            },
            "colorscale": [
             [
              0,
              "#0d0887"
             ],
             [
              0.1111111111111111,
              "#46039f"
             ],
             [
              0.2222222222222222,
              "#7201a8"
             ],
             [
              0.3333333333333333,
              "#9c179e"
             ],
             [
              0.4444444444444444,
              "#bd3786"
             ],
             [
              0.5555555555555556,
              "#d8576b"
             ],
             [
              0.6666666666666666,
              "#ed7953"
             ],
             [
              0.7777777777777778,
              "#fb9f3a"
             ],
             [
              0.8888888888888888,
              "#fdca26"
             ],
             [
              1,
              "#f0f921"
             ]
            ],
            "type": "histogram2dcontour"
           }
          ],
          "mesh3d": [
           {
            "colorbar": {
             "outlinewidth": 0,
             "ticks": ""
            },
            "type": "mesh3d"
           }
          ],
          "parcoords": [
           {
            "line": {
             "colorbar": {
              "outlinewidth": 0,
              "ticks": ""
             }
            },
            "type": "parcoords"
           }
          ],
          "pie": [
           {
            "automargin": true,
            "type": "pie"
           }
          ],
          "scatter": [
           {
            "fillpattern": {
             "fillmode": "overlay",
             "size": 10,
             "solidity": 0.2
            },
            "type": "scatter"
           }
          ],
          "scatter3d": [
           {
            "line": {
             "colorbar": {
              "outlinewidth": 0,
              "ticks": ""
             }
            },
            "marker": {
             "colorbar": {
              "outlinewidth": 0,
              "ticks": ""
             }
            },
            "type": "scatter3d"
           }
          ],
          "scattercarpet": [
           {
            "marker": {
             "colorbar": {
              "outlinewidth": 0,
              "ticks": ""
             }
            },
            "type": "scattercarpet"
           }
          ],
          "scattergeo": [
           {
            "marker": {
             "colorbar": {
              "outlinewidth": 0,
              "ticks": ""
             }
            },
            "type": "scattergeo"
           }
          ],
          "scattergl": [
           {
            "marker": {
             "colorbar": {
              "outlinewidth": 0,
              "ticks": ""
             }
            },
            "type": "scattergl"
           }
          ],
          "scattermapbox": [
           {
            "marker": {
             "colorbar": {
              "outlinewidth": 0,
              "ticks": ""
             }
            },
            "type": "scattermapbox"
           }
          ],
          "scatterpolar": [
           {
            "marker": {
             "colorbar": {
              "outlinewidth": 0,
              "ticks": ""
             }
            },
            "type": "scatterpolar"
           }
          ],
          "scatterpolargl": [
           {
            "marker": {
             "colorbar": {
              "outlinewidth": 0,
              "ticks": ""
             }
            },
            "type": "scatterpolargl"
           }
          ],
          "scatterternary": [
           {
            "marker": {
             "colorbar": {
              "outlinewidth": 0,
              "ticks": ""
             }
            },
            "type": "scatterternary"
           }
          ],
          "surface": [
           {
            "colorbar": {
             "outlinewidth": 0,
             "ticks": ""
            },
            "colorscale": [
             [
              0,
              "#0d0887"
             ],
             [
              0.1111111111111111,
              "#46039f"
             ],
             [
              0.2222222222222222,
              "#7201a8"
             ],
             [
              0.3333333333333333,
              "#9c179e"
             ],
             [
              0.4444444444444444,
              "#bd3786"
             ],
             [
              0.5555555555555556,
              "#d8576b"
             ],
             [
              0.6666666666666666,
              "#ed7953"
             ],
             [
              0.7777777777777778,
              "#fb9f3a"
             ],
             [
              0.8888888888888888,
              "#fdca26"
             ],
             [
              1,
              "#f0f921"
             ]
            ],
            "type": "surface"
           }
          ],
          "table": [
           {
            "cells": {
             "fill": {
              "color": "#EBF0F8"
             },
             "line": {
              "color": "white"
             }
            },
            "header": {
             "fill": {
              "color": "#C8D4E3"
             },
             "line": {
              "color": "white"
             }
            },
            "type": "table"
           }
          ]
         },
         "layout": {
          "annotationdefaults": {
           "arrowcolor": "#2a3f5f",
           "arrowhead": 0,
           "arrowwidth": 1
          },
          "autotypenumbers": "strict",
          "coloraxis": {
           "colorbar": {
            "outlinewidth": 0,
            "ticks": ""
           }
          },
          "colorscale": {
           "diverging": [
            [
             0,
             "#8e0152"
            ],
            [
             0.1,
             "#c51b7d"
            ],
            [
             0.2,
             "#de77ae"
            ],
            [
             0.3,
             "#f1b6da"
            ],
            [
             0.4,
             "#fde0ef"
            ],
            [
             0.5,
             "#f7f7f7"
            ],
            [
             0.6,
             "#e6f5d0"
            ],
            [
             0.7,
             "#b8e186"
            ],
            [
             0.8,
             "#7fbc41"
            ],
            [
             0.9,
             "#4d9221"
            ],
            [
             1,
             "#276419"
            ]
           ],
           "sequential": [
            [
             0,
             "#0d0887"
            ],
            [
             0.1111111111111111,
             "#46039f"
            ],
            [
             0.2222222222222222,
             "#7201a8"
            ],
            [
             0.3333333333333333,
             "#9c179e"
            ],
            [
             0.4444444444444444,
             "#bd3786"
            ],
            [
             0.5555555555555556,
             "#d8576b"
            ],
            [
             0.6666666666666666,
             "#ed7953"
            ],
            [
             0.7777777777777778,
             "#fb9f3a"
            ],
            [
             0.8888888888888888,
             "#fdca26"
            ],
            [
             1,
             "#f0f921"
            ]
           ],
           "sequentialminus": [
            [
             0,
             "#0d0887"
            ],
            [
             0.1111111111111111,
             "#46039f"
            ],
            [
             0.2222222222222222,
             "#7201a8"
            ],
            [
             0.3333333333333333,
             "#9c179e"
            ],
            [
             0.4444444444444444,
             "#bd3786"
            ],
            [
             0.5555555555555556,
             "#d8576b"
            ],
            [
             0.6666666666666666,
             "#ed7953"
            ],
            [
             0.7777777777777778,
             "#fb9f3a"
            ],
            [
             0.8888888888888888,
             "#fdca26"
            ],
            [
             1,
             "#f0f921"
            ]
           ]
          },
          "colorway": [
           "#636efa",
           "#EF553B",
           "#00cc96",
           "#ab63fa",
           "#FFA15A",
           "#19d3f3",
           "#FF6692",
           "#B6E880",
           "#FF97FF",
           "#FECB52"
          ],
          "font": {
           "color": "#2a3f5f"
          },
          "geo": {
           "bgcolor": "white",
           "lakecolor": "white",
           "landcolor": "#E5ECF6",
           "showlakes": true,
           "showland": true,
           "subunitcolor": "white"
          },
          "hoverlabel": {
           "align": "left"
          },
          "hovermode": "closest",
          "mapbox": {
           "style": "light"
          },
          "paper_bgcolor": "white",
          "plot_bgcolor": "#E5ECF6",
          "polar": {
           "angularaxis": {
            "gridcolor": "white",
            "linecolor": "white",
            "ticks": ""
           },
           "bgcolor": "#E5ECF6",
           "radialaxis": {
            "gridcolor": "white",
            "linecolor": "white",
            "ticks": ""
           }
          },
          "scene": {
           "xaxis": {
            "backgroundcolor": "#E5ECF6",
            "gridcolor": "white",
            "gridwidth": 2,
            "linecolor": "white",
            "showbackground": true,
            "ticks": "",
            "zerolinecolor": "white"
           },
           "yaxis": {
            "backgroundcolor": "#E5ECF6",
            "gridcolor": "white",
            "gridwidth": 2,
            "linecolor": "white",
            "showbackground": true,
            "ticks": "",
            "zerolinecolor": "white"
           },
           "zaxis": {
            "backgroundcolor": "#E5ECF6",
            "gridcolor": "white",
            "gridwidth": 2,
            "linecolor": "white",
            "showbackground": true,
            "ticks": "",
            "zerolinecolor": "white"
           }
          },
          "shapedefaults": {
           "line": {
            "color": "#2a3f5f"
           }
          },
          "ternary": {
           "aaxis": {
            "gridcolor": "white",
            "linecolor": "white",
            "ticks": ""
           },
           "baxis": {
            "gridcolor": "white",
            "linecolor": "white",
            "ticks": ""
           },
           "bgcolor": "#E5ECF6",
           "caxis": {
            "gridcolor": "white",
            "linecolor": "white",
            "ticks": ""
           }
          },
          "title": {
           "x": 0.05
          },
          "xaxis": {
           "automargin": true,
           "gridcolor": "white",
           "linecolor": "white",
           "ticks": "",
           "title": {
            "standoff": 15
           },
           "zerolinecolor": "white",
           "zerolinewidth": 2
          },
          "yaxis": {
           "automargin": true,
           "gridcolor": "white",
           "linecolor": "white",
           "ticks": "",
           "title": {
            "standoff": 15
           },
           "zerolinecolor": "white",
           "zerolinewidth": 2
          }
         }
        },
        "width": 800
       }
      }
     },
     "metadata": {},
     "output_type": "display_data"
    }
   ],
   "source": [
    "initial_plot(dest, obstacles, dp = source, route=route)"
   ]
  },
  {
   "cell_type": "code",
   "execution_count": 29,
   "metadata": {},
   "outputs": [],
   "source": [
    "\n",
    "def create_plane(coords):\n",
    "    fig = go.Figure()\n",
    "\n",
    "    # Extract x, y, z coordinates from coords\n",
    "    x = [point[0] for point in coords]\n",
    "    y = [point[1] for point in coords]\n",
    "    z = [point[2] for point in coords]\n",
    "\n",
    "    # Create Mesh3d to fill the shape\n",
    "    fig.add_trace(go.Scatter3d(\n",
    "            x=x,\n",
    "            y=y,\n",
    "            z=z,\n",
    "            mode='lines',\n",
    "            marker=dict(size=8, color='blue')\n",
    "    ))\n",
    "\n",
    "    fig.add_trace(go.Mesh3d(\n",
    "        x=x,\n",
    "        y=y,\n",
    "        z=z,\n",
    "        opacity=0.80,\n",
    "    ))\n",
    "\n",
    "    fig.show()"
   ]
  },
  {
   "cell_type": "code",
   "execution_count": 30,
   "metadata": {},
   "outputs": [
    {
     "data": {
      "application/vnd.plotly.v1+json": {
       "config": {
        "plotlyServerURL": "https://plot.ly"
       },
       "data": [
        {
         "marker": {
          "color": "blue",
          "size": 8
         },
         "mode": "lines",
         "type": "scatter3d",
         "x": [
          31.81,
          32.51,
          32.21,
          32.03,
          34.31,
          32.69,
          30.99,
          32.21,
          30.89,
          31.81
         ],
         "y": [
          90.35,
          90.85,
          91.55,
          91.85,
          93.45,
          96.27,
          95.15,
          92.93,
          91.97,
          90.35
         ],
         "z": [
          10,
          10,
          10,
          10,
          10,
          10,
          10,
          10,
          10,
          10
         ]
        },
        {
         "opacity": 0.8,
         "type": "mesh3d",
         "x": [
          31.81,
          32.51,
          32.21,
          32.03,
          34.31,
          32.69,
          30.99,
          32.21,
          30.89,
          31.81
         ],
         "y": [
          90.35,
          90.85,
          91.55,
          91.85,
          93.45,
          96.27,
          95.15,
          92.93,
          91.97,
          90.35
         ],
         "z": [
          10,
          10,
          10,
          10,
          10,
          10,
          10,
          10,
          10,
          10
         ]
        }
       ],
       "layout": {
        "template": {
         "data": {
          "bar": [
           {
            "error_x": {
             "color": "#2a3f5f"
            },
            "error_y": {
             "color": "#2a3f5f"
            },
            "marker": {
             "line": {
              "color": "#E5ECF6",
              "width": 0.5
             },
             "pattern": {
              "fillmode": "overlay",
              "size": 10,
              "solidity": 0.2
             }
            },
            "type": "bar"
           }
          ],
          "barpolar": [
           {
            "marker": {
             "line": {
              "color": "#E5ECF6",
              "width": 0.5
             },
             "pattern": {
              "fillmode": "overlay",
              "size": 10,
              "solidity": 0.2
             }
            },
            "type": "barpolar"
           }
          ],
          "carpet": [
           {
            "aaxis": {
             "endlinecolor": "#2a3f5f",
             "gridcolor": "white",
             "linecolor": "white",
             "minorgridcolor": "white",
             "startlinecolor": "#2a3f5f"
            },
            "baxis": {
             "endlinecolor": "#2a3f5f",
             "gridcolor": "white",
             "linecolor": "white",
             "minorgridcolor": "white",
             "startlinecolor": "#2a3f5f"
            },
            "type": "carpet"
           }
          ],
          "choropleth": [
           {
            "colorbar": {
             "outlinewidth": 0,
             "ticks": ""
            },
            "type": "choropleth"
           }
          ],
          "contour": [
           {
            "colorbar": {
             "outlinewidth": 0,
             "ticks": ""
            },
            "colorscale": [
             [
              0,
              "#0d0887"
             ],
             [
              0.1111111111111111,
              "#46039f"
             ],
             [
              0.2222222222222222,
              "#7201a8"
             ],
             [
              0.3333333333333333,
              "#9c179e"
             ],
             [
              0.4444444444444444,
              "#bd3786"
             ],
             [
              0.5555555555555556,
              "#d8576b"
             ],
             [
              0.6666666666666666,
              "#ed7953"
             ],
             [
              0.7777777777777778,
              "#fb9f3a"
             ],
             [
              0.8888888888888888,
              "#fdca26"
             ],
             [
              1,
              "#f0f921"
             ]
            ],
            "type": "contour"
           }
          ],
          "contourcarpet": [
           {
            "colorbar": {
             "outlinewidth": 0,
             "ticks": ""
            },
            "type": "contourcarpet"
           }
          ],
          "heatmap": [
           {
            "colorbar": {
             "outlinewidth": 0,
             "ticks": ""
            },
            "colorscale": [
             [
              0,
              "#0d0887"
             ],
             [
              0.1111111111111111,
              "#46039f"
             ],
             [
              0.2222222222222222,
              "#7201a8"
             ],
             [
              0.3333333333333333,
              "#9c179e"
             ],
             [
              0.4444444444444444,
              "#bd3786"
             ],
             [
              0.5555555555555556,
              "#d8576b"
             ],
             [
              0.6666666666666666,
              "#ed7953"
             ],
             [
              0.7777777777777778,
              "#fb9f3a"
             ],
             [
              0.8888888888888888,
              "#fdca26"
             ],
             [
              1,
              "#f0f921"
             ]
            ],
            "type": "heatmap"
           }
          ],
          "heatmapgl": [
           {
            "colorbar": {
             "outlinewidth": 0,
             "ticks": ""
            },
            "colorscale": [
             [
              0,
              "#0d0887"
             ],
             [
              0.1111111111111111,
              "#46039f"
             ],
             [
              0.2222222222222222,
              "#7201a8"
             ],
             [
              0.3333333333333333,
              "#9c179e"
             ],
             [
              0.4444444444444444,
              "#bd3786"
             ],
             [
              0.5555555555555556,
              "#d8576b"
             ],
             [
              0.6666666666666666,
              "#ed7953"
             ],
             [
              0.7777777777777778,
              "#fb9f3a"
             ],
             [
              0.8888888888888888,
              "#fdca26"
             ],
             [
              1,
              "#f0f921"
             ]
            ],
            "type": "heatmapgl"
           }
          ],
          "histogram": [
           {
            "marker": {
             "pattern": {
              "fillmode": "overlay",
              "size": 10,
              "solidity": 0.2
             }
            },
            "type": "histogram"
           }
          ],
          "histogram2d": [
           {
            "colorbar": {
             "outlinewidth": 0,
             "ticks": ""
            },
            "colorscale": [
             [
              0,
              "#0d0887"
             ],
             [
              0.1111111111111111,
              "#46039f"
             ],
             [
              0.2222222222222222,
              "#7201a8"
             ],
             [
              0.3333333333333333,
              "#9c179e"
             ],
             [
              0.4444444444444444,
              "#bd3786"
             ],
             [
              0.5555555555555556,
              "#d8576b"
             ],
             [
              0.6666666666666666,
              "#ed7953"
             ],
             [
              0.7777777777777778,
              "#fb9f3a"
             ],
             [
              0.8888888888888888,
              "#fdca26"
             ],
             [
              1,
              "#f0f921"
             ]
            ],
            "type": "histogram2d"
           }
          ],
          "histogram2dcontour": [
           {
            "colorbar": {
             "outlinewidth": 0,
             "ticks": ""
            },
            "colorscale": [
             [
              0,
              "#0d0887"
             ],
             [
              0.1111111111111111,
              "#46039f"
             ],
             [
              0.2222222222222222,
              "#7201a8"
             ],
             [
              0.3333333333333333,
              "#9c179e"
             ],
             [
              0.4444444444444444,
              "#bd3786"
             ],
             [
              0.5555555555555556,
              "#d8576b"
             ],
             [
              0.6666666666666666,
              "#ed7953"
             ],
             [
              0.7777777777777778,
              "#fb9f3a"
             ],
             [
              0.8888888888888888,
              "#fdca26"
             ],
             [
              1,
              "#f0f921"
             ]
            ],
            "type": "histogram2dcontour"
           }
          ],
          "mesh3d": [
           {
            "colorbar": {
             "outlinewidth": 0,
             "ticks": ""
            },
            "type": "mesh3d"
           }
          ],
          "parcoords": [
           {
            "line": {
             "colorbar": {
              "outlinewidth": 0,
              "ticks": ""
             }
            },
            "type": "parcoords"
           }
          ],
          "pie": [
           {
            "automargin": true,
            "type": "pie"
           }
          ],
          "scatter": [
           {
            "fillpattern": {
             "fillmode": "overlay",
             "size": 10,
             "solidity": 0.2
            },
            "type": "scatter"
           }
          ],
          "scatter3d": [
           {
            "line": {
             "colorbar": {
              "outlinewidth": 0,
              "ticks": ""
             }
            },
            "marker": {
             "colorbar": {
              "outlinewidth": 0,
              "ticks": ""
             }
            },
            "type": "scatter3d"
           }
          ],
          "scattercarpet": [
           {
            "marker": {
             "colorbar": {
              "outlinewidth": 0,
              "ticks": ""
             }
            },
            "type": "scattercarpet"
           }
          ],
          "scattergeo": [
           {
            "marker": {
             "colorbar": {
              "outlinewidth": 0,
              "ticks": ""
             }
            },
            "type": "scattergeo"
           }
          ],
          "scattergl": [
           {
            "marker": {
             "colorbar": {
              "outlinewidth": 0,
              "ticks": ""
             }
            },
            "type": "scattergl"
           }
          ],
          "scattermapbox": [
           {
            "marker": {
             "colorbar": {
              "outlinewidth": 0,
              "ticks": ""
             }
            },
            "type": "scattermapbox"
           }
          ],
          "scatterpolar": [
           {
            "marker": {
             "colorbar": {
              "outlinewidth": 0,
              "ticks": ""
             }
            },
            "type": "scatterpolar"
           }
          ],
          "scatterpolargl": [
           {
            "marker": {
             "colorbar": {
              "outlinewidth": 0,
              "ticks": ""
             }
            },
            "type": "scatterpolargl"
           }
          ],
          "scatterternary": [
           {
            "marker": {
             "colorbar": {
              "outlinewidth": 0,
              "ticks": ""
             }
            },
            "type": "scatterternary"
           }
          ],
          "surface": [
           {
            "colorbar": {
             "outlinewidth": 0,
             "ticks": ""
            },
            "colorscale": [
             [
              0,
              "#0d0887"
             ],
             [
              0.1111111111111111,
              "#46039f"
             ],
             [
              0.2222222222222222,
              "#7201a8"
             ],
             [
              0.3333333333333333,
              "#9c179e"
             ],
             [
              0.4444444444444444,
              "#bd3786"
             ],
             [
              0.5555555555555556,
              "#d8576b"
             ],
             [
              0.6666666666666666,
              "#ed7953"
             ],
             [
              0.7777777777777778,
              "#fb9f3a"
             ],
             [
              0.8888888888888888,
              "#fdca26"
             ],
             [
              1,
              "#f0f921"
             ]
            ],
            "type": "surface"
           }
          ],
          "table": [
           {
            "cells": {
             "fill": {
              "color": "#EBF0F8"
             },
             "line": {
              "color": "white"
             }
            },
            "header": {
             "fill": {
              "color": "#C8D4E3"
             },
             "line": {
              "color": "white"
             }
            },
            "type": "table"
           }
          ]
         },
         "layout": {
          "annotationdefaults": {
           "arrowcolor": "#2a3f5f",
           "arrowhead": 0,
           "arrowwidth": 1
          },
          "autotypenumbers": "strict",
          "coloraxis": {
           "colorbar": {
            "outlinewidth": 0,
            "ticks": ""
           }
          },
          "colorscale": {
           "diverging": [
            [
             0,
             "#8e0152"
            ],
            [
             0.1,
             "#c51b7d"
            ],
            [
             0.2,
             "#de77ae"
            ],
            [
             0.3,
             "#f1b6da"
            ],
            [
             0.4,
             "#fde0ef"
            ],
            [
             0.5,
             "#f7f7f7"
            ],
            [
             0.6,
             "#e6f5d0"
            ],
            [
             0.7,
             "#b8e186"
            ],
            [
             0.8,
             "#7fbc41"
            ],
            [
             0.9,
             "#4d9221"
            ],
            [
             1,
             "#276419"
            ]
           ],
           "sequential": [
            [
             0,
             "#0d0887"
            ],
            [
             0.1111111111111111,
             "#46039f"
            ],
            [
             0.2222222222222222,
             "#7201a8"
            ],
            [
             0.3333333333333333,
             "#9c179e"
            ],
            [
             0.4444444444444444,
             "#bd3786"
            ],
            [
             0.5555555555555556,
             "#d8576b"
            ],
            [
             0.6666666666666666,
             "#ed7953"
            ],
            [
             0.7777777777777778,
             "#fb9f3a"
            ],
            [
             0.8888888888888888,
             "#fdca26"
            ],
            [
             1,
             "#f0f921"
            ]
           ],
           "sequentialminus": [
            [
             0,
             "#0d0887"
            ],
            [
             0.1111111111111111,
             "#46039f"
            ],
            [
             0.2222222222222222,
             "#7201a8"
            ],
            [
             0.3333333333333333,
             "#9c179e"
            ],
            [
             0.4444444444444444,
             "#bd3786"
            ],
            [
             0.5555555555555556,
             "#d8576b"
            ],
            [
             0.6666666666666666,
             "#ed7953"
            ],
            [
             0.7777777777777778,
             "#fb9f3a"
            ],
            [
             0.8888888888888888,
             "#fdca26"
            ],
            [
             1,
             "#f0f921"
            ]
           ]
          },
          "colorway": [
           "#636efa",
           "#EF553B",
           "#00cc96",
           "#ab63fa",
           "#FFA15A",
           "#19d3f3",
           "#FF6692",
           "#B6E880",
           "#FF97FF",
           "#FECB52"
          ],
          "font": {
           "color": "#2a3f5f"
          },
          "geo": {
           "bgcolor": "white",
           "lakecolor": "white",
           "landcolor": "#E5ECF6",
           "showlakes": true,
           "showland": true,
           "subunitcolor": "white"
          },
          "hoverlabel": {
           "align": "left"
          },
          "hovermode": "closest",
          "mapbox": {
           "style": "light"
          },
          "paper_bgcolor": "white",
          "plot_bgcolor": "#E5ECF6",
          "polar": {
           "angularaxis": {
            "gridcolor": "white",
            "linecolor": "white",
            "ticks": ""
           },
           "bgcolor": "#E5ECF6",
           "radialaxis": {
            "gridcolor": "white",
            "linecolor": "white",
            "ticks": ""
           }
          },
          "scene": {
           "xaxis": {
            "backgroundcolor": "#E5ECF6",
            "gridcolor": "white",
            "gridwidth": 2,
            "linecolor": "white",
            "showbackground": true,
            "ticks": "",
            "zerolinecolor": "white"
           },
           "yaxis": {
            "backgroundcolor": "#E5ECF6",
            "gridcolor": "white",
            "gridwidth": 2,
            "linecolor": "white",
            "showbackground": true,
            "ticks": "",
            "zerolinecolor": "white"
           },
           "zaxis": {
            "backgroundcolor": "#E5ECF6",
            "gridcolor": "white",
            "gridwidth": 2,
            "linecolor": "white",
            "showbackground": true,
            "ticks": "",
            "zerolinecolor": "white"
           }
          },
          "shapedefaults": {
           "line": {
            "color": "#2a3f5f"
           }
          },
          "ternary": {
           "aaxis": {
            "gridcolor": "white",
            "linecolor": "white",
            "ticks": ""
           },
           "baxis": {
            "gridcolor": "white",
            "linecolor": "white",
            "ticks": ""
           },
           "bgcolor": "#E5ECF6",
           "caxis": {
            "gridcolor": "white",
            "linecolor": "white",
            "ticks": ""
           }
          },
          "title": {
           "x": 0.05
          },
          "xaxis": {
           "automargin": true,
           "gridcolor": "white",
           "linecolor": "white",
           "ticks": "",
           "title": {
            "standoff": 15
           },
           "zerolinecolor": "white",
           "zerolinewidth": 2
          },
          "yaxis": {
           "automargin": true,
           "gridcolor": "white",
           "linecolor": "white",
           "ticks": "",
           "title": {
            "standoff": 15
           },
           "zerolinecolor": "white",
           "zerolinewidth": 2
          }
         }
        }
       }
      }
     },
     "metadata": {},
     "output_type": "display_data"
    }
   ],
   "source": [
    "coords = [[31.81, 90.35,10], [32.51, 90.85,10], [32.21, 91.55,10], [32.03, 91.85,10], [34.31, 93.45,10], [32.69, 96.27,10],[30.99, 95.15,10], [32.21, 92.93,10],[30.89, 91.97,10],[31.81, 90.35,10]]\n",
    "\n",
    "create_plane(coords)"
   ]
  }
 ],
 "metadata": {
  "kernelspec": {
   "display_name": "Python 3",
   "language": "python",
   "name": "python3"
  },
  "language_info": {
   "codemirror_mode": {
    "name": "ipython",
    "version": 3
   },
   "file_extension": ".py",
   "mimetype": "text/x-python",
   "name": "python",
   "nbconvert_exporter": "python",
   "pygments_lexer": "ipython3",
   "version": "3.11.3"
  }
 },
 "nbformat": 4,
 "nbformat_minor": 2
}
