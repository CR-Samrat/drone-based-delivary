{
 "cells": [
  {
   "cell_type": "code",
   "execution_count": 38,
   "metadata": {},
   "outputs": [],
   "source": [
    "import numpy as np\n",
    "import pandas as pd\n",
    "import matplotlib.pyplot as plt\n",
    "import random"
   ]
  },
  {
   "cell_type": "markdown",
   "metadata": {},
   "source": [
    "## Creating delivary locations"
   ]
  },
  {
   "cell_type": "code",
   "execution_count": 39,
   "metadata": {},
   "outputs": [],
   "source": [
    "def create_delivary(x,y,n):\n",
    "    x_range = [x[0], y[0]]\n",
    "    y_range = [x[1], y[1]]\n",
    "    loc = []\n",
    "\n",
    "    for i in range(n):\n",
    "        x_loc = random.uniform(x_range[0], x_range[1])\n",
    "        y_loc = random.uniform(y_range[0], y_range[1])\n",
    "        loc.append([x_loc, y_loc])\n",
    "\n",
    "    return loc"
   ]
  },
  {
   "cell_type": "markdown",
   "metadata": {},
   "source": [
    "## Visualizations"
   ]
  },
  {
   "cell_type": "code",
   "execution_count": 40,
   "metadata": {},
   "outputs": [],
   "source": [
    "def primary_plot(delivary_loc, obstacles):\n",
    "    delivary_loc = np.array(delivary_loc)\n",
    "    plt.scatter(delivary_loc[:,0], delivary_loc[:,1], label=\"Delivary loc\")\n",
    "\n",
    "    for obstacle_id, points in obstacles.items():\n",
    "        start_x, start_y = points[0]\n",
    "        end_x, end_y = points[1]\n",
    "        plt.fill([start_x, end_x, end_x, start_x], [start_y, start_y, end_y, end_y],\n",
    "                 label=\"Obstacle\", alpha=0.7, color='red')\n",
    "    # plt.legend()"
   ]
  },
  {
   "cell_type": "code",
   "execution_count": 41,
   "metadata": {},
   "outputs": [],
   "source": [
    "def plot_dp(dp, delivary_loc, obstacles):\n",
    "    primary_plot(delivary_loc, obstacles)\n",
    "    plt.scatter(dp[0], dp[1], marker='^', c=\"black\", label = \"DP\")\n",
    "    # plt.legend()\n",
    "    # plt.show()"
   ]
  },
  {
   "cell_type": "code",
   "execution_count": 42,
   "metadata": {},
   "outputs": [],
   "source": [
    "def plot_initial_route(dp, delivary_loc, obstacles, route):\n",
    "    plot_dp(dp, delivary_loc, obstacles)\n",
    "    for i in range(len(route)-1):\n",
    "        f_pt = np.array([route[i][0], route[i+1][0]])\n",
    "        s_pt = np.array([route[i][1], route[i+1][1]])\n",
    "        plt.plot(f_pt, s_pt, c=\"gray\")"
   ]
  },
  {
   "cell_type": "markdown",
   "metadata": {},
   "source": [
    "## Calculate DP"
   ]
  },
  {
   "cell_type": "code",
   "execution_count": 43,
   "metadata": {},
   "outputs": [],
   "source": [
    "def calculate_dp(delivary_loc):\n",
    "    x = [i for i,j in delivary_loc]\n",
    "    y = [j for i,j in delivary_loc]\n",
    "\n",
    "    x_axis = np.mean(x)\n",
    "    y_axis = np.mean(y)\n",
    "\n",
    "    return [x_axis, y_axis]"
   ]
  },
  {
   "cell_type": "markdown",
   "metadata": {},
   "source": [
    "## Create Route"
   ]
  },
  {
   "cell_type": "code",
   "execution_count": 44,
   "metadata": {},
   "outputs": [],
   "source": [
    "def create_route(pts, extra):\n",
    "    idx = 0\n",
    "    k = len(pts)\n",
    "    for i in range(k):\n",
    "        pts.insert(idx, extra)\n",
    "        idx +=2\n",
    "\n",
    "    return pts"
   ]
  },
  {
   "cell_type": "markdown",
   "metadata": {},
   "source": [
    "## Distance Calculate"
   ]
  },
  {
   "cell_type": "code",
   "execution_count": 45,
   "metadata": {},
   "outputs": [],
   "source": [
    "def euc_distance(pt1, pt2):\n",
    "    pt1 = np.array(pt1)\n",
    "    pt2 = np.array(pt2)\n",
    "    return np.sqrt(np.sum((pt2 - pt1)**2))"
   ]
  },
  {
   "cell_type": "code",
   "execution_count": 46,
   "metadata": {},
   "outputs": [],
   "source": [
    "def total_dist(pts):\n",
    "    sum = 0\n",
    "    for i in range(len(pts)-1):\n",
    "        sum += euc_distance(pts[i], pts[i+1])\n",
    "\n",
    "    return sum"
   ]
  },
  {
   "cell_type": "markdown",
   "metadata": {},
   "source": [
    "## Check for obstacles"
   ]
  },
  {
   "cell_type": "code",
   "execution_count": 47,
   "metadata": {},
   "outputs": [],
   "source": [
    "def check_obstacle(route):\n",
    "    for i in range(len(route)-1,2):\n",
    "        print(route[i],\"->\",route[i+1])"
   ]
  },
  {
   "cell_type": "markdown",
   "metadata": {},
   "source": [
    "## Main"
   ]
  },
  {
   "cell_type": "code",
   "execution_count": 48,
   "metadata": {},
   "outputs": [],
   "source": [
    "# pre-assumptions\n",
    "x = [22.21, 88.45]\n",
    "y = [32.45, 98.67]\n",
    "n = 5\n",
    "\n",
    "# answers\n",
    "optimal_dp = []\n",
    "optimal_route = []\n",
    "\n",
    "# Creating delivary points\n",
    "delivary_loc = create_delivary(x,y,n)"
   ]
  },
  {
   "cell_type": "code",
   "execution_count": 49,
   "metadata": {},
   "outputs": [
    {
     "data": {
      "image/png": "[encoded data removed]",
      "text/plain": [
       "<Figure size 640x480 with 1 Axes>"
      ]
     },
     "metadata": {},
     "output_type": "display_data"
    }
   ],
   "source": [
    "# creating obstacles\n",
    "obstacles = {\n",
    "    0 : [[28.35, 93.65],[28.65, 93.95]],\n",
    "    1 : [[25.15, 89.55],[25.35, 89.85]]\n",
    "}\n",
    "\n",
    "primary_plot(delivary_loc, obstacles)"
   ]
  },
  {
   "cell_type": "code",
   "execution_count": 50,
   "metadata": {},
   "outputs": [
    {
     "data": {
      "image/png": "[encoded data removed]",
      "text/plain": [
       "<Figure size 640x480 with 1 Axes>"
      ]
     },
     "metadata": {},
     "output_type": "display_data"
    }
   ],
   "source": [
    "# creating initial dp\n",
    "initial_dp = calculate_dp(delivary_loc)\n",
    "\n",
    "# visualize dp\n",
    "plot_dp(initial_dp, delivary_loc, obstacles)"
   ]
  },
  {
   "cell_type": "markdown",
   "metadata": {},
   "source": [
    "*calculate total distance from the initial dp*"
   ]
  },
  {
   "cell_type": "code",
   "execution_count": 51,
   "metadata": {},
   "outputs": [
    {
     "name": "stdout",
     "output_type": "stream",
     "text": [
      "[28.127012072977045, 93.45984656836987] -> [26.11622706410857, 89.34727066651446] -> [28.127012072977045, 93.45984656836987] -> [29.810790031432365, 94.75334794651202] -> [28.127012072977045, 93.45984656836987] -> [29.818811545294547, 94.65435434803385] -> [28.127012072977045, 93.45984656836987] -> [31.41017776535918, 94.33065425461623] -> [28.127012072977045, 93.45984656836987] -> [23.479053958690553, 94.21360562617275] -> End\n"
     ]
    }
   ],
   "source": [
    "# calculate route\n",
    "initial_route = create_route(delivary_loc,initial_dp)\n",
    "\n",
    "for i in initial_route:\n",
    "    print(i,\"->\",end=\" \")\n",
    "print(\"End\")"
   ]
  },
  {
   "cell_type": "code",
   "execution_count": 52,
   "metadata": {},
   "outputs": [
    {
     "name": "stdout",
     "output_type": "stream",
     "text": [
      "Optimal Distance : 29.04624282521999\n"
     ]
    },
    {
     "data": {
      "image/png": "[encoded data removed]",
      "text/plain": [
       "<Figure size 640x480 with 1 Axes>"
      ]
     },
     "metadata": {},
     "output_type": "display_data"
    }
   ],
   "source": [
    "# calculating distance\n",
    "initial_dist = total_dist(initial_route)\n",
    "\n",
    "print(\"Optimal Distance :\",initial_dist)\n",
    "\n",
    "# Visualization\n",
    "plot_initial_route(initial_dp, delivary_loc, obstacles, initial_route)"
   ]
  },
  {
   "cell_type": "markdown",
   "metadata": {},
   "source": [
    "*check for obstacles in the path, if no obstacle then it is optimal dp and optimal path*"
   ]
  },
  {
   "cell_type": "code",
   "execution_count": 53,
   "metadata": {},
   "outputs": [],
   "source": [
    "from shapely.geometry import LineString, Polygon\n",
    "\n",
    "def check_obstacle_in_line(point_a, point_b, obstacles):\n",
    "  line = LineString([point_a, point_b])\n",
    "\n",
    "  for obstacle_id, points in obstacles.items():\n",
    "    pt1 = points[0]\n",
    "    pt2 = points[1]\n",
    "    coord = [[pt1[0],pt1[1]], [pt2[0],pt1[1]], [pt2[0], pt2[1]], [pt1[0], pt2[1]], [pt1[0],pt1[1]]]\n",
    "    obstacle = Polygon(coord)\n",
    "    if line.intersects(obstacle):\n",
    "      return True\n",
    "\n",
    "  return False"
   ]
  },
  {
   "cell_type": "code",
   "execution_count": 54,
   "metadata": {},
   "outputs": [],
   "source": [
    "def detect_obstacle(route, obstacles):\n",
    "    for i in range(0,len(route)-1,2):\n",
    "        if check_obstacle_in_line(route[i],route[i+1], obstacles):\n",
    "            return True\n",
    "    return False"
   ]
  },
  {
   "cell_type": "code",
   "execution_count": 56,
   "metadata": {},
   "outputs": [
    {
     "name": "stdout",
     "output_type": "stream",
     "text": [
      "Its not the optimal solution\n",
      "Optimal dp : []\n",
      "Optimal route : []\n"
     ]
    }
   ],
   "source": [
    "if(detect_obstacle(initial_route, obstacles)):\n",
    "    #  change the route to avoid obstacle\n",
    "    #  if new distance is below the threshold value then its optimal\n",
    "    #  Otherwise calculate another dp that will contain no obstacle\n",
    "\n",
    "    print(\"Its not the optimal solution\")\n",
    "else:\n",
    "    optimal_dp = initial_dp\n",
    "    optimal_route = initial_route\n",
    "\n",
    "print(\"Optimal dp :\",optimal_dp)\n",
    "print(\"Optimal route :\",optimal_route)"
   ]
  }
 ],
 "metadata": {
  "kernelspec": {
   "display_name": "Python 3",
   "language": "python",
   "name": "python3"
  },
  "language_info": {
   "codemirror_mode": {
    "name": "ipython",
    "version": 3
   },
   "file_extension": ".py",
   "mimetype": "text/x-python",
   "name": "python",
   "nbconvert_exporter": "python",
   "pygments_lexer": "ipython3",
   "version": "3.11.3"
  }
 },
 "nbformat": 4,
 "nbformat_minor": 2
}
