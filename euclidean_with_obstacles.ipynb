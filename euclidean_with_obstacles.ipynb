{
 "cells": [
  {
   "cell_type": "code",
   "execution_count": 3094,
   "metadata": {},
   "outputs": [],
   "source": [
    "import numpy as np\n",
    "import pandas as pd\n",
    "import matplotlib.pyplot as plt\n",
    "import random"
   ]
  },
  {
   "cell_type": "markdown",
   "metadata": {},
   "source": [
    "## Creating delivary locations"
   ]
  },
  {
   "cell_type": "code",
   "execution_count": 3095,
   "metadata": {},
   "outputs": [],
   "source": [
    "def create_delivary(x,y,n):\n",
    "    x_range = [x[0], y[0]]\n",
    "    y_range = [x[1], y[1]]\n",
    "    loc = []\n",
    "\n",
    "    for i in range(n):\n",
    "        x_loc = random.uniform(x_range[0], x_range[1])\n",
    "        y_loc = random.uniform(y_range[0], y_range[1])\n",
    "        loc.append([x_loc, y_loc])\n",
    "\n",
    "    return loc"
   ]
  },
  {
   "cell_type": "markdown",
   "metadata": {},
   "source": [
    "## Visualizations"
   ]
  },
  {
   "cell_type": "code",
   "execution_count": 3096,
   "metadata": {},
   "outputs": [],
   "source": [
    "def primary_plot(delivary_loc, obstacles):\n",
    "    delivary_loc = np.array(delivary_loc)\n",
    "    plt.scatter(delivary_loc[:,0], delivary_loc[:,1], label=\"Delivary loc\")\n",
    "\n",
    "    for obstacle_id, points in obstacles.items():\n",
    "        start_x, start_y = points[0]\n",
    "        end_x, end_y = points[1]\n",
    "        plt.fill([start_x, end_x, end_x, start_x], [start_y, start_y, end_y, end_y],\n",
    "                 label=\"Obstacle\", alpha=0.7, color='red')\n",
    "    # plt.legend()"
   ]
  },
  {
   "cell_type": "code",
   "execution_count": 3097,
   "metadata": {},
   "outputs": [],
   "source": [
    "def plot_dp(dp, delivary_loc, obstacles):\n",
    "    primary_plot(delivary_loc, obstacles)\n",
    "    plt.scatter(dp[0], dp[1], marker='^', c=\"black\", label = \"DP\")\n",
    "    # plt.legend()\n",
    "    # plt.show()"
   ]
  },
  {
   "cell_type": "code",
   "execution_count": 3098,
   "metadata": {},
   "outputs": [],
   "source": [
    "def plot_initial_route(dp, delivary_loc, obstacles, route):\n",
    "    plot_dp(dp, delivary_loc, obstacles)\n",
    "    for i in range(len(route)-1):\n",
    "        f_pt = np.array([route[i][0], route[i+1][0]])\n",
    "        s_pt = np.array([route[i][1], route[i+1][1]])\n",
    "        plt.plot(f_pt, s_pt, c=\"gray\")"
   ]
  },
  {
   "cell_type": "markdown",
   "metadata": {},
   "source": [
    "## Calculate DP"
   ]
  },
  {
   "cell_type": "code",
   "execution_count": 3099,
   "metadata": {},
   "outputs": [],
   "source": [
    "def calculate_dp(delivary_loc):\n",
    "    x = [i for i,j in delivary_loc]\n",
    "    y = [j for i,j in delivary_loc]\n",
    "\n",
    "    x_axis = np.mean(x)\n",
    "    y_axis = np.mean(y)\n",
    "\n",
    "    return [x_axis, y_axis]"
   ]
  },
  {
   "cell_type": "markdown",
   "metadata": {},
   "source": [
    "## Create Route"
   ]
  },
  {
   "cell_type": "code",
   "execution_count": 3100,
   "metadata": {},
   "outputs": [],
   "source": [
    "def create_route(pts, extra):\n",
    "    idx = 0\n",
    "    k = len(pts)\n",
    "    for i in range(k):\n",
    "        pts.insert(idx, extra)\n",
    "        idx +=2\n",
    "\n",
    "    pts.append(extra)\n",
    "    return pts"
   ]
  },
  {
   "cell_type": "markdown",
   "metadata": {},
   "source": [
    "## Distance Calculate"
   ]
  },
  {
   "cell_type": "code",
   "execution_count": 3101,
   "metadata": {},
   "outputs": [],
   "source": [
    "def euc_distance(pt1, pt2):\n",
    "    pt1 = np.array(pt1)\n",
    "    pt2 = np.array(pt2)\n",
    "    return np.sqrt(np.sum((pt2 - pt1)**2))"
   ]
  },
  {
   "cell_type": "code",
   "execution_count": 3102,
   "metadata": {},
   "outputs": [],
   "source": [
    "def total_dist(pts):\n",
    "    sum = 0\n",
    "    for i in range(len(pts)-1):\n",
    "        sum += euc_distance(pts[i], pts[i+1])\n",
    "\n",
    "    return sum"
   ]
  },
  {
   "cell_type": "markdown",
   "metadata": {},
   "source": [
    "## Check for obstacles"
   ]
  },
  {
   "cell_type": "code",
   "execution_count": 3103,
   "metadata": {},
   "outputs": [],
   "source": [
    "from shapely.geometry import LineString, Polygon, Point\n",
    "\n",
    "def check_obstacle_in_line(point_a, point_b, obstacles):\n",
    "  line = LineString([point_a, point_b])\n",
    "\n",
    "  for obstacle_id, points in obstacles.items():\n",
    "    pt1 = points[0]\n",
    "    pt2 = points[1]\n",
    "    coord = [[pt1[0],pt1[1]], [pt2[0],pt1[1]], [pt2[0], pt2[1]], [pt1[0], pt2[1]], [pt1[0],pt1[1]]]\n",
    "    obstacle = Polygon(coord)\n",
    "    if line.intersects(obstacle):\n",
    "      return True\n",
    "\n",
    "  return False"
   ]
  },
  {
   "cell_type": "code",
   "execution_count": 3104,
   "metadata": {},
   "outputs": [],
   "source": [
    "def detect_obstacle(route, obstacles):\n",
    "    for i in range(0,len(route)-1,2):\n",
    "        if check_obstacle_in_line(route[i],route[i+1], obstacles):\n",
    "            return True\n",
    "    return False"
   ]
  },
  {
   "cell_type": "markdown",
   "metadata": {},
   "source": [
    "## Generate Intermediate Point"
   ]
  },
  {
   "cell_type": "code",
   "execution_count": 3105,
   "metadata": {},
   "outputs": [],
   "source": [
    "import math\n",
    "\n",
    "def find_inter_point(point_a, point_b, obstacles):\n",
    "    route_line = LineString([point_a, point_b])\n",
    "\n",
    "    # Find all intersections with obstacles (including edges)\n",
    "    intersections = []\n",
    "    for obstacle_id, points in obstacles.items():\n",
    "        pt1 = points[0]\n",
    "        pt2 = points[1]\n",
    "        coord = [[pt1[0],pt1[1]], [pt2[0],pt1[1]], [pt2[0], pt2[1]], [pt1[0], pt2[1]], [pt1[0],pt1[1]]]\n",
    "        obstacle = Polygon(coord)\n",
    "        for i in range(len(obstacle.exterior.coords) - 1):\n",
    "            start, end = obstacle.exterior.coords[i], obstacle.exterior.coords[i + 1]\n",
    "            line = LineString([start, end])\n",
    "            if route_line.intersects(line):\n",
    "                intersections.append(route_line.intersection(line))\n",
    "\n",
    "    # If no intersections found, return None\n",
    "    if not intersections:\n",
    "        return None\n",
    "\n",
    "    # Calculate distances from each intersection to A and B\n",
    "    distances = {}\n",
    "    for inter in intersections:\n",
    "        dist_to_a = math.sqrt(((inter.x - point_a[0]) ** 2) + ((inter.y - point_a[1]) ** 2))\n",
    "        dist_to_b = math.sqrt(((inter.x - point_b[0]) ** 2) + ((inter.y - point_b[1]) ** 2))\n",
    "        distances[inter] = dist_to_a + dist_to_b\n",
    "\n",
    "    # Choose the intersection with the smallest sum of distances to A and B\n",
    "    nearest_inter = min(distances, key=distances.get)\n",
    "\n",
    "    # Check if there's a clear path along either side of the obstacle\n",
    "    left_side = LineString([point_a, Point(nearest_inter.x - 0.5, nearest_inter.y)])\n",
    "    right_side = LineString([point_a, Point(nearest_inter.x + 0.5, nearest_inter.y)])\n",
    "    if not (left_side.intersects(obstacle) or right_side.intersects(obstacle)):\n",
    "        # Choose the side that leads closer to B\n",
    "        if left_side.distance(Point(point_b[0], point_b[1])) < right_side.distance(Point(point_b[0], point_b[1])):\n",
    "            new_point = Point(nearest_inter.x - 0.5, nearest_inter.y)\n",
    "        else:\n",
    "            new_point = Point(nearest_inter.x + 0.5, nearest_inter.y)\n",
    "        return [new_point.x, new_point.y]\n",
    "\n",
    "    # If no clear path on either side, find the nearest corner of the obstacle\n",
    "    obstacle_corners = [points[0], points[1], points[2], points[3]]\n",
    "    nearest_corner = min(obstacle_corners, key=lambda corner: math.sqrt(((corner[0] - nearest_inter.x) ** 2) + ((corner[1] - nearest_inter.y) ** 2)))\n",
    "\n",
    "    # Check if both offset points along the y-axis are not inside the obstacle\n",
    "    sol_1 = Point([nearest_corner[0], nearest_corner[1] + 0.5])\n",
    "    sol_2 = Point([nearest_corner[0], nearest_corner[1] - 0.5])\n",
    "    if not (sol_1.intersects(obstacle) and sol_2.intersects(obstacle)):\n",
    "        # Choose the offset point closer to B\n",
    "        if sol_1.distance(Point(point_b[0], point_b[1])) < sol_2.distance(Point(point_b[0],point_b[1])):\n",
    "            return [sol_1.x, sol_1.y]\n",
    "        else:\n",
    "            return [sol_2.x, sol_2.y]\n",
    "\n",
    "    # If no acceptable solution found, return None\n",
    "    return None"
   ]
  },
  {
   "cell_type": "code",
   "execution_count": 3106,
   "metadata": {},
   "outputs": [],
   "source": [
    "def adv_route(route, dp, obstacles):\n",
    "    for i in range(len(route)):\n",
    "        if route[i] != dp:\n",
    "            continue\n",
    "        if check_obstacle_in_line(route[i],route[i+1], obstacles):\n",
    "            intermediate_point = find_inter_point(route[i], route[i+1], obstacles)\n",
    "            route.insert(i+1, intermediate_point)\n",
    "            route.insert(i+3, intermediate_point)\n",
    "    return route"
   ]
  },
  {
   "cell_type": "markdown",
   "metadata": {},
   "source": [
    "## Main"
   ]
  },
  {
   "cell_type": "code",
   "execution_count": 3107,
   "metadata": {},
   "outputs": [],
   "source": [
    "# pre-assumptions\n",
    "x = [22.21, 88.45]\n",
    "y = [32.45, 98.67]\n",
    "n = 5\n",
    "\n",
    "# answers\n",
    "optimal_dp = []\n",
    "optimal_route = []\n",
    "\n",
    "# Creating delivary points\n",
    "delivary_loc = create_delivary(x,y,n)"
   ]
  },
  {
   "cell_type": "code",
   "execution_count": 3108,
   "metadata": {},
   "outputs": [
    {
     "data": {
      "image/png": "[encoded data removed]",
      "text/plain": [
       "<Figure size 640x480 with 1 Axes>"
      ]
     },
     "metadata": {},
     "output_type": "display_data"
    }
   ],
   "source": [
    "# creating obstacles\n",
    "obstacles = {\n",
    "    0 : [[28.35, 93.65],[28.65, 93.95]],\n",
    "    1 : [[25.15, 89.55],[25.35, 89.85]]\n",
    "}\n",
    "\n",
    "primary_plot(delivary_loc, obstacles)"
   ]
  },
  {
   "cell_type": "code",
   "execution_count": 3109,
   "metadata": {},
   "outputs": [
    {
     "data": {
      "image/png": "[encoded data removed]",
      "text/plain": [
       "<Figure size 640x480 with 1 Axes>"
      ]
     },
     "metadata": {},
     "output_type": "display_data"
    }
   ],
   "source": [
    "# creating initial dp\n",
    "initial_dp = calculate_dp(delivary_loc)\n",
    "\n",
    "# visualize dp\n",
    "plot_dp(initial_dp, delivary_loc, obstacles)"
   ]
  },
  {
   "cell_type": "markdown",
   "metadata": {},
   "source": [
    "*calculate total distance from the initial dp*"
   ]
  },
  {
   "cell_type": "code",
   "execution_count": 3110,
   "metadata": {},
   "outputs": [
    {
     "name": "stdout",
     "output_type": "stream",
     "text": [
      "[27.6459966913141, 92.40914216832343] -> [25.99424603293837, 95.045943467191] -> [27.6459966913141, 92.40914216832343] -> [27.688476751778296, 89.08885771115666] -> [27.6459966913141, 92.40914216832343] -> [28.94348059986981, 94.13828495424936] -> [27.6459966913141, 92.40914216832343] -> [23.49031162306026, 92.7756627019649] -> [27.6459966913141, 92.40914216832343] -> [32.11346844892377, 90.9969620070552] -> [27.6459966913141, 92.40914216832343] -> End\n"
     ]
    }
   ],
   "source": [
    "# calculate route\n",
    "initial_route = create_route(delivary_loc,initial_dp)\n",
    "\n",
    "for i in initial_route:\n",
    "    print(i,\"->\",end=\" \")\n",
    "print(\"End\")"
   ]
  },
  {
   "cell_type": "code",
   "execution_count": 3111,
   "metadata": {},
   "outputs": [
    {
     "name": "stdout",
     "output_type": "stream",
     "text": [
      "Initial Distance : 34.90192793898711\n"
     ]
    },
    {
     "data": {
      "image/png": "[encoded data removed]",
      "text/plain": [
       "<Figure size 640x480 with 1 Axes>"
      ]
     },
     "metadata": {},
     "output_type": "display_data"
    }
   ],
   "source": [
    "# calculating distance\n",
    "initial_dist = total_dist(initial_route)\n",
    "\n",
    "print(\"Initial Distance :\",initial_dist)\n",
    "\n",
    "# Visualization\n",
    "plot_initial_route(initial_dp, delivary_loc, obstacles, initial_route)"
   ]
  },
  {
   "cell_type": "markdown",
   "metadata": {},
   "source": [
    "*check for obstacles in the path, if no obstacle then it is optimal dp and optimal path*"
   ]
  },
  {
   "cell_type": "code",
   "execution_count": 3112,
   "metadata": {},
   "outputs": [
    {
     "name": "stdout",
     "output_type": "stream",
     "text": [
      "Optimal dp : [27.6459966913141, 92.40914216832343]\n",
      "Optimal route : [[27.6459966913141, 92.40914216832343], [25.99424603293837, 95.045943467191], [27.6459966913141, 92.40914216832343], [27.688476751778296, 89.08885771115666], [27.6459966913141, 92.40914216832343], [29.077089879516926, 93.65], [28.94348059986981, 94.13828495424936], [29.077089879516926, 93.65], [27.6459966913141, 92.40914216832343], [23.49031162306026, 92.7756627019649], [27.6459966913141, 92.40914216832343], [32.11346844892377, 90.9969620070552], [27.6459966913141, 92.40914216832343]]\n"
     ]
    }
   ],
   "source": [
    "THRESHOLD = initial_dist + (initial_dist*0.03)\n",
    "\n",
    "if(detect_obstacle(initial_route, obstacles)):\n",
    "    new_route = adv_route(initial_route, initial_dp, obstacles)\n",
    "    new_dist = total_dist(new_route)\n",
    "    if new_dist <= THRESHOLD:\n",
    "        optimal_dp = initial_dp\n",
    "        optimal_route = new_route\n",
    "    # else relocate the dp\n",
    "else:\n",
    "    optimal_dp = initial_dp\n",
    "    optimal_route = initial_route\n",
    "\n",
    "print(\"Optimal dp :\",optimal_dp)\n",
    "print(\"Optimal route :\",optimal_route)"
   ]
  },
  {
   "cell_type": "markdown",
   "metadata": {},
   "source": [
    "## Result"
   ]
  },
  {
   "cell_type": "code",
   "execution_count": 3113,
   "metadata": {},
   "outputs": [
    {
     "data": {
      "image/png": "[encoded data removed]",
      "text/plain": [
       "<Figure size 640x480 with 1 Axes>"
      ]
     },
     "metadata": {},
     "output_type": "display_data"
    }
   ],
   "source": [
    "plot_initial_route(optimal_dp,delivary_loc, obstacles, optimal_route)"
   ]
  }
 ],
 "metadata": {
  "kernelspec": {
   "display_name": "Python 3",
   "language": "python",
   "name": "python3"
  },
  "language_info": {
   "codemirror_mode": {
    "name": "ipython",
    "version": 3
   },
   "file_extension": ".py",
   "mimetype": "text/x-python",
   "name": "python",
   "nbconvert_exporter": "python",
   "pygments_lexer": "ipython3",
   "version": "3.11.3"
  }
 },
 "nbformat": 4,
 "nbformat_minor": 2
}
